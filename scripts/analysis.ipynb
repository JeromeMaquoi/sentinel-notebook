{
 "cells": [
  {
   "cell_type": "markdown",
   "metadata": {},
   "source": [
    "## Spring-boot analysis"
   ]
  },
  {
   "cell_type": "code",
   "execution_count": null,
   "metadata": {},
   "outputs": [],
   "source": [
    "import project_data\n",
    "import importlib\n",
    "importlib.reload(project_data)\n",
    "from project_data import ProjectData\n",
    "\n",
    "data_spring_boot = ProjectData.import_for_project_from_csv(\"../data/data.csv\", \"spring-boot\")\n",
    "\n",
    "# ---------------------\n",
    "# 5 highest call traces\n",
    "# ---------------------\n",
    "# Gets the 5 more energy intensive call traces\n",
    "highest_spring_boot = data_spring_boot.filter_highest()\n",
    "# Shows their mean and standard deviation for comparison with the ones from the csv file\n",
    "highest_spring_boot.show_mean_and_std_dev()\n",
    "# Plots the distribution of the call traces and exports them to pdf\n",
    "highest_spring_boot.plot_quantiles(highest=True, save=True)\n",
    "\n",
    "# --------------------\n",
    "# 5 lowest call traces\n",
    "# --------------------\n",
    "lowest_spring_boot = data_spring_boot.filter_lowest()\n",
    "lowest_spring_boot.show_mean_and_std_dev()\n",
    "lowest_spring_boot.plot_quantiles(highest=False, save=True)"
   ]
  },
  {
   "cell_type": "markdown",
   "metadata": {},
   "source": [
    "## Spoon analysis"
   ]
  },
  {
   "cell_type": "code",
   "execution_count": null,
   "metadata": {},
   "outputs": [],
   "source": [
    "from project_data import ProjectData\n",
    "\n",
    "data_spoon = ProjectData.import_for_project_from_csv(\"../data/data.csv\", \"spoon\")\n",
    "\n",
    "highest_spoon = data_spoon.filter_highest()\n",
    "highest_spoon.show_mean_and_std_dev()\n",
    "highest_spoon.plot_quantiles(highest=True, save=True)\n",
    "\n",
    "lowest_spoon = data_spoon.filter_lowest()\n",
    "lowest_spoon.show_mean_and_std_dev()\n",
    "lowest_spoon.plot_quantiles(highest=False, save=True)"
   ]
  }
 ],
 "metadata": {
  "kernelspec": {
   "display_name": ".venv",
   "language": "python",
   "name": "python3"
  },
  "language_info": {
   "codemirror_mode": {
    "name": "ipython",
    "version": 3
   },
   "file_extension": ".py",
   "mimetype": "text/x-python",
   "name": "python",
   "nbconvert_exporter": "python",
   "pygments_lexer": "ipython3",
   "version": "3.9.13"
  }
 },
 "nbformat": 4,
 "nbformat_minor": 2
}
