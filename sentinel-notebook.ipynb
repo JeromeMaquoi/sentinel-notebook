{
 "cells": [
  {
   "cell_type": "markdown",
   "id": "fb1cc479",
   "metadata": {},
   "source": [
    "# Joular and CK data analysis"
   ]
  },
  {
   "cell_type": "code",
   "execution_count": 29,
   "id": "22105557",
   "metadata": {},
   "outputs": [],
   "source": [
    "import requests\n",
    "import plotly.express as px\n",
    "from plotly.subplots import make_subplots\n",
    "import pandas as pd\n",
    "import numpy as np\n",
    "from scipy import stats\n",
    "import plotly.graph_objects as go\n",
    "\n",
    "BASE_URL = \"http://localhost:8080/api/v1\""
   ]
  },
  {
   "cell_type": "markdown",
   "id": "099742eb",
   "metadata": {},
   "source": [
    "# Exploration of data"
   ]
  },
  {
   "cell_type": "markdown",
   "id": "feb85d1a",
   "metadata": {},
   "source": [
    "- **First objective**: aggregate all the joular data for each method and keep the methods having 30 values\n",
    "- **Second objective**: remove all the aberrant values like the values that are too high or too low compared to the other values\n",
    "- **Third objective**: sort all the data in function of their values in descending order\n",
    "- **Fourth objective**: for a few methods (those having the highest values), compare the distribution of the values with the CK analysis of this method"
   ]
  },
  {
   "cell_type": "markdown",
   "id": "68fe30cf",
   "metadata": {},
   "source": [
    "## Aggregate the joular values and getting the methods with 30 values"
   ]
  },
  {
   "cell_type": "code",
   "execution_count": 12,
   "id": "3c8e33a0",
   "metadata": {},
   "outputs": [],
   "source": [
    "def getEndpoint(endpoint, params=None):\n",
    "    URL = BASE_URL + endpoint\n",
    "    r = requests.get(url=URL, params=params)\n",
    "    return r.json()\n",
    "\n",
    "def getAllJoularDataForMethodsHaving30Values(sha=\"\"):\n",
    "    allResults = []\n",
    "    endpoint = \"/joular/aggregates/\"\n",
    "    if (sha != \"\"):\n",
    "        endpoint += \"by-commit/\" + sha\n",
    "    result = getEndpoint(endpoint)\n",
    "    allResults.extend(result[\"content\"])\n",
    "    while(not result[\"last\"]):\n",
    "        page = result[\"number\"] + 1\n",
    "        print(\"Calling page \", page)\n",
    "        result = getEndpoint(endpoint, {\"page\": page})\n",
    "        allResults.extend(result[\"content\"])\n",
    "    return allResults\n",
    "\n",
    "def getSeveralCkDataForOneMethod(commitSha: str, className: str, methodSignature: str, ckMetrics: list[str]):\n",
    "    endpoint = \"/ck-entities/by-commit-and-ast-elem/\" + commitSha\n",
    "    params = {\n",
    "        \"className\": className,\n",
    "        \"methodSignature\": methodSignature,\n",
    "        \"names\": ckMetrics\n",
    "    }\n",
    "    return getEndpoint(endpoint=endpoint, params=params)\n",
    "\n",
    "def createBoxplotJoular(repositoryName, methodSignature, allValues):\n",
    "    df = pd.DataFrame({\"allValues\":allValues})\n",
    "    fig = px.box(df, y=\"allValues\", title=\"Joular values for \" + methodSignature + \" of repository \" +repositoryName, points=\"outliers\")\n",
    "    fig.show()"
   ]
  },
  {
   "cell_type": "code",
   "execution_count": 13,
   "id": "7e72e804",
   "metadata": {},
   "outputs": [],
   "source": [
    "def removeOutliersByZScore(data, threshold=3):\n",
    "    zScores = np.abs(stats.zscore(data))\n",
    "    #zScores = np.abs((data - np.mean(data)) / np.std(data))\n",
    "    \"\"\"boolScore = zScores < threshold\n",
    "    for i in range(len(data)):\n",
    "        print(str(data[i]) + \"   \" + str(zScores[i]) + \"  \" + str(boolScore[i]))\"\"\"\n",
    "    return data[zScores < threshold]"
   ]
  },
  {
   "cell_type": "code",
   "execution_count": 14,
   "id": "9b173d47",
   "metadata": {},
   "outputs": [],
   "source": [
    "def removeOutliersByIQR(allValues):\n",
    "    df = pd.DataFrame({\"allValues\":allValues})\n",
    "    Q1 = df.quantile(0.25)\n",
    "    Q3 = df.quantile(0.75)\n",
    "    IQR = Q3 - Q1\n",
    "    \"\"\"print(\"Q1 = \", Q1[\"allValues\"])\n",
    "    print(\"Q3 = \", Q3[\"allValues\"])\n",
    "    print(\"IQR = \", IQR[\"allValues\"])\n",
    "    print(\"Lower limit = \", Q1[\"allValues\"] - 1.5 * IQR[\"allValues\"])\n",
    "    print(\"Upper limit = \", Q3[\"allValues\"] + 1.5 * IQR[\"allValues\"])\"\"\"\n",
    "    return df[~((df < (Q1 - 1.5 * IQR))|(df > (Q3 + 1.5 * IQR))).any(axis=1)]"
   ]
  },
  {
   "cell_type": "markdown",
   "id": "11d800f3",
   "metadata": {},
   "source": [
    "### Data for all repositories"
   ]
  },
  {
   "cell_type": "code",
   "execution_count": 15,
   "id": "7597470e",
   "metadata": {},
   "outputs": [
    {
     "ename": "JSONDecodeError",
     "evalue": "Expecting value: line 1 column 1 (char 0)",
     "output_type": "error",
     "traceback": [
      "\u001b[0;31m---------------------------------------------------------------------------\u001b[0m",
      "\u001b[0;31mJSONDecodeError\u001b[0m                           Traceback (most recent call last)",
      "\u001b[0;32m~/anaconda3/lib/python3.9/site-packages/requests/models.py\u001b[0m in \u001b[0;36mjson\u001b[0;34m(self, **kwargs)\u001b[0m\n\u001b[1;32m    970\u001b[0m         \u001b[0;32mtry\u001b[0m\u001b[0;34m:\u001b[0m\u001b[0;34m\u001b[0m\u001b[0;34m\u001b[0m\u001b[0m\n\u001b[0;32m--> 971\u001b[0;31m             \u001b[0;32mreturn\u001b[0m \u001b[0mcomplexjson\u001b[0m\u001b[0;34m.\u001b[0m\u001b[0mloads\u001b[0m\u001b[0;34m(\u001b[0m\u001b[0mself\u001b[0m\u001b[0;34m.\u001b[0m\u001b[0mtext\u001b[0m\u001b[0;34m,\u001b[0m \u001b[0;34m**\u001b[0m\u001b[0mkwargs\u001b[0m\u001b[0;34m)\u001b[0m\u001b[0;34m\u001b[0m\u001b[0;34m\u001b[0m\u001b[0m\n\u001b[0m\u001b[1;32m    972\u001b[0m         \u001b[0;32mexcept\u001b[0m \u001b[0mJSONDecodeError\u001b[0m \u001b[0;32mas\u001b[0m \u001b[0me\u001b[0m\u001b[0;34m:\u001b[0m\u001b[0;34m\u001b[0m\u001b[0;34m\u001b[0m\u001b[0m\n",
      "\u001b[0;32m~/anaconda3/lib/python3.9/json/__init__.py\u001b[0m in \u001b[0;36mloads\u001b[0;34m(s, cls, object_hook, parse_float, parse_int, parse_constant, object_pairs_hook, **kw)\u001b[0m\n\u001b[1;32m    345\u001b[0m             parse_constant is None and object_pairs_hook is None and not kw):\n\u001b[0;32m--> 346\u001b[0;31m         \u001b[0;32mreturn\u001b[0m \u001b[0m_default_decoder\u001b[0m\u001b[0;34m.\u001b[0m\u001b[0mdecode\u001b[0m\u001b[0;34m(\u001b[0m\u001b[0ms\u001b[0m\u001b[0;34m)\u001b[0m\u001b[0;34m\u001b[0m\u001b[0;34m\u001b[0m\u001b[0m\n\u001b[0m\u001b[1;32m    347\u001b[0m     \u001b[0;32mif\u001b[0m \u001b[0mcls\u001b[0m \u001b[0;32mis\u001b[0m \u001b[0;32mNone\u001b[0m\u001b[0;34m:\u001b[0m\u001b[0;34m\u001b[0m\u001b[0;34m\u001b[0m\u001b[0m\n",
      "\u001b[0;32m~/anaconda3/lib/python3.9/json/decoder.py\u001b[0m in \u001b[0;36mdecode\u001b[0;34m(self, s, _w)\u001b[0m\n\u001b[1;32m    336\u001b[0m         \"\"\"\n\u001b[0;32m--> 337\u001b[0;31m         \u001b[0mobj\u001b[0m\u001b[0;34m,\u001b[0m \u001b[0mend\u001b[0m \u001b[0;34m=\u001b[0m \u001b[0mself\u001b[0m\u001b[0;34m.\u001b[0m\u001b[0mraw_decode\u001b[0m\u001b[0;34m(\u001b[0m\u001b[0ms\u001b[0m\u001b[0;34m,\u001b[0m \u001b[0midx\u001b[0m\u001b[0;34m=\u001b[0m\u001b[0m_w\u001b[0m\u001b[0;34m(\u001b[0m\u001b[0ms\u001b[0m\u001b[0;34m,\u001b[0m \u001b[0;36m0\u001b[0m\u001b[0;34m)\u001b[0m\u001b[0;34m.\u001b[0m\u001b[0mend\u001b[0m\u001b[0;34m(\u001b[0m\u001b[0;34m)\u001b[0m\u001b[0;34m)\u001b[0m\u001b[0;34m\u001b[0m\u001b[0;34m\u001b[0m\u001b[0m\n\u001b[0m\u001b[1;32m    338\u001b[0m         \u001b[0mend\u001b[0m \u001b[0;34m=\u001b[0m \u001b[0m_w\u001b[0m\u001b[0;34m(\u001b[0m\u001b[0ms\u001b[0m\u001b[0;34m,\u001b[0m \u001b[0mend\u001b[0m\u001b[0;34m)\u001b[0m\u001b[0;34m.\u001b[0m\u001b[0mend\u001b[0m\u001b[0;34m(\u001b[0m\u001b[0;34m)\u001b[0m\u001b[0;34m\u001b[0m\u001b[0;34m\u001b[0m\u001b[0m\n",
      "\u001b[0;32m~/anaconda3/lib/python3.9/json/decoder.py\u001b[0m in \u001b[0;36mraw_decode\u001b[0;34m(self, s, idx)\u001b[0m\n\u001b[1;32m    354\u001b[0m         \u001b[0;32mexcept\u001b[0m \u001b[0mStopIteration\u001b[0m \u001b[0;32mas\u001b[0m \u001b[0merr\u001b[0m\u001b[0;34m:\u001b[0m\u001b[0;34m\u001b[0m\u001b[0;34m\u001b[0m\u001b[0m\n\u001b[0;32m--> 355\u001b[0;31m             \u001b[0;32mraise\u001b[0m \u001b[0mJSONDecodeError\u001b[0m\u001b[0;34m(\u001b[0m\u001b[0;34m\"Expecting value\"\u001b[0m\u001b[0;34m,\u001b[0m \u001b[0ms\u001b[0m\u001b[0;34m,\u001b[0m \u001b[0merr\u001b[0m\u001b[0;34m.\u001b[0m\u001b[0mvalue\u001b[0m\u001b[0;34m)\u001b[0m \u001b[0;32mfrom\u001b[0m \u001b[0;32mNone\u001b[0m\u001b[0;34m\u001b[0m\u001b[0;34m\u001b[0m\u001b[0m\n\u001b[0m\u001b[1;32m    356\u001b[0m         \u001b[0;32mreturn\u001b[0m \u001b[0mobj\u001b[0m\u001b[0;34m,\u001b[0m \u001b[0mend\u001b[0m\u001b[0;34m\u001b[0m\u001b[0;34m\u001b[0m\u001b[0m\n",
      "\u001b[0;31mJSONDecodeError\u001b[0m: Expecting value: line 1 column 1 (char 0)",
      "\nDuring handling of the above exception, another exception occurred:\n",
      "\u001b[0;31mJSONDecodeError\u001b[0m                           Traceback (most recent call last)",
      "\u001b[0;32m/tmp/ipykernel_14478/1623079678.py\u001b[0m in \u001b[0;36m<module>\u001b[0;34m\u001b[0m\n\u001b[0;32m----> 1\u001b[0;31m \u001b[0mallData\u001b[0m \u001b[0;34m=\u001b[0m \u001b[0mgetAllJoularDataForMethodsHaving30Values\u001b[0m\u001b[0;34m(\u001b[0m\u001b[0;34m)\u001b[0m\u001b[0;34m\u001b[0m\u001b[0;34m\u001b[0m\u001b[0m\n\u001b[0m\u001b[1;32m      2\u001b[0m \u001b[0mprint\u001b[0m\u001b[0;34m(\u001b[0m\u001b[0mallData\u001b[0m\u001b[0;34m)\u001b[0m\u001b[0;34m\u001b[0m\u001b[0;34m\u001b[0m\u001b[0m\n\u001b[1;32m      3\u001b[0m \u001b[0mdataRepo\u001b[0m \u001b[0;34m=\u001b[0m \u001b[0msorted\u001b[0m\u001b[0;34m(\u001b[0m\u001b[0mallData\u001b[0m\u001b[0;34m,\u001b[0m \u001b[0mkey\u001b[0m\u001b[0;34m=\u001b[0m\u001b[0;32mlambda\u001b[0m \u001b[0mx\u001b[0m\u001b[0;34m:\u001b[0m \u001b[0mx\u001b[0m\u001b[0;34m[\u001b[0m\u001b[0;34m\"allValues\"\u001b[0m\u001b[0;34m]\u001b[0m\u001b[0;34m,\u001b[0m \u001b[0mreverse\u001b[0m\u001b[0;34m=\u001b[0m\u001b[0;32mTrue\u001b[0m\u001b[0;34m)\u001b[0m\u001b[0;34m\u001b[0m\u001b[0;34m\u001b[0m\u001b[0m\n\u001b[1;32m      4\u001b[0m \u001b[0mdataRepo\u001b[0m \u001b[0;34m=\u001b[0m \u001b[0;34m[\u001b[0m\u001b[0;34m]\u001b[0m\u001b[0;34m\u001b[0m\u001b[0;34m\u001b[0m\u001b[0m\n\u001b[1;32m      5\u001b[0m \u001b[0;32mfor\u001b[0m \u001b[0mmethodData\u001b[0m \u001b[0;32min\u001b[0m \u001b[0mdataRepo\u001b[0m\u001b[0;34m:\u001b[0m\u001b[0;34m\u001b[0m\u001b[0;34m\u001b[0m\u001b[0m\n",
      "\u001b[0;32m/tmp/ipykernel_14478/3129882479.py\u001b[0m in \u001b[0;36mgetAllJoularDataForMethodsHaving30Values\u001b[0;34m(sha)\u001b[0m\n\u001b[1;32m      9\u001b[0m     \u001b[0;32mif\u001b[0m \u001b[0;34m(\u001b[0m\u001b[0msha\u001b[0m \u001b[0;34m!=\u001b[0m \u001b[0;34m\"\"\u001b[0m\u001b[0;34m)\u001b[0m\u001b[0;34m:\u001b[0m\u001b[0;34m\u001b[0m\u001b[0;34m\u001b[0m\u001b[0m\n\u001b[1;32m     10\u001b[0m         \u001b[0mendpoint\u001b[0m \u001b[0;34m+=\u001b[0m \u001b[0;34m\"by-commit/\"\u001b[0m \u001b[0;34m+\u001b[0m \u001b[0msha\u001b[0m\u001b[0;34m\u001b[0m\u001b[0;34m\u001b[0m\u001b[0m\n\u001b[0;32m---> 11\u001b[0;31m     \u001b[0mresult\u001b[0m \u001b[0;34m=\u001b[0m \u001b[0mgetEndpoint\u001b[0m\u001b[0;34m(\u001b[0m\u001b[0mendpoint\u001b[0m\u001b[0;34m)\u001b[0m\u001b[0;34m\u001b[0m\u001b[0;34m\u001b[0m\u001b[0m\n\u001b[0m\u001b[1;32m     12\u001b[0m     \u001b[0mallResults\u001b[0m\u001b[0;34m.\u001b[0m\u001b[0mextend\u001b[0m\u001b[0;34m(\u001b[0m\u001b[0mresult\u001b[0m\u001b[0;34m[\u001b[0m\u001b[0;34m\"content\"\u001b[0m\u001b[0;34m]\u001b[0m\u001b[0;34m)\u001b[0m\u001b[0;34m\u001b[0m\u001b[0;34m\u001b[0m\u001b[0m\n\u001b[1;32m     13\u001b[0m     \u001b[0;32mwhile\u001b[0m\u001b[0;34m(\u001b[0m\u001b[0;32mnot\u001b[0m \u001b[0mresult\u001b[0m\u001b[0;34m[\u001b[0m\u001b[0;34m\"last\"\u001b[0m\u001b[0;34m]\u001b[0m\u001b[0;34m)\u001b[0m\u001b[0;34m:\u001b[0m\u001b[0;34m\u001b[0m\u001b[0;34m\u001b[0m\u001b[0m\n",
      "\u001b[0;32m/tmp/ipykernel_14478/3129882479.py\u001b[0m in \u001b[0;36mgetEndpoint\u001b[0;34m(endpoint, params)\u001b[0m\n\u001b[1;32m      2\u001b[0m     \u001b[0mURL\u001b[0m \u001b[0;34m=\u001b[0m \u001b[0mBASE_URL\u001b[0m \u001b[0;34m+\u001b[0m \u001b[0mendpoint\u001b[0m\u001b[0;34m\u001b[0m\u001b[0;34m\u001b[0m\u001b[0m\n\u001b[1;32m      3\u001b[0m     \u001b[0mr\u001b[0m \u001b[0;34m=\u001b[0m \u001b[0mrequests\u001b[0m\u001b[0;34m.\u001b[0m\u001b[0mget\u001b[0m\u001b[0;34m(\u001b[0m\u001b[0murl\u001b[0m\u001b[0;34m=\u001b[0m\u001b[0mURL\u001b[0m\u001b[0;34m,\u001b[0m \u001b[0mparams\u001b[0m\u001b[0;34m=\u001b[0m\u001b[0mparams\u001b[0m\u001b[0;34m)\u001b[0m\u001b[0;34m\u001b[0m\u001b[0;34m\u001b[0m\u001b[0m\n\u001b[0;32m----> 4\u001b[0;31m     \u001b[0;32mreturn\u001b[0m \u001b[0mr\u001b[0m\u001b[0;34m.\u001b[0m\u001b[0mjson\u001b[0m\u001b[0;34m(\u001b[0m\u001b[0;34m)\u001b[0m\u001b[0;34m\u001b[0m\u001b[0;34m\u001b[0m\u001b[0m\n\u001b[0m\u001b[1;32m      5\u001b[0m \u001b[0;34m\u001b[0m\u001b[0m\n\u001b[1;32m      6\u001b[0m \u001b[0;32mdef\u001b[0m \u001b[0mgetAllJoularDataForMethodsHaving30Values\u001b[0m\u001b[0;34m(\u001b[0m\u001b[0msha\u001b[0m\u001b[0;34m=\u001b[0m\u001b[0;34m\"\"\u001b[0m\u001b[0;34m)\u001b[0m\u001b[0;34m:\u001b[0m\u001b[0;34m\u001b[0m\u001b[0;34m\u001b[0m\u001b[0m\n",
      "\u001b[0;32m~/anaconda3/lib/python3.9/site-packages/requests/models.py\u001b[0m in \u001b[0;36mjson\u001b[0;34m(self, **kwargs)\u001b[0m\n\u001b[1;32m    973\u001b[0m             \u001b[0;31m# Catch JSON-related errors and raise as requests.JSONDecodeError\u001b[0m\u001b[0;34m\u001b[0m\u001b[0;34m\u001b[0m\u001b[0m\n\u001b[1;32m    974\u001b[0m             \u001b[0;31m# This aliases json.JSONDecodeError and simplejson.JSONDecodeError\u001b[0m\u001b[0;34m\u001b[0m\u001b[0;34m\u001b[0m\u001b[0m\n\u001b[0;32m--> 975\u001b[0;31m             \u001b[0;32mraise\u001b[0m \u001b[0mRequestsJSONDecodeError\u001b[0m\u001b[0;34m(\u001b[0m\u001b[0me\u001b[0m\u001b[0;34m.\u001b[0m\u001b[0mmsg\u001b[0m\u001b[0;34m,\u001b[0m \u001b[0me\u001b[0m\u001b[0;34m.\u001b[0m\u001b[0mdoc\u001b[0m\u001b[0;34m,\u001b[0m \u001b[0me\u001b[0m\u001b[0;34m.\u001b[0m\u001b[0mpos\u001b[0m\u001b[0;34m)\u001b[0m\u001b[0;34m\u001b[0m\u001b[0;34m\u001b[0m\u001b[0m\n\u001b[0m\u001b[1;32m    976\u001b[0m \u001b[0;34m\u001b[0m\u001b[0m\n\u001b[1;32m    977\u001b[0m     \u001b[0;34m@\u001b[0m\u001b[0mproperty\u001b[0m\u001b[0;34m\u001b[0m\u001b[0;34m\u001b[0m\u001b[0m\n",
      "\u001b[0;31mJSONDecodeError\u001b[0m: Expecting value: line 1 column 1 (char 0)"
     ]
    }
   ],
   "source": [
    "allData = getAllJoularDataForMethodsHaving30Values()\n",
    "print(allData)\n",
    "joularDataRepo = sorted(allData, key=lambda x: x[\"allValues\"], reverse=True)\n",
    "joularDataRepo = []\n",
    "for methodData in joularDataRepo:\n",
    "    repositoryName = methodData[\"commit\"][\"repository\"][\"name\"]\n",
    "    methodSignature = methodData[\"measurableElement\"][\"methodSignature\"]\n",
    "    allValues = methodData[\"allValues\"]\n",
    "    allValuesAfterIQR = removeOutliersByIQR(allValues)\n",
    "    #print(len(allValuesAfterIQR))\n",
    "    if (len(allValuesAfterIQR) == 30):\n",
    "        joularDataRepo.append(methodData)\n",
    "\n",
    "    #createBoxplotJoular(repositoryName, methodSignature, allValues)\n",
    "    #createBoxplotJoular(repositoryName, methodSignature, allValuesWithoutOutliers)\n",
    "    #createBoxplotJoular(repositoryName, methodSignature, allValuesAfterIQR[\"allValues\"])\n",
    "print(len(joularDataRepo))\n",
    "\n",
    "dataAllRepositories = []\n",
    "for doc in joularDataRepo:\n",
    "    dataAllRepositories.extend({\"Repository\": doc[\"commit\"][\"repository\"][\"name\"], \"Values\":val, \"Class\": doc[\"measurableElement\"][\"className\"]} for val in doc[\"allValues\"])\n",
    "ckDataFrame = pd.DataFrame(dataAllRepositories)\n",
    "\n",
    "figRepository = px.violin(ckDataFrame, y=\"Values\", x=\"Repository\", points=\"all\")\n",
    "figRepository.show()"
   ]
  },
  {
   "cell_type": "markdown",
   "id": "aabf34bf",
   "metadata": {},
   "source": [
    "### Aggregate by repository and comparison with CK values"
   ]
  },
  {
   "cell_type": "code",
   "execution_count": 16,
   "id": "10d0c9c3",
   "metadata": {},
   "outputs": [],
   "source": [
    "def sortData(data):\n",
    "    return sorted(data, key=lambda x: x[\"allValues\"], reverse=True)\n",
    "\n",
    "def removeOutliers(data):\n",
    "    print(\"Len with outliers : \", len(data))\n",
    "    only30Values = []\n",
    "    for methodData in data:\n",
    "        allValues = methodData[\"allValues\"]\n",
    "        allValuesAfterIQR = removeOutliersByIQR(allValues)\n",
    "        #print(len(allValuesAfterIQR))\n",
    "        if (len(allValuesAfterIQR) == 30):\n",
    "            only30Values.append(methodData)\n",
    "    print(\"Len without outliers : \", len(only30Values))\n",
    "    return only30Values\n",
    "\n",
    "def getTheFirstHighestValues(data, end=5):\n",
    "    return data[:end]\n",
    "\n",
    "def createViolinJoular(data, granularity=\"Repository\", points=\"all\"):\n",
    "    dataAllRepositories = []\n",
    "    for doc in data:\n",
    "        dataAllRepositories.extend({\"Repository\": doc[\"commit\"][\"repository\"][\"name\"], \"Values\":val, \"Class\": doc[\"measurableElement\"][\"className\"]} for val in doc[\"allValues\"])\n",
    "    df = pd.DataFrame(dataAllRepositories)\n",
    "\n",
    "    figRepository = px.violin(df, y=\"Values\", x=granularity, points=points)\n",
    "    figRepository.show()\n",
    "\n",
    "def createMultipleBoxplot(dataOneRepo):\n",
    "    dataframePreparation = []\n",
    "    for method in dataOneRepo:\n",
    "        dataframePreparation.append({\"Method\": method[\"measurableElement\"][\"methodSignature\"], \"Values\":method[\"allValues\"], \"Class\":method[\"measurableElement\"][\"className\"]})\n",
    "    df = pd.DataFrame(dataframePreparation)\n",
    "    print(df)\n",
    "    fig = px.box(df, x=\"Method\", y=\"Values\", points=\"outliers\")\n",
    "    fig.show()\n",
    "        \n",
    "\n",
    "\n",
    "def createBarChart(dataframe, xAxisName, yAxisName, title):\n",
    "    fig = px.bar(dataframe, x=xAxisName, y=yAxisName, title=title)\n",
    "    fig.update_layout(yaxis_range=[0, 40])\n",
    "    return fig\n",
    "\n",
    "def prepareCkDataFrame(ckValues):\n",
    "    values = {item[\"name\"]:item[\"value\"] for item in ckValues}\n",
    "    return pd.DataFrame(list(values.items()), columns=[\"Metric\", \"Value\"])\n",
    "\n",
    "def createBoxplot(dataframe, title):\n",
    "    return px.box(dataframe, y=\"value\", title=title, points=\"all\")\n",
    "\n",
    "def prepareJoularDataFrame(joularValues):\n",
    "    return pd.DataFrame({\"value\": joularValues})\n",
    "\n",
    "def createSubplot(fig1, fig2, title):\n",
    "    fig1Traces = []\n",
    "    fig2Traces = []\n",
    "    for trace in range(len(fig1[\"data\"])):\n",
    "        fig1Traces.append(fig1[\"data\"][trace])\n",
    "    for trace in range(len(fig2[\"data\"])):\n",
    "        fig2Traces.append(fig2[\"data\"][trace])\n",
    "\n",
    "    \n",
    "    figure = make_subplots(rows=1, cols=2, subplot_titles=(\"Joular values\", \"Ck values\"))\n",
    "    for traces in fig1Traces:\n",
    "        figure.append_trace(traces, row=1, col=1)\n",
    "    for traces in fig2Traces:\n",
    "        figure.append_trace(traces, row=1, col=2)\n",
    "\n",
    "    figure.update_layout(title_text=title)\n",
    "    figure.show()"
   ]
  },
  {
   "cell_type": "markdown",
   "id": "ff8080e2",
   "metadata": {},
   "source": []
  },
  {
   "cell_type": "markdown",
   "id": "30ca6ece",
   "metadata": {},
   "source": []
  },
  {
   "cell_type": "code",
   "execution_count": 90,
   "id": "d83d19d6",
   "metadata": {},
   "outputs": [],
   "source": [
    "def createJoularAndCkDataframe(dataOneRepo, sha, allowedCkMetrics):\n",
    "    dataframe = []\n",
    "    for method in dataOneRepo:\n",
    "        allMethodData = {}\n",
    "        className = method[\"measurableElement\"][\"className\"]\n",
    "        methodSignature = method[\"measurableElement\"][\"methodSignature\"]\n",
    "\n",
    "        # Joular values\n",
    "        allMethodData[\"Method\"] = methodSignature\n",
    "        allMethodData[\"Class\"] = className\n",
    "        allMethodData[\"JoularValues\"] = method[\"allValues\"]\n",
    "\n",
    "        # Ck values\n",
    "        ckDataMethod = getSeveralCkDataForOneMethod(commitSha=sha, className=className, methodSignature=methodSignature, ckMetrics=allowedCkMetrics)\n",
    "        for metric in ckDataMethod:\n",
    "            metricName = metric[\"name\"]\n",
    "            metricValue = metric[\"value\"]\n",
    "            allMethodData[metricName] = metricValue\n",
    "        dataframe.append(allMethodData)\n",
    "\n",
    "    return dataframe\n"
   ]
  },
  {
   "cell_type": "code",
   "execution_count": 149,
   "id": "47ee41b2",
   "metadata": {},
   "outputs": [],
   "source": [
    "def createFigure(dataframe, ckMetric, repository):    \n",
    "    fig = make_subplots(specs=[[{\"secondary_y\": True}]])\n",
    "    for doc in dataframe:\n",
    "        name = doc[\"Method\"][:30]\n",
    "        traceBoxplot = go.Box(y=doc[\"JoularValues\"], name=name, marker=dict(color='rgb(252,141,98)'), legendgroup=\"boxplots\")\n",
    "        fig.add_trace(traceBoxplot, secondary_y=True)\n",
    "        traceBarchart = go.Bar(x=[name], y=[doc[ckMetric]], name=ckMetric, marker=dict(color='rgb(141,160,203)'), legendgroup=\"barcharts\")\n",
    "        fig.add_trace(traceBarchart)\n",
    "    fig['layout'].update(legend=dict(traceorder='normal'))\n",
    "    fig['layout'].update(title= \"Comparison of joular data and '\" + ckMetric + \"' metric for repository \" + repository)\n",
    "    fig.show()"
   ]
  },
  {
   "cell_type": "code",
   "execution_count": 150,
   "id": "091414a3",
   "metadata": {},
   "outputs": [
    {
     "name": "stdout",
     "output_type": "stream",
     "text": [
      "Calling page  1\n",
      "Len with outliers :  197\n",
      "Len without outliers :  93\n",
      "[{'Method': 'scan/2[spoon.reflect.path.CtRole,java.util.Collection<? extends spoon.reflect.declaration.CtElement>]', 'Class': 'spoon.reflect.visitor.EarlyTerminatingScanner', 'JoularValues': [2109.9353, 2580.8672, 1992.2736, 2085.4592, 2587.01, 2118.5796, 2087.088, 2488.8872, 2529.0112, 2514.089, 2108.82, 2643.9514, 2247.597, 2099.9507, 2037.3049, 2129.1768, 2202.229, 2109.487, 2261.734, 2128.6135, 2747.6675, 2144.3489, 2146.559, 2512.0806, 2193.447, 2201.8904, 2769.0137, 2007.5638, 2310.417, 2193.6514], 'loc': 11.0, 'wmc': 5.0, 'cbo': 3.0}, {'Method': 'scanCtReference/1[spoon.support.visitor.equals.CtReference]', 'Class': 'spoon.support.visitor.equals.EqualsChecker', 'JoularValues': [324.4667, 319.6152, 261.6414, 287.9847, 364.9052, 276.3988, 330.2696, 348.5787, 388.358, 350.1808, 282.6285, 319.4237, 271.5302, 315.5053, 284.1926, 309.2618, 330.9494, 290.9835, 288.9638, 236.2969, 344.5818, 292.3302, 294.5574, 383.42618, 294.0531, 287.9321, 352.3981, 276.0784, 322.8061, 272.9096], 'loc': 7.0, 'wmc': 2.0, 'cbo': 2.0}, {'Method': 'save/2[spoon.support.Factory,java.io.OutputStream]', 'Class': 'spoon.support.SerializationModelStreamer', 'JoularValues': [181.0151, 248.0991, 178.4615, 172.9383, 202.69249, 168.11241, 179.914, 218.12639, 187.41481, 210.5327, 173.95332, 208.4054, 181.94719, 185.5977, 139.9531, 176.17319, 237.55519, 169.4388, 213.7564, 178.94211, 221.4096, 171.6327, 176.16449, 232.0682, 160.4265, 209.18779, 236.1469, 155.0776, 202.8802, 179.73792], 'loc': 15.0, 'wmc': 4.0, 'cbo': 3.0}, {'Method': 'getModifiers/0', 'Class': 'spoon.support.reflect.CtModifierHandler', 'JoularValues': [137.1716, 174.9281, 145.9525, 148.2249, 131.914, 139.1097, 160.9029, 180.091, 189.0141, 162.0639, 136.1082, 199.2911, 141.5503, 149.4739, 109.886, 133.7687, 173.05, 158.7378, 108.4743, 161.769, 197.4603, 163.4404, 139.6382, 171.1532, 130.1266, 162.268, 149.1281, 145.0209, 167.768, 137.2319], 'loc': 3.0, 'wmc': 1.0, 'cbo': 1.0}, {'Method': 'setSimpleName/1[java.lang.String]', 'Class': 'spoon.support.reflect.reference.CtReferenceImpl', 'JoularValues': [125.4578, 187.7617, 145.0521, 110.2401, 158.6581, 111.788895, 158.7953, 127.9594, 163.2884, 171.3569, 137.71361, 159.1271, 148.1123, 154.7286, 137.7333, 130.6519, 127.2375, 154.678, 138.3295, 129.6821, 152.9901, 140.0973, 151.8193, 142.3495, 128.138, 139.40851, 192.6658, 158.5477, 136.9798, 147.90291], 'loc': 14.0, 'wmc': 3.0, 'cbo': 5.0}, {'Method': 'biScan/3[spoon.reflect.path.CtRole,java.util.Collection<? extends spoon.reflect.declaration.CtElement>,java.util.Collection<? extends spoon.reflect.declaration.CtElement>]', 'Class': 'spoon.reflect.visitor.CtBiScannerDefault', 'JoularValues': [119.673004, 125.5151, 137.54959, 123.971405, 153.23979, 129.8005, 119.758606, 132.0799, 162.2298, 149.0674, 143.0008, 141.0005, 115.9113, 112.085, 125.984406, 121.658195, 121.8945, 112.6119, 115.8768, 140.72351, 131.1951, 98.011696, 101.3956, 117.2669, 125.3519, 109.09, 124.4486, 130.9865, 122.5119, 141.1859], 'loc': 5.0, 'wmc': 3.0, 'cbo': 2.0}, {'Method': 'visitType/1[spoon.reflect.declaration.CtType<?>]', 'Class': 'spoon.support.reflect.declaration.CtTypeImpl$1NestedTypeScanner', 'JoularValues': [119.3137, 128.9028, 79.8621, 127.8328, 108.0706, 98.999306, 103.9799, 102.641304, 125.511, 144.9609, 114.3934, 130.0146, 98.607, 112.4805, 92.1623, 80.3142, 119.5954, 93.3537, 115.0626, 104.7941, 107.9536, 99.4674, 104.564896, 119.65009, 100.395996, 117.297, 121.7595, 108.7769, 125.8379, 80.0486], 'loc': 12.0, 'wmc': 6.0, 'cbo': 6.0}, {'Method': 'visitCtInvocation/1[spoon.reflect.code.CtInvocation<T>]', 'Class': 'spoon.reflect.visitor.CtScanner', 'JoularValues': [113.650696, 174.31549, 132.60579, 111.50499, 154.9508, 120.8387, 124.3346, 174.97931, 165.64629, 170.14868, 150.2058, 153.80751, 135.5463, 157.52132, 107.810905, 168.9712, 123.074905, 130.72119, 147.67699, 129.07849, 155.83769, 99.30701, 135.93071, 189.0578, 164.34138, 129.87639, 177.50531, 139.71512, 141.05371, 136.7893], 'loc': 10.0, 'wmc': 1.0, 'cbo': 7.0}]\n"
     ]
    },
    {
     "data": {
      "application/vnd.plotly.v1+json": {
       "config": {
        "plotlyServerURL": "https://plot.ly"
       },
       "data": [
        {
         "legendgroup": "boxplots",
         "marker": {
          "color": "rgb(252,141,98)"
         },
         "name": "scan/2[spoon.reflect.path.CtRo",
         "type": "box",
         "xaxis": "x",
         "y": [
          2109.9353,
          2580.8672,
          1992.2736,
          2085.4592,
          2587.01,
          2118.5796,
          2087.088,
          2488.8872,
          2529.0112,
          2514.089,
          2108.82,
          2643.9514,
          2247.597,
          2099.9507,
          2037.3049,
          2129.1768,
          2202.229,
          2109.487,
          2261.734,
          2128.6135,
          2747.6675,
          2144.3489,
          2146.559,
          2512.0806,
          2193.447,
          2201.8904,
          2769.0137,
          2007.5638,
          2310.417,
          2193.6514
         ],
         "yaxis": "y2"
        },
        {
         "legendgroup": "barcharts",
         "marker": {
          "color": "rgb(141,160,203)"
         },
         "name": "loc",
         "type": "bar",
         "x": [
          "scan/2[spoon.reflect.path.CtRo"
         ],
         "y": [
          11
         ]
        },
        {
         "legendgroup": "boxplots",
         "marker": {
          "color": "rgb(252,141,98)"
         },
         "name": "scanCtReference/1[spoon.suppor",
         "type": "box",
         "xaxis": "x",
         "y": [
          324.4667,
          319.6152,
          261.6414,
          287.9847,
          364.9052,
          276.3988,
          330.2696,
          348.5787,
          388.358,
          350.1808,
          282.6285,
          319.4237,
          271.5302,
          315.5053,
          284.1926,
          309.2618,
          330.9494,
          290.9835,
          288.9638,
          236.2969,
          344.5818,
          292.3302,
          294.5574,
          383.42618,
          294.0531,
          287.9321,
          352.3981,
          276.0784,
          322.8061,
          272.9096
         ],
         "yaxis": "y2"
        },
        {
         "legendgroup": "barcharts",
         "marker": {
          "color": "rgb(141,160,203)"
         },
         "name": "loc",
         "type": "bar",
         "x": [
          "scanCtReference/1[spoon.suppor"
         ],
         "y": [
          7
         ]
        },
        {
         "legendgroup": "boxplots",
         "marker": {
          "color": "rgb(252,141,98)"
         },
         "name": "save/2[spoon.support.Factory,j",
         "type": "box",
         "xaxis": "x",
         "y": [
          181.0151,
          248.0991,
          178.4615,
          172.9383,
          202.69249,
          168.11241,
          179.914,
          218.12639,
          187.41481,
          210.5327,
          173.95332,
          208.4054,
          181.94719,
          185.5977,
          139.9531,
          176.17319,
          237.55519,
          169.4388,
          213.7564,
          178.94211,
          221.4096,
          171.6327,
          176.16449,
          232.0682,
          160.4265,
          209.18779,
          236.1469,
          155.0776,
          202.8802,
          179.73792
         ],
         "yaxis": "y2"
        },
        {
         "legendgroup": "barcharts",
         "marker": {
          "color": "rgb(141,160,203)"
         },
         "name": "loc",
         "type": "bar",
         "x": [
          "save/2[spoon.support.Factory,j"
         ],
         "y": [
          15
         ]
        },
        {
         "legendgroup": "boxplots",
         "marker": {
          "color": "rgb(252,141,98)"
         },
         "name": "getModifiers/0",
         "type": "box",
         "xaxis": "x",
         "y": [
          137.1716,
          174.9281,
          145.9525,
          148.2249,
          131.914,
          139.1097,
          160.9029,
          180.091,
          189.0141,
          162.0639,
          136.1082,
          199.2911,
          141.5503,
          149.4739,
          109.886,
          133.7687,
          173.05,
          158.7378,
          108.4743,
          161.769,
          197.4603,
          163.4404,
          139.6382,
          171.1532,
          130.1266,
          162.268,
          149.1281,
          145.0209,
          167.768,
          137.2319
         ],
         "yaxis": "y2"
        },
        {
         "legendgroup": "barcharts",
         "marker": {
          "color": "rgb(141,160,203)"
         },
         "name": "loc",
         "type": "bar",
         "x": [
          "getModifiers/0"
         ],
         "y": [
          3
         ]
        },
        {
         "legendgroup": "boxplots",
         "marker": {
          "color": "rgb(252,141,98)"
         },
         "name": "setSimpleName/1[java.lang.Stri",
         "type": "box",
         "xaxis": "x",
         "y": [
          125.4578,
          187.7617,
          145.0521,
          110.2401,
          158.6581,
          111.788895,
          158.7953,
          127.9594,
          163.2884,
          171.3569,
          137.71361,
          159.1271,
          148.1123,
          154.7286,
          137.7333,
          130.6519,
          127.2375,
          154.678,
          138.3295,
          129.6821,
          152.9901,
          140.0973,
          151.8193,
          142.3495,
          128.138,
          139.40851,
          192.6658,
          158.5477,
          136.9798,
          147.90291
         ],
         "yaxis": "y2"
        },
        {
         "legendgroup": "barcharts",
         "marker": {
          "color": "rgb(141,160,203)"
         },
         "name": "loc",
         "type": "bar",
         "x": [
          "setSimpleName/1[java.lang.Stri"
         ],
         "y": [
          14
         ]
        },
        {
         "legendgroup": "boxplots",
         "marker": {
          "color": "rgb(252,141,98)"
         },
         "name": "biScan/3[spoon.reflect.path.Ct",
         "type": "box",
         "xaxis": "x",
         "y": [
          119.673004,
          125.5151,
          137.54959,
          123.971405,
          153.23979,
          129.8005,
          119.758606,
          132.0799,
          162.2298,
          149.0674,
          143.0008,
          141.0005,
          115.9113,
          112.085,
          125.984406,
          121.658195,
          121.8945,
          112.6119,
          115.8768,
          140.72351,
          131.1951,
          98.011696,
          101.3956,
          117.2669,
          125.3519,
          109.09,
          124.4486,
          130.9865,
          122.5119,
          141.1859
         ],
         "yaxis": "y2"
        },
        {
         "legendgroup": "barcharts",
         "marker": {
          "color": "rgb(141,160,203)"
         },
         "name": "loc",
         "type": "bar",
         "x": [
          "biScan/3[spoon.reflect.path.Ct"
         ],
         "y": [
          5
         ]
        },
        {
         "legendgroup": "boxplots",
         "marker": {
          "color": "rgb(252,141,98)"
         },
         "name": "visitType/1[spoon.reflect.decl",
         "type": "box",
         "xaxis": "x",
         "y": [
          119.3137,
          128.9028,
          79.8621,
          127.8328,
          108.0706,
          98.999306,
          103.9799,
          102.641304,
          125.511,
          144.9609,
          114.3934,
          130.0146,
          98.607,
          112.4805,
          92.1623,
          80.3142,
          119.5954,
          93.3537,
          115.0626,
          104.7941,
          107.9536,
          99.4674,
          104.564896,
          119.65009,
          100.395996,
          117.297,
          121.7595,
          108.7769,
          125.8379,
          80.0486
         ],
         "yaxis": "y2"
        },
        {
         "legendgroup": "barcharts",
         "marker": {
          "color": "rgb(141,160,203)"
         },
         "name": "loc",
         "type": "bar",
         "x": [
          "visitType/1[spoon.reflect.decl"
         ],
         "y": [
          12
         ]
        },
        {
         "legendgroup": "boxplots",
         "marker": {
          "color": "rgb(252,141,98)"
         },
         "name": "visitCtInvocation/1[spoon.refl",
         "type": "box",
         "xaxis": "x",
         "y": [
          113.650696,
          174.31549,
          132.60579,
          111.50499,
          154.9508,
          120.8387,
          124.3346,
          174.97931,
          165.64629,
          170.14868,
          150.2058,
          153.80751,
          135.5463,
          157.52132,
          107.810905,
          168.9712,
          123.074905,
          130.72119,
          147.67699,
          129.07849,
          155.83769,
          99.30701,
          135.93071,
          189.0578,
          164.34138,
          129.87639,
          177.50531,
          139.71512,
          141.05371,
          136.7893
         ],
         "yaxis": "y2"
        },
        {
         "legendgroup": "barcharts",
         "marker": {
          "color": "rgb(141,160,203)"
         },
         "name": "loc",
         "type": "bar",
         "x": [
          "visitCtInvocation/1[spoon.refl"
         ],
         "y": [
          10
         ]
        }
       ],
       "layout": {
        "legend": {
         "traceorder": "normal"
        },
        "template": {
         "data": {
          "bar": [
           {
            "error_x": {
             "color": "#2a3f5f"
            },
            "error_y": {
             "color": "#2a3f5f"
            },
            "marker": {
             "line": {
              "color": "#E5ECF6",
              "width": 0.5
             },
             "pattern": {
              "fillmode": "overlay",
              "size": 10,
              "solidity": 0.2
             }
            },
            "type": "bar"
           }
          ],
          "barpolar": [
           {
            "marker": {
             "line": {
              "color": "#E5ECF6",
              "width": 0.5
             },
             "pattern": {
              "fillmode": "overlay",
              "size": 10,
              "solidity": 0.2
             }
            },
            "type": "barpolar"
           }
          ],
          "carpet": [
           {
            "aaxis": {
             "endlinecolor": "#2a3f5f",
             "gridcolor": "white",
             "linecolor": "white",
             "minorgridcolor": "white",
             "startlinecolor": "#2a3f5f"
            },
            "baxis": {
             "endlinecolor": "#2a3f5f",
             "gridcolor": "white",
             "linecolor": "white",
             "minorgridcolor": "white",
             "startlinecolor": "#2a3f5f"
            },
            "type": "carpet"
           }
          ],
          "choropleth": [
           {
            "colorbar": {
             "outlinewidth": 0,
             "ticks": ""
            },
            "type": "choropleth"
           }
          ],
          "contour": [
           {
            "colorbar": {
             "outlinewidth": 0,
             "ticks": ""
            },
            "colorscale": [
             [
              0,
              "#0d0887"
             ],
             [
              0.1111111111111111,
              "#46039f"
             ],
             [
              0.2222222222222222,
              "#7201a8"
             ],
             [
              0.3333333333333333,
              "#9c179e"
             ],
             [
              0.4444444444444444,
              "#bd3786"
             ],
             [
              0.5555555555555556,
              "#d8576b"
             ],
             [
              0.6666666666666666,
              "#ed7953"
             ],
             [
              0.7777777777777778,
              "#fb9f3a"
             ],
             [
              0.8888888888888888,
              "#fdca26"
             ],
             [
              1,
              "#f0f921"
             ]
            ],
            "type": "contour"
           }
          ],
          "contourcarpet": [
           {
            "colorbar": {
             "outlinewidth": 0,
             "ticks": ""
            },
            "type": "contourcarpet"
           }
          ],
          "heatmap": [
           {
            "colorbar": {
             "outlinewidth": 0,
             "ticks": ""
            },
            "colorscale": [
             [
              0,
              "#0d0887"
             ],
             [
              0.1111111111111111,
              "#46039f"
             ],
             [
              0.2222222222222222,
              "#7201a8"
             ],
             [
              0.3333333333333333,
              "#9c179e"
             ],
             [
              0.4444444444444444,
              "#bd3786"
             ],
             [
              0.5555555555555556,
              "#d8576b"
             ],
             [
              0.6666666666666666,
              "#ed7953"
             ],
             [
              0.7777777777777778,
              "#fb9f3a"
             ],
             [
              0.8888888888888888,
              "#fdca26"
             ],
             [
              1,
              "#f0f921"
             ]
            ],
            "type": "heatmap"
           }
          ],
          "heatmapgl": [
           {
            "colorbar": {
             "outlinewidth": 0,
             "ticks": ""
            },
            "colorscale": [
             [
              0,
              "#0d0887"
             ],
             [
              0.1111111111111111,
              "#46039f"
             ],
             [
              0.2222222222222222,
              "#7201a8"
             ],
             [
              0.3333333333333333,
              "#9c179e"
             ],
             [
              0.4444444444444444,
              "#bd3786"
             ],
             [
              0.5555555555555556,
              "#d8576b"
             ],
             [
              0.6666666666666666,
              "#ed7953"
             ],
             [
              0.7777777777777778,
              "#fb9f3a"
             ],
             [
              0.8888888888888888,
              "#fdca26"
             ],
             [
              1,
              "#f0f921"
             ]
            ],
            "type": "heatmapgl"
           }
          ],
          "histogram": [
           {
            "marker": {
             "pattern": {
              "fillmode": "overlay",
              "size": 10,
              "solidity": 0.2
             }
            },
            "type": "histogram"
           }
          ],
          "histogram2d": [
           {
            "colorbar": {
             "outlinewidth": 0,
             "ticks": ""
            },
            "colorscale": [
             [
              0,
              "#0d0887"
             ],
             [
              0.1111111111111111,
              "#46039f"
             ],
             [
              0.2222222222222222,
              "#7201a8"
             ],
             [
              0.3333333333333333,
              "#9c179e"
             ],
             [
              0.4444444444444444,
              "#bd3786"
             ],
             [
              0.5555555555555556,
              "#d8576b"
             ],
             [
              0.6666666666666666,
              "#ed7953"
             ],
             [
              0.7777777777777778,
              "#fb9f3a"
             ],
             [
              0.8888888888888888,
              "#fdca26"
             ],
             [
              1,
              "#f0f921"
             ]
            ],
            "type": "histogram2d"
           }
          ],
          "histogram2dcontour": [
           {
            "colorbar": {
             "outlinewidth": 0,
             "ticks": ""
            },
            "colorscale": [
             [
              0,
              "#0d0887"
             ],
             [
              0.1111111111111111,
              "#46039f"
             ],
             [
              0.2222222222222222,
              "#7201a8"
             ],
             [
              0.3333333333333333,
              "#9c179e"
             ],
             [
              0.4444444444444444,
              "#bd3786"
             ],
             [
              0.5555555555555556,
              "#d8576b"
             ],
             [
              0.6666666666666666,
              "#ed7953"
             ],
             [
              0.7777777777777778,
              "#fb9f3a"
             ],
             [
              0.8888888888888888,
              "#fdca26"
             ],
             [
              1,
              "#f0f921"
             ]
            ],
            "type": "histogram2dcontour"
           }
          ],
          "mesh3d": [
           {
            "colorbar": {
             "outlinewidth": 0,
             "ticks": ""
            },
            "type": "mesh3d"
           }
          ],
          "parcoords": [
           {
            "line": {
             "colorbar": {
              "outlinewidth": 0,
              "ticks": ""
             }
            },
            "type": "parcoords"
           }
          ],
          "pie": [
           {
            "automargin": true,
            "type": "pie"
           }
          ],
          "scatter": [
           {
            "fillpattern": {
             "fillmode": "overlay",
             "size": 10,
             "solidity": 0.2
            },
            "type": "scatter"
           }
          ],
          "scatter3d": [
           {
            "line": {
             "colorbar": {
              "outlinewidth": 0,
              "ticks": ""
             }
            },
            "marker": {
             "colorbar": {
              "outlinewidth": 0,
              "ticks": ""
             }
            },
            "type": "scatter3d"
           }
          ],
          "scattercarpet": [
           {
            "marker": {
             "colorbar": {
              "outlinewidth": 0,
              "ticks": ""
             }
            },
            "type": "scattercarpet"
           }
          ],
          "scattergeo": [
           {
            "marker": {
             "colorbar": {
              "outlinewidth": 0,
              "ticks": ""
             }
            },
            "type": "scattergeo"
           }
          ],
          "scattergl": [
           {
            "marker": {
             "colorbar": {
              "outlinewidth": 0,
              "ticks": ""
             }
            },
            "type": "scattergl"
           }
          ],
          "scattermapbox": [
           {
            "marker": {
             "colorbar": {
              "outlinewidth": 0,
              "ticks": ""
             }
            },
            "type": "scattermapbox"
           }
          ],
          "scatterpolar": [
           {
            "marker": {
             "colorbar": {
              "outlinewidth": 0,
              "ticks": ""
             }
            },
            "type": "scatterpolar"
           }
          ],
          "scatterpolargl": [
           {
            "marker": {
             "colorbar": {
              "outlinewidth": 0,
              "ticks": ""
             }
            },
            "type": "scatterpolargl"
           }
          ],
          "scatterternary": [
           {
            "marker": {
             "colorbar": {
              "outlinewidth": 0,
              "ticks": ""
             }
            },
            "type": "scatterternary"
           }
          ],
          "surface": [
           {
            "colorbar": {
             "outlinewidth": 0,
             "ticks": ""
            },
            "colorscale": [
             [
              0,
              "#0d0887"
             ],
             [
              0.1111111111111111,
              "#46039f"
             ],
             [
              0.2222222222222222,
              "#7201a8"
             ],
             [
              0.3333333333333333,
              "#9c179e"
             ],
             [
              0.4444444444444444,
              "#bd3786"
             ],
             [
              0.5555555555555556,
              "#d8576b"
             ],
             [
              0.6666666666666666,
              "#ed7953"
             ],
             [
              0.7777777777777778,
              "#fb9f3a"
             ],
             [
              0.8888888888888888,
              "#fdca26"
             ],
             [
              1,
              "#f0f921"
             ]
            ],
            "type": "surface"
           }
          ],
          "table": [
           {
            "cells": {
             "fill": {
              "color": "#EBF0F8"
             },
             "line": {
              "color": "white"
             }
            },
            "header": {
             "fill": {
              "color": "#C8D4E3"
             },
             "line": {
              "color": "white"
             }
            },
            "type": "table"
           }
          ]
         },
         "layout": {
          "annotationdefaults": {
           "arrowcolor": "#2a3f5f",
           "arrowhead": 0,
           "arrowwidth": 1
          },
          "autotypenumbers": "strict",
          "coloraxis": {
           "colorbar": {
            "outlinewidth": 0,
            "ticks": ""
           }
          },
          "colorscale": {
           "diverging": [
            [
             0,
             "#8e0152"
            ],
            [
             0.1,
             "#c51b7d"
            ],
            [
             0.2,
             "#de77ae"
            ],
            [
             0.3,
             "#f1b6da"
            ],
            [
             0.4,
             "#fde0ef"
            ],
            [
             0.5,
             "#f7f7f7"
            ],
            [
             0.6,
             "#e6f5d0"
            ],
            [
             0.7,
             "#b8e186"
            ],
            [
             0.8,
             "#7fbc41"
            ],
            [
             0.9,
             "#4d9221"
            ],
            [
             1,
             "#276419"
            ]
           ],
           "sequential": [
            [
             0,
             "#0d0887"
            ],
            [
             0.1111111111111111,
             "#46039f"
            ],
            [
             0.2222222222222222,
             "#7201a8"
            ],
            [
             0.3333333333333333,
             "#9c179e"
            ],
            [
             0.4444444444444444,
             "#bd3786"
            ],
            [
             0.5555555555555556,
             "#d8576b"
            ],
            [
             0.6666666666666666,
             "#ed7953"
            ],
            [
             0.7777777777777778,
             "#fb9f3a"
            ],
            [
             0.8888888888888888,
             "#fdca26"
            ],
            [
             1,
             "#f0f921"
            ]
           ],
           "sequentialminus": [
            [
             0,
             "#0d0887"
            ],
            [
             0.1111111111111111,
             "#46039f"
            ],
            [
             0.2222222222222222,
             "#7201a8"
            ],
            [
             0.3333333333333333,
             "#9c179e"
            ],
            [
             0.4444444444444444,
             "#bd3786"
            ],
            [
             0.5555555555555556,
             "#d8576b"
            ],
            [
             0.6666666666666666,
             "#ed7953"
            ],
            [
             0.7777777777777778,
             "#fb9f3a"
            ],
            [
             0.8888888888888888,
             "#fdca26"
            ],
            [
             1,
             "#f0f921"
            ]
           ]
          },
          "colorway": [
           "#636efa",
           "#EF553B",
           "#00cc96",
           "#ab63fa",
           "#FFA15A",
           "#19d3f3",
           "#FF6692",
           "#B6E880",
           "#FF97FF",
           "#FECB52"
          ],
          "font": {
           "color": "#2a3f5f"
          },
          "geo": {
           "bgcolor": "white",
           "lakecolor": "white",
           "landcolor": "#E5ECF6",
           "showlakes": true,
           "showland": true,
           "subunitcolor": "white"
          },
          "hoverlabel": {
           "align": "left"
          },
          "hovermode": "closest",
          "mapbox": {
           "style": "light"
          },
          "paper_bgcolor": "white",
          "plot_bgcolor": "#E5ECF6",
          "polar": {
           "angularaxis": {
            "gridcolor": "white",
            "linecolor": "white",
            "ticks": ""
           },
           "bgcolor": "#E5ECF6",
           "radialaxis": {
            "gridcolor": "white",
            "linecolor": "white",
            "ticks": ""
           }
          },
          "scene": {
           "xaxis": {
            "backgroundcolor": "#E5ECF6",
            "gridcolor": "white",
            "gridwidth": 2,
            "linecolor": "white",
            "showbackground": true,
            "ticks": "",
            "zerolinecolor": "white"
           },
           "yaxis": {
            "backgroundcolor": "#E5ECF6",
            "gridcolor": "white",
            "gridwidth": 2,
            "linecolor": "white",
            "showbackground": true,
            "ticks": "",
            "zerolinecolor": "white"
           },
           "zaxis": {
            "backgroundcolor": "#E5ECF6",
            "gridcolor": "white",
            "gridwidth": 2,
            "linecolor": "white",
            "showbackground": true,
            "ticks": "",
            "zerolinecolor": "white"
           }
          },
          "shapedefaults": {
           "line": {
            "color": "#2a3f5f"
           }
          },
          "ternary": {
           "aaxis": {
            "gridcolor": "white",
            "linecolor": "white",
            "ticks": ""
           },
           "baxis": {
            "gridcolor": "white",
            "linecolor": "white",
            "ticks": ""
           },
           "bgcolor": "#E5ECF6",
           "caxis": {
            "gridcolor": "white",
            "linecolor": "white",
            "ticks": ""
           }
          },
          "title": {
           "x": 0.05
          },
          "xaxis": {
           "automargin": true,
           "gridcolor": "white",
           "linecolor": "white",
           "ticks": "",
           "title": {
            "standoff": 15
           },
           "zerolinecolor": "white",
           "zerolinewidth": 2
          },
          "yaxis": {
           "automargin": true,
           "gridcolor": "white",
           "linecolor": "white",
           "ticks": "",
           "title": {
            "standoff": 15
           },
           "zerolinecolor": "white",
           "zerolinewidth": 2
          }
         }
        },
        "title": {
         "text": "Comparison of joular data and 'loc' metric for repository spoon"
        },
        "xaxis": {
         "anchor": "y",
         "domain": [
          0,
          0.94
         ]
        },
        "yaxis": {
         "anchor": "x",
         "domain": [
          0,
          1
         ]
        },
        "yaxis2": {
         "anchor": "x",
         "overlaying": "y",
         "side": "right"
        }
       }
      }
     },
     "metadata": {},
     "output_type": "display_data"
    },
    {
     "data": {
      "application/vnd.plotly.v1+json": {
       "config": {
        "plotlyServerURL": "https://plot.ly"
       },
       "data": [
        {
         "legendgroup": "boxplots",
         "marker": {
          "color": "rgb(252,141,98)"
         },
         "name": "scan/2[spoon.reflect.path.CtRo",
         "type": "box",
         "xaxis": "x",
         "y": [
          2109.9353,
          2580.8672,
          1992.2736,
          2085.4592,
          2587.01,
          2118.5796,
          2087.088,
          2488.8872,
          2529.0112,
          2514.089,
          2108.82,
          2643.9514,
          2247.597,
          2099.9507,
          2037.3049,
          2129.1768,
          2202.229,
          2109.487,
          2261.734,
          2128.6135,
          2747.6675,
          2144.3489,
          2146.559,
          2512.0806,
          2193.447,
          2201.8904,
          2769.0137,
          2007.5638,
          2310.417,
          2193.6514
         ],
         "yaxis": "y2"
        },
        {
         "legendgroup": "barcharts",
         "marker": {
          "color": "rgb(141,160,203)"
         },
         "name": "cbo",
         "type": "bar",
         "x": [
          "scan/2[spoon.reflect.path.CtRo"
         ],
         "y": [
          3
         ]
        },
        {
         "legendgroup": "boxplots",
         "marker": {
          "color": "rgb(252,141,98)"
         },
         "name": "scanCtReference/1[spoon.suppor",
         "type": "box",
         "xaxis": "x",
         "y": [
          324.4667,
          319.6152,
          261.6414,
          287.9847,
          364.9052,
          276.3988,
          330.2696,
          348.5787,
          388.358,
          350.1808,
          282.6285,
          319.4237,
          271.5302,
          315.5053,
          284.1926,
          309.2618,
          330.9494,
          290.9835,
          288.9638,
          236.2969,
          344.5818,
          292.3302,
          294.5574,
          383.42618,
          294.0531,
          287.9321,
          352.3981,
          276.0784,
          322.8061,
          272.9096
         ],
         "yaxis": "y2"
        },
        {
         "legendgroup": "barcharts",
         "marker": {
          "color": "rgb(141,160,203)"
         },
         "name": "cbo",
         "type": "bar",
         "x": [
          "scanCtReference/1[spoon.suppor"
         ],
         "y": [
          2
         ]
        },
        {
         "legendgroup": "boxplots",
         "marker": {
          "color": "rgb(252,141,98)"
         },
         "name": "save/2[spoon.support.Factory,j",
         "type": "box",
         "xaxis": "x",
         "y": [
          181.0151,
          248.0991,
          178.4615,
          172.9383,
          202.69249,
          168.11241,
          179.914,
          218.12639,
          187.41481,
          210.5327,
          173.95332,
          208.4054,
          181.94719,
          185.5977,
          139.9531,
          176.17319,
          237.55519,
          169.4388,
          213.7564,
          178.94211,
          221.4096,
          171.6327,
          176.16449,
          232.0682,
          160.4265,
          209.18779,
          236.1469,
          155.0776,
          202.8802,
          179.73792
         ],
         "yaxis": "y2"
        },
        {
         "legendgroup": "barcharts",
         "marker": {
          "color": "rgb(141,160,203)"
         },
         "name": "cbo",
         "type": "bar",
         "x": [
          "save/2[spoon.support.Factory,j"
         ],
         "y": [
          3
         ]
        },
        {
         "legendgroup": "boxplots",
         "marker": {
          "color": "rgb(252,141,98)"
         },
         "name": "getModifiers/0",
         "type": "box",
         "xaxis": "x",
         "y": [
          137.1716,
          174.9281,
          145.9525,
          148.2249,
          131.914,
          139.1097,
          160.9029,
          180.091,
          189.0141,
          162.0639,
          136.1082,
          199.2911,
          141.5503,
          149.4739,
          109.886,
          133.7687,
          173.05,
          158.7378,
          108.4743,
          161.769,
          197.4603,
          163.4404,
          139.6382,
          171.1532,
          130.1266,
          162.268,
          149.1281,
          145.0209,
          167.768,
          137.2319
         ],
         "yaxis": "y2"
        },
        {
         "legendgroup": "barcharts",
         "marker": {
          "color": "rgb(141,160,203)"
         },
         "name": "cbo",
         "type": "bar",
         "x": [
          "getModifiers/0"
         ],
         "y": [
          1
         ]
        },
        {
         "legendgroup": "boxplots",
         "marker": {
          "color": "rgb(252,141,98)"
         },
         "name": "setSimpleName/1[java.lang.Stri",
         "type": "box",
         "xaxis": "x",
         "y": [
          125.4578,
          187.7617,
          145.0521,
          110.2401,
          158.6581,
          111.788895,
          158.7953,
          127.9594,
          163.2884,
          171.3569,
          137.71361,
          159.1271,
          148.1123,
          154.7286,
          137.7333,
          130.6519,
          127.2375,
          154.678,
          138.3295,
          129.6821,
          152.9901,
          140.0973,
          151.8193,
          142.3495,
          128.138,
          139.40851,
          192.6658,
          158.5477,
          136.9798,
          147.90291
         ],
         "yaxis": "y2"
        },
        {
         "legendgroup": "barcharts",
         "marker": {
          "color": "rgb(141,160,203)"
         },
         "name": "cbo",
         "type": "bar",
         "x": [
          "setSimpleName/1[java.lang.Stri"
         ],
         "y": [
          5
         ]
        },
        {
         "legendgroup": "boxplots",
         "marker": {
          "color": "rgb(252,141,98)"
         },
         "name": "biScan/3[spoon.reflect.path.Ct",
         "type": "box",
         "xaxis": "x",
         "y": [
          119.673004,
          125.5151,
          137.54959,
          123.971405,
          153.23979,
          129.8005,
          119.758606,
          132.0799,
          162.2298,
          149.0674,
          143.0008,
          141.0005,
          115.9113,
          112.085,
          125.984406,
          121.658195,
          121.8945,
          112.6119,
          115.8768,
          140.72351,
          131.1951,
          98.011696,
          101.3956,
          117.2669,
          125.3519,
          109.09,
          124.4486,
          130.9865,
          122.5119,
          141.1859
         ],
         "yaxis": "y2"
        },
        {
         "legendgroup": "barcharts",
         "marker": {
          "color": "rgb(141,160,203)"
         },
         "name": "cbo",
         "type": "bar",
         "x": [
          "biScan/3[spoon.reflect.path.Ct"
         ],
         "y": [
          2
         ]
        },
        {
         "legendgroup": "boxplots",
         "marker": {
          "color": "rgb(252,141,98)"
         },
         "name": "visitType/1[spoon.reflect.decl",
         "type": "box",
         "xaxis": "x",
         "y": [
          119.3137,
          128.9028,
          79.8621,
          127.8328,
          108.0706,
          98.999306,
          103.9799,
          102.641304,
          125.511,
          144.9609,
          114.3934,
          130.0146,
          98.607,
          112.4805,
          92.1623,
          80.3142,
          119.5954,
          93.3537,
          115.0626,
          104.7941,
          107.9536,
          99.4674,
          104.564896,
          119.65009,
          100.395996,
          117.297,
          121.7595,
          108.7769,
          125.8379,
          80.0486
         ],
         "yaxis": "y2"
        },
        {
         "legendgroup": "barcharts",
         "marker": {
          "color": "rgb(141,160,203)"
         },
         "name": "cbo",
         "type": "bar",
         "x": [
          "visitType/1[spoon.reflect.decl"
         ],
         "y": [
          6
         ]
        },
        {
         "legendgroup": "boxplots",
         "marker": {
          "color": "rgb(252,141,98)"
         },
         "name": "visitCtInvocation/1[spoon.refl",
         "type": "box",
         "xaxis": "x",
         "y": [
          113.650696,
          174.31549,
          132.60579,
          111.50499,
          154.9508,
          120.8387,
          124.3346,
          174.97931,
          165.64629,
          170.14868,
          150.2058,
          153.80751,
          135.5463,
          157.52132,
          107.810905,
          168.9712,
          123.074905,
          130.72119,
          147.67699,
          129.07849,
          155.83769,
          99.30701,
          135.93071,
          189.0578,
          164.34138,
          129.87639,
          177.50531,
          139.71512,
          141.05371,
          136.7893
         ],
         "yaxis": "y2"
        },
        {
         "legendgroup": "barcharts",
         "marker": {
          "color": "rgb(141,160,203)"
         },
         "name": "cbo",
         "type": "bar",
         "x": [
          "visitCtInvocation/1[spoon.refl"
         ],
         "y": [
          7
         ]
        }
       ],
       "layout": {
        "legend": {
         "traceorder": "normal"
        },
        "template": {
         "data": {
          "bar": [
           {
            "error_x": {
             "color": "#2a3f5f"
            },
            "error_y": {
             "color": "#2a3f5f"
            },
            "marker": {
             "line": {
              "color": "#E5ECF6",
              "width": 0.5
             },
             "pattern": {
              "fillmode": "overlay",
              "size": 10,
              "solidity": 0.2
             }
            },
            "type": "bar"
           }
          ],
          "barpolar": [
           {
            "marker": {
             "line": {
              "color": "#E5ECF6",
              "width": 0.5
             },
             "pattern": {
              "fillmode": "overlay",
              "size": 10,
              "solidity": 0.2
             }
            },
            "type": "barpolar"
           }
          ],
          "carpet": [
           {
            "aaxis": {
             "endlinecolor": "#2a3f5f",
             "gridcolor": "white",
             "linecolor": "white",
             "minorgridcolor": "white",
             "startlinecolor": "#2a3f5f"
            },
            "baxis": {
             "endlinecolor": "#2a3f5f",
             "gridcolor": "white",
             "linecolor": "white",
             "minorgridcolor": "white",
             "startlinecolor": "#2a3f5f"
            },
            "type": "carpet"
           }
          ],
          "choropleth": [
           {
            "colorbar": {
             "outlinewidth": 0,
             "ticks": ""
            },
            "type": "choropleth"
           }
          ],
          "contour": [
           {
            "colorbar": {
             "outlinewidth": 0,
             "ticks": ""
            },
            "colorscale": [
             [
              0,
              "#0d0887"
             ],
             [
              0.1111111111111111,
              "#46039f"
             ],
             [
              0.2222222222222222,
              "#7201a8"
             ],
             [
              0.3333333333333333,
              "#9c179e"
             ],
             [
              0.4444444444444444,
              "#bd3786"
             ],
             [
              0.5555555555555556,
              "#d8576b"
             ],
             [
              0.6666666666666666,
              "#ed7953"
             ],
             [
              0.7777777777777778,
              "#fb9f3a"
             ],
             [
              0.8888888888888888,
              "#fdca26"
             ],
             [
              1,
              "#f0f921"
             ]
            ],
            "type": "contour"
           }
          ],
          "contourcarpet": [
           {
            "colorbar": {
             "outlinewidth": 0,
             "ticks": ""
            },
            "type": "contourcarpet"
           }
          ],
          "heatmap": [
           {
            "colorbar": {
             "outlinewidth": 0,
             "ticks": ""
            },
            "colorscale": [
             [
              0,
              "#0d0887"
             ],
             [
              0.1111111111111111,
              "#46039f"
             ],
             [
              0.2222222222222222,
              "#7201a8"
             ],
             [
              0.3333333333333333,
              "#9c179e"
             ],
             [
              0.4444444444444444,
              "#bd3786"
             ],
             [
              0.5555555555555556,
              "#d8576b"
             ],
             [
              0.6666666666666666,
              "#ed7953"
             ],
             [
              0.7777777777777778,
              "#fb9f3a"
             ],
             [
              0.8888888888888888,
              "#fdca26"
             ],
             [
              1,
              "#f0f921"
             ]
            ],
            "type": "heatmap"
           }
          ],
          "heatmapgl": [
           {
            "colorbar": {
             "outlinewidth": 0,
             "ticks": ""
            },
            "colorscale": [
             [
              0,
              "#0d0887"
             ],
             [
              0.1111111111111111,
              "#46039f"
             ],
             [
              0.2222222222222222,
              "#7201a8"
             ],
             [
              0.3333333333333333,
              "#9c179e"
             ],
             [
              0.4444444444444444,
              "#bd3786"
             ],
             [
              0.5555555555555556,
              "#d8576b"
             ],
             [
              0.6666666666666666,
              "#ed7953"
             ],
             [
              0.7777777777777778,
              "#fb9f3a"
             ],
             [
              0.8888888888888888,
              "#fdca26"
             ],
             [
              1,
              "#f0f921"
             ]
            ],
            "type": "heatmapgl"
           }
          ],
          "histogram": [
           {
            "marker": {
             "pattern": {
              "fillmode": "overlay",
              "size": 10,
              "solidity": 0.2
             }
            },
            "type": "histogram"
           }
          ],
          "histogram2d": [
           {
            "colorbar": {
             "outlinewidth": 0,
             "ticks": ""
            },
            "colorscale": [
             [
              0,
              "#0d0887"
             ],
             [
              0.1111111111111111,
              "#46039f"
             ],
             [
              0.2222222222222222,
              "#7201a8"
             ],
             [
              0.3333333333333333,
              "#9c179e"
             ],
             [
              0.4444444444444444,
              "#bd3786"
             ],
             [
              0.5555555555555556,
              "#d8576b"
             ],
             [
              0.6666666666666666,
              "#ed7953"
             ],
             [
              0.7777777777777778,
              "#fb9f3a"
             ],
             [
              0.8888888888888888,
              "#fdca26"
             ],
             [
              1,
              "#f0f921"
             ]
            ],
            "type": "histogram2d"
           }
          ],
          "histogram2dcontour": [
           {
            "colorbar": {
             "outlinewidth": 0,
             "ticks": ""
            },
            "colorscale": [
             [
              0,
              "#0d0887"
             ],
             [
              0.1111111111111111,
              "#46039f"
             ],
             [
              0.2222222222222222,
              "#7201a8"
             ],
             [
              0.3333333333333333,
              "#9c179e"
             ],
             [
              0.4444444444444444,
              "#bd3786"
             ],
             [
              0.5555555555555556,
              "#d8576b"
             ],
             [
              0.6666666666666666,
              "#ed7953"
             ],
             [
              0.7777777777777778,
              "#fb9f3a"
             ],
             [
              0.8888888888888888,
              "#fdca26"
             ],
             [
              1,
              "#f0f921"
             ]
            ],
            "type": "histogram2dcontour"
           }
          ],
          "mesh3d": [
           {
            "colorbar": {
             "outlinewidth": 0,
             "ticks": ""
            },
            "type": "mesh3d"
           }
          ],
          "parcoords": [
           {
            "line": {
             "colorbar": {
              "outlinewidth": 0,
              "ticks": ""
             }
            },
            "type": "parcoords"
           }
          ],
          "pie": [
           {
            "automargin": true,
            "type": "pie"
           }
          ],
          "scatter": [
           {
            "fillpattern": {
             "fillmode": "overlay",
             "size": 10,
             "solidity": 0.2
            },
            "type": "scatter"
           }
          ],
          "scatter3d": [
           {
            "line": {
             "colorbar": {
              "outlinewidth": 0,
              "ticks": ""
             }
            },
            "marker": {
             "colorbar": {
              "outlinewidth": 0,
              "ticks": ""
             }
            },
            "type": "scatter3d"
           }
          ],
          "scattercarpet": [
           {
            "marker": {
             "colorbar": {
              "outlinewidth": 0,
              "ticks": ""
             }
            },
            "type": "scattercarpet"
           }
          ],
          "scattergeo": [
           {
            "marker": {
             "colorbar": {
              "outlinewidth": 0,
              "ticks": ""
             }
            },
            "type": "scattergeo"
           }
          ],
          "scattergl": [
           {
            "marker": {
             "colorbar": {
              "outlinewidth": 0,
              "ticks": ""
             }
            },
            "type": "scattergl"
           }
          ],
          "scattermapbox": [
           {
            "marker": {
             "colorbar": {
              "outlinewidth": 0,
              "ticks": ""
             }
            },
            "type": "scattermapbox"
           }
          ],
          "scatterpolar": [
           {
            "marker": {
             "colorbar": {
              "outlinewidth": 0,
              "ticks": ""
             }
            },
            "type": "scatterpolar"
           }
          ],
          "scatterpolargl": [
           {
            "marker": {
             "colorbar": {
              "outlinewidth": 0,
              "ticks": ""
             }
            },
            "type": "scatterpolargl"
           }
          ],
          "scatterternary": [
           {
            "marker": {
             "colorbar": {
              "outlinewidth": 0,
              "ticks": ""
             }
            },
            "type": "scatterternary"
           }
          ],
          "surface": [
           {
            "colorbar": {
             "outlinewidth": 0,
             "ticks": ""
            },
            "colorscale": [
             [
              0,
              "#0d0887"
             ],
             [
              0.1111111111111111,
              "#46039f"
             ],
             [
              0.2222222222222222,
              "#7201a8"
             ],
             [
              0.3333333333333333,
              "#9c179e"
             ],
             [
              0.4444444444444444,
              "#bd3786"
             ],
             [
              0.5555555555555556,
              "#d8576b"
             ],
             [
              0.6666666666666666,
              "#ed7953"
             ],
             [
              0.7777777777777778,
              "#fb9f3a"
             ],
             [
              0.8888888888888888,
              "#fdca26"
             ],
             [
              1,
              "#f0f921"
             ]
            ],
            "type": "surface"
           }
          ],
          "table": [
           {
            "cells": {
             "fill": {
              "color": "#EBF0F8"
             },
             "line": {
              "color": "white"
             }
            },
            "header": {
             "fill": {
              "color": "#C8D4E3"
             },
             "line": {
              "color": "white"
             }
            },
            "type": "table"
           }
          ]
         },
         "layout": {
          "annotationdefaults": {
           "arrowcolor": "#2a3f5f",
           "arrowhead": 0,
           "arrowwidth": 1
          },
          "autotypenumbers": "strict",
          "coloraxis": {
           "colorbar": {
            "outlinewidth": 0,
            "ticks": ""
           }
          },
          "colorscale": {
           "diverging": [
            [
             0,
             "#8e0152"
            ],
            [
             0.1,
             "#c51b7d"
            ],
            [
             0.2,
             "#de77ae"
            ],
            [
             0.3,
             "#f1b6da"
            ],
            [
             0.4,
             "#fde0ef"
            ],
            [
             0.5,
             "#f7f7f7"
            ],
            [
             0.6,
             "#e6f5d0"
            ],
            [
             0.7,
             "#b8e186"
            ],
            [
             0.8,
             "#7fbc41"
            ],
            [
             0.9,
             "#4d9221"
            ],
            [
             1,
             "#276419"
            ]
           ],
           "sequential": [
            [
             0,
             "#0d0887"
            ],
            [
             0.1111111111111111,
             "#46039f"
            ],
            [
             0.2222222222222222,
             "#7201a8"
            ],
            [
             0.3333333333333333,
             "#9c179e"
            ],
            [
             0.4444444444444444,
             "#bd3786"
            ],
            [
             0.5555555555555556,
             "#d8576b"
            ],
            [
             0.6666666666666666,
             "#ed7953"
            ],
            [
             0.7777777777777778,
             "#fb9f3a"
            ],
            [
             0.8888888888888888,
             "#fdca26"
            ],
            [
             1,
             "#f0f921"
            ]
           ],
           "sequentialminus": [
            [
             0,
             "#0d0887"
            ],
            [
             0.1111111111111111,
             "#46039f"
            ],
            [
             0.2222222222222222,
             "#7201a8"
            ],
            [
             0.3333333333333333,
             "#9c179e"
            ],
            [
             0.4444444444444444,
             "#bd3786"
            ],
            [
             0.5555555555555556,
             "#d8576b"
            ],
            [
             0.6666666666666666,
             "#ed7953"
            ],
            [
             0.7777777777777778,
             "#fb9f3a"
            ],
            [
             0.8888888888888888,
             "#fdca26"
            ],
            [
             1,
             "#f0f921"
            ]
           ]
          },
          "colorway": [
           "#636efa",
           "#EF553B",
           "#00cc96",
           "#ab63fa",
           "#FFA15A",
           "#19d3f3",
           "#FF6692",
           "#B6E880",
           "#FF97FF",
           "#FECB52"
          ],
          "font": {
           "color": "#2a3f5f"
          },
          "geo": {
           "bgcolor": "white",
           "lakecolor": "white",
           "landcolor": "#E5ECF6",
           "showlakes": true,
           "showland": true,
           "subunitcolor": "white"
          },
          "hoverlabel": {
           "align": "left"
          },
          "hovermode": "closest",
          "mapbox": {
           "style": "light"
          },
          "paper_bgcolor": "white",
          "plot_bgcolor": "#E5ECF6",
          "polar": {
           "angularaxis": {
            "gridcolor": "white",
            "linecolor": "white",
            "ticks": ""
           },
           "bgcolor": "#E5ECF6",
           "radialaxis": {
            "gridcolor": "white",
            "linecolor": "white",
            "ticks": ""
           }
          },
          "scene": {
           "xaxis": {
            "backgroundcolor": "#E5ECF6",
            "gridcolor": "white",
            "gridwidth": 2,
            "linecolor": "white",
            "showbackground": true,
            "ticks": "",
            "zerolinecolor": "white"
           },
           "yaxis": {
            "backgroundcolor": "#E5ECF6",
            "gridcolor": "white",
            "gridwidth": 2,
            "linecolor": "white",
            "showbackground": true,
            "ticks": "",
            "zerolinecolor": "white"
           },
           "zaxis": {
            "backgroundcolor": "#E5ECF6",
            "gridcolor": "white",
            "gridwidth": 2,
            "linecolor": "white",
            "showbackground": true,
            "ticks": "",
            "zerolinecolor": "white"
           }
          },
          "shapedefaults": {
           "line": {
            "color": "#2a3f5f"
           }
          },
          "ternary": {
           "aaxis": {
            "gridcolor": "white",
            "linecolor": "white",
            "ticks": ""
           },
           "baxis": {
            "gridcolor": "white",
            "linecolor": "white",
            "ticks": ""
           },
           "bgcolor": "#E5ECF6",
           "caxis": {
            "gridcolor": "white",
            "linecolor": "white",
            "ticks": ""
           }
          },
          "title": {
           "x": 0.05
          },
          "xaxis": {
           "automargin": true,
           "gridcolor": "white",
           "linecolor": "white",
           "ticks": "",
           "title": {
            "standoff": 15
           },
           "zerolinecolor": "white",
           "zerolinewidth": 2
          },
          "yaxis": {
           "automargin": true,
           "gridcolor": "white",
           "linecolor": "white",
           "ticks": "",
           "title": {
            "standoff": 15
           },
           "zerolinecolor": "white",
           "zerolinewidth": 2
          }
         }
        },
        "title": {
         "text": "Comparison of joular data and 'cbo' metric for repository spoon"
        },
        "xaxis": {
         "anchor": "y",
         "domain": [
          0,
          0.94
         ]
        },
        "yaxis": {
         "anchor": "x",
         "domain": [
          0,
          1
         ]
        },
        "yaxis2": {
         "anchor": "x",
         "overlaying": "y",
         "side": "right"
        }
       }
      }
     },
     "metadata": {},
     "output_type": "display_data"
    },
    {
     "data": {
      "application/vnd.plotly.v1+json": {
       "config": {
        "plotlyServerURL": "https://plot.ly"
       },
       "data": [
        {
         "legendgroup": "boxplots",
         "marker": {
          "color": "rgb(252,141,98)"
         },
         "name": "scan/2[spoon.reflect.path.CtRo",
         "type": "box",
         "xaxis": "x",
         "y": [
          2109.9353,
          2580.8672,
          1992.2736,
          2085.4592,
          2587.01,
          2118.5796,
          2087.088,
          2488.8872,
          2529.0112,
          2514.089,
          2108.82,
          2643.9514,
          2247.597,
          2099.9507,
          2037.3049,
          2129.1768,
          2202.229,
          2109.487,
          2261.734,
          2128.6135,
          2747.6675,
          2144.3489,
          2146.559,
          2512.0806,
          2193.447,
          2201.8904,
          2769.0137,
          2007.5638,
          2310.417,
          2193.6514
         ],
         "yaxis": "y2"
        },
        {
         "legendgroup": "barcharts",
         "marker": {
          "color": "rgb(141,160,203)"
         },
         "name": "wmc",
         "type": "bar",
         "x": [
          "scan/2[spoon.reflect.path.CtRo"
         ],
         "y": [
          5
         ]
        },
        {
         "legendgroup": "boxplots",
         "marker": {
          "color": "rgb(252,141,98)"
         },
         "name": "scanCtReference/1[spoon.suppor",
         "type": "box",
         "xaxis": "x",
         "y": [
          324.4667,
          319.6152,
          261.6414,
          287.9847,
          364.9052,
          276.3988,
          330.2696,
          348.5787,
          388.358,
          350.1808,
          282.6285,
          319.4237,
          271.5302,
          315.5053,
          284.1926,
          309.2618,
          330.9494,
          290.9835,
          288.9638,
          236.2969,
          344.5818,
          292.3302,
          294.5574,
          383.42618,
          294.0531,
          287.9321,
          352.3981,
          276.0784,
          322.8061,
          272.9096
         ],
         "yaxis": "y2"
        },
        {
         "legendgroup": "barcharts",
         "marker": {
          "color": "rgb(141,160,203)"
         },
         "name": "wmc",
         "type": "bar",
         "x": [
          "scanCtReference/1[spoon.suppor"
         ],
         "y": [
          2
         ]
        },
        {
         "legendgroup": "boxplots",
         "marker": {
          "color": "rgb(252,141,98)"
         },
         "name": "save/2[spoon.support.Factory,j",
         "type": "box",
         "xaxis": "x",
         "y": [
          181.0151,
          248.0991,
          178.4615,
          172.9383,
          202.69249,
          168.11241,
          179.914,
          218.12639,
          187.41481,
          210.5327,
          173.95332,
          208.4054,
          181.94719,
          185.5977,
          139.9531,
          176.17319,
          237.55519,
          169.4388,
          213.7564,
          178.94211,
          221.4096,
          171.6327,
          176.16449,
          232.0682,
          160.4265,
          209.18779,
          236.1469,
          155.0776,
          202.8802,
          179.73792
         ],
         "yaxis": "y2"
        },
        {
         "legendgroup": "barcharts",
         "marker": {
          "color": "rgb(141,160,203)"
         },
         "name": "wmc",
         "type": "bar",
         "x": [
          "save/2[spoon.support.Factory,j"
         ],
         "y": [
          4
         ]
        },
        {
         "legendgroup": "boxplots",
         "marker": {
          "color": "rgb(252,141,98)"
         },
         "name": "getModifiers/0",
         "type": "box",
         "xaxis": "x",
         "y": [
          137.1716,
          174.9281,
          145.9525,
          148.2249,
          131.914,
          139.1097,
          160.9029,
          180.091,
          189.0141,
          162.0639,
          136.1082,
          199.2911,
          141.5503,
          149.4739,
          109.886,
          133.7687,
          173.05,
          158.7378,
          108.4743,
          161.769,
          197.4603,
          163.4404,
          139.6382,
          171.1532,
          130.1266,
          162.268,
          149.1281,
          145.0209,
          167.768,
          137.2319
         ],
         "yaxis": "y2"
        },
        {
         "legendgroup": "barcharts",
         "marker": {
          "color": "rgb(141,160,203)"
         },
         "name": "wmc",
         "type": "bar",
         "x": [
          "getModifiers/0"
         ],
         "y": [
          1
         ]
        },
        {
         "legendgroup": "boxplots",
         "marker": {
          "color": "rgb(252,141,98)"
         },
         "name": "setSimpleName/1[java.lang.Stri",
         "type": "box",
         "xaxis": "x",
         "y": [
          125.4578,
          187.7617,
          145.0521,
          110.2401,
          158.6581,
          111.788895,
          158.7953,
          127.9594,
          163.2884,
          171.3569,
          137.71361,
          159.1271,
          148.1123,
          154.7286,
          137.7333,
          130.6519,
          127.2375,
          154.678,
          138.3295,
          129.6821,
          152.9901,
          140.0973,
          151.8193,
          142.3495,
          128.138,
          139.40851,
          192.6658,
          158.5477,
          136.9798,
          147.90291
         ],
         "yaxis": "y2"
        },
        {
         "legendgroup": "barcharts",
         "marker": {
          "color": "rgb(141,160,203)"
         },
         "name": "wmc",
         "type": "bar",
         "x": [
          "setSimpleName/1[java.lang.Stri"
         ],
         "y": [
          3
         ]
        },
        {
         "legendgroup": "boxplots",
         "marker": {
          "color": "rgb(252,141,98)"
         },
         "name": "biScan/3[spoon.reflect.path.Ct",
         "type": "box",
         "xaxis": "x",
         "y": [
          119.673004,
          125.5151,
          137.54959,
          123.971405,
          153.23979,
          129.8005,
          119.758606,
          132.0799,
          162.2298,
          149.0674,
          143.0008,
          141.0005,
          115.9113,
          112.085,
          125.984406,
          121.658195,
          121.8945,
          112.6119,
          115.8768,
          140.72351,
          131.1951,
          98.011696,
          101.3956,
          117.2669,
          125.3519,
          109.09,
          124.4486,
          130.9865,
          122.5119,
          141.1859
         ],
         "yaxis": "y2"
        },
        {
         "legendgroup": "barcharts",
         "marker": {
          "color": "rgb(141,160,203)"
         },
         "name": "wmc",
         "type": "bar",
         "x": [
          "biScan/3[spoon.reflect.path.Ct"
         ],
         "y": [
          3
         ]
        },
        {
         "legendgroup": "boxplots",
         "marker": {
          "color": "rgb(252,141,98)"
         },
         "name": "visitType/1[spoon.reflect.decl",
         "type": "box",
         "xaxis": "x",
         "y": [
          119.3137,
          128.9028,
          79.8621,
          127.8328,
          108.0706,
          98.999306,
          103.9799,
          102.641304,
          125.511,
          144.9609,
          114.3934,
          130.0146,
          98.607,
          112.4805,
          92.1623,
          80.3142,
          119.5954,
          93.3537,
          115.0626,
          104.7941,
          107.9536,
          99.4674,
          104.564896,
          119.65009,
          100.395996,
          117.297,
          121.7595,
          108.7769,
          125.8379,
          80.0486
         ],
         "yaxis": "y2"
        },
        {
         "legendgroup": "barcharts",
         "marker": {
          "color": "rgb(141,160,203)"
         },
         "name": "wmc",
         "type": "bar",
         "x": [
          "visitType/1[spoon.reflect.decl"
         ],
         "y": [
          6
         ]
        },
        {
         "legendgroup": "boxplots",
         "marker": {
          "color": "rgb(252,141,98)"
         },
         "name": "visitCtInvocation/1[spoon.refl",
         "type": "box",
         "xaxis": "x",
         "y": [
          113.650696,
          174.31549,
          132.60579,
          111.50499,
          154.9508,
          120.8387,
          124.3346,
          174.97931,
          165.64629,
          170.14868,
          150.2058,
          153.80751,
          135.5463,
          157.52132,
          107.810905,
          168.9712,
          123.074905,
          130.72119,
          147.67699,
          129.07849,
          155.83769,
          99.30701,
          135.93071,
          189.0578,
          164.34138,
          129.87639,
          177.50531,
          139.71512,
          141.05371,
          136.7893
         ],
         "yaxis": "y2"
        },
        {
         "legendgroup": "barcharts",
         "marker": {
          "color": "rgb(141,160,203)"
         },
         "name": "wmc",
         "type": "bar",
         "x": [
          "visitCtInvocation/1[spoon.refl"
         ],
         "y": [
          1
         ]
        }
       ],
       "layout": {
        "legend": {
         "traceorder": "normal"
        },
        "template": {
         "data": {
          "bar": [
           {
            "error_x": {
             "color": "#2a3f5f"
            },
            "error_y": {
             "color": "#2a3f5f"
            },
            "marker": {
             "line": {
              "color": "#E5ECF6",
              "width": 0.5
             },
             "pattern": {
              "fillmode": "overlay",
              "size": 10,
              "solidity": 0.2
             }
            },
            "type": "bar"
           }
          ],
          "barpolar": [
           {
            "marker": {
             "line": {
              "color": "#E5ECF6",
              "width": 0.5
             },
             "pattern": {
              "fillmode": "overlay",
              "size": 10,
              "solidity": 0.2
             }
            },
            "type": "barpolar"
           }
          ],
          "carpet": [
           {
            "aaxis": {
             "endlinecolor": "#2a3f5f",
             "gridcolor": "white",
             "linecolor": "white",
             "minorgridcolor": "white",
             "startlinecolor": "#2a3f5f"
            },
            "baxis": {
             "endlinecolor": "#2a3f5f",
             "gridcolor": "white",
             "linecolor": "white",
             "minorgridcolor": "white",
             "startlinecolor": "#2a3f5f"
            },
            "type": "carpet"
           }
          ],
          "choropleth": [
           {
            "colorbar": {
             "outlinewidth": 0,
             "ticks": ""
            },
            "type": "choropleth"
           }
          ],
          "contour": [
           {
            "colorbar": {
             "outlinewidth": 0,
             "ticks": ""
            },
            "colorscale": [
             [
              0,
              "#0d0887"
             ],
             [
              0.1111111111111111,
              "#46039f"
             ],
             [
              0.2222222222222222,
              "#7201a8"
             ],
             [
              0.3333333333333333,
              "#9c179e"
             ],
             [
              0.4444444444444444,
              "#bd3786"
             ],
             [
              0.5555555555555556,
              "#d8576b"
             ],
             [
              0.6666666666666666,
              "#ed7953"
             ],
             [
              0.7777777777777778,
              "#fb9f3a"
             ],
             [
              0.8888888888888888,
              "#fdca26"
             ],
             [
              1,
              "#f0f921"
             ]
            ],
            "type": "contour"
           }
          ],
          "contourcarpet": [
           {
            "colorbar": {
             "outlinewidth": 0,
             "ticks": ""
            },
            "type": "contourcarpet"
           }
          ],
          "heatmap": [
           {
            "colorbar": {
             "outlinewidth": 0,
             "ticks": ""
            },
            "colorscale": [
             [
              0,
              "#0d0887"
             ],
             [
              0.1111111111111111,
              "#46039f"
             ],
             [
              0.2222222222222222,
              "#7201a8"
             ],
             [
              0.3333333333333333,
              "#9c179e"
             ],
             [
              0.4444444444444444,
              "#bd3786"
             ],
             [
              0.5555555555555556,
              "#d8576b"
             ],
             [
              0.6666666666666666,
              "#ed7953"
             ],
             [
              0.7777777777777778,
              "#fb9f3a"
             ],
             [
              0.8888888888888888,
              "#fdca26"
             ],
             [
              1,
              "#f0f921"
             ]
            ],
            "type": "heatmap"
           }
          ],
          "heatmapgl": [
           {
            "colorbar": {
             "outlinewidth": 0,
             "ticks": ""
            },
            "colorscale": [
             [
              0,
              "#0d0887"
             ],
             [
              0.1111111111111111,
              "#46039f"
             ],
             [
              0.2222222222222222,
              "#7201a8"
             ],
             [
              0.3333333333333333,
              "#9c179e"
             ],
             [
              0.4444444444444444,
              "#bd3786"
             ],
             [
              0.5555555555555556,
              "#d8576b"
             ],
             [
              0.6666666666666666,
              "#ed7953"
             ],
             [
              0.7777777777777778,
              "#fb9f3a"
             ],
             [
              0.8888888888888888,
              "#fdca26"
             ],
             [
              1,
              "#f0f921"
             ]
            ],
            "type": "heatmapgl"
           }
          ],
          "histogram": [
           {
            "marker": {
             "pattern": {
              "fillmode": "overlay",
              "size": 10,
              "solidity": 0.2
             }
            },
            "type": "histogram"
           }
          ],
          "histogram2d": [
           {
            "colorbar": {
             "outlinewidth": 0,
             "ticks": ""
            },
            "colorscale": [
             [
              0,
              "#0d0887"
             ],
             [
              0.1111111111111111,
              "#46039f"
             ],
             [
              0.2222222222222222,
              "#7201a8"
             ],
             [
              0.3333333333333333,
              "#9c179e"
             ],
             [
              0.4444444444444444,
              "#bd3786"
             ],
             [
              0.5555555555555556,
              "#d8576b"
             ],
             [
              0.6666666666666666,
              "#ed7953"
             ],
             [
              0.7777777777777778,
              "#fb9f3a"
             ],
             [
              0.8888888888888888,
              "#fdca26"
             ],
             [
              1,
              "#f0f921"
             ]
            ],
            "type": "histogram2d"
           }
          ],
          "histogram2dcontour": [
           {
            "colorbar": {
             "outlinewidth": 0,
             "ticks": ""
            },
            "colorscale": [
             [
              0,
              "#0d0887"
             ],
             [
              0.1111111111111111,
              "#46039f"
             ],
             [
              0.2222222222222222,
              "#7201a8"
             ],
             [
              0.3333333333333333,
              "#9c179e"
             ],
             [
              0.4444444444444444,
              "#bd3786"
             ],
             [
              0.5555555555555556,
              "#d8576b"
             ],
             [
              0.6666666666666666,
              "#ed7953"
             ],
             [
              0.7777777777777778,
              "#fb9f3a"
             ],
             [
              0.8888888888888888,
              "#fdca26"
             ],
             [
              1,
              "#f0f921"
             ]
            ],
            "type": "histogram2dcontour"
           }
          ],
          "mesh3d": [
           {
            "colorbar": {
             "outlinewidth": 0,
             "ticks": ""
            },
            "type": "mesh3d"
           }
          ],
          "parcoords": [
           {
            "line": {
             "colorbar": {
              "outlinewidth": 0,
              "ticks": ""
             }
            },
            "type": "parcoords"
           }
          ],
          "pie": [
           {
            "automargin": true,
            "type": "pie"
           }
          ],
          "scatter": [
           {
            "fillpattern": {
             "fillmode": "overlay",
             "size": 10,
             "solidity": 0.2
            },
            "type": "scatter"
           }
          ],
          "scatter3d": [
           {
            "line": {
             "colorbar": {
              "outlinewidth": 0,
              "ticks": ""
             }
            },
            "marker": {
             "colorbar": {
              "outlinewidth": 0,
              "ticks": ""
             }
            },
            "type": "scatter3d"
           }
          ],
          "scattercarpet": [
           {
            "marker": {
             "colorbar": {
              "outlinewidth": 0,
              "ticks": ""
             }
            },
            "type": "scattercarpet"
           }
          ],
          "scattergeo": [
           {
            "marker": {
             "colorbar": {
              "outlinewidth": 0,
              "ticks": ""
             }
            },
            "type": "scattergeo"
           }
          ],
          "scattergl": [
           {
            "marker": {
             "colorbar": {
              "outlinewidth": 0,
              "ticks": ""
             }
            },
            "type": "scattergl"
           }
          ],
          "scattermapbox": [
           {
            "marker": {
             "colorbar": {
              "outlinewidth": 0,
              "ticks": ""
             }
            },
            "type": "scattermapbox"
           }
          ],
          "scatterpolar": [
           {
            "marker": {
             "colorbar": {
              "outlinewidth": 0,
              "ticks": ""
             }
            },
            "type": "scatterpolar"
           }
          ],
          "scatterpolargl": [
           {
            "marker": {
             "colorbar": {
              "outlinewidth": 0,
              "ticks": ""
             }
            },
            "type": "scatterpolargl"
           }
          ],
          "scatterternary": [
           {
            "marker": {
             "colorbar": {
              "outlinewidth": 0,
              "ticks": ""
             }
            },
            "type": "scatterternary"
           }
          ],
          "surface": [
           {
            "colorbar": {
             "outlinewidth": 0,
             "ticks": ""
            },
            "colorscale": [
             [
              0,
              "#0d0887"
             ],
             [
              0.1111111111111111,
              "#46039f"
             ],
             [
              0.2222222222222222,
              "#7201a8"
             ],
             [
              0.3333333333333333,
              "#9c179e"
             ],
             [
              0.4444444444444444,
              "#bd3786"
             ],
             [
              0.5555555555555556,
              "#d8576b"
             ],
             [
              0.6666666666666666,
              "#ed7953"
             ],
             [
              0.7777777777777778,
              "#fb9f3a"
             ],
             [
              0.8888888888888888,
              "#fdca26"
             ],
             [
              1,
              "#f0f921"
             ]
            ],
            "type": "surface"
           }
          ],
          "table": [
           {
            "cells": {
             "fill": {
              "color": "#EBF0F8"
             },
             "line": {
              "color": "white"
             }
            },
            "header": {
             "fill": {
              "color": "#C8D4E3"
             },
             "line": {
              "color": "white"
             }
            },
            "type": "table"
           }
          ]
         },
         "layout": {
          "annotationdefaults": {
           "arrowcolor": "#2a3f5f",
           "arrowhead": 0,
           "arrowwidth": 1
          },
          "autotypenumbers": "strict",
          "coloraxis": {
           "colorbar": {
            "outlinewidth": 0,
            "ticks": ""
           }
          },
          "colorscale": {
           "diverging": [
            [
             0,
             "#8e0152"
            ],
            [
             0.1,
             "#c51b7d"
            ],
            [
             0.2,
             "#de77ae"
            ],
            [
             0.3,
             "#f1b6da"
            ],
            [
             0.4,
             "#fde0ef"
            ],
            [
             0.5,
             "#f7f7f7"
            ],
            [
             0.6,
             "#e6f5d0"
            ],
            [
             0.7,
             "#b8e186"
            ],
            [
             0.8,
             "#7fbc41"
            ],
            [
             0.9,
             "#4d9221"
            ],
            [
             1,
             "#276419"
            ]
           ],
           "sequential": [
            [
             0,
             "#0d0887"
            ],
            [
             0.1111111111111111,
             "#46039f"
            ],
            [
             0.2222222222222222,
             "#7201a8"
            ],
            [
             0.3333333333333333,
             "#9c179e"
            ],
            [
             0.4444444444444444,
             "#bd3786"
            ],
            [
             0.5555555555555556,
             "#d8576b"
            ],
            [
             0.6666666666666666,
             "#ed7953"
            ],
            [
             0.7777777777777778,
             "#fb9f3a"
            ],
            [
             0.8888888888888888,
             "#fdca26"
            ],
            [
             1,
             "#f0f921"
            ]
           ],
           "sequentialminus": [
            [
             0,
             "#0d0887"
            ],
            [
             0.1111111111111111,
             "#46039f"
            ],
            [
             0.2222222222222222,
             "#7201a8"
            ],
            [
             0.3333333333333333,
             "#9c179e"
            ],
            [
             0.4444444444444444,
             "#bd3786"
            ],
            [
             0.5555555555555556,
             "#d8576b"
            ],
            [
             0.6666666666666666,
             "#ed7953"
            ],
            [
             0.7777777777777778,
             "#fb9f3a"
            ],
            [
             0.8888888888888888,
             "#fdca26"
            ],
            [
             1,
             "#f0f921"
            ]
           ]
          },
          "colorway": [
           "#636efa",
           "#EF553B",
           "#00cc96",
           "#ab63fa",
           "#FFA15A",
           "#19d3f3",
           "#FF6692",
           "#B6E880",
           "#FF97FF",
           "#FECB52"
          ],
          "font": {
           "color": "#2a3f5f"
          },
          "geo": {
           "bgcolor": "white",
           "lakecolor": "white",
           "landcolor": "#E5ECF6",
           "showlakes": true,
           "showland": true,
           "subunitcolor": "white"
          },
          "hoverlabel": {
           "align": "left"
          },
          "hovermode": "closest",
          "mapbox": {
           "style": "light"
          },
          "paper_bgcolor": "white",
          "plot_bgcolor": "#E5ECF6",
          "polar": {
           "angularaxis": {
            "gridcolor": "white",
            "linecolor": "white",
            "ticks": ""
           },
           "bgcolor": "#E5ECF6",
           "radialaxis": {
            "gridcolor": "white",
            "linecolor": "white",
            "ticks": ""
           }
          },
          "scene": {
           "xaxis": {
            "backgroundcolor": "#E5ECF6",
            "gridcolor": "white",
            "gridwidth": 2,
            "linecolor": "white",
            "showbackground": true,
            "ticks": "",
            "zerolinecolor": "white"
           },
           "yaxis": {
            "backgroundcolor": "#E5ECF6",
            "gridcolor": "white",
            "gridwidth": 2,
            "linecolor": "white",
            "showbackground": true,
            "ticks": "",
            "zerolinecolor": "white"
           },
           "zaxis": {
            "backgroundcolor": "#E5ECF6",
            "gridcolor": "white",
            "gridwidth": 2,
            "linecolor": "white",
            "showbackground": true,
            "ticks": "",
            "zerolinecolor": "white"
           }
          },
          "shapedefaults": {
           "line": {
            "color": "#2a3f5f"
           }
          },
          "ternary": {
           "aaxis": {
            "gridcolor": "white",
            "linecolor": "white",
            "ticks": ""
           },
           "baxis": {
            "gridcolor": "white",
            "linecolor": "white",
            "ticks": ""
           },
           "bgcolor": "#E5ECF6",
           "caxis": {
            "gridcolor": "white",
            "linecolor": "white",
            "ticks": ""
           }
          },
          "title": {
           "x": 0.05
          },
          "xaxis": {
           "automargin": true,
           "gridcolor": "white",
           "linecolor": "white",
           "ticks": "",
           "title": {
            "standoff": 15
           },
           "zerolinecolor": "white",
           "zerolinewidth": 2
          },
          "yaxis": {
           "automargin": true,
           "gridcolor": "white",
           "linecolor": "white",
           "ticks": "",
           "title": {
            "standoff": 15
           },
           "zerolinecolor": "white",
           "zerolinewidth": 2
          }
         }
        },
        "title": {
         "text": "Comparison of joular data and 'wmc' metric for repository spoon"
        },
        "xaxis": {
         "anchor": "y",
         "domain": [
          0,
          0.94
         ]
        },
        "yaxis": {
         "anchor": "x",
         "domain": [
          0,
          1
         ]
        },
        "yaxis2": {
         "anchor": "x",
         "overlaying": "y",
         "side": "right"
        }
       }
      }
     },
     "metadata": {},
     "output_type": "display_data"
    },
    {
     "name": "stdout",
     "output_type": "stream",
     "text": [
      "Len with outliers :  76\n",
      "Len without outliers :  32\n",
      "[{'Method': 'correlateByWords/2[java.lang.String,java.lang.String]', 'Class': 'org.jabref.logic.database.DuplicateCheck', 'JoularValues': [109.749405, 123.503296, 105.668396, 122.218506, 110.789505, 105.7037, 88.0346, 96.5299, 109.9906, 102.5186, 94.9471, 122.4103, 110.3614, 149.202, 100.662506, 96.467896, 108.336395, 130.94489, 96.8728, 142.29599, 117.6544, 117.76, 111.7433, 116.8712, 110.956, 132.6521, 98.000305, 138.413, 101.8049, 114.8927], 'loc': 14.0, 'wmc': 3.0, 'cbo': 1.0}, {'Method': 'setUp/0', 'Class': 'org.jabref.cli.AuxCommandLineTest', 'JoularValues': [108.6305, 98.3913, 98.205, 97.3779, 94.3094, 95.4783, 85.2979, 107.849, 90.9143, 99.0826, 124.4896, 104.6387, 126.1231, 95.1528, 91.463, 115.5113, 97.1995, 109.9923, 84.151, 95.5857, 91.0406, 90.5464, 88.9281, 84.1854, 107.3451, 92.1697, 102.836, 93.7997, 104.2619, 109.5686], 'loc': 3.0, 'wmc': 1.0, 'cbo': 2.0}, {'Method': 'writeToIndex/2[org.jabref.logic.pdf.search.indexing.BibEntry,org.jabref.logic.pdf.search.indexing.LinkedFile]', 'Class': 'org.jabref.logic.pdf.search.indexing.PdfIndexer', 'JoularValues': [85.19861, 196.84381, 72.4242, 182.2456, 248.15561, 70.8846, 191.8188, 92.1251, 76.456505, 219.8806, 168.0745, 65.9431, 201.0169, 70.379196, 164.4825, 80.465096, 67.8358, 228.1291, 192.7792, 253.18959, 79.0065, 69.6159, 252.48721, 340.14468, 243.8313, 249.5533, 242.8196, 246.71329, 102.531, 77.7499], 'loc': 37.0, 'wmc': 9.0, 'cbo': 12.0}, {'Method': 'receiveMessage/0', 'Class': 'org.jabref.logic.remote.shared.Protocol', 'JoularValues': [84.8567, 45.9535, 40.7698, 65.6244, 93.5691, 38.6047, 54.0138, 74.283, 45.3847, 36.01, 117.3226, 38.5138, 42.2084, 53.411, 99.0356, 53.7583, 49.1049, 50.864, 92.1523, 105.3108, 56.1171, 39.001, 35.211, 89.8795, 40.3314, 38.6972, 94.2786, 42.8257, 148.87761, 59.5551], 'loc': 19.0, 'wmc': 5.0, 'cbo': 2.0}, {'Method': 'createMarshallerAndWriteToFile/2[org.jabref.logic.exporter.File,java.nio.file.Path]', 'Class': 'org.jabref.logic.exporter.BibTeXMLExporter', 'JoularValues': [70.2172, 61.227303, 58.006897, 72.5075, 85.419106, 60.087402, 69.2925, 62.9429, 74.307, 74.5194, 86.272804, 70.8667, 67.8776, 92.9277, 68.0572, 65.6374, 54.7753, 77.349106, 86.44881, 78.3398, 73.1373, 60.1921, 69.8659, 60.0934, 72.6306, 66.891396, 64.7939, 57.0191, 75.1929, 59.7048], 'loc': 13.0, 'wmc': 3.0, 'cbo': 3.0}, {'Method': 'canBeReached/0', 'Class': 'org.jabref.logic.net.URLDownload', 'JoularValues': [60.9259, 61.7796, 53.6698, 53.8071, 59.1064, 55.9645, 56.707, 58.8378, 56.4947, 59.3578, 49.2901, 57.2426, 53.9012, 56.7335, 50.5996, 62.945, 65.4708, 55.164, 58.8516, 51.3721, 60.6535, 58.7432, 55.8507, 59.2052, 52.1341, 59.8284, 48.0947, 57.2678, 53.0056, 56.755], 'loc': 5.0, 'wmc': 3.0, 'cbo': 0.0}, {'Method': 'importDatabase/1[java.io.BufferedReader]', 'Class': 'org.jabref.logic.importer.fileformat.BibTeXMLImporter', 'JoularValues': [54.984203, 38.854298, 59.4259, 41.1486, 46.7812, 34.9215, 65.317505, 45.934402, 56.7363, 64.867096, 50.706497, 53.9739, 44.4857, 48.328102, 44.1985, 54.1489, 44.580303, 46.4724, 55.333, 58.1154, 54.2079, 52.2667, 60.7067, 58.843403, 54.6115, 49.745197, 62.594498, 52.475002, 54.3215, 40.558304], 'loc': 84.0, 'wmc': 19.0, 'cbo': 9.0}, {'Method': 'importDatabase/1[java.io.BufferedReader]', 'Class': 'org.jabref.logic.importer.fileformat.ModsImporter', 'JoularValues': [43.340797, 43.1687, 51.607704, 58.787, 56.414898, 45.665497, 53.916, 56.263897, 45.501, 57.225197, 54.317802, 52.9765, 54.5402, 57.5721, 64.9049, 47.952, 52.3807, 42.508896, 50.3865, 46.440098, 56.1285, 43.4398, 54.2464, 51.145798, 57.4494, 47.5049, 57.1949, 46.966797, 43.8716, 37.3327], 'loc': 29.0, 'wmc': 5.0, 'cbo': 7.0}]\n"
     ]
    },
    {
     "data": {
      "application/vnd.plotly.v1+json": {
       "config": {
        "plotlyServerURL": "https://plot.ly"
       },
       "data": [
        {
         "legendgroup": "boxplots",
         "marker": {
          "color": "rgb(252,141,98)"
         },
         "name": "correlateByWords/2[java.lang.S",
         "type": "box",
         "xaxis": "x",
         "y": [
          109.749405,
          123.503296,
          105.668396,
          122.218506,
          110.789505,
          105.7037,
          88.0346,
          96.5299,
          109.9906,
          102.5186,
          94.9471,
          122.4103,
          110.3614,
          149.202,
          100.662506,
          96.467896,
          108.336395,
          130.94489,
          96.8728,
          142.29599,
          117.6544,
          117.76,
          111.7433,
          116.8712,
          110.956,
          132.6521,
          98.000305,
          138.413,
          101.8049,
          114.8927
         ],
         "yaxis": "y2"
        },
        {
         "legendgroup": "barcharts",
         "marker": {
          "color": "rgb(141,160,203)"
         },
         "name": "loc",
         "type": "bar",
         "x": [
          "correlateByWords/2[java.lang.S"
         ],
         "y": [
          14
         ]
        },
        {
         "legendgroup": "boxplots",
         "marker": {
          "color": "rgb(252,141,98)"
         },
         "name": "setUp/0",
         "type": "box",
         "xaxis": "x",
         "y": [
          108.6305,
          98.3913,
          98.205,
          97.3779,
          94.3094,
          95.4783,
          85.2979,
          107.849,
          90.9143,
          99.0826,
          124.4896,
          104.6387,
          126.1231,
          95.1528,
          91.463,
          115.5113,
          97.1995,
          109.9923,
          84.151,
          95.5857,
          91.0406,
          90.5464,
          88.9281,
          84.1854,
          107.3451,
          92.1697,
          102.836,
          93.7997,
          104.2619,
          109.5686
         ],
         "yaxis": "y2"
        },
        {
         "legendgroup": "barcharts",
         "marker": {
          "color": "rgb(141,160,203)"
         },
         "name": "loc",
         "type": "bar",
         "x": [
          "setUp/0"
         ],
         "y": [
          3
         ]
        },
        {
         "legendgroup": "boxplots",
         "marker": {
          "color": "rgb(252,141,98)"
         },
         "name": "writeToIndex/2[org.jabref.logi",
         "type": "box",
         "xaxis": "x",
         "y": [
          85.19861,
          196.84381,
          72.4242,
          182.2456,
          248.15561,
          70.8846,
          191.8188,
          92.1251,
          76.456505,
          219.8806,
          168.0745,
          65.9431,
          201.0169,
          70.379196,
          164.4825,
          80.465096,
          67.8358,
          228.1291,
          192.7792,
          253.18959,
          79.0065,
          69.6159,
          252.48721,
          340.14468,
          243.8313,
          249.5533,
          242.8196,
          246.71329,
          102.531,
          77.7499
         ],
         "yaxis": "y2"
        },
        {
         "legendgroup": "barcharts",
         "marker": {
          "color": "rgb(141,160,203)"
         },
         "name": "loc",
         "type": "bar",
         "x": [
          "writeToIndex/2[org.jabref.logi"
         ],
         "y": [
          37
         ]
        },
        {
         "legendgroup": "boxplots",
         "marker": {
          "color": "rgb(252,141,98)"
         },
         "name": "receiveMessage/0",
         "type": "box",
         "xaxis": "x",
         "y": [
          84.8567,
          45.9535,
          40.7698,
          65.6244,
          93.5691,
          38.6047,
          54.0138,
          74.283,
          45.3847,
          36.01,
          117.3226,
          38.5138,
          42.2084,
          53.411,
          99.0356,
          53.7583,
          49.1049,
          50.864,
          92.1523,
          105.3108,
          56.1171,
          39.001,
          35.211,
          89.8795,
          40.3314,
          38.6972,
          94.2786,
          42.8257,
          148.87761,
          59.5551
         ],
         "yaxis": "y2"
        },
        {
         "legendgroup": "barcharts",
         "marker": {
          "color": "rgb(141,160,203)"
         },
         "name": "loc",
         "type": "bar",
         "x": [
          "receiveMessage/0"
         ],
         "y": [
          19
         ]
        },
        {
         "legendgroup": "boxplots",
         "marker": {
          "color": "rgb(252,141,98)"
         },
         "name": "createMarshallerAndWriteToFile",
         "type": "box",
         "xaxis": "x",
         "y": [
          70.2172,
          61.227303,
          58.006897,
          72.5075,
          85.419106,
          60.087402,
          69.2925,
          62.9429,
          74.307,
          74.5194,
          86.272804,
          70.8667,
          67.8776,
          92.9277,
          68.0572,
          65.6374,
          54.7753,
          77.349106,
          86.44881,
          78.3398,
          73.1373,
          60.1921,
          69.8659,
          60.0934,
          72.6306,
          66.891396,
          64.7939,
          57.0191,
          75.1929,
          59.7048
         ],
         "yaxis": "y2"
        },
        {
         "legendgroup": "barcharts",
         "marker": {
          "color": "rgb(141,160,203)"
         },
         "name": "loc",
         "type": "bar",
         "x": [
          "createMarshallerAndWriteToFile"
         ],
         "y": [
          13
         ]
        },
        {
         "legendgroup": "boxplots",
         "marker": {
          "color": "rgb(252,141,98)"
         },
         "name": "canBeReached/0",
         "type": "box",
         "xaxis": "x",
         "y": [
          60.9259,
          61.7796,
          53.6698,
          53.8071,
          59.1064,
          55.9645,
          56.707,
          58.8378,
          56.4947,
          59.3578,
          49.2901,
          57.2426,
          53.9012,
          56.7335,
          50.5996,
          62.945,
          65.4708,
          55.164,
          58.8516,
          51.3721,
          60.6535,
          58.7432,
          55.8507,
          59.2052,
          52.1341,
          59.8284,
          48.0947,
          57.2678,
          53.0056,
          56.755
         ],
         "yaxis": "y2"
        },
        {
         "legendgroup": "barcharts",
         "marker": {
          "color": "rgb(141,160,203)"
         },
         "name": "loc",
         "type": "bar",
         "x": [
          "canBeReached/0"
         ],
         "y": [
          5
         ]
        },
        {
         "legendgroup": "boxplots",
         "marker": {
          "color": "rgb(252,141,98)"
         },
         "name": "importDatabase/1[java.io.Buffe",
         "type": "box",
         "xaxis": "x",
         "y": [
          54.984203,
          38.854298,
          59.4259,
          41.1486,
          46.7812,
          34.9215,
          65.317505,
          45.934402,
          56.7363,
          64.867096,
          50.706497,
          53.9739,
          44.4857,
          48.328102,
          44.1985,
          54.1489,
          44.580303,
          46.4724,
          55.333,
          58.1154,
          54.2079,
          52.2667,
          60.7067,
          58.843403,
          54.6115,
          49.745197,
          62.594498,
          52.475002,
          54.3215,
          40.558304
         ],
         "yaxis": "y2"
        },
        {
         "legendgroup": "barcharts",
         "marker": {
          "color": "rgb(141,160,203)"
         },
         "name": "loc",
         "type": "bar",
         "x": [
          "importDatabase/1[java.io.Buffe"
         ],
         "y": [
          84
         ]
        },
        {
         "legendgroup": "boxplots",
         "marker": {
          "color": "rgb(252,141,98)"
         },
         "name": "importDatabase/1[java.io.Buffe",
         "type": "box",
         "xaxis": "x",
         "y": [
          43.340797,
          43.1687,
          51.607704,
          58.787,
          56.414898,
          45.665497,
          53.916,
          56.263897,
          45.501,
          57.225197,
          54.317802,
          52.9765,
          54.5402,
          57.5721,
          64.9049,
          47.952,
          52.3807,
          42.508896,
          50.3865,
          46.440098,
          56.1285,
          43.4398,
          54.2464,
          51.145798,
          57.4494,
          47.5049,
          57.1949,
          46.966797,
          43.8716,
          37.3327
         ],
         "yaxis": "y2"
        },
        {
         "legendgroup": "barcharts",
         "marker": {
          "color": "rgb(141,160,203)"
         },
         "name": "loc",
         "type": "bar",
         "x": [
          "importDatabase/1[java.io.Buffe"
         ],
         "y": [
          29
         ]
        }
       ],
       "layout": {
        "legend": {
         "traceorder": "normal"
        },
        "template": {
         "data": {
          "bar": [
           {
            "error_x": {
             "color": "#2a3f5f"
            },
            "error_y": {
             "color": "#2a3f5f"
            },
            "marker": {
             "line": {
              "color": "#E5ECF6",
              "width": 0.5
             },
             "pattern": {
              "fillmode": "overlay",
              "size": 10,
              "solidity": 0.2
             }
            },
            "type": "bar"
           }
          ],
          "barpolar": [
           {
            "marker": {
             "line": {
              "color": "#E5ECF6",
              "width": 0.5
             },
             "pattern": {
              "fillmode": "overlay",
              "size": 10,
              "solidity": 0.2
             }
            },
            "type": "barpolar"
           }
          ],
          "carpet": [
           {
            "aaxis": {
             "endlinecolor": "#2a3f5f",
             "gridcolor": "white",
             "linecolor": "white",
             "minorgridcolor": "white",
             "startlinecolor": "#2a3f5f"
            },
            "baxis": {
             "endlinecolor": "#2a3f5f",
             "gridcolor": "white",
             "linecolor": "white",
             "minorgridcolor": "white",
             "startlinecolor": "#2a3f5f"
            },
            "type": "carpet"
           }
          ],
          "choropleth": [
           {
            "colorbar": {
             "outlinewidth": 0,
             "ticks": ""
            },
            "type": "choropleth"
           }
          ],
          "contour": [
           {
            "colorbar": {
             "outlinewidth": 0,
             "ticks": ""
            },
            "colorscale": [
             [
              0,
              "#0d0887"
             ],
             [
              0.1111111111111111,
              "#46039f"
             ],
             [
              0.2222222222222222,
              "#7201a8"
             ],
             [
              0.3333333333333333,
              "#9c179e"
             ],
             [
              0.4444444444444444,
              "#bd3786"
             ],
             [
              0.5555555555555556,
              "#d8576b"
             ],
             [
              0.6666666666666666,
              "#ed7953"
             ],
             [
              0.7777777777777778,
              "#fb9f3a"
             ],
             [
              0.8888888888888888,
              "#fdca26"
             ],
             [
              1,
              "#f0f921"
             ]
            ],
            "type": "contour"
           }
          ],
          "contourcarpet": [
           {
            "colorbar": {
             "outlinewidth": 0,
             "ticks": ""
            },
            "type": "contourcarpet"
           }
          ],
          "heatmap": [
           {
            "colorbar": {
             "outlinewidth": 0,
             "ticks": ""
            },
            "colorscale": [
             [
              0,
              "#0d0887"
             ],
             [
              0.1111111111111111,
              "#46039f"
             ],
             [
              0.2222222222222222,
              "#7201a8"
             ],
             [
              0.3333333333333333,
              "#9c179e"
             ],
             [
              0.4444444444444444,
              "#bd3786"
             ],
             [
              0.5555555555555556,
              "#d8576b"
             ],
             [
              0.6666666666666666,
              "#ed7953"
             ],
             [
              0.7777777777777778,
              "#fb9f3a"
             ],
             [
              0.8888888888888888,
              "#fdca26"
             ],
             [
              1,
              "#f0f921"
             ]
            ],
            "type": "heatmap"
           }
          ],
          "heatmapgl": [
           {
            "colorbar": {
             "outlinewidth": 0,
             "ticks": ""
            },
            "colorscale": [
             [
              0,
              "#0d0887"
             ],
             [
              0.1111111111111111,
              "#46039f"
             ],
             [
              0.2222222222222222,
              "#7201a8"
             ],
             [
              0.3333333333333333,
              "#9c179e"
             ],
             [
              0.4444444444444444,
              "#bd3786"
             ],
             [
              0.5555555555555556,
              "#d8576b"
             ],
             [
              0.6666666666666666,
              "#ed7953"
             ],
             [
              0.7777777777777778,
              "#fb9f3a"
             ],
             [
              0.8888888888888888,
              "#fdca26"
             ],
             [
              1,
              "#f0f921"
             ]
            ],
            "type": "heatmapgl"
           }
          ],
          "histogram": [
           {
            "marker": {
             "pattern": {
              "fillmode": "overlay",
              "size": 10,
              "solidity": 0.2
             }
            },
            "type": "histogram"
           }
          ],
          "histogram2d": [
           {
            "colorbar": {
             "outlinewidth": 0,
             "ticks": ""
            },
            "colorscale": [
             [
              0,
              "#0d0887"
             ],
             [
              0.1111111111111111,
              "#46039f"
             ],
             [
              0.2222222222222222,
              "#7201a8"
             ],
             [
              0.3333333333333333,
              "#9c179e"
             ],
             [
              0.4444444444444444,
              "#bd3786"
             ],
             [
              0.5555555555555556,
              "#d8576b"
             ],
             [
              0.6666666666666666,
              "#ed7953"
             ],
             [
              0.7777777777777778,
              "#fb9f3a"
             ],
             [
              0.8888888888888888,
              "#fdca26"
             ],
             [
              1,
              "#f0f921"
             ]
            ],
            "type": "histogram2d"
           }
          ],
          "histogram2dcontour": [
           {
            "colorbar": {
             "outlinewidth": 0,
             "ticks": ""
            },
            "colorscale": [
             [
              0,
              "#0d0887"
             ],
             [
              0.1111111111111111,
              "#46039f"
             ],
             [
              0.2222222222222222,
              "#7201a8"
             ],
             [
              0.3333333333333333,
              "#9c179e"
             ],
             [
              0.4444444444444444,
              "#bd3786"
             ],
             [
              0.5555555555555556,
              "#d8576b"
             ],
             [
              0.6666666666666666,
              "#ed7953"
             ],
             [
              0.7777777777777778,
              "#fb9f3a"
             ],
             [
              0.8888888888888888,
              "#fdca26"
             ],
             [
              1,
              "#f0f921"
             ]
            ],
            "type": "histogram2dcontour"
           }
          ],
          "mesh3d": [
           {
            "colorbar": {
             "outlinewidth": 0,
             "ticks": ""
            },
            "type": "mesh3d"
           }
          ],
          "parcoords": [
           {
            "line": {
             "colorbar": {
              "outlinewidth": 0,
              "ticks": ""
             }
            },
            "type": "parcoords"
           }
          ],
          "pie": [
           {
            "automargin": true,
            "type": "pie"
           }
          ],
          "scatter": [
           {
            "fillpattern": {
             "fillmode": "overlay",
             "size": 10,
             "solidity": 0.2
            },
            "type": "scatter"
           }
          ],
          "scatter3d": [
           {
            "line": {
             "colorbar": {
              "outlinewidth": 0,
              "ticks": ""
             }
            },
            "marker": {
             "colorbar": {
              "outlinewidth": 0,
              "ticks": ""
             }
            },
            "type": "scatter3d"
           }
          ],
          "scattercarpet": [
           {
            "marker": {
             "colorbar": {
              "outlinewidth": 0,
              "ticks": ""
             }
            },
            "type": "scattercarpet"
           }
          ],
          "scattergeo": [
           {
            "marker": {
             "colorbar": {
              "outlinewidth": 0,
              "ticks": ""
             }
            },
            "type": "scattergeo"
           }
          ],
          "scattergl": [
           {
            "marker": {
             "colorbar": {
              "outlinewidth": 0,
              "ticks": ""
             }
            },
            "type": "scattergl"
           }
          ],
          "scattermapbox": [
           {
            "marker": {
             "colorbar": {
              "outlinewidth": 0,
              "ticks": ""
             }
            },
            "type": "scattermapbox"
           }
          ],
          "scatterpolar": [
           {
            "marker": {
             "colorbar": {
              "outlinewidth": 0,
              "ticks": ""
             }
            },
            "type": "scatterpolar"
           }
          ],
          "scatterpolargl": [
           {
            "marker": {
             "colorbar": {
              "outlinewidth": 0,
              "ticks": ""
             }
            },
            "type": "scatterpolargl"
           }
          ],
          "scatterternary": [
           {
            "marker": {
             "colorbar": {
              "outlinewidth": 0,
              "ticks": ""
             }
            },
            "type": "scatterternary"
           }
          ],
          "surface": [
           {
            "colorbar": {
             "outlinewidth": 0,
             "ticks": ""
            },
            "colorscale": [
             [
              0,
              "#0d0887"
             ],
             [
              0.1111111111111111,
              "#46039f"
             ],
             [
              0.2222222222222222,
              "#7201a8"
             ],
             [
              0.3333333333333333,
              "#9c179e"
             ],
             [
              0.4444444444444444,
              "#bd3786"
             ],
             [
              0.5555555555555556,
              "#d8576b"
             ],
             [
              0.6666666666666666,
              "#ed7953"
             ],
             [
              0.7777777777777778,
              "#fb9f3a"
             ],
             [
              0.8888888888888888,
              "#fdca26"
             ],
             [
              1,
              "#f0f921"
             ]
            ],
            "type": "surface"
           }
          ],
          "table": [
           {
            "cells": {
             "fill": {
              "color": "#EBF0F8"
             },
             "line": {
              "color": "white"
             }
            },
            "header": {
             "fill": {
              "color": "#C8D4E3"
             },
             "line": {
              "color": "white"
             }
            },
            "type": "table"
           }
          ]
         },
         "layout": {
          "annotationdefaults": {
           "arrowcolor": "#2a3f5f",
           "arrowhead": 0,
           "arrowwidth": 1
          },
          "autotypenumbers": "strict",
          "coloraxis": {
           "colorbar": {
            "outlinewidth": 0,
            "ticks": ""
           }
          },
          "colorscale": {
           "diverging": [
            [
             0,
             "#8e0152"
            ],
            [
             0.1,
             "#c51b7d"
            ],
            [
             0.2,
             "#de77ae"
            ],
            [
             0.3,
             "#f1b6da"
            ],
            [
             0.4,
             "#fde0ef"
            ],
            [
             0.5,
             "#f7f7f7"
            ],
            [
             0.6,
             "#e6f5d0"
            ],
            [
             0.7,
             "#b8e186"
            ],
            [
             0.8,
             "#7fbc41"
            ],
            [
             0.9,
             "#4d9221"
            ],
            [
             1,
             "#276419"
            ]
           ],
           "sequential": [
            [
             0,
             "#0d0887"
            ],
            [
             0.1111111111111111,
             "#46039f"
            ],
            [
             0.2222222222222222,
             "#7201a8"
            ],
            [
             0.3333333333333333,
             "#9c179e"
            ],
            [
             0.4444444444444444,
             "#bd3786"
            ],
            [
             0.5555555555555556,
             "#d8576b"
            ],
            [
             0.6666666666666666,
             "#ed7953"
            ],
            [
             0.7777777777777778,
             "#fb9f3a"
            ],
            [
             0.8888888888888888,
             "#fdca26"
            ],
            [
             1,
             "#f0f921"
            ]
           ],
           "sequentialminus": [
            [
             0,
             "#0d0887"
            ],
            [
             0.1111111111111111,
             "#46039f"
            ],
            [
             0.2222222222222222,
             "#7201a8"
            ],
            [
             0.3333333333333333,
             "#9c179e"
            ],
            [
             0.4444444444444444,
             "#bd3786"
            ],
            [
             0.5555555555555556,
             "#d8576b"
            ],
            [
             0.6666666666666666,
             "#ed7953"
            ],
            [
             0.7777777777777778,
             "#fb9f3a"
            ],
            [
             0.8888888888888888,
             "#fdca26"
            ],
            [
             1,
             "#f0f921"
            ]
           ]
          },
          "colorway": [
           "#636efa",
           "#EF553B",
           "#00cc96",
           "#ab63fa",
           "#FFA15A",
           "#19d3f3",
           "#FF6692",
           "#B6E880",
           "#FF97FF",
           "#FECB52"
          ],
          "font": {
           "color": "#2a3f5f"
          },
          "geo": {
           "bgcolor": "white",
           "lakecolor": "white",
           "landcolor": "#E5ECF6",
           "showlakes": true,
           "showland": true,
           "subunitcolor": "white"
          },
          "hoverlabel": {
           "align": "left"
          },
          "hovermode": "closest",
          "mapbox": {
           "style": "light"
          },
          "paper_bgcolor": "white",
          "plot_bgcolor": "#E5ECF6",
          "polar": {
           "angularaxis": {
            "gridcolor": "white",
            "linecolor": "white",
            "ticks": ""
           },
           "bgcolor": "#E5ECF6",
           "radialaxis": {
            "gridcolor": "white",
            "linecolor": "white",
            "ticks": ""
           }
          },
          "scene": {
           "xaxis": {
            "backgroundcolor": "#E5ECF6",
            "gridcolor": "white",
            "gridwidth": 2,
            "linecolor": "white",
            "showbackground": true,
            "ticks": "",
            "zerolinecolor": "white"
           },
           "yaxis": {
            "backgroundcolor": "#E5ECF6",
            "gridcolor": "white",
            "gridwidth": 2,
            "linecolor": "white",
            "showbackground": true,
            "ticks": "",
            "zerolinecolor": "white"
           },
           "zaxis": {
            "backgroundcolor": "#E5ECF6",
            "gridcolor": "white",
            "gridwidth": 2,
            "linecolor": "white",
            "showbackground": true,
            "ticks": "",
            "zerolinecolor": "white"
           }
          },
          "shapedefaults": {
           "line": {
            "color": "#2a3f5f"
           }
          },
          "ternary": {
           "aaxis": {
            "gridcolor": "white",
            "linecolor": "white",
            "ticks": ""
           },
           "baxis": {
            "gridcolor": "white",
            "linecolor": "white",
            "ticks": ""
           },
           "bgcolor": "#E5ECF6",
           "caxis": {
            "gridcolor": "white",
            "linecolor": "white",
            "ticks": ""
           }
          },
          "title": {
           "x": 0.05
          },
          "xaxis": {
           "automargin": true,
           "gridcolor": "white",
           "linecolor": "white",
           "ticks": "",
           "title": {
            "standoff": 15
           },
           "zerolinecolor": "white",
           "zerolinewidth": 2
          },
          "yaxis": {
           "automargin": true,
           "gridcolor": "white",
           "linecolor": "white",
           "ticks": "",
           "title": {
            "standoff": 15
           },
           "zerolinecolor": "white",
           "zerolinewidth": 2
          }
         }
        },
        "title": {
         "text": "Comparison of joular data and 'loc' metric for repository jabref"
        },
        "xaxis": {
         "anchor": "y",
         "domain": [
          0,
          0.94
         ]
        },
        "yaxis": {
         "anchor": "x",
         "domain": [
          0,
          1
         ]
        },
        "yaxis2": {
         "anchor": "x",
         "overlaying": "y",
         "side": "right"
        }
       }
      }
     },
     "metadata": {},
     "output_type": "display_data"
    },
    {
     "data": {
      "application/vnd.plotly.v1+json": {
       "config": {
        "plotlyServerURL": "https://plot.ly"
       },
       "data": [
        {
         "legendgroup": "boxplots",
         "marker": {
          "color": "rgb(252,141,98)"
         },
         "name": "correlateByWords/2[java.lang.S",
         "type": "box",
         "xaxis": "x",
         "y": [
          109.749405,
          123.503296,
          105.668396,
          122.218506,
          110.789505,
          105.7037,
          88.0346,
          96.5299,
          109.9906,
          102.5186,
          94.9471,
          122.4103,
          110.3614,
          149.202,
          100.662506,
          96.467896,
          108.336395,
          130.94489,
          96.8728,
          142.29599,
          117.6544,
          117.76,
          111.7433,
          116.8712,
          110.956,
          132.6521,
          98.000305,
          138.413,
          101.8049,
          114.8927
         ],
         "yaxis": "y2"
        },
        {
         "legendgroup": "barcharts",
         "marker": {
          "color": "rgb(141,160,203)"
         },
         "name": "cbo",
         "type": "bar",
         "x": [
          "correlateByWords/2[java.lang.S"
         ],
         "y": [
          1
         ]
        },
        {
         "legendgroup": "boxplots",
         "marker": {
          "color": "rgb(252,141,98)"
         },
         "name": "setUp/0",
         "type": "box",
         "xaxis": "x",
         "y": [
          108.6305,
          98.3913,
          98.205,
          97.3779,
          94.3094,
          95.4783,
          85.2979,
          107.849,
          90.9143,
          99.0826,
          124.4896,
          104.6387,
          126.1231,
          95.1528,
          91.463,
          115.5113,
          97.1995,
          109.9923,
          84.151,
          95.5857,
          91.0406,
          90.5464,
          88.9281,
          84.1854,
          107.3451,
          92.1697,
          102.836,
          93.7997,
          104.2619,
          109.5686
         ],
         "yaxis": "y2"
        },
        {
         "legendgroup": "barcharts",
         "marker": {
          "color": "rgb(141,160,203)"
         },
         "name": "cbo",
         "type": "bar",
         "x": [
          "setUp/0"
         ],
         "y": [
          2
         ]
        },
        {
         "legendgroup": "boxplots",
         "marker": {
          "color": "rgb(252,141,98)"
         },
         "name": "writeToIndex/2[org.jabref.logi",
         "type": "box",
         "xaxis": "x",
         "y": [
          85.19861,
          196.84381,
          72.4242,
          182.2456,
          248.15561,
          70.8846,
          191.8188,
          92.1251,
          76.456505,
          219.8806,
          168.0745,
          65.9431,
          201.0169,
          70.379196,
          164.4825,
          80.465096,
          67.8358,
          228.1291,
          192.7792,
          253.18959,
          79.0065,
          69.6159,
          252.48721,
          340.14468,
          243.8313,
          249.5533,
          242.8196,
          246.71329,
          102.531,
          77.7499
         ],
         "yaxis": "y2"
        },
        {
         "legendgroup": "barcharts",
         "marker": {
          "color": "rgb(141,160,203)"
         },
         "name": "cbo",
         "type": "bar",
         "x": [
          "writeToIndex/2[org.jabref.logi"
         ],
         "y": [
          12
         ]
        },
        {
         "legendgroup": "boxplots",
         "marker": {
          "color": "rgb(252,141,98)"
         },
         "name": "receiveMessage/0",
         "type": "box",
         "xaxis": "x",
         "y": [
          84.8567,
          45.9535,
          40.7698,
          65.6244,
          93.5691,
          38.6047,
          54.0138,
          74.283,
          45.3847,
          36.01,
          117.3226,
          38.5138,
          42.2084,
          53.411,
          99.0356,
          53.7583,
          49.1049,
          50.864,
          92.1523,
          105.3108,
          56.1171,
          39.001,
          35.211,
          89.8795,
          40.3314,
          38.6972,
          94.2786,
          42.8257,
          148.87761,
          59.5551
         ],
         "yaxis": "y2"
        },
        {
         "legendgroup": "barcharts",
         "marker": {
          "color": "rgb(141,160,203)"
         },
         "name": "cbo",
         "type": "bar",
         "x": [
          "receiveMessage/0"
         ],
         "y": [
          2
         ]
        },
        {
         "legendgroup": "boxplots",
         "marker": {
          "color": "rgb(252,141,98)"
         },
         "name": "createMarshallerAndWriteToFile",
         "type": "box",
         "xaxis": "x",
         "y": [
          70.2172,
          61.227303,
          58.006897,
          72.5075,
          85.419106,
          60.087402,
          69.2925,
          62.9429,
          74.307,
          74.5194,
          86.272804,
          70.8667,
          67.8776,
          92.9277,
          68.0572,
          65.6374,
          54.7753,
          77.349106,
          86.44881,
          78.3398,
          73.1373,
          60.1921,
          69.8659,
          60.0934,
          72.6306,
          66.891396,
          64.7939,
          57.0191,
          75.1929,
          59.7048
         ],
         "yaxis": "y2"
        },
        {
         "legendgroup": "barcharts",
         "marker": {
          "color": "rgb(141,160,203)"
         },
         "name": "cbo",
         "type": "bar",
         "x": [
          "createMarshallerAndWriteToFile"
         ],
         "y": [
          3
         ]
        },
        {
         "legendgroup": "boxplots",
         "marker": {
          "color": "rgb(252,141,98)"
         },
         "name": "canBeReached/0",
         "type": "box",
         "xaxis": "x",
         "y": [
          60.9259,
          61.7796,
          53.6698,
          53.8071,
          59.1064,
          55.9645,
          56.707,
          58.8378,
          56.4947,
          59.3578,
          49.2901,
          57.2426,
          53.9012,
          56.7335,
          50.5996,
          62.945,
          65.4708,
          55.164,
          58.8516,
          51.3721,
          60.6535,
          58.7432,
          55.8507,
          59.2052,
          52.1341,
          59.8284,
          48.0947,
          57.2678,
          53.0056,
          56.755
         ],
         "yaxis": "y2"
        },
        {
         "legendgroup": "barcharts",
         "marker": {
          "color": "rgb(141,160,203)"
         },
         "name": "cbo",
         "type": "bar",
         "x": [
          "canBeReached/0"
         ],
         "y": [
          0
         ]
        },
        {
         "legendgroup": "boxplots",
         "marker": {
          "color": "rgb(252,141,98)"
         },
         "name": "importDatabase/1[java.io.Buffe",
         "type": "box",
         "xaxis": "x",
         "y": [
          54.984203,
          38.854298,
          59.4259,
          41.1486,
          46.7812,
          34.9215,
          65.317505,
          45.934402,
          56.7363,
          64.867096,
          50.706497,
          53.9739,
          44.4857,
          48.328102,
          44.1985,
          54.1489,
          44.580303,
          46.4724,
          55.333,
          58.1154,
          54.2079,
          52.2667,
          60.7067,
          58.843403,
          54.6115,
          49.745197,
          62.594498,
          52.475002,
          54.3215,
          40.558304
         ],
         "yaxis": "y2"
        },
        {
         "legendgroup": "barcharts",
         "marker": {
          "color": "rgb(141,160,203)"
         },
         "name": "cbo",
         "type": "bar",
         "x": [
          "importDatabase/1[java.io.Buffe"
         ],
         "y": [
          9
         ]
        },
        {
         "legendgroup": "boxplots",
         "marker": {
          "color": "rgb(252,141,98)"
         },
         "name": "importDatabase/1[java.io.Buffe",
         "type": "box",
         "xaxis": "x",
         "y": [
          43.340797,
          43.1687,
          51.607704,
          58.787,
          56.414898,
          45.665497,
          53.916,
          56.263897,
          45.501,
          57.225197,
          54.317802,
          52.9765,
          54.5402,
          57.5721,
          64.9049,
          47.952,
          52.3807,
          42.508896,
          50.3865,
          46.440098,
          56.1285,
          43.4398,
          54.2464,
          51.145798,
          57.4494,
          47.5049,
          57.1949,
          46.966797,
          43.8716,
          37.3327
         ],
         "yaxis": "y2"
        },
        {
         "legendgroup": "barcharts",
         "marker": {
          "color": "rgb(141,160,203)"
         },
         "name": "cbo",
         "type": "bar",
         "x": [
          "importDatabase/1[java.io.Buffe"
         ],
         "y": [
          7
         ]
        }
       ],
       "layout": {
        "legend": {
         "traceorder": "normal"
        },
        "template": {
         "data": {
          "bar": [
           {
            "error_x": {
             "color": "#2a3f5f"
            },
            "error_y": {
             "color": "#2a3f5f"
            },
            "marker": {
             "line": {
              "color": "#E5ECF6",
              "width": 0.5
             },
             "pattern": {
              "fillmode": "overlay",
              "size": 10,
              "solidity": 0.2
             }
            },
            "type": "bar"
           }
          ],
          "barpolar": [
           {
            "marker": {
             "line": {
              "color": "#E5ECF6",
              "width": 0.5
             },
             "pattern": {
              "fillmode": "overlay",
              "size": 10,
              "solidity": 0.2
             }
            },
            "type": "barpolar"
           }
          ],
          "carpet": [
           {
            "aaxis": {
             "endlinecolor": "#2a3f5f",
             "gridcolor": "white",
             "linecolor": "white",
             "minorgridcolor": "white",
             "startlinecolor": "#2a3f5f"
            },
            "baxis": {
             "endlinecolor": "#2a3f5f",
             "gridcolor": "white",
             "linecolor": "white",
             "minorgridcolor": "white",
             "startlinecolor": "#2a3f5f"
            },
            "type": "carpet"
           }
          ],
          "choropleth": [
           {
            "colorbar": {
             "outlinewidth": 0,
             "ticks": ""
            },
            "type": "choropleth"
           }
          ],
          "contour": [
           {
            "colorbar": {
             "outlinewidth": 0,
             "ticks": ""
            },
            "colorscale": [
             [
              0,
              "#0d0887"
             ],
             [
              0.1111111111111111,
              "#46039f"
             ],
             [
              0.2222222222222222,
              "#7201a8"
             ],
             [
              0.3333333333333333,
              "#9c179e"
             ],
             [
              0.4444444444444444,
              "#bd3786"
             ],
             [
              0.5555555555555556,
              "#d8576b"
             ],
             [
              0.6666666666666666,
              "#ed7953"
             ],
             [
              0.7777777777777778,
              "#fb9f3a"
             ],
             [
              0.8888888888888888,
              "#fdca26"
             ],
             [
              1,
              "#f0f921"
             ]
            ],
            "type": "contour"
           }
          ],
          "contourcarpet": [
           {
            "colorbar": {
             "outlinewidth": 0,
             "ticks": ""
            },
            "type": "contourcarpet"
           }
          ],
          "heatmap": [
           {
            "colorbar": {
             "outlinewidth": 0,
             "ticks": ""
            },
            "colorscale": [
             [
              0,
              "#0d0887"
             ],
             [
              0.1111111111111111,
              "#46039f"
             ],
             [
              0.2222222222222222,
              "#7201a8"
             ],
             [
              0.3333333333333333,
              "#9c179e"
             ],
             [
              0.4444444444444444,
              "#bd3786"
             ],
             [
              0.5555555555555556,
              "#d8576b"
             ],
             [
              0.6666666666666666,
              "#ed7953"
             ],
             [
              0.7777777777777778,
              "#fb9f3a"
             ],
             [
              0.8888888888888888,
              "#fdca26"
             ],
             [
              1,
              "#f0f921"
             ]
            ],
            "type": "heatmap"
           }
          ],
          "heatmapgl": [
           {
            "colorbar": {
             "outlinewidth": 0,
             "ticks": ""
            },
            "colorscale": [
             [
              0,
              "#0d0887"
             ],
             [
              0.1111111111111111,
              "#46039f"
             ],
             [
              0.2222222222222222,
              "#7201a8"
             ],
             [
              0.3333333333333333,
              "#9c179e"
             ],
             [
              0.4444444444444444,
              "#bd3786"
             ],
             [
              0.5555555555555556,
              "#d8576b"
             ],
             [
              0.6666666666666666,
              "#ed7953"
             ],
             [
              0.7777777777777778,
              "#fb9f3a"
             ],
             [
              0.8888888888888888,
              "#fdca26"
             ],
             [
              1,
              "#f0f921"
             ]
            ],
            "type": "heatmapgl"
           }
          ],
          "histogram": [
           {
            "marker": {
             "pattern": {
              "fillmode": "overlay",
              "size": 10,
              "solidity": 0.2
             }
            },
            "type": "histogram"
           }
          ],
          "histogram2d": [
           {
            "colorbar": {
             "outlinewidth": 0,
             "ticks": ""
            },
            "colorscale": [
             [
              0,
              "#0d0887"
             ],
             [
              0.1111111111111111,
              "#46039f"
             ],
             [
              0.2222222222222222,
              "#7201a8"
             ],
             [
              0.3333333333333333,
              "#9c179e"
             ],
             [
              0.4444444444444444,
              "#bd3786"
             ],
             [
              0.5555555555555556,
              "#d8576b"
             ],
             [
              0.6666666666666666,
              "#ed7953"
             ],
             [
              0.7777777777777778,
              "#fb9f3a"
             ],
             [
              0.8888888888888888,
              "#fdca26"
             ],
             [
              1,
              "#f0f921"
             ]
            ],
            "type": "histogram2d"
           }
          ],
          "histogram2dcontour": [
           {
            "colorbar": {
             "outlinewidth": 0,
             "ticks": ""
            },
            "colorscale": [
             [
              0,
              "#0d0887"
             ],
             [
              0.1111111111111111,
              "#46039f"
             ],
             [
              0.2222222222222222,
              "#7201a8"
             ],
             [
              0.3333333333333333,
              "#9c179e"
             ],
             [
              0.4444444444444444,
              "#bd3786"
             ],
             [
              0.5555555555555556,
              "#d8576b"
             ],
             [
              0.6666666666666666,
              "#ed7953"
             ],
             [
              0.7777777777777778,
              "#fb9f3a"
             ],
             [
              0.8888888888888888,
              "#fdca26"
             ],
             [
              1,
              "#f0f921"
             ]
            ],
            "type": "histogram2dcontour"
           }
          ],
          "mesh3d": [
           {
            "colorbar": {
             "outlinewidth": 0,
             "ticks": ""
            },
            "type": "mesh3d"
           }
          ],
          "parcoords": [
           {
            "line": {
             "colorbar": {
              "outlinewidth": 0,
              "ticks": ""
             }
            },
            "type": "parcoords"
           }
          ],
          "pie": [
           {
            "automargin": true,
            "type": "pie"
           }
          ],
          "scatter": [
           {
            "fillpattern": {
             "fillmode": "overlay",
             "size": 10,
             "solidity": 0.2
            },
            "type": "scatter"
           }
          ],
          "scatter3d": [
           {
            "line": {
             "colorbar": {
              "outlinewidth": 0,
              "ticks": ""
             }
            },
            "marker": {
             "colorbar": {
              "outlinewidth": 0,
              "ticks": ""
             }
            },
            "type": "scatter3d"
           }
          ],
          "scattercarpet": [
           {
            "marker": {
             "colorbar": {
              "outlinewidth": 0,
              "ticks": ""
             }
            },
            "type": "scattercarpet"
           }
          ],
          "scattergeo": [
           {
            "marker": {
             "colorbar": {
              "outlinewidth": 0,
              "ticks": ""
             }
            },
            "type": "scattergeo"
           }
          ],
          "scattergl": [
           {
            "marker": {
             "colorbar": {
              "outlinewidth": 0,
              "ticks": ""
             }
            },
            "type": "scattergl"
           }
          ],
          "scattermapbox": [
           {
            "marker": {
             "colorbar": {
              "outlinewidth": 0,
              "ticks": ""
             }
            },
            "type": "scattermapbox"
           }
          ],
          "scatterpolar": [
           {
            "marker": {
             "colorbar": {
              "outlinewidth": 0,
              "ticks": ""
             }
            },
            "type": "scatterpolar"
           }
          ],
          "scatterpolargl": [
           {
            "marker": {
             "colorbar": {
              "outlinewidth": 0,
              "ticks": ""
             }
            },
            "type": "scatterpolargl"
           }
          ],
          "scatterternary": [
           {
            "marker": {
             "colorbar": {
              "outlinewidth": 0,
              "ticks": ""
             }
            },
            "type": "scatterternary"
           }
          ],
          "surface": [
           {
            "colorbar": {
             "outlinewidth": 0,
             "ticks": ""
            },
            "colorscale": [
             [
              0,
              "#0d0887"
             ],
             [
              0.1111111111111111,
              "#46039f"
             ],
             [
              0.2222222222222222,
              "#7201a8"
             ],
             [
              0.3333333333333333,
              "#9c179e"
             ],
             [
              0.4444444444444444,
              "#bd3786"
             ],
             [
              0.5555555555555556,
              "#d8576b"
             ],
             [
              0.6666666666666666,
              "#ed7953"
             ],
             [
              0.7777777777777778,
              "#fb9f3a"
             ],
             [
              0.8888888888888888,
              "#fdca26"
             ],
             [
              1,
              "#f0f921"
             ]
            ],
            "type": "surface"
           }
          ],
          "table": [
           {
            "cells": {
             "fill": {
              "color": "#EBF0F8"
             },
             "line": {
              "color": "white"
             }
            },
            "header": {
             "fill": {
              "color": "#C8D4E3"
             },
             "line": {
              "color": "white"
             }
            },
            "type": "table"
           }
          ]
         },
         "layout": {
          "annotationdefaults": {
           "arrowcolor": "#2a3f5f",
           "arrowhead": 0,
           "arrowwidth": 1
          },
          "autotypenumbers": "strict",
          "coloraxis": {
           "colorbar": {
            "outlinewidth": 0,
            "ticks": ""
           }
          },
          "colorscale": {
           "diverging": [
            [
             0,
             "#8e0152"
            ],
            [
             0.1,
             "#c51b7d"
            ],
            [
             0.2,
             "#de77ae"
            ],
            [
             0.3,
             "#f1b6da"
            ],
            [
             0.4,
             "#fde0ef"
            ],
            [
             0.5,
             "#f7f7f7"
            ],
            [
             0.6,
             "#e6f5d0"
            ],
            [
             0.7,
             "#b8e186"
            ],
            [
             0.8,
             "#7fbc41"
            ],
            [
             0.9,
             "#4d9221"
            ],
            [
             1,
             "#276419"
            ]
           ],
           "sequential": [
            [
             0,
             "#0d0887"
            ],
            [
             0.1111111111111111,
             "#46039f"
            ],
            [
             0.2222222222222222,
             "#7201a8"
            ],
            [
             0.3333333333333333,
             "#9c179e"
            ],
            [
             0.4444444444444444,
             "#bd3786"
            ],
            [
             0.5555555555555556,
             "#d8576b"
            ],
            [
             0.6666666666666666,
             "#ed7953"
            ],
            [
             0.7777777777777778,
             "#fb9f3a"
            ],
            [
             0.8888888888888888,
             "#fdca26"
            ],
            [
             1,
             "#f0f921"
            ]
           ],
           "sequentialminus": [
            [
             0,
             "#0d0887"
            ],
            [
             0.1111111111111111,
             "#46039f"
            ],
            [
             0.2222222222222222,
             "#7201a8"
            ],
            [
             0.3333333333333333,
             "#9c179e"
            ],
            [
             0.4444444444444444,
             "#bd3786"
            ],
            [
             0.5555555555555556,
             "#d8576b"
            ],
            [
             0.6666666666666666,
             "#ed7953"
            ],
            [
             0.7777777777777778,
             "#fb9f3a"
            ],
            [
             0.8888888888888888,
             "#fdca26"
            ],
            [
             1,
             "#f0f921"
            ]
           ]
          },
          "colorway": [
           "#636efa",
           "#EF553B",
           "#00cc96",
           "#ab63fa",
           "#FFA15A",
           "#19d3f3",
           "#FF6692",
           "#B6E880",
           "#FF97FF",
           "#FECB52"
          ],
          "font": {
           "color": "#2a3f5f"
          },
          "geo": {
           "bgcolor": "white",
           "lakecolor": "white",
           "landcolor": "#E5ECF6",
           "showlakes": true,
           "showland": true,
           "subunitcolor": "white"
          },
          "hoverlabel": {
           "align": "left"
          },
          "hovermode": "closest",
          "mapbox": {
           "style": "light"
          },
          "paper_bgcolor": "white",
          "plot_bgcolor": "#E5ECF6",
          "polar": {
           "angularaxis": {
            "gridcolor": "white",
            "linecolor": "white",
            "ticks": ""
           },
           "bgcolor": "#E5ECF6",
           "radialaxis": {
            "gridcolor": "white",
            "linecolor": "white",
            "ticks": ""
           }
          },
          "scene": {
           "xaxis": {
            "backgroundcolor": "#E5ECF6",
            "gridcolor": "white",
            "gridwidth": 2,
            "linecolor": "white",
            "showbackground": true,
            "ticks": "",
            "zerolinecolor": "white"
           },
           "yaxis": {
            "backgroundcolor": "#E5ECF6",
            "gridcolor": "white",
            "gridwidth": 2,
            "linecolor": "white",
            "showbackground": true,
            "ticks": "",
            "zerolinecolor": "white"
           },
           "zaxis": {
            "backgroundcolor": "#E5ECF6",
            "gridcolor": "white",
            "gridwidth": 2,
            "linecolor": "white",
            "showbackground": true,
            "ticks": "",
            "zerolinecolor": "white"
           }
          },
          "shapedefaults": {
           "line": {
            "color": "#2a3f5f"
           }
          },
          "ternary": {
           "aaxis": {
            "gridcolor": "white",
            "linecolor": "white",
            "ticks": ""
           },
           "baxis": {
            "gridcolor": "white",
            "linecolor": "white",
            "ticks": ""
           },
           "bgcolor": "#E5ECF6",
           "caxis": {
            "gridcolor": "white",
            "linecolor": "white",
            "ticks": ""
           }
          },
          "title": {
           "x": 0.05
          },
          "xaxis": {
           "automargin": true,
           "gridcolor": "white",
           "linecolor": "white",
           "ticks": "",
           "title": {
            "standoff": 15
           },
           "zerolinecolor": "white",
           "zerolinewidth": 2
          },
          "yaxis": {
           "automargin": true,
           "gridcolor": "white",
           "linecolor": "white",
           "ticks": "",
           "title": {
            "standoff": 15
           },
           "zerolinecolor": "white",
           "zerolinewidth": 2
          }
         }
        },
        "title": {
         "text": "Comparison of joular data and 'cbo' metric for repository jabref"
        },
        "xaxis": {
         "anchor": "y",
         "domain": [
          0,
          0.94
         ]
        },
        "yaxis": {
         "anchor": "x",
         "domain": [
          0,
          1
         ]
        },
        "yaxis2": {
         "anchor": "x",
         "overlaying": "y",
         "side": "right"
        }
       }
      }
     },
     "metadata": {},
     "output_type": "display_data"
    },
    {
     "data": {
      "application/vnd.plotly.v1+json": {
       "config": {
        "plotlyServerURL": "https://plot.ly"
       },
       "data": [
        {
         "legendgroup": "boxplots",
         "marker": {
          "color": "rgb(252,141,98)"
         },
         "name": "correlateByWords/2[java.lang.S",
         "type": "box",
         "xaxis": "x",
         "y": [
          109.749405,
          123.503296,
          105.668396,
          122.218506,
          110.789505,
          105.7037,
          88.0346,
          96.5299,
          109.9906,
          102.5186,
          94.9471,
          122.4103,
          110.3614,
          149.202,
          100.662506,
          96.467896,
          108.336395,
          130.94489,
          96.8728,
          142.29599,
          117.6544,
          117.76,
          111.7433,
          116.8712,
          110.956,
          132.6521,
          98.000305,
          138.413,
          101.8049,
          114.8927
         ],
         "yaxis": "y2"
        },
        {
         "legendgroup": "barcharts",
         "marker": {
          "color": "rgb(141,160,203)"
         },
         "name": "wmc",
         "type": "bar",
         "x": [
          "correlateByWords/2[java.lang.S"
         ],
         "y": [
          3
         ]
        },
        {
         "legendgroup": "boxplots",
         "marker": {
          "color": "rgb(252,141,98)"
         },
         "name": "setUp/0",
         "type": "box",
         "xaxis": "x",
         "y": [
          108.6305,
          98.3913,
          98.205,
          97.3779,
          94.3094,
          95.4783,
          85.2979,
          107.849,
          90.9143,
          99.0826,
          124.4896,
          104.6387,
          126.1231,
          95.1528,
          91.463,
          115.5113,
          97.1995,
          109.9923,
          84.151,
          95.5857,
          91.0406,
          90.5464,
          88.9281,
          84.1854,
          107.3451,
          92.1697,
          102.836,
          93.7997,
          104.2619,
          109.5686
         ],
         "yaxis": "y2"
        },
        {
         "legendgroup": "barcharts",
         "marker": {
          "color": "rgb(141,160,203)"
         },
         "name": "wmc",
         "type": "bar",
         "x": [
          "setUp/0"
         ],
         "y": [
          1
         ]
        },
        {
         "legendgroup": "boxplots",
         "marker": {
          "color": "rgb(252,141,98)"
         },
         "name": "writeToIndex/2[org.jabref.logi",
         "type": "box",
         "xaxis": "x",
         "y": [
          85.19861,
          196.84381,
          72.4242,
          182.2456,
          248.15561,
          70.8846,
          191.8188,
          92.1251,
          76.456505,
          219.8806,
          168.0745,
          65.9431,
          201.0169,
          70.379196,
          164.4825,
          80.465096,
          67.8358,
          228.1291,
          192.7792,
          253.18959,
          79.0065,
          69.6159,
          252.48721,
          340.14468,
          243.8313,
          249.5533,
          242.8196,
          246.71329,
          102.531,
          77.7499
         ],
         "yaxis": "y2"
        },
        {
         "legendgroup": "barcharts",
         "marker": {
          "color": "rgb(141,160,203)"
         },
         "name": "wmc",
         "type": "bar",
         "x": [
          "writeToIndex/2[org.jabref.logi"
         ],
         "y": [
          9
         ]
        },
        {
         "legendgroup": "boxplots",
         "marker": {
          "color": "rgb(252,141,98)"
         },
         "name": "receiveMessage/0",
         "type": "box",
         "xaxis": "x",
         "y": [
          84.8567,
          45.9535,
          40.7698,
          65.6244,
          93.5691,
          38.6047,
          54.0138,
          74.283,
          45.3847,
          36.01,
          117.3226,
          38.5138,
          42.2084,
          53.411,
          99.0356,
          53.7583,
          49.1049,
          50.864,
          92.1523,
          105.3108,
          56.1171,
          39.001,
          35.211,
          89.8795,
          40.3314,
          38.6972,
          94.2786,
          42.8257,
          148.87761,
          59.5551
         ],
         "yaxis": "y2"
        },
        {
         "legendgroup": "barcharts",
         "marker": {
          "color": "rgb(141,160,203)"
         },
         "name": "wmc",
         "type": "bar",
         "x": [
          "receiveMessage/0"
         ],
         "y": [
          5
         ]
        },
        {
         "legendgroup": "boxplots",
         "marker": {
          "color": "rgb(252,141,98)"
         },
         "name": "createMarshallerAndWriteToFile",
         "type": "box",
         "xaxis": "x",
         "y": [
          70.2172,
          61.227303,
          58.006897,
          72.5075,
          85.419106,
          60.087402,
          69.2925,
          62.9429,
          74.307,
          74.5194,
          86.272804,
          70.8667,
          67.8776,
          92.9277,
          68.0572,
          65.6374,
          54.7753,
          77.349106,
          86.44881,
          78.3398,
          73.1373,
          60.1921,
          69.8659,
          60.0934,
          72.6306,
          66.891396,
          64.7939,
          57.0191,
          75.1929,
          59.7048
         ],
         "yaxis": "y2"
        },
        {
         "legendgroup": "barcharts",
         "marker": {
          "color": "rgb(141,160,203)"
         },
         "name": "wmc",
         "type": "bar",
         "x": [
          "createMarshallerAndWriteToFile"
         ],
         "y": [
          3
         ]
        },
        {
         "legendgroup": "boxplots",
         "marker": {
          "color": "rgb(252,141,98)"
         },
         "name": "canBeReached/0",
         "type": "box",
         "xaxis": "x",
         "y": [
          60.9259,
          61.7796,
          53.6698,
          53.8071,
          59.1064,
          55.9645,
          56.707,
          58.8378,
          56.4947,
          59.3578,
          49.2901,
          57.2426,
          53.9012,
          56.7335,
          50.5996,
          62.945,
          65.4708,
          55.164,
          58.8516,
          51.3721,
          60.6535,
          58.7432,
          55.8507,
          59.2052,
          52.1341,
          59.8284,
          48.0947,
          57.2678,
          53.0056,
          56.755
         ],
         "yaxis": "y2"
        },
        {
         "legendgroup": "barcharts",
         "marker": {
          "color": "rgb(141,160,203)"
         },
         "name": "wmc",
         "type": "bar",
         "x": [
          "canBeReached/0"
         ],
         "y": [
          3
         ]
        },
        {
         "legendgroup": "boxplots",
         "marker": {
          "color": "rgb(252,141,98)"
         },
         "name": "importDatabase/1[java.io.Buffe",
         "type": "box",
         "xaxis": "x",
         "y": [
          54.984203,
          38.854298,
          59.4259,
          41.1486,
          46.7812,
          34.9215,
          65.317505,
          45.934402,
          56.7363,
          64.867096,
          50.706497,
          53.9739,
          44.4857,
          48.328102,
          44.1985,
          54.1489,
          44.580303,
          46.4724,
          55.333,
          58.1154,
          54.2079,
          52.2667,
          60.7067,
          58.843403,
          54.6115,
          49.745197,
          62.594498,
          52.475002,
          54.3215,
          40.558304
         ],
         "yaxis": "y2"
        },
        {
         "legendgroup": "barcharts",
         "marker": {
          "color": "rgb(141,160,203)"
         },
         "name": "wmc",
         "type": "bar",
         "x": [
          "importDatabase/1[java.io.Buffe"
         ],
         "y": [
          19
         ]
        },
        {
         "legendgroup": "boxplots",
         "marker": {
          "color": "rgb(252,141,98)"
         },
         "name": "importDatabase/1[java.io.Buffe",
         "type": "box",
         "xaxis": "x",
         "y": [
          43.340797,
          43.1687,
          51.607704,
          58.787,
          56.414898,
          45.665497,
          53.916,
          56.263897,
          45.501,
          57.225197,
          54.317802,
          52.9765,
          54.5402,
          57.5721,
          64.9049,
          47.952,
          52.3807,
          42.508896,
          50.3865,
          46.440098,
          56.1285,
          43.4398,
          54.2464,
          51.145798,
          57.4494,
          47.5049,
          57.1949,
          46.966797,
          43.8716,
          37.3327
         ],
         "yaxis": "y2"
        },
        {
         "legendgroup": "barcharts",
         "marker": {
          "color": "rgb(141,160,203)"
         },
         "name": "wmc",
         "type": "bar",
         "x": [
          "importDatabase/1[java.io.Buffe"
         ],
         "y": [
          5
         ]
        }
       ],
       "layout": {
        "legend": {
         "traceorder": "normal"
        },
        "template": {
         "data": {
          "bar": [
           {
            "error_x": {
             "color": "#2a3f5f"
            },
            "error_y": {
             "color": "#2a3f5f"
            },
            "marker": {
             "line": {
              "color": "#E5ECF6",
              "width": 0.5
             },
             "pattern": {
              "fillmode": "overlay",
              "size": 10,
              "solidity": 0.2
             }
            },
            "type": "bar"
           }
          ],
          "barpolar": [
           {
            "marker": {
             "line": {
              "color": "#E5ECF6",
              "width": 0.5
             },
             "pattern": {
              "fillmode": "overlay",
              "size": 10,
              "solidity": 0.2
             }
            },
            "type": "barpolar"
           }
          ],
          "carpet": [
           {
            "aaxis": {
             "endlinecolor": "#2a3f5f",
             "gridcolor": "white",
             "linecolor": "white",
             "minorgridcolor": "white",
             "startlinecolor": "#2a3f5f"
            },
            "baxis": {
             "endlinecolor": "#2a3f5f",
             "gridcolor": "white",
             "linecolor": "white",
             "minorgridcolor": "white",
             "startlinecolor": "#2a3f5f"
            },
            "type": "carpet"
           }
          ],
          "choropleth": [
           {
            "colorbar": {
             "outlinewidth": 0,
             "ticks": ""
            },
            "type": "choropleth"
           }
          ],
          "contour": [
           {
            "colorbar": {
             "outlinewidth": 0,
             "ticks": ""
            },
            "colorscale": [
             [
              0,
              "#0d0887"
             ],
             [
              0.1111111111111111,
              "#46039f"
             ],
             [
              0.2222222222222222,
              "#7201a8"
             ],
             [
              0.3333333333333333,
              "#9c179e"
             ],
             [
              0.4444444444444444,
              "#bd3786"
             ],
             [
              0.5555555555555556,
              "#d8576b"
             ],
             [
              0.6666666666666666,
              "#ed7953"
             ],
             [
              0.7777777777777778,
              "#fb9f3a"
             ],
             [
              0.8888888888888888,
              "#fdca26"
             ],
             [
              1,
              "#f0f921"
             ]
            ],
            "type": "contour"
           }
          ],
          "contourcarpet": [
           {
            "colorbar": {
             "outlinewidth": 0,
             "ticks": ""
            },
            "type": "contourcarpet"
           }
          ],
          "heatmap": [
           {
            "colorbar": {
             "outlinewidth": 0,
             "ticks": ""
            },
            "colorscale": [
             [
              0,
              "#0d0887"
             ],
             [
              0.1111111111111111,
              "#46039f"
             ],
             [
              0.2222222222222222,
              "#7201a8"
             ],
             [
              0.3333333333333333,
              "#9c179e"
             ],
             [
              0.4444444444444444,
              "#bd3786"
             ],
             [
              0.5555555555555556,
              "#d8576b"
             ],
             [
              0.6666666666666666,
              "#ed7953"
             ],
             [
              0.7777777777777778,
              "#fb9f3a"
             ],
             [
              0.8888888888888888,
              "#fdca26"
             ],
             [
              1,
              "#f0f921"
             ]
            ],
            "type": "heatmap"
           }
          ],
          "heatmapgl": [
           {
            "colorbar": {
             "outlinewidth": 0,
             "ticks": ""
            },
            "colorscale": [
             [
              0,
              "#0d0887"
             ],
             [
              0.1111111111111111,
              "#46039f"
             ],
             [
              0.2222222222222222,
              "#7201a8"
             ],
             [
              0.3333333333333333,
              "#9c179e"
             ],
             [
              0.4444444444444444,
              "#bd3786"
             ],
             [
              0.5555555555555556,
              "#d8576b"
             ],
             [
              0.6666666666666666,
              "#ed7953"
             ],
             [
              0.7777777777777778,
              "#fb9f3a"
             ],
             [
              0.8888888888888888,
              "#fdca26"
             ],
             [
              1,
              "#f0f921"
             ]
            ],
            "type": "heatmapgl"
           }
          ],
          "histogram": [
           {
            "marker": {
             "pattern": {
              "fillmode": "overlay",
              "size": 10,
              "solidity": 0.2
             }
            },
            "type": "histogram"
           }
          ],
          "histogram2d": [
           {
            "colorbar": {
             "outlinewidth": 0,
             "ticks": ""
            },
            "colorscale": [
             [
              0,
              "#0d0887"
             ],
             [
              0.1111111111111111,
              "#46039f"
             ],
             [
              0.2222222222222222,
              "#7201a8"
             ],
             [
              0.3333333333333333,
              "#9c179e"
             ],
             [
              0.4444444444444444,
              "#bd3786"
             ],
             [
              0.5555555555555556,
              "#d8576b"
             ],
             [
              0.6666666666666666,
              "#ed7953"
             ],
             [
              0.7777777777777778,
              "#fb9f3a"
             ],
             [
              0.8888888888888888,
              "#fdca26"
             ],
             [
              1,
              "#f0f921"
             ]
            ],
            "type": "histogram2d"
           }
          ],
          "histogram2dcontour": [
           {
            "colorbar": {
             "outlinewidth": 0,
             "ticks": ""
            },
            "colorscale": [
             [
              0,
              "#0d0887"
             ],
             [
              0.1111111111111111,
              "#46039f"
             ],
             [
              0.2222222222222222,
              "#7201a8"
             ],
             [
              0.3333333333333333,
              "#9c179e"
             ],
             [
              0.4444444444444444,
              "#bd3786"
             ],
             [
              0.5555555555555556,
              "#d8576b"
             ],
             [
              0.6666666666666666,
              "#ed7953"
             ],
             [
              0.7777777777777778,
              "#fb9f3a"
             ],
             [
              0.8888888888888888,
              "#fdca26"
             ],
             [
              1,
              "#f0f921"
             ]
            ],
            "type": "histogram2dcontour"
           }
          ],
          "mesh3d": [
           {
            "colorbar": {
             "outlinewidth": 0,
             "ticks": ""
            },
            "type": "mesh3d"
           }
          ],
          "parcoords": [
           {
            "line": {
             "colorbar": {
              "outlinewidth": 0,
              "ticks": ""
             }
            },
            "type": "parcoords"
           }
          ],
          "pie": [
           {
            "automargin": true,
            "type": "pie"
           }
          ],
          "scatter": [
           {
            "fillpattern": {
             "fillmode": "overlay",
             "size": 10,
             "solidity": 0.2
            },
            "type": "scatter"
           }
          ],
          "scatter3d": [
           {
            "line": {
             "colorbar": {
              "outlinewidth": 0,
              "ticks": ""
             }
            },
            "marker": {
             "colorbar": {
              "outlinewidth": 0,
              "ticks": ""
             }
            },
            "type": "scatter3d"
           }
          ],
          "scattercarpet": [
           {
            "marker": {
             "colorbar": {
              "outlinewidth": 0,
              "ticks": ""
             }
            },
            "type": "scattercarpet"
           }
          ],
          "scattergeo": [
           {
            "marker": {
             "colorbar": {
              "outlinewidth": 0,
              "ticks": ""
             }
            },
            "type": "scattergeo"
           }
          ],
          "scattergl": [
           {
            "marker": {
             "colorbar": {
              "outlinewidth": 0,
              "ticks": ""
             }
            },
            "type": "scattergl"
           }
          ],
          "scattermapbox": [
           {
            "marker": {
             "colorbar": {
              "outlinewidth": 0,
              "ticks": ""
             }
            },
            "type": "scattermapbox"
           }
          ],
          "scatterpolar": [
           {
            "marker": {
             "colorbar": {
              "outlinewidth": 0,
              "ticks": ""
             }
            },
            "type": "scatterpolar"
           }
          ],
          "scatterpolargl": [
           {
            "marker": {
             "colorbar": {
              "outlinewidth": 0,
              "ticks": ""
             }
            },
            "type": "scatterpolargl"
           }
          ],
          "scatterternary": [
           {
            "marker": {
             "colorbar": {
              "outlinewidth": 0,
              "ticks": ""
             }
            },
            "type": "scatterternary"
           }
          ],
          "surface": [
           {
            "colorbar": {
             "outlinewidth": 0,
             "ticks": ""
            },
            "colorscale": [
             [
              0,
              "#0d0887"
             ],
             [
              0.1111111111111111,
              "#46039f"
             ],
             [
              0.2222222222222222,
              "#7201a8"
             ],
             [
              0.3333333333333333,
              "#9c179e"
             ],
             [
              0.4444444444444444,
              "#bd3786"
             ],
             [
              0.5555555555555556,
              "#d8576b"
             ],
             [
              0.6666666666666666,
              "#ed7953"
             ],
             [
              0.7777777777777778,
              "#fb9f3a"
             ],
             [
              0.8888888888888888,
              "#fdca26"
             ],
             [
              1,
              "#f0f921"
             ]
            ],
            "type": "surface"
           }
          ],
          "table": [
           {
            "cells": {
             "fill": {
              "color": "#EBF0F8"
             },
             "line": {
              "color": "white"
             }
            },
            "header": {
             "fill": {
              "color": "#C8D4E3"
             },
             "line": {
              "color": "white"
             }
            },
            "type": "table"
           }
          ]
         },
         "layout": {
          "annotationdefaults": {
           "arrowcolor": "#2a3f5f",
           "arrowhead": 0,
           "arrowwidth": 1
          },
          "autotypenumbers": "strict",
          "coloraxis": {
           "colorbar": {
            "outlinewidth": 0,
            "ticks": ""
           }
          },
          "colorscale": {
           "diverging": [
            [
             0,
             "#8e0152"
            ],
            [
             0.1,
             "#c51b7d"
            ],
            [
             0.2,
             "#de77ae"
            ],
            [
             0.3,
             "#f1b6da"
            ],
            [
             0.4,
             "#fde0ef"
            ],
            [
             0.5,
             "#f7f7f7"
            ],
            [
             0.6,
             "#e6f5d0"
            ],
            [
             0.7,
             "#b8e186"
            ],
            [
             0.8,
             "#7fbc41"
            ],
            [
             0.9,
             "#4d9221"
            ],
            [
             1,
             "#276419"
            ]
           ],
           "sequential": [
            [
             0,
             "#0d0887"
            ],
            [
             0.1111111111111111,
             "#46039f"
            ],
            [
             0.2222222222222222,
             "#7201a8"
            ],
            [
             0.3333333333333333,
             "#9c179e"
            ],
            [
             0.4444444444444444,
             "#bd3786"
            ],
            [
             0.5555555555555556,
             "#d8576b"
            ],
            [
             0.6666666666666666,
             "#ed7953"
            ],
            [
             0.7777777777777778,
             "#fb9f3a"
            ],
            [
             0.8888888888888888,
             "#fdca26"
            ],
            [
             1,
             "#f0f921"
            ]
           ],
           "sequentialminus": [
            [
             0,
             "#0d0887"
            ],
            [
             0.1111111111111111,
             "#46039f"
            ],
            [
             0.2222222222222222,
             "#7201a8"
            ],
            [
             0.3333333333333333,
             "#9c179e"
            ],
            [
             0.4444444444444444,
             "#bd3786"
            ],
            [
             0.5555555555555556,
             "#d8576b"
            ],
            [
             0.6666666666666666,
             "#ed7953"
            ],
            [
             0.7777777777777778,
             "#fb9f3a"
            ],
            [
             0.8888888888888888,
             "#fdca26"
            ],
            [
             1,
             "#f0f921"
            ]
           ]
          },
          "colorway": [
           "#636efa",
           "#EF553B",
           "#00cc96",
           "#ab63fa",
           "#FFA15A",
           "#19d3f3",
           "#FF6692",
           "#B6E880",
           "#FF97FF",
           "#FECB52"
          ],
          "font": {
           "color": "#2a3f5f"
          },
          "geo": {
           "bgcolor": "white",
           "lakecolor": "white",
           "landcolor": "#E5ECF6",
           "showlakes": true,
           "showland": true,
           "subunitcolor": "white"
          },
          "hoverlabel": {
           "align": "left"
          },
          "hovermode": "closest",
          "mapbox": {
           "style": "light"
          },
          "paper_bgcolor": "white",
          "plot_bgcolor": "#E5ECF6",
          "polar": {
           "angularaxis": {
            "gridcolor": "white",
            "linecolor": "white",
            "ticks": ""
           },
           "bgcolor": "#E5ECF6",
           "radialaxis": {
            "gridcolor": "white",
            "linecolor": "white",
            "ticks": ""
           }
          },
          "scene": {
           "xaxis": {
            "backgroundcolor": "#E5ECF6",
            "gridcolor": "white",
            "gridwidth": 2,
            "linecolor": "white",
            "showbackground": true,
            "ticks": "",
            "zerolinecolor": "white"
           },
           "yaxis": {
            "backgroundcolor": "#E5ECF6",
            "gridcolor": "white",
            "gridwidth": 2,
            "linecolor": "white",
            "showbackground": true,
            "ticks": "",
            "zerolinecolor": "white"
           },
           "zaxis": {
            "backgroundcolor": "#E5ECF6",
            "gridcolor": "white",
            "gridwidth": 2,
            "linecolor": "white",
            "showbackground": true,
            "ticks": "",
            "zerolinecolor": "white"
           }
          },
          "shapedefaults": {
           "line": {
            "color": "#2a3f5f"
           }
          },
          "ternary": {
           "aaxis": {
            "gridcolor": "white",
            "linecolor": "white",
            "ticks": ""
           },
           "baxis": {
            "gridcolor": "white",
            "linecolor": "white",
            "ticks": ""
           },
           "bgcolor": "#E5ECF6",
           "caxis": {
            "gridcolor": "white",
            "linecolor": "white",
            "ticks": ""
           }
          },
          "title": {
           "x": 0.05
          },
          "xaxis": {
           "automargin": true,
           "gridcolor": "white",
           "linecolor": "white",
           "ticks": "",
           "title": {
            "standoff": 15
           },
           "zerolinecolor": "white",
           "zerolinewidth": 2
          },
          "yaxis": {
           "automargin": true,
           "gridcolor": "white",
           "linecolor": "white",
           "ticks": "",
           "title": {
            "standoff": 15
           },
           "zerolinecolor": "white",
           "zerolinewidth": 2
          }
         }
        },
        "title": {
         "text": "Comparison of joular data and 'wmc' metric for repository jabref"
        },
        "xaxis": {
         "anchor": "y",
         "domain": [
          0,
          0.94
         ]
        },
        "yaxis": {
         "anchor": "x",
         "domain": [
          0,
          1
         ]
        },
        "yaxis2": {
         "anchor": "x",
         "overlaying": "y",
         "side": "right"
        }
       }
      }
     },
     "metadata": {},
     "output_type": "display_data"
    },
    {
     "name": "stdout",
     "output_type": "stream",
     "text": [
      "Len with outliers :  73\n",
      "Len without outliers :  15\n",
      "[{'Method': 'findClass/1[java.lang.String]', 'Class': 'org.hibernate.orm.test.bootstrap.registry.classloading.IsolatedClassLoader', 'JoularValues': [463.8108, 508.5263, 466.7141, 608.1737, 509.75958, 485.7152, 640.63824, 456.9913, 737.8087, 388.88422, 598.8286, 520.0781, 374.9727, 286.1817, 475.00812, 453.54208, 404.50558, 540.2884, 307.286, 599.3375, 384.4495, 375.6719, 553.6133, 274.8325, 599.3805, 513.4359, 209.6569, 478.3937, 564.5434, 494.37592], 'loc': 13.0, 'wmc': 3.0, 'cbo': 1.0}, {'Method': 'init/0', 'Class': 'org.hibernate.orm.test.internal.util.ReflectHelperTest', 'JoularValues': [79.2474, 33.324303, 99.7014, 20.7368, 97.6481, 60.2264, 105.8268, 40.4414, 72.4221, 31.663498, 28.2784, 58.184498, 49.9766, 76.9711, 35.497, 52.413197, 78.892, 83.4939, 43.6744, 47.4367, 56.043205, 44.0588, 127.62701, 99.903, 38.6459, 109.6185, 39.849697, 36.9334, 50.444298, 45.550297], 'loc': 9.0, 'wmc': 1.0, 'cbo': 5.0}, {'Method': 'resolveLocalXsdSchema/1[java.lang.String]', 'Class': 'org.hibernate.boot.xsd.LocalXsdResolver', 'JoularValues': [45.2483, 34.6892, 38.3209, 43.2398, 29.461401, 25.3993, 30.3755, 29.911999, 26.928598, 35.6481, 31.960499, 27.7428, 25.031, 39.8452, 38.540897, 26.670101, 30.872099, 31.4481, 26.3415, 40.3122, 33.2549, 23.123, 25.9031, 28.331501, 31.7208, 26.6199, 40.6826, 28.1187, 25.7496, 35.3178], 'loc': 28.0, 'wmc': 5.0, 'cbo': 2.0}, {'Method': 'findClass/1[java.lang.String]', 'Class': 'org.hibernate.boot.registry.classloading.internal.AggregatedClassLoader', 'JoularValues': [40.5933, 15.9507, 48.4024, 6.5783, 31.0427, 19.7695, 24.1467, 31.834, 17.4296, 60.807003, 33.7267, 24.410099, 28.018301, 17.4485, 46.7233, 30.8961, 36.8798, 9.1286, 42.9382, 26.4102, 48.98, 27.391, 19.2798, 36.9734, 11.7706, 30.0085, 25.9004, 41.9725, 67.64359, 37.599697], 'loc': 17.0, 'wmc': 8.0, 'cbo': 1.0}, {'Method': 'testSupportsRefCursorsAboveJava8/0', 'Class': 'org.hibernate.orm.test.jdbc.refcursor.StandardRefCursorSupportTest', 'JoularValues': [38.6331, 28.5637, 31.8307, 15.5525, 52.7319, 46.0104, 33.7, 25.2758, 32.6962, 31.6635, 21.2088, 52.7404, 37.4824, 43.1385, 30.4259, 48.7175, 45.198, 43.3987, 61.0289, 47.4367, 53.6037, 37.7647, 51.8097, 36.9678, 33.125, 38.2678, 34.1569, 31.6572, 43.2381, 45.5503], 'loc': 6.0, 'wmc': 1.0, 'cbo': 2.0}, {'Method': 'nameFor/3[java.lang.String,int,java.lang.Object[]]', 'Class': 'org.hibernate.testing.junit4.CustomParameterized', 'JoularValues': [37.4117, 30.2803, 43.5022, 10.5677, 17.187, 21.2959, 15.6853, 17.6053, 24.6696, 13.59, 24.9939, 8.332, 17.8014, 16.9067, 4.5979, 41.7237, 41.021202, 21.9506, 14.5708, 40.1226, 13.2856, 27.515202, 34.2602, 23.3497, 11.2402, 19.6762, 12.9834, 9.8197, 18.3471, 17.9509], 'loc': 5.0, 'wmc': 1.0, 'cbo': 0.0}, {'Method': 'getBytesFromInputStream/1[java.io.InputStream]', 'Class': 'org.hibernate.orm.test.bootstrap.scanning.JarVisitorTest', 'JoularValues': [26.6372, 21.2242, 31.2481, 27.4324, 34.6006, 34.8862, 17.9384, 21.4436, 20.669798, 30.0532, 22.0269, 26.293098, 22.033, 9.038, 20.088501, 23.1105, 22.6822, 35.9102, 33.5893, 28.6262, 27.262001, 23.515501, 30.687601, 31.231401, 21.3445, 22.4653, 20.8269, 22.4919, 19.5036, 28.4253], 'loc': 14.0, 'wmc': 3.0, 'cbo': 1.0}, {'Method': 'resolveClassLoadingStrategy/1[java.lang.Class<?>]', 'Class': 'org.hibernate.bytecode.internal.bytebuddy.ByteBuddyState', 'JoularValues': [15.1642, 9.1051, 23.0853, 15.2589, 16.2741, 8.6913, 6.7232, 2.4562, 16.525, 17.7631, 0.7907, 21.3204, 9.1376, 16.5666, 10.4235, 4.5975, 6.215, 12.0165, 14.7093, 13.1051, 16.8004, 11.3657, 6.3355, 4.0154, 13.9481, 12.5026, 8.9501, 10.1419, 10.7782, 14.1686], 'loc': 8.0, 'wmc': 2.0, 'cbo': 2.0}]\n"
     ]
    },
    {
     "data": {
      "application/vnd.plotly.v1+json": {
       "config": {
        "plotlyServerURL": "https://plot.ly"
       },
       "data": [
        {
         "legendgroup": "boxplots",
         "marker": {
          "color": "rgb(252,141,98)"
         },
         "name": "findClass/1[java.lang.String]",
         "type": "box",
         "xaxis": "x",
         "y": [
          463.8108,
          508.5263,
          466.7141,
          608.1737,
          509.75958,
          485.7152,
          640.63824,
          456.9913,
          737.8087,
          388.88422,
          598.8286,
          520.0781,
          374.9727,
          286.1817,
          475.00812,
          453.54208,
          404.50558,
          540.2884,
          307.286,
          599.3375,
          384.4495,
          375.6719,
          553.6133,
          274.8325,
          599.3805,
          513.4359,
          209.6569,
          478.3937,
          564.5434,
          494.37592
         ],
         "yaxis": "y2"
        },
        {
         "legendgroup": "barcharts",
         "marker": {
          "color": "rgb(141,160,203)"
         },
         "name": "loc",
         "type": "bar",
         "x": [
          "findClass/1[java.lang.String]"
         ],
         "y": [
          13
         ]
        },
        {
         "legendgroup": "boxplots",
         "marker": {
          "color": "rgb(252,141,98)"
         },
         "name": "init/0",
         "type": "box",
         "xaxis": "x",
         "y": [
          79.2474,
          33.324303,
          99.7014,
          20.7368,
          97.6481,
          60.2264,
          105.8268,
          40.4414,
          72.4221,
          31.663498,
          28.2784,
          58.184498,
          49.9766,
          76.9711,
          35.497,
          52.413197,
          78.892,
          83.4939,
          43.6744,
          47.4367,
          56.043205,
          44.0588,
          127.62701,
          99.903,
          38.6459,
          109.6185,
          39.849697,
          36.9334,
          50.444298,
          45.550297
         ],
         "yaxis": "y2"
        },
        {
         "legendgroup": "barcharts",
         "marker": {
          "color": "rgb(141,160,203)"
         },
         "name": "loc",
         "type": "bar",
         "x": [
          "init/0"
         ],
         "y": [
          9
         ]
        },
        {
         "legendgroup": "boxplots",
         "marker": {
          "color": "rgb(252,141,98)"
         },
         "name": "resolveLocalXsdSchema/1[java.l",
         "type": "box",
         "xaxis": "x",
         "y": [
          45.2483,
          34.6892,
          38.3209,
          43.2398,
          29.461401,
          25.3993,
          30.3755,
          29.911999,
          26.928598,
          35.6481,
          31.960499,
          27.7428,
          25.031,
          39.8452,
          38.540897,
          26.670101,
          30.872099,
          31.4481,
          26.3415,
          40.3122,
          33.2549,
          23.123,
          25.9031,
          28.331501,
          31.7208,
          26.6199,
          40.6826,
          28.1187,
          25.7496,
          35.3178
         ],
         "yaxis": "y2"
        },
        {
         "legendgroup": "barcharts",
         "marker": {
          "color": "rgb(141,160,203)"
         },
         "name": "loc",
         "type": "bar",
         "x": [
          "resolveLocalXsdSchema/1[java.l"
         ],
         "y": [
          28
         ]
        },
        {
         "legendgroup": "boxplots",
         "marker": {
          "color": "rgb(252,141,98)"
         },
         "name": "findClass/1[java.lang.String]",
         "type": "box",
         "xaxis": "x",
         "y": [
          40.5933,
          15.9507,
          48.4024,
          6.5783,
          31.0427,
          19.7695,
          24.1467,
          31.834,
          17.4296,
          60.807003,
          33.7267,
          24.410099,
          28.018301,
          17.4485,
          46.7233,
          30.8961,
          36.8798,
          9.1286,
          42.9382,
          26.4102,
          48.98,
          27.391,
          19.2798,
          36.9734,
          11.7706,
          30.0085,
          25.9004,
          41.9725,
          67.64359,
          37.599697
         ],
         "yaxis": "y2"
        },
        {
         "legendgroup": "barcharts",
         "marker": {
          "color": "rgb(141,160,203)"
         },
         "name": "loc",
         "type": "bar",
         "x": [
          "findClass/1[java.lang.String]"
         ],
         "y": [
          17
         ]
        },
        {
         "legendgroup": "boxplots",
         "marker": {
          "color": "rgb(252,141,98)"
         },
         "name": "testSupportsRefCursorsAboveJav",
         "type": "box",
         "xaxis": "x",
         "y": [
          38.6331,
          28.5637,
          31.8307,
          15.5525,
          52.7319,
          46.0104,
          33.7,
          25.2758,
          32.6962,
          31.6635,
          21.2088,
          52.7404,
          37.4824,
          43.1385,
          30.4259,
          48.7175,
          45.198,
          43.3987,
          61.0289,
          47.4367,
          53.6037,
          37.7647,
          51.8097,
          36.9678,
          33.125,
          38.2678,
          34.1569,
          31.6572,
          43.2381,
          45.5503
         ],
         "yaxis": "y2"
        },
        {
         "legendgroup": "barcharts",
         "marker": {
          "color": "rgb(141,160,203)"
         },
         "name": "loc",
         "type": "bar",
         "x": [
          "testSupportsRefCursorsAboveJav"
         ],
         "y": [
          6
         ]
        },
        {
         "legendgroup": "boxplots",
         "marker": {
          "color": "rgb(252,141,98)"
         },
         "name": "nameFor/3[java.lang.String,int",
         "type": "box",
         "xaxis": "x",
         "y": [
          37.4117,
          30.2803,
          43.5022,
          10.5677,
          17.187,
          21.2959,
          15.6853,
          17.6053,
          24.6696,
          13.59,
          24.9939,
          8.332,
          17.8014,
          16.9067,
          4.5979,
          41.7237,
          41.021202,
          21.9506,
          14.5708,
          40.1226,
          13.2856,
          27.515202,
          34.2602,
          23.3497,
          11.2402,
          19.6762,
          12.9834,
          9.8197,
          18.3471,
          17.9509
         ],
         "yaxis": "y2"
        },
        {
         "legendgroup": "barcharts",
         "marker": {
          "color": "rgb(141,160,203)"
         },
         "name": "loc",
         "type": "bar",
         "x": [
          "nameFor/3[java.lang.String,int"
         ],
         "y": [
          5
         ]
        },
        {
         "legendgroup": "boxplots",
         "marker": {
          "color": "rgb(252,141,98)"
         },
         "name": "getBytesFromInputStream/1[java",
         "type": "box",
         "xaxis": "x",
         "y": [
          26.6372,
          21.2242,
          31.2481,
          27.4324,
          34.6006,
          34.8862,
          17.9384,
          21.4436,
          20.669798,
          30.0532,
          22.0269,
          26.293098,
          22.033,
          9.038,
          20.088501,
          23.1105,
          22.6822,
          35.9102,
          33.5893,
          28.6262,
          27.262001,
          23.515501,
          30.687601,
          31.231401,
          21.3445,
          22.4653,
          20.8269,
          22.4919,
          19.5036,
          28.4253
         ],
         "yaxis": "y2"
        },
        {
         "legendgroup": "barcharts",
         "marker": {
          "color": "rgb(141,160,203)"
         },
         "name": "loc",
         "type": "bar",
         "x": [
          "getBytesFromInputStream/1[java"
         ],
         "y": [
          14
         ]
        },
        {
         "legendgroup": "boxplots",
         "marker": {
          "color": "rgb(252,141,98)"
         },
         "name": "resolveClassLoadingStrategy/1[",
         "type": "box",
         "xaxis": "x",
         "y": [
          15.1642,
          9.1051,
          23.0853,
          15.2589,
          16.2741,
          8.6913,
          6.7232,
          2.4562,
          16.525,
          17.7631,
          0.7907,
          21.3204,
          9.1376,
          16.5666,
          10.4235,
          4.5975,
          6.215,
          12.0165,
          14.7093,
          13.1051,
          16.8004,
          11.3657,
          6.3355,
          4.0154,
          13.9481,
          12.5026,
          8.9501,
          10.1419,
          10.7782,
          14.1686
         ],
         "yaxis": "y2"
        },
        {
         "legendgroup": "barcharts",
         "marker": {
          "color": "rgb(141,160,203)"
         },
         "name": "loc",
         "type": "bar",
         "x": [
          "resolveClassLoadingStrategy/1["
         ],
         "y": [
          8
         ]
        }
       ],
       "layout": {
        "legend": {
         "traceorder": "normal"
        },
        "template": {
         "data": {
          "bar": [
           {
            "error_x": {
             "color": "#2a3f5f"
            },
            "error_y": {
             "color": "#2a3f5f"
            },
            "marker": {
             "line": {
              "color": "#E5ECF6",
              "width": 0.5
             },
             "pattern": {
              "fillmode": "overlay",
              "size": 10,
              "solidity": 0.2
             }
            },
            "type": "bar"
           }
          ],
          "barpolar": [
           {
            "marker": {
             "line": {
              "color": "#E5ECF6",
              "width": 0.5
             },
             "pattern": {
              "fillmode": "overlay",
              "size": 10,
              "solidity": 0.2
             }
            },
            "type": "barpolar"
           }
          ],
          "carpet": [
           {
            "aaxis": {
             "endlinecolor": "#2a3f5f",
             "gridcolor": "white",
             "linecolor": "white",
             "minorgridcolor": "white",
             "startlinecolor": "#2a3f5f"
            },
            "baxis": {
             "endlinecolor": "#2a3f5f",
             "gridcolor": "white",
             "linecolor": "white",
             "minorgridcolor": "white",
             "startlinecolor": "#2a3f5f"
            },
            "type": "carpet"
           }
          ],
          "choropleth": [
           {
            "colorbar": {
             "outlinewidth": 0,
             "ticks": ""
            },
            "type": "choropleth"
           }
          ],
          "contour": [
           {
            "colorbar": {
             "outlinewidth": 0,
             "ticks": ""
            },
            "colorscale": [
             [
              0,
              "#0d0887"
             ],
             [
              0.1111111111111111,
              "#46039f"
             ],
             [
              0.2222222222222222,
              "#7201a8"
             ],
             [
              0.3333333333333333,
              "#9c179e"
             ],
             [
              0.4444444444444444,
              "#bd3786"
             ],
             [
              0.5555555555555556,
              "#d8576b"
             ],
             [
              0.6666666666666666,
              "#ed7953"
             ],
             [
              0.7777777777777778,
              "#fb9f3a"
             ],
             [
              0.8888888888888888,
              "#fdca26"
             ],
             [
              1,
              "#f0f921"
             ]
            ],
            "type": "contour"
           }
          ],
          "contourcarpet": [
           {
            "colorbar": {
             "outlinewidth": 0,
             "ticks": ""
            },
            "type": "contourcarpet"
           }
          ],
          "heatmap": [
           {
            "colorbar": {
             "outlinewidth": 0,
             "ticks": ""
            },
            "colorscale": [
             [
              0,
              "#0d0887"
             ],
             [
              0.1111111111111111,
              "#46039f"
             ],
             [
              0.2222222222222222,
              "#7201a8"
             ],
             [
              0.3333333333333333,
              "#9c179e"
             ],
             [
              0.4444444444444444,
              "#bd3786"
             ],
             [
              0.5555555555555556,
              "#d8576b"
             ],
             [
              0.6666666666666666,
              "#ed7953"
             ],
             [
              0.7777777777777778,
              "#fb9f3a"
             ],
             [
              0.8888888888888888,
              "#fdca26"
             ],
             [
              1,
              "#f0f921"
             ]
            ],
            "type": "heatmap"
           }
          ],
          "heatmapgl": [
           {
            "colorbar": {
             "outlinewidth": 0,
             "ticks": ""
            },
            "colorscale": [
             [
              0,
              "#0d0887"
             ],
             [
              0.1111111111111111,
              "#46039f"
             ],
             [
              0.2222222222222222,
              "#7201a8"
             ],
             [
              0.3333333333333333,
              "#9c179e"
             ],
             [
              0.4444444444444444,
              "#bd3786"
             ],
             [
              0.5555555555555556,
              "#d8576b"
             ],
             [
              0.6666666666666666,
              "#ed7953"
             ],
             [
              0.7777777777777778,
              "#fb9f3a"
             ],
             [
              0.8888888888888888,
              "#fdca26"
             ],
             [
              1,
              "#f0f921"
             ]
            ],
            "type": "heatmapgl"
           }
          ],
          "histogram": [
           {
            "marker": {
             "pattern": {
              "fillmode": "overlay",
              "size": 10,
              "solidity": 0.2
             }
            },
            "type": "histogram"
           }
          ],
          "histogram2d": [
           {
            "colorbar": {
             "outlinewidth": 0,
             "ticks": ""
            },
            "colorscale": [
             [
              0,
              "#0d0887"
             ],
             [
              0.1111111111111111,
              "#46039f"
             ],
             [
              0.2222222222222222,
              "#7201a8"
             ],
             [
              0.3333333333333333,
              "#9c179e"
             ],
             [
              0.4444444444444444,
              "#bd3786"
             ],
             [
              0.5555555555555556,
              "#d8576b"
             ],
             [
              0.6666666666666666,
              "#ed7953"
             ],
             [
              0.7777777777777778,
              "#fb9f3a"
             ],
             [
              0.8888888888888888,
              "#fdca26"
             ],
             [
              1,
              "#f0f921"
             ]
            ],
            "type": "histogram2d"
           }
          ],
          "histogram2dcontour": [
           {
            "colorbar": {
             "outlinewidth": 0,
             "ticks": ""
            },
            "colorscale": [
             [
              0,
              "#0d0887"
             ],
             [
              0.1111111111111111,
              "#46039f"
             ],
             [
              0.2222222222222222,
              "#7201a8"
             ],
             [
              0.3333333333333333,
              "#9c179e"
             ],
             [
              0.4444444444444444,
              "#bd3786"
             ],
             [
              0.5555555555555556,
              "#d8576b"
             ],
             [
              0.6666666666666666,
              "#ed7953"
             ],
             [
              0.7777777777777778,
              "#fb9f3a"
             ],
             [
              0.8888888888888888,
              "#fdca26"
             ],
             [
              1,
              "#f0f921"
             ]
            ],
            "type": "histogram2dcontour"
           }
          ],
          "mesh3d": [
           {
            "colorbar": {
             "outlinewidth": 0,
             "ticks": ""
            },
            "type": "mesh3d"
           }
          ],
          "parcoords": [
           {
            "line": {
             "colorbar": {
              "outlinewidth": 0,
              "ticks": ""
             }
            },
            "type": "parcoords"
           }
          ],
          "pie": [
           {
            "automargin": true,
            "type": "pie"
           }
          ],
          "scatter": [
           {
            "fillpattern": {
             "fillmode": "overlay",
             "size": 10,
             "solidity": 0.2
            },
            "type": "scatter"
           }
          ],
          "scatter3d": [
           {
            "line": {
             "colorbar": {
              "outlinewidth": 0,
              "ticks": ""
             }
            },
            "marker": {
             "colorbar": {
              "outlinewidth": 0,
              "ticks": ""
             }
            },
            "type": "scatter3d"
           }
          ],
          "scattercarpet": [
           {
            "marker": {
             "colorbar": {
              "outlinewidth": 0,
              "ticks": ""
             }
            },
            "type": "scattercarpet"
           }
          ],
          "scattergeo": [
           {
            "marker": {
             "colorbar": {
              "outlinewidth": 0,
              "ticks": ""
             }
            },
            "type": "scattergeo"
           }
          ],
          "scattergl": [
           {
            "marker": {
             "colorbar": {
              "outlinewidth": 0,
              "ticks": ""
             }
            },
            "type": "scattergl"
           }
          ],
          "scattermapbox": [
           {
            "marker": {
             "colorbar": {
              "outlinewidth": 0,
              "ticks": ""
             }
            },
            "type": "scattermapbox"
           }
          ],
          "scatterpolar": [
           {
            "marker": {
             "colorbar": {
              "outlinewidth": 0,
              "ticks": ""
             }
            },
            "type": "scatterpolar"
           }
          ],
          "scatterpolargl": [
           {
            "marker": {
             "colorbar": {
              "outlinewidth": 0,
              "ticks": ""
             }
            },
            "type": "scatterpolargl"
           }
          ],
          "scatterternary": [
           {
            "marker": {
             "colorbar": {
              "outlinewidth": 0,
              "ticks": ""
             }
            },
            "type": "scatterternary"
           }
          ],
          "surface": [
           {
            "colorbar": {
             "outlinewidth": 0,
             "ticks": ""
            },
            "colorscale": [
             [
              0,
              "#0d0887"
             ],
             [
              0.1111111111111111,
              "#46039f"
             ],
             [
              0.2222222222222222,
              "#7201a8"
             ],
             [
              0.3333333333333333,
              "#9c179e"
             ],
             [
              0.4444444444444444,
              "#bd3786"
             ],
             [
              0.5555555555555556,
              "#d8576b"
             ],
             [
              0.6666666666666666,
              "#ed7953"
             ],
             [
              0.7777777777777778,
              "#fb9f3a"
             ],
             [
              0.8888888888888888,
              "#fdca26"
             ],
             [
              1,
              "#f0f921"
             ]
            ],
            "type": "surface"
           }
          ],
          "table": [
           {
            "cells": {
             "fill": {
              "color": "#EBF0F8"
             },
             "line": {
              "color": "white"
             }
            },
            "header": {
             "fill": {
              "color": "#C8D4E3"
             },
             "line": {
              "color": "white"
             }
            },
            "type": "table"
           }
          ]
         },
         "layout": {
          "annotationdefaults": {
           "arrowcolor": "#2a3f5f",
           "arrowhead": 0,
           "arrowwidth": 1
          },
          "autotypenumbers": "strict",
          "coloraxis": {
           "colorbar": {
            "outlinewidth": 0,
            "ticks": ""
           }
          },
          "colorscale": {
           "diverging": [
            [
             0,
             "#8e0152"
            ],
            [
             0.1,
             "#c51b7d"
            ],
            [
             0.2,
             "#de77ae"
            ],
            [
             0.3,
             "#f1b6da"
            ],
            [
             0.4,
             "#fde0ef"
            ],
            [
             0.5,
             "#f7f7f7"
            ],
            [
             0.6,
             "#e6f5d0"
            ],
            [
             0.7,
             "#b8e186"
            ],
            [
             0.8,
             "#7fbc41"
            ],
            [
             0.9,
             "#4d9221"
            ],
            [
             1,
             "#276419"
            ]
           ],
           "sequential": [
            [
             0,
             "#0d0887"
            ],
            [
             0.1111111111111111,
             "#46039f"
            ],
            [
             0.2222222222222222,
             "#7201a8"
            ],
            [
             0.3333333333333333,
             "#9c179e"
            ],
            [
             0.4444444444444444,
             "#bd3786"
            ],
            [
             0.5555555555555556,
             "#d8576b"
            ],
            [
             0.6666666666666666,
             "#ed7953"
            ],
            [
             0.7777777777777778,
             "#fb9f3a"
            ],
            [
             0.8888888888888888,
             "#fdca26"
            ],
            [
             1,
             "#f0f921"
            ]
           ],
           "sequentialminus": [
            [
             0,
             "#0d0887"
            ],
            [
             0.1111111111111111,
             "#46039f"
            ],
            [
             0.2222222222222222,
             "#7201a8"
            ],
            [
             0.3333333333333333,
             "#9c179e"
            ],
            [
             0.4444444444444444,
             "#bd3786"
            ],
            [
             0.5555555555555556,
             "#d8576b"
            ],
            [
             0.6666666666666666,
             "#ed7953"
            ],
            [
             0.7777777777777778,
             "#fb9f3a"
            ],
            [
             0.8888888888888888,
             "#fdca26"
            ],
            [
             1,
             "#f0f921"
            ]
           ]
          },
          "colorway": [
           "#636efa",
           "#EF553B",
           "#00cc96",
           "#ab63fa",
           "#FFA15A",
           "#19d3f3",
           "#FF6692",
           "#B6E880",
           "#FF97FF",
           "#FECB52"
          ],
          "font": {
           "color": "#2a3f5f"
          },
          "geo": {
           "bgcolor": "white",
           "lakecolor": "white",
           "landcolor": "#E5ECF6",
           "showlakes": true,
           "showland": true,
           "subunitcolor": "white"
          },
          "hoverlabel": {
           "align": "left"
          },
          "hovermode": "closest",
          "mapbox": {
           "style": "light"
          },
          "paper_bgcolor": "white",
          "plot_bgcolor": "#E5ECF6",
          "polar": {
           "angularaxis": {
            "gridcolor": "white",
            "linecolor": "white",
            "ticks": ""
           },
           "bgcolor": "#E5ECF6",
           "radialaxis": {
            "gridcolor": "white",
            "linecolor": "white",
            "ticks": ""
           }
          },
          "scene": {
           "xaxis": {
            "backgroundcolor": "#E5ECF6",
            "gridcolor": "white",
            "gridwidth": 2,
            "linecolor": "white",
            "showbackground": true,
            "ticks": "",
            "zerolinecolor": "white"
           },
           "yaxis": {
            "backgroundcolor": "#E5ECF6",
            "gridcolor": "white",
            "gridwidth": 2,
            "linecolor": "white",
            "showbackground": true,
            "ticks": "",
            "zerolinecolor": "white"
           },
           "zaxis": {
            "backgroundcolor": "#E5ECF6",
            "gridcolor": "white",
            "gridwidth": 2,
            "linecolor": "white",
            "showbackground": true,
            "ticks": "",
            "zerolinecolor": "white"
           }
          },
          "shapedefaults": {
           "line": {
            "color": "#2a3f5f"
           }
          },
          "ternary": {
           "aaxis": {
            "gridcolor": "white",
            "linecolor": "white",
            "ticks": ""
           },
           "baxis": {
            "gridcolor": "white",
            "linecolor": "white",
            "ticks": ""
           },
           "bgcolor": "#E5ECF6",
           "caxis": {
            "gridcolor": "white",
            "linecolor": "white",
            "ticks": ""
           }
          },
          "title": {
           "x": 0.05
          },
          "xaxis": {
           "automargin": true,
           "gridcolor": "white",
           "linecolor": "white",
           "ticks": "",
           "title": {
            "standoff": 15
           },
           "zerolinecolor": "white",
           "zerolinewidth": 2
          },
          "yaxis": {
           "automargin": true,
           "gridcolor": "white",
           "linecolor": "white",
           "ticks": "",
           "title": {
            "standoff": 15
           },
           "zerolinecolor": "white",
           "zerolinewidth": 2
          }
         }
        },
        "title": {
         "text": "Comparison of joular data and 'loc' metric for repository hibernate-orm"
        },
        "xaxis": {
         "anchor": "y",
         "domain": [
          0,
          0.94
         ]
        },
        "yaxis": {
         "anchor": "x",
         "domain": [
          0,
          1
         ]
        },
        "yaxis2": {
         "anchor": "x",
         "overlaying": "y",
         "side": "right"
        }
       }
      }
     },
     "metadata": {},
     "output_type": "display_data"
    },
    {
     "data": {
      "application/vnd.plotly.v1+json": {
       "config": {
        "plotlyServerURL": "https://plot.ly"
       },
       "data": [
        {
         "legendgroup": "boxplots",
         "marker": {
          "color": "rgb(252,141,98)"
         },
         "name": "findClass/1[java.lang.String]",
         "type": "box",
         "xaxis": "x",
         "y": [
          463.8108,
          508.5263,
          466.7141,
          608.1737,
          509.75958,
          485.7152,
          640.63824,
          456.9913,
          737.8087,
          388.88422,
          598.8286,
          520.0781,
          374.9727,
          286.1817,
          475.00812,
          453.54208,
          404.50558,
          540.2884,
          307.286,
          599.3375,
          384.4495,
          375.6719,
          553.6133,
          274.8325,
          599.3805,
          513.4359,
          209.6569,
          478.3937,
          564.5434,
          494.37592
         ],
         "yaxis": "y2"
        },
        {
         "legendgroup": "barcharts",
         "marker": {
          "color": "rgb(141,160,203)"
         },
         "name": "cbo",
         "type": "bar",
         "x": [
          "findClass/1[java.lang.String]"
         ],
         "y": [
          1
         ]
        },
        {
         "legendgroup": "boxplots",
         "marker": {
          "color": "rgb(252,141,98)"
         },
         "name": "init/0",
         "type": "box",
         "xaxis": "x",
         "y": [
          79.2474,
          33.324303,
          99.7014,
          20.7368,
          97.6481,
          60.2264,
          105.8268,
          40.4414,
          72.4221,
          31.663498,
          28.2784,
          58.184498,
          49.9766,
          76.9711,
          35.497,
          52.413197,
          78.892,
          83.4939,
          43.6744,
          47.4367,
          56.043205,
          44.0588,
          127.62701,
          99.903,
          38.6459,
          109.6185,
          39.849697,
          36.9334,
          50.444298,
          45.550297
         ],
         "yaxis": "y2"
        },
        {
         "legendgroup": "barcharts",
         "marker": {
          "color": "rgb(141,160,203)"
         },
         "name": "cbo",
         "type": "bar",
         "x": [
          "init/0"
         ],
         "y": [
          5
         ]
        },
        {
         "legendgroup": "boxplots",
         "marker": {
          "color": "rgb(252,141,98)"
         },
         "name": "resolveLocalXsdSchema/1[java.l",
         "type": "box",
         "xaxis": "x",
         "y": [
          45.2483,
          34.6892,
          38.3209,
          43.2398,
          29.461401,
          25.3993,
          30.3755,
          29.911999,
          26.928598,
          35.6481,
          31.960499,
          27.7428,
          25.031,
          39.8452,
          38.540897,
          26.670101,
          30.872099,
          31.4481,
          26.3415,
          40.3122,
          33.2549,
          23.123,
          25.9031,
          28.331501,
          31.7208,
          26.6199,
          40.6826,
          28.1187,
          25.7496,
          35.3178
         ],
         "yaxis": "y2"
        },
        {
         "legendgroup": "barcharts",
         "marker": {
          "color": "rgb(141,160,203)"
         },
         "name": "cbo",
         "type": "bar",
         "x": [
          "resolveLocalXsdSchema/1[java.l"
         ],
         "y": [
          2
         ]
        },
        {
         "legendgroup": "boxplots",
         "marker": {
          "color": "rgb(252,141,98)"
         },
         "name": "findClass/1[java.lang.String]",
         "type": "box",
         "xaxis": "x",
         "y": [
          40.5933,
          15.9507,
          48.4024,
          6.5783,
          31.0427,
          19.7695,
          24.1467,
          31.834,
          17.4296,
          60.807003,
          33.7267,
          24.410099,
          28.018301,
          17.4485,
          46.7233,
          30.8961,
          36.8798,
          9.1286,
          42.9382,
          26.4102,
          48.98,
          27.391,
          19.2798,
          36.9734,
          11.7706,
          30.0085,
          25.9004,
          41.9725,
          67.64359,
          37.599697
         ],
         "yaxis": "y2"
        },
        {
         "legendgroup": "barcharts",
         "marker": {
          "color": "rgb(141,160,203)"
         },
         "name": "cbo",
         "type": "bar",
         "x": [
          "findClass/1[java.lang.String]"
         ],
         "y": [
          1
         ]
        },
        {
         "legendgroup": "boxplots",
         "marker": {
          "color": "rgb(252,141,98)"
         },
         "name": "testSupportsRefCursorsAboveJav",
         "type": "box",
         "xaxis": "x",
         "y": [
          38.6331,
          28.5637,
          31.8307,
          15.5525,
          52.7319,
          46.0104,
          33.7,
          25.2758,
          32.6962,
          31.6635,
          21.2088,
          52.7404,
          37.4824,
          43.1385,
          30.4259,
          48.7175,
          45.198,
          43.3987,
          61.0289,
          47.4367,
          53.6037,
          37.7647,
          51.8097,
          36.9678,
          33.125,
          38.2678,
          34.1569,
          31.6572,
          43.2381,
          45.5503
         ],
         "yaxis": "y2"
        },
        {
         "legendgroup": "barcharts",
         "marker": {
          "color": "rgb(141,160,203)"
         },
         "name": "cbo",
         "type": "bar",
         "x": [
          "testSupportsRefCursorsAboveJav"
         ],
         "y": [
          2
         ]
        },
        {
         "legendgroup": "boxplots",
         "marker": {
          "color": "rgb(252,141,98)"
         },
         "name": "nameFor/3[java.lang.String,int",
         "type": "box",
         "xaxis": "x",
         "y": [
          37.4117,
          30.2803,
          43.5022,
          10.5677,
          17.187,
          21.2959,
          15.6853,
          17.6053,
          24.6696,
          13.59,
          24.9939,
          8.332,
          17.8014,
          16.9067,
          4.5979,
          41.7237,
          41.021202,
          21.9506,
          14.5708,
          40.1226,
          13.2856,
          27.515202,
          34.2602,
          23.3497,
          11.2402,
          19.6762,
          12.9834,
          9.8197,
          18.3471,
          17.9509
         ],
         "yaxis": "y2"
        },
        {
         "legendgroup": "barcharts",
         "marker": {
          "color": "rgb(141,160,203)"
         },
         "name": "cbo",
         "type": "bar",
         "x": [
          "nameFor/3[java.lang.String,int"
         ],
         "y": [
          0
         ]
        },
        {
         "legendgroup": "boxplots",
         "marker": {
          "color": "rgb(252,141,98)"
         },
         "name": "getBytesFromInputStream/1[java",
         "type": "box",
         "xaxis": "x",
         "y": [
          26.6372,
          21.2242,
          31.2481,
          27.4324,
          34.6006,
          34.8862,
          17.9384,
          21.4436,
          20.669798,
          30.0532,
          22.0269,
          26.293098,
          22.033,
          9.038,
          20.088501,
          23.1105,
          22.6822,
          35.9102,
          33.5893,
          28.6262,
          27.262001,
          23.515501,
          30.687601,
          31.231401,
          21.3445,
          22.4653,
          20.8269,
          22.4919,
          19.5036,
          28.4253
         ],
         "yaxis": "y2"
        },
        {
         "legendgroup": "barcharts",
         "marker": {
          "color": "rgb(141,160,203)"
         },
         "name": "cbo",
         "type": "bar",
         "x": [
          "getBytesFromInputStream/1[java"
         ],
         "y": [
          1
         ]
        },
        {
         "legendgroup": "boxplots",
         "marker": {
          "color": "rgb(252,141,98)"
         },
         "name": "resolveClassLoadingStrategy/1[",
         "type": "box",
         "xaxis": "x",
         "y": [
          15.1642,
          9.1051,
          23.0853,
          15.2589,
          16.2741,
          8.6913,
          6.7232,
          2.4562,
          16.525,
          17.7631,
          0.7907,
          21.3204,
          9.1376,
          16.5666,
          10.4235,
          4.5975,
          6.215,
          12.0165,
          14.7093,
          13.1051,
          16.8004,
          11.3657,
          6.3355,
          4.0154,
          13.9481,
          12.5026,
          8.9501,
          10.1419,
          10.7782,
          14.1686
         ],
         "yaxis": "y2"
        },
        {
         "legendgroup": "barcharts",
         "marker": {
          "color": "rgb(141,160,203)"
         },
         "name": "cbo",
         "type": "bar",
         "x": [
          "resolveClassLoadingStrategy/1["
         ],
         "y": [
          2
         ]
        }
       ],
       "layout": {
        "legend": {
         "traceorder": "normal"
        },
        "template": {
         "data": {
          "bar": [
           {
            "error_x": {
             "color": "#2a3f5f"
            },
            "error_y": {
             "color": "#2a3f5f"
            },
            "marker": {
             "line": {
              "color": "#E5ECF6",
              "width": 0.5
             },
             "pattern": {
              "fillmode": "overlay",
              "size": 10,
              "solidity": 0.2
             }
            },
            "type": "bar"
           }
          ],
          "barpolar": [
           {
            "marker": {
             "line": {
              "color": "#E5ECF6",
              "width": 0.5
             },
             "pattern": {
              "fillmode": "overlay",
              "size": 10,
              "solidity": 0.2
             }
            },
            "type": "barpolar"
           }
          ],
          "carpet": [
           {
            "aaxis": {
             "endlinecolor": "#2a3f5f",
             "gridcolor": "white",
             "linecolor": "white",
             "minorgridcolor": "white",
             "startlinecolor": "#2a3f5f"
            },
            "baxis": {
             "endlinecolor": "#2a3f5f",
             "gridcolor": "white",
             "linecolor": "white",
             "minorgridcolor": "white",
             "startlinecolor": "#2a3f5f"
            },
            "type": "carpet"
           }
          ],
          "choropleth": [
           {
            "colorbar": {
             "outlinewidth": 0,
             "ticks": ""
            },
            "type": "choropleth"
           }
          ],
          "contour": [
           {
            "colorbar": {
             "outlinewidth": 0,
             "ticks": ""
            },
            "colorscale": [
             [
              0,
              "#0d0887"
             ],
             [
              0.1111111111111111,
              "#46039f"
             ],
             [
              0.2222222222222222,
              "#7201a8"
             ],
             [
              0.3333333333333333,
              "#9c179e"
             ],
             [
              0.4444444444444444,
              "#bd3786"
             ],
             [
              0.5555555555555556,
              "#d8576b"
             ],
             [
              0.6666666666666666,
              "#ed7953"
             ],
             [
              0.7777777777777778,
              "#fb9f3a"
             ],
             [
              0.8888888888888888,
              "#fdca26"
             ],
             [
              1,
              "#f0f921"
             ]
            ],
            "type": "contour"
           }
          ],
          "contourcarpet": [
           {
            "colorbar": {
             "outlinewidth": 0,
             "ticks": ""
            },
            "type": "contourcarpet"
           }
          ],
          "heatmap": [
           {
            "colorbar": {
             "outlinewidth": 0,
             "ticks": ""
            },
            "colorscale": [
             [
              0,
              "#0d0887"
             ],
             [
              0.1111111111111111,
              "#46039f"
             ],
             [
              0.2222222222222222,
              "#7201a8"
             ],
             [
              0.3333333333333333,
              "#9c179e"
             ],
             [
              0.4444444444444444,
              "#bd3786"
             ],
             [
              0.5555555555555556,
              "#d8576b"
             ],
             [
              0.6666666666666666,
              "#ed7953"
             ],
             [
              0.7777777777777778,
              "#fb9f3a"
             ],
             [
              0.8888888888888888,
              "#fdca26"
             ],
             [
              1,
              "#f0f921"
             ]
            ],
            "type": "heatmap"
           }
          ],
          "heatmapgl": [
           {
            "colorbar": {
             "outlinewidth": 0,
             "ticks": ""
            },
            "colorscale": [
             [
              0,
              "#0d0887"
             ],
             [
              0.1111111111111111,
              "#46039f"
             ],
             [
              0.2222222222222222,
              "#7201a8"
             ],
             [
              0.3333333333333333,
              "#9c179e"
             ],
             [
              0.4444444444444444,
              "#bd3786"
             ],
             [
              0.5555555555555556,
              "#d8576b"
             ],
             [
              0.6666666666666666,
              "#ed7953"
             ],
             [
              0.7777777777777778,
              "#fb9f3a"
             ],
             [
              0.8888888888888888,
              "#fdca26"
             ],
             [
              1,
              "#f0f921"
             ]
            ],
            "type": "heatmapgl"
           }
          ],
          "histogram": [
           {
            "marker": {
             "pattern": {
              "fillmode": "overlay",
              "size": 10,
              "solidity": 0.2
             }
            },
            "type": "histogram"
           }
          ],
          "histogram2d": [
           {
            "colorbar": {
             "outlinewidth": 0,
             "ticks": ""
            },
            "colorscale": [
             [
              0,
              "#0d0887"
             ],
             [
              0.1111111111111111,
              "#46039f"
             ],
             [
              0.2222222222222222,
              "#7201a8"
             ],
             [
              0.3333333333333333,
              "#9c179e"
             ],
             [
              0.4444444444444444,
              "#bd3786"
             ],
             [
              0.5555555555555556,
              "#d8576b"
             ],
             [
              0.6666666666666666,
              "#ed7953"
             ],
             [
              0.7777777777777778,
              "#fb9f3a"
             ],
             [
              0.8888888888888888,
              "#fdca26"
             ],
             [
              1,
              "#f0f921"
             ]
            ],
            "type": "histogram2d"
           }
          ],
          "histogram2dcontour": [
           {
            "colorbar": {
             "outlinewidth": 0,
             "ticks": ""
            },
            "colorscale": [
             [
              0,
              "#0d0887"
             ],
             [
              0.1111111111111111,
              "#46039f"
             ],
             [
              0.2222222222222222,
              "#7201a8"
             ],
             [
              0.3333333333333333,
              "#9c179e"
             ],
             [
              0.4444444444444444,
              "#bd3786"
             ],
             [
              0.5555555555555556,
              "#d8576b"
             ],
             [
              0.6666666666666666,
              "#ed7953"
             ],
             [
              0.7777777777777778,
              "#fb9f3a"
             ],
             [
              0.8888888888888888,
              "#fdca26"
             ],
             [
              1,
              "#f0f921"
             ]
            ],
            "type": "histogram2dcontour"
           }
          ],
          "mesh3d": [
           {
            "colorbar": {
             "outlinewidth": 0,
             "ticks": ""
            },
            "type": "mesh3d"
           }
          ],
          "parcoords": [
           {
            "line": {
             "colorbar": {
              "outlinewidth": 0,
              "ticks": ""
             }
            },
            "type": "parcoords"
           }
          ],
          "pie": [
           {
            "automargin": true,
            "type": "pie"
           }
          ],
          "scatter": [
           {
            "fillpattern": {
             "fillmode": "overlay",
             "size": 10,
             "solidity": 0.2
            },
            "type": "scatter"
           }
          ],
          "scatter3d": [
           {
            "line": {
             "colorbar": {
              "outlinewidth": 0,
              "ticks": ""
             }
            },
            "marker": {
             "colorbar": {
              "outlinewidth": 0,
              "ticks": ""
             }
            },
            "type": "scatter3d"
           }
          ],
          "scattercarpet": [
           {
            "marker": {
             "colorbar": {
              "outlinewidth": 0,
              "ticks": ""
             }
            },
            "type": "scattercarpet"
           }
          ],
          "scattergeo": [
           {
            "marker": {
             "colorbar": {
              "outlinewidth": 0,
              "ticks": ""
             }
            },
            "type": "scattergeo"
           }
          ],
          "scattergl": [
           {
            "marker": {
             "colorbar": {
              "outlinewidth": 0,
              "ticks": ""
             }
            },
            "type": "scattergl"
           }
          ],
          "scattermapbox": [
           {
            "marker": {
             "colorbar": {
              "outlinewidth": 0,
              "ticks": ""
             }
            },
            "type": "scattermapbox"
           }
          ],
          "scatterpolar": [
           {
            "marker": {
             "colorbar": {
              "outlinewidth": 0,
              "ticks": ""
             }
            },
            "type": "scatterpolar"
           }
          ],
          "scatterpolargl": [
           {
            "marker": {
             "colorbar": {
              "outlinewidth": 0,
              "ticks": ""
             }
            },
            "type": "scatterpolargl"
           }
          ],
          "scatterternary": [
           {
            "marker": {
             "colorbar": {
              "outlinewidth": 0,
              "ticks": ""
             }
            },
            "type": "scatterternary"
           }
          ],
          "surface": [
           {
            "colorbar": {
             "outlinewidth": 0,
             "ticks": ""
            },
            "colorscale": [
             [
              0,
              "#0d0887"
             ],
             [
              0.1111111111111111,
              "#46039f"
             ],
             [
              0.2222222222222222,
              "#7201a8"
             ],
             [
              0.3333333333333333,
              "#9c179e"
             ],
             [
              0.4444444444444444,
              "#bd3786"
             ],
             [
              0.5555555555555556,
              "#d8576b"
             ],
             [
              0.6666666666666666,
              "#ed7953"
             ],
             [
              0.7777777777777778,
              "#fb9f3a"
             ],
             [
              0.8888888888888888,
              "#fdca26"
             ],
             [
              1,
              "#f0f921"
             ]
            ],
            "type": "surface"
           }
          ],
          "table": [
           {
            "cells": {
             "fill": {
              "color": "#EBF0F8"
             },
             "line": {
              "color": "white"
             }
            },
            "header": {
             "fill": {
              "color": "#C8D4E3"
             },
             "line": {
              "color": "white"
             }
            },
            "type": "table"
           }
          ]
         },
         "layout": {
          "annotationdefaults": {
           "arrowcolor": "#2a3f5f",
           "arrowhead": 0,
           "arrowwidth": 1
          },
          "autotypenumbers": "strict",
          "coloraxis": {
           "colorbar": {
            "outlinewidth": 0,
            "ticks": ""
           }
          },
          "colorscale": {
           "diverging": [
            [
             0,
             "#8e0152"
            ],
            [
             0.1,
             "#c51b7d"
            ],
            [
             0.2,
             "#de77ae"
            ],
            [
             0.3,
             "#f1b6da"
            ],
            [
             0.4,
             "#fde0ef"
            ],
            [
             0.5,
             "#f7f7f7"
            ],
            [
             0.6,
             "#e6f5d0"
            ],
            [
             0.7,
             "#b8e186"
            ],
            [
             0.8,
             "#7fbc41"
            ],
            [
             0.9,
             "#4d9221"
            ],
            [
             1,
             "#276419"
            ]
           ],
           "sequential": [
            [
             0,
             "#0d0887"
            ],
            [
             0.1111111111111111,
             "#46039f"
            ],
            [
             0.2222222222222222,
             "#7201a8"
            ],
            [
             0.3333333333333333,
             "#9c179e"
            ],
            [
             0.4444444444444444,
             "#bd3786"
            ],
            [
             0.5555555555555556,
             "#d8576b"
            ],
            [
             0.6666666666666666,
             "#ed7953"
            ],
            [
             0.7777777777777778,
             "#fb9f3a"
            ],
            [
             0.8888888888888888,
             "#fdca26"
            ],
            [
             1,
             "#f0f921"
            ]
           ],
           "sequentialminus": [
            [
             0,
             "#0d0887"
            ],
            [
             0.1111111111111111,
             "#46039f"
            ],
            [
             0.2222222222222222,
             "#7201a8"
            ],
            [
             0.3333333333333333,
             "#9c179e"
            ],
            [
             0.4444444444444444,
             "#bd3786"
            ],
            [
             0.5555555555555556,
             "#d8576b"
            ],
            [
             0.6666666666666666,
             "#ed7953"
            ],
            [
             0.7777777777777778,
             "#fb9f3a"
            ],
            [
             0.8888888888888888,
             "#fdca26"
            ],
            [
             1,
             "#f0f921"
            ]
           ]
          },
          "colorway": [
           "#636efa",
           "#EF553B",
           "#00cc96",
           "#ab63fa",
           "#FFA15A",
           "#19d3f3",
           "#FF6692",
           "#B6E880",
           "#FF97FF",
           "#FECB52"
          ],
          "font": {
           "color": "#2a3f5f"
          },
          "geo": {
           "bgcolor": "white",
           "lakecolor": "white",
           "landcolor": "#E5ECF6",
           "showlakes": true,
           "showland": true,
           "subunitcolor": "white"
          },
          "hoverlabel": {
           "align": "left"
          },
          "hovermode": "closest",
          "mapbox": {
           "style": "light"
          },
          "paper_bgcolor": "white",
          "plot_bgcolor": "#E5ECF6",
          "polar": {
           "angularaxis": {
            "gridcolor": "white",
            "linecolor": "white",
            "ticks": ""
           },
           "bgcolor": "#E5ECF6",
           "radialaxis": {
            "gridcolor": "white",
            "linecolor": "white",
            "ticks": ""
           }
          },
          "scene": {
           "xaxis": {
            "backgroundcolor": "#E5ECF6",
            "gridcolor": "white",
            "gridwidth": 2,
            "linecolor": "white",
            "showbackground": true,
            "ticks": "",
            "zerolinecolor": "white"
           },
           "yaxis": {
            "backgroundcolor": "#E5ECF6",
            "gridcolor": "white",
            "gridwidth": 2,
            "linecolor": "white",
            "showbackground": true,
            "ticks": "",
            "zerolinecolor": "white"
           },
           "zaxis": {
            "backgroundcolor": "#E5ECF6",
            "gridcolor": "white",
            "gridwidth": 2,
            "linecolor": "white",
            "showbackground": true,
            "ticks": "",
            "zerolinecolor": "white"
           }
          },
          "shapedefaults": {
           "line": {
            "color": "#2a3f5f"
           }
          },
          "ternary": {
           "aaxis": {
            "gridcolor": "white",
            "linecolor": "white",
            "ticks": ""
           },
           "baxis": {
            "gridcolor": "white",
            "linecolor": "white",
            "ticks": ""
           },
           "bgcolor": "#E5ECF6",
           "caxis": {
            "gridcolor": "white",
            "linecolor": "white",
            "ticks": ""
           }
          },
          "title": {
           "x": 0.05
          },
          "xaxis": {
           "automargin": true,
           "gridcolor": "white",
           "linecolor": "white",
           "ticks": "",
           "title": {
            "standoff": 15
           },
           "zerolinecolor": "white",
           "zerolinewidth": 2
          },
          "yaxis": {
           "automargin": true,
           "gridcolor": "white",
           "linecolor": "white",
           "ticks": "",
           "title": {
            "standoff": 15
           },
           "zerolinecolor": "white",
           "zerolinewidth": 2
          }
         }
        },
        "title": {
         "text": "Comparison of joular data and 'cbo' metric for repository hibernate-orm"
        },
        "xaxis": {
         "anchor": "y",
         "domain": [
          0,
          0.94
         ]
        },
        "yaxis": {
         "anchor": "x",
         "domain": [
          0,
          1
         ]
        },
        "yaxis2": {
         "anchor": "x",
         "overlaying": "y",
         "side": "right"
        }
       }
      }
     },
     "metadata": {},
     "output_type": "display_data"
    },
    {
     "data": {
      "application/vnd.plotly.v1+json": {
       "config": {
        "plotlyServerURL": "https://plot.ly"
       },
       "data": [
        {
         "legendgroup": "boxplots",
         "marker": {
          "color": "rgb(252,141,98)"
         },
         "name": "findClass/1[java.lang.String]",
         "type": "box",
         "xaxis": "x",
         "y": [
          463.8108,
          508.5263,
          466.7141,
          608.1737,
          509.75958,
          485.7152,
          640.63824,
          456.9913,
          737.8087,
          388.88422,
          598.8286,
          520.0781,
          374.9727,
          286.1817,
          475.00812,
          453.54208,
          404.50558,
          540.2884,
          307.286,
          599.3375,
          384.4495,
          375.6719,
          553.6133,
          274.8325,
          599.3805,
          513.4359,
          209.6569,
          478.3937,
          564.5434,
          494.37592
         ],
         "yaxis": "y2"
        },
        {
         "legendgroup": "barcharts",
         "marker": {
          "color": "rgb(141,160,203)"
         },
         "name": "wmc",
         "type": "bar",
         "x": [
          "findClass/1[java.lang.String]"
         ],
         "y": [
          3
         ]
        },
        {
         "legendgroup": "boxplots",
         "marker": {
          "color": "rgb(252,141,98)"
         },
         "name": "init/0",
         "type": "box",
         "xaxis": "x",
         "y": [
          79.2474,
          33.324303,
          99.7014,
          20.7368,
          97.6481,
          60.2264,
          105.8268,
          40.4414,
          72.4221,
          31.663498,
          28.2784,
          58.184498,
          49.9766,
          76.9711,
          35.497,
          52.413197,
          78.892,
          83.4939,
          43.6744,
          47.4367,
          56.043205,
          44.0588,
          127.62701,
          99.903,
          38.6459,
          109.6185,
          39.849697,
          36.9334,
          50.444298,
          45.550297
         ],
         "yaxis": "y2"
        },
        {
         "legendgroup": "barcharts",
         "marker": {
          "color": "rgb(141,160,203)"
         },
         "name": "wmc",
         "type": "bar",
         "x": [
          "init/0"
         ],
         "y": [
          1
         ]
        },
        {
         "legendgroup": "boxplots",
         "marker": {
          "color": "rgb(252,141,98)"
         },
         "name": "resolveLocalXsdSchema/1[java.l",
         "type": "box",
         "xaxis": "x",
         "y": [
          45.2483,
          34.6892,
          38.3209,
          43.2398,
          29.461401,
          25.3993,
          30.3755,
          29.911999,
          26.928598,
          35.6481,
          31.960499,
          27.7428,
          25.031,
          39.8452,
          38.540897,
          26.670101,
          30.872099,
          31.4481,
          26.3415,
          40.3122,
          33.2549,
          23.123,
          25.9031,
          28.331501,
          31.7208,
          26.6199,
          40.6826,
          28.1187,
          25.7496,
          35.3178
         ],
         "yaxis": "y2"
        },
        {
         "legendgroup": "barcharts",
         "marker": {
          "color": "rgb(141,160,203)"
         },
         "name": "wmc",
         "type": "bar",
         "x": [
          "resolveLocalXsdSchema/1[java.l"
         ],
         "y": [
          5
         ]
        },
        {
         "legendgroup": "boxplots",
         "marker": {
          "color": "rgb(252,141,98)"
         },
         "name": "findClass/1[java.lang.String]",
         "type": "box",
         "xaxis": "x",
         "y": [
          40.5933,
          15.9507,
          48.4024,
          6.5783,
          31.0427,
          19.7695,
          24.1467,
          31.834,
          17.4296,
          60.807003,
          33.7267,
          24.410099,
          28.018301,
          17.4485,
          46.7233,
          30.8961,
          36.8798,
          9.1286,
          42.9382,
          26.4102,
          48.98,
          27.391,
          19.2798,
          36.9734,
          11.7706,
          30.0085,
          25.9004,
          41.9725,
          67.64359,
          37.599697
         ],
         "yaxis": "y2"
        },
        {
         "legendgroup": "barcharts",
         "marker": {
          "color": "rgb(141,160,203)"
         },
         "name": "wmc",
         "type": "bar",
         "x": [
          "findClass/1[java.lang.String]"
         ],
         "y": [
          8
         ]
        },
        {
         "legendgroup": "boxplots",
         "marker": {
          "color": "rgb(252,141,98)"
         },
         "name": "testSupportsRefCursorsAboveJav",
         "type": "box",
         "xaxis": "x",
         "y": [
          38.6331,
          28.5637,
          31.8307,
          15.5525,
          52.7319,
          46.0104,
          33.7,
          25.2758,
          32.6962,
          31.6635,
          21.2088,
          52.7404,
          37.4824,
          43.1385,
          30.4259,
          48.7175,
          45.198,
          43.3987,
          61.0289,
          47.4367,
          53.6037,
          37.7647,
          51.8097,
          36.9678,
          33.125,
          38.2678,
          34.1569,
          31.6572,
          43.2381,
          45.5503
         ],
         "yaxis": "y2"
        },
        {
         "legendgroup": "barcharts",
         "marker": {
          "color": "rgb(141,160,203)"
         },
         "name": "wmc",
         "type": "bar",
         "x": [
          "testSupportsRefCursorsAboveJav"
         ],
         "y": [
          1
         ]
        },
        {
         "legendgroup": "boxplots",
         "marker": {
          "color": "rgb(252,141,98)"
         },
         "name": "nameFor/3[java.lang.String,int",
         "type": "box",
         "xaxis": "x",
         "y": [
          37.4117,
          30.2803,
          43.5022,
          10.5677,
          17.187,
          21.2959,
          15.6853,
          17.6053,
          24.6696,
          13.59,
          24.9939,
          8.332,
          17.8014,
          16.9067,
          4.5979,
          41.7237,
          41.021202,
          21.9506,
          14.5708,
          40.1226,
          13.2856,
          27.515202,
          34.2602,
          23.3497,
          11.2402,
          19.6762,
          12.9834,
          9.8197,
          18.3471,
          17.9509
         ],
         "yaxis": "y2"
        },
        {
         "legendgroup": "barcharts",
         "marker": {
          "color": "rgb(141,160,203)"
         },
         "name": "wmc",
         "type": "bar",
         "x": [
          "nameFor/3[java.lang.String,int"
         ],
         "y": [
          1
         ]
        },
        {
         "legendgroup": "boxplots",
         "marker": {
          "color": "rgb(252,141,98)"
         },
         "name": "getBytesFromInputStream/1[java",
         "type": "box",
         "xaxis": "x",
         "y": [
          26.6372,
          21.2242,
          31.2481,
          27.4324,
          34.6006,
          34.8862,
          17.9384,
          21.4436,
          20.669798,
          30.0532,
          22.0269,
          26.293098,
          22.033,
          9.038,
          20.088501,
          23.1105,
          22.6822,
          35.9102,
          33.5893,
          28.6262,
          27.262001,
          23.515501,
          30.687601,
          31.231401,
          21.3445,
          22.4653,
          20.8269,
          22.4919,
          19.5036,
          28.4253
         ],
         "yaxis": "y2"
        },
        {
         "legendgroup": "barcharts",
         "marker": {
          "color": "rgb(141,160,203)"
         },
         "name": "wmc",
         "type": "bar",
         "x": [
          "getBytesFromInputStream/1[java"
         ],
         "y": [
          3
         ]
        },
        {
         "legendgroup": "boxplots",
         "marker": {
          "color": "rgb(252,141,98)"
         },
         "name": "resolveClassLoadingStrategy/1[",
         "type": "box",
         "xaxis": "x",
         "y": [
          15.1642,
          9.1051,
          23.0853,
          15.2589,
          16.2741,
          8.6913,
          6.7232,
          2.4562,
          16.525,
          17.7631,
          0.7907,
          21.3204,
          9.1376,
          16.5666,
          10.4235,
          4.5975,
          6.215,
          12.0165,
          14.7093,
          13.1051,
          16.8004,
          11.3657,
          6.3355,
          4.0154,
          13.9481,
          12.5026,
          8.9501,
          10.1419,
          10.7782,
          14.1686
         ],
         "yaxis": "y2"
        },
        {
         "legendgroup": "barcharts",
         "marker": {
          "color": "rgb(141,160,203)"
         },
         "name": "wmc",
         "type": "bar",
         "x": [
          "resolveClassLoadingStrategy/1["
         ],
         "y": [
          2
         ]
        }
       ],
       "layout": {
        "legend": {
         "traceorder": "normal"
        },
        "template": {
         "data": {
          "bar": [
           {
            "error_x": {
             "color": "#2a3f5f"
            },
            "error_y": {
             "color": "#2a3f5f"
            },
            "marker": {
             "line": {
              "color": "#E5ECF6",
              "width": 0.5
             },
             "pattern": {
              "fillmode": "overlay",
              "size": 10,
              "solidity": 0.2
             }
            },
            "type": "bar"
           }
          ],
          "barpolar": [
           {
            "marker": {
             "line": {
              "color": "#E5ECF6",
              "width": 0.5
             },
             "pattern": {
              "fillmode": "overlay",
              "size": 10,
              "solidity": 0.2
             }
            },
            "type": "barpolar"
           }
          ],
          "carpet": [
           {
            "aaxis": {
             "endlinecolor": "#2a3f5f",
             "gridcolor": "white",
             "linecolor": "white",
             "minorgridcolor": "white",
             "startlinecolor": "#2a3f5f"
            },
            "baxis": {
             "endlinecolor": "#2a3f5f",
             "gridcolor": "white",
             "linecolor": "white",
             "minorgridcolor": "white",
             "startlinecolor": "#2a3f5f"
            },
            "type": "carpet"
           }
          ],
          "choropleth": [
           {
            "colorbar": {
             "outlinewidth": 0,
             "ticks": ""
            },
            "type": "choropleth"
           }
          ],
          "contour": [
           {
            "colorbar": {
             "outlinewidth": 0,
             "ticks": ""
            },
            "colorscale": [
             [
              0,
              "#0d0887"
             ],
             [
              0.1111111111111111,
              "#46039f"
             ],
             [
              0.2222222222222222,
              "#7201a8"
             ],
             [
              0.3333333333333333,
              "#9c179e"
             ],
             [
              0.4444444444444444,
              "#bd3786"
             ],
             [
              0.5555555555555556,
              "#d8576b"
             ],
             [
              0.6666666666666666,
              "#ed7953"
             ],
             [
              0.7777777777777778,
              "#fb9f3a"
             ],
             [
              0.8888888888888888,
              "#fdca26"
             ],
             [
              1,
              "#f0f921"
             ]
            ],
            "type": "contour"
           }
          ],
          "contourcarpet": [
           {
            "colorbar": {
             "outlinewidth": 0,
             "ticks": ""
            },
            "type": "contourcarpet"
           }
          ],
          "heatmap": [
           {
            "colorbar": {
             "outlinewidth": 0,
             "ticks": ""
            },
            "colorscale": [
             [
              0,
              "#0d0887"
             ],
             [
              0.1111111111111111,
              "#46039f"
             ],
             [
              0.2222222222222222,
              "#7201a8"
             ],
             [
              0.3333333333333333,
              "#9c179e"
             ],
             [
              0.4444444444444444,
              "#bd3786"
             ],
             [
              0.5555555555555556,
              "#d8576b"
             ],
             [
              0.6666666666666666,
              "#ed7953"
             ],
             [
              0.7777777777777778,
              "#fb9f3a"
             ],
             [
              0.8888888888888888,
              "#fdca26"
             ],
             [
              1,
              "#f0f921"
             ]
            ],
            "type": "heatmap"
           }
          ],
          "heatmapgl": [
           {
            "colorbar": {
             "outlinewidth": 0,
             "ticks": ""
            },
            "colorscale": [
             [
              0,
              "#0d0887"
             ],
             [
              0.1111111111111111,
              "#46039f"
             ],
             [
              0.2222222222222222,
              "#7201a8"
             ],
             [
              0.3333333333333333,
              "#9c179e"
             ],
             [
              0.4444444444444444,
              "#bd3786"
             ],
             [
              0.5555555555555556,
              "#d8576b"
             ],
             [
              0.6666666666666666,
              "#ed7953"
             ],
             [
              0.7777777777777778,
              "#fb9f3a"
             ],
             [
              0.8888888888888888,
              "#fdca26"
             ],
             [
              1,
              "#f0f921"
             ]
            ],
            "type": "heatmapgl"
           }
          ],
          "histogram": [
           {
            "marker": {
             "pattern": {
              "fillmode": "overlay",
              "size": 10,
              "solidity": 0.2
             }
            },
            "type": "histogram"
           }
          ],
          "histogram2d": [
           {
            "colorbar": {
             "outlinewidth": 0,
             "ticks": ""
            },
            "colorscale": [
             [
              0,
              "#0d0887"
             ],
             [
              0.1111111111111111,
              "#46039f"
             ],
             [
              0.2222222222222222,
              "#7201a8"
             ],
             [
              0.3333333333333333,
              "#9c179e"
             ],
             [
              0.4444444444444444,
              "#bd3786"
             ],
             [
              0.5555555555555556,
              "#d8576b"
             ],
             [
              0.6666666666666666,
              "#ed7953"
             ],
             [
              0.7777777777777778,
              "#fb9f3a"
             ],
             [
              0.8888888888888888,
              "#fdca26"
             ],
             [
              1,
              "#f0f921"
             ]
            ],
            "type": "histogram2d"
           }
          ],
          "histogram2dcontour": [
           {
            "colorbar": {
             "outlinewidth": 0,
             "ticks": ""
            },
            "colorscale": [
             [
              0,
              "#0d0887"
             ],
             [
              0.1111111111111111,
              "#46039f"
             ],
             [
              0.2222222222222222,
              "#7201a8"
             ],
             [
              0.3333333333333333,
              "#9c179e"
             ],
             [
              0.4444444444444444,
              "#bd3786"
             ],
             [
              0.5555555555555556,
              "#d8576b"
             ],
             [
              0.6666666666666666,
              "#ed7953"
             ],
             [
              0.7777777777777778,
              "#fb9f3a"
             ],
             [
              0.8888888888888888,
              "#fdca26"
             ],
             [
              1,
              "#f0f921"
             ]
            ],
            "type": "histogram2dcontour"
           }
          ],
          "mesh3d": [
           {
            "colorbar": {
             "outlinewidth": 0,
             "ticks": ""
            },
            "type": "mesh3d"
           }
          ],
          "parcoords": [
           {
            "line": {
             "colorbar": {
              "outlinewidth": 0,
              "ticks": ""
             }
            },
            "type": "parcoords"
           }
          ],
          "pie": [
           {
            "automargin": true,
            "type": "pie"
           }
          ],
          "scatter": [
           {
            "fillpattern": {
             "fillmode": "overlay",
             "size": 10,
             "solidity": 0.2
            },
            "type": "scatter"
           }
          ],
          "scatter3d": [
           {
            "line": {
             "colorbar": {
              "outlinewidth": 0,
              "ticks": ""
             }
            },
            "marker": {
             "colorbar": {
              "outlinewidth": 0,
              "ticks": ""
             }
            },
            "type": "scatter3d"
           }
          ],
          "scattercarpet": [
           {
            "marker": {
             "colorbar": {
              "outlinewidth": 0,
              "ticks": ""
             }
            },
            "type": "scattercarpet"
           }
          ],
          "scattergeo": [
           {
            "marker": {
             "colorbar": {
              "outlinewidth": 0,
              "ticks": ""
             }
            },
            "type": "scattergeo"
           }
          ],
          "scattergl": [
           {
            "marker": {
             "colorbar": {
              "outlinewidth": 0,
              "ticks": ""
             }
            },
            "type": "scattergl"
           }
          ],
          "scattermapbox": [
           {
            "marker": {
             "colorbar": {
              "outlinewidth": 0,
              "ticks": ""
             }
            },
            "type": "scattermapbox"
           }
          ],
          "scatterpolar": [
           {
            "marker": {
             "colorbar": {
              "outlinewidth": 0,
              "ticks": ""
             }
            },
            "type": "scatterpolar"
           }
          ],
          "scatterpolargl": [
           {
            "marker": {
             "colorbar": {
              "outlinewidth": 0,
              "ticks": ""
             }
            },
            "type": "scatterpolargl"
           }
          ],
          "scatterternary": [
           {
            "marker": {
             "colorbar": {
              "outlinewidth": 0,
              "ticks": ""
             }
            },
            "type": "scatterternary"
           }
          ],
          "surface": [
           {
            "colorbar": {
             "outlinewidth": 0,
             "ticks": ""
            },
            "colorscale": [
             [
              0,
              "#0d0887"
             ],
             [
              0.1111111111111111,
              "#46039f"
             ],
             [
              0.2222222222222222,
              "#7201a8"
             ],
             [
              0.3333333333333333,
              "#9c179e"
             ],
             [
              0.4444444444444444,
              "#bd3786"
             ],
             [
              0.5555555555555556,
              "#d8576b"
             ],
             [
              0.6666666666666666,
              "#ed7953"
             ],
             [
              0.7777777777777778,
              "#fb9f3a"
             ],
             [
              0.8888888888888888,
              "#fdca26"
             ],
             [
              1,
              "#f0f921"
             ]
            ],
            "type": "surface"
           }
          ],
          "table": [
           {
            "cells": {
             "fill": {
              "color": "#EBF0F8"
             },
             "line": {
              "color": "white"
             }
            },
            "header": {
             "fill": {
              "color": "#C8D4E3"
             },
             "line": {
              "color": "white"
             }
            },
            "type": "table"
           }
          ]
         },
         "layout": {
          "annotationdefaults": {
           "arrowcolor": "#2a3f5f",
           "arrowhead": 0,
           "arrowwidth": 1
          },
          "autotypenumbers": "strict",
          "coloraxis": {
           "colorbar": {
            "outlinewidth": 0,
            "ticks": ""
           }
          },
          "colorscale": {
           "diverging": [
            [
             0,
             "#8e0152"
            ],
            [
             0.1,
             "#c51b7d"
            ],
            [
             0.2,
             "#de77ae"
            ],
            [
             0.3,
             "#f1b6da"
            ],
            [
             0.4,
             "#fde0ef"
            ],
            [
             0.5,
             "#f7f7f7"
            ],
            [
             0.6,
             "#e6f5d0"
            ],
            [
             0.7,
             "#b8e186"
            ],
            [
             0.8,
             "#7fbc41"
            ],
            [
             0.9,
             "#4d9221"
            ],
            [
             1,
             "#276419"
            ]
           ],
           "sequential": [
            [
             0,
             "#0d0887"
            ],
            [
             0.1111111111111111,
             "#46039f"
            ],
            [
             0.2222222222222222,
             "#7201a8"
            ],
            [
             0.3333333333333333,
             "#9c179e"
            ],
            [
             0.4444444444444444,
             "#bd3786"
            ],
            [
             0.5555555555555556,
             "#d8576b"
            ],
            [
             0.6666666666666666,
             "#ed7953"
            ],
            [
             0.7777777777777778,
             "#fb9f3a"
            ],
            [
             0.8888888888888888,
             "#fdca26"
            ],
            [
             1,
             "#f0f921"
            ]
           ],
           "sequentialminus": [
            [
             0,
             "#0d0887"
            ],
            [
             0.1111111111111111,
             "#46039f"
            ],
            [
             0.2222222222222222,
             "#7201a8"
            ],
            [
             0.3333333333333333,
             "#9c179e"
            ],
            [
             0.4444444444444444,
             "#bd3786"
            ],
            [
             0.5555555555555556,
             "#d8576b"
            ],
            [
             0.6666666666666666,
             "#ed7953"
            ],
            [
             0.7777777777777778,
             "#fb9f3a"
            ],
            [
             0.8888888888888888,
             "#fdca26"
            ],
            [
             1,
             "#f0f921"
            ]
           ]
          },
          "colorway": [
           "#636efa",
           "#EF553B",
           "#00cc96",
           "#ab63fa",
           "#FFA15A",
           "#19d3f3",
           "#FF6692",
           "#B6E880",
           "#FF97FF",
           "#FECB52"
          ],
          "font": {
           "color": "#2a3f5f"
          },
          "geo": {
           "bgcolor": "white",
           "lakecolor": "white",
           "landcolor": "#E5ECF6",
           "showlakes": true,
           "showland": true,
           "subunitcolor": "white"
          },
          "hoverlabel": {
           "align": "left"
          },
          "hovermode": "closest",
          "mapbox": {
           "style": "light"
          },
          "paper_bgcolor": "white",
          "plot_bgcolor": "#E5ECF6",
          "polar": {
           "angularaxis": {
            "gridcolor": "white",
            "linecolor": "white",
            "ticks": ""
           },
           "bgcolor": "#E5ECF6",
           "radialaxis": {
            "gridcolor": "white",
            "linecolor": "white",
            "ticks": ""
           }
          },
          "scene": {
           "xaxis": {
            "backgroundcolor": "#E5ECF6",
            "gridcolor": "white",
            "gridwidth": 2,
            "linecolor": "white",
            "showbackground": true,
            "ticks": "",
            "zerolinecolor": "white"
           },
           "yaxis": {
            "backgroundcolor": "#E5ECF6",
            "gridcolor": "white",
            "gridwidth": 2,
            "linecolor": "white",
            "showbackground": true,
            "ticks": "",
            "zerolinecolor": "white"
           },
           "zaxis": {
            "backgroundcolor": "#E5ECF6",
            "gridcolor": "white",
            "gridwidth": 2,
            "linecolor": "white",
            "showbackground": true,
            "ticks": "",
            "zerolinecolor": "white"
           }
          },
          "shapedefaults": {
           "line": {
            "color": "#2a3f5f"
           }
          },
          "ternary": {
           "aaxis": {
            "gridcolor": "white",
            "linecolor": "white",
            "ticks": ""
           },
           "baxis": {
            "gridcolor": "white",
            "linecolor": "white",
            "ticks": ""
           },
           "bgcolor": "#E5ECF6",
           "caxis": {
            "gridcolor": "white",
            "linecolor": "white",
            "ticks": ""
           }
          },
          "title": {
           "x": 0.05
          },
          "xaxis": {
           "automargin": true,
           "gridcolor": "white",
           "linecolor": "white",
           "ticks": "",
           "title": {
            "standoff": 15
           },
           "zerolinecolor": "white",
           "zerolinewidth": 2
          },
          "yaxis": {
           "automargin": true,
           "gridcolor": "white",
           "linecolor": "white",
           "ticks": "",
           "title": {
            "standoff": 15
           },
           "zerolinecolor": "white",
           "zerolinewidth": 2
          }
         }
        },
        "title": {
         "text": "Comparison of joular data and 'wmc' metric for repository hibernate-orm"
        },
        "xaxis": {
         "anchor": "y",
         "domain": [
          0,
          0.94
         ]
        },
        "yaxis": {
         "anchor": "x",
         "domain": [
          0,
          1
         ]
        },
        "yaxis2": {
         "anchor": "x",
         "overlaying": "y",
         "side": "right"
        }
       }
      }
     },
     "metadata": {},
     "output_type": "display_data"
    },
    {
     "name": "stdout",
     "output_type": "stream",
     "text": [
      "Calling page  1\n",
      "Len with outliers :  177\n",
      "Len without outliers :  81\n",
      "[{'Method': 'checkEchoRequest/0', 'Class': 'org.springframework.boot.rsocket.netty.NettyRSocketServerFactoryTests', 'JoularValues': [267.5926, 212.9435, 217.8468, 243.28929, 221.7853, 205.2166, 253.4735, 255.5202, 284.447, 245.7364, 286.5662, 248.04619, 229.2126, 278.2825, 262.3844, 296.8638, 275.2279, 247.78789, 285.0079, 295.5719, 255.5771, 254.1494, 251.6994, 198.9242, 206.3628, 216.4843, 218.56671, 264.36728, 303.05438, 218.4218], 'loc': 5.0, 'wmc': 1.0, 'cbo': 1.0}, {'Method': 'compile/2[org.springframework.boot.web.servlet.GenericApplicationContext,java.util.function.Consumer<org.springframework.boot.web.servlet.GenericApplicationContext>]', 'Class': 'org.springframework.boot.web.servlet.ServletComponentScanRegistrarTests', 'JoularValues': [225.2544, 177.62689, 136.6362, 182.8941, 243.9455, 238.09239, 201.42142, 195.6048, 216.28929, 160.26721, 212.8877, 207.15039, 268.85577, 204.3462, 181.8789, 215.2957, 235.4573, 199.40791, 139.434, 225.17351, 198.99138, 243.69101, 172.1992, 236.1763, 180.92401, 210.0891, 219.59448, 134.625, 130.1608, 206.92432], 'loc': 12.0, 'wmc': 1.0, 'cbo': 5.0}, {'Method': 'processAheadOfTime/0', 'Class': 'org.springframework.boot.jackson.JsonMixinModuleEntriesBeanRegistrationAotProcessorTests', 'JoularValues': [213.4347, 214.5914, 217.6963, 205.6568, 220.7019, 218.232, 222.9942, 215.66069, 193.7692, 217.1091, 236.8956, 207.7805, 207.51909, 221.7541, 216.1842, 203.2524, 211.0933, 230.9951, 201.6761, 236.1815, 227.78111, 218.5815, 201.7984, 221.92801, 206.99431, 205.5002, 218.2469, 195.8763, 234.1795, 209.8473], 'loc': 5.0, 'wmc': 1.0, 'cbo': 2.0}, {'Method': 'connectWithSslBundle/1[java.lang.String]', 'Class': 'org.springframework.boot.web.client.AbstractClientHttpRequestFactoriesTests', 'JoularValues': [124.038506, 127.4431, 161.96759, 143.0338, 158.88199, 140.2164, 124.2806, 139.06999, 155.7808, 154.8436, 124.2821, 132.1824, 141.1456, 120.66829, 139.33578, 138.2987, 147.26309, 145.8987, 145.42668, 167.2092, 134.9335, 132.8708, 128.77339, 148.43689, 149.606, 146.50479, 149.28961, 124.0862, 157.5194, 154.13309], 'loc': 28.0, 'wmc': 1.0, 'cbo': 11.0}, {'Method': 'reset/0', 'Class': 'org.springframework.boot.testsupport.web.servlet.DirtiesUrlFactoriesExtension', 'JoularValues': [108.31081, 125.4858, 118.4602, 138.76651, 98.2995, 123.6688, 99.848305, 114.5768, 110.19479, 90.922905, 116.104805, 111.4732, 127.6671, 113.42149, 131.5934, 121.004, 99.7495, 77.389404, 89.449, 96.8346, 96.1182, 148.2904, 141.3131, 129.383, 84.5906, 106.60629, 124.5592, 135.9832, 115.9464, 104.621796], 'loc': 13.0, 'wmc': 3.0, 'cbo': 0.0}, {'Method': 'createEnvironment/0', 'Class': 'org.springframework.boot.ApplicationEnvironmentTests', 'JoularValues': [90.1768, 81.9949, 80.5781, 78.1657, 85.0104, 87.9041, 78.9411, 80.1593, 88.8959, 80.0991, 79.1487, 84.0852, 84.622, 81.8777, 88.331, 83.5189, 78.7325, 73.7753, 80.4726, 79.6671, 79.4726, 86.9281, 79.4041, 80.0409, 76.6696, 78.5474, 89.4026, 85.5557, 77.0653, 78.2771], 'loc': 3.0, 'wmc': 1.0, 'cbo': 2.0}, {'Method': 'indexedComponentsAreRegistered/2[java.lang.String,java.lang.Class<?>]', 'Class': 'org.springframework.boot.web.servlet.ServletComponentScanIntegrationTests', 'JoularValues': [71.9148, 82.334595, 106.9049, 57.9156, 84.0643, 84.1494, 99.0322, 88.7142, 76.286896, 83.4697, 88.0015, 69.8999, 86.756195, 79.1106, 52.6473, 95.519905, 93.0425, 61.136, 53.8162, 34.391197, 84.784004, 51.0667, 77.8918, 57.546898, 63.3123, 60.966896, 94.0016, 56.9011, 63.9299, 54.5501], 'loc': 13.0, 'wmc': 1.0, 'cbo': 7.0}, {'Method': 'componentsAreRegistered/2[java.lang.String,java.lang.Class<?>]', 'Class': 'org.springframework.boot.web.servlet.ServletComponentScanIntegrationTests', 'JoularValues': [71.0768, 81.2211, 73.193405, 51.7024, 91.797104, 76.1171, 71.2593, 92.409, 68.8784, 63.4961, 47.0196, 77.553795, 94.20619, 54.752, 81.2698, 69.9447, 47.198997, 58.1296, 62.6338, 82.7645, 82.2735, 91.07291, 76.5452, 86.6194, 81.6704, 69.0771, 87.8787, 72.6314, 51.0518, 67.668], 'loc': 9.0, 'wmc': 1.0, 'cbo': 6.0}]\n"
     ]
    },
    {
     "data": {
      "application/vnd.plotly.v1+json": {
       "config": {
        "plotlyServerURL": "https://plot.ly"
       },
       "data": [
        {
         "legendgroup": "boxplots",
         "marker": {
          "color": "rgb(252,141,98)"
         },
         "name": "checkEchoRequest/0",
         "type": "box",
         "xaxis": "x",
         "y": [
          267.5926,
          212.9435,
          217.8468,
          243.28929,
          221.7853,
          205.2166,
          253.4735,
          255.5202,
          284.447,
          245.7364,
          286.5662,
          248.04619,
          229.2126,
          278.2825,
          262.3844,
          296.8638,
          275.2279,
          247.78789,
          285.0079,
          295.5719,
          255.5771,
          254.1494,
          251.6994,
          198.9242,
          206.3628,
          216.4843,
          218.56671,
          264.36728,
          303.05438,
          218.4218
         ],
         "yaxis": "y2"
        },
        {
         "legendgroup": "barcharts",
         "marker": {
          "color": "rgb(141,160,203)"
         },
         "name": "loc",
         "type": "bar",
         "x": [
          "checkEchoRequest/0"
         ],
         "y": [
          5
         ]
        },
        {
         "legendgroup": "boxplots",
         "marker": {
          "color": "rgb(252,141,98)"
         },
         "name": "compile/2[org.springframework.",
         "type": "box",
         "xaxis": "x",
         "y": [
          225.2544,
          177.62689,
          136.6362,
          182.8941,
          243.9455,
          238.09239,
          201.42142,
          195.6048,
          216.28929,
          160.26721,
          212.8877,
          207.15039,
          268.85577,
          204.3462,
          181.8789,
          215.2957,
          235.4573,
          199.40791,
          139.434,
          225.17351,
          198.99138,
          243.69101,
          172.1992,
          236.1763,
          180.92401,
          210.0891,
          219.59448,
          134.625,
          130.1608,
          206.92432
         ],
         "yaxis": "y2"
        },
        {
         "legendgroup": "barcharts",
         "marker": {
          "color": "rgb(141,160,203)"
         },
         "name": "loc",
         "type": "bar",
         "x": [
          "compile/2[org.springframework."
         ],
         "y": [
          12
         ]
        },
        {
         "legendgroup": "boxplots",
         "marker": {
          "color": "rgb(252,141,98)"
         },
         "name": "processAheadOfTime/0",
         "type": "box",
         "xaxis": "x",
         "y": [
          213.4347,
          214.5914,
          217.6963,
          205.6568,
          220.7019,
          218.232,
          222.9942,
          215.66069,
          193.7692,
          217.1091,
          236.8956,
          207.7805,
          207.51909,
          221.7541,
          216.1842,
          203.2524,
          211.0933,
          230.9951,
          201.6761,
          236.1815,
          227.78111,
          218.5815,
          201.7984,
          221.92801,
          206.99431,
          205.5002,
          218.2469,
          195.8763,
          234.1795,
          209.8473
         ],
         "yaxis": "y2"
        },
        {
         "legendgroup": "barcharts",
         "marker": {
          "color": "rgb(141,160,203)"
         },
         "name": "loc",
         "type": "bar",
         "x": [
          "processAheadOfTime/0"
         ],
         "y": [
          5
         ]
        },
        {
         "legendgroup": "boxplots",
         "marker": {
          "color": "rgb(252,141,98)"
         },
         "name": "connectWithSslBundle/1[java.la",
         "type": "box",
         "xaxis": "x",
         "y": [
          124.038506,
          127.4431,
          161.96759,
          143.0338,
          158.88199,
          140.2164,
          124.2806,
          139.06999,
          155.7808,
          154.8436,
          124.2821,
          132.1824,
          141.1456,
          120.66829,
          139.33578,
          138.2987,
          147.26309,
          145.8987,
          145.42668,
          167.2092,
          134.9335,
          132.8708,
          128.77339,
          148.43689,
          149.606,
          146.50479,
          149.28961,
          124.0862,
          157.5194,
          154.13309
         ],
         "yaxis": "y2"
        },
        {
         "legendgroup": "barcharts",
         "marker": {
          "color": "rgb(141,160,203)"
         },
         "name": "loc",
         "type": "bar",
         "x": [
          "connectWithSslBundle/1[java.la"
         ],
         "y": [
          28
         ]
        },
        {
         "legendgroup": "boxplots",
         "marker": {
          "color": "rgb(252,141,98)"
         },
         "name": "reset/0",
         "type": "box",
         "xaxis": "x",
         "y": [
          108.31081,
          125.4858,
          118.4602,
          138.76651,
          98.2995,
          123.6688,
          99.848305,
          114.5768,
          110.19479,
          90.922905,
          116.104805,
          111.4732,
          127.6671,
          113.42149,
          131.5934,
          121.004,
          99.7495,
          77.389404,
          89.449,
          96.8346,
          96.1182,
          148.2904,
          141.3131,
          129.383,
          84.5906,
          106.60629,
          124.5592,
          135.9832,
          115.9464,
          104.621796
         ],
         "yaxis": "y2"
        },
        {
         "legendgroup": "barcharts",
         "marker": {
          "color": "rgb(141,160,203)"
         },
         "name": "loc",
         "type": "bar",
         "x": [
          "reset/0"
         ],
         "y": [
          13
         ]
        },
        {
         "legendgroup": "boxplots",
         "marker": {
          "color": "rgb(252,141,98)"
         },
         "name": "createEnvironment/0",
         "type": "box",
         "xaxis": "x",
         "y": [
          90.1768,
          81.9949,
          80.5781,
          78.1657,
          85.0104,
          87.9041,
          78.9411,
          80.1593,
          88.8959,
          80.0991,
          79.1487,
          84.0852,
          84.622,
          81.8777,
          88.331,
          83.5189,
          78.7325,
          73.7753,
          80.4726,
          79.6671,
          79.4726,
          86.9281,
          79.4041,
          80.0409,
          76.6696,
          78.5474,
          89.4026,
          85.5557,
          77.0653,
          78.2771
         ],
         "yaxis": "y2"
        },
        {
         "legendgroup": "barcharts",
         "marker": {
          "color": "rgb(141,160,203)"
         },
         "name": "loc",
         "type": "bar",
         "x": [
          "createEnvironment/0"
         ],
         "y": [
          3
         ]
        },
        {
         "legendgroup": "boxplots",
         "marker": {
          "color": "rgb(252,141,98)"
         },
         "name": "indexedComponentsAreRegistered",
         "type": "box",
         "xaxis": "x",
         "y": [
          71.9148,
          82.334595,
          106.9049,
          57.9156,
          84.0643,
          84.1494,
          99.0322,
          88.7142,
          76.286896,
          83.4697,
          88.0015,
          69.8999,
          86.756195,
          79.1106,
          52.6473,
          95.519905,
          93.0425,
          61.136,
          53.8162,
          34.391197,
          84.784004,
          51.0667,
          77.8918,
          57.546898,
          63.3123,
          60.966896,
          94.0016,
          56.9011,
          63.9299,
          54.5501
         ],
         "yaxis": "y2"
        },
        {
         "legendgroup": "barcharts",
         "marker": {
          "color": "rgb(141,160,203)"
         },
         "name": "loc",
         "type": "bar",
         "x": [
          "indexedComponentsAreRegistered"
         ],
         "y": [
          13
         ]
        },
        {
         "legendgroup": "boxplots",
         "marker": {
          "color": "rgb(252,141,98)"
         },
         "name": "componentsAreRegistered/2[java",
         "type": "box",
         "xaxis": "x",
         "y": [
          71.0768,
          81.2211,
          73.193405,
          51.7024,
          91.797104,
          76.1171,
          71.2593,
          92.409,
          68.8784,
          63.4961,
          47.0196,
          77.553795,
          94.20619,
          54.752,
          81.2698,
          69.9447,
          47.198997,
          58.1296,
          62.6338,
          82.7645,
          82.2735,
          91.07291,
          76.5452,
          86.6194,
          81.6704,
          69.0771,
          87.8787,
          72.6314,
          51.0518,
          67.668
         ],
         "yaxis": "y2"
        },
        {
         "legendgroup": "barcharts",
         "marker": {
          "color": "rgb(141,160,203)"
         },
         "name": "loc",
         "type": "bar",
         "x": [
          "componentsAreRegistered/2[java"
         ],
         "y": [
          9
         ]
        }
       ],
       "layout": {
        "legend": {
         "traceorder": "normal"
        },
        "template": {
         "data": {
          "bar": [
           {
            "error_x": {
             "color": "#2a3f5f"
            },
            "error_y": {
             "color": "#2a3f5f"
            },
            "marker": {
             "line": {
              "color": "#E5ECF6",
              "width": 0.5
             },
             "pattern": {
              "fillmode": "overlay",
              "size": 10,
              "solidity": 0.2
             }
            },
            "type": "bar"
           }
          ],
          "barpolar": [
           {
            "marker": {
             "line": {
              "color": "#E5ECF6",
              "width": 0.5
             },
             "pattern": {
              "fillmode": "overlay",
              "size": 10,
              "solidity": 0.2
             }
            },
            "type": "barpolar"
           }
          ],
          "carpet": [
           {
            "aaxis": {
             "endlinecolor": "#2a3f5f",
             "gridcolor": "white",
             "linecolor": "white",
             "minorgridcolor": "white",
             "startlinecolor": "#2a3f5f"
            },
            "baxis": {
             "endlinecolor": "#2a3f5f",
             "gridcolor": "white",
             "linecolor": "white",
             "minorgridcolor": "white",
             "startlinecolor": "#2a3f5f"
            },
            "type": "carpet"
           }
          ],
          "choropleth": [
           {
            "colorbar": {
             "outlinewidth": 0,
             "ticks": ""
            },
            "type": "choropleth"
           }
          ],
          "contour": [
           {
            "colorbar": {
             "outlinewidth": 0,
             "ticks": ""
            },
            "colorscale": [
             [
              0,
              "#0d0887"
             ],
             [
              0.1111111111111111,
              "#46039f"
             ],
             [
              0.2222222222222222,
              "#7201a8"
             ],
             [
              0.3333333333333333,
              "#9c179e"
             ],
             [
              0.4444444444444444,
              "#bd3786"
             ],
             [
              0.5555555555555556,
              "#d8576b"
             ],
             [
              0.6666666666666666,
              "#ed7953"
             ],
             [
              0.7777777777777778,
              "#fb9f3a"
             ],
             [
              0.8888888888888888,
              "#fdca26"
             ],
             [
              1,
              "#f0f921"
             ]
            ],
            "type": "contour"
           }
          ],
          "contourcarpet": [
           {
            "colorbar": {
             "outlinewidth": 0,
             "ticks": ""
            },
            "type": "contourcarpet"
           }
          ],
          "heatmap": [
           {
            "colorbar": {
             "outlinewidth": 0,
             "ticks": ""
            },
            "colorscale": [
             [
              0,
              "#0d0887"
             ],
             [
              0.1111111111111111,
              "#46039f"
             ],
             [
              0.2222222222222222,
              "#7201a8"
             ],
             [
              0.3333333333333333,
              "#9c179e"
             ],
             [
              0.4444444444444444,
              "#bd3786"
             ],
             [
              0.5555555555555556,
              "#d8576b"
             ],
             [
              0.6666666666666666,
              "#ed7953"
             ],
             [
              0.7777777777777778,
              "#fb9f3a"
             ],
             [
              0.8888888888888888,
              "#fdca26"
             ],
             [
              1,
              "#f0f921"
             ]
            ],
            "type": "heatmap"
           }
          ],
          "heatmapgl": [
           {
            "colorbar": {
             "outlinewidth": 0,
             "ticks": ""
            },
            "colorscale": [
             [
              0,
              "#0d0887"
             ],
             [
              0.1111111111111111,
              "#46039f"
             ],
             [
              0.2222222222222222,
              "#7201a8"
             ],
             [
              0.3333333333333333,
              "#9c179e"
             ],
             [
              0.4444444444444444,
              "#bd3786"
             ],
             [
              0.5555555555555556,
              "#d8576b"
             ],
             [
              0.6666666666666666,
              "#ed7953"
             ],
             [
              0.7777777777777778,
              "#fb9f3a"
             ],
             [
              0.8888888888888888,
              "#fdca26"
             ],
             [
              1,
              "#f0f921"
             ]
            ],
            "type": "heatmapgl"
           }
          ],
          "histogram": [
           {
            "marker": {
             "pattern": {
              "fillmode": "overlay",
              "size": 10,
              "solidity": 0.2
             }
            },
            "type": "histogram"
           }
          ],
          "histogram2d": [
           {
            "colorbar": {
             "outlinewidth": 0,
             "ticks": ""
            },
            "colorscale": [
             [
              0,
              "#0d0887"
             ],
             [
              0.1111111111111111,
              "#46039f"
             ],
             [
              0.2222222222222222,
              "#7201a8"
             ],
             [
              0.3333333333333333,
              "#9c179e"
             ],
             [
              0.4444444444444444,
              "#bd3786"
             ],
             [
              0.5555555555555556,
              "#d8576b"
             ],
             [
              0.6666666666666666,
              "#ed7953"
             ],
             [
              0.7777777777777778,
              "#fb9f3a"
             ],
             [
              0.8888888888888888,
              "#fdca26"
             ],
             [
              1,
              "#f0f921"
             ]
            ],
            "type": "histogram2d"
           }
          ],
          "histogram2dcontour": [
           {
            "colorbar": {
             "outlinewidth": 0,
             "ticks": ""
            },
            "colorscale": [
             [
              0,
              "#0d0887"
             ],
             [
              0.1111111111111111,
              "#46039f"
             ],
             [
              0.2222222222222222,
              "#7201a8"
             ],
             [
              0.3333333333333333,
              "#9c179e"
             ],
             [
              0.4444444444444444,
              "#bd3786"
             ],
             [
              0.5555555555555556,
              "#d8576b"
             ],
             [
              0.6666666666666666,
              "#ed7953"
             ],
             [
              0.7777777777777778,
              "#fb9f3a"
             ],
             [
              0.8888888888888888,
              "#fdca26"
             ],
             [
              1,
              "#f0f921"
             ]
            ],
            "type": "histogram2dcontour"
           }
          ],
          "mesh3d": [
           {
            "colorbar": {
             "outlinewidth": 0,
             "ticks": ""
            },
            "type": "mesh3d"
           }
          ],
          "parcoords": [
           {
            "line": {
             "colorbar": {
              "outlinewidth": 0,
              "ticks": ""
             }
            },
            "type": "parcoords"
           }
          ],
          "pie": [
           {
            "automargin": true,
            "type": "pie"
           }
          ],
          "scatter": [
           {
            "fillpattern": {
             "fillmode": "overlay",
             "size": 10,
             "solidity": 0.2
            },
            "type": "scatter"
           }
          ],
          "scatter3d": [
           {
            "line": {
             "colorbar": {
              "outlinewidth": 0,
              "ticks": ""
             }
            },
            "marker": {
             "colorbar": {
              "outlinewidth": 0,
              "ticks": ""
             }
            },
            "type": "scatter3d"
           }
          ],
          "scattercarpet": [
           {
            "marker": {
             "colorbar": {
              "outlinewidth": 0,
              "ticks": ""
             }
            },
            "type": "scattercarpet"
           }
          ],
          "scattergeo": [
           {
            "marker": {
             "colorbar": {
              "outlinewidth": 0,
              "ticks": ""
             }
            },
            "type": "scattergeo"
           }
          ],
          "scattergl": [
           {
            "marker": {
             "colorbar": {
              "outlinewidth": 0,
              "ticks": ""
             }
            },
            "type": "scattergl"
           }
          ],
          "scattermapbox": [
           {
            "marker": {
             "colorbar": {
              "outlinewidth": 0,
              "ticks": ""
             }
            },
            "type": "scattermapbox"
           }
          ],
          "scatterpolar": [
           {
            "marker": {
             "colorbar": {
              "outlinewidth": 0,
              "ticks": ""
             }
            },
            "type": "scatterpolar"
           }
          ],
          "scatterpolargl": [
           {
            "marker": {
             "colorbar": {
              "outlinewidth": 0,
              "ticks": ""
             }
            },
            "type": "scatterpolargl"
           }
          ],
          "scatterternary": [
           {
            "marker": {
             "colorbar": {
              "outlinewidth": 0,
              "ticks": ""
             }
            },
            "type": "scatterternary"
           }
          ],
          "surface": [
           {
            "colorbar": {
             "outlinewidth": 0,
             "ticks": ""
            },
            "colorscale": [
             [
              0,
              "#0d0887"
             ],
             [
              0.1111111111111111,
              "#46039f"
             ],
             [
              0.2222222222222222,
              "#7201a8"
             ],
             [
              0.3333333333333333,
              "#9c179e"
             ],
             [
              0.4444444444444444,
              "#bd3786"
             ],
             [
              0.5555555555555556,
              "#d8576b"
             ],
             [
              0.6666666666666666,
              "#ed7953"
             ],
             [
              0.7777777777777778,
              "#fb9f3a"
             ],
             [
              0.8888888888888888,
              "#fdca26"
             ],
             [
              1,
              "#f0f921"
             ]
            ],
            "type": "surface"
           }
          ],
          "table": [
           {
            "cells": {
             "fill": {
              "color": "#EBF0F8"
             },
             "line": {
              "color": "white"
             }
            },
            "header": {
             "fill": {
              "color": "#C8D4E3"
             },
             "line": {
              "color": "white"
             }
            },
            "type": "table"
           }
          ]
         },
         "layout": {
          "annotationdefaults": {
           "arrowcolor": "#2a3f5f",
           "arrowhead": 0,
           "arrowwidth": 1
          },
          "autotypenumbers": "strict",
          "coloraxis": {
           "colorbar": {
            "outlinewidth": 0,
            "ticks": ""
           }
          },
          "colorscale": {
           "diverging": [
            [
             0,
             "#8e0152"
            ],
            [
             0.1,
             "#c51b7d"
            ],
            [
             0.2,
             "#de77ae"
            ],
            [
             0.3,
             "#f1b6da"
            ],
            [
             0.4,
             "#fde0ef"
            ],
            [
             0.5,
             "#f7f7f7"
            ],
            [
             0.6,
             "#e6f5d0"
            ],
            [
             0.7,
             "#b8e186"
            ],
            [
             0.8,
             "#7fbc41"
            ],
            [
             0.9,
             "#4d9221"
            ],
            [
             1,
             "#276419"
            ]
           ],
           "sequential": [
            [
             0,
             "#0d0887"
            ],
            [
             0.1111111111111111,
             "#46039f"
            ],
            [
             0.2222222222222222,
             "#7201a8"
            ],
            [
             0.3333333333333333,
             "#9c179e"
            ],
            [
             0.4444444444444444,
             "#bd3786"
            ],
            [
             0.5555555555555556,
             "#d8576b"
            ],
            [
             0.6666666666666666,
             "#ed7953"
            ],
            [
             0.7777777777777778,
             "#fb9f3a"
            ],
            [
             0.8888888888888888,
             "#fdca26"
            ],
            [
             1,
             "#f0f921"
            ]
           ],
           "sequentialminus": [
            [
             0,
             "#0d0887"
            ],
            [
             0.1111111111111111,
             "#46039f"
            ],
            [
             0.2222222222222222,
             "#7201a8"
            ],
            [
             0.3333333333333333,
             "#9c179e"
            ],
            [
             0.4444444444444444,
             "#bd3786"
            ],
            [
             0.5555555555555556,
             "#d8576b"
            ],
            [
             0.6666666666666666,
             "#ed7953"
            ],
            [
             0.7777777777777778,
             "#fb9f3a"
            ],
            [
             0.8888888888888888,
             "#fdca26"
            ],
            [
             1,
             "#f0f921"
            ]
           ]
          },
          "colorway": [
           "#636efa",
           "#EF553B",
           "#00cc96",
           "#ab63fa",
           "#FFA15A",
           "#19d3f3",
           "#FF6692",
           "#B6E880",
           "#FF97FF",
           "#FECB52"
          ],
          "font": {
           "color": "#2a3f5f"
          },
          "geo": {
           "bgcolor": "white",
           "lakecolor": "white",
           "landcolor": "#E5ECF6",
           "showlakes": true,
           "showland": true,
           "subunitcolor": "white"
          },
          "hoverlabel": {
           "align": "left"
          },
          "hovermode": "closest",
          "mapbox": {
           "style": "light"
          },
          "paper_bgcolor": "white",
          "plot_bgcolor": "#E5ECF6",
          "polar": {
           "angularaxis": {
            "gridcolor": "white",
            "linecolor": "white",
            "ticks": ""
           },
           "bgcolor": "#E5ECF6",
           "radialaxis": {
            "gridcolor": "white",
            "linecolor": "white",
            "ticks": ""
           }
          },
          "scene": {
           "xaxis": {
            "backgroundcolor": "#E5ECF6",
            "gridcolor": "white",
            "gridwidth": 2,
            "linecolor": "white",
            "showbackground": true,
            "ticks": "",
            "zerolinecolor": "white"
           },
           "yaxis": {
            "backgroundcolor": "#E5ECF6",
            "gridcolor": "white",
            "gridwidth": 2,
            "linecolor": "white",
            "showbackground": true,
            "ticks": "",
            "zerolinecolor": "white"
           },
           "zaxis": {
            "backgroundcolor": "#E5ECF6",
            "gridcolor": "white",
            "gridwidth": 2,
            "linecolor": "white",
            "showbackground": true,
            "ticks": "",
            "zerolinecolor": "white"
           }
          },
          "shapedefaults": {
           "line": {
            "color": "#2a3f5f"
           }
          },
          "ternary": {
           "aaxis": {
            "gridcolor": "white",
            "linecolor": "white",
            "ticks": ""
           },
           "baxis": {
            "gridcolor": "white",
            "linecolor": "white",
            "ticks": ""
           },
           "bgcolor": "#E5ECF6",
           "caxis": {
            "gridcolor": "white",
            "linecolor": "white",
            "ticks": ""
           }
          },
          "title": {
           "x": 0.05
          },
          "xaxis": {
           "automargin": true,
           "gridcolor": "white",
           "linecolor": "white",
           "ticks": "",
           "title": {
            "standoff": 15
           },
           "zerolinecolor": "white",
           "zerolinewidth": 2
          },
          "yaxis": {
           "automargin": true,
           "gridcolor": "white",
           "linecolor": "white",
           "ticks": "",
           "title": {
            "standoff": 15
           },
           "zerolinecolor": "white",
           "zerolinewidth": 2
          }
         }
        },
        "title": {
         "text": "Comparison of joular data and 'loc' metric for repository spring-boot"
        },
        "xaxis": {
         "anchor": "y",
         "domain": [
          0,
          0.94
         ]
        },
        "yaxis": {
         "anchor": "x",
         "domain": [
          0,
          1
         ]
        },
        "yaxis2": {
         "anchor": "x",
         "overlaying": "y",
         "side": "right"
        }
       }
      }
     },
     "metadata": {},
     "output_type": "display_data"
    },
    {
     "data": {
      "application/vnd.plotly.v1+json": {
       "config": {
        "plotlyServerURL": "https://plot.ly"
       },
       "data": [
        {
         "legendgroup": "boxplots",
         "marker": {
          "color": "rgb(252,141,98)"
         },
         "name": "checkEchoRequest/0",
         "type": "box",
         "xaxis": "x",
         "y": [
          267.5926,
          212.9435,
          217.8468,
          243.28929,
          221.7853,
          205.2166,
          253.4735,
          255.5202,
          284.447,
          245.7364,
          286.5662,
          248.04619,
          229.2126,
          278.2825,
          262.3844,
          296.8638,
          275.2279,
          247.78789,
          285.0079,
          295.5719,
          255.5771,
          254.1494,
          251.6994,
          198.9242,
          206.3628,
          216.4843,
          218.56671,
          264.36728,
          303.05438,
          218.4218
         ],
         "yaxis": "y2"
        },
        {
         "legendgroup": "barcharts",
         "marker": {
          "color": "rgb(141,160,203)"
         },
         "name": "cbo",
         "type": "bar",
         "x": [
          "checkEchoRequest/0"
         ],
         "y": [
          1
         ]
        },
        {
         "legendgroup": "boxplots",
         "marker": {
          "color": "rgb(252,141,98)"
         },
         "name": "compile/2[org.springframework.",
         "type": "box",
         "xaxis": "x",
         "y": [
          225.2544,
          177.62689,
          136.6362,
          182.8941,
          243.9455,
          238.09239,
          201.42142,
          195.6048,
          216.28929,
          160.26721,
          212.8877,
          207.15039,
          268.85577,
          204.3462,
          181.8789,
          215.2957,
          235.4573,
          199.40791,
          139.434,
          225.17351,
          198.99138,
          243.69101,
          172.1992,
          236.1763,
          180.92401,
          210.0891,
          219.59448,
          134.625,
          130.1608,
          206.92432
         ],
         "yaxis": "y2"
        },
        {
         "legendgroup": "barcharts",
         "marker": {
          "color": "rgb(141,160,203)"
         },
         "name": "cbo",
         "type": "bar",
         "x": [
          "compile/2[org.springframework."
         ],
         "y": [
          5
         ]
        },
        {
         "legendgroup": "boxplots",
         "marker": {
          "color": "rgb(252,141,98)"
         },
         "name": "processAheadOfTime/0",
         "type": "box",
         "xaxis": "x",
         "y": [
          213.4347,
          214.5914,
          217.6963,
          205.6568,
          220.7019,
          218.232,
          222.9942,
          215.66069,
          193.7692,
          217.1091,
          236.8956,
          207.7805,
          207.51909,
          221.7541,
          216.1842,
          203.2524,
          211.0933,
          230.9951,
          201.6761,
          236.1815,
          227.78111,
          218.5815,
          201.7984,
          221.92801,
          206.99431,
          205.5002,
          218.2469,
          195.8763,
          234.1795,
          209.8473
         ],
         "yaxis": "y2"
        },
        {
         "legendgroup": "barcharts",
         "marker": {
          "color": "rgb(141,160,203)"
         },
         "name": "cbo",
         "type": "bar",
         "x": [
          "processAheadOfTime/0"
         ],
         "y": [
          2
         ]
        },
        {
         "legendgroup": "boxplots",
         "marker": {
          "color": "rgb(252,141,98)"
         },
         "name": "connectWithSslBundle/1[java.la",
         "type": "box",
         "xaxis": "x",
         "y": [
          124.038506,
          127.4431,
          161.96759,
          143.0338,
          158.88199,
          140.2164,
          124.2806,
          139.06999,
          155.7808,
          154.8436,
          124.2821,
          132.1824,
          141.1456,
          120.66829,
          139.33578,
          138.2987,
          147.26309,
          145.8987,
          145.42668,
          167.2092,
          134.9335,
          132.8708,
          128.77339,
          148.43689,
          149.606,
          146.50479,
          149.28961,
          124.0862,
          157.5194,
          154.13309
         ],
         "yaxis": "y2"
        },
        {
         "legendgroup": "barcharts",
         "marker": {
          "color": "rgb(141,160,203)"
         },
         "name": "cbo",
         "type": "bar",
         "x": [
          "connectWithSslBundle/1[java.la"
         ],
         "y": [
          11
         ]
        },
        {
         "legendgroup": "boxplots",
         "marker": {
          "color": "rgb(252,141,98)"
         },
         "name": "reset/0",
         "type": "box",
         "xaxis": "x",
         "y": [
          108.31081,
          125.4858,
          118.4602,
          138.76651,
          98.2995,
          123.6688,
          99.848305,
          114.5768,
          110.19479,
          90.922905,
          116.104805,
          111.4732,
          127.6671,
          113.42149,
          131.5934,
          121.004,
          99.7495,
          77.389404,
          89.449,
          96.8346,
          96.1182,
          148.2904,
          141.3131,
          129.383,
          84.5906,
          106.60629,
          124.5592,
          135.9832,
          115.9464,
          104.621796
         ],
         "yaxis": "y2"
        },
        {
         "legendgroup": "barcharts",
         "marker": {
          "color": "rgb(141,160,203)"
         },
         "name": "cbo",
         "type": "bar",
         "x": [
          "reset/0"
         ],
         "y": [
          0
         ]
        },
        {
         "legendgroup": "boxplots",
         "marker": {
          "color": "rgb(252,141,98)"
         },
         "name": "createEnvironment/0",
         "type": "box",
         "xaxis": "x",
         "y": [
          90.1768,
          81.9949,
          80.5781,
          78.1657,
          85.0104,
          87.9041,
          78.9411,
          80.1593,
          88.8959,
          80.0991,
          79.1487,
          84.0852,
          84.622,
          81.8777,
          88.331,
          83.5189,
          78.7325,
          73.7753,
          80.4726,
          79.6671,
          79.4726,
          86.9281,
          79.4041,
          80.0409,
          76.6696,
          78.5474,
          89.4026,
          85.5557,
          77.0653,
          78.2771
         ],
         "yaxis": "y2"
        },
        {
         "legendgroup": "barcharts",
         "marker": {
          "color": "rgb(141,160,203)"
         },
         "name": "cbo",
         "type": "bar",
         "x": [
          "createEnvironment/0"
         ],
         "y": [
          2
         ]
        },
        {
         "legendgroup": "boxplots",
         "marker": {
          "color": "rgb(252,141,98)"
         },
         "name": "indexedComponentsAreRegistered",
         "type": "box",
         "xaxis": "x",
         "y": [
          71.9148,
          82.334595,
          106.9049,
          57.9156,
          84.0643,
          84.1494,
          99.0322,
          88.7142,
          76.286896,
          83.4697,
          88.0015,
          69.8999,
          86.756195,
          79.1106,
          52.6473,
          95.519905,
          93.0425,
          61.136,
          53.8162,
          34.391197,
          84.784004,
          51.0667,
          77.8918,
          57.546898,
          63.3123,
          60.966896,
          94.0016,
          56.9011,
          63.9299,
          54.5501
         ],
         "yaxis": "y2"
        },
        {
         "legendgroup": "barcharts",
         "marker": {
          "color": "rgb(141,160,203)"
         },
         "name": "cbo",
         "type": "bar",
         "x": [
          "indexedComponentsAreRegistered"
         ],
         "y": [
          7
         ]
        },
        {
         "legendgroup": "boxplots",
         "marker": {
          "color": "rgb(252,141,98)"
         },
         "name": "componentsAreRegistered/2[java",
         "type": "box",
         "xaxis": "x",
         "y": [
          71.0768,
          81.2211,
          73.193405,
          51.7024,
          91.797104,
          76.1171,
          71.2593,
          92.409,
          68.8784,
          63.4961,
          47.0196,
          77.553795,
          94.20619,
          54.752,
          81.2698,
          69.9447,
          47.198997,
          58.1296,
          62.6338,
          82.7645,
          82.2735,
          91.07291,
          76.5452,
          86.6194,
          81.6704,
          69.0771,
          87.8787,
          72.6314,
          51.0518,
          67.668
         ],
         "yaxis": "y2"
        },
        {
         "legendgroup": "barcharts",
         "marker": {
          "color": "rgb(141,160,203)"
         },
         "name": "cbo",
         "type": "bar",
         "x": [
          "componentsAreRegistered/2[java"
         ],
         "y": [
          6
         ]
        }
       ],
       "layout": {
        "legend": {
         "traceorder": "normal"
        },
        "template": {
         "data": {
          "bar": [
           {
            "error_x": {
             "color": "#2a3f5f"
            },
            "error_y": {
             "color": "#2a3f5f"
            },
            "marker": {
             "line": {
              "color": "#E5ECF6",
              "width": 0.5
             },
             "pattern": {
              "fillmode": "overlay",
              "size": 10,
              "solidity": 0.2
             }
            },
            "type": "bar"
           }
          ],
          "barpolar": [
           {
            "marker": {
             "line": {
              "color": "#E5ECF6",
              "width": 0.5
             },
             "pattern": {
              "fillmode": "overlay",
              "size": 10,
              "solidity": 0.2
             }
            },
            "type": "barpolar"
           }
          ],
          "carpet": [
           {
            "aaxis": {
             "endlinecolor": "#2a3f5f",
             "gridcolor": "white",
             "linecolor": "white",
             "minorgridcolor": "white",
             "startlinecolor": "#2a3f5f"
            },
            "baxis": {
             "endlinecolor": "#2a3f5f",
             "gridcolor": "white",
             "linecolor": "white",
             "minorgridcolor": "white",
             "startlinecolor": "#2a3f5f"
            },
            "type": "carpet"
           }
          ],
          "choropleth": [
           {
            "colorbar": {
             "outlinewidth": 0,
             "ticks": ""
            },
            "type": "choropleth"
           }
          ],
          "contour": [
           {
            "colorbar": {
             "outlinewidth": 0,
             "ticks": ""
            },
            "colorscale": [
             [
              0,
              "#0d0887"
             ],
             [
              0.1111111111111111,
              "#46039f"
             ],
             [
              0.2222222222222222,
              "#7201a8"
             ],
             [
              0.3333333333333333,
              "#9c179e"
             ],
             [
              0.4444444444444444,
              "#bd3786"
             ],
             [
              0.5555555555555556,
              "#d8576b"
             ],
             [
              0.6666666666666666,
              "#ed7953"
             ],
             [
              0.7777777777777778,
              "#fb9f3a"
             ],
             [
              0.8888888888888888,
              "#fdca26"
             ],
             [
              1,
              "#f0f921"
             ]
            ],
            "type": "contour"
           }
          ],
          "contourcarpet": [
           {
            "colorbar": {
             "outlinewidth": 0,
             "ticks": ""
            },
            "type": "contourcarpet"
           }
          ],
          "heatmap": [
           {
            "colorbar": {
             "outlinewidth": 0,
             "ticks": ""
            },
            "colorscale": [
             [
              0,
              "#0d0887"
             ],
             [
              0.1111111111111111,
              "#46039f"
             ],
             [
              0.2222222222222222,
              "#7201a8"
             ],
             [
              0.3333333333333333,
              "#9c179e"
             ],
             [
              0.4444444444444444,
              "#bd3786"
             ],
             [
              0.5555555555555556,
              "#d8576b"
             ],
             [
              0.6666666666666666,
              "#ed7953"
             ],
             [
              0.7777777777777778,
              "#fb9f3a"
             ],
             [
              0.8888888888888888,
              "#fdca26"
             ],
             [
              1,
              "#f0f921"
             ]
            ],
            "type": "heatmap"
           }
          ],
          "heatmapgl": [
           {
            "colorbar": {
             "outlinewidth": 0,
             "ticks": ""
            },
            "colorscale": [
             [
              0,
              "#0d0887"
             ],
             [
              0.1111111111111111,
              "#46039f"
             ],
             [
              0.2222222222222222,
              "#7201a8"
             ],
             [
              0.3333333333333333,
              "#9c179e"
             ],
             [
              0.4444444444444444,
              "#bd3786"
             ],
             [
              0.5555555555555556,
              "#d8576b"
             ],
             [
              0.6666666666666666,
              "#ed7953"
             ],
             [
              0.7777777777777778,
              "#fb9f3a"
             ],
             [
              0.8888888888888888,
              "#fdca26"
             ],
             [
              1,
              "#f0f921"
             ]
            ],
            "type": "heatmapgl"
           }
          ],
          "histogram": [
           {
            "marker": {
             "pattern": {
              "fillmode": "overlay",
              "size": 10,
              "solidity": 0.2
             }
            },
            "type": "histogram"
           }
          ],
          "histogram2d": [
           {
            "colorbar": {
             "outlinewidth": 0,
             "ticks": ""
            },
            "colorscale": [
             [
              0,
              "#0d0887"
             ],
             [
              0.1111111111111111,
              "#46039f"
             ],
             [
              0.2222222222222222,
              "#7201a8"
             ],
             [
              0.3333333333333333,
              "#9c179e"
             ],
             [
              0.4444444444444444,
              "#bd3786"
             ],
             [
              0.5555555555555556,
              "#d8576b"
             ],
             [
              0.6666666666666666,
              "#ed7953"
             ],
             [
              0.7777777777777778,
              "#fb9f3a"
             ],
             [
              0.8888888888888888,
              "#fdca26"
             ],
             [
              1,
              "#f0f921"
             ]
            ],
            "type": "histogram2d"
           }
          ],
          "histogram2dcontour": [
           {
            "colorbar": {
             "outlinewidth": 0,
             "ticks": ""
            },
            "colorscale": [
             [
              0,
              "#0d0887"
             ],
             [
              0.1111111111111111,
              "#46039f"
             ],
             [
              0.2222222222222222,
              "#7201a8"
             ],
             [
              0.3333333333333333,
              "#9c179e"
             ],
             [
              0.4444444444444444,
              "#bd3786"
             ],
             [
              0.5555555555555556,
              "#d8576b"
             ],
             [
              0.6666666666666666,
              "#ed7953"
             ],
             [
              0.7777777777777778,
              "#fb9f3a"
             ],
             [
              0.8888888888888888,
              "#fdca26"
             ],
             [
              1,
              "#f0f921"
             ]
            ],
            "type": "histogram2dcontour"
           }
          ],
          "mesh3d": [
           {
            "colorbar": {
             "outlinewidth": 0,
             "ticks": ""
            },
            "type": "mesh3d"
           }
          ],
          "parcoords": [
           {
            "line": {
             "colorbar": {
              "outlinewidth": 0,
              "ticks": ""
             }
            },
            "type": "parcoords"
           }
          ],
          "pie": [
           {
            "automargin": true,
            "type": "pie"
           }
          ],
          "scatter": [
           {
            "fillpattern": {
             "fillmode": "overlay",
             "size": 10,
             "solidity": 0.2
            },
            "type": "scatter"
           }
          ],
          "scatter3d": [
           {
            "line": {
             "colorbar": {
              "outlinewidth": 0,
              "ticks": ""
             }
            },
            "marker": {
             "colorbar": {
              "outlinewidth": 0,
              "ticks": ""
             }
            },
            "type": "scatter3d"
           }
          ],
          "scattercarpet": [
           {
            "marker": {
             "colorbar": {
              "outlinewidth": 0,
              "ticks": ""
             }
            },
            "type": "scattercarpet"
           }
          ],
          "scattergeo": [
           {
            "marker": {
             "colorbar": {
              "outlinewidth": 0,
              "ticks": ""
             }
            },
            "type": "scattergeo"
           }
          ],
          "scattergl": [
           {
            "marker": {
             "colorbar": {
              "outlinewidth": 0,
              "ticks": ""
             }
            },
            "type": "scattergl"
           }
          ],
          "scattermapbox": [
           {
            "marker": {
             "colorbar": {
              "outlinewidth": 0,
              "ticks": ""
             }
            },
            "type": "scattermapbox"
           }
          ],
          "scatterpolar": [
           {
            "marker": {
             "colorbar": {
              "outlinewidth": 0,
              "ticks": ""
             }
            },
            "type": "scatterpolar"
           }
          ],
          "scatterpolargl": [
           {
            "marker": {
             "colorbar": {
              "outlinewidth": 0,
              "ticks": ""
             }
            },
            "type": "scatterpolargl"
           }
          ],
          "scatterternary": [
           {
            "marker": {
             "colorbar": {
              "outlinewidth": 0,
              "ticks": ""
             }
            },
            "type": "scatterternary"
           }
          ],
          "surface": [
           {
            "colorbar": {
             "outlinewidth": 0,
             "ticks": ""
            },
            "colorscale": [
             [
              0,
              "#0d0887"
             ],
             [
              0.1111111111111111,
              "#46039f"
             ],
             [
              0.2222222222222222,
              "#7201a8"
             ],
             [
              0.3333333333333333,
              "#9c179e"
             ],
             [
              0.4444444444444444,
              "#bd3786"
             ],
             [
              0.5555555555555556,
              "#d8576b"
             ],
             [
              0.6666666666666666,
              "#ed7953"
             ],
             [
              0.7777777777777778,
              "#fb9f3a"
             ],
             [
              0.8888888888888888,
              "#fdca26"
             ],
             [
              1,
              "#f0f921"
             ]
            ],
            "type": "surface"
           }
          ],
          "table": [
           {
            "cells": {
             "fill": {
              "color": "#EBF0F8"
             },
             "line": {
              "color": "white"
             }
            },
            "header": {
             "fill": {
              "color": "#C8D4E3"
             },
             "line": {
              "color": "white"
             }
            },
            "type": "table"
           }
          ]
         },
         "layout": {
          "annotationdefaults": {
           "arrowcolor": "#2a3f5f",
           "arrowhead": 0,
           "arrowwidth": 1
          },
          "autotypenumbers": "strict",
          "coloraxis": {
           "colorbar": {
            "outlinewidth": 0,
            "ticks": ""
           }
          },
          "colorscale": {
           "diverging": [
            [
             0,
             "#8e0152"
            ],
            [
             0.1,
             "#c51b7d"
            ],
            [
             0.2,
             "#de77ae"
            ],
            [
             0.3,
             "#f1b6da"
            ],
            [
             0.4,
             "#fde0ef"
            ],
            [
             0.5,
             "#f7f7f7"
            ],
            [
             0.6,
             "#e6f5d0"
            ],
            [
             0.7,
             "#b8e186"
            ],
            [
             0.8,
             "#7fbc41"
            ],
            [
             0.9,
             "#4d9221"
            ],
            [
             1,
             "#276419"
            ]
           ],
           "sequential": [
            [
             0,
             "#0d0887"
            ],
            [
             0.1111111111111111,
             "#46039f"
            ],
            [
             0.2222222222222222,
             "#7201a8"
            ],
            [
             0.3333333333333333,
             "#9c179e"
            ],
            [
             0.4444444444444444,
             "#bd3786"
            ],
            [
             0.5555555555555556,
             "#d8576b"
            ],
            [
             0.6666666666666666,
             "#ed7953"
            ],
            [
             0.7777777777777778,
             "#fb9f3a"
            ],
            [
             0.8888888888888888,
             "#fdca26"
            ],
            [
             1,
             "#f0f921"
            ]
           ],
           "sequentialminus": [
            [
             0,
             "#0d0887"
            ],
            [
             0.1111111111111111,
             "#46039f"
            ],
            [
             0.2222222222222222,
             "#7201a8"
            ],
            [
             0.3333333333333333,
             "#9c179e"
            ],
            [
             0.4444444444444444,
             "#bd3786"
            ],
            [
             0.5555555555555556,
             "#d8576b"
            ],
            [
             0.6666666666666666,
             "#ed7953"
            ],
            [
             0.7777777777777778,
             "#fb9f3a"
            ],
            [
             0.8888888888888888,
             "#fdca26"
            ],
            [
             1,
             "#f0f921"
            ]
           ]
          },
          "colorway": [
           "#636efa",
           "#EF553B",
           "#00cc96",
           "#ab63fa",
           "#FFA15A",
           "#19d3f3",
           "#FF6692",
           "#B6E880",
           "#FF97FF",
           "#FECB52"
          ],
          "font": {
           "color": "#2a3f5f"
          },
          "geo": {
           "bgcolor": "white",
           "lakecolor": "white",
           "landcolor": "#E5ECF6",
           "showlakes": true,
           "showland": true,
           "subunitcolor": "white"
          },
          "hoverlabel": {
           "align": "left"
          },
          "hovermode": "closest",
          "mapbox": {
           "style": "light"
          },
          "paper_bgcolor": "white",
          "plot_bgcolor": "#E5ECF6",
          "polar": {
           "angularaxis": {
            "gridcolor": "white",
            "linecolor": "white",
            "ticks": ""
           },
           "bgcolor": "#E5ECF6",
           "radialaxis": {
            "gridcolor": "white",
            "linecolor": "white",
            "ticks": ""
           }
          },
          "scene": {
           "xaxis": {
            "backgroundcolor": "#E5ECF6",
            "gridcolor": "white",
            "gridwidth": 2,
            "linecolor": "white",
            "showbackground": true,
            "ticks": "",
            "zerolinecolor": "white"
           },
           "yaxis": {
            "backgroundcolor": "#E5ECF6",
            "gridcolor": "white",
            "gridwidth": 2,
            "linecolor": "white",
            "showbackground": true,
            "ticks": "",
            "zerolinecolor": "white"
           },
           "zaxis": {
            "backgroundcolor": "#E5ECF6",
            "gridcolor": "white",
            "gridwidth": 2,
            "linecolor": "white",
            "showbackground": true,
            "ticks": "",
            "zerolinecolor": "white"
           }
          },
          "shapedefaults": {
           "line": {
            "color": "#2a3f5f"
           }
          },
          "ternary": {
           "aaxis": {
            "gridcolor": "white",
            "linecolor": "white",
            "ticks": ""
           },
           "baxis": {
            "gridcolor": "white",
            "linecolor": "white",
            "ticks": ""
           },
           "bgcolor": "#E5ECF6",
           "caxis": {
            "gridcolor": "white",
            "linecolor": "white",
            "ticks": ""
           }
          },
          "title": {
           "x": 0.05
          },
          "xaxis": {
           "automargin": true,
           "gridcolor": "white",
           "linecolor": "white",
           "ticks": "",
           "title": {
            "standoff": 15
           },
           "zerolinecolor": "white",
           "zerolinewidth": 2
          },
          "yaxis": {
           "automargin": true,
           "gridcolor": "white",
           "linecolor": "white",
           "ticks": "",
           "title": {
            "standoff": 15
           },
           "zerolinecolor": "white",
           "zerolinewidth": 2
          }
         }
        },
        "title": {
         "text": "Comparison of joular data and 'cbo' metric for repository spring-boot"
        },
        "xaxis": {
         "anchor": "y",
         "domain": [
          0,
          0.94
         ]
        },
        "yaxis": {
         "anchor": "x",
         "domain": [
          0,
          1
         ]
        },
        "yaxis2": {
         "anchor": "x",
         "overlaying": "y",
         "side": "right"
        }
       }
      }
     },
     "metadata": {},
     "output_type": "display_data"
    },
    {
     "data": {
      "application/vnd.plotly.v1+json": {
       "config": {
        "plotlyServerURL": "https://plot.ly"
       },
       "data": [
        {
         "legendgroup": "boxplots",
         "marker": {
          "color": "rgb(252,141,98)"
         },
         "name": "checkEchoRequest/0",
         "type": "box",
         "xaxis": "x",
         "y": [
          267.5926,
          212.9435,
          217.8468,
          243.28929,
          221.7853,
          205.2166,
          253.4735,
          255.5202,
          284.447,
          245.7364,
          286.5662,
          248.04619,
          229.2126,
          278.2825,
          262.3844,
          296.8638,
          275.2279,
          247.78789,
          285.0079,
          295.5719,
          255.5771,
          254.1494,
          251.6994,
          198.9242,
          206.3628,
          216.4843,
          218.56671,
          264.36728,
          303.05438,
          218.4218
         ],
         "yaxis": "y2"
        },
        {
         "legendgroup": "barcharts",
         "marker": {
          "color": "rgb(141,160,203)"
         },
         "name": "wmc",
         "type": "bar",
         "x": [
          "checkEchoRequest/0"
         ],
         "y": [
          1
         ]
        },
        {
         "legendgroup": "boxplots",
         "marker": {
          "color": "rgb(252,141,98)"
         },
         "name": "compile/2[org.springframework.",
         "type": "box",
         "xaxis": "x",
         "y": [
          225.2544,
          177.62689,
          136.6362,
          182.8941,
          243.9455,
          238.09239,
          201.42142,
          195.6048,
          216.28929,
          160.26721,
          212.8877,
          207.15039,
          268.85577,
          204.3462,
          181.8789,
          215.2957,
          235.4573,
          199.40791,
          139.434,
          225.17351,
          198.99138,
          243.69101,
          172.1992,
          236.1763,
          180.92401,
          210.0891,
          219.59448,
          134.625,
          130.1608,
          206.92432
         ],
         "yaxis": "y2"
        },
        {
         "legendgroup": "barcharts",
         "marker": {
          "color": "rgb(141,160,203)"
         },
         "name": "wmc",
         "type": "bar",
         "x": [
          "compile/2[org.springframework."
         ],
         "y": [
          1
         ]
        },
        {
         "legendgroup": "boxplots",
         "marker": {
          "color": "rgb(252,141,98)"
         },
         "name": "processAheadOfTime/0",
         "type": "box",
         "xaxis": "x",
         "y": [
          213.4347,
          214.5914,
          217.6963,
          205.6568,
          220.7019,
          218.232,
          222.9942,
          215.66069,
          193.7692,
          217.1091,
          236.8956,
          207.7805,
          207.51909,
          221.7541,
          216.1842,
          203.2524,
          211.0933,
          230.9951,
          201.6761,
          236.1815,
          227.78111,
          218.5815,
          201.7984,
          221.92801,
          206.99431,
          205.5002,
          218.2469,
          195.8763,
          234.1795,
          209.8473
         ],
         "yaxis": "y2"
        },
        {
         "legendgroup": "barcharts",
         "marker": {
          "color": "rgb(141,160,203)"
         },
         "name": "wmc",
         "type": "bar",
         "x": [
          "processAheadOfTime/0"
         ],
         "y": [
          1
         ]
        },
        {
         "legendgroup": "boxplots",
         "marker": {
          "color": "rgb(252,141,98)"
         },
         "name": "connectWithSslBundle/1[java.la",
         "type": "box",
         "xaxis": "x",
         "y": [
          124.038506,
          127.4431,
          161.96759,
          143.0338,
          158.88199,
          140.2164,
          124.2806,
          139.06999,
          155.7808,
          154.8436,
          124.2821,
          132.1824,
          141.1456,
          120.66829,
          139.33578,
          138.2987,
          147.26309,
          145.8987,
          145.42668,
          167.2092,
          134.9335,
          132.8708,
          128.77339,
          148.43689,
          149.606,
          146.50479,
          149.28961,
          124.0862,
          157.5194,
          154.13309
         ],
         "yaxis": "y2"
        },
        {
         "legendgroup": "barcharts",
         "marker": {
          "color": "rgb(141,160,203)"
         },
         "name": "wmc",
         "type": "bar",
         "x": [
          "connectWithSslBundle/1[java.la"
         ],
         "y": [
          1
         ]
        },
        {
         "legendgroup": "boxplots",
         "marker": {
          "color": "rgb(252,141,98)"
         },
         "name": "reset/0",
         "type": "box",
         "xaxis": "x",
         "y": [
          108.31081,
          125.4858,
          118.4602,
          138.76651,
          98.2995,
          123.6688,
          99.848305,
          114.5768,
          110.19479,
          90.922905,
          116.104805,
          111.4732,
          127.6671,
          113.42149,
          131.5934,
          121.004,
          99.7495,
          77.389404,
          89.449,
          96.8346,
          96.1182,
          148.2904,
          141.3131,
          129.383,
          84.5906,
          106.60629,
          124.5592,
          135.9832,
          115.9464,
          104.621796
         ],
         "yaxis": "y2"
        },
        {
         "legendgroup": "barcharts",
         "marker": {
          "color": "rgb(141,160,203)"
         },
         "name": "wmc",
         "type": "bar",
         "x": [
          "reset/0"
         ],
         "y": [
          3
         ]
        },
        {
         "legendgroup": "boxplots",
         "marker": {
          "color": "rgb(252,141,98)"
         },
         "name": "createEnvironment/0",
         "type": "box",
         "xaxis": "x",
         "y": [
          90.1768,
          81.9949,
          80.5781,
          78.1657,
          85.0104,
          87.9041,
          78.9411,
          80.1593,
          88.8959,
          80.0991,
          79.1487,
          84.0852,
          84.622,
          81.8777,
          88.331,
          83.5189,
          78.7325,
          73.7753,
          80.4726,
          79.6671,
          79.4726,
          86.9281,
          79.4041,
          80.0409,
          76.6696,
          78.5474,
          89.4026,
          85.5557,
          77.0653,
          78.2771
         ],
         "yaxis": "y2"
        },
        {
         "legendgroup": "barcharts",
         "marker": {
          "color": "rgb(141,160,203)"
         },
         "name": "wmc",
         "type": "bar",
         "x": [
          "createEnvironment/0"
         ],
         "y": [
          1
         ]
        },
        {
         "legendgroup": "boxplots",
         "marker": {
          "color": "rgb(252,141,98)"
         },
         "name": "indexedComponentsAreRegistered",
         "type": "box",
         "xaxis": "x",
         "y": [
          71.9148,
          82.334595,
          106.9049,
          57.9156,
          84.0643,
          84.1494,
          99.0322,
          88.7142,
          76.286896,
          83.4697,
          88.0015,
          69.8999,
          86.756195,
          79.1106,
          52.6473,
          95.519905,
          93.0425,
          61.136,
          53.8162,
          34.391197,
          84.784004,
          51.0667,
          77.8918,
          57.546898,
          63.3123,
          60.966896,
          94.0016,
          56.9011,
          63.9299,
          54.5501
         ],
         "yaxis": "y2"
        },
        {
         "legendgroup": "barcharts",
         "marker": {
          "color": "rgb(141,160,203)"
         },
         "name": "wmc",
         "type": "bar",
         "x": [
          "indexedComponentsAreRegistered"
         ],
         "y": [
          1
         ]
        },
        {
         "legendgroup": "boxplots",
         "marker": {
          "color": "rgb(252,141,98)"
         },
         "name": "componentsAreRegistered/2[java",
         "type": "box",
         "xaxis": "x",
         "y": [
          71.0768,
          81.2211,
          73.193405,
          51.7024,
          91.797104,
          76.1171,
          71.2593,
          92.409,
          68.8784,
          63.4961,
          47.0196,
          77.553795,
          94.20619,
          54.752,
          81.2698,
          69.9447,
          47.198997,
          58.1296,
          62.6338,
          82.7645,
          82.2735,
          91.07291,
          76.5452,
          86.6194,
          81.6704,
          69.0771,
          87.8787,
          72.6314,
          51.0518,
          67.668
         ],
         "yaxis": "y2"
        },
        {
         "legendgroup": "barcharts",
         "marker": {
          "color": "rgb(141,160,203)"
         },
         "name": "wmc",
         "type": "bar",
         "x": [
          "componentsAreRegistered/2[java"
         ],
         "y": [
          1
         ]
        }
       ],
       "layout": {
        "legend": {
         "traceorder": "normal"
        },
        "template": {
         "data": {
          "bar": [
           {
            "error_x": {
             "color": "#2a3f5f"
            },
            "error_y": {
             "color": "#2a3f5f"
            },
            "marker": {
             "line": {
              "color": "#E5ECF6",
              "width": 0.5
             },
             "pattern": {
              "fillmode": "overlay",
              "size": 10,
              "solidity": 0.2
             }
            },
            "type": "bar"
           }
          ],
          "barpolar": [
           {
            "marker": {
             "line": {
              "color": "#E5ECF6",
              "width": 0.5
             },
             "pattern": {
              "fillmode": "overlay",
              "size": 10,
              "solidity": 0.2
             }
            },
            "type": "barpolar"
           }
          ],
          "carpet": [
           {
            "aaxis": {
             "endlinecolor": "#2a3f5f",
             "gridcolor": "white",
             "linecolor": "white",
             "minorgridcolor": "white",
             "startlinecolor": "#2a3f5f"
            },
            "baxis": {
             "endlinecolor": "#2a3f5f",
             "gridcolor": "white",
             "linecolor": "white",
             "minorgridcolor": "white",
             "startlinecolor": "#2a3f5f"
            },
            "type": "carpet"
           }
          ],
          "choropleth": [
           {
            "colorbar": {
             "outlinewidth": 0,
             "ticks": ""
            },
            "type": "choropleth"
           }
          ],
          "contour": [
           {
            "colorbar": {
             "outlinewidth": 0,
             "ticks": ""
            },
            "colorscale": [
             [
              0,
              "#0d0887"
             ],
             [
              0.1111111111111111,
              "#46039f"
             ],
             [
              0.2222222222222222,
              "#7201a8"
             ],
             [
              0.3333333333333333,
              "#9c179e"
             ],
             [
              0.4444444444444444,
              "#bd3786"
             ],
             [
              0.5555555555555556,
              "#d8576b"
             ],
             [
              0.6666666666666666,
              "#ed7953"
             ],
             [
              0.7777777777777778,
              "#fb9f3a"
             ],
             [
              0.8888888888888888,
              "#fdca26"
             ],
             [
              1,
              "#f0f921"
             ]
            ],
            "type": "contour"
           }
          ],
          "contourcarpet": [
           {
            "colorbar": {
             "outlinewidth": 0,
             "ticks": ""
            },
            "type": "contourcarpet"
           }
          ],
          "heatmap": [
           {
            "colorbar": {
             "outlinewidth": 0,
             "ticks": ""
            },
            "colorscale": [
             [
              0,
              "#0d0887"
             ],
             [
              0.1111111111111111,
              "#46039f"
             ],
             [
              0.2222222222222222,
              "#7201a8"
             ],
             [
              0.3333333333333333,
              "#9c179e"
             ],
             [
              0.4444444444444444,
              "#bd3786"
             ],
             [
              0.5555555555555556,
              "#d8576b"
             ],
             [
              0.6666666666666666,
              "#ed7953"
             ],
             [
              0.7777777777777778,
              "#fb9f3a"
             ],
             [
              0.8888888888888888,
              "#fdca26"
             ],
             [
              1,
              "#f0f921"
             ]
            ],
            "type": "heatmap"
           }
          ],
          "heatmapgl": [
           {
            "colorbar": {
             "outlinewidth": 0,
             "ticks": ""
            },
            "colorscale": [
             [
              0,
              "#0d0887"
             ],
             [
              0.1111111111111111,
              "#46039f"
             ],
             [
              0.2222222222222222,
              "#7201a8"
             ],
             [
              0.3333333333333333,
              "#9c179e"
             ],
             [
              0.4444444444444444,
              "#bd3786"
             ],
             [
              0.5555555555555556,
              "#d8576b"
             ],
             [
              0.6666666666666666,
              "#ed7953"
             ],
             [
              0.7777777777777778,
              "#fb9f3a"
             ],
             [
              0.8888888888888888,
              "#fdca26"
             ],
             [
              1,
              "#f0f921"
             ]
            ],
            "type": "heatmapgl"
           }
          ],
          "histogram": [
           {
            "marker": {
             "pattern": {
              "fillmode": "overlay",
              "size": 10,
              "solidity": 0.2
             }
            },
            "type": "histogram"
           }
          ],
          "histogram2d": [
           {
            "colorbar": {
             "outlinewidth": 0,
             "ticks": ""
            },
            "colorscale": [
             [
              0,
              "#0d0887"
             ],
             [
              0.1111111111111111,
              "#46039f"
             ],
             [
              0.2222222222222222,
              "#7201a8"
             ],
             [
              0.3333333333333333,
              "#9c179e"
             ],
             [
              0.4444444444444444,
              "#bd3786"
             ],
             [
              0.5555555555555556,
              "#d8576b"
             ],
             [
              0.6666666666666666,
              "#ed7953"
             ],
             [
              0.7777777777777778,
              "#fb9f3a"
             ],
             [
              0.8888888888888888,
              "#fdca26"
             ],
             [
              1,
              "#f0f921"
             ]
            ],
            "type": "histogram2d"
           }
          ],
          "histogram2dcontour": [
           {
            "colorbar": {
             "outlinewidth": 0,
             "ticks": ""
            },
            "colorscale": [
             [
              0,
              "#0d0887"
             ],
             [
              0.1111111111111111,
              "#46039f"
             ],
             [
              0.2222222222222222,
              "#7201a8"
             ],
             [
              0.3333333333333333,
              "#9c179e"
             ],
             [
              0.4444444444444444,
              "#bd3786"
             ],
             [
              0.5555555555555556,
              "#d8576b"
             ],
             [
              0.6666666666666666,
              "#ed7953"
             ],
             [
              0.7777777777777778,
              "#fb9f3a"
             ],
             [
              0.8888888888888888,
              "#fdca26"
             ],
             [
              1,
              "#f0f921"
             ]
            ],
            "type": "histogram2dcontour"
           }
          ],
          "mesh3d": [
           {
            "colorbar": {
             "outlinewidth": 0,
             "ticks": ""
            },
            "type": "mesh3d"
           }
          ],
          "parcoords": [
           {
            "line": {
             "colorbar": {
              "outlinewidth": 0,
              "ticks": ""
             }
            },
            "type": "parcoords"
           }
          ],
          "pie": [
           {
            "automargin": true,
            "type": "pie"
           }
          ],
          "scatter": [
           {
            "fillpattern": {
             "fillmode": "overlay",
             "size": 10,
             "solidity": 0.2
            },
            "type": "scatter"
           }
          ],
          "scatter3d": [
           {
            "line": {
             "colorbar": {
              "outlinewidth": 0,
              "ticks": ""
             }
            },
            "marker": {
             "colorbar": {
              "outlinewidth": 0,
              "ticks": ""
             }
            },
            "type": "scatter3d"
           }
          ],
          "scattercarpet": [
           {
            "marker": {
             "colorbar": {
              "outlinewidth": 0,
              "ticks": ""
             }
            },
            "type": "scattercarpet"
           }
          ],
          "scattergeo": [
           {
            "marker": {
             "colorbar": {
              "outlinewidth": 0,
              "ticks": ""
             }
            },
            "type": "scattergeo"
           }
          ],
          "scattergl": [
           {
            "marker": {
             "colorbar": {
              "outlinewidth": 0,
              "ticks": ""
             }
            },
            "type": "scattergl"
           }
          ],
          "scattermapbox": [
           {
            "marker": {
             "colorbar": {
              "outlinewidth": 0,
              "ticks": ""
             }
            },
            "type": "scattermapbox"
           }
          ],
          "scatterpolar": [
           {
            "marker": {
             "colorbar": {
              "outlinewidth": 0,
              "ticks": ""
             }
            },
            "type": "scatterpolar"
           }
          ],
          "scatterpolargl": [
           {
            "marker": {
             "colorbar": {
              "outlinewidth": 0,
              "ticks": ""
             }
            },
            "type": "scatterpolargl"
           }
          ],
          "scatterternary": [
           {
            "marker": {
             "colorbar": {
              "outlinewidth": 0,
              "ticks": ""
             }
            },
            "type": "scatterternary"
           }
          ],
          "surface": [
           {
            "colorbar": {
             "outlinewidth": 0,
             "ticks": ""
            },
            "colorscale": [
             [
              0,
              "#0d0887"
             ],
             [
              0.1111111111111111,
              "#46039f"
             ],
             [
              0.2222222222222222,
              "#7201a8"
             ],
             [
              0.3333333333333333,
              "#9c179e"
             ],
             [
              0.4444444444444444,
              "#bd3786"
             ],
             [
              0.5555555555555556,
              "#d8576b"
             ],
             [
              0.6666666666666666,
              "#ed7953"
             ],
             [
              0.7777777777777778,
              "#fb9f3a"
             ],
             [
              0.8888888888888888,
              "#fdca26"
             ],
             [
              1,
              "#f0f921"
             ]
            ],
            "type": "surface"
           }
          ],
          "table": [
           {
            "cells": {
             "fill": {
              "color": "#EBF0F8"
             },
             "line": {
              "color": "white"
             }
            },
            "header": {
             "fill": {
              "color": "#C8D4E3"
             },
             "line": {
              "color": "white"
             }
            },
            "type": "table"
           }
          ]
         },
         "layout": {
          "annotationdefaults": {
           "arrowcolor": "#2a3f5f",
           "arrowhead": 0,
           "arrowwidth": 1
          },
          "autotypenumbers": "strict",
          "coloraxis": {
           "colorbar": {
            "outlinewidth": 0,
            "ticks": ""
           }
          },
          "colorscale": {
           "diverging": [
            [
             0,
             "#8e0152"
            ],
            [
             0.1,
             "#c51b7d"
            ],
            [
             0.2,
             "#de77ae"
            ],
            [
             0.3,
             "#f1b6da"
            ],
            [
             0.4,
             "#fde0ef"
            ],
            [
             0.5,
             "#f7f7f7"
            ],
            [
             0.6,
             "#e6f5d0"
            ],
            [
             0.7,
             "#b8e186"
            ],
            [
             0.8,
             "#7fbc41"
            ],
            [
             0.9,
             "#4d9221"
            ],
            [
             1,
             "#276419"
            ]
           ],
           "sequential": [
            [
             0,
             "#0d0887"
            ],
            [
             0.1111111111111111,
             "#46039f"
            ],
            [
             0.2222222222222222,
             "#7201a8"
            ],
            [
             0.3333333333333333,
             "#9c179e"
            ],
            [
             0.4444444444444444,
             "#bd3786"
            ],
            [
             0.5555555555555556,
             "#d8576b"
            ],
            [
             0.6666666666666666,
             "#ed7953"
            ],
            [
             0.7777777777777778,
             "#fb9f3a"
            ],
            [
             0.8888888888888888,
             "#fdca26"
            ],
            [
             1,
             "#f0f921"
            ]
           ],
           "sequentialminus": [
            [
             0,
             "#0d0887"
            ],
            [
             0.1111111111111111,
             "#46039f"
            ],
            [
             0.2222222222222222,
             "#7201a8"
            ],
            [
             0.3333333333333333,
             "#9c179e"
            ],
            [
             0.4444444444444444,
             "#bd3786"
            ],
            [
             0.5555555555555556,
             "#d8576b"
            ],
            [
             0.6666666666666666,
             "#ed7953"
            ],
            [
             0.7777777777777778,
             "#fb9f3a"
            ],
            [
             0.8888888888888888,
             "#fdca26"
            ],
            [
             1,
             "#f0f921"
            ]
           ]
          },
          "colorway": [
           "#636efa",
           "#EF553B",
           "#00cc96",
           "#ab63fa",
           "#FFA15A",
           "#19d3f3",
           "#FF6692",
           "#B6E880",
           "#FF97FF",
           "#FECB52"
          ],
          "font": {
           "color": "#2a3f5f"
          },
          "geo": {
           "bgcolor": "white",
           "lakecolor": "white",
           "landcolor": "#E5ECF6",
           "showlakes": true,
           "showland": true,
           "subunitcolor": "white"
          },
          "hoverlabel": {
           "align": "left"
          },
          "hovermode": "closest",
          "mapbox": {
           "style": "light"
          },
          "paper_bgcolor": "white",
          "plot_bgcolor": "#E5ECF6",
          "polar": {
           "angularaxis": {
            "gridcolor": "white",
            "linecolor": "white",
            "ticks": ""
           },
           "bgcolor": "#E5ECF6",
           "radialaxis": {
            "gridcolor": "white",
            "linecolor": "white",
            "ticks": ""
           }
          },
          "scene": {
           "xaxis": {
            "backgroundcolor": "#E5ECF6",
            "gridcolor": "white",
            "gridwidth": 2,
            "linecolor": "white",
            "showbackground": true,
            "ticks": "",
            "zerolinecolor": "white"
           },
           "yaxis": {
            "backgroundcolor": "#E5ECF6",
            "gridcolor": "white",
            "gridwidth": 2,
            "linecolor": "white",
            "showbackground": true,
            "ticks": "",
            "zerolinecolor": "white"
           },
           "zaxis": {
            "backgroundcolor": "#E5ECF6",
            "gridcolor": "white",
            "gridwidth": 2,
            "linecolor": "white",
            "showbackground": true,
            "ticks": "",
            "zerolinecolor": "white"
           }
          },
          "shapedefaults": {
           "line": {
            "color": "#2a3f5f"
           }
          },
          "ternary": {
           "aaxis": {
            "gridcolor": "white",
            "linecolor": "white",
            "ticks": ""
           },
           "baxis": {
            "gridcolor": "white",
            "linecolor": "white",
            "ticks": ""
           },
           "bgcolor": "#E5ECF6",
           "caxis": {
            "gridcolor": "white",
            "linecolor": "white",
            "ticks": ""
           }
          },
          "title": {
           "x": 0.05
          },
          "xaxis": {
           "automargin": true,
           "gridcolor": "white",
           "linecolor": "white",
           "ticks": "",
           "title": {
            "standoff": 15
           },
           "zerolinecolor": "white",
           "zerolinewidth": 2
          },
          "yaxis": {
           "automargin": true,
           "gridcolor": "white",
           "linecolor": "white",
           "ticks": "",
           "title": {
            "standoff": 15
           },
           "zerolinecolor": "white",
           "zerolinewidth": 2
          }
         }
        },
        "title": {
         "text": "Comparison of joular data and 'wmc' metric for repository spring-boot"
        },
        "xaxis": {
         "anchor": "y",
         "domain": [
          0,
          0.94
         ]
        },
        "yaxis": {
         "anchor": "x",
         "domain": [
          0,
          1
         ]
        },
        "yaxis2": {
         "anchor": "x",
         "overlaying": "y",
         "side": "right"
        }
       }
      }
     },
     "metadata": {},
     "output_type": "display_data"
    },
    {
     "name": "stdout",
     "output_type": "stream",
     "text": [
      "Len with outliers :  15\n",
      "Len without outliers :  8\n",
      "[{'Method': 'setUpDataSource/0', 'Class': 'org.apache.commons.configuration2.DatabaseConfigurationTestHelper', 'JoularValues': [104.258995, 106.782, 105.0801, 91.6607, 93.9621, 104.3268, 97.3097, 110.6919, 96.2922, 113.2199, 106.6211, 98.7757, 92.5542, 94.4055, 90.966, 82.4212, 89.6111, 97.71921, 97.4402, 117.047195, 114.3917, 104.01759, 88.2087, 101.0553, 93.2793, 111.8563, 112.820595, 111.2415, 113.444695, 94.1346], 'loc': 21.0, 'wmc': 2.0, 'cbo': 7.0}, {'Method': 'transform/3[javax.xml.transform.Transformer,javax.xml.transform.Source,javax.xml.transform.Result]', 'Class': 'org.apache.commons.configuration2.XMLDocumentHelper', 'JoularValues': [46.3576, 109.8463, 36.3418, 42.8423, 47.6707, 39.604, 121.9423, 66.7676, 34.4446, 104.4137, 29.5514, 81.6877, 111.716, 138.352, 58.8732, 49.3485, 37.7012, 52.4831, 58.6303, 91.8612, 69.4049, 43.8193, 22.4099, 26.2092, 57.0808, 111.914, 53.0701, 54.5148, 81.8963, 103.1982], 'loc': 8.0, 'wmc': 2.0, 'cbo': 1.0}, {'Method': 'getManager/0', 'Class': 'org.apache.commons.configuration2.io.VFSFileSystem', 'JoularValues': [23.9265, 18.7163, 7.1743, 10.8335, 19.9424, 5.2071, 21.9985, 26.1884, 4.7612, 7.7014, 25.7391, 15.8211, 7.35, 21.6847, 4.5831, 8.3065, 8.8536, 9.1654, 29.1509, 8.5373, 16.0034, 35.6843, 8.9282, 6.8742, 7.5263, 10.2789, 30.3846, 23.9239, 20.4448, 32.1982], 'loc': 3.0, 'wmc': 1.0, 'cbo': 1.0}, {'Method': 'loadSqlFile/1[java.lang.String]', 'Class': 'org.apache.commons.configuration2.test.HsqlDB', 'JoularValues': [12.6615, 9.3894005, 20.323502, 15.4507, 15.6214, 6.1289, 14.0414, 13.3248, 11.632, 11.9582, 17.9923, 12.4935, 9.0121, 15.9471, 8.3913, 17.5376, 13.5859, 13.1959, 11.4924, 13.6917, 21.4995, 18.9785, 6.7974, 11.9548, 6.0017, 9.9466, 14.992201, 15.3273, 17.8593, 8.9992], 'loc': 15.0, 'wmc': 3.0, 'cbo': 1.0}, {'Method': 'locateFromURL/2[java.lang.String,java.lang.String]', 'Class': 'org.apache.commons.configuration2.io.DefaultFileSystem', 'JoularValues': [11.0672, 20.2593, 5.571, 5.8637, 9.6446, 4.3978, 18.0782, 1.3275, 2.1194, 10.252399, 3.5566, 2.8361, 1.0138, 18.8983, 19.0955, 8.4811, 16.594599, 12.187201, 3.8268, 5.541, 15.9091, 8.6351, 2.973, 6.5249004, 21.1179, 13.1322, 2.0673, 18.4164, 3.8851, 14.0255], 'loc': 20.0, 'wmc': 4.0, 'cbo': 2.0}, {'Method': 'read/1[java.io.Reader]', 'Class': 'org.apache.commons.configuration2.XMLPropertiesConfiguration', 'JoularValues': [9.6674, 14.780601, 12.5758, 5.2468, 16.6215, 11.462999, 7.6980996, 6.4646, 17.3935, 12.6628, 11.9888, 14.5418005, 8.0092, 8.709001, 8.9325, 15.2209, 6.1025996, 15.0361, 5.4292, 8.9566, 12.5739, 26.6829, 3.8706, 16.792, 4.2200003, 24.259, 15.0213, 11.512501, 2.0202, 3.5456], 'loc': 15.0, 'wmc': 2.0, 'cbo': 4.0}, {'Method': 'isPropertyWriteable/2[java.lang.Object,java.lang.String]', 'Class': 'org.apache.commons.configuration2.beanutils.BeanHelper', 'JoularValues': [4.9436, 9.8831, 14.369, 23.5889, 13.732, 9.8009, 15.644, 14.71, 6.5246, 12.6703, 20.6358, 4.7508, 9.7677, 18.819, 7.6239, 12.4709, 6.2813, 13.4501, 4.3439, 2.6321, 4.6681, 14.5728, 9.1498, 5.658, 7.7699, 10.1562, 10.3274, 15.8978, 10.2909, 8.4144], 'loc': 3.0, 'wmc': 1.0, 'cbo': 0.0}, {'Method': 'read/1[java.io.Reader]', 'Class': 'org.apache.commons.configuration2.JSONConfiguration', 'JoularValues': [2.1401, 3.1755, 3.6651, 3.1089, 3.1366, 2.047, 2.1138, 2.6549, 3.1636, 3.4037, 3.1783, 2.1381, 3.1042, 3.1572, 3.1609, 2.0108, 2.2251, 3.5321, 3.0993, 3.7208, 3.9496, 2.3715, 2.0325, 1.076, 2.1024, 4.2943, 2.6186, 2.2174, 3.7884, 3.1046], 'loc': 8.0, 'wmc': 2.0, 'cbo': 0.0}]\n"
     ]
    },
    {
     "data": {
      "application/vnd.plotly.v1+json": {
       "config": {
        "plotlyServerURL": "https://plot.ly"
       },
       "data": [
        {
         "legendgroup": "boxplots",
         "marker": {
          "color": "rgb(252,141,98)"
         },
         "name": "setUpDataSource/0",
         "type": "box",
         "xaxis": "x",
         "y": [
          104.258995,
          106.782,
          105.0801,
          91.6607,
          93.9621,
          104.3268,
          97.3097,
          110.6919,
          96.2922,
          113.2199,
          106.6211,
          98.7757,
          92.5542,
          94.4055,
          90.966,
          82.4212,
          89.6111,
          97.71921,
          97.4402,
          117.047195,
          114.3917,
          104.01759,
          88.2087,
          101.0553,
          93.2793,
          111.8563,
          112.820595,
          111.2415,
          113.444695,
          94.1346
         ],
         "yaxis": "y2"
        },
        {
         "legendgroup": "barcharts",
         "marker": {
          "color": "rgb(141,160,203)"
         },
         "name": "loc",
         "type": "bar",
         "x": [
          "setUpDataSource/0"
         ],
         "y": [
          21
         ]
        },
        {
         "legendgroup": "boxplots",
         "marker": {
          "color": "rgb(252,141,98)"
         },
         "name": "transform/3[javax.xml.transfor",
         "type": "box",
         "xaxis": "x",
         "y": [
          46.3576,
          109.8463,
          36.3418,
          42.8423,
          47.6707,
          39.604,
          121.9423,
          66.7676,
          34.4446,
          104.4137,
          29.5514,
          81.6877,
          111.716,
          138.352,
          58.8732,
          49.3485,
          37.7012,
          52.4831,
          58.6303,
          91.8612,
          69.4049,
          43.8193,
          22.4099,
          26.2092,
          57.0808,
          111.914,
          53.0701,
          54.5148,
          81.8963,
          103.1982
         ],
         "yaxis": "y2"
        },
        {
         "legendgroup": "barcharts",
         "marker": {
          "color": "rgb(141,160,203)"
         },
         "name": "loc",
         "type": "bar",
         "x": [
          "transform/3[javax.xml.transfor"
         ],
         "y": [
          8
         ]
        },
        {
         "legendgroup": "boxplots",
         "marker": {
          "color": "rgb(252,141,98)"
         },
         "name": "getManager/0",
         "type": "box",
         "xaxis": "x",
         "y": [
          23.9265,
          18.7163,
          7.1743,
          10.8335,
          19.9424,
          5.2071,
          21.9985,
          26.1884,
          4.7612,
          7.7014,
          25.7391,
          15.8211,
          7.35,
          21.6847,
          4.5831,
          8.3065,
          8.8536,
          9.1654,
          29.1509,
          8.5373,
          16.0034,
          35.6843,
          8.9282,
          6.8742,
          7.5263,
          10.2789,
          30.3846,
          23.9239,
          20.4448,
          32.1982
         ],
         "yaxis": "y2"
        },
        {
         "legendgroup": "barcharts",
         "marker": {
          "color": "rgb(141,160,203)"
         },
         "name": "loc",
         "type": "bar",
         "x": [
          "getManager/0"
         ],
         "y": [
          3
         ]
        },
        {
         "legendgroup": "boxplots",
         "marker": {
          "color": "rgb(252,141,98)"
         },
         "name": "loadSqlFile/1[java.lang.String",
         "type": "box",
         "xaxis": "x",
         "y": [
          12.6615,
          9.3894005,
          20.323502,
          15.4507,
          15.6214,
          6.1289,
          14.0414,
          13.3248,
          11.632,
          11.9582,
          17.9923,
          12.4935,
          9.0121,
          15.9471,
          8.3913,
          17.5376,
          13.5859,
          13.1959,
          11.4924,
          13.6917,
          21.4995,
          18.9785,
          6.7974,
          11.9548,
          6.0017,
          9.9466,
          14.992201,
          15.3273,
          17.8593,
          8.9992
         ],
         "yaxis": "y2"
        },
        {
         "legendgroup": "barcharts",
         "marker": {
          "color": "rgb(141,160,203)"
         },
         "name": "loc",
         "type": "bar",
         "x": [
          "loadSqlFile/1[java.lang.String"
         ],
         "y": [
          15
         ]
        },
        {
         "legendgroup": "boxplots",
         "marker": {
          "color": "rgb(252,141,98)"
         },
         "name": "locateFromURL/2[java.lang.Stri",
         "type": "box",
         "xaxis": "x",
         "y": [
          11.0672,
          20.2593,
          5.571,
          5.8637,
          9.6446,
          4.3978,
          18.0782,
          1.3275,
          2.1194,
          10.252399,
          3.5566,
          2.8361,
          1.0138,
          18.8983,
          19.0955,
          8.4811,
          16.594599,
          12.187201,
          3.8268,
          5.541,
          15.9091,
          8.6351,
          2.973,
          6.5249004,
          21.1179,
          13.1322,
          2.0673,
          18.4164,
          3.8851,
          14.0255
         ],
         "yaxis": "y2"
        },
        {
         "legendgroup": "barcharts",
         "marker": {
          "color": "rgb(141,160,203)"
         },
         "name": "loc",
         "type": "bar",
         "x": [
          "locateFromURL/2[java.lang.Stri"
         ],
         "y": [
          20
         ]
        },
        {
         "legendgroup": "boxplots",
         "marker": {
          "color": "rgb(252,141,98)"
         },
         "name": "read/1[java.io.Reader]",
         "type": "box",
         "xaxis": "x",
         "y": [
          9.6674,
          14.780601,
          12.5758,
          5.2468,
          16.6215,
          11.462999,
          7.6980996,
          6.4646,
          17.3935,
          12.6628,
          11.9888,
          14.5418005,
          8.0092,
          8.709001,
          8.9325,
          15.2209,
          6.1025996,
          15.0361,
          5.4292,
          8.9566,
          12.5739,
          26.6829,
          3.8706,
          16.792,
          4.2200003,
          24.259,
          15.0213,
          11.512501,
          2.0202,
          3.5456
         ],
         "yaxis": "y2"
        },
        {
         "legendgroup": "barcharts",
         "marker": {
          "color": "rgb(141,160,203)"
         },
         "name": "loc",
         "type": "bar",
         "x": [
          "read/1[java.io.Reader]"
         ],
         "y": [
          15
         ]
        },
        {
         "legendgroup": "boxplots",
         "marker": {
          "color": "rgb(252,141,98)"
         },
         "name": "isPropertyWriteable/2[java.lan",
         "type": "box",
         "xaxis": "x",
         "y": [
          4.9436,
          9.8831,
          14.369,
          23.5889,
          13.732,
          9.8009,
          15.644,
          14.71,
          6.5246,
          12.6703,
          20.6358,
          4.7508,
          9.7677,
          18.819,
          7.6239,
          12.4709,
          6.2813,
          13.4501,
          4.3439,
          2.6321,
          4.6681,
          14.5728,
          9.1498,
          5.658,
          7.7699,
          10.1562,
          10.3274,
          15.8978,
          10.2909,
          8.4144
         ],
         "yaxis": "y2"
        },
        {
         "legendgroup": "barcharts",
         "marker": {
          "color": "rgb(141,160,203)"
         },
         "name": "loc",
         "type": "bar",
         "x": [
          "isPropertyWriteable/2[java.lan"
         ],
         "y": [
          3
         ]
        },
        {
         "legendgroup": "boxplots",
         "marker": {
          "color": "rgb(252,141,98)"
         },
         "name": "read/1[java.io.Reader]",
         "type": "box",
         "xaxis": "x",
         "y": [
          2.1401,
          3.1755,
          3.6651,
          3.1089,
          3.1366,
          2.047,
          2.1138,
          2.6549,
          3.1636,
          3.4037,
          3.1783,
          2.1381,
          3.1042,
          3.1572,
          3.1609,
          2.0108,
          2.2251,
          3.5321,
          3.0993,
          3.7208,
          3.9496,
          2.3715,
          2.0325,
          1.076,
          2.1024,
          4.2943,
          2.6186,
          2.2174,
          3.7884,
          3.1046
         ],
         "yaxis": "y2"
        },
        {
         "legendgroup": "barcharts",
         "marker": {
          "color": "rgb(141,160,203)"
         },
         "name": "loc",
         "type": "bar",
         "x": [
          "read/1[java.io.Reader]"
         ],
         "y": [
          8
         ]
        }
       ],
       "layout": {
        "legend": {
         "traceorder": "normal"
        },
        "template": {
         "data": {
          "bar": [
           {
            "error_x": {
             "color": "#2a3f5f"
            },
            "error_y": {
             "color": "#2a3f5f"
            },
            "marker": {
             "line": {
              "color": "#E5ECF6",
              "width": 0.5
             },
             "pattern": {
              "fillmode": "overlay",
              "size": 10,
              "solidity": 0.2
             }
            },
            "type": "bar"
           }
          ],
          "barpolar": [
           {
            "marker": {
             "line": {
              "color": "#E5ECF6",
              "width": 0.5
             },
             "pattern": {
              "fillmode": "overlay",
              "size": 10,
              "solidity": 0.2
             }
            },
            "type": "barpolar"
           }
          ],
          "carpet": [
           {
            "aaxis": {
             "endlinecolor": "#2a3f5f",
             "gridcolor": "white",
             "linecolor": "white",
             "minorgridcolor": "white",
             "startlinecolor": "#2a3f5f"
            },
            "baxis": {
             "endlinecolor": "#2a3f5f",
             "gridcolor": "white",
             "linecolor": "white",
             "minorgridcolor": "white",
             "startlinecolor": "#2a3f5f"
            },
            "type": "carpet"
           }
          ],
          "choropleth": [
           {
            "colorbar": {
             "outlinewidth": 0,
             "ticks": ""
            },
            "type": "choropleth"
           }
          ],
          "contour": [
           {
            "colorbar": {
             "outlinewidth": 0,
             "ticks": ""
            },
            "colorscale": [
             [
              0,
              "#0d0887"
             ],
             [
              0.1111111111111111,
              "#46039f"
             ],
             [
              0.2222222222222222,
              "#7201a8"
             ],
             [
              0.3333333333333333,
              "#9c179e"
             ],
             [
              0.4444444444444444,
              "#bd3786"
             ],
             [
              0.5555555555555556,
              "#d8576b"
             ],
             [
              0.6666666666666666,
              "#ed7953"
             ],
             [
              0.7777777777777778,
              "#fb9f3a"
             ],
             [
              0.8888888888888888,
              "#fdca26"
             ],
             [
              1,
              "#f0f921"
             ]
            ],
            "type": "contour"
           }
          ],
          "contourcarpet": [
           {
            "colorbar": {
             "outlinewidth": 0,
             "ticks": ""
            },
            "type": "contourcarpet"
           }
          ],
          "heatmap": [
           {
            "colorbar": {
             "outlinewidth": 0,
             "ticks": ""
            },
            "colorscale": [
             [
              0,
              "#0d0887"
             ],
             [
              0.1111111111111111,
              "#46039f"
             ],
             [
              0.2222222222222222,
              "#7201a8"
             ],
             [
              0.3333333333333333,
              "#9c179e"
             ],
             [
              0.4444444444444444,
              "#bd3786"
             ],
             [
              0.5555555555555556,
              "#d8576b"
             ],
             [
              0.6666666666666666,
              "#ed7953"
             ],
             [
              0.7777777777777778,
              "#fb9f3a"
             ],
             [
              0.8888888888888888,
              "#fdca26"
             ],
             [
              1,
              "#f0f921"
             ]
            ],
            "type": "heatmap"
           }
          ],
          "heatmapgl": [
           {
            "colorbar": {
             "outlinewidth": 0,
             "ticks": ""
            },
            "colorscale": [
             [
              0,
              "#0d0887"
             ],
             [
              0.1111111111111111,
              "#46039f"
             ],
             [
              0.2222222222222222,
              "#7201a8"
             ],
             [
              0.3333333333333333,
              "#9c179e"
             ],
             [
              0.4444444444444444,
              "#bd3786"
             ],
             [
              0.5555555555555556,
              "#d8576b"
             ],
             [
              0.6666666666666666,
              "#ed7953"
             ],
             [
              0.7777777777777778,
              "#fb9f3a"
             ],
             [
              0.8888888888888888,
              "#fdca26"
             ],
             [
              1,
              "#f0f921"
             ]
            ],
            "type": "heatmapgl"
           }
          ],
          "histogram": [
           {
            "marker": {
             "pattern": {
              "fillmode": "overlay",
              "size": 10,
              "solidity": 0.2
             }
            },
            "type": "histogram"
           }
          ],
          "histogram2d": [
           {
            "colorbar": {
             "outlinewidth": 0,
             "ticks": ""
            },
            "colorscale": [
             [
              0,
              "#0d0887"
             ],
             [
              0.1111111111111111,
              "#46039f"
             ],
             [
              0.2222222222222222,
              "#7201a8"
             ],
             [
              0.3333333333333333,
              "#9c179e"
             ],
             [
              0.4444444444444444,
              "#bd3786"
             ],
             [
              0.5555555555555556,
              "#d8576b"
             ],
             [
              0.6666666666666666,
              "#ed7953"
             ],
             [
              0.7777777777777778,
              "#fb9f3a"
             ],
             [
              0.8888888888888888,
              "#fdca26"
             ],
             [
              1,
              "#f0f921"
             ]
            ],
            "type": "histogram2d"
           }
          ],
          "histogram2dcontour": [
           {
            "colorbar": {
             "outlinewidth": 0,
             "ticks": ""
            },
            "colorscale": [
             [
              0,
              "#0d0887"
             ],
             [
              0.1111111111111111,
              "#46039f"
             ],
             [
              0.2222222222222222,
              "#7201a8"
             ],
             [
              0.3333333333333333,
              "#9c179e"
             ],
             [
              0.4444444444444444,
              "#bd3786"
             ],
             [
              0.5555555555555556,
              "#d8576b"
             ],
             [
              0.6666666666666666,
              "#ed7953"
             ],
             [
              0.7777777777777778,
              "#fb9f3a"
             ],
             [
              0.8888888888888888,
              "#fdca26"
             ],
             [
              1,
              "#f0f921"
             ]
            ],
            "type": "histogram2dcontour"
           }
          ],
          "mesh3d": [
           {
            "colorbar": {
             "outlinewidth": 0,
             "ticks": ""
            },
            "type": "mesh3d"
           }
          ],
          "parcoords": [
           {
            "line": {
             "colorbar": {
              "outlinewidth": 0,
              "ticks": ""
             }
            },
            "type": "parcoords"
           }
          ],
          "pie": [
           {
            "automargin": true,
            "type": "pie"
           }
          ],
          "scatter": [
           {
            "fillpattern": {
             "fillmode": "overlay",
             "size": 10,
             "solidity": 0.2
            },
            "type": "scatter"
           }
          ],
          "scatter3d": [
           {
            "line": {
             "colorbar": {
              "outlinewidth": 0,
              "ticks": ""
             }
            },
            "marker": {
             "colorbar": {
              "outlinewidth": 0,
              "ticks": ""
             }
            },
            "type": "scatter3d"
           }
          ],
          "scattercarpet": [
           {
            "marker": {
             "colorbar": {
              "outlinewidth": 0,
              "ticks": ""
             }
            },
            "type": "scattercarpet"
           }
          ],
          "scattergeo": [
           {
            "marker": {
             "colorbar": {
              "outlinewidth": 0,
              "ticks": ""
             }
            },
            "type": "scattergeo"
           }
          ],
          "scattergl": [
           {
            "marker": {
             "colorbar": {
              "outlinewidth": 0,
              "ticks": ""
             }
            },
            "type": "scattergl"
           }
          ],
          "scattermapbox": [
           {
            "marker": {
             "colorbar": {
              "outlinewidth": 0,
              "ticks": ""
             }
            },
            "type": "scattermapbox"
           }
          ],
          "scatterpolar": [
           {
            "marker": {
             "colorbar": {
              "outlinewidth": 0,
              "ticks": ""
             }
            },
            "type": "scatterpolar"
           }
          ],
          "scatterpolargl": [
           {
            "marker": {
             "colorbar": {
              "outlinewidth": 0,
              "ticks": ""
             }
            },
            "type": "scatterpolargl"
           }
          ],
          "scatterternary": [
           {
            "marker": {
             "colorbar": {
              "outlinewidth": 0,
              "ticks": ""
             }
            },
            "type": "scatterternary"
           }
          ],
          "surface": [
           {
            "colorbar": {
             "outlinewidth": 0,
             "ticks": ""
            },
            "colorscale": [
             [
              0,
              "#0d0887"
             ],
             [
              0.1111111111111111,
              "#46039f"
             ],
             [
              0.2222222222222222,
              "#7201a8"
             ],
             [
              0.3333333333333333,
              "#9c179e"
             ],
             [
              0.4444444444444444,
              "#bd3786"
             ],
             [
              0.5555555555555556,
              "#d8576b"
             ],
             [
              0.6666666666666666,
              "#ed7953"
             ],
             [
              0.7777777777777778,
              "#fb9f3a"
             ],
             [
              0.8888888888888888,
              "#fdca26"
             ],
             [
              1,
              "#f0f921"
             ]
            ],
            "type": "surface"
           }
          ],
          "table": [
           {
            "cells": {
             "fill": {
              "color": "#EBF0F8"
             },
             "line": {
              "color": "white"
             }
            },
            "header": {
             "fill": {
              "color": "#C8D4E3"
             },
             "line": {
              "color": "white"
             }
            },
            "type": "table"
           }
          ]
         },
         "layout": {
          "annotationdefaults": {
           "arrowcolor": "#2a3f5f",
           "arrowhead": 0,
           "arrowwidth": 1
          },
          "autotypenumbers": "strict",
          "coloraxis": {
           "colorbar": {
            "outlinewidth": 0,
            "ticks": ""
           }
          },
          "colorscale": {
           "diverging": [
            [
             0,
             "#8e0152"
            ],
            [
             0.1,
             "#c51b7d"
            ],
            [
             0.2,
             "#de77ae"
            ],
            [
             0.3,
             "#f1b6da"
            ],
            [
             0.4,
             "#fde0ef"
            ],
            [
             0.5,
             "#f7f7f7"
            ],
            [
             0.6,
             "#e6f5d0"
            ],
            [
             0.7,
             "#b8e186"
            ],
            [
             0.8,
             "#7fbc41"
            ],
            [
             0.9,
             "#4d9221"
            ],
            [
             1,
             "#276419"
            ]
           ],
           "sequential": [
            [
             0,
             "#0d0887"
            ],
            [
             0.1111111111111111,
             "#46039f"
            ],
            [
             0.2222222222222222,
             "#7201a8"
            ],
            [
             0.3333333333333333,
             "#9c179e"
            ],
            [
             0.4444444444444444,
             "#bd3786"
            ],
            [
             0.5555555555555556,
             "#d8576b"
            ],
            [
             0.6666666666666666,
             "#ed7953"
            ],
            [
             0.7777777777777778,
             "#fb9f3a"
            ],
            [
             0.8888888888888888,
             "#fdca26"
            ],
            [
             1,
             "#f0f921"
            ]
           ],
           "sequentialminus": [
            [
             0,
             "#0d0887"
            ],
            [
             0.1111111111111111,
             "#46039f"
            ],
            [
             0.2222222222222222,
             "#7201a8"
            ],
            [
             0.3333333333333333,
             "#9c179e"
            ],
            [
             0.4444444444444444,
             "#bd3786"
            ],
            [
             0.5555555555555556,
             "#d8576b"
            ],
            [
             0.6666666666666666,
             "#ed7953"
            ],
            [
             0.7777777777777778,
             "#fb9f3a"
            ],
            [
             0.8888888888888888,
             "#fdca26"
            ],
            [
             1,
             "#f0f921"
            ]
           ]
          },
          "colorway": [
           "#636efa",
           "#EF553B",
           "#00cc96",
           "#ab63fa",
           "#FFA15A",
           "#19d3f3",
           "#FF6692",
           "#B6E880",
           "#FF97FF",
           "#FECB52"
          ],
          "font": {
           "color": "#2a3f5f"
          },
          "geo": {
           "bgcolor": "white",
           "lakecolor": "white",
           "landcolor": "#E5ECF6",
           "showlakes": true,
           "showland": true,
           "subunitcolor": "white"
          },
          "hoverlabel": {
           "align": "left"
          },
          "hovermode": "closest",
          "mapbox": {
           "style": "light"
          },
          "paper_bgcolor": "white",
          "plot_bgcolor": "#E5ECF6",
          "polar": {
           "angularaxis": {
            "gridcolor": "white",
            "linecolor": "white",
            "ticks": ""
           },
           "bgcolor": "#E5ECF6",
           "radialaxis": {
            "gridcolor": "white",
            "linecolor": "white",
            "ticks": ""
           }
          },
          "scene": {
           "xaxis": {
            "backgroundcolor": "#E5ECF6",
            "gridcolor": "white",
            "gridwidth": 2,
            "linecolor": "white",
            "showbackground": true,
            "ticks": "",
            "zerolinecolor": "white"
           },
           "yaxis": {
            "backgroundcolor": "#E5ECF6",
            "gridcolor": "white",
            "gridwidth": 2,
            "linecolor": "white",
            "showbackground": true,
            "ticks": "",
            "zerolinecolor": "white"
           },
           "zaxis": {
            "backgroundcolor": "#E5ECF6",
            "gridcolor": "white",
            "gridwidth": 2,
            "linecolor": "white",
            "showbackground": true,
            "ticks": "",
            "zerolinecolor": "white"
           }
          },
          "shapedefaults": {
           "line": {
            "color": "#2a3f5f"
           }
          },
          "ternary": {
           "aaxis": {
            "gridcolor": "white",
            "linecolor": "white",
            "ticks": ""
           },
           "baxis": {
            "gridcolor": "white",
            "linecolor": "white",
            "ticks": ""
           },
           "bgcolor": "#E5ECF6",
           "caxis": {
            "gridcolor": "white",
            "linecolor": "white",
            "ticks": ""
           }
          },
          "title": {
           "x": 0.05
          },
          "xaxis": {
           "automargin": true,
           "gridcolor": "white",
           "linecolor": "white",
           "ticks": "",
           "title": {
            "standoff": 15
           },
           "zerolinecolor": "white",
           "zerolinewidth": 2
          },
          "yaxis": {
           "automargin": true,
           "gridcolor": "white",
           "linecolor": "white",
           "ticks": "",
           "title": {
            "standoff": 15
           },
           "zerolinecolor": "white",
           "zerolinewidth": 2
          }
         }
        },
        "title": {
         "text": "Comparison of joular data and 'loc' metric for repository commons-configuration"
        },
        "xaxis": {
         "anchor": "y",
         "domain": [
          0,
          0.94
         ]
        },
        "yaxis": {
         "anchor": "x",
         "domain": [
          0,
          1
         ]
        },
        "yaxis2": {
         "anchor": "x",
         "overlaying": "y",
         "side": "right"
        }
       }
      }
     },
     "metadata": {},
     "output_type": "display_data"
    },
    {
     "data": {
      "application/vnd.plotly.v1+json": {
       "config": {
        "plotlyServerURL": "https://plot.ly"
       },
       "data": [
        {
         "legendgroup": "boxplots",
         "marker": {
          "color": "rgb(252,141,98)"
         },
         "name": "setUpDataSource/0",
         "type": "box",
         "xaxis": "x",
         "y": [
          104.258995,
          106.782,
          105.0801,
          91.6607,
          93.9621,
          104.3268,
          97.3097,
          110.6919,
          96.2922,
          113.2199,
          106.6211,
          98.7757,
          92.5542,
          94.4055,
          90.966,
          82.4212,
          89.6111,
          97.71921,
          97.4402,
          117.047195,
          114.3917,
          104.01759,
          88.2087,
          101.0553,
          93.2793,
          111.8563,
          112.820595,
          111.2415,
          113.444695,
          94.1346
         ],
         "yaxis": "y2"
        },
        {
         "legendgroup": "barcharts",
         "marker": {
          "color": "rgb(141,160,203)"
         },
         "name": "cbo",
         "type": "bar",
         "x": [
          "setUpDataSource/0"
         ],
         "y": [
          7
         ]
        },
        {
         "legendgroup": "boxplots",
         "marker": {
          "color": "rgb(252,141,98)"
         },
         "name": "transform/3[javax.xml.transfor",
         "type": "box",
         "xaxis": "x",
         "y": [
          46.3576,
          109.8463,
          36.3418,
          42.8423,
          47.6707,
          39.604,
          121.9423,
          66.7676,
          34.4446,
          104.4137,
          29.5514,
          81.6877,
          111.716,
          138.352,
          58.8732,
          49.3485,
          37.7012,
          52.4831,
          58.6303,
          91.8612,
          69.4049,
          43.8193,
          22.4099,
          26.2092,
          57.0808,
          111.914,
          53.0701,
          54.5148,
          81.8963,
          103.1982
         ],
         "yaxis": "y2"
        },
        {
         "legendgroup": "barcharts",
         "marker": {
          "color": "rgb(141,160,203)"
         },
         "name": "cbo",
         "type": "bar",
         "x": [
          "transform/3[javax.xml.transfor"
         ],
         "y": [
          1
         ]
        },
        {
         "legendgroup": "boxplots",
         "marker": {
          "color": "rgb(252,141,98)"
         },
         "name": "getManager/0",
         "type": "box",
         "xaxis": "x",
         "y": [
          23.9265,
          18.7163,
          7.1743,
          10.8335,
          19.9424,
          5.2071,
          21.9985,
          26.1884,
          4.7612,
          7.7014,
          25.7391,
          15.8211,
          7.35,
          21.6847,
          4.5831,
          8.3065,
          8.8536,
          9.1654,
          29.1509,
          8.5373,
          16.0034,
          35.6843,
          8.9282,
          6.8742,
          7.5263,
          10.2789,
          30.3846,
          23.9239,
          20.4448,
          32.1982
         ],
         "yaxis": "y2"
        },
        {
         "legendgroup": "barcharts",
         "marker": {
          "color": "rgb(141,160,203)"
         },
         "name": "cbo",
         "type": "bar",
         "x": [
          "getManager/0"
         ],
         "y": [
          1
         ]
        },
        {
         "legendgroup": "boxplots",
         "marker": {
          "color": "rgb(252,141,98)"
         },
         "name": "loadSqlFile/1[java.lang.String",
         "type": "box",
         "xaxis": "x",
         "y": [
          12.6615,
          9.3894005,
          20.323502,
          15.4507,
          15.6214,
          6.1289,
          14.0414,
          13.3248,
          11.632,
          11.9582,
          17.9923,
          12.4935,
          9.0121,
          15.9471,
          8.3913,
          17.5376,
          13.5859,
          13.1959,
          11.4924,
          13.6917,
          21.4995,
          18.9785,
          6.7974,
          11.9548,
          6.0017,
          9.9466,
          14.992201,
          15.3273,
          17.8593,
          8.9992
         ],
         "yaxis": "y2"
        },
        {
         "legendgroup": "barcharts",
         "marker": {
          "color": "rgb(141,160,203)"
         },
         "name": "cbo",
         "type": "bar",
         "x": [
          "loadSqlFile/1[java.lang.String"
         ],
         "y": [
          1
         ]
        },
        {
         "legendgroup": "boxplots",
         "marker": {
          "color": "rgb(252,141,98)"
         },
         "name": "locateFromURL/2[java.lang.Stri",
         "type": "box",
         "xaxis": "x",
         "y": [
          11.0672,
          20.2593,
          5.571,
          5.8637,
          9.6446,
          4.3978,
          18.0782,
          1.3275,
          2.1194,
          10.252399,
          3.5566,
          2.8361,
          1.0138,
          18.8983,
          19.0955,
          8.4811,
          16.594599,
          12.187201,
          3.8268,
          5.541,
          15.9091,
          8.6351,
          2.973,
          6.5249004,
          21.1179,
          13.1322,
          2.0673,
          18.4164,
          3.8851,
          14.0255
         ],
         "yaxis": "y2"
        },
        {
         "legendgroup": "barcharts",
         "marker": {
          "color": "rgb(141,160,203)"
         },
         "name": "cbo",
         "type": "bar",
         "x": [
          "locateFromURL/2[java.lang.Stri"
         ],
         "y": [
          2
         ]
        },
        {
         "legendgroup": "boxplots",
         "marker": {
          "color": "rgb(252,141,98)"
         },
         "name": "read/1[java.io.Reader]",
         "type": "box",
         "xaxis": "x",
         "y": [
          9.6674,
          14.780601,
          12.5758,
          5.2468,
          16.6215,
          11.462999,
          7.6980996,
          6.4646,
          17.3935,
          12.6628,
          11.9888,
          14.5418005,
          8.0092,
          8.709001,
          8.9325,
          15.2209,
          6.1025996,
          15.0361,
          5.4292,
          8.9566,
          12.5739,
          26.6829,
          3.8706,
          16.792,
          4.2200003,
          24.259,
          15.0213,
          11.512501,
          2.0202,
          3.5456
         ],
         "yaxis": "y2"
        },
        {
         "legendgroup": "barcharts",
         "marker": {
          "color": "rgb(141,160,203)"
         },
         "name": "cbo",
         "type": "bar",
         "x": [
          "read/1[java.io.Reader]"
         ],
         "y": [
          4
         ]
        },
        {
         "legendgroup": "boxplots",
         "marker": {
          "color": "rgb(252,141,98)"
         },
         "name": "isPropertyWriteable/2[java.lan",
         "type": "box",
         "xaxis": "x",
         "y": [
          4.9436,
          9.8831,
          14.369,
          23.5889,
          13.732,
          9.8009,
          15.644,
          14.71,
          6.5246,
          12.6703,
          20.6358,
          4.7508,
          9.7677,
          18.819,
          7.6239,
          12.4709,
          6.2813,
          13.4501,
          4.3439,
          2.6321,
          4.6681,
          14.5728,
          9.1498,
          5.658,
          7.7699,
          10.1562,
          10.3274,
          15.8978,
          10.2909,
          8.4144
         ],
         "yaxis": "y2"
        },
        {
         "legendgroup": "barcharts",
         "marker": {
          "color": "rgb(141,160,203)"
         },
         "name": "cbo",
         "type": "bar",
         "x": [
          "isPropertyWriteable/2[java.lan"
         ],
         "y": [
          0
         ]
        },
        {
         "legendgroup": "boxplots",
         "marker": {
          "color": "rgb(252,141,98)"
         },
         "name": "read/1[java.io.Reader]",
         "type": "box",
         "xaxis": "x",
         "y": [
          2.1401,
          3.1755,
          3.6651,
          3.1089,
          3.1366,
          2.047,
          2.1138,
          2.6549,
          3.1636,
          3.4037,
          3.1783,
          2.1381,
          3.1042,
          3.1572,
          3.1609,
          2.0108,
          2.2251,
          3.5321,
          3.0993,
          3.7208,
          3.9496,
          2.3715,
          2.0325,
          1.076,
          2.1024,
          4.2943,
          2.6186,
          2.2174,
          3.7884,
          3.1046
         ],
         "yaxis": "y2"
        },
        {
         "legendgroup": "barcharts",
         "marker": {
          "color": "rgb(141,160,203)"
         },
         "name": "cbo",
         "type": "bar",
         "x": [
          "read/1[java.io.Reader]"
         ],
         "y": [
          0
         ]
        }
       ],
       "layout": {
        "legend": {
         "traceorder": "normal"
        },
        "template": {
         "data": {
          "bar": [
           {
            "error_x": {
             "color": "#2a3f5f"
            },
            "error_y": {
             "color": "#2a3f5f"
            },
            "marker": {
             "line": {
              "color": "#E5ECF6",
              "width": 0.5
             },
             "pattern": {
              "fillmode": "overlay",
              "size": 10,
              "solidity": 0.2
             }
            },
            "type": "bar"
           }
          ],
          "barpolar": [
           {
            "marker": {
             "line": {
              "color": "#E5ECF6",
              "width": 0.5
             },
             "pattern": {
              "fillmode": "overlay",
              "size": 10,
              "solidity": 0.2
             }
            },
            "type": "barpolar"
           }
          ],
          "carpet": [
           {
            "aaxis": {
             "endlinecolor": "#2a3f5f",
             "gridcolor": "white",
             "linecolor": "white",
             "minorgridcolor": "white",
             "startlinecolor": "#2a3f5f"
            },
            "baxis": {
             "endlinecolor": "#2a3f5f",
             "gridcolor": "white",
             "linecolor": "white",
             "minorgridcolor": "white",
             "startlinecolor": "#2a3f5f"
            },
            "type": "carpet"
           }
          ],
          "choropleth": [
           {
            "colorbar": {
             "outlinewidth": 0,
             "ticks": ""
            },
            "type": "choropleth"
           }
          ],
          "contour": [
           {
            "colorbar": {
             "outlinewidth": 0,
             "ticks": ""
            },
            "colorscale": [
             [
              0,
              "#0d0887"
             ],
             [
              0.1111111111111111,
              "#46039f"
             ],
             [
              0.2222222222222222,
              "#7201a8"
             ],
             [
              0.3333333333333333,
              "#9c179e"
             ],
             [
              0.4444444444444444,
              "#bd3786"
             ],
             [
              0.5555555555555556,
              "#d8576b"
             ],
             [
              0.6666666666666666,
              "#ed7953"
             ],
             [
              0.7777777777777778,
              "#fb9f3a"
             ],
             [
              0.8888888888888888,
              "#fdca26"
             ],
             [
              1,
              "#f0f921"
             ]
            ],
            "type": "contour"
           }
          ],
          "contourcarpet": [
           {
            "colorbar": {
             "outlinewidth": 0,
             "ticks": ""
            },
            "type": "contourcarpet"
           }
          ],
          "heatmap": [
           {
            "colorbar": {
             "outlinewidth": 0,
             "ticks": ""
            },
            "colorscale": [
             [
              0,
              "#0d0887"
             ],
             [
              0.1111111111111111,
              "#46039f"
             ],
             [
              0.2222222222222222,
              "#7201a8"
             ],
             [
              0.3333333333333333,
              "#9c179e"
             ],
             [
              0.4444444444444444,
              "#bd3786"
             ],
             [
              0.5555555555555556,
              "#d8576b"
             ],
             [
              0.6666666666666666,
              "#ed7953"
             ],
             [
              0.7777777777777778,
              "#fb9f3a"
             ],
             [
              0.8888888888888888,
              "#fdca26"
             ],
             [
              1,
              "#f0f921"
             ]
            ],
            "type": "heatmap"
           }
          ],
          "heatmapgl": [
           {
            "colorbar": {
             "outlinewidth": 0,
             "ticks": ""
            },
            "colorscale": [
             [
              0,
              "#0d0887"
             ],
             [
              0.1111111111111111,
              "#46039f"
             ],
             [
              0.2222222222222222,
              "#7201a8"
             ],
             [
              0.3333333333333333,
              "#9c179e"
             ],
             [
              0.4444444444444444,
              "#bd3786"
             ],
             [
              0.5555555555555556,
              "#d8576b"
             ],
             [
              0.6666666666666666,
              "#ed7953"
             ],
             [
              0.7777777777777778,
              "#fb9f3a"
             ],
             [
              0.8888888888888888,
              "#fdca26"
             ],
             [
              1,
              "#f0f921"
             ]
            ],
            "type": "heatmapgl"
           }
          ],
          "histogram": [
           {
            "marker": {
             "pattern": {
              "fillmode": "overlay",
              "size": 10,
              "solidity": 0.2
             }
            },
            "type": "histogram"
           }
          ],
          "histogram2d": [
           {
            "colorbar": {
             "outlinewidth": 0,
             "ticks": ""
            },
            "colorscale": [
             [
              0,
              "#0d0887"
             ],
             [
              0.1111111111111111,
              "#46039f"
             ],
             [
              0.2222222222222222,
              "#7201a8"
             ],
             [
              0.3333333333333333,
              "#9c179e"
             ],
             [
              0.4444444444444444,
              "#bd3786"
             ],
             [
              0.5555555555555556,
              "#d8576b"
             ],
             [
              0.6666666666666666,
              "#ed7953"
             ],
             [
              0.7777777777777778,
              "#fb9f3a"
             ],
             [
              0.8888888888888888,
              "#fdca26"
             ],
             [
              1,
              "#f0f921"
             ]
            ],
            "type": "histogram2d"
           }
          ],
          "histogram2dcontour": [
           {
            "colorbar": {
             "outlinewidth": 0,
             "ticks": ""
            },
            "colorscale": [
             [
              0,
              "#0d0887"
             ],
             [
              0.1111111111111111,
              "#46039f"
             ],
             [
              0.2222222222222222,
              "#7201a8"
             ],
             [
              0.3333333333333333,
              "#9c179e"
             ],
             [
              0.4444444444444444,
              "#bd3786"
             ],
             [
              0.5555555555555556,
              "#d8576b"
             ],
             [
              0.6666666666666666,
              "#ed7953"
             ],
             [
              0.7777777777777778,
              "#fb9f3a"
             ],
             [
              0.8888888888888888,
              "#fdca26"
             ],
             [
              1,
              "#f0f921"
             ]
            ],
            "type": "histogram2dcontour"
           }
          ],
          "mesh3d": [
           {
            "colorbar": {
             "outlinewidth": 0,
             "ticks": ""
            },
            "type": "mesh3d"
           }
          ],
          "parcoords": [
           {
            "line": {
             "colorbar": {
              "outlinewidth": 0,
              "ticks": ""
             }
            },
            "type": "parcoords"
           }
          ],
          "pie": [
           {
            "automargin": true,
            "type": "pie"
           }
          ],
          "scatter": [
           {
            "fillpattern": {
             "fillmode": "overlay",
             "size": 10,
             "solidity": 0.2
            },
            "type": "scatter"
           }
          ],
          "scatter3d": [
           {
            "line": {
             "colorbar": {
              "outlinewidth": 0,
              "ticks": ""
             }
            },
            "marker": {
             "colorbar": {
              "outlinewidth": 0,
              "ticks": ""
             }
            },
            "type": "scatter3d"
           }
          ],
          "scattercarpet": [
           {
            "marker": {
             "colorbar": {
              "outlinewidth": 0,
              "ticks": ""
             }
            },
            "type": "scattercarpet"
           }
          ],
          "scattergeo": [
           {
            "marker": {
             "colorbar": {
              "outlinewidth": 0,
              "ticks": ""
             }
            },
            "type": "scattergeo"
           }
          ],
          "scattergl": [
           {
            "marker": {
             "colorbar": {
              "outlinewidth": 0,
              "ticks": ""
             }
            },
            "type": "scattergl"
           }
          ],
          "scattermapbox": [
           {
            "marker": {
             "colorbar": {
              "outlinewidth": 0,
              "ticks": ""
             }
            },
            "type": "scattermapbox"
           }
          ],
          "scatterpolar": [
           {
            "marker": {
             "colorbar": {
              "outlinewidth": 0,
              "ticks": ""
             }
            },
            "type": "scatterpolar"
           }
          ],
          "scatterpolargl": [
           {
            "marker": {
             "colorbar": {
              "outlinewidth": 0,
              "ticks": ""
             }
            },
            "type": "scatterpolargl"
           }
          ],
          "scatterternary": [
           {
            "marker": {
             "colorbar": {
              "outlinewidth": 0,
              "ticks": ""
             }
            },
            "type": "scatterternary"
           }
          ],
          "surface": [
           {
            "colorbar": {
             "outlinewidth": 0,
             "ticks": ""
            },
            "colorscale": [
             [
              0,
              "#0d0887"
             ],
             [
              0.1111111111111111,
              "#46039f"
             ],
             [
              0.2222222222222222,
              "#7201a8"
             ],
             [
              0.3333333333333333,
              "#9c179e"
             ],
             [
              0.4444444444444444,
              "#bd3786"
             ],
             [
              0.5555555555555556,
              "#d8576b"
             ],
             [
              0.6666666666666666,
              "#ed7953"
             ],
             [
              0.7777777777777778,
              "#fb9f3a"
             ],
             [
              0.8888888888888888,
              "#fdca26"
             ],
             [
              1,
              "#f0f921"
             ]
            ],
            "type": "surface"
           }
          ],
          "table": [
           {
            "cells": {
             "fill": {
              "color": "#EBF0F8"
             },
             "line": {
              "color": "white"
             }
            },
            "header": {
             "fill": {
              "color": "#C8D4E3"
             },
             "line": {
              "color": "white"
             }
            },
            "type": "table"
           }
          ]
         },
         "layout": {
          "annotationdefaults": {
           "arrowcolor": "#2a3f5f",
           "arrowhead": 0,
           "arrowwidth": 1
          },
          "autotypenumbers": "strict",
          "coloraxis": {
           "colorbar": {
            "outlinewidth": 0,
            "ticks": ""
           }
          },
          "colorscale": {
           "diverging": [
            [
             0,
             "#8e0152"
            ],
            [
             0.1,
             "#c51b7d"
            ],
            [
             0.2,
             "#de77ae"
            ],
            [
             0.3,
             "#f1b6da"
            ],
            [
             0.4,
             "#fde0ef"
            ],
            [
             0.5,
             "#f7f7f7"
            ],
            [
             0.6,
             "#e6f5d0"
            ],
            [
             0.7,
             "#b8e186"
            ],
            [
             0.8,
             "#7fbc41"
            ],
            [
             0.9,
             "#4d9221"
            ],
            [
             1,
             "#276419"
            ]
           ],
           "sequential": [
            [
             0,
             "#0d0887"
            ],
            [
             0.1111111111111111,
             "#46039f"
            ],
            [
             0.2222222222222222,
             "#7201a8"
            ],
            [
             0.3333333333333333,
             "#9c179e"
            ],
            [
             0.4444444444444444,
             "#bd3786"
            ],
            [
             0.5555555555555556,
             "#d8576b"
            ],
            [
             0.6666666666666666,
             "#ed7953"
            ],
            [
             0.7777777777777778,
             "#fb9f3a"
            ],
            [
             0.8888888888888888,
             "#fdca26"
            ],
            [
             1,
             "#f0f921"
            ]
           ],
           "sequentialminus": [
            [
             0,
             "#0d0887"
            ],
            [
             0.1111111111111111,
             "#46039f"
            ],
            [
             0.2222222222222222,
             "#7201a8"
            ],
            [
             0.3333333333333333,
             "#9c179e"
            ],
            [
             0.4444444444444444,
             "#bd3786"
            ],
            [
             0.5555555555555556,
             "#d8576b"
            ],
            [
             0.6666666666666666,
             "#ed7953"
            ],
            [
             0.7777777777777778,
             "#fb9f3a"
            ],
            [
             0.8888888888888888,
             "#fdca26"
            ],
            [
             1,
             "#f0f921"
            ]
           ]
          },
          "colorway": [
           "#636efa",
           "#EF553B",
           "#00cc96",
           "#ab63fa",
           "#FFA15A",
           "#19d3f3",
           "#FF6692",
           "#B6E880",
           "#FF97FF",
           "#FECB52"
          ],
          "font": {
           "color": "#2a3f5f"
          },
          "geo": {
           "bgcolor": "white",
           "lakecolor": "white",
           "landcolor": "#E5ECF6",
           "showlakes": true,
           "showland": true,
           "subunitcolor": "white"
          },
          "hoverlabel": {
           "align": "left"
          },
          "hovermode": "closest",
          "mapbox": {
           "style": "light"
          },
          "paper_bgcolor": "white",
          "plot_bgcolor": "#E5ECF6",
          "polar": {
           "angularaxis": {
            "gridcolor": "white",
            "linecolor": "white",
            "ticks": ""
           },
           "bgcolor": "#E5ECF6",
           "radialaxis": {
            "gridcolor": "white",
            "linecolor": "white",
            "ticks": ""
           }
          },
          "scene": {
           "xaxis": {
            "backgroundcolor": "#E5ECF6",
            "gridcolor": "white",
            "gridwidth": 2,
            "linecolor": "white",
            "showbackground": true,
            "ticks": "",
            "zerolinecolor": "white"
           },
           "yaxis": {
            "backgroundcolor": "#E5ECF6",
            "gridcolor": "white",
            "gridwidth": 2,
            "linecolor": "white",
            "showbackground": true,
            "ticks": "",
            "zerolinecolor": "white"
           },
           "zaxis": {
            "backgroundcolor": "#E5ECF6",
            "gridcolor": "white",
            "gridwidth": 2,
            "linecolor": "white",
            "showbackground": true,
            "ticks": "",
            "zerolinecolor": "white"
           }
          },
          "shapedefaults": {
           "line": {
            "color": "#2a3f5f"
           }
          },
          "ternary": {
           "aaxis": {
            "gridcolor": "white",
            "linecolor": "white",
            "ticks": ""
           },
           "baxis": {
            "gridcolor": "white",
            "linecolor": "white",
            "ticks": ""
           },
           "bgcolor": "#E5ECF6",
           "caxis": {
            "gridcolor": "white",
            "linecolor": "white",
            "ticks": ""
           }
          },
          "title": {
           "x": 0.05
          },
          "xaxis": {
           "automargin": true,
           "gridcolor": "white",
           "linecolor": "white",
           "ticks": "",
           "title": {
            "standoff": 15
           },
           "zerolinecolor": "white",
           "zerolinewidth": 2
          },
          "yaxis": {
           "automargin": true,
           "gridcolor": "white",
           "linecolor": "white",
           "ticks": "",
           "title": {
            "standoff": 15
           },
           "zerolinecolor": "white",
           "zerolinewidth": 2
          }
         }
        },
        "title": {
         "text": "Comparison of joular data and 'cbo' metric for repository commons-configuration"
        },
        "xaxis": {
         "anchor": "y",
         "domain": [
          0,
          0.94
         ]
        },
        "yaxis": {
         "anchor": "x",
         "domain": [
          0,
          1
         ]
        },
        "yaxis2": {
         "anchor": "x",
         "overlaying": "y",
         "side": "right"
        }
       }
      }
     },
     "metadata": {},
     "output_type": "display_data"
    },
    {
     "data": {
      "application/vnd.plotly.v1+json": {
       "config": {
        "plotlyServerURL": "https://plot.ly"
       },
       "data": [
        {
         "legendgroup": "boxplots",
         "marker": {
          "color": "rgb(252,141,98)"
         },
         "name": "setUpDataSource/0",
         "type": "box",
         "xaxis": "x",
         "y": [
          104.258995,
          106.782,
          105.0801,
          91.6607,
          93.9621,
          104.3268,
          97.3097,
          110.6919,
          96.2922,
          113.2199,
          106.6211,
          98.7757,
          92.5542,
          94.4055,
          90.966,
          82.4212,
          89.6111,
          97.71921,
          97.4402,
          117.047195,
          114.3917,
          104.01759,
          88.2087,
          101.0553,
          93.2793,
          111.8563,
          112.820595,
          111.2415,
          113.444695,
          94.1346
         ],
         "yaxis": "y2"
        },
        {
         "legendgroup": "barcharts",
         "marker": {
          "color": "rgb(141,160,203)"
         },
         "name": "wmc",
         "type": "bar",
         "x": [
          "setUpDataSource/0"
         ],
         "y": [
          2
         ]
        },
        {
         "legendgroup": "boxplots",
         "marker": {
          "color": "rgb(252,141,98)"
         },
         "name": "transform/3[javax.xml.transfor",
         "type": "box",
         "xaxis": "x",
         "y": [
          46.3576,
          109.8463,
          36.3418,
          42.8423,
          47.6707,
          39.604,
          121.9423,
          66.7676,
          34.4446,
          104.4137,
          29.5514,
          81.6877,
          111.716,
          138.352,
          58.8732,
          49.3485,
          37.7012,
          52.4831,
          58.6303,
          91.8612,
          69.4049,
          43.8193,
          22.4099,
          26.2092,
          57.0808,
          111.914,
          53.0701,
          54.5148,
          81.8963,
          103.1982
         ],
         "yaxis": "y2"
        },
        {
         "legendgroup": "barcharts",
         "marker": {
          "color": "rgb(141,160,203)"
         },
         "name": "wmc",
         "type": "bar",
         "x": [
          "transform/3[javax.xml.transfor"
         ],
         "y": [
          2
         ]
        },
        {
         "legendgroup": "boxplots",
         "marker": {
          "color": "rgb(252,141,98)"
         },
         "name": "getManager/0",
         "type": "box",
         "xaxis": "x",
         "y": [
          23.9265,
          18.7163,
          7.1743,
          10.8335,
          19.9424,
          5.2071,
          21.9985,
          26.1884,
          4.7612,
          7.7014,
          25.7391,
          15.8211,
          7.35,
          21.6847,
          4.5831,
          8.3065,
          8.8536,
          9.1654,
          29.1509,
          8.5373,
          16.0034,
          35.6843,
          8.9282,
          6.8742,
          7.5263,
          10.2789,
          30.3846,
          23.9239,
          20.4448,
          32.1982
         ],
         "yaxis": "y2"
        },
        {
         "legendgroup": "barcharts",
         "marker": {
          "color": "rgb(141,160,203)"
         },
         "name": "wmc",
         "type": "bar",
         "x": [
          "getManager/0"
         ],
         "y": [
          1
         ]
        },
        {
         "legendgroup": "boxplots",
         "marker": {
          "color": "rgb(252,141,98)"
         },
         "name": "loadSqlFile/1[java.lang.String",
         "type": "box",
         "xaxis": "x",
         "y": [
          12.6615,
          9.3894005,
          20.323502,
          15.4507,
          15.6214,
          6.1289,
          14.0414,
          13.3248,
          11.632,
          11.9582,
          17.9923,
          12.4935,
          9.0121,
          15.9471,
          8.3913,
          17.5376,
          13.5859,
          13.1959,
          11.4924,
          13.6917,
          21.4995,
          18.9785,
          6.7974,
          11.9548,
          6.0017,
          9.9466,
          14.992201,
          15.3273,
          17.8593,
          8.9992
         ],
         "yaxis": "y2"
        },
        {
         "legendgroup": "barcharts",
         "marker": {
          "color": "rgb(141,160,203)"
         },
         "name": "wmc",
         "type": "bar",
         "x": [
          "loadSqlFile/1[java.lang.String"
         ],
         "y": [
          3
         ]
        },
        {
         "legendgroup": "boxplots",
         "marker": {
          "color": "rgb(252,141,98)"
         },
         "name": "locateFromURL/2[java.lang.Stri",
         "type": "box",
         "xaxis": "x",
         "y": [
          11.0672,
          20.2593,
          5.571,
          5.8637,
          9.6446,
          4.3978,
          18.0782,
          1.3275,
          2.1194,
          10.252399,
          3.5566,
          2.8361,
          1.0138,
          18.8983,
          19.0955,
          8.4811,
          16.594599,
          12.187201,
          3.8268,
          5.541,
          15.9091,
          8.6351,
          2.973,
          6.5249004,
          21.1179,
          13.1322,
          2.0673,
          18.4164,
          3.8851,
          14.0255
         ],
         "yaxis": "y2"
        },
        {
         "legendgroup": "barcharts",
         "marker": {
          "color": "rgb(141,160,203)"
         },
         "name": "wmc",
         "type": "bar",
         "x": [
          "locateFromURL/2[java.lang.Stri"
         ],
         "y": [
          4
         ]
        },
        {
         "legendgroup": "boxplots",
         "marker": {
          "color": "rgb(252,141,98)"
         },
         "name": "read/1[java.io.Reader]",
         "type": "box",
         "xaxis": "x",
         "y": [
          9.6674,
          14.780601,
          12.5758,
          5.2468,
          16.6215,
          11.462999,
          7.6980996,
          6.4646,
          17.3935,
          12.6628,
          11.9888,
          14.5418005,
          8.0092,
          8.709001,
          8.9325,
          15.2209,
          6.1025996,
          15.0361,
          5.4292,
          8.9566,
          12.5739,
          26.6829,
          3.8706,
          16.792,
          4.2200003,
          24.259,
          15.0213,
          11.512501,
          2.0202,
          3.5456
         ],
         "yaxis": "y2"
        },
        {
         "legendgroup": "barcharts",
         "marker": {
          "color": "rgb(141,160,203)"
         },
         "name": "wmc",
         "type": "bar",
         "x": [
          "read/1[java.io.Reader]"
         ],
         "y": [
          2
         ]
        },
        {
         "legendgroup": "boxplots",
         "marker": {
          "color": "rgb(252,141,98)"
         },
         "name": "isPropertyWriteable/2[java.lan",
         "type": "box",
         "xaxis": "x",
         "y": [
          4.9436,
          9.8831,
          14.369,
          23.5889,
          13.732,
          9.8009,
          15.644,
          14.71,
          6.5246,
          12.6703,
          20.6358,
          4.7508,
          9.7677,
          18.819,
          7.6239,
          12.4709,
          6.2813,
          13.4501,
          4.3439,
          2.6321,
          4.6681,
          14.5728,
          9.1498,
          5.658,
          7.7699,
          10.1562,
          10.3274,
          15.8978,
          10.2909,
          8.4144
         ],
         "yaxis": "y2"
        },
        {
         "legendgroup": "barcharts",
         "marker": {
          "color": "rgb(141,160,203)"
         },
         "name": "wmc",
         "type": "bar",
         "x": [
          "isPropertyWriteable/2[java.lan"
         ],
         "y": [
          1
         ]
        },
        {
         "legendgroup": "boxplots",
         "marker": {
          "color": "rgb(252,141,98)"
         },
         "name": "read/1[java.io.Reader]",
         "type": "box",
         "xaxis": "x",
         "y": [
          2.1401,
          3.1755,
          3.6651,
          3.1089,
          3.1366,
          2.047,
          2.1138,
          2.6549,
          3.1636,
          3.4037,
          3.1783,
          2.1381,
          3.1042,
          3.1572,
          3.1609,
          2.0108,
          2.2251,
          3.5321,
          3.0993,
          3.7208,
          3.9496,
          2.3715,
          2.0325,
          1.076,
          2.1024,
          4.2943,
          2.6186,
          2.2174,
          3.7884,
          3.1046
         ],
         "yaxis": "y2"
        },
        {
         "legendgroup": "barcharts",
         "marker": {
          "color": "rgb(141,160,203)"
         },
         "name": "wmc",
         "type": "bar",
         "x": [
          "read/1[java.io.Reader]"
         ],
         "y": [
          2
         ]
        }
       ],
       "layout": {
        "legend": {
         "traceorder": "normal"
        },
        "template": {
         "data": {
          "bar": [
           {
            "error_x": {
             "color": "#2a3f5f"
            },
            "error_y": {
             "color": "#2a3f5f"
            },
            "marker": {
             "line": {
              "color": "#E5ECF6",
              "width": 0.5
             },
             "pattern": {
              "fillmode": "overlay",
              "size": 10,
              "solidity": 0.2
             }
            },
            "type": "bar"
           }
          ],
          "barpolar": [
           {
            "marker": {
             "line": {
              "color": "#E5ECF6",
              "width": 0.5
             },
             "pattern": {
              "fillmode": "overlay",
              "size": 10,
              "solidity": 0.2
             }
            },
            "type": "barpolar"
           }
          ],
          "carpet": [
           {
            "aaxis": {
             "endlinecolor": "#2a3f5f",
             "gridcolor": "white",
             "linecolor": "white",
             "minorgridcolor": "white",
             "startlinecolor": "#2a3f5f"
            },
            "baxis": {
             "endlinecolor": "#2a3f5f",
             "gridcolor": "white",
             "linecolor": "white",
             "minorgridcolor": "white",
             "startlinecolor": "#2a3f5f"
            },
            "type": "carpet"
           }
          ],
          "choropleth": [
           {
            "colorbar": {
             "outlinewidth": 0,
             "ticks": ""
            },
            "type": "choropleth"
           }
          ],
          "contour": [
           {
            "colorbar": {
             "outlinewidth": 0,
             "ticks": ""
            },
            "colorscale": [
             [
              0,
              "#0d0887"
             ],
             [
              0.1111111111111111,
              "#46039f"
             ],
             [
              0.2222222222222222,
              "#7201a8"
             ],
             [
              0.3333333333333333,
              "#9c179e"
             ],
             [
              0.4444444444444444,
              "#bd3786"
             ],
             [
              0.5555555555555556,
              "#d8576b"
             ],
             [
              0.6666666666666666,
              "#ed7953"
             ],
             [
              0.7777777777777778,
              "#fb9f3a"
             ],
             [
              0.8888888888888888,
              "#fdca26"
             ],
             [
              1,
              "#f0f921"
             ]
            ],
            "type": "contour"
           }
          ],
          "contourcarpet": [
           {
            "colorbar": {
             "outlinewidth": 0,
             "ticks": ""
            },
            "type": "contourcarpet"
           }
          ],
          "heatmap": [
           {
            "colorbar": {
             "outlinewidth": 0,
             "ticks": ""
            },
            "colorscale": [
             [
              0,
              "#0d0887"
             ],
             [
              0.1111111111111111,
              "#46039f"
             ],
             [
              0.2222222222222222,
              "#7201a8"
             ],
             [
              0.3333333333333333,
              "#9c179e"
             ],
             [
              0.4444444444444444,
              "#bd3786"
             ],
             [
              0.5555555555555556,
              "#d8576b"
             ],
             [
              0.6666666666666666,
              "#ed7953"
             ],
             [
              0.7777777777777778,
              "#fb9f3a"
             ],
             [
              0.8888888888888888,
              "#fdca26"
             ],
             [
              1,
              "#f0f921"
             ]
            ],
            "type": "heatmap"
           }
          ],
          "heatmapgl": [
           {
            "colorbar": {
             "outlinewidth": 0,
             "ticks": ""
            },
            "colorscale": [
             [
              0,
              "#0d0887"
             ],
             [
              0.1111111111111111,
              "#46039f"
             ],
             [
              0.2222222222222222,
              "#7201a8"
             ],
             [
              0.3333333333333333,
              "#9c179e"
             ],
             [
              0.4444444444444444,
              "#bd3786"
             ],
             [
              0.5555555555555556,
              "#d8576b"
             ],
             [
              0.6666666666666666,
              "#ed7953"
             ],
             [
              0.7777777777777778,
              "#fb9f3a"
             ],
             [
              0.8888888888888888,
              "#fdca26"
             ],
             [
              1,
              "#f0f921"
             ]
            ],
            "type": "heatmapgl"
           }
          ],
          "histogram": [
           {
            "marker": {
             "pattern": {
              "fillmode": "overlay",
              "size": 10,
              "solidity": 0.2
             }
            },
            "type": "histogram"
           }
          ],
          "histogram2d": [
           {
            "colorbar": {
             "outlinewidth": 0,
             "ticks": ""
            },
            "colorscale": [
             [
              0,
              "#0d0887"
             ],
             [
              0.1111111111111111,
              "#46039f"
             ],
             [
              0.2222222222222222,
              "#7201a8"
             ],
             [
              0.3333333333333333,
              "#9c179e"
             ],
             [
              0.4444444444444444,
              "#bd3786"
             ],
             [
              0.5555555555555556,
              "#d8576b"
             ],
             [
              0.6666666666666666,
              "#ed7953"
             ],
             [
              0.7777777777777778,
              "#fb9f3a"
             ],
             [
              0.8888888888888888,
              "#fdca26"
             ],
             [
              1,
              "#f0f921"
             ]
            ],
            "type": "histogram2d"
           }
          ],
          "histogram2dcontour": [
           {
            "colorbar": {
             "outlinewidth": 0,
             "ticks": ""
            },
            "colorscale": [
             [
              0,
              "#0d0887"
             ],
             [
              0.1111111111111111,
              "#46039f"
             ],
             [
              0.2222222222222222,
              "#7201a8"
             ],
             [
              0.3333333333333333,
              "#9c179e"
             ],
             [
              0.4444444444444444,
              "#bd3786"
             ],
             [
              0.5555555555555556,
              "#d8576b"
             ],
             [
              0.6666666666666666,
              "#ed7953"
             ],
             [
              0.7777777777777778,
              "#fb9f3a"
             ],
             [
              0.8888888888888888,
              "#fdca26"
             ],
             [
              1,
              "#f0f921"
             ]
            ],
            "type": "histogram2dcontour"
           }
          ],
          "mesh3d": [
           {
            "colorbar": {
             "outlinewidth": 0,
             "ticks": ""
            },
            "type": "mesh3d"
           }
          ],
          "parcoords": [
           {
            "line": {
             "colorbar": {
              "outlinewidth": 0,
              "ticks": ""
             }
            },
            "type": "parcoords"
           }
          ],
          "pie": [
           {
            "automargin": true,
            "type": "pie"
           }
          ],
          "scatter": [
           {
            "fillpattern": {
             "fillmode": "overlay",
             "size": 10,
             "solidity": 0.2
            },
            "type": "scatter"
           }
          ],
          "scatter3d": [
           {
            "line": {
             "colorbar": {
              "outlinewidth": 0,
              "ticks": ""
             }
            },
            "marker": {
             "colorbar": {
              "outlinewidth": 0,
              "ticks": ""
             }
            },
            "type": "scatter3d"
           }
          ],
          "scattercarpet": [
           {
            "marker": {
             "colorbar": {
              "outlinewidth": 0,
              "ticks": ""
             }
            },
            "type": "scattercarpet"
           }
          ],
          "scattergeo": [
           {
            "marker": {
             "colorbar": {
              "outlinewidth": 0,
              "ticks": ""
             }
            },
            "type": "scattergeo"
           }
          ],
          "scattergl": [
           {
            "marker": {
             "colorbar": {
              "outlinewidth": 0,
              "ticks": ""
             }
            },
            "type": "scattergl"
           }
          ],
          "scattermapbox": [
           {
            "marker": {
             "colorbar": {
              "outlinewidth": 0,
              "ticks": ""
             }
            },
            "type": "scattermapbox"
           }
          ],
          "scatterpolar": [
           {
            "marker": {
             "colorbar": {
              "outlinewidth": 0,
              "ticks": ""
             }
            },
            "type": "scatterpolar"
           }
          ],
          "scatterpolargl": [
           {
            "marker": {
             "colorbar": {
              "outlinewidth": 0,
              "ticks": ""
             }
            },
            "type": "scatterpolargl"
           }
          ],
          "scatterternary": [
           {
            "marker": {
             "colorbar": {
              "outlinewidth": 0,
              "ticks": ""
             }
            },
            "type": "scatterternary"
           }
          ],
          "surface": [
           {
            "colorbar": {
             "outlinewidth": 0,
             "ticks": ""
            },
            "colorscale": [
             [
              0,
              "#0d0887"
             ],
             [
              0.1111111111111111,
              "#46039f"
             ],
             [
              0.2222222222222222,
              "#7201a8"
             ],
             [
              0.3333333333333333,
              "#9c179e"
             ],
             [
              0.4444444444444444,
              "#bd3786"
             ],
             [
              0.5555555555555556,
              "#d8576b"
             ],
             [
              0.6666666666666666,
              "#ed7953"
             ],
             [
              0.7777777777777778,
              "#fb9f3a"
             ],
             [
              0.8888888888888888,
              "#fdca26"
             ],
             [
              1,
              "#f0f921"
             ]
            ],
            "type": "surface"
           }
          ],
          "table": [
           {
            "cells": {
             "fill": {
              "color": "#EBF0F8"
             },
             "line": {
              "color": "white"
             }
            },
            "header": {
             "fill": {
              "color": "#C8D4E3"
             },
             "line": {
              "color": "white"
             }
            },
            "type": "table"
           }
          ]
         },
         "layout": {
          "annotationdefaults": {
           "arrowcolor": "#2a3f5f",
           "arrowhead": 0,
           "arrowwidth": 1
          },
          "autotypenumbers": "strict",
          "coloraxis": {
           "colorbar": {
            "outlinewidth": 0,
            "ticks": ""
           }
          },
          "colorscale": {
           "diverging": [
            [
             0,
             "#8e0152"
            ],
            [
             0.1,
             "#c51b7d"
            ],
            [
             0.2,
             "#de77ae"
            ],
            [
             0.3,
             "#f1b6da"
            ],
            [
             0.4,
             "#fde0ef"
            ],
            [
             0.5,
             "#f7f7f7"
            ],
            [
             0.6,
             "#e6f5d0"
            ],
            [
             0.7,
             "#b8e186"
            ],
            [
             0.8,
             "#7fbc41"
            ],
            [
             0.9,
             "#4d9221"
            ],
            [
             1,
             "#276419"
            ]
           ],
           "sequential": [
            [
             0,
             "#0d0887"
            ],
            [
             0.1111111111111111,
             "#46039f"
            ],
            [
             0.2222222222222222,
             "#7201a8"
            ],
            [
             0.3333333333333333,
             "#9c179e"
            ],
            [
             0.4444444444444444,
             "#bd3786"
            ],
            [
             0.5555555555555556,
             "#d8576b"
            ],
            [
             0.6666666666666666,
             "#ed7953"
            ],
            [
             0.7777777777777778,
             "#fb9f3a"
            ],
            [
             0.8888888888888888,
             "#fdca26"
            ],
            [
             1,
             "#f0f921"
            ]
           ],
           "sequentialminus": [
            [
             0,
             "#0d0887"
            ],
            [
             0.1111111111111111,
             "#46039f"
            ],
            [
             0.2222222222222222,
             "#7201a8"
            ],
            [
             0.3333333333333333,
             "#9c179e"
            ],
            [
             0.4444444444444444,
             "#bd3786"
            ],
            [
             0.5555555555555556,
             "#d8576b"
            ],
            [
             0.6666666666666666,
             "#ed7953"
            ],
            [
             0.7777777777777778,
             "#fb9f3a"
            ],
            [
             0.8888888888888888,
             "#fdca26"
            ],
            [
             1,
             "#f0f921"
            ]
           ]
          },
          "colorway": [
           "#636efa",
           "#EF553B",
           "#00cc96",
           "#ab63fa",
           "#FFA15A",
           "#19d3f3",
           "#FF6692",
           "#B6E880",
           "#FF97FF",
           "#FECB52"
          ],
          "font": {
           "color": "#2a3f5f"
          },
          "geo": {
           "bgcolor": "white",
           "lakecolor": "white",
           "landcolor": "#E5ECF6",
           "showlakes": true,
           "showland": true,
           "subunitcolor": "white"
          },
          "hoverlabel": {
           "align": "left"
          },
          "hovermode": "closest",
          "mapbox": {
           "style": "light"
          },
          "paper_bgcolor": "white",
          "plot_bgcolor": "#E5ECF6",
          "polar": {
           "angularaxis": {
            "gridcolor": "white",
            "linecolor": "white",
            "ticks": ""
           },
           "bgcolor": "#E5ECF6",
           "radialaxis": {
            "gridcolor": "white",
            "linecolor": "white",
            "ticks": ""
           }
          },
          "scene": {
           "xaxis": {
            "backgroundcolor": "#E5ECF6",
            "gridcolor": "white",
            "gridwidth": 2,
            "linecolor": "white",
            "showbackground": true,
            "ticks": "",
            "zerolinecolor": "white"
           },
           "yaxis": {
            "backgroundcolor": "#E5ECF6",
            "gridcolor": "white",
            "gridwidth": 2,
            "linecolor": "white",
            "showbackground": true,
            "ticks": "",
            "zerolinecolor": "white"
           },
           "zaxis": {
            "backgroundcolor": "#E5ECF6",
            "gridcolor": "white",
            "gridwidth": 2,
            "linecolor": "white",
            "showbackground": true,
            "ticks": "",
            "zerolinecolor": "white"
           }
          },
          "shapedefaults": {
           "line": {
            "color": "#2a3f5f"
           }
          },
          "ternary": {
           "aaxis": {
            "gridcolor": "white",
            "linecolor": "white",
            "ticks": ""
           },
           "baxis": {
            "gridcolor": "white",
            "linecolor": "white",
            "ticks": ""
           },
           "bgcolor": "#E5ECF6",
           "caxis": {
            "gridcolor": "white",
            "linecolor": "white",
            "ticks": ""
           }
          },
          "title": {
           "x": 0.05
          },
          "xaxis": {
           "automargin": true,
           "gridcolor": "white",
           "linecolor": "white",
           "ticks": "",
           "title": {
            "standoff": 15
           },
           "zerolinecolor": "white",
           "zerolinewidth": 2
          },
          "yaxis": {
           "automargin": true,
           "gridcolor": "white",
           "linecolor": "white",
           "ticks": "",
           "title": {
            "standoff": 15
           },
           "zerolinecolor": "white",
           "zerolinewidth": 2
          }
         }
        },
        "title": {
         "text": "Comparison of joular data and 'wmc' metric for repository commons-configuration"
        },
        "xaxis": {
         "anchor": "y",
         "domain": [
          0,
          0.94
         ]
        },
        "yaxis": {
         "anchor": "x",
         "domain": [
          0,
          1
         ]
        },
        "yaxis2": {
         "anchor": "x",
         "overlaying": "y",
         "side": "right"
        }
       }
      }
     },
     "metadata": {},
     "output_type": "display_data"
    }
   ],
   "source": [
    "allCommitSha = [\"066f4cf207359e06d30911a553dedd054aef595c\", \"5c9d8989f968d0ee3a942b411ef7fe121ed94609\", \"12442bd8c7cde6e7c006a6277eeb8e81ad0c2219\", \"3ed1f1a064a10e53adc2ad8c0b46a4b2c148ee21\", \"59e5152722198526c6ffe5361de7d1a6a87275c7\"]\n",
    "#allCommitSha = [\"066f4cf207359e06d30911a553dedd054aef595c\"]\n",
    "allowedCkMetrics = [\"cbo\", \"loc\", \"wmc\"]\n",
    "\n",
    "for sha in allCommitSha:\n",
    "    joularDataRepo = getAllJoularDataForMethodsHaving30Values(sha)\n",
    "    sortedJoularDataRepo = sortData(joularDataRepo)\n",
    "    joularDataRepoWithoutOutliers = removeOutliers(sortedJoularDataRepo)\n",
    "    #createViolinJoular(dataRepoWithoutOutliers)\n",
    "    joularDataRepoWithoutOutliers = getTheFirstHighestValues(joularDataRepoWithoutOutliers, 8)\n",
    "    #createMultipleBoxplot(joularDataRepoWithoutOutliers)\n",
    "    #createViolinJoular(dataRepoWithoutOutliers, \"Class\", \"outliers\")\n",
    "\n",
    "    dataframe = createJoularAndCkDataframe(joularDataRepoWithoutOutliers, sha, allowedCkMetrics)\n",
    "    print(dataframe)\n",
    "    createFigure(dataframe, \"loc\", joularDataRepoWithoutOutliers[0][\"commit\"][\"repository\"][\"name\"])\n",
    "    createFigure(dataframe, \"cbo\", joularDataRepoWithoutOutliers[0][\"commit\"][\"repository\"][\"name\"])\n",
    "    createFigure(dataframe, \"wmc\", joularDataRepoWithoutOutliers[0][\"commit\"][\"repository\"][\"name\"])\n",
    "\n",
    "\n",
    "    \"\"\"for data in dataRepoWithoutOutliers:\n",
    "        print(data)\n",
    "        className = data[\"measurableElement\"][\"className\"]\n",
    "        methodSignature = data[\"measurableElement\"][\"methodSignature\"]\n",
    "        \n",
    "        # JOULAR DATA\n",
    "        joularData = data[\"allValues\"]\n",
    "        joularDataFrame = prepareJoularDataFrame(joularData)\n",
    "        figBoxPlot = createBoxplot(joularDataFrame, \"Joular values for \" + methodSignature + \" (\" + className + \")\")\n",
    "\n",
    "        # CK DATA\n",
    "        ckValues = getSeveralCkDataForOneMethod(commitSha=sha, className=className, methodSignature=methodSignature, ckMetrics=allowedCkMetrics)\n",
    "        ckDataFrame = prepareCkDataFrame(ckValues)\n",
    "        figBarChart = createBarChart(ckDataFrame, \"Metric\", \"Value\", \"Ck metrics for \" + methodSignature + \" (\" + className + \")\")\n",
    "\n",
    "        # SUB PLOT\n",
    "        title = \"Method \" + methodSignature + \" of the class \" + className\n",
    "        createSubplot(figBoxPlot, figBarChart, title)\"\"\"\n"
   ]
  },
  {
   "cell_type": "markdown",
   "id": "135c15c9",
   "metadata": {},
   "source": [
    "# Test "
   ]
  },
  {
   "cell_type": "code",
   "execution_count": 31,
   "id": "b2e76a1d",
   "metadata": {},
   "outputs": [],
   "source": [
    "def getJoularDataFromOneMethodFromOneCommit(commitSha, className, methodSignature):\n",
    "    URL = BASE_URL + \"/joular-entities/by-commit-and-ast-elem/\" + commitSha\n",
    "    PARAMS = {\"className\":className, \"methodSignature\":methodSignature}\n",
    "    r = requests.get(url = URL, params = PARAMS)\n",
    "    return r.json()"
   ]
  },
  {
   "cell_type": "code",
   "execution_count": 32,
   "id": "e31a2951",
   "metadata": {},
   "outputs": [],
   "source": [
    "def getCkDataFromOneCommit(commitSha, astElem, className, methodSignature=None):\n",
    "    URL = BASE_URL + \"/ck-entities/by-commit-and-ast-elem/\" + commitSha\n",
    "    if methodSignature != None:\n",
    "        PARAMS = {\"astElem\": astElem, \"className\":className, \"methodSignature\":methodSignature}\n",
    "    else:\n",
    "        PARAMS = {\"astElem\": astElem, \"className\":className}\n",
    "    r = requests.get(url = URL, params = PARAMS)\n",
    "    return r.json()"
   ]
  },
  {
   "cell_type": "code",
   "execution_count": 33,
   "id": "bddfb070",
   "metadata": {},
   "outputs": [],
   "source": [
    "def createJoularBoxplot(commitSha, className, methodSignature):\n",
    "    data = getJoularDataFromOneMethodFromOneCommit(commitSha, className, methodSignature)\n",
    "    values = [item[\"value\"] for item in data[\"content\"] if item[\"value\"] > 0]\n",
    "    df = pd.DataFrame({\"value\":values})\n",
    "    fig = px.box(df, y=\"value\", title=\"Joular values for \" + methodSignature, points='all')\n",
    "    fig.show()"
   ]
  },
  {
   "cell_type": "code",
   "execution_count": 34,
   "id": "a4900258",
   "metadata": {},
   "outputs": [],
   "source": [
    "def createCkBarChart(commitSha, astElem, className, methodSignature):\n",
    "    NAMES = [\"wmc\", \"cbo\", \"cboModified\", \"loc\", \"fanin\", \"fanout\"]\n",
    "    data = getCkDataFromOneCommit(commitSha, astElem, className, methodSignature)\n",
    "    values = {item[\"name\"]:item[\"value\"] for item in data[\"content\"] if item[\"name\"] in NAMES}\n",
    "    df = pd.DataFrame(list(values.items()), columns=[\"Metric\", \"Value\"])\n",
    "    fig = px.bar(df, x=\"Metric\", y=\"Value\", title=\"Ck metrics for \" + methodSignature)\n",
    "    fig.show()"
   ]
  },
  {
   "cell_type": "code",
   "execution_count": 35,
   "id": "b65d1f00",
   "metadata": {},
   "outputs": [],
   "source": [
    "def createBoxplotAndBarChart(commitSha, astElem, className, methodSignature):\n",
    "    createJoularBoxplot(commitSha, className, methodSignature)\n",
    "    createCkBarChart(commitSha, astElem, className, methodSignature)"
   ]
  },
  {
   "cell_type": "code",
   "execution_count": 36,
   "id": "c18fcf08",
   "metadata": {},
   "outputs": [
    {
     "ename": "JSONDecodeError",
     "evalue": "Expecting value: line 1 column 1 (char 0)",
     "output_type": "error",
     "traceback": [
      "\u001b[0;31m---------------------------------------------------------------------------\u001b[0m",
      "\u001b[0;31mJSONDecodeError\u001b[0m                           Traceback (most recent call last)",
      "\u001b[0;32m~/anaconda3/lib/python3.9/site-packages/requests/models.py\u001b[0m in \u001b[0;36mjson\u001b[0;34m(self, **kwargs)\u001b[0m\n\u001b[1;32m    970\u001b[0m         \u001b[0;32mtry\u001b[0m\u001b[0;34m:\u001b[0m\u001b[0;34m\u001b[0m\u001b[0;34m\u001b[0m\u001b[0m\n\u001b[0;32m--> 971\u001b[0;31m             \u001b[0;32mreturn\u001b[0m \u001b[0mcomplexjson\u001b[0m\u001b[0;34m.\u001b[0m\u001b[0mloads\u001b[0m\u001b[0;34m(\u001b[0m\u001b[0mself\u001b[0m\u001b[0;34m.\u001b[0m\u001b[0mtext\u001b[0m\u001b[0;34m,\u001b[0m \u001b[0;34m**\u001b[0m\u001b[0mkwargs\u001b[0m\u001b[0;34m)\u001b[0m\u001b[0;34m\u001b[0m\u001b[0;34m\u001b[0m\u001b[0m\n\u001b[0m\u001b[1;32m    972\u001b[0m         \u001b[0;32mexcept\u001b[0m \u001b[0mJSONDecodeError\u001b[0m \u001b[0;32mas\u001b[0m \u001b[0me\u001b[0m\u001b[0;34m:\u001b[0m\u001b[0;34m\u001b[0m\u001b[0;34m\u001b[0m\u001b[0m\n",
      "\u001b[0;32m~/anaconda3/lib/python3.9/json/__init__.py\u001b[0m in \u001b[0;36mloads\u001b[0;34m(s, cls, object_hook, parse_float, parse_int, parse_constant, object_pairs_hook, **kw)\u001b[0m\n\u001b[1;32m    345\u001b[0m             parse_constant is None and object_pairs_hook is None and not kw):\n\u001b[0;32m--> 346\u001b[0;31m         \u001b[0;32mreturn\u001b[0m \u001b[0m_default_decoder\u001b[0m\u001b[0;34m.\u001b[0m\u001b[0mdecode\u001b[0m\u001b[0;34m(\u001b[0m\u001b[0ms\u001b[0m\u001b[0;34m)\u001b[0m\u001b[0;34m\u001b[0m\u001b[0;34m\u001b[0m\u001b[0m\n\u001b[0m\u001b[1;32m    347\u001b[0m     \u001b[0;32mif\u001b[0m \u001b[0mcls\u001b[0m \u001b[0;32mis\u001b[0m \u001b[0;32mNone\u001b[0m\u001b[0;34m:\u001b[0m\u001b[0;34m\u001b[0m\u001b[0;34m\u001b[0m\u001b[0m\n",
      "\u001b[0;32m~/anaconda3/lib/python3.9/json/decoder.py\u001b[0m in \u001b[0;36mdecode\u001b[0;34m(self, s, _w)\u001b[0m\n\u001b[1;32m    336\u001b[0m         \"\"\"\n\u001b[0;32m--> 337\u001b[0;31m         \u001b[0mobj\u001b[0m\u001b[0;34m,\u001b[0m \u001b[0mend\u001b[0m \u001b[0;34m=\u001b[0m \u001b[0mself\u001b[0m\u001b[0;34m.\u001b[0m\u001b[0mraw_decode\u001b[0m\u001b[0;34m(\u001b[0m\u001b[0ms\u001b[0m\u001b[0;34m,\u001b[0m \u001b[0midx\u001b[0m\u001b[0;34m=\u001b[0m\u001b[0m_w\u001b[0m\u001b[0;34m(\u001b[0m\u001b[0ms\u001b[0m\u001b[0;34m,\u001b[0m \u001b[0;36m0\u001b[0m\u001b[0;34m)\u001b[0m\u001b[0;34m.\u001b[0m\u001b[0mend\u001b[0m\u001b[0;34m(\u001b[0m\u001b[0;34m)\u001b[0m\u001b[0;34m)\u001b[0m\u001b[0;34m\u001b[0m\u001b[0;34m\u001b[0m\u001b[0m\n\u001b[0m\u001b[1;32m    338\u001b[0m         \u001b[0mend\u001b[0m \u001b[0;34m=\u001b[0m \u001b[0m_w\u001b[0m\u001b[0;34m(\u001b[0m\u001b[0ms\u001b[0m\u001b[0;34m,\u001b[0m \u001b[0mend\u001b[0m\u001b[0;34m)\u001b[0m\u001b[0;34m.\u001b[0m\u001b[0mend\u001b[0m\u001b[0;34m(\u001b[0m\u001b[0;34m)\u001b[0m\u001b[0;34m\u001b[0m\u001b[0;34m\u001b[0m\u001b[0m\n",
      "\u001b[0;32m~/anaconda3/lib/python3.9/json/decoder.py\u001b[0m in \u001b[0;36mraw_decode\u001b[0;34m(self, s, idx)\u001b[0m\n\u001b[1;32m    354\u001b[0m         \u001b[0;32mexcept\u001b[0m \u001b[0mStopIteration\u001b[0m \u001b[0;32mas\u001b[0m \u001b[0merr\u001b[0m\u001b[0;34m:\u001b[0m\u001b[0;34m\u001b[0m\u001b[0;34m\u001b[0m\u001b[0m\n\u001b[0;32m--> 355\u001b[0;31m             \u001b[0;32mraise\u001b[0m \u001b[0mJSONDecodeError\u001b[0m\u001b[0;34m(\u001b[0m\u001b[0;34m\"Expecting value\"\u001b[0m\u001b[0;34m,\u001b[0m \u001b[0ms\u001b[0m\u001b[0;34m,\u001b[0m \u001b[0merr\u001b[0m\u001b[0;34m.\u001b[0m\u001b[0mvalue\u001b[0m\u001b[0;34m)\u001b[0m \u001b[0;32mfrom\u001b[0m \u001b[0;32mNone\u001b[0m\u001b[0;34m\u001b[0m\u001b[0;34m\u001b[0m\u001b[0m\n\u001b[0m\u001b[1;32m    356\u001b[0m         \u001b[0;32mreturn\u001b[0m \u001b[0mobj\u001b[0m\u001b[0;34m,\u001b[0m \u001b[0mend\u001b[0m\u001b[0;34m\u001b[0m\u001b[0;34m\u001b[0m\u001b[0m\n",
      "\u001b[0;31mJSONDecodeError\u001b[0m: Expecting value: line 1 column 1 (char 0)",
      "\nDuring handling of the above exception, another exception occurred:\n",
      "\u001b[0;31mJSONDecodeError\u001b[0m                           Traceback (most recent call last)",
      "\u001b[0;32m/tmp/ipykernel_14478/1442648676.py\u001b[0m in \u001b[0;36m<module>\u001b[0;34m\u001b[0m\n\u001b[0;32m----> 1\u001b[0;31m \u001b[0mcreateBoxplotAndBarChart\u001b[0m\u001b[0;34m(\u001b[0m\u001b[0;34m\"3ed1f1a064a10e53adc2ad8c0b46a4b2c148ee21\"\u001b[0m\u001b[0;34m,\u001b[0m \u001b[0;34m\"method\"\u001b[0m\u001b[0;34m,\u001b[0m \u001b[0;34m\"org.springframework.boot.web.servlet.server.StaticResourceJars\"\u001b[0m\u001b[0;34m,\u001b[0m \u001b[0;34m\"isResourcesJar/1[java.util.jar.JarFile]\"\u001b[0m\u001b[0;34m)\u001b[0m\u001b[0;34m\u001b[0m\u001b[0;34m\u001b[0m\u001b[0m\n\u001b[0m\u001b[1;32m      2\u001b[0m \u001b[0;34m\u001b[0m\u001b[0m\n\u001b[1;32m      3\u001b[0m \u001b[0mcreateBoxplotAndBarChart\u001b[0m\u001b[0;34m(\u001b[0m\u001b[0;34m\"12442bd8c7cde6e7c006a6277eeb8e81ad0c2219\"\u001b[0m\u001b[0;34m,\u001b[0m \u001b[0;34m\"method\"\u001b[0m\u001b[0;34m,\u001b[0m \u001b[0;34m\"org.hibernate.engine.jdbc.internal.ResultSetReturnImpl\"\u001b[0m\u001b[0;34m,\u001b[0m \u001b[0;34m\"executeUpdate/2[java.sql.PreparedStatement,java.lang.String]\"\u001b[0m\u001b[0;34m)\u001b[0m\u001b[0;34m\u001b[0m\u001b[0;34m\u001b[0m\u001b[0m\n\u001b[1;32m      4\u001b[0m \u001b[0;34m\u001b[0m\u001b[0m\n\u001b[1;32m      5\u001b[0m \u001b[0mcreateBoxplotAndBarChart\u001b[0m\u001b[0;34m(\u001b[0m\u001b[0;34m\"12442bd8c7cde6e7c006a6277eeb8e81ad0c2219\"\u001b[0m\u001b[0;34m,\u001b[0m \u001b[0;34m\"method\"\u001b[0m\u001b[0;34m,\u001b[0m \u001b[0;34m\"org.hibernate.bytecode.internal.bytebuddy.ByteBuddyState\"\u001b[0m\u001b[0;34m,\u001b[0m \u001b[0;34m\"make/2[TypePool,DynamicType.Builder<?>]\"\u001b[0m\u001b[0;34m)\u001b[0m\u001b[0;34m\u001b[0m\u001b[0;34m\u001b[0m\u001b[0m\n",
      "\u001b[0;32m/tmp/ipykernel_14478/212554073.py\u001b[0m in \u001b[0;36mcreateBoxplotAndBarChart\u001b[0;34m(commitSha, astElem, className, methodSignature)\u001b[0m\n\u001b[1;32m      1\u001b[0m \u001b[0;32mdef\u001b[0m \u001b[0mcreateBoxplotAndBarChart\u001b[0m\u001b[0;34m(\u001b[0m\u001b[0mcommitSha\u001b[0m\u001b[0;34m,\u001b[0m \u001b[0mastElem\u001b[0m\u001b[0;34m,\u001b[0m \u001b[0mclassName\u001b[0m\u001b[0;34m,\u001b[0m \u001b[0mmethodSignature\u001b[0m\u001b[0;34m)\u001b[0m\u001b[0;34m:\u001b[0m\u001b[0;34m\u001b[0m\u001b[0;34m\u001b[0m\u001b[0m\n\u001b[0;32m----> 2\u001b[0;31m     \u001b[0mcreateJoularBoxplot\u001b[0m\u001b[0;34m(\u001b[0m\u001b[0mcommitSha\u001b[0m\u001b[0;34m,\u001b[0m \u001b[0mclassName\u001b[0m\u001b[0;34m,\u001b[0m \u001b[0mmethodSignature\u001b[0m\u001b[0;34m)\u001b[0m\u001b[0;34m\u001b[0m\u001b[0;34m\u001b[0m\u001b[0m\n\u001b[0m\u001b[1;32m      3\u001b[0m     \u001b[0mcreateCkBarChart\u001b[0m\u001b[0;34m(\u001b[0m\u001b[0mcommitSha\u001b[0m\u001b[0;34m,\u001b[0m \u001b[0mastElem\u001b[0m\u001b[0;34m,\u001b[0m \u001b[0mclassName\u001b[0m\u001b[0;34m,\u001b[0m \u001b[0mmethodSignature\u001b[0m\u001b[0;34m)\u001b[0m\u001b[0;34m\u001b[0m\u001b[0;34m\u001b[0m\u001b[0m\n",
      "\u001b[0;32m/tmp/ipykernel_14478/685635392.py\u001b[0m in \u001b[0;36mcreateJoularBoxplot\u001b[0;34m(commitSha, className, methodSignature)\u001b[0m\n\u001b[1;32m      1\u001b[0m \u001b[0;32mdef\u001b[0m \u001b[0mcreateJoularBoxplot\u001b[0m\u001b[0;34m(\u001b[0m\u001b[0mcommitSha\u001b[0m\u001b[0;34m,\u001b[0m \u001b[0mclassName\u001b[0m\u001b[0;34m,\u001b[0m \u001b[0mmethodSignature\u001b[0m\u001b[0;34m)\u001b[0m\u001b[0;34m:\u001b[0m\u001b[0;34m\u001b[0m\u001b[0;34m\u001b[0m\u001b[0m\n\u001b[0;32m----> 2\u001b[0;31m     \u001b[0mdata\u001b[0m \u001b[0;34m=\u001b[0m \u001b[0mgetJoularDataFromOneMethodFromOneCommit\u001b[0m\u001b[0;34m(\u001b[0m\u001b[0mcommitSha\u001b[0m\u001b[0;34m,\u001b[0m \u001b[0mclassName\u001b[0m\u001b[0;34m,\u001b[0m \u001b[0mmethodSignature\u001b[0m\u001b[0;34m)\u001b[0m\u001b[0;34m\u001b[0m\u001b[0;34m\u001b[0m\u001b[0m\n\u001b[0m\u001b[1;32m      3\u001b[0m     \u001b[0mvalues\u001b[0m \u001b[0;34m=\u001b[0m \u001b[0;34m[\u001b[0m\u001b[0mitem\u001b[0m\u001b[0;34m[\u001b[0m\u001b[0;34m\"value\"\u001b[0m\u001b[0;34m]\u001b[0m \u001b[0;32mfor\u001b[0m \u001b[0mitem\u001b[0m \u001b[0;32min\u001b[0m \u001b[0mdata\u001b[0m\u001b[0;34m[\u001b[0m\u001b[0;34m\"content\"\u001b[0m\u001b[0;34m]\u001b[0m \u001b[0;32mif\u001b[0m \u001b[0mitem\u001b[0m\u001b[0;34m[\u001b[0m\u001b[0;34m\"value\"\u001b[0m\u001b[0;34m]\u001b[0m \u001b[0;34m>\u001b[0m \u001b[0;36m0\u001b[0m\u001b[0;34m]\u001b[0m\u001b[0;34m\u001b[0m\u001b[0;34m\u001b[0m\u001b[0m\n\u001b[1;32m      4\u001b[0m     \u001b[0mdf\u001b[0m \u001b[0;34m=\u001b[0m \u001b[0mpd\u001b[0m\u001b[0;34m.\u001b[0m\u001b[0mDataFrame\u001b[0m\u001b[0;34m(\u001b[0m\u001b[0;34m{\u001b[0m\u001b[0;34m\"value\"\u001b[0m\u001b[0;34m:\u001b[0m\u001b[0mvalues\u001b[0m\u001b[0;34m}\u001b[0m\u001b[0;34m)\u001b[0m\u001b[0;34m\u001b[0m\u001b[0;34m\u001b[0m\u001b[0m\n\u001b[1;32m      5\u001b[0m     \u001b[0mfig\u001b[0m \u001b[0;34m=\u001b[0m \u001b[0mpx\u001b[0m\u001b[0;34m.\u001b[0m\u001b[0mbox\u001b[0m\u001b[0;34m(\u001b[0m\u001b[0mdf\u001b[0m\u001b[0;34m,\u001b[0m \u001b[0my\u001b[0m\u001b[0;34m=\u001b[0m\u001b[0;34m\"value\"\u001b[0m\u001b[0;34m,\u001b[0m \u001b[0mtitle\u001b[0m\u001b[0;34m=\u001b[0m\u001b[0;34m\"Joular values for \"\u001b[0m \u001b[0;34m+\u001b[0m \u001b[0mmethodSignature\u001b[0m\u001b[0;34m,\u001b[0m \u001b[0mpoints\u001b[0m\u001b[0;34m=\u001b[0m\u001b[0;34m'all'\u001b[0m\u001b[0;34m)\u001b[0m\u001b[0;34m\u001b[0m\u001b[0;34m\u001b[0m\u001b[0m\n",
      "\u001b[0;32m/tmp/ipykernel_14478/1731290604.py\u001b[0m in \u001b[0;36mgetJoularDataFromOneMethodFromOneCommit\u001b[0;34m(commitSha, className, methodSignature)\u001b[0m\n\u001b[1;32m      3\u001b[0m     \u001b[0mPARAMS\u001b[0m \u001b[0;34m=\u001b[0m \u001b[0;34m{\u001b[0m\u001b[0;34m\"className\"\u001b[0m\u001b[0;34m:\u001b[0m\u001b[0mclassName\u001b[0m\u001b[0;34m,\u001b[0m \u001b[0;34m\"methodSignature\"\u001b[0m\u001b[0;34m:\u001b[0m\u001b[0mmethodSignature\u001b[0m\u001b[0;34m}\u001b[0m\u001b[0;34m\u001b[0m\u001b[0;34m\u001b[0m\u001b[0m\n\u001b[1;32m      4\u001b[0m     \u001b[0mr\u001b[0m \u001b[0;34m=\u001b[0m \u001b[0mrequests\u001b[0m\u001b[0;34m.\u001b[0m\u001b[0mget\u001b[0m\u001b[0;34m(\u001b[0m\u001b[0murl\u001b[0m \u001b[0;34m=\u001b[0m \u001b[0mURL\u001b[0m\u001b[0;34m,\u001b[0m \u001b[0mparams\u001b[0m \u001b[0;34m=\u001b[0m \u001b[0mPARAMS\u001b[0m\u001b[0;34m)\u001b[0m\u001b[0;34m\u001b[0m\u001b[0;34m\u001b[0m\u001b[0m\n\u001b[0;32m----> 5\u001b[0;31m     \u001b[0;32mreturn\u001b[0m \u001b[0mr\u001b[0m\u001b[0;34m.\u001b[0m\u001b[0mjson\u001b[0m\u001b[0;34m(\u001b[0m\u001b[0;34m)\u001b[0m\u001b[0;34m\u001b[0m\u001b[0;34m\u001b[0m\u001b[0m\n\u001b[0m",
      "\u001b[0;32m~/anaconda3/lib/python3.9/site-packages/requests/models.py\u001b[0m in \u001b[0;36mjson\u001b[0;34m(self, **kwargs)\u001b[0m\n\u001b[1;32m    973\u001b[0m             \u001b[0;31m# Catch JSON-related errors and raise as requests.JSONDecodeError\u001b[0m\u001b[0;34m\u001b[0m\u001b[0;34m\u001b[0m\u001b[0m\n\u001b[1;32m    974\u001b[0m             \u001b[0;31m# This aliases json.JSONDecodeError and simplejson.JSONDecodeError\u001b[0m\u001b[0;34m\u001b[0m\u001b[0;34m\u001b[0m\u001b[0m\n\u001b[0;32m--> 975\u001b[0;31m             \u001b[0;32mraise\u001b[0m \u001b[0mRequestsJSONDecodeError\u001b[0m\u001b[0;34m(\u001b[0m\u001b[0me\u001b[0m\u001b[0;34m.\u001b[0m\u001b[0mmsg\u001b[0m\u001b[0;34m,\u001b[0m \u001b[0me\u001b[0m\u001b[0;34m.\u001b[0m\u001b[0mdoc\u001b[0m\u001b[0;34m,\u001b[0m \u001b[0me\u001b[0m\u001b[0;34m.\u001b[0m\u001b[0mpos\u001b[0m\u001b[0;34m)\u001b[0m\u001b[0;34m\u001b[0m\u001b[0;34m\u001b[0m\u001b[0m\n\u001b[0m\u001b[1;32m    976\u001b[0m \u001b[0;34m\u001b[0m\u001b[0m\n\u001b[1;32m    977\u001b[0m     \u001b[0;34m@\u001b[0m\u001b[0mproperty\u001b[0m\u001b[0;34m\u001b[0m\u001b[0;34m\u001b[0m\u001b[0m\n",
      "\u001b[0;31mJSONDecodeError\u001b[0m: Expecting value: line 1 column 1 (char 0)"
     ]
    }
   ],
   "source": [
    "createBoxplotAndBarChart(\"3ed1f1a064a10e53adc2ad8c0b46a4b2c148ee21\", \"method\", \"org.springframework.boot.web.servlet.server.StaticResourceJars\", \"isResourcesJar/1[java.util.jar.JarFile]\")\n",
    "\n",
    "createBoxplotAndBarChart(\"12442bd8c7cde6e7c006a6277eeb8e81ad0c2219\", \"method\", \"org.hibernate.engine.jdbc.internal.ResultSetReturnImpl\", \"executeUpdate/2[java.sql.PreparedStatement,java.lang.String]\")\n",
    "\n",
    "createBoxplotAndBarChart(\"12442bd8c7cde6e7c006a6277eeb8e81ad0c2219\", \"method\", \"org.hibernate.bytecode.internal.bytebuddy.ByteBuddyState\", \"make/2[TypePool,DynamicType.Builder<?>]\")\n",
    "\n",
    "createBoxplotAndBarChart(\"12442bd8c7cde6e7c006a6277eeb8e81ad0c2219\", \"method\", \"org.hibernate.boot.registry.classloading.internal.AggregatedServiceLoader$ClassPathAndModulePathAggregatedServiceLoader\", \"hasNextIgnoringServiceConfigurationError/1[java.util.Iterator<?>]\")\n",
    "\n",
    "createBoxplotAndBarChart(\"3ed1f1a064a10e53adc2ad8c0b46a4b2c148ee21\", \"method\", \"org.springframework.boot.web.embedded.tomcat.TomcatWebServer\", \"initialize/0\")\n",
    "\n",
    "createBoxplotAndBarChart(\"12442bd8c7cde6e7c006a6277eeb8e81ad0c2219\", \"method\", \"org.hibernate.testing.junit4.FailureExpectedHandler\", \"evaluate/0\")"
   ]
  },
  {
   "cell_type": "code",
   "execution_count": null,
   "id": "052bc054",
   "metadata": {},
   "outputs": [],
   "source": [
    "createBoxplotAndBarChart(\"3ed1f1a064a10e53adc2ad8c0b46a4b2c148ee21\", \"method\", \"org.springframework.boot.testsupport.classpath.ModifiedClassPathClassLoader\", \"loadClass/1[java.lang.String]\")"
   ]
  },
  {
   "cell_type": "code",
   "execution_count": null,
   "id": "83195150",
   "metadata": {},
   "outputs": [],
   "source": [
    "createBoxplotAndBarChart(\"12442bd8c7cde6e7c006a6277eeb8e81ad0c2219\", \"method\", \"org.hibernate.boot.registry.classloading.internal.AggregatedClassLoader\", \"getResources/1[java.lang.String]\")"
   ]
  },
  {
   "cell_type": "markdown",
   "id": "73e26baf",
   "metadata": {},
   "source": [
    "### Data with aberrant negative values"
   ]
  },
  {
   "cell_type": "markdown",
   "id": "18e40d75",
   "metadata": {},
   "source": [
    "The method *verifyCollection* has the value -530894."
   ]
  },
  {
   "cell_type": "code",
   "execution_count": 12,
   "id": "f4ced1b6",
   "metadata": {},
   "outputs": [
    {
     "data": {
      "application/vnd.plotly.v1+json": {
       "config": {
        "plotlyServerURL": "https://plot.ly"
       },
       "data": [
        {
         "alignmentgroup": "True",
         "boxpoints": "all",
         "hovertemplate": "value=%{y}<extra></extra>",
         "legendgroup": "",
         "marker": {
          "color": "#636efa"
         },
         "name": "",
         "notched": false,
         "offsetgroup": "",
         "orientation": "v",
         "showlegend": false,
         "type": "box",
         "x0": " ",
         "xaxis": "x",
         "y": [
          2447.6365,
          2065.3115,
          1326.6776,
          673.3402,
          1856.8226,
          1936.292,
          982.7851,
          1622.643,
          704.3833,
          1021.2117,
          715.8927,
          1556.0546,
          1047.2329,
          1328.5665,
          1090.3383,
          808.716,
          687.1132,
          4138.0137,
          1033.6013,
          1016.9235,
          1786.1046,
          2161.96,
          1025.6064,
          1013.4403,
          1354.6024,
          966.9833,
          1346.163,
          956.9854,
          9.2763
         ],
         "y0": " ",
         "yaxis": "y"
        }
       ],
       "layout": {
        "boxmode": "group",
        "legend": {
         "tracegroupgap": 0
        },
        "template": {
         "data": {
          "bar": [
           {
            "error_x": {
             "color": "#2a3f5f"
            },
            "error_y": {
             "color": "#2a3f5f"
            },
            "marker": {
             "line": {
              "color": "#E5ECF6",
              "width": 0.5
             },
             "pattern": {
              "fillmode": "overlay",
              "size": 10,
              "solidity": 0.2
             }
            },
            "type": "bar"
           }
          ],
          "barpolar": [
           {
            "marker": {
             "line": {
              "color": "#E5ECF6",
              "width": 0.5
             },
             "pattern": {
              "fillmode": "overlay",
              "size": 10,
              "solidity": 0.2
             }
            },
            "type": "barpolar"
           }
          ],
          "carpet": [
           {
            "aaxis": {
             "endlinecolor": "#2a3f5f",
             "gridcolor": "white",
             "linecolor": "white",
             "minorgridcolor": "white",
             "startlinecolor": "#2a3f5f"
            },
            "baxis": {
             "endlinecolor": "#2a3f5f",
             "gridcolor": "white",
             "linecolor": "white",
             "minorgridcolor": "white",
             "startlinecolor": "#2a3f5f"
            },
            "type": "carpet"
           }
          ],
          "choropleth": [
           {
            "colorbar": {
             "outlinewidth": 0,
             "ticks": ""
            },
            "type": "choropleth"
           }
          ],
          "contour": [
           {
            "colorbar": {
             "outlinewidth": 0,
             "ticks": ""
            },
            "colorscale": [
             [
              0,
              "#0d0887"
             ],
             [
              0.1111111111111111,
              "#46039f"
             ],
             [
              0.2222222222222222,
              "#7201a8"
             ],
             [
              0.3333333333333333,
              "#9c179e"
             ],
             [
              0.4444444444444444,
              "#bd3786"
             ],
             [
              0.5555555555555556,
              "#d8576b"
             ],
             [
              0.6666666666666666,
              "#ed7953"
             ],
             [
              0.7777777777777778,
              "#fb9f3a"
             ],
             [
              0.8888888888888888,
              "#fdca26"
             ],
             [
              1,
              "#f0f921"
             ]
            ],
            "type": "contour"
           }
          ],
          "contourcarpet": [
           {
            "colorbar": {
             "outlinewidth": 0,
             "ticks": ""
            },
            "type": "contourcarpet"
           }
          ],
          "heatmap": [
           {
            "colorbar": {
             "outlinewidth": 0,
             "ticks": ""
            },
            "colorscale": [
             [
              0,
              "#0d0887"
             ],
             [
              0.1111111111111111,
              "#46039f"
             ],
             [
              0.2222222222222222,
              "#7201a8"
             ],
             [
              0.3333333333333333,
              "#9c179e"
             ],
             [
              0.4444444444444444,
              "#bd3786"
             ],
             [
              0.5555555555555556,
              "#d8576b"
             ],
             [
              0.6666666666666666,
              "#ed7953"
             ],
             [
              0.7777777777777778,
              "#fb9f3a"
             ],
             [
              0.8888888888888888,
              "#fdca26"
             ],
             [
              1,
              "#f0f921"
             ]
            ],
            "type": "heatmap"
           }
          ],
          "heatmapgl": [
           {
            "colorbar": {
             "outlinewidth": 0,
             "ticks": ""
            },
            "colorscale": [
             [
              0,
              "#0d0887"
             ],
             [
              0.1111111111111111,
              "#46039f"
             ],
             [
              0.2222222222222222,
              "#7201a8"
             ],
             [
              0.3333333333333333,
              "#9c179e"
             ],
             [
              0.4444444444444444,
              "#bd3786"
             ],
             [
              0.5555555555555556,
              "#d8576b"
             ],
             [
              0.6666666666666666,
              "#ed7953"
             ],
             [
              0.7777777777777778,
              "#fb9f3a"
             ],
             [
              0.8888888888888888,
              "#fdca26"
             ],
             [
              1,
              "#f0f921"
             ]
            ],
            "type": "heatmapgl"
           }
          ],
          "histogram": [
           {
            "marker": {
             "pattern": {
              "fillmode": "overlay",
              "size": 10,
              "solidity": 0.2
             }
            },
            "type": "histogram"
           }
          ],
          "histogram2d": [
           {
            "colorbar": {
             "outlinewidth": 0,
             "ticks": ""
            },
            "colorscale": [
             [
              0,
              "#0d0887"
             ],
             [
              0.1111111111111111,
              "#46039f"
             ],
             [
              0.2222222222222222,
              "#7201a8"
             ],
             [
              0.3333333333333333,
              "#9c179e"
             ],
             [
              0.4444444444444444,
              "#bd3786"
             ],
             [
              0.5555555555555556,
              "#d8576b"
             ],
             [
              0.6666666666666666,
              "#ed7953"
             ],
             [
              0.7777777777777778,
              "#fb9f3a"
             ],
             [
              0.8888888888888888,
              "#fdca26"
             ],
             [
              1,
              "#f0f921"
             ]
            ],
            "type": "histogram2d"
           }
          ],
          "histogram2dcontour": [
           {
            "colorbar": {
             "outlinewidth": 0,
             "ticks": ""
            },
            "colorscale": [
             [
              0,
              "#0d0887"
             ],
             [
              0.1111111111111111,
              "#46039f"
             ],
             [
              0.2222222222222222,
              "#7201a8"
             ],
             [
              0.3333333333333333,
              "#9c179e"
             ],
             [
              0.4444444444444444,
              "#bd3786"
             ],
             [
              0.5555555555555556,
              "#d8576b"
             ],
             [
              0.6666666666666666,
              "#ed7953"
             ],
             [
              0.7777777777777778,
              "#fb9f3a"
             ],
             [
              0.8888888888888888,
              "#fdca26"
             ],
             [
              1,
              "#f0f921"
             ]
            ],
            "type": "histogram2dcontour"
           }
          ],
          "mesh3d": [
           {
            "colorbar": {
             "outlinewidth": 0,
             "ticks": ""
            },
            "type": "mesh3d"
           }
          ],
          "parcoords": [
           {
            "line": {
             "colorbar": {
              "outlinewidth": 0,
              "ticks": ""
             }
            },
            "type": "parcoords"
           }
          ],
          "pie": [
           {
            "automargin": true,
            "type": "pie"
           }
          ],
          "scatter": [
           {
            "fillpattern": {
             "fillmode": "overlay",
             "size": 10,
             "solidity": 0.2
            },
            "type": "scatter"
           }
          ],
          "scatter3d": [
           {
            "line": {
             "colorbar": {
              "outlinewidth": 0,
              "ticks": ""
             }
            },
            "marker": {
             "colorbar": {
              "outlinewidth": 0,
              "ticks": ""
             }
            },
            "type": "scatter3d"
           }
          ],
          "scattercarpet": [
           {
            "marker": {
             "colorbar": {
              "outlinewidth": 0,
              "ticks": ""
             }
            },
            "type": "scattercarpet"
           }
          ],
          "scattergeo": [
           {
            "marker": {
             "colorbar": {
              "outlinewidth": 0,
              "ticks": ""
             }
            },
            "type": "scattergeo"
           }
          ],
          "scattergl": [
           {
            "marker": {
             "colorbar": {
              "outlinewidth": 0,
              "ticks": ""
             }
            },
            "type": "scattergl"
           }
          ],
          "scattermapbox": [
           {
            "marker": {
             "colorbar": {
              "outlinewidth": 0,
              "ticks": ""
             }
            },
            "type": "scattermapbox"
           }
          ],
          "scatterpolar": [
           {
            "marker": {
             "colorbar": {
              "outlinewidth": 0,
              "ticks": ""
             }
            },
            "type": "scatterpolar"
           }
          ],
          "scatterpolargl": [
           {
            "marker": {
             "colorbar": {
              "outlinewidth": 0,
              "ticks": ""
             }
            },
            "type": "scatterpolargl"
           }
          ],
          "scatterternary": [
           {
            "marker": {
             "colorbar": {
              "outlinewidth": 0,
              "ticks": ""
             }
            },
            "type": "scatterternary"
           }
          ],
          "surface": [
           {
            "colorbar": {
             "outlinewidth": 0,
             "ticks": ""
            },
            "colorscale": [
             [
              0,
              "#0d0887"
             ],
             [
              0.1111111111111111,
              "#46039f"
             ],
             [
              0.2222222222222222,
              "#7201a8"
             ],
             [
              0.3333333333333333,
              "#9c179e"
             ],
             [
              0.4444444444444444,
              "#bd3786"
             ],
             [
              0.5555555555555556,
              "#d8576b"
             ],
             [
              0.6666666666666666,
              "#ed7953"
             ],
             [
              0.7777777777777778,
              "#fb9f3a"
             ],
             [
              0.8888888888888888,
              "#fdca26"
             ],
             [
              1,
              "#f0f921"
             ]
            ],
            "type": "surface"
           }
          ],
          "table": [
           {
            "cells": {
             "fill": {
              "color": "#EBF0F8"
             },
             "line": {
              "color": "white"
             }
            },
            "header": {
             "fill": {
              "color": "#C8D4E3"
             },
             "line": {
              "color": "white"
             }
            },
            "type": "table"
           }
          ]
         },
         "layout": {
          "annotationdefaults": {
           "arrowcolor": "#2a3f5f",
           "arrowhead": 0,
           "arrowwidth": 1
          },
          "autotypenumbers": "strict",
          "coloraxis": {
           "colorbar": {
            "outlinewidth": 0,
            "ticks": ""
           }
          },
          "colorscale": {
           "diverging": [
            [
             0,
             "#8e0152"
            ],
            [
             0.1,
             "#c51b7d"
            ],
            [
             0.2,
             "#de77ae"
            ],
            [
             0.3,
             "#f1b6da"
            ],
            [
             0.4,
             "#fde0ef"
            ],
            [
             0.5,
             "#f7f7f7"
            ],
            [
             0.6,
             "#e6f5d0"
            ],
            [
             0.7,
             "#b8e186"
            ],
            [
             0.8,
             "#7fbc41"
            ],
            [
             0.9,
             "#4d9221"
            ],
            [
             1,
             "#276419"
            ]
           ],
           "sequential": [
            [
             0,
             "#0d0887"
            ],
            [
             0.1111111111111111,
             "#46039f"
            ],
            [
             0.2222222222222222,
             "#7201a8"
            ],
            [
             0.3333333333333333,
             "#9c179e"
            ],
            [
             0.4444444444444444,
             "#bd3786"
            ],
            [
             0.5555555555555556,
             "#d8576b"
            ],
            [
             0.6666666666666666,
             "#ed7953"
            ],
            [
             0.7777777777777778,
             "#fb9f3a"
            ],
            [
             0.8888888888888888,
             "#fdca26"
            ],
            [
             1,
             "#f0f921"
            ]
           ],
           "sequentialminus": [
            [
             0,
             "#0d0887"
            ],
            [
             0.1111111111111111,
             "#46039f"
            ],
            [
             0.2222222222222222,
             "#7201a8"
            ],
            [
             0.3333333333333333,
             "#9c179e"
            ],
            [
             0.4444444444444444,
             "#bd3786"
            ],
            [
             0.5555555555555556,
             "#d8576b"
            ],
            [
             0.6666666666666666,
             "#ed7953"
            ],
            [
             0.7777777777777778,
             "#fb9f3a"
            ],
            [
             0.8888888888888888,
             "#fdca26"
            ],
            [
             1,
             "#f0f921"
            ]
           ]
          },
          "colorway": [
           "#636efa",
           "#EF553B",
           "#00cc96",
           "#ab63fa",
           "#FFA15A",
           "#19d3f3",
           "#FF6692",
           "#B6E880",
           "#FF97FF",
           "#FECB52"
          ],
          "font": {
           "color": "#2a3f5f"
          },
          "geo": {
           "bgcolor": "white",
           "lakecolor": "white",
           "landcolor": "#E5ECF6",
           "showlakes": true,
           "showland": true,
           "subunitcolor": "white"
          },
          "hoverlabel": {
           "align": "left"
          },
          "hovermode": "closest",
          "mapbox": {
           "style": "light"
          },
          "paper_bgcolor": "white",
          "plot_bgcolor": "#E5ECF6",
          "polar": {
           "angularaxis": {
            "gridcolor": "white",
            "linecolor": "white",
            "ticks": ""
           },
           "bgcolor": "#E5ECF6",
           "radialaxis": {
            "gridcolor": "white",
            "linecolor": "white",
            "ticks": ""
           }
          },
          "scene": {
           "xaxis": {
            "backgroundcolor": "#E5ECF6",
            "gridcolor": "white",
            "gridwidth": 2,
            "linecolor": "white",
            "showbackground": true,
            "ticks": "",
            "zerolinecolor": "white"
           },
           "yaxis": {
            "backgroundcolor": "#E5ECF6",
            "gridcolor": "white",
            "gridwidth": 2,
            "linecolor": "white",
            "showbackground": true,
            "ticks": "",
            "zerolinecolor": "white"
           },
           "zaxis": {
            "backgroundcolor": "#E5ECF6",
            "gridcolor": "white",
            "gridwidth": 2,
            "linecolor": "white",
            "showbackground": true,
            "ticks": "",
            "zerolinecolor": "white"
           }
          },
          "shapedefaults": {
           "line": {
            "color": "#2a3f5f"
           }
          },
          "ternary": {
           "aaxis": {
            "gridcolor": "white",
            "linecolor": "white",
            "ticks": ""
           },
           "baxis": {
            "gridcolor": "white",
            "linecolor": "white",
            "ticks": ""
           },
           "bgcolor": "#E5ECF6",
           "caxis": {
            "gridcolor": "white",
            "linecolor": "white",
            "ticks": ""
           }
          },
          "title": {
           "x": 0.05
          },
          "xaxis": {
           "automargin": true,
           "gridcolor": "white",
           "linecolor": "white",
           "ticks": "",
           "title": {
            "standoff": 15
           },
           "zerolinecolor": "white",
           "zerolinewidth": 2
          },
          "yaxis": {
           "automargin": true,
           "gridcolor": "white",
           "linecolor": "white",
           "ticks": "",
           "title": {
            "standoff": 15
           },
           "zerolinecolor": "white",
           "zerolinewidth": 2
          }
         }
        },
        "title": {
         "text": "Joular values for verifyCollection/3[java.lang.ref.ReferenceQueue<T>,int,int]"
        },
        "xaxis": {
         "anchor": "y",
         "domain": [
          0,
          1
         ]
        },
        "yaxis": {
         "anchor": "x",
         "domain": [
          0,
          1
         ],
         "title": {
          "text": "value"
         }
        }
       }
      }
     },
     "metadata": {},
     "output_type": "display_data"
    },
    {
     "data": {
      "application/vnd.plotly.v1+json": {
       "config": {
        "plotlyServerURL": "https://plot.ly"
       },
       "data": [
        {
         "alignmentgroup": "True",
         "hovertemplate": "Metric=%{x}<br>Value=%{y}<extra></extra>",
         "legendgroup": "",
         "marker": {
          "color": "#636efa",
          "pattern": {
           "shape": ""
          }
         },
         "name": "",
         "offsetgroup": "",
         "orientation": "v",
         "showlegend": false,
         "textposition": "auto",
         "type": "bar",
         "x": [
          "loc",
          "fanout",
          "wmc",
          "cbo",
          "fanin",
          "cboModified"
         ],
         "xaxis": "x",
         "y": [
          15,
          0,
          4,
          1,
          1,
          1
         ],
         "yaxis": "y"
        }
       ],
       "layout": {
        "barmode": "relative",
        "legend": {
         "tracegroupgap": 0
        },
        "template": {
         "data": {
          "bar": [
           {
            "error_x": {
             "color": "#2a3f5f"
            },
            "error_y": {
             "color": "#2a3f5f"
            },
            "marker": {
             "line": {
              "color": "#E5ECF6",
              "width": 0.5
             },
             "pattern": {
              "fillmode": "overlay",
              "size": 10,
              "solidity": 0.2
             }
            },
            "type": "bar"
           }
          ],
          "barpolar": [
           {
            "marker": {
             "line": {
              "color": "#E5ECF6",
              "width": 0.5
             },
             "pattern": {
              "fillmode": "overlay",
              "size": 10,
              "solidity": 0.2
             }
            },
            "type": "barpolar"
           }
          ],
          "carpet": [
           {
            "aaxis": {
             "endlinecolor": "#2a3f5f",
             "gridcolor": "white",
             "linecolor": "white",
             "minorgridcolor": "white",
             "startlinecolor": "#2a3f5f"
            },
            "baxis": {
             "endlinecolor": "#2a3f5f",
             "gridcolor": "white",
             "linecolor": "white",
             "minorgridcolor": "white",
             "startlinecolor": "#2a3f5f"
            },
            "type": "carpet"
           }
          ],
          "choropleth": [
           {
            "colorbar": {
             "outlinewidth": 0,
             "ticks": ""
            },
            "type": "choropleth"
           }
          ],
          "contour": [
           {
            "colorbar": {
             "outlinewidth": 0,
             "ticks": ""
            },
            "colorscale": [
             [
              0,
              "#0d0887"
             ],
             [
              0.1111111111111111,
              "#46039f"
             ],
             [
              0.2222222222222222,
              "#7201a8"
             ],
             [
              0.3333333333333333,
              "#9c179e"
             ],
             [
              0.4444444444444444,
              "#bd3786"
             ],
             [
              0.5555555555555556,
              "#d8576b"
             ],
             [
              0.6666666666666666,
              "#ed7953"
             ],
             [
              0.7777777777777778,
              "#fb9f3a"
             ],
             [
              0.8888888888888888,
              "#fdca26"
             ],
             [
              1,
              "#f0f921"
             ]
            ],
            "type": "contour"
           }
          ],
          "contourcarpet": [
           {
            "colorbar": {
             "outlinewidth": 0,
             "ticks": ""
            },
            "type": "contourcarpet"
           }
          ],
          "heatmap": [
           {
            "colorbar": {
             "outlinewidth": 0,
             "ticks": ""
            },
            "colorscale": [
             [
              0,
              "#0d0887"
             ],
             [
              0.1111111111111111,
              "#46039f"
             ],
             [
              0.2222222222222222,
              "#7201a8"
             ],
             [
              0.3333333333333333,
              "#9c179e"
             ],
             [
              0.4444444444444444,
              "#bd3786"
             ],
             [
              0.5555555555555556,
              "#d8576b"
             ],
             [
              0.6666666666666666,
              "#ed7953"
             ],
             [
              0.7777777777777778,
              "#fb9f3a"
             ],
             [
              0.8888888888888888,
              "#fdca26"
             ],
             [
              1,
              "#f0f921"
             ]
            ],
            "type": "heatmap"
           }
          ],
          "heatmapgl": [
           {
            "colorbar": {
             "outlinewidth": 0,
             "ticks": ""
            },
            "colorscale": [
             [
              0,
              "#0d0887"
             ],
             [
              0.1111111111111111,
              "#46039f"
             ],
             [
              0.2222222222222222,
              "#7201a8"
             ],
             [
              0.3333333333333333,
              "#9c179e"
             ],
             [
              0.4444444444444444,
              "#bd3786"
             ],
             [
              0.5555555555555556,
              "#d8576b"
             ],
             [
              0.6666666666666666,
              "#ed7953"
             ],
             [
              0.7777777777777778,
              "#fb9f3a"
             ],
             [
              0.8888888888888888,
              "#fdca26"
             ],
             [
              1,
              "#f0f921"
             ]
            ],
            "type": "heatmapgl"
           }
          ],
          "histogram": [
           {
            "marker": {
             "pattern": {
              "fillmode": "overlay",
              "size": 10,
              "solidity": 0.2
             }
            },
            "type": "histogram"
           }
          ],
          "histogram2d": [
           {
            "colorbar": {
             "outlinewidth": 0,
             "ticks": ""
            },
            "colorscale": [
             [
              0,
              "#0d0887"
             ],
             [
              0.1111111111111111,
              "#46039f"
             ],
             [
              0.2222222222222222,
              "#7201a8"
             ],
             [
              0.3333333333333333,
              "#9c179e"
             ],
             [
              0.4444444444444444,
              "#bd3786"
             ],
             [
              0.5555555555555556,
              "#d8576b"
             ],
             [
              0.6666666666666666,
              "#ed7953"
             ],
             [
              0.7777777777777778,
              "#fb9f3a"
             ],
             [
              0.8888888888888888,
              "#fdca26"
             ],
             [
              1,
              "#f0f921"
             ]
            ],
            "type": "histogram2d"
           }
          ],
          "histogram2dcontour": [
           {
            "colorbar": {
             "outlinewidth": 0,
             "ticks": ""
            },
            "colorscale": [
             [
              0,
              "#0d0887"
             ],
             [
              0.1111111111111111,
              "#46039f"
             ],
             [
              0.2222222222222222,
              "#7201a8"
             ],
             [
              0.3333333333333333,
              "#9c179e"
             ],
             [
              0.4444444444444444,
              "#bd3786"
             ],
             [
              0.5555555555555556,
              "#d8576b"
             ],
             [
              0.6666666666666666,
              "#ed7953"
             ],
             [
              0.7777777777777778,
              "#fb9f3a"
             ],
             [
              0.8888888888888888,
              "#fdca26"
             ],
             [
              1,
              "#f0f921"
             ]
            ],
            "type": "histogram2dcontour"
           }
          ],
          "mesh3d": [
           {
            "colorbar": {
             "outlinewidth": 0,
             "ticks": ""
            },
            "type": "mesh3d"
           }
          ],
          "parcoords": [
           {
            "line": {
             "colorbar": {
              "outlinewidth": 0,
              "ticks": ""
             }
            },
            "type": "parcoords"
           }
          ],
          "pie": [
           {
            "automargin": true,
            "type": "pie"
           }
          ],
          "scatter": [
           {
            "fillpattern": {
             "fillmode": "overlay",
             "size": 10,
             "solidity": 0.2
            },
            "type": "scatter"
           }
          ],
          "scatter3d": [
           {
            "line": {
             "colorbar": {
              "outlinewidth": 0,
              "ticks": ""
             }
            },
            "marker": {
             "colorbar": {
              "outlinewidth": 0,
              "ticks": ""
             }
            },
            "type": "scatter3d"
           }
          ],
          "scattercarpet": [
           {
            "marker": {
             "colorbar": {
              "outlinewidth": 0,
              "ticks": ""
             }
            },
            "type": "scattercarpet"
           }
          ],
          "scattergeo": [
           {
            "marker": {
             "colorbar": {
              "outlinewidth": 0,
              "ticks": ""
             }
            },
            "type": "scattergeo"
           }
          ],
          "scattergl": [
           {
            "marker": {
             "colorbar": {
              "outlinewidth": 0,
              "ticks": ""
             }
            },
            "type": "scattergl"
           }
          ],
          "scattermapbox": [
           {
            "marker": {
             "colorbar": {
              "outlinewidth": 0,
              "ticks": ""
             }
            },
            "type": "scattermapbox"
           }
          ],
          "scatterpolar": [
           {
            "marker": {
             "colorbar": {
              "outlinewidth": 0,
              "ticks": ""
             }
            },
            "type": "scatterpolar"
           }
          ],
          "scatterpolargl": [
           {
            "marker": {
             "colorbar": {
              "outlinewidth": 0,
              "ticks": ""
             }
            },
            "type": "scatterpolargl"
           }
          ],
          "scatterternary": [
           {
            "marker": {
             "colorbar": {
              "outlinewidth": 0,
              "ticks": ""
             }
            },
            "type": "scatterternary"
           }
          ],
          "surface": [
           {
            "colorbar": {
             "outlinewidth": 0,
             "ticks": ""
            },
            "colorscale": [
             [
              0,
              "#0d0887"
             ],
             [
              0.1111111111111111,
              "#46039f"
             ],
             [
              0.2222222222222222,
              "#7201a8"
             ],
             [
              0.3333333333333333,
              "#9c179e"
             ],
             [
              0.4444444444444444,
              "#bd3786"
             ],
             [
              0.5555555555555556,
              "#d8576b"
             ],
             [
              0.6666666666666666,
              "#ed7953"
             ],
             [
              0.7777777777777778,
              "#fb9f3a"
             ],
             [
              0.8888888888888888,
              "#fdca26"
             ],
             [
              1,
              "#f0f921"
             ]
            ],
            "type": "surface"
           }
          ],
          "table": [
           {
            "cells": {
             "fill": {
              "color": "#EBF0F8"
             },
             "line": {
              "color": "white"
             }
            },
            "header": {
             "fill": {
              "color": "#C8D4E3"
             },
             "line": {
              "color": "white"
             }
            },
            "type": "table"
           }
          ]
         },
         "layout": {
          "annotationdefaults": {
           "arrowcolor": "#2a3f5f",
           "arrowhead": 0,
           "arrowwidth": 1
          },
          "autotypenumbers": "strict",
          "coloraxis": {
           "colorbar": {
            "outlinewidth": 0,
            "ticks": ""
           }
          },
          "colorscale": {
           "diverging": [
            [
             0,
             "#8e0152"
            ],
            [
             0.1,
             "#c51b7d"
            ],
            [
             0.2,
             "#de77ae"
            ],
            [
             0.3,
             "#f1b6da"
            ],
            [
             0.4,
             "#fde0ef"
            ],
            [
             0.5,
             "#f7f7f7"
            ],
            [
             0.6,
             "#e6f5d0"
            ],
            [
             0.7,
             "#b8e186"
            ],
            [
             0.8,
             "#7fbc41"
            ],
            [
             0.9,
             "#4d9221"
            ],
            [
             1,
             "#276419"
            ]
           ],
           "sequential": [
            [
             0,
             "#0d0887"
            ],
            [
             0.1111111111111111,
             "#46039f"
            ],
            [
             0.2222222222222222,
             "#7201a8"
            ],
            [
             0.3333333333333333,
             "#9c179e"
            ],
            [
             0.4444444444444444,
             "#bd3786"
            ],
            [
             0.5555555555555556,
             "#d8576b"
            ],
            [
             0.6666666666666666,
             "#ed7953"
            ],
            [
             0.7777777777777778,
             "#fb9f3a"
            ],
            [
             0.8888888888888888,
             "#fdca26"
            ],
            [
             1,
             "#f0f921"
            ]
           ],
           "sequentialminus": [
            [
             0,
             "#0d0887"
            ],
            [
             0.1111111111111111,
             "#46039f"
            ],
            [
             0.2222222222222222,
             "#7201a8"
            ],
            [
             0.3333333333333333,
             "#9c179e"
            ],
            [
             0.4444444444444444,
             "#bd3786"
            ],
            [
             0.5555555555555556,
             "#d8576b"
            ],
            [
             0.6666666666666666,
             "#ed7953"
            ],
            [
             0.7777777777777778,
             "#fb9f3a"
            ],
            [
             0.8888888888888888,
             "#fdca26"
            ],
            [
             1,
             "#f0f921"
            ]
           ]
          },
          "colorway": [
           "#636efa",
           "#EF553B",
           "#00cc96",
           "#ab63fa",
           "#FFA15A",
           "#19d3f3",
           "#FF6692",
           "#B6E880",
           "#FF97FF",
           "#FECB52"
          ],
          "font": {
           "color": "#2a3f5f"
          },
          "geo": {
           "bgcolor": "white",
           "lakecolor": "white",
           "landcolor": "#E5ECF6",
           "showlakes": true,
           "showland": true,
           "subunitcolor": "white"
          },
          "hoverlabel": {
           "align": "left"
          },
          "hovermode": "closest",
          "mapbox": {
           "style": "light"
          },
          "paper_bgcolor": "white",
          "plot_bgcolor": "#E5ECF6",
          "polar": {
           "angularaxis": {
            "gridcolor": "white",
            "linecolor": "white",
            "ticks": ""
           },
           "bgcolor": "#E5ECF6",
           "radialaxis": {
            "gridcolor": "white",
            "linecolor": "white",
            "ticks": ""
           }
          },
          "scene": {
           "xaxis": {
            "backgroundcolor": "#E5ECF6",
            "gridcolor": "white",
            "gridwidth": 2,
            "linecolor": "white",
            "showbackground": true,
            "ticks": "",
            "zerolinecolor": "white"
           },
           "yaxis": {
            "backgroundcolor": "#E5ECF6",
            "gridcolor": "white",
            "gridwidth": 2,
            "linecolor": "white",
            "showbackground": true,
            "ticks": "",
            "zerolinecolor": "white"
           },
           "zaxis": {
            "backgroundcolor": "#E5ECF6",
            "gridcolor": "white",
            "gridwidth": 2,
            "linecolor": "white",
            "showbackground": true,
            "ticks": "",
            "zerolinecolor": "white"
           }
          },
          "shapedefaults": {
           "line": {
            "color": "#2a3f5f"
           }
          },
          "ternary": {
           "aaxis": {
            "gridcolor": "white",
            "linecolor": "white",
            "ticks": ""
           },
           "baxis": {
            "gridcolor": "white",
            "linecolor": "white",
            "ticks": ""
           },
           "bgcolor": "#E5ECF6",
           "caxis": {
            "gridcolor": "white",
            "linecolor": "white",
            "ticks": ""
           }
          },
          "title": {
           "x": 0.05
          },
          "xaxis": {
           "automargin": true,
           "gridcolor": "white",
           "linecolor": "white",
           "ticks": "",
           "title": {
            "standoff": 15
           },
           "zerolinecolor": "white",
           "zerolinewidth": 2
          },
          "yaxis": {
           "automargin": true,
           "gridcolor": "white",
           "linecolor": "white",
           "ticks": "",
           "title": {
            "standoff": 15
           },
           "zerolinecolor": "white",
           "zerolinewidth": 2
          }
         }
        },
        "title": {
         "text": "Ck metrics for verifyCollection/3[java.lang.ref.ReferenceQueue<T>,int,int]"
        },
        "xaxis": {
         "anchor": "y",
         "domain": [
          0,
          1
         ],
         "title": {
          "text": "Metric"
         }
        },
        "yaxis": {
         "anchor": "x",
         "domain": [
          0,
          1
         ],
         "title": {
          "text": "Value"
         }
        }
       }
      }
     },
     "metadata": {},
     "output_type": "display_data"
    }
   ],
   "source": [
    "createBoxplotAndBarChart(\"12442bd8c7cde6e7c006a6277eeb8e81ad0c2219\", \"method\", \"org.hibernate.orm.test.bootstrap.registry.classloading.PhantomReferenceLeakDetector\", \"verifyCollection/3[java.lang.ref.ReferenceQueue<T>,int,int]\")"
   ]
  },
  {
   "cell_type": "markdown",
   "id": "60b9b7d0",
   "metadata": {},
   "source": [
    "The method *accept* below has the value -217371.5"
   ]
  },
  {
   "cell_type": "code",
   "execution_count": 13,
   "id": "3eb1a997",
   "metadata": {},
   "outputs": [
    {
     "data": {
      "application/vnd.plotly.v1+json": {
       "config": {
        "plotlyServerURL": "https://plot.ly"
       },
       "data": [
        {
         "alignmentgroup": "True",
         "boxpoints": "all",
         "hovertemplate": "value=%{y}<extra></extra>",
         "legendgroup": "",
         "marker": {
          "color": "#636efa"
         },
         "name": "",
         "notched": false,
         "offsetgroup": "",
         "orientation": "v",
         "showlegend": false,
         "type": "box",
         "x0": " ",
         "xaxis": "x",
         "y": [
          593.0794,
          544.7868,
          456.5746,
          524.5118,
          552.79456,
          553.99036,
          598.1884,
          556.4751,
          428.9034,
          285.4964,
          523.9183,
          525.3816,
          527.516,
          446.0553,
          533.80383,
          440.854,
          550.4014,
          640.0129,
          581.1479,
          530.1838,
          465.7963,
          495.8004,
          525.129,
          433.8532,
          759.2195,
          405.2569,
          517.8155,
          493.53738,
          535.6181
         ],
         "y0": " ",
         "yaxis": "y"
        }
       ],
       "layout": {
        "boxmode": "group",
        "legend": {
         "tracegroupgap": 0
        },
        "template": {
         "data": {
          "bar": [
           {
            "error_x": {
             "color": "#2a3f5f"
            },
            "error_y": {
             "color": "#2a3f5f"
            },
            "marker": {
             "line": {
              "color": "#E5ECF6",
              "width": 0.5
             },
             "pattern": {
              "fillmode": "overlay",
              "size": 10,
              "solidity": 0.2
             }
            },
            "type": "bar"
           }
          ],
          "barpolar": [
           {
            "marker": {
             "line": {
              "color": "#E5ECF6",
              "width": 0.5
             },
             "pattern": {
              "fillmode": "overlay",
              "size": 10,
              "solidity": 0.2
             }
            },
            "type": "barpolar"
           }
          ],
          "carpet": [
           {
            "aaxis": {
             "endlinecolor": "#2a3f5f",
             "gridcolor": "white",
             "linecolor": "white",
             "minorgridcolor": "white",
             "startlinecolor": "#2a3f5f"
            },
            "baxis": {
             "endlinecolor": "#2a3f5f",
             "gridcolor": "white",
             "linecolor": "white",
             "minorgridcolor": "white",
             "startlinecolor": "#2a3f5f"
            },
            "type": "carpet"
           }
          ],
          "choropleth": [
           {
            "colorbar": {
             "outlinewidth": 0,
             "ticks": ""
            },
            "type": "choropleth"
           }
          ],
          "contour": [
           {
            "colorbar": {
             "outlinewidth": 0,
             "ticks": ""
            },
            "colorscale": [
             [
              0,
              "#0d0887"
             ],
             [
              0.1111111111111111,
              "#46039f"
             ],
             [
              0.2222222222222222,
              "#7201a8"
             ],
             [
              0.3333333333333333,
              "#9c179e"
             ],
             [
              0.4444444444444444,
              "#bd3786"
             ],
             [
              0.5555555555555556,
              "#d8576b"
             ],
             [
              0.6666666666666666,
              "#ed7953"
             ],
             [
              0.7777777777777778,
              "#fb9f3a"
             ],
             [
              0.8888888888888888,
              "#fdca26"
             ],
             [
              1,
              "#f0f921"
             ]
            ],
            "type": "contour"
           }
          ],
          "contourcarpet": [
           {
            "colorbar": {
             "outlinewidth": 0,
             "ticks": ""
            },
            "type": "contourcarpet"
           }
          ],
          "heatmap": [
           {
            "colorbar": {
             "outlinewidth": 0,
             "ticks": ""
            },
            "colorscale": [
             [
              0,
              "#0d0887"
             ],
             [
              0.1111111111111111,
              "#46039f"
             ],
             [
              0.2222222222222222,
              "#7201a8"
             ],
             [
              0.3333333333333333,
              "#9c179e"
             ],
             [
              0.4444444444444444,
              "#bd3786"
             ],
             [
              0.5555555555555556,
              "#d8576b"
             ],
             [
              0.6666666666666666,
              "#ed7953"
             ],
             [
              0.7777777777777778,
              "#fb9f3a"
             ],
             [
              0.8888888888888888,
              "#fdca26"
             ],
             [
              1,
              "#f0f921"
             ]
            ],
            "type": "heatmap"
           }
          ],
          "heatmapgl": [
           {
            "colorbar": {
             "outlinewidth": 0,
             "ticks": ""
            },
            "colorscale": [
             [
              0,
              "#0d0887"
             ],
             [
              0.1111111111111111,
              "#46039f"
             ],
             [
              0.2222222222222222,
              "#7201a8"
             ],
             [
              0.3333333333333333,
              "#9c179e"
             ],
             [
              0.4444444444444444,
              "#bd3786"
             ],
             [
              0.5555555555555556,
              "#d8576b"
             ],
             [
              0.6666666666666666,
              "#ed7953"
             ],
             [
              0.7777777777777778,
              "#fb9f3a"
             ],
             [
              0.8888888888888888,
              "#fdca26"
             ],
             [
              1,
              "#f0f921"
             ]
            ],
            "type": "heatmapgl"
           }
          ],
          "histogram": [
           {
            "marker": {
             "pattern": {
              "fillmode": "overlay",
              "size": 10,
              "solidity": 0.2
             }
            },
            "type": "histogram"
           }
          ],
          "histogram2d": [
           {
            "colorbar": {
             "outlinewidth": 0,
             "ticks": ""
            },
            "colorscale": [
             [
              0,
              "#0d0887"
             ],
             [
              0.1111111111111111,
              "#46039f"
             ],
             [
              0.2222222222222222,
              "#7201a8"
             ],
             [
              0.3333333333333333,
              "#9c179e"
             ],
             [
              0.4444444444444444,
              "#bd3786"
             ],
             [
              0.5555555555555556,
              "#d8576b"
             ],
             [
              0.6666666666666666,
              "#ed7953"
             ],
             [
              0.7777777777777778,
              "#fb9f3a"
             ],
             [
              0.8888888888888888,
              "#fdca26"
             ],
             [
              1,
              "#f0f921"
             ]
            ],
            "type": "histogram2d"
           }
          ],
          "histogram2dcontour": [
           {
            "colorbar": {
             "outlinewidth": 0,
             "ticks": ""
            },
            "colorscale": [
             [
              0,
              "#0d0887"
             ],
             [
              0.1111111111111111,
              "#46039f"
             ],
             [
              0.2222222222222222,
              "#7201a8"
             ],
             [
              0.3333333333333333,
              "#9c179e"
             ],
             [
              0.4444444444444444,
              "#bd3786"
             ],
             [
              0.5555555555555556,
              "#d8576b"
             ],
             [
              0.6666666666666666,
              "#ed7953"
             ],
             [
              0.7777777777777778,
              "#fb9f3a"
             ],
             [
              0.8888888888888888,
              "#fdca26"
             ],
             [
              1,
              "#f0f921"
             ]
            ],
            "type": "histogram2dcontour"
           }
          ],
          "mesh3d": [
           {
            "colorbar": {
             "outlinewidth": 0,
             "ticks": ""
            },
            "type": "mesh3d"
           }
          ],
          "parcoords": [
           {
            "line": {
             "colorbar": {
              "outlinewidth": 0,
              "ticks": ""
             }
            },
            "type": "parcoords"
           }
          ],
          "pie": [
           {
            "automargin": true,
            "type": "pie"
           }
          ],
          "scatter": [
           {
            "fillpattern": {
             "fillmode": "overlay",
             "size": 10,
             "solidity": 0.2
            },
            "type": "scatter"
           }
          ],
          "scatter3d": [
           {
            "line": {
             "colorbar": {
              "outlinewidth": 0,
              "ticks": ""
             }
            },
            "marker": {
             "colorbar": {
              "outlinewidth": 0,
              "ticks": ""
             }
            },
            "type": "scatter3d"
           }
          ],
          "scattercarpet": [
           {
            "marker": {
             "colorbar": {
              "outlinewidth": 0,
              "ticks": ""
             }
            },
            "type": "scattercarpet"
           }
          ],
          "scattergeo": [
           {
            "marker": {
             "colorbar": {
              "outlinewidth": 0,
              "ticks": ""
             }
            },
            "type": "scattergeo"
           }
          ],
          "scattergl": [
           {
            "marker": {
             "colorbar": {
              "outlinewidth": 0,
              "ticks": ""
             }
            },
            "type": "scattergl"
           }
          ],
          "scattermapbox": [
           {
            "marker": {
             "colorbar": {
              "outlinewidth": 0,
              "ticks": ""
             }
            },
            "type": "scattermapbox"
           }
          ],
          "scatterpolar": [
           {
            "marker": {
             "colorbar": {
              "outlinewidth": 0,
              "ticks": ""
             }
            },
            "type": "scatterpolar"
           }
          ],
          "scatterpolargl": [
           {
            "marker": {
             "colorbar": {
              "outlinewidth": 0,
              "ticks": ""
             }
            },
            "type": "scatterpolargl"
           }
          ],
          "scatterternary": [
           {
            "marker": {
             "colorbar": {
              "outlinewidth": 0,
              "ticks": ""
             }
            },
            "type": "scatterternary"
           }
          ],
          "surface": [
           {
            "colorbar": {
             "outlinewidth": 0,
             "ticks": ""
            },
            "colorscale": [
             [
              0,
              "#0d0887"
             ],
             [
              0.1111111111111111,
              "#46039f"
             ],
             [
              0.2222222222222222,
              "#7201a8"
             ],
             [
              0.3333333333333333,
              "#9c179e"
             ],
             [
              0.4444444444444444,
              "#bd3786"
             ],
             [
              0.5555555555555556,
              "#d8576b"
             ],
             [
              0.6666666666666666,
              "#ed7953"
             ],
             [
              0.7777777777777778,
              "#fb9f3a"
             ],
             [
              0.8888888888888888,
              "#fdca26"
             ],
             [
              1,
              "#f0f921"
             ]
            ],
            "type": "surface"
           }
          ],
          "table": [
           {
            "cells": {
             "fill": {
              "color": "#EBF0F8"
             },
             "line": {
              "color": "white"
             }
            },
            "header": {
             "fill": {
              "color": "#C8D4E3"
             },
             "line": {
              "color": "white"
             }
            },
            "type": "table"
           }
          ]
         },
         "layout": {
          "annotationdefaults": {
           "arrowcolor": "#2a3f5f",
           "arrowhead": 0,
           "arrowwidth": 1
          },
          "autotypenumbers": "strict",
          "coloraxis": {
           "colorbar": {
            "outlinewidth": 0,
            "ticks": ""
           }
          },
          "colorscale": {
           "diverging": [
            [
             0,
             "#8e0152"
            ],
            [
             0.1,
             "#c51b7d"
            ],
            [
             0.2,
             "#de77ae"
            ],
            [
             0.3,
             "#f1b6da"
            ],
            [
             0.4,
             "#fde0ef"
            ],
            [
             0.5,
             "#f7f7f7"
            ],
            [
             0.6,
             "#e6f5d0"
            ],
            [
             0.7,
             "#b8e186"
            ],
            [
             0.8,
             "#7fbc41"
            ],
            [
             0.9,
             "#4d9221"
            ],
            [
             1,
             "#276419"
            ]
           ],
           "sequential": [
            [
             0,
             "#0d0887"
            ],
            [
             0.1111111111111111,
             "#46039f"
            ],
            [
             0.2222222222222222,
             "#7201a8"
            ],
            [
             0.3333333333333333,
             "#9c179e"
            ],
            [
             0.4444444444444444,
             "#bd3786"
            ],
            [
             0.5555555555555556,
             "#d8576b"
            ],
            [
             0.6666666666666666,
             "#ed7953"
            ],
            [
             0.7777777777777778,
             "#fb9f3a"
            ],
            [
             0.8888888888888888,
             "#fdca26"
            ],
            [
             1,
             "#f0f921"
            ]
           ],
           "sequentialminus": [
            [
             0,
             "#0d0887"
            ],
            [
             0.1111111111111111,
             "#46039f"
            ],
            [
             0.2222222222222222,
             "#7201a8"
            ],
            [
             0.3333333333333333,
             "#9c179e"
            ],
            [
             0.4444444444444444,
             "#bd3786"
            ],
            [
             0.5555555555555556,
             "#d8576b"
            ],
            [
             0.6666666666666666,
             "#ed7953"
            ],
            [
             0.7777777777777778,
             "#fb9f3a"
            ],
            [
             0.8888888888888888,
             "#fdca26"
            ],
            [
             1,
             "#f0f921"
            ]
           ]
          },
          "colorway": [
           "#636efa",
           "#EF553B",
           "#00cc96",
           "#ab63fa",
           "#FFA15A",
           "#19d3f3",
           "#FF6692",
           "#B6E880",
           "#FF97FF",
           "#FECB52"
          ],
          "font": {
           "color": "#2a3f5f"
          },
          "geo": {
           "bgcolor": "white",
           "lakecolor": "white",
           "landcolor": "#E5ECF6",
           "showlakes": true,
           "showland": true,
           "subunitcolor": "white"
          },
          "hoverlabel": {
           "align": "left"
          },
          "hovermode": "closest",
          "mapbox": {
           "style": "light"
          },
          "paper_bgcolor": "white",
          "plot_bgcolor": "#E5ECF6",
          "polar": {
           "angularaxis": {
            "gridcolor": "white",
            "linecolor": "white",
            "ticks": ""
           },
           "bgcolor": "#E5ECF6",
           "radialaxis": {
            "gridcolor": "white",
            "linecolor": "white",
            "ticks": ""
           }
          },
          "scene": {
           "xaxis": {
            "backgroundcolor": "#E5ECF6",
            "gridcolor": "white",
            "gridwidth": 2,
            "linecolor": "white",
            "showbackground": true,
            "ticks": "",
            "zerolinecolor": "white"
           },
           "yaxis": {
            "backgroundcolor": "#E5ECF6",
            "gridcolor": "white",
            "gridwidth": 2,
            "linecolor": "white",
            "showbackground": true,
            "ticks": "",
            "zerolinecolor": "white"
           },
           "zaxis": {
            "backgroundcolor": "#E5ECF6",
            "gridcolor": "white",
            "gridwidth": 2,
            "linecolor": "white",
            "showbackground": true,
            "ticks": "",
            "zerolinecolor": "white"
           }
          },
          "shapedefaults": {
           "line": {
            "color": "#2a3f5f"
           }
          },
          "ternary": {
           "aaxis": {
            "gridcolor": "white",
            "linecolor": "white",
            "ticks": ""
           },
           "baxis": {
            "gridcolor": "white",
            "linecolor": "white",
            "ticks": ""
           },
           "bgcolor": "#E5ECF6",
           "caxis": {
            "gridcolor": "white",
            "linecolor": "white",
            "ticks": ""
           }
          },
          "title": {
           "x": 0.05
          },
          "xaxis": {
           "automargin": true,
           "gridcolor": "white",
           "linecolor": "white",
           "ticks": "",
           "title": {
            "standoff": 15
           },
           "zerolinecolor": "white",
           "zerolinewidth": 2
          },
          "yaxis": {
           "automargin": true,
           "gridcolor": "white",
           "linecolor": "white",
           "ticks": "",
           "title": {
            "standoff": 15
           },
           "zerolinecolor": "white",
           "zerolinewidth": 2
          }
         }
        },
        "title": {
         "text": "Joular values for accept/1[java.lang.String]"
        },
        "xaxis": {
         "anchor": "y",
         "domain": [
          0,
          1
         ]
        },
        "yaxis": {
         "anchor": "x",
         "domain": [
          0,
          1
         ],
         "title": {
          "text": "value"
         }
        }
       }
      }
     },
     "metadata": {},
     "output_type": "display_data"
    },
    {
     "data": {
      "application/vnd.plotly.v1+json": {
       "config": {
        "plotlyServerURL": "https://plot.ly"
       },
       "data": [
        {
         "alignmentgroup": "True",
         "hovertemplate": "Metric=%{x}<br>Value=%{y}<extra></extra>",
         "legendgroup": "",
         "marker": {
          "color": "#636efa",
          "pattern": {
           "shape": ""
          }
         },
         "name": "",
         "offsetgroup": "",
         "orientation": "v",
         "showlegend": false,
         "textposition": "auto",
         "type": "bar",
         "x": [
          "loc",
          "fanout",
          "wmc",
          "cbo",
          "fanin",
          "cboModified"
         ],
         "xaxis": "x",
         "y": [
          19,
          5,
          4,
          2,
          0,
          5
         ],
         "yaxis": "y"
        }
       ],
       "layout": {
        "barmode": "relative",
        "legend": {
         "tracegroupgap": 0
        },
        "template": {
         "data": {
          "bar": [
           {
            "error_x": {
             "color": "#2a3f5f"
            },
            "error_y": {
             "color": "#2a3f5f"
            },
            "marker": {
             "line": {
              "color": "#E5ECF6",
              "width": 0.5
             },
             "pattern": {
              "fillmode": "overlay",
              "size": 10,
              "solidity": 0.2
             }
            },
            "type": "bar"
           }
          ],
          "barpolar": [
           {
            "marker": {
             "line": {
              "color": "#E5ECF6",
              "width": 0.5
             },
             "pattern": {
              "fillmode": "overlay",
              "size": 10,
              "solidity": 0.2
             }
            },
            "type": "barpolar"
           }
          ],
          "carpet": [
           {
            "aaxis": {
             "endlinecolor": "#2a3f5f",
             "gridcolor": "white",
             "linecolor": "white",
             "minorgridcolor": "white",
             "startlinecolor": "#2a3f5f"
            },
            "baxis": {
             "endlinecolor": "#2a3f5f",
             "gridcolor": "white",
             "linecolor": "white",
             "minorgridcolor": "white",
             "startlinecolor": "#2a3f5f"
            },
            "type": "carpet"
           }
          ],
          "choropleth": [
           {
            "colorbar": {
             "outlinewidth": 0,
             "ticks": ""
            },
            "type": "choropleth"
           }
          ],
          "contour": [
           {
            "colorbar": {
             "outlinewidth": 0,
             "ticks": ""
            },
            "colorscale": [
             [
              0,
              "#0d0887"
             ],
             [
              0.1111111111111111,
              "#46039f"
             ],
             [
              0.2222222222222222,
              "#7201a8"
             ],
             [
              0.3333333333333333,
              "#9c179e"
             ],
             [
              0.4444444444444444,
              "#bd3786"
             ],
             [
              0.5555555555555556,
              "#d8576b"
             ],
             [
              0.6666666666666666,
              "#ed7953"
             ],
             [
              0.7777777777777778,
              "#fb9f3a"
             ],
             [
              0.8888888888888888,
              "#fdca26"
             ],
             [
              1,
              "#f0f921"
             ]
            ],
            "type": "contour"
           }
          ],
          "contourcarpet": [
           {
            "colorbar": {
             "outlinewidth": 0,
             "ticks": ""
            },
            "type": "contourcarpet"
           }
          ],
          "heatmap": [
           {
            "colorbar": {
             "outlinewidth": 0,
             "ticks": ""
            },
            "colorscale": [
             [
              0,
              "#0d0887"
             ],
             [
              0.1111111111111111,
              "#46039f"
             ],
             [
              0.2222222222222222,
              "#7201a8"
             ],
             [
              0.3333333333333333,
              "#9c179e"
             ],
             [
              0.4444444444444444,
              "#bd3786"
             ],
             [
              0.5555555555555556,
              "#d8576b"
             ],
             [
              0.6666666666666666,
              "#ed7953"
             ],
             [
              0.7777777777777778,
              "#fb9f3a"
             ],
             [
              0.8888888888888888,
              "#fdca26"
             ],
             [
              1,
              "#f0f921"
             ]
            ],
            "type": "heatmap"
           }
          ],
          "heatmapgl": [
           {
            "colorbar": {
             "outlinewidth": 0,
             "ticks": ""
            },
            "colorscale": [
             [
              0,
              "#0d0887"
             ],
             [
              0.1111111111111111,
              "#46039f"
             ],
             [
              0.2222222222222222,
              "#7201a8"
             ],
             [
              0.3333333333333333,
              "#9c179e"
             ],
             [
              0.4444444444444444,
              "#bd3786"
             ],
             [
              0.5555555555555556,
              "#d8576b"
             ],
             [
              0.6666666666666666,
              "#ed7953"
             ],
             [
              0.7777777777777778,
              "#fb9f3a"
             ],
             [
              0.8888888888888888,
              "#fdca26"
             ],
             [
              1,
              "#f0f921"
             ]
            ],
            "type": "heatmapgl"
           }
          ],
          "histogram": [
           {
            "marker": {
             "pattern": {
              "fillmode": "overlay",
              "size": 10,
              "solidity": 0.2
             }
            },
            "type": "histogram"
           }
          ],
          "histogram2d": [
           {
            "colorbar": {
             "outlinewidth": 0,
             "ticks": ""
            },
            "colorscale": [
             [
              0,
              "#0d0887"
             ],
             [
              0.1111111111111111,
              "#46039f"
             ],
             [
              0.2222222222222222,
              "#7201a8"
             ],
             [
              0.3333333333333333,
              "#9c179e"
             ],
             [
              0.4444444444444444,
              "#bd3786"
             ],
             [
              0.5555555555555556,
              "#d8576b"
             ],
             [
              0.6666666666666666,
              "#ed7953"
             ],
             [
              0.7777777777777778,
              "#fb9f3a"
             ],
             [
              0.8888888888888888,
              "#fdca26"
             ],
             [
              1,
              "#f0f921"
             ]
            ],
            "type": "histogram2d"
           }
          ],
          "histogram2dcontour": [
           {
            "colorbar": {
             "outlinewidth": 0,
             "ticks": ""
            },
            "colorscale": [
             [
              0,
              "#0d0887"
             ],
             [
              0.1111111111111111,
              "#46039f"
             ],
             [
              0.2222222222222222,
              "#7201a8"
             ],
             [
              0.3333333333333333,
              "#9c179e"
             ],
             [
              0.4444444444444444,
              "#bd3786"
             ],
             [
              0.5555555555555556,
              "#d8576b"
             ],
             [
              0.6666666666666666,
              "#ed7953"
             ],
             [
              0.7777777777777778,
              "#fb9f3a"
             ],
             [
              0.8888888888888888,
              "#fdca26"
             ],
             [
              1,
              "#f0f921"
             ]
            ],
            "type": "histogram2dcontour"
           }
          ],
          "mesh3d": [
           {
            "colorbar": {
             "outlinewidth": 0,
             "ticks": ""
            },
            "type": "mesh3d"
           }
          ],
          "parcoords": [
           {
            "line": {
             "colorbar": {
              "outlinewidth": 0,
              "ticks": ""
             }
            },
            "type": "parcoords"
           }
          ],
          "pie": [
           {
            "automargin": true,
            "type": "pie"
           }
          ],
          "scatter": [
           {
            "fillpattern": {
             "fillmode": "overlay",
             "size": 10,
             "solidity": 0.2
            },
            "type": "scatter"
           }
          ],
          "scatter3d": [
           {
            "line": {
             "colorbar": {
              "outlinewidth": 0,
              "ticks": ""
             }
            },
            "marker": {
             "colorbar": {
              "outlinewidth": 0,
              "ticks": ""
             }
            },
            "type": "scatter3d"
           }
          ],
          "scattercarpet": [
           {
            "marker": {
             "colorbar": {
              "outlinewidth": 0,
              "ticks": ""
             }
            },
            "type": "scattercarpet"
           }
          ],
          "scattergeo": [
           {
            "marker": {
             "colorbar": {
              "outlinewidth": 0,
              "ticks": ""
             }
            },
            "type": "scattergeo"
           }
          ],
          "scattergl": [
           {
            "marker": {
             "colorbar": {
              "outlinewidth": 0,
              "ticks": ""
             }
            },
            "type": "scattergl"
           }
          ],
          "scattermapbox": [
           {
            "marker": {
             "colorbar": {
              "outlinewidth": 0,
              "ticks": ""
             }
            },
            "type": "scattermapbox"
           }
          ],
          "scatterpolar": [
           {
            "marker": {
             "colorbar": {
              "outlinewidth": 0,
              "ticks": ""
             }
            },
            "type": "scatterpolar"
           }
          ],
          "scatterpolargl": [
           {
            "marker": {
             "colorbar": {
              "outlinewidth": 0,
              "ticks": ""
             }
            },
            "type": "scatterpolargl"
           }
          ],
          "scatterternary": [
           {
            "marker": {
             "colorbar": {
              "outlinewidth": 0,
              "ticks": ""
             }
            },
            "type": "scatterternary"
           }
          ],
          "surface": [
           {
            "colorbar": {
             "outlinewidth": 0,
             "ticks": ""
            },
            "colorscale": [
             [
              0,
              "#0d0887"
             ],
             [
              0.1111111111111111,
              "#46039f"
             ],
             [
              0.2222222222222222,
              "#7201a8"
             ],
             [
              0.3333333333333333,
              "#9c179e"
             ],
             [
              0.4444444444444444,
              "#bd3786"
             ],
             [
              0.5555555555555556,
              "#d8576b"
             ],
             [
              0.6666666666666666,
              "#ed7953"
             ],
             [
              0.7777777777777778,
              "#fb9f3a"
             ],
             [
              0.8888888888888888,
              "#fdca26"
             ],
             [
              1,
              "#f0f921"
             ]
            ],
            "type": "surface"
           }
          ],
          "table": [
           {
            "cells": {
             "fill": {
              "color": "#EBF0F8"
             },
             "line": {
              "color": "white"
             }
            },
            "header": {
             "fill": {
              "color": "#C8D4E3"
             },
             "line": {
              "color": "white"
             }
            },
            "type": "table"
           }
          ]
         },
         "layout": {
          "annotationdefaults": {
           "arrowcolor": "#2a3f5f",
           "arrowhead": 0,
           "arrowwidth": 1
          },
          "autotypenumbers": "strict",
          "coloraxis": {
           "colorbar": {
            "outlinewidth": 0,
            "ticks": ""
           }
          },
          "colorscale": {
           "diverging": [
            [
             0,
             "#8e0152"
            ],
            [
             0.1,
             "#c51b7d"
            ],
            [
             0.2,
             "#de77ae"
            ],
            [
             0.3,
             "#f1b6da"
            ],
            [
             0.4,
             "#fde0ef"
            ],
            [
             0.5,
             "#f7f7f7"
            ],
            [
             0.6,
             "#e6f5d0"
            ],
            [
             0.7,
             "#b8e186"
            ],
            [
             0.8,
             "#7fbc41"
            ],
            [
             0.9,
             "#4d9221"
            ],
            [
             1,
             "#276419"
            ]
           ],
           "sequential": [
            [
             0,
             "#0d0887"
            ],
            [
             0.1111111111111111,
             "#46039f"
            ],
            [
             0.2222222222222222,
             "#7201a8"
            ],
            [
             0.3333333333333333,
             "#9c179e"
            ],
            [
             0.4444444444444444,
             "#bd3786"
            ],
            [
             0.5555555555555556,
             "#d8576b"
            ],
            [
             0.6666666666666666,
             "#ed7953"
            ],
            [
             0.7777777777777778,
             "#fb9f3a"
            ],
            [
             0.8888888888888888,
             "#fdca26"
            ],
            [
             1,
             "#f0f921"
            ]
           ],
           "sequentialminus": [
            [
             0,
             "#0d0887"
            ],
            [
             0.1111111111111111,
             "#46039f"
            ],
            [
             0.2222222222222222,
             "#7201a8"
            ],
            [
             0.3333333333333333,
             "#9c179e"
            ],
            [
             0.4444444444444444,
             "#bd3786"
            ],
            [
             0.5555555555555556,
             "#d8576b"
            ],
            [
             0.6666666666666666,
             "#ed7953"
            ],
            [
             0.7777777777777778,
             "#fb9f3a"
            ],
            [
             0.8888888888888888,
             "#fdca26"
            ],
            [
             1,
             "#f0f921"
            ]
           ]
          },
          "colorway": [
           "#636efa",
           "#EF553B",
           "#00cc96",
           "#ab63fa",
           "#FFA15A",
           "#19d3f3",
           "#FF6692",
           "#B6E880",
           "#FF97FF",
           "#FECB52"
          ],
          "font": {
           "color": "#2a3f5f"
          },
          "geo": {
           "bgcolor": "white",
           "lakecolor": "white",
           "landcolor": "#E5ECF6",
           "showlakes": true,
           "showland": true,
           "subunitcolor": "white"
          },
          "hoverlabel": {
           "align": "left"
          },
          "hovermode": "closest",
          "mapbox": {
           "style": "light"
          },
          "paper_bgcolor": "white",
          "plot_bgcolor": "#E5ECF6",
          "polar": {
           "angularaxis": {
            "gridcolor": "white",
            "linecolor": "white",
            "ticks": ""
           },
           "bgcolor": "#E5ECF6",
           "radialaxis": {
            "gridcolor": "white",
            "linecolor": "white",
            "ticks": ""
           }
          },
          "scene": {
           "xaxis": {
            "backgroundcolor": "#E5ECF6",
            "gridcolor": "white",
            "gridwidth": 2,
            "linecolor": "white",
            "showbackground": true,
            "ticks": "",
            "zerolinecolor": "white"
           },
           "yaxis": {
            "backgroundcolor": "#E5ECF6",
            "gridcolor": "white",
            "gridwidth": 2,
            "linecolor": "white",
            "showbackground": true,
            "ticks": "",
            "zerolinecolor": "white"
           },
           "zaxis": {
            "backgroundcolor": "#E5ECF6",
            "gridcolor": "white",
            "gridwidth": 2,
            "linecolor": "white",
            "showbackground": true,
            "ticks": "",
            "zerolinecolor": "white"
           }
          },
          "shapedefaults": {
           "line": {
            "color": "#2a3f5f"
           }
          },
          "ternary": {
           "aaxis": {
            "gridcolor": "white",
            "linecolor": "white",
            "ticks": ""
           },
           "baxis": {
            "gridcolor": "white",
            "linecolor": "white",
            "ticks": ""
           },
           "bgcolor": "#E5ECF6",
           "caxis": {
            "gridcolor": "white",
            "linecolor": "white",
            "ticks": ""
           }
          },
          "title": {
           "x": 0.05
          },
          "xaxis": {
           "automargin": true,
           "gridcolor": "white",
           "linecolor": "white",
           "ticks": "",
           "title": {
            "standoff": 15
           },
           "zerolinecolor": "white",
           "zerolinewidth": 2
          },
          "yaxis": {
           "automargin": true,
           "gridcolor": "white",
           "linecolor": "white",
           "ticks": "",
           "title": {
            "standoff": 15
           },
           "zerolinecolor": "white",
           "zerolinewidth": 2
          }
         }
        },
        "title": {
         "text": "Ck metrics for accept/1[java.lang.String]"
        },
        "xaxis": {
         "anchor": "y",
         "domain": [
          0,
          1
         ],
         "title": {
          "text": "Metric"
         }
        },
        "yaxis": {
         "anchor": "x",
         "domain": [
          0,
          1
         ],
         "title": {
          "text": "Value"
         }
        }
       }
      }
     },
     "metadata": {},
     "output_type": "display_data"
    }
   ],
   "source": [
    "createBoxplotAndBarChart(\"12442bd8c7cde6e7c006a6277eeb8e81ad0c2219\", \"method\", \"org.hibernate.tool.schema.internal.exec.GenerationTargetToDatabase\", \"accept/1[java.lang.String]\")"
   ]
  }
 ],
 "metadata": {
  "kernelspec": {
   "display_name": "Python 3 (ipykernel)",
   "language": "python",
   "name": "python3"
  },
  "language_info": {
   "codemirror_mode": {
    "name": "ipython",
    "version": 3
   },
   "file_extension": ".py",
   "mimetype": "text/x-python",
   "name": "python",
   "nbconvert_exporter": "python",
   "pygments_lexer": "ipython3",
   "version": "3.9.13"
  }
 },
 "nbformat": 4,
 "nbformat_minor": 5
}
