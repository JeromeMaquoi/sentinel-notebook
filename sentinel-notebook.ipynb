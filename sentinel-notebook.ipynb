{
 "cells": [
  {
   "cell_type": "markdown",
   "id": "fb1cc479",
   "metadata": {},
   "source": [
    "# Joular and CK data analysis"
   ]
  },
  {
   "cell_type": "code",
   "execution_count": 66,
   "id": "22105557",
   "metadata": {},
   "outputs": [],
   "source": [
    "import requests\n",
    "import plotly.express as px\n",
    "from plotly.subplots import make_subplots\n",
    "import pandas as pd\n",
    "import numpy as np\n",
    "from scipy import stats\n",
    "import plotly.graph_objects as go\n",
    "from sklearn.linear_model import LinearRegression\n",
    "import statistics\n",
    "\n",
    "BASE_URL = \"http://localhost:8080/api/v1\""
   ]
  },
  {
   "cell_type": "markdown",
   "id": "099742eb",
   "metadata": {},
   "source": [
    "# Exploration of data"
   ]
  },
  {
   "cell_type": "markdown",
   "id": "feb85d1a",
   "metadata": {},
   "source": [
    "- **First objective**: aggregate all the joular data for each method and keep the methods having 30 values\n",
    "- **Second objective**: remove all the aberrant values like the values that are too high or too low compared to the other values\n",
    "- **Third objective**: sort all the data in function of their values in descending order\n",
    "- **Fourth objective**: for a few methods (those having the highest values), compare the distribution of the values with the CK analysis of this method"
   ]
  },
  {
   "cell_type": "markdown",
   "id": "68fe30cf",
   "metadata": {},
   "source": [
    "## Aggregate the joular values and getting the methods with 30 values"
   ]
  },
  {
   "cell_type": "code",
   "execution_count": 102,
   "id": "3c8e33a0",
   "metadata": {},
   "outputs": [],
   "source": [
    "def getEndpoint(endpoint, params=None):\n",
    "    URL = BASE_URL + endpoint\n",
    "    r = requests.get(url=URL, params=params)\n",
    "    return r.json()\n",
    "\n",
    "def getAllJoularDataForMethodsHaving30Values(sha=\"\"):\n",
    "    allResults = []\n",
    "    endpoint = \"/joular/aggregates\"\n",
    "    if (sha != \"\"):\n",
    "        endpoint += \"/by-commit/\" + sha\n",
    "    result = getEndpoint(endpoint)\n",
    "    allResults.extend(result[\"content\"])\n",
    "    while(not result[\"last\"]):\n",
    "        page = result[\"number\"] + 1\n",
    "        result = getEndpoint(endpoint, {\"page\": page})\n",
    "        allResults.extend(result[\"content\"])\n",
    "    return allResults\n",
    "\n",
    "def getSeveralCkDataForOneMethod(commitSha: str, className: str, methodSignature: str, ckMetrics: list[str]):\n",
    "    endpoint = \"/ck-entities/by-commit-and-ast-elem/\" + commitSha\n",
    "    params = {\n",
    "        \"className\": className,\n",
    "        \"methodSignature\": methodSignature,\n",
    "        \"names\": ckMetrics\n",
    "    }\n",
    "    return getEndpoint(endpoint=endpoint, params=params)\n",
    "\n",
    "def createBoxplotJoular(repositoryName, methodSignature, allValues):\n",
    "    df = pd.DataFrame({\"allValues\":allValues})\n",
    "    fig = px.box(df, y=\"allValues\", title=\"Joular values for \" + methodSignature + \" of repository \" +repositoryName, points=\"outliers\")\n",
    "    fig.show()"
   ]
  },
  {
   "cell_type": "code",
   "execution_count": 68,
   "id": "7e72e804",
   "metadata": {},
   "outputs": [],
   "source": [
    "def removeOutliersByZScore(data, threshold=3):\n",
    "    zScores = np.abs(stats.zscore(data))\n",
    "    #zScores = np.abs((data - np.mean(data)) / np.std(data))\n",
    "    \"\"\"boolScore = zScores < threshold\n",
    "    for i in range(len(data)):\n",
    "        print(str(data[i]) + \"   \" + str(zScores[i]) + \"  \" + str(boolScore[i]))\"\"\"\n",
    "    return data[zScores < threshold]"
   ]
  },
  {
   "cell_type": "code",
   "execution_count": 69,
   "id": "9b173d47",
   "metadata": {},
   "outputs": [],
   "source": [
    "def removeOutliersByIQR(allValues):\n",
    "    df = pd.DataFrame({\"allValues\":allValues})\n",
    "    Q1 = df.quantile(0.25)\n",
    "    Q3 = df.quantile(0.75)\n",
    "    IQR = Q3 - Q1\n",
    "    \"\"\"print(\"Q1 = \", Q1[\"allValues\"])\n",
    "    print(\"Q3 = \", Q3[\"allValues\"])\n",
    "    print(\"IQR = \", IQR[\"allValues\"])\n",
    "    print(\"Lower limit = \", Q1[\"allValues\"] - 1.5 * IQR[\"allValues\"])\n",
    "    print(\"Upper limit = \", Q3[\"allValues\"] + 1.5 * IQR[\"allValues\"])\"\"\"\n",
    "    return df[~((df < (Q1 - 1.5 * IQR))|(df > (Q3 + 1.5 * IQR))).any(axis=1)]"
   ]
  },
  {
   "cell_type": "markdown",
   "id": "11d800f3",
   "metadata": {},
   "source": [
    "### Data for all repositories"
   ]
  },
  {
   "cell_type": "code",
   "execution_count": 70,
   "id": "7597470e",
   "metadata": {},
   "outputs": [
    {
     "name": "stdout",
     "output_type": "stream",
     "text": [
      "[{'allValues': [13.2102995, 13.2899, 8.8747, 19.043499, 13.5588, 8.5176, 14.269899, 18.017899, 12.4479, 12.5522, 15.972099, 10.2345, 10.1583, 10.4532995, 10.5722, 18.7307, 11.9282, 19.8885, 14.6412, 8.6231, 14.889101, 8.2549, 6.4253, 20.9846, 10.0057, 16.4217, 17.3761, 13.858001, 14.9272, 4.9553003], 'commit': {'sha': '066f4cf207359e06d30911a553dedd054aef595c', 'repository': {'name': 'spoon', 'owner': 'INRIA'}}, 'measurableElement': {'astElem': 'method', 'filePath': '/home/student/j/m/jmaquoi/sentinel/open-source-repositories/spoon/src/main/java/spoon/support/visitor/equals/CloneHelper.java', 'className': 'spoon.support.visitor.equals.CloneHelper', 'methodSignature': 'clone/1[java.util.List<T>]', 'variableName': None, 'classType': None}}, {'allValues': [2.6434, 3.3217, 1.7121, 2.5619, 4.8666, 1.5823, 1.7059, 1.8515, 2.1705, 1.9023, 2.9767, 1.4794, 1.6872, 2.4829, 2.2425, 2.2834, 2.6695, 1.905, 2.7635, 1.5583, 3.44, 2.2518, 2.5874, 1.7856, 4.7418, 1.6208, 3.3302, 2.4519, 2.4453, 1.6896], 'commit': {'sha': '3ed1f1a064a10e53adc2ad8c0b46a4b2c148ee21', 'repository': {'name': 'spring-boot', 'owner': 'spring-projects'}}, 'measurableElement': {'astElem': 'method', 'filePath': '/home/student/j/m/jmaquoi/sentinel/open-source-repositories/spring-boot/spring-boot-project/spring-boot/src/main/java/org/springframework/boot/jdbc/metadata/HikariDataSourcePoolMetadata.java', 'className': 'org.springframework.boot.jdbc.metadata.HikariDataSourcePoolMetadata', 'methodSignature': 'getHikariPool/0', 'variableName': None, 'classType': None}}, {'allValues': [9.9916, 9.5144, 5.0793, 12.1416, 8.3361, 14.472899, 7.0120997, 9.7694, 5.5102, 5.2251, 5.4906, 12.727301, 10.9504, 10.88, 11.5099, 8.6921, 10.1969, 9.093, 7.1528, 8.5502, 4.8169, 12.417299, 15.132601, 11.9131, 11.8948, 7.532, 11.2003, 10.0205, 5.9604, 5.8949], 'commit': {'sha': '3ed1f1a064a10e53adc2ad8c0b46a4b2c148ee21', 'repository': {'name': 'spring-boot', 'owner': 'spring-projects'}}, 'measurableElement': {'astElem': 'method', 'filePath': '/home/student/j/m/jmaquoi/sentinel/open-source-repositories/spring-boot/spring-boot-project/spring-boot/src/test/java/org/springframework/boot/web/servlet/server/AbstractServletWebServerFactoryTests.java', 'className': 'org.springframework.boot.web.servlet.server.AbstractServletWebServerFactoryTests', 'methodSignature': 'servletContextListenerContextDestroyedIsCalledWhenContainerIsStopped/0', 'variableName': None, 'classType': None}}, {'allValues': [11.184501, 10.6033, 9.3356, 13.6076, 12.0293, 13.3082, 10.3179, 10.4707, 10.1727, 8.5736, 11.6189, 8.9195, 11.0154, 9.1734, 11.2746, 8.356501, 10.2676, 10.7578, 8.9795, 10.9354, 10.6096, 8.5275, 12.8227, 9.6937, 10.0517, 10.0207, 11.454599, 3.2457, 4.4192, 10.4548], 'commit': {'sha': '3ed1f1a064a10e53adc2ad8c0b46a4b2c148ee21', 'repository': {'name': 'spring-boot', 'owner': 'spring-projects'}}, 'measurableElement': {'astElem': 'method', 'filePath': '/home/student/j/m/jmaquoi/sentinel/open-source-repositories/spring-boot/spring-boot-project/spring-boot/src/test/java/org/springframework/boot/context/properties/ConfigurationPropertiesBeanRegistrationAotProcessorTests.java', 'className': 'org.springframework.boot.context.properties.ConfigurationPropertiesBeanRegistrationAotProcessorTests', 'methodSignature': 'aotContributedInitializerBindsScannedJavaBean/0', 'variableName': None, 'classType': None}}, {'allValues': [605.3186, 875.6661, 674.6993, 668.33905, 801.68054, 594.3408, 689.5299, 782.6006, 719.6228, 757.60474, 630.9744, 714.6181, 603.2842, 656.8456, 642.8797, 642.9857, 712.685, 591.0817, 676.3948, 580.8858, 769.4656, 700.3602, 576.1769, 795.3666, 629.2258, 633.6408, 785.6879, 638.0078, 677.9366, 635.0617], 'commit': {'sha': '066f4cf207359e06d30911a553dedd054aef595c', 'repository': {'name': 'spoon', 'owner': 'INRIA'}}, 'measurableElement': {'astElem': 'method', 'filePath': '/home/student/j/m/jmaquoi/sentinel/open-source-repositories/spoon/src/main/java/spoon/reflect/visitor/EarlyTerminatingScanner.java', 'className': 'spoon.reflect.visitor.EarlyTerminatingScanner', 'methodSignature': 'scan/1[spoon.reflect.declaration.CtElement]', 'variableName': None, 'classType': None}}, {'allValues': [2.7813, 1.4098, 1.4831, 2.7856, 1.3337, 1.4366, 2.6964, 1.6713, 1.3259, 1.3852, 1.5519, 2.9048, 1.4219, 1.3866, 1.4436, 1.3741, 2.7674, 1.3688, 1.611, 1.4562, 2.6335, 2.9686, 2.6964, 2.9188, 1.3968, 1.6648, 1.6896, 2.9995, 3.1882, 1.5006], 'commit': {'sha': '3ed1f1a064a10e53adc2ad8c0b46a4b2c148ee21', 'repository': {'name': 'spring-boot', 'owner': 'spring-projects'}}, 'measurableElement': {'astElem': 'method', 'filePath': '/home/student/j/m/jmaquoi/sentinel/open-source-repositories/spring-boot/spring-boot-project/spring-boot/src/test/java/org/springframework/boot/context/config/ConfigDataEnvironmentContributorTests.java', 'className': 'org.springframework.boot.context.config.ConfigDataEnvironmentContributorTests', 'methodSignature': 'getLocationReturnsLocation/0', 'variableName': None, 'classType': None}}, {'allValues': [12.6189, 8.447101, 11.0711, 9.3879, 8.8494005, 8.3242, 17.2596, 19.5386, 7.2348, 12.0079, 10.9327, 13.2785, 11.4927, 10.0349, 8.1318, 13.7612, 4.2529, 17.910099, 15.0273, 15.2124, 9.882, 10.3314, 15.0954, 11.5966, 21.0721, 19.7495, 11.5755005, 5.2605, 16.663, 11.7628], 'commit': {'sha': '12442bd8c7cde6e7c006a6277eeb8e81ad0c2219', 'repository': {'name': 'hibernate-orm', 'owner': 'hibernate'}}, 'measurableElement': {'astElem': 'method', 'filePath': '/home/student/j/m/jmaquoi/sentinel/open-source-repositories/hibernate-orm/hibernate-core/src/main/java/org/hibernate/boot/archive/scan/spi/ClassFileArchiveEntryHandler.java', 'className': 'org.hibernate.boot.archive.scan.spi.ClassFileArchiveEntryHandler', 'methodSignature': 'toClassDescriptor/1[org.hibernate.boot.archive.spi.ArchiveEntry]', 'variableName': None, 'classType': None}}, {'allValues': [10.8654, 5.1402, 7.2297, 5.0511, 11.9333, 3.3679, 10.1204, 6.5154, 2.156, 5.5157, 5.5126, 10.8569, 5.3134, 2.8196, 4.9169, 4.8648, 7.1721, 1.7172, 6.6368, 9.5861, 24.8619, 12.5276, 6.9591, 9.3448, 2.9658, 7.0001, 7.704, 9.9559, 7.0528, 5.8118], 'commit': {'sha': '066f4cf207359e06d30911a553dedd054aef595c', 'repository': {'name': 'spoon', 'owner': 'INRIA'}}, 'measurableElement': {'astElem': 'method', 'filePath': '/home/student/j/m/jmaquoi/sentinel/open-source-repositories/spoon/src/main/java/spoon/reflect/visitor/chain/CtQueryImpl.java', 'className': 'spoon.reflect.visitor.chain.CtQueryImpl$AbstractStep', 'methodSignature': 'onClassCastException/2[java.lang.ClassCastException,java.lang.Object]', 'variableName': None, 'classType': None}}, {'allValues': [85.19861, 196.84381, 72.4242, 182.2456, 248.15561, 70.8846, 191.8188, 92.1251, 76.456505, 219.8806, 168.0745, 65.9431, 201.0169, 70.379196, 164.4825, 80.465096, 67.8358, 228.1291, 192.7792, 253.18959, 79.0065, 69.6159, 252.48721, 340.14468, 243.8313, 249.5533, 242.8196, 246.71329, 102.531, 77.7499], 'commit': {'sha': '5c9d8989f968d0ee3a942b411ef7fe121ed94609', 'repository': {'name': 'jabref', 'owner': 'JabRef'}}, 'measurableElement': {'astElem': 'method', 'filePath': '/home/student/j/m/jmaquoi/sentinel/open-source-repositories/jabref/src/main/java/org/jabref/logic/pdf/search/indexing/PdfIndexer.java', 'className': 'org.jabref.logic.pdf.search.indexing.PdfIndexer', 'methodSignature': 'writeToIndex/2[org.jabref.logic.pdf.search.indexing.BibEntry,org.jabref.logic.pdf.search.indexing.LinkedFile]', 'variableName': None, 'classType': None}}, {'allValues': [7.4571, 5.0021, 6.9829, 5.3263, 3.6978, 7.1612, 3.503, 2.2681, 4.0813, 3.968, 10.9239, 5.2773, 7.5014, 3.1501, 6.3916, 1.0578, 2.7502, 3.8013, 9.8796, 7.6769, 2.656, 1.5143, 6.7327, 4.1793, 6.2519, 6.5571, 7.434, 6.7829, 8.4423, 3.088], 'commit': {'sha': '3ed1f1a064a10e53adc2ad8c0b46a4b2c148ee21', 'repository': {'name': 'spring-boot', 'owner': 'spring-projects'}}, 'measurableElement': {'astElem': 'method', 'filePath': '/home/student/j/m/jmaquoi/sentinel/open-source-repositories/spring-boot/spring-boot-project/spring-boot/src/main/java/org/springframework/boot/convert/ApplicationConversionService.java', 'className': 'org.springframework.boot.convert.ApplicationConversionService', 'methodSignature': 'addConverter/1[org.springframework.boot.convert.GenericConverter]', 'variableName': None, 'classType': None}}, {'allValues': [23.3071, 13.7588, 16.1355, 23.4786, 33.6602, 1.3187, 23.3826, 18.1023, 28.2466, 30.7874, 15.6319, 24.5318, 15.3997, 22.7416, 3.4993, 20.0886, 18.8723, 13.4894, 19.2796, 19.5546, 17.579, 26.891, 11.6239, 25.3741, 7.9667997, 20.1666, 19.1761, 22.5496, 18.4634, 21.7616], 'commit': {'sha': '066f4cf207359e06d30911a553dedd054aef595c', 'repository': {'name': 'spoon', 'owner': 'INRIA'}}, 'measurableElement': {'astElem': 'method', 'filePath': '/home/student/j/m/jmaquoi/sentinel/open-source-repositories/spoon/src/main/java/spoon/support/StandardEnvironment.java', 'className': 'spoon.support.StandardEnvironment', 'methodSignature': 'getInputClassLoader/0', 'variableName': None, 'classType': None}}, {'allValues': [13.5105, 5.9742, 4.8003, 7.0496, 3.6686, 14.2796, 12.6115, 15.9169, 13.137899, 8.114201, 17.232601, 18.6731, 13.4121, 11.3944, 10.5288, 12.282001, 8.1207, 2.7133, 10.1375, 10.2469, 11.751801, 5.3148, 8.9732, 11.7424, 9.6998, 7.8115997, 9.9414, 12.0118, 12.7294, 16.9146], 'commit': {'sha': '066f4cf207359e06d30911a553dedd054aef595c', 'repository': {'name': 'spoon', 'owner': 'INRIA'}}, 'measurableElement': {'astElem': 'method', 'filePath': '/home/student/j/m/jmaquoi/sentinel/open-source-repositories/spoon/src/main/java/spoon/support/util/ModelList.java', 'className': 'spoon.support.util.ModelList', 'methodSignature': 'add/1[T]', 'variableName': None, 'classType': None}}, {'allValues': [2.476, 8.2561, 2.1857, 2.7673001, 7.219, 7.9594, 2.9272, 5.1875, 1.0776, 3.2711, 2.9196, 3.2908, 3.465, 3.2216, 3.2874002, 1.1589, 12.4561, 1.7171, 5.0851, 1.1973, 1.9184, 2.7441, 4.1642, 4.9653, 1.5082, 3.3306, 1.4875, 3.5014, 2.999, 5.1638], 'commit': {'sha': '3ed1f1a064a10e53adc2ad8c0b46a4b2c148ee21', 'repository': {'name': 'spring-boot', 'owner': 'spring-projects'}}, 'measurableElement': {'astElem': 'method', 'filePath': '/home/student/j/m/jmaquoi/sentinel/open-source-repositories/spring-boot/spring-boot-project/spring-boot/src/test/java/org/springframework/boot/context/properties/source/ConfigurationPropertySourcesTests.java', 'className': 'org.springframework.boot.context.properties.source.ConfigurationPropertySourcesTests', 'methodSignature': 'descendantOfPropertyAccessWhenMutableWithCacheShouldBePerformant/0', 'variableName': None, 'classType': None}}, {'allValues': [14.5711, 11.5005, 19.3803, 13.6546, 16.5715, 21.8595, 9.5895, 20.8639, 17.7173, 10.2495, 16.8628, 14.0239, 18.2015, 25.8332, 18.8908, 19.331, 21.14, 12.5611, 14.5202, 13.6893, 15.4152, 21.2048, 16.9157, 10.4012, 11.7995, 16.8417, 15.6509, 17.6875, 18.9151, 21.7962], 'commit': {'sha': '5c9d8989f968d0ee3a942b411ef7fe121ed94609', 'repository': {'name': 'jabref', 'owner': 'JabRef'}}, 'measurableElement': {'astElem': 'method', 'filePath': '/home/student/j/m/jmaquoi/sentinel/open-source-repositories/jabref/src/main/java/org/jabref/logic/xmp/XmpUtilReader.java', 'className': 'org.jabref.logic.xmp.XmpUtilReader', 'methodSignature': 'loadWithAutomaticDecryption/1[java.nio.file.Path]', 'variableName': None, 'classType': None}}, {'allValues': [9.87, 10.4887, 18.3976, 12.446, 14.1181, 12.0964, 9.429, 18.7959, 5.2173, 14.0437, 49.2732, 8.7531, 10.4095, 7.7809, 23.4789, 12.8883, 11.1667, 9.4479, 8.086, 7.7439, 1.3795, 9.9447, 18.7932, 14.5878, 8.2472, 13.739201, 13.3009, 8.1253, 10.9775, 11.1631], 'commit': {'sha': '066f4cf207359e06d30911a553dedd054aef595c', 'repository': {'name': 'spoon', 'owner': 'INRIA'}}, 'measurableElement': {'astElem': 'method', 'filePath': '/home/student/j/m/jmaquoi/sentinel/open-source-repositories/spoon/src/main/java/spoon/support/compiler/FileSystemFolder.java', 'className': 'spoon.support.compiler.FileSystemFolder', 'methodSignature': 'getFiles/0', 'variableName': None, 'classType': None}}, {'allValues': [46.6184, 44.7106, 42.1154, 55.3776, 48.1457, 38.9321, 44.6987, 47.8306, 68.6022, 52.7072, 42.8279, 46.1616, 26.8481, 36.4474, 35.0423, 42.0195, 42.8425, 41.8993, 52.0627, 42.3539, 64.3697, 47.2614, 34.6957, 52.176, 57.4948, 39.4128, 48.9577, 37.759, 62.6044, 31.2004], 'commit': {'sha': '066f4cf207359e06d30911a553dedd054aef595c', 'repository': {'name': 'spoon', 'owner': 'INRIA'}}, 'measurableElement': {'astElem': 'method', 'filePath': '/home/student/j/m/jmaquoi/sentinel/open-source-repositories/spoon/src/main/java/spoon/reflect/visitor/AstParentConsistencyChecker.java', 'className': 'spoon.reflect.visitor.AstParentConsistencyChecker', 'methodSignature': 'scan/1[spoon.reflect.declaration.CtElement]', 'variableName': None, 'classType': None}}, {'allValues': [2.7222, 2.798, 2.8762, 2.6868, 2.838, 2.87, 2.7154, 2.8376, 2.7528, 1.3286, 2.7874, 1.3755, 2.9784, 1.4325, 2.7242, 2.815, 2.7468, 2.6646, 1.4762, 2.6942, 1.3965, 2.7532, 2.5516, 1.3389, 2.7962, 2.7368, 3.3994, 1.468, 2.7896, 2.8112], 'commit': {'sha': '3ed1f1a064a10e53adc2ad8c0b46a4b2c148ee21', 'repository': {'name': 'spring-boot', 'owner': 'spring-projects'}}, 'measurableElement': {'astElem': 'method', 'filePath': '/home/student/j/m/jmaquoi/sentinel/open-source-repositories/spring-boot/spring-boot-project/spring-boot/src/test/java/org/springframework/boot/LazyInitializationBeanFactoryPostProcessorTests.java', 'className': 'org.springframework.boot.LazyInitializationBeanFactoryPostProcessorTests', 'methodSignature': 'whenLazyInitializationIsEnabledThenNormalBeansAreNotInitializedUntilRequired/0', 'variableName': None, 'classType': None}}, {'allValues': [90.1768, 81.9949, 80.5781, 78.1657, 85.0104, 87.9041, 78.9411, 80.1593, 88.8959, 80.0991, 79.1487, 84.0852, 84.622, 81.8777, 88.331, 83.5189, 78.7325, 73.7753, 80.4726, 79.6671, 79.4726, 86.9281, 79.4041, 80.0409, 76.6696, 78.5474, 89.4026, 85.5557, 77.0653, 78.2771], 'commit': {'sha': '3ed1f1a064a10e53adc2ad8c0b46a4b2c148ee21', 'repository': {'name': 'spring-boot', 'owner': 'spring-projects'}}, 'measurableElement': {'astElem': 'method', 'filePath': '/home/student/j/m/jmaquoi/sentinel/open-source-repositories/spring-boot/spring-boot-project/spring-boot/src/test/java/org/springframework/boot/ApplicationEnvironmentTests.java', 'className': 'org.springframework.boot.ApplicationEnvironmentTests', 'methodSignature': 'createEnvironment/0', 'variableName': None, 'classType': None}}, {'allValues': [12.2547, 23.8474, 8.3253, 11.4721, 23.7065, 12.2211, 25.6547, 10.1125, 14.1803, 20.2571, 11.715, 20.284, 31.7581, 15.8093, 20.6786, 10.5543, 15.0589, 16.7321, 17.8859, 11.6561, 11.1543, 22.8621, 4.7022, 19.443, 24.483, 13.9397, 26.0746, 19.2757, 16.7113, 9.6881], 'commit': {'sha': '066f4cf207359e06d30911a553dedd054aef595c', 'repository': {'name': 'spoon', 'owner': 'INRIA'}}, 'measurableElement': {'astElem': 'method', 'filePath': '/home/student/j/m/jmaquoi/sentinel/open-source-repositories/spoon/src/main/java/spoon/support/compiler/jdt/ContextBuilder.java', 'className': 'spoon.support.compiler.jdt.ContextBuilder', 'methodSignature': 'getCompilationUnitContents/0', 'variableName': None, 'classType': None}}, {'allValues': [14.6007, 19.679098, 11.144, 22.2829, 11.3735, 13.6323, 17.5236, 21.258999, 10.6097, 14.7753, 10.512, 25.2097, 15.3619995, 18.6868, 6.6211004, 7.2379, 20.2054, 9.8545, 11.7624, 16.7725, 15.0064, 14.2385, 17.0967, 6.0521, 15.2265, 8.4972, 15.6605, 22.1504, 16.7488, 14.6606], 'commit': {'sha': '066f4cf207359e06d30911a553dedd054aef595c', 'repository': {'name': 'spoon', 'owner': 'INRIA'}}, 'measurableElement': {'astElem': 'method', 'filePath': '/home/student/j/m/jmaquoi/sentinel/open-source-repositories/spoon/src/main/java/spoon/reflect/visitor/CtScanner.java', 'className': 'spoon.reflect.visitor.CtScanner', 'methodSignature': 'visitCtIf/1[spoon.reflect.code.CtIf]', 'variableName': None, 'classType': None}}, {'allValues': [26.9983, 14.8475, 14.5863, 25.7619, 19.3921, 13.1546, 20.5256, 26.5452, 26.9781, 19.5818, 28.7881, 23.5181, 16.0172, 27.4509, 35.2381, 24.5802, 24.3255, 13.3427, 19.046, 21.2731, 17.4577, 25.0236, 26.8278, 31.4757, 13.1718, 10.3123, 7.9486, 19.2592, 18.4299, 19.5581], 'commit': {'sha': '3ed1f1a064a10e53adc2ad8c0b46a4b2c148ee21', 'repository': {'name': 'spring-boot', 'owner': 'spring-projects'}}, 'measurableElement': {'astElem': 'method', 'filePath': '/home/student/j/m/jmaquoi/sentinel/open-source-repositories/spring-boot/spring-boot-project/spring-boot/src/main/java/org/springframework/boot/web/client/RestTemplateBuilder.java', 'className': 'org.springframework.boot.web.client.RestTemplateBuilder', 'methodSignature': 'build/0', 'variableName': None, 'classType': None}}, {'allValues': [89.8834, 79.6676, 82.4476, 70.1773, 77.1111, 72.0509, 64.1759, 123.238205, 81.5206, 101.109604, 69.1312, 49.066402, 75.4008, 79.4834, 70.8662, 82.1619, 74.1024, 87.166504, 90.7941, 94.4517, 86.5703, 74.8622, 71.67, 90.497406, 59.5748, 51.2769, 94.4226, 87.265594, 88.1055, 78.2765], 'commit': {'sha': '066f4cf207359e06d30911a553dedd054aef595c', 'repository': {'name': 'spoon', 'owner': 'INRIA'}}, 'measurableElement': {'astElem': 'method', 'filePath': '/home/student/j/m/jmaquoi/sentinel/open-source-repositories/spoon/src/main/java/spoon/support/reflect/reference/CtTypeReferenceImpl.java', 'className': 'spoon.support.reflect.reference.CtTypeReferenceImpl', 'methodSignature': 'getTypeDeclaration/0', 'variableName': None, 'classType': None}}, {'allValues': [22.9004, 23.6699, 11.4182005, 9.2456, 23.2008, 44.632698, 15.3852005, 16.9127, 17.223999, 19.4761, 30.9286, 44.788597, 13.320499, 14.111401, 17.785198, 17.4317, 18.4688, 15.6819, 14.811199, 17.6484, 16.6388, 10.6199, 13.3816, 22.763199, 12.2908, 33.9523, 15.547501, 23.491001, 20.8617, 12.408199], 'commit': {'sha': '066f4cf207359e06d30911a553dedd054aef595c', 'repository': {'name': 'spoon', 'owner': 'INRIA'}}, 'measurableElement': {'astElem': 'method', 'filePath': '/home/student/j/m/jmaquoi/sentinel/open-source-repositories/spoon/src/main/java/spoon/support/compiler/FileSystemFolder.java', 'className': 'spoon.support.compiler.FileSystemFolder', 'methodSignature': 'getSubFolders/0', 'variableName': None, 'classType': None}}, {'allValues': [4.5737, 4.7222, 6.9203, 4.4669, 3.7386, 3.7113, 5.4429, 9.2261, 4.1714, 12.2442, 3.6089, 2.145, 1.1526, 1.5235, 5.7884, 6.174, 4.3278, 4.7027, 1.1197, 1.3469, 1.1815, 8.0358, 2.9132, 6.0924, 4.9536, 3.3306, 8.8341, 9.554, 6.463, 3.6401], 'commit': {'sha': '066f4cf207359e06d30911a553dedd054aef595c', 'repository': {'name': 'spoon', 'owner': 'INRIA'}}, 'measurableElement': {'astElem': 'method', 'filePath': '/home/student/j/m/jmaquoi/sentinel/open-source-repositories/spoon/src/main/java/spoon/support/compiler/jdt/ContextBuilder.java', 'className': 'spoon.support.compiler.jdt.ContextBuilder', 'methodSignature': 'getCurrentNode/0', 'variableName': None, 'classType': None}}, {'allValues': [12.682099, 18.1551, 20.9042, 23.9855, 30.6223, 14.5408, 22.7103, 12.6523, 16.9009, 20.3196, 27.7593, 19.3493, 18.6265, 13.919, 22.9389, 21.5999, 23.3721, 19.5287, 13.893299, 22.9037, 29.435001, 8.5627, 14.7373, 13.1277, 8.287, 14.6471, 12.030001, 12.3069, 13.3436, 15.2148], 'commit': {'sha': '12442bd8c7cde6e7c006a6277eeb8e81ad0c2219', 'repository': {'name': 'hibernate-orm', 'owner': 'hibernate'}}, 'measurableElement': {'astElem': 'method', 'filePath': '/home/student/j/m/jmaquoi/sentinel/open-source-repositories/hibernate-orm/hibernate-core/src/main/java/org/hibernate/bytecode/enhance/internal/bytebuddy/PersistentAttributeTransformer.java', 'className': 'org.hibernate.bytecode.enhance.internal.bytebuddy.PersistentAttributeTransformer', 'methodSignature': 'PersistentAttributeTransformer/4[org.hibernate.bytecode.enhance.internal.bytebuddy.TypeDescription,org.hibernate.bytecode.enhance.internal.bytebuddy.ByteBuddyEnhancementContext,org.hibernate.bytecode.enhance.internal.bytebuddy.TypePool,org.hibernate.bytecode.enhance.internal.bytebuddy.EnhancerImpl.AnnotatedFieldDescription[]]', 'variableName': None, 'classType': None}}, {'allValues': [20.275, 43.7008, 43.2293, 33.7956, 59.3551, 50.2802, 30.0472, 29.4404, 49.838, 38.3489, 40.0212, 26.7409, 31.5249, 33.1619, 30.0549, 29.6721, 28.0983, 27.5834, 19.1563, 34.9704, 33.6691, 21.6167, 34.0892, 30.1829, 34.6958, 48.7751, 40.0197, 36.9727, 24.1949, 21.1345], 'commit': {'sha': '066f4cf207359e06d30911a553dedd054aef595c', 'repository': {'name': 'spoon', 'owner': 'INRIA'}}, 'measurableElement': {'astElem': 'method', 'filePath': '/home/student/j/m/jmaquoi/sentinel/open-source-repositories/spoon/src/main/java/spoon/support/reflect/declaration/CtElementImpl.java', 'className': 'spoon.support.reflect.declaration.CtElementImpl', 'methodSignature': 'setPosition/1[spoon.reflect.cu.SourcePosition]', 'variableName': None, 'classType': None}}, {'allValues': [60.3309, 41.8356, 37.0874, 41.446198, 53.342995, 62.6275, 51.7039, 45.3757, 69.82191, 53.9189, 38.435204, 49.8946, 59.0084, 39.6574, 44.5514, 69.382996, 55.630398, 40.2149, 30.7442, 43.1583, 50.363003, 29.2059, 50.549797, 45.972, 29.5023, 40.9339, 41.161396, 44.2792, 49.774403, 42.978397], 'commit': {'sha': '066f4cf207359e06d30911a553dedd054aef595c', 'repository': {'name': 'spoon', 'owner': 'INRIA'}}, 'measurableElement': {'astElem': 'method', 'filePath': '/home/student/j/m/jmaquoi/sentinel/open-source-repositories/spoon/src/main/java/spoon/reflect/visitor/CtScanner.java', 'className': 'spoon.reflect.visitor.CtScanner', 'methodSignature': 'visitCtFieldRead/1[spoon.reflect.code.CtFieldRead<T>]', 'variableName': None, 'classType': None}}, {'allValues': [6.6443, 6.9061, 5.8182, 1.4448, 5.7712, 8.059, 12.693201, 15.8752, 13.8564, 6.0047, 2.0574, 11.6579, 9.368, 7.4798, 9.4799, 2.5821, 6.1967, 8.3413, 5.0154, 8.5293, 12.9226, 10.4952, 3.3049002, 13.8812, 8.6409, 7.2755, 1.9832, 8.3503, 8.886499, 7.3037004], 'commit': {'sha': '066f4cf207359e06d30911a553dedd054aef595c', 'repository': {'name': 'spoon', 'owner': 'INRIA'}}, 'measurableElement': {'astElem': 'method', 'filePath': '/home/student/j/m/jmaquoi/sentinel/open-source-repositories/spoon/src/main/java/spoon/support/adaption/TypeAdaptor.java', 'className': 'spoon.support.adaption.TypeAdaptor', 'methodSignature': 'buildGlueHierarchyFrom/4[spoon.support.adaption.CtTypeReference<?>,spoon.support.adaption.CtType<?>,java.util.Map<spoon.support.adaption.CtTypeReference<?>,spoon.support.adaption.GlueNode>,java.util.Map<spoon.support.adaption.CtTypeReference<?>,spoon.support.adaption.DeclarationNode>]', 'variableName': None, 'classType': None}}, {'allValues': [22.4324, 13.8574, 2.5707, 15.7096, 26.7399, 18.1772, 19.289, 23.647, 55.2965, 27.3805, 26.3404, 15.9632, 31.4335, 23.2896, 12.9074, 16.1626, 17.008, 39.451, 8.4967, 14.4674, 21.2852, 21.6369, 19.1833, 19.6769, 40.6653, 32.2356, 22.4843, 24.4395, 44.5028, 20.4354], 'commit': {'sha': '12442bd8c7cde6e7c006a6277eeb8e81ad0c2219', 'repository': {'name': 'hibernate-orm', 'owner': 'hibernate'}}, 'measurableElement': {'astElem': 'method', 'filePath': '/home/student/j/m/jmaquoi/sentinel/open-source-repositories/hibernate-orm/hibernate-core/src/main/java/org/hibernate/type/internal/BasicTypeImpl.java', 'className': 'org.hibernate.type.internal.BasicTypeImpl', 'methodSignature': 'BasicTypeImpl/2[org.hibernate.type.descriptor.java.JavaType<J>,org.hibernate.type.internal.JdbcType]', 'variableName': None, 'classType': None}}, {'allValues': [9.4851, 4.4675, 4.9299, 6.4211, 1.3718, 4.448, 2.5626, 4.0207, 4.6501, 8.3519, 4.0492, 5.9089, 2.4202, 2.1266, 7.1768, 6.1628, 3.987, 8.8199, 6.4972, 4.5199, 4.5437, 7.3486, 6.8027, 10.1035, 4.2689, 4.2122, 2.6034, 4.2172, 3.4385, 5.25], 'commit': {'sha': '12442bd8c7cde6e7c006a6277eeb8e81ad0c2219', 'repository': {'name': 'hibernate-orm', 'owner': 'hibernate'}}, 'measurableElement': {'astElem': 'method', 'filePath': '/home/student/j/m/jmaquoi/sentinel/open-source-repositories/hibernate-orm/hibernate-core/src/test/java/org/hibernate/orm/test/bootstrap/scanning/PackagingTestCase.java', 'className': 'org.hibernate.orm.test.bootstrap.scanning.PackagingTestCase', 'methodSignature': 'buildExplicitPar/0', 'variableName': None, 'classType': None}}, {'allValues': [8.1951, 10.211101, 12.233101, 11.879601, 18.4552, 8.451099, 8.2005005, 9.663, 13.5629, 14.5637, 7.8026, 12.4558, 11.056101, 17.8512, 11.083, 13.0481, 3.3095, 16.7864, 5.169, 10.3784, 16.2304, 16.1621, 12.036, 5.2871, 9.954499, 6.4112, 8.3918, 12.035701, 22.6288, 6.7264004], 'commit': {'sha': '066f4cf207359e06d30911a553dedd054aef595c', 'repository': {'name': 'spoon', 'owner': 'INRIA'}}, 'measurableElement': {'astElem': 'method', 'filePath': '/home/student/j/m/jmaquoi/sentinel/open-source-repositories/spoon/src/main/java/spoon/reflect/visitor/ImportScannerImpl.java', 'className': 'spoon.reflect.visitor.ImportScannerImpl', 'methodSignature': 'isTypeInCollision/2[spoon.reflect.reference.CtReference,boolean]', 'variableName': None, 'classType': None}}, {'allValues': [11.9001, 18.4574, 18.4153, 10.7065, 19.2374, 16.5671, 15.8776, 12.4509, 11.2849, 12.1641, 6.6512, 5.3167, 8.0799, 11.0534, 7.8762, 11.6363, 12.1881, 5.3053, 18.3153, 8.1852, 13.877, 16.9503, 9.4571, 6.7695, 12.3663, 14.532801, 13.323, 13.8617, 4.4473, 11.2876], 'commit': {'sha': '3ed1f1a064a10e53adc2ad8c0b46a4b2c148ee21', 'repository': {'name': 'spring-boot', 'owner': 'spring-projects'}}, 'measurableElement': {'astElem': 'method', 'filePath': '/home/student/j/m/jmaquoi/sentinel/open-source-repositories/spring-boot/spring-boot-project/spring-boot/src/test/java/org/springframework/boot/logging/logback/LogbackLoggingSystemTests.java', 'className': 'org.springframework.boot.logging.logback.LogbackLoggingSystemTests', 'methodSignature': 'setup/0', 'variableName': None, 'classType': None}}, {'allValues': [7.7219, 1.2459, 4.9706, 8.7221, 3.0661, 9.7178, 6.9555, 6.2287, 1.3181, 8.0047, 9.389, 1.9136, 8.4594, 11.7972, 13.1755, 6.0228, 6.3773, 7.5474005, 1.9001, 5.4129, 6.4823, 12.3938, 8.9787, 5.2887, 3.3077, 7.6844, 10.944401, 9.833301, 2.4914, 15.0550995], 'commit': {'sha': '12442bd8c7cde6e7c006a6277eeb8e81ad0c2219', 'repository': {'name': 'hibernate-orm', 'owner': 'hibernate'}}, 'measurableElement': {'astElem': 'method', 'filePath': '/home/student/j/m/jmaquoi/sentinel/open-source-repositories/hibernate-orm/hibernate-core/src/main/java/org/hibernate/boot/registry/classloading/internal/ClassLoaderServiceImpl.java', 'className': 'org.hibernate.boot.registry.classloading.internal.ClassLoaderServiceImpl', 'methodSignature': 'loadJavaServices/1[java.lang.Class<S>]', 'variableName': None, 'classType': None}}, {'allValues': [4.6404, 5.3753, 4.3437, 3.6679, 2.4218, 3.2851, 5.6621, 6.3266, 4.3014, 2.3267, 3.4247, 4.6212, 4.6013, 4.7907, 3.4181, 4.5404, 3.3342, 2.4159, 4.4517, 4.4682, 3.5792, 3.4889, 3.7228, 1.188, 4.4177, 1.1362, 3.3894, 3.6818, 4.9943, 3.4947], 'commit': {'sha': '3ed1f1a064a10e53adc2ad8c0b46a4b2c148ee21', 'repository': {'name': 'spring-boot', 'owner': 'spring-projects'}}, 'measurableElement': {'astElem': 'method', 'filePath': '/home/student/j/m/jmaquoi/sentinel/open-source-repositories/spring-boot/spring-boot-project/spring-boot/src/test/java/org/springframework/boot/logging/log4j2/SpringProfileArbiterTests.java', 'className': 'org.springframework.boot.logging.log4j2.SpringProfileArbiterTests', 'methodSignature': 'setup/1[org.springframework.boot.logging.log4j2.CapturedOutput]', 'variableName': None, 'classType': None}}, {'allValues': [10.5736, 15.6433, 8.5603, 11.9769, 7.2999, 9.3451, 8.2318, 8.6421, 10.8527, 9.5116, 16.8585, 9.6037, 8.5628, 14.2129, 10.601, 17.5255, 15.0703, 9.5252, 21.0939, 10.7573, 12.4782, 16.6278, 11.9824, 7.1423, 13.3802, 9.8561, 9.966, 9.8078, 18.158, 12.0423], 'commit': {'sha': '3ed1f1a064a10e53adc2ad8c0b46a4b2c148ee21', 'repository': {'name': 'spring-boot', 'owner': 'spring-projects'}}, 'measurableElement': {'astElem': 'method', 'filePath': '/home/student/j/m/jmaquoi/sentinel/open-source-repositories/spring-boot/spring-boot-project/spring-boot/src/main/java/org/springframework/boot/jdbc/EmbeddedDatabaseConnection.java', 'className': 'org.springframework.boot.jdbc.EmbeddedDatabaseConnection', 'methodSignature': 'isEmbedded/1[javax.sql.DataSource]', 'variableName': None, 'classType': None}}, {'allValues': [11.685101, 11.6784, 4.9804, 4.1222, 10.5769005, 10.4722, 8.2771, 10.6285, 8.4217, 3.3193998, 19.0018, 16.495, 5.3129, 14.9647, 4.8043003, 9.1455, 7.5997996, 16.855299, 16.230999, 2.7378, 16.4784, 4.543, 9.794499, 5.1345, 8.2686, 4.4702, 5.9702, 8.1157, 10.8516, 5.0225], 'commit': {'sha': '066f4cf207359e06d30911a553dedd054aef595c', 'repository': {'name': 'spoon', 'owner': 'INRIA'}}, 'measurableElement': {'astElem': 'method', 'filePath': '/home/student/j/m/jmaquoi/sentinel/open-source-repositories/spoon/src/main/java/spoon/reflect/visitor/PrinterHelper.java', 'className': 'spoon.reflect.visitor.PrinterHelper', 'methodSignature': 'mapLine/2[spoon.reflect.declaration.CtElement,spoon.reflect.declaration.CtCompilationUnit]', 'variableName': None, 'classType': None}}, {'allValues': [92.0577, 99.683, 65.0616, 60.352, 90.479904, 197.80371, 74.9038, 52.152702, 542.888, 51.9244, 55.2212, 35.7957, 57.3148, 58.838, 57.8688, 51.4774, 85.3354, 47.338997, 58.6762, 37.7299, 86.3521, 68.4672, 64.5966, 117.765, 53.9905, 125.6395, 97.7726, 59.8027, 62.713303, 71.2379], 'commit': {'sha': '3ed1f1a064a10e53adc2ad8c0b46a4b2c148ee21', 'repository': {'name': 'spring-boot', 'owner': 'spring-projects'}}, 'measurableElement': {'astElem': 'method', 'filePath': '/home/student/j/m/jmaquoi/sentinel/open-source-repositories/spring-boot/spring-boot-project/spring-boot/src/test/java/org/springframework/boot/web/reactive/server/AbstractReactiveWebServerFactoryTests.java', 'className': 'org.springframework.boot.web.reactive.server.AbstractReactiveWebServerFactoryTests', 'methodSignature': 'buildTrustAllSslWithClientKeyConnector/2[java.lang.String,java.lang.String]', 'variableName': None, 'classType': None}}, {'allValues': [13.642, 14.339001, 25.423, 7.6994, 20.2243, 12.2523, 8.643499, 23.1223, 17.9642, 22.8005, 23.912401, 26.046398, 14.6733, 10.351, 21.373402, 13.6782, 7.1451, 19.719599, 12.5763, 9.348, 17.1932, 17.3518, 10.3499, 22.9656, 23.8892, 23.2645, 16.3002, 12.246201, 25.329302, 12.4348], 'commit': {'sha': '066f4cf207359e06d30911a553dedd054aef595c', 'repository': {'name': 'spoon', 'owner': 'INRIA'}}, 'measurableElement': {'astElem': 'method', 'filePath': '/home/student/j/m/jmaquoi/sentinel/open-source-repositories/spoon/src/main/java/spoon/reflect/visitor/CtScanner.java', 'className': 'spoon.reflect.visitor.CtScanner', 'methodSignature': 'visitCtConstructor/1[spoon.reflect.declaration.CtConstructor<T>]', 'variableName': None, 'classType': None}}, {'allValues': [28.3178, 24.899101, 27.2409, 19.6089, 41.519997, 25.713799, 19.2492, 21.7694, 28.7064, 41.0797, 35.4833, 38.5961, 38.4321, 19.8167, 38.377502, 44.761597, 19.2793, 8.1031, 21.0205, 21.234001, 12.1642, 34.0579, 47.095398, 32.3079, 51.665802, 18.8763, 28.600601, 20.0826, 20.3493, 26.2173], 'commit': {'sha': '066f4cf207359e06d30911a553dedd054aef595c', 'repository': {'name': 'spoon', 'owner': 'INRIA'}}, 'measurableElement': {'astElem': 'method', 'filePath': '/home/student/j/m/jmaquoi/sentinel/open-source-repositories/spoon/src/main/java/spoon/reflect/visitor/PrinterHelper.java', 'className': 'spoon.reflect.visitor.PrinterHelper', 'methodSignature': 'write/1[char]', 'variableName': None, 'classType': None}}, {'allValues': [11.3447, 15.5681, 3.5348, 8.9552, 13.251, 8.8209, 16.203701, 3.938, 7.7135, 10.627001, 7.1049, 16.4412, 6.4775, 4.3705, 8.1205, 12.721, 12.0907, 8.6454, 4.354, 15.011, 4.4562, 6.8953, 11.286301, 10.6494, 9.842899, 5.0539, 14.5405, 13.8589, 10.8564, 7.5549], 'commit': {'sha': '066f4cf207359e06d30911a553dedd054aef595c', 'repository': {'name': 'spoon', 'owner': 'INRIA'}}, 'measurableElement': {'astElem': 'method', 'filePath': '/home/student/j/m/jmaquoi/sentinel/open-source-repositories/spoon/src/main/java/spoon/support/reflect/reference/CtWildcardReferenceImpl.java', 'className': 'spoon.support.reflect.reference.CtWildcardReferenceImpl', 'methodSignature': 'setBoundingType/1[spoon.reflect.reference.CtTypeReference<?>]', 'variableName': None, 'classType': None}}, {'allValues': [6.106, 2.9387, 8.046499, 6.3996, 8.0214, 2.5872, 7.1379004, 9.0182, 1.6740999, 8.234301, 8.634399, 7.0594997, 12.5083, 10.3787, 7.2709, 7.6233, 7.2686996, 9.8778, 11.3926, 7.9899, 4.9806, 7.8384, 6.0985, 4.4936, 9.4236, 4.3738, 4.4156, 5.0766, 8.6208, 9.6578], 'commit': {'sha': '12442bd8c7cde6e7c006a6277eeb8e81ad0c2219', 'repository': {'name': 'hibernate-orm', 'owner': 'hibernate'}}, 'measurableElement': {'astElem': 'method', 'filePath': '/home/student/j/m/jmaquoi/sentinel/open-source-repositories/hibernate-orm/hibernate-core/src/test/java/org/hibernate/boot/jaxb/internal/stax/LocalXmlResourceResolverTest.java', 'className': 'org.hibernate.boot.jaxb.internal.stax.LocalXmlResourceResolverTest', 'methodSignature': 'resolve_namespace_localResource/2[java.lang.String,java.lang.String]', 'variableName': None, 'classType': None}}, {'allValues': [18.8732, 7.9313, 8.5328, 8.437, 13.3282, 9.5483, 4.1561, 9.4494, 8.0653, 7.9209, 6.717, 15.4692, 10.8407, 9.5631, 7.7483, 7.2842, 9.035, 4.2479, 5.4887, 8.2975, 9.3767, 16.2463, 13.1161995, 5.7013, 8.0037, 9.0927, 9.2562, 9.6984, 6.2337, 10.7087], 'commit': {'sha': '3ed1f1a064a10e53adc2ad8c0b46a4b2c148ee21', 'repository': {'name': 'spring-boot', 'owner': 'spring-projects'}}, 'measurableElement': {'astElem': 'method', 'filePath': '/home/student/j/m/jmaquoi/sentinel/open-source-repositories/spring-boot/spring-boot-project/spring-boot/src/test/java/org/springframework/boot/web/servlet/server/AbstractServletWebServerFactoryTests.java', 'className': 'org.springframework.boot.web.servlet.server.AbstractServletWebServerFactoryTests', 'methodSignature': 'pkcs12KeyStoreAndTrustStoreFromBundle/0', 'variableName': None, 'classType': None}}, {'allValues': [36.667004, 41.6458, 34.088802, 38.2587, 32.7091, 31.4858, 39.769, 44.4931, 56.068, 43.641403, 38.751698, 59.201702, 39.471897, 39.669, 44.581, 40.737896, 38.4244, 37.196304, 41.594902, 45.7115, 57.578197, 44.290604, 28.8928, 31.484098, 36.2752, 19.8111, 55.743702, 35.377403, 41.820004, 31.831402], 'commit': {'sha': '066f4cf207359e06d30911a553dedd054aef595c', 'repository': {'name': 'spoon', 'owner': 'INRIA'}}, 'measurableElement': {'astElem': 'method', 'filePath': '/home/student/j/m/jmaquoi/sentinel/open-source-repositories/spoon/src/main/java/spoon/reflect/visitor/CtScanner.java', 'className': 'spoon.reflect.visitor.CtScanner', 'methodSignature': 'visitCtMethod/1[spoon.reflect.declaration.CtMethod<T>]', 'variableName': None, 'classType': None}}, {'allValues': [463.8108, 508.5263, 466.7141, 608.1737, 509.75958, 485.7152, 640.63824, 456.9913, 737.8087, 388.88422, 598.8286, 520.0781, 374.9727, 286.1817, 475.00812, 453.54208, 404.50558, 540.2884, 307.286, 599.3375, 384.4495, 375.6719, 553.6133, 274.8325, 599.3805, 513.4359, 209.6569, 478.3937, 564.5434, 494.37592], 'commit': {'sha': '12442bd8c7cde6e7c006a6277eeb8e81ad0c2219', 'repository': {'name': 'hibernate-orm', 'owner': 'hibernate'}}, 'measurableElement': {'astElem': 'method', 'filePath': '/home/student/j/m/jmaquoi/sentinel/open-source-repositories/hibernate-orm/hibernate-core/src/test/java/org/hibernate/orm/test/bootstrap/registry/classloading/IsolatedClassLoader.java', 'className': 'org.hibernate.orm.test.bootstrap.registry.classloading.IsolatedClassLoader', 'methodSignature': 'findClass/1[java.lang.String]', 'variableName': None, 'classType': None}}, {'allValues': [111.2723, 77.0751, 71.220505, 78.0141, 81.6181, 47.285896, 346.8425, 57.2359, 66.831604, 32.4874, 78.7196, 69.6163, 40.6571, 62.3813, 80.26601, 50.3223, 49.149, 69.3726, 70.0896, 108.797, 66.6657, 69.718895, 30.0513, 69.4238, 87.4938, 80.2567, 55.6978, 130.9944, 77.3893, 44.0881], 'commit': {'sha': '3ed1f1a064a10e53adc2ad8c0b46a4b2c148ee21', 'repository': {'name': 'spring-boot', 'owner': 'spring-projects'}}, 'measurableElement': {'astElem': 'method', 'filePath': '/home/student/j/m/jmaquoi/sentinel/open-source-repositories/spring-boot/spring-boot-project/spring-boot/src/main/java/org/springframework/boot/web/embedded/jetty/JettyWebServer.java', 'className': 'org.springframework.boot.web.embedded.jetty.JettyWebServer', 'methodSignature': 'start/0', 'variableName': None, 'classType': None}}, {'allValues': [10.2475, 18.2807, 12.9229, 4.0926, 15.2127, 24.1915, 18.7086, 31.8689, 15.2793, 21.3779, 29.1088, 18.6722, 23.4393, 14.9371, 18.1179, 21.7344, 25.0912, 27.4473, 17.8044, 18.4451, 18.9882, 24.1471, 29.3364, 24.168, 26.3894, 23.1326, 24.9358, 22.068, 19.795, 29.2344], 'commit': {'sha': '5c9d8989f968d0ee3a942b411ef7fe121ed94609', 'repository': {'name': 'jabref', 'owner': 'JabRef'}}, 'measurableElement': {'astElem': 'method', 'filePath': '/home/student/j/m/jmaquoi/sentinel/open-source-repositories/jabref/src/main/java/org/jabref/model/database/BibDatabase.java', 'className': 'org.jabref.model.database.BibDatabase', 'methodSignature': 'registerListener/1[java.lang.Object]', 'variableName': None, 'classType': None}}, {'allValues': [5.4445, 4.197, 4.3144, 2.6868, 5.676, 5.74, 2.7155, 4.2565, 4.1292, 3.9857, 5.5748, 4.1264, 5.9569, 2.865, 4.0864, 4.2224, 4.1202, 5.3292, 2.9523, 4.0414, 4.1896, 4.1297, 5.1031, 4.0168, 5.5922, 5.4737, 5.0992, 2.936, 4.1843996, 2.8112], 'commit': {'sha': '3ed1f1a064a10e53adc2ad8c0b46a4b2c148ee21', 'repository': {'name': 'spring-boot', 'owner': 'spring-projects'}}, 'measurableElement': {'astElem': 'method', 'filePath': '/home/student/j/m/jmaquoi/sentinel/open-source-repositories/spring-boot/spring-boot-project/spring-boot/src/test/java/org/springframework/boot/ExitCodeGeneratorsTests.java', 'className': 'org.springframework.boot.ExitCodeGeneratorsTests', 'methodSignature': 'orderedMockGenerator/2[int,int]', 'variableName': None, 'classType': None}}, {'allValues': [11.0672, 20.2593, 5.571, 5.8637, 9.6446, 4.3978, 18.0782, 1.3275, 2.1194, 10.252399, 3.5566, 2.8361, 1.0138, 18.8983, 19.0955, 8.4811, 16.594599, 12.187201, 3.8268, 5.541, 15.9091, 8.6351, 2.973, 6.5249004, 21.1179, 13.1322, 2.0673, 18.4164, 3.8851, 14.0255], 'commit': {'sha': '59e5152722198526c6ffe5361de7d1a6a87275c7', 'repository': {'name': 'commons-configuration', 'owner': 'apache'}}, 'measurableElement': {'astElem': 'method', 'filePath': '/home/student/j/m/jmaquoi/sentinel/open-source-repositories/commons-configuration/src/main/java/org/apache/commons/configuration2/io/DefaultFileSystem.java', 'className': 'org.apache.commons.configuration2.io.DefaultFileSystem', 'methodSignature': 'locateFromURL/2[java.lang.String,java.lang.String]', 'variableName': None, 'classType': None}}, {'allValues': [6.005, 7.3573, 22.935902, 12.894899, 7.4890003, 13.407, 9.1362, 15.504, 18.1994, 19.9296, 22.9345, 14.1919, 11.277599, 14.0356, 19.717001, 14.334801, 38.249104, 20.8564, 22.729801, 24.5358, 19.095001, 15.1673, 17.510899, 18.9881, 26.2915, 4.9605, 18.21, 14.417601, 24.2958, 67.1981], 'commit': {'sha': '12442bd8c7cde6e7c006a6277eeb8e81ad0c2219', 'repository': {'name': 'hibernate-orm', 'owner': 'hibernate'}}, 'measurableElement': {'astElem': 'method', 'filePath': '/home/student/j/m/jmaquoi/sentinel/open-source-repositories/hibernate-orm/hibernate-core/src/main/java/org/hibernate/boot/registry/classloading/internal/AggregatedServiceLoader.java', 'className': 'org.hibernate.boot.registry.classloading.internal.AggregatedServiceLoader$ClassPathAndModulePathAggregatedServiceLoader', 'methodSignature': 'ClassPathAndModulePathAggregatedServiceLoader/2[org.hibernate.boot.registry.classloading.internal.AggregatedClassLoader,java.lang.Class<S>]', 'variableName': None, 'classType': None}}, {'allValues': [10.705299, 7.3160996, 4.1461, 9.0412, 7.6183, 8.4571, 2.4292998, 9.489, 4.8138, 10.026501, 4.364, 5.0751, 7.5199, 4.1604, 1.9761, 13.872601, 5.9761, 5.4417, 5.233, 3.5414, 4.4632, 5.2187, 5.409, 6.243, 5.583, 8.9956, 6.0776, 5.1015997, 7.4737, 7.8069], 'commit': {'sha': '066f4cf207359e06d30911a553dedd054aef595c', 'repository': {'name': 'spoon', 'owner': 'INRIA'}}, 'measurableElement': {'astElem': 'method', 'filePath': '/home/student/j/m/jmaquoi/sentinel/open-source-repositories/spoon/src/main/java/spoon/support/compiler/SpoonPom.java', 'className': 'spoon.support.compiler.SpoonPom', 'methodSignature': 'generateClassPathFile/5[java.io.File,spoon.MavenLauncher.SOURCE_TYPE,spoon.support.compiler.Logger,boolean,java.util.Map<java.lang.String,java.lang.String>]', 'variableName': None, 'classType': None}}, {'allValues': [532.1602, 456.22803, 403.45923, 422.0539, 467.42758, 864.9754, 512.514, 426.0499, 483.28256, 510.088, 560.48303, 353.5012, 474.7511, 677.6046, 467.7901, 434.3402, 381.6549, 488.84912, 481.5174, 1108.8284, 462.39618, 540.8552, 607.7017, 961.5967, 507.4385, 744.7308, 472.1294, 513.5762, 536.5271, 533.4297], 'commit': {'sha': '12442bd8c7cde6e7c006a6277eeb8e81ad0c2219', 'repository': {'name': 'hibernate-orm', 'owner': 'hibernate'}}, 'measurableElement': {'astElem': 'method', 'filePath': '/home/student/j/m/jmaquoi/sentinel/open-source-repositories/hibernate-orm/hibernate-core/src/main/java/org/hibernate/boot/registry/classloading/internal/AggregatedServiceLoader.java', 'className': 'org.hibernate.boot.registry.classloading.internal.AggregatedServiceLoader$ClassPathAndModulePathAggregatedServiceLoader', 'methodSignature': 'loadAll/0', 'variableName': None, 'classType': None}}, {'allValues': [50.9656, 69.7743, 47.898598, 40.753197, 82.226, 48.345497, 46.182102, 75.5131, 60.0771, 58.9352, 54.2004, 60.544098, 50.343197, 48.8403, 40.1896, 48.754204, 51.7855, 29.185001, 53.794605, 55.3816, 73.7773, 52.471397, 51.7498, 76.0492, 57.2744, 56.5444, 58.2038, 33.0699, 52.8545, 40.5229], 'commit': {'sha': '066f4cf207359e06d30911a553dedd054aef595c', 'repository': {'name': 'spoon', 'owner': 'INRIA'}}, 'measurableElement': {'astElem': 'method', 'filePath': '/home/student/j/m/jmaquoi/sentinel/open-source-repositories/spoon/src/main/java/spoon/reflect/visitor/CtScanner.java', 'className': 'spoon.reflect.visitor.CtScanner', 'methodSignature': 'visitCtWildcardReference/1[spoon.reflect.reference.CtWildcardReference]', 'variableName': None, 'classType': None}}, {'allValues': [16.963299, 19.3619, 24.6206, 11.786, 24.3495, 16.153, 21.8585, 13.834801, 10.0996, 19.963999, 19.0914, 19.4194, 23.5873, 15.5095005, 34.3427, 14.4363, 21.9373, 16.6066, 17.9258, 32.9904, 15.5467, 18.5708, 15.0966, 23.265501, 26.136501, 17.9295, 25.7558, 20.124699, 21.3942, 25.6548], 'commit': {'sha': '3ed1f1a064a10e53adc2ad8c0b46a4b2c148ee21', 'repository': {'name': 'spring-boot', 'owner': 'spring-projects'}}, 'measurableElement': {'astElem': 'method', 'filePath': '/home/student/j/m/jmaquoi/sentinel/open-source-repositories/spring-boot/spring-boot-project/spring-boot/src/main/java/org/springframework/boot/env/OriginTrackedYamlLoader.java', 'className': 'org.springframework.boot.env.OriginTrackedYamlLoader$OriginTrackingConstructor', 'methodSignature': 'constructObject/1[org.springframework.boot.env.Node]', 'variableName': None, 'classType': None}}, {'allValues': [18.1156, 9.6878, 16.6164, 6.7897, 10.5514, 18.136, 13.5817, 10.4395, 14.9297, 4.8795, 18.3837, 14.5063, 6.9341, 11.5881, 7.6467, 10.1911, 14.8103, 4.5487, 8.8069, 7.2508, 11.2719, 13.2283, 15.2822, 17.1105, 14.8085, 5.1553, 0.1321, 10.9722, 15.1169, 8.8237], 'commit': {'sha': '5c9d8989f968d0ee3a942b411ef7fe121ed94609', 'repository': {'name': 'jabref', 'owner': 'JabRef'}}, 'measurableElement': {'astElem': 'method', 'filePath': '/home/student/j/m/jmaquoi/sentinel/open-source-repositories/jabref/src/main/java/org/jabref/logic/layout/LayoutFormatterPreferences.java', 'className': 'org.jabref.logic.layout.LayoutFormatterPreferences', 'methodSignature': 'getCustomExportNameFormatter/1[java.lang.String]', 'variableName': None, 'classType': None}}, {'allValues': [12.5591, 5.6259, 7.9853997, 8.5775, 9.7159, 5.1115, 7.9383, 6.6133, 4.3552, 6.5661, 9.3001, 10.515901, 5.5102, 6.9483, 8.2421, 3.8929, 8.8709, 10.7194, 5.1407, 9.952, 9.1931, 10.5838, 15.3658, 5.0397, 10.152201, 13.7855, 9.3375, 12.6851, 9.2658, 12.9642], 'commit': {'sha': '3ed1f1a064a10e53adc2ad8c0b46a4b2c148ee21', 'repository': {'name': 'spring-boot', 'owner': 'spring-projects'}}, 'measurableElement': {'astElem': 'method', 'filePath': '/home/student/j/m/jmaquoi/sentinel/open-source-repositories/spring-boot/spring-boot-project/spring-boot/src/main/java/org/springframework/boot/web/client/ClientHttpRequestFactoriesRuntimeHints.java', 'className': 'org.springframework.boot.web.client.ClientHttpRequestFactoriesRuntimeHints', 'methodSignature': 'registerMethod/4[org.springframework.boot.web.client.ReflectionHints,java.lang.Class<? extends org.springframework.boot.web.client.ClientHttpRequestFactory>,java.lang.String,java.lang.Class<?>[]]', 'variableName': None, 'classType': None}}, {'allValues': [6.4713, 19.7888, 7.0537004, 9.3102, 12.2667, 12.1978, 8.597199, 12.6261, 10.5562, 12.2654, 13.5559, 14.3334, 15.021501, 12.92, 12.6006, 5.2637, 13.535, 21.2913, 13.6497, 3.4875, 8.121799, 10.2561, 9.3661, 16.1835, 15.4221, 14.9228, 19.2248, 13.644, 8.3342, 8.5676], 'commit': {'sha': '066f4cf207359e06d30911a553dedd054aef595c', 'repository': {'name': 'spoon', 'owner': 'INRIA'}}, 'measurableElement': {'astElem': 'method', 'filePath': '/home/student/j/m/jmaquoi/sentinel/open-source-repositories/spoon/src/main/java/spoon/reflect/visitor/CtScanner.java', 'className': 'spoon.reflect.visitor.CtScanner', 'methodSignature': 'visitCtAssignment/1[spoon.reflect.code.CtAssignment<T,A>]', 'variableName': None, 'classType': None}}, {'allValues': [9.3486, 8.97, 4.6365, 5.5456, 12.8416, 13.0576, 15.419701, 13.2236, 2.7551, 10.2717, 2.7453, 11.5208, 21.9847, 10.88, 13.4564, 5.414, 5.8531, 6.0218, 18.0797, 8.5502, 18.8065, 16.4844, 16.4403, 21.4054, 21.1882, 7.4926, 24.9137, 3.6182, 9.9891, 12.5742], 'commit': {'sha': '3ed1f1a064a10e53adc2ad8c0b46a4b2c148ee21', 'repository': {'name': 'spring-boot', 'owner': 'spring-projects'}}, 'measurableElement': {'astElem': 'method', 'filePath': '/home/student/j/m/jmaquoi/sentinel/open-source-repositories/spring-boot/spring-boot-project/spring-boot/src/test/java/org/springframework/boot/web/servlet/server/AbstractServletWebServerFactoryTests.java', 'className': 'org.springframework.boot.web.servlet.server.AbstractServletWebServerFactoryTests', 'methodSignature': 'multipleConfigurations/0', 'variableName': None, 'classType': None}}, {'allValues': [14.5852995, 13.467401, 13.4576, 13.084801, 14.0759, 13.6563, 12.43, 12.568, 12.1133, 12.9716, 12.5978, 12.397901, 15.0627, 14.929, 5.5290003, 12.978499, 14.1008, 12.5132, 6.6309004, 17.0709, 15.4594, 14.1087, 12.9598, 12.120399, 7.2445, 13.211599, 13.542, 15.245001, 15.2085, 13.2494], 'commit': {'sha': '3ed1f1a064a10e53adc2ad8c0b46a4b2c148ee21', 'repository': {'name': 'spring-boot', 'owner': 'spring-projects'}}, 'measurableElement': {'astElem': 'method', 'filePath': '/home/student/j/m/jmaquoi/sentinel/open-source-repositories/spring-boot/spring-boot-project/spring-boot/src/test/java/org/springframework/boot/jackson/JsonMixinModuleEntriesBeanRegistrationAotProcessorTests.java', 'className': 'org.springframework.boot.jackson.JsonMixinModuleEntriesBeanRegistrationAotProcessorTests', 'methodSignature': 'processAheadOfTimeWhenNonAccessibleClassShouldRegisterClassName/0', 'variableName': None, 'classType': None}}, {'allValues': [46.2188, 84.8301, 68.692604, 42.9602, 63.5702, 55.0104, 62.2666, 67.9683, 66.7851, 77.3748, 51.6545, 60.8775, 46.0979, 52.3036, 35.682, 63.5171, 63.413, 63.1457, 54.098103, 53.0389, 93.2041, 64.1722, 55.6796, 77.1434, 58.1154, 88.2441, 74.3004, 71.1086, 56.7514, 48.576], 'commit': {'sha': '066f4cf207359e06d30911a553dedd054aef595c', 'repository': {'name': 'spoon', 'owner': 'INRIA'}}, 'measurableElement': {'astElem': 'method', 'filePath': '/home/student/j/m/jmaquoi/sentinel/open-source-repositories/spoon/src/main/java/spoon/reflect/factory/PackageFactory.java', 'className': 'spoon.reflect.factory.PackageFactory', 'methodSignature': 'getPackageFromModule/2[java.lang.String,spoon.reflect.declaration.CtModule]', 'variableName': None, 'classType': None}}, {'allValues': [8.1502, 10.2652, 9.3564, 8.0902, 13.0556, 11.8395, 5.7261, 12.9607, 10.125, 15.3892, 7.5238, 10.131, 11.8144, 14.5353, 7.1095, 11.7497, 6.8253, 6.0114, 11.3555, 10.3975, 7.3902, 9.2181, 5.3814, 7.6233, 10.8679, 7.7909, 10.113, 6.9513, 11.0922, 9.277], 'commit': {'sha': '3ed1f1a064a10e53adc2ad8c0b46a4b2c148ee21', 'repository': {'name': 'spring-boot', 'owner': 'spring-projects'}}, 'measurableElement': {'astElem': 'method', 'filePath': '/home/student/j/m/jmaquoi/sentinel/open-source-repositories/spring-boot/spring-boot-project/spring-boot/src/main/java/org/springframework/boot/json/JacksonJsonParser.java', 'className': 'org.springframework.boot.json.JacksonJsonParser', 'methodSignature': 'parseMap/1[java.lang.String]', 'variableName': None, 'classType': None}}, {'allValues': [85.0617, 95.7425, 67.4845, 74.010506, 61.9805, 66.5405, 80.8534, 74.217606, 98.43, 102.997, 73.5856, 83.4323, 93.669395, 96.94321, 73.3771, 71.5855, 85.66341, 112.655106, 74.6394, 51.129498, 105.4198, 82.9234, 82.447296, 50.5359, 79.853096, 58.886806, 86.20241, 75.528305, 74.0283, 60.027897], 'commit': {'sha': '066f4cf207359e06d30911a553dedd054aef595c', 'repository': {'name': 'spoon', 'owner': 'INRIA'}}, 'measurableElement': {'astElem': 'method', 'filePath': '/home/student/j/m/jmaquoi/sentinel/open-source-repositories/spoon/src/main/java/spoon/reflect/visitor/CtScanner.java', 'className': 'spoon.reflect.visitor.CtScanner', 'methodSignature': 'visitCtVariableRead/1[spoon.reflect.code.CtVariableRead<T>]', 'variableName': None, 'classType': None}}, {'allValues': [4.951, 6.1059, 5.7083, 4.9164, 4.6754, 4.6284, 7.2264, 5.8546, 5.0529, 6.1773, 6.7826, 5.2268, 6.131, 5.4793, 4.7293, 1.5746, 7.0508, 4.7039, 4.9403, 6.3353, 3.5133, 3.9644, 6.3804, 4.9578, 3.8575, 7.2581, 6.9948, 6.273, 6.5116, 4.2493], 'commit': {'sha': '5c9d8989f968d0ee3a942b411ef7fe121ed94609', 'repository': {'name': 'jabref', 'owner': 'JabRef'}}, 'measurableElement': {'astElem': 'method', 'filePath': '/home/student/j/m/jmaquoi/sentinel/open-source-repositories/jabref/src/main/java/org/jabref/logic/citationstyle/CSLAdapter.java', 'className': 'org.jabref.logic.citationstyle.CSLAdapter', 'methodSignature': 'initialize/2[java.lang.String,org.jabref.logic.citationstyle.CitationStyleOutputFormat]', 'variableName': None, 'classType': None}}, {'allValues': [9.2094, 9.944, 8.6553, 7.9402, 8.1312, 6.5385, 9.4039, 10.2965, 9.3929, 8.5064, 9.6059, 11.1185, 11.1603, 10.7305, 8.9013, 13.9204, 8.4139, 3.7651, 8.4347, 9.7622, 12.8953, 7.7446, 13.9444, 13.9821, 11.8604, 8.3751, 15.9975, 6.6843, 11.8055, 10.0958], 'commit': {'sha': '3ed1f1a064a10e53adc2ad8c0b46a4b2c148ee21', 'repository': {'name': 'spring-boot', 'owner': 'spring-projects'}}, 'measurableElement': {'astElem': 'method', 'filePath': '/home/student/j/m/jmaquoi/sentinel/open-source-repositories/spring-boot/spring-boot-project/spring-boot/src/test/java/org/springframework/boot/web/servlet/server/AbstractServletWebServerFactoryTests.java', 'className': 'org.springframework.boot.web.servlet.server.AbstractServletWebServerFactoryTests', 'methodSignature': 'pemKeyStoreAndTrustStoreFromBundle/0', 'variableName': None, 'classType': None}}, {'allValues': [1.0453, 1.0127, 2.0668, 2.1979, 2.0834, 2.0731, 1.8547, 1.9346, 1.8042, 1.9706, 1.0003, 1.1208, 1.0201, 2.0731, 1.0413, 2.1301, 2.125, 1.9897, 2.0431, 2.0303, 1.9916, 1.9747, 1.7654, 2.1871, 1.0531, 2.074, 2.0019, 2.198, 2.1508, 1.0912], 'commit': {'sha': '5c9d8989f968d0ee3a942b411ef7fe121ed94609', 'repository': {'name': 'jabref', 'owner': 'JabRef'}}, 'measurableElement': {'astElem': 'method', 'filePath': '/home/student/j/m/jmaquoi/sentinel/open-source-repositories/jabref/src/test/java/org/jabref/gui/fieldeditors/LinkedFileViewModelTest.java', 'className': 'org.jabref.gui.fieldeditors.LinkedFileViewModelTest', 'methodSignature': 'deleteWhenFilePathNotPresentReturnsTrue/0', 'variableName': None, 'classType': None}}, {'allValues': [171.7187, 175.2659, 180.3976, 166.86119, 181.3882, 222.1479, 164.66539, 181.4388, 154.69429, 175.5632, 204.0782, 193.16339, 175.42729, 175.1138, 194.8874, 169.566, 162.4512, 177.38431, 225.8198, 181.7419, 168.6079, 178.34781, 158.9998, 169.99641, 174.72319, 182.36531, 224.55399, 171.2341, 177.8619, 184.2046], 'commit': {'sha': '5c9d8989f968d0ee3a942b411ef7fe121ed94609', 'repository': {'name': 'jabref', 'owner': 'JabRef'}}, 'measurableElement': {'astElem': 'method', 'filePath': '/home/student/j/m/jmaquoi/sentinel/open-source-repositories/jabref/src/main/java/org/jabref/logic/net/URLDownload.java', 'className': 'org.jabref.logic.net.URLDownload', 'methodSignature': 'getMimeType/0', 'variableName': None, 'classType': None}}, {'allValues': [7.9964, 11.0588, 2.6065, 7.7408, 8.4729, 6.6718, 6.4365, 6.2338, 2.1703, 16.131, 5.6093, 8.1704, 6.9321, 5.3873, 8.2181, 10.3354, 16.849, 13.1049, 10.6579, 6.7155, 10.8692, 5.0552, 16.1295, 1.6721, 3.2108, 6.4403, 15.5218, 5.5654, 15.7709, 8.3071], 'commit': {'sha': '066f4cf207359e06d30911a553dedd054aef595c', 'repository': {'name': 'spoon', 'owner': 'INRIA'}}, 'measurableElement': {'astElem': 'method', 'filePath': '/home/student/j/m/jmaquoi/sentinel/open-source-repositories/spoon/src/main/java/spoon/support/visitor/java/JavaReflectionTreeBuilder.java', 'className': 'spoon.support.visitor.java.JavaReflectionTreeBuilder$Anonymous4', 'methodSignature': 'addMethod/1[spoon.support.visitor.java.CtMethod]', 'variableName': None, 'classType': None}}, {'allValues': [4233.951, 4473.154, 4574.2617, 4277.495, 4503.6094, 4718.865, 4524.5273, 4366.74, 4164.2217, 3347.5776, 4511.6787, 3918.6455, 4542.1875, 4463.0376, 4426.1284, 4480.1987, 4264.0767, 4504.0503, 4108.449, 4648.7812, 4235.584, 4378.5547, 4588.283, 4154.323, 4355.619, 4574.2925, 4612.947, 3912.7456, 4292.1543, 4067.3896], 'commit': {'sha': '3ed1f1a064a10e53adc2ad8c0b46a4b2c148ee21', 'repository': {'name': 'spring-boot', 'owner': 'spring-projects'}}, 'measurableElement': {'astElem': 'method', 'filePath': '/home/student/j/m/jmaquoi/sentinel/open-source-repositories/spring-boot/spring-boot-project/spring-boot-tools/spring-boot-test-support/src/main/java/org/springframework/boot/testsupport/classpath/ModifiedClassPathClassLoader.java', 'className': 'org.springframework.boot.testsupport.classpath.ModifiedClassPathClassLoader', 'methodSignature': 'loadClass/1[java.lang.String]', 'variableName': None, 'classType': None}}, {'allValues': [7.1812, 11.0216, 12.8714, 10.4548, 6.2299, 7.9687, 11.7502, 6.3394, 6.1878, 10.6784, 14.9951, 10.3031, 8.8169, 10.3865, 7.4827, 3.7556, 8.0871, 5.1193, 9.1194, 11.9654, 1.3543, 6.0964, 12.0901, 19.6719, 9.869, 6.2407, 7.7766, 7.4611, 3.4743, 13.1628], 'commit': {'sha': '066f4cf207359e06d30911a553dedd054aef595c', 'repository': {'name': 'spoon', 'owner': 'INRIA'}}, 'measurableElement': {'astElem': 'method', 'filePath': '/home/student/j/m/jmaquoi/sentinel/open-source-repositories/spoon/src/main/java/spoon/support/reflect/code/CtVariableAccessImpl.java', 'className': 'spoon.support.reflect.code.CtVariableAccessImpl', 'methodSignature': 'getType/0', 'variableName': None, 'classType': None}}, {'allValues': [7.8116, 9.9687, 9.4512, 4.6592, 8.1902, 10.0257, 10.3381, 4.5841, 8.4205, 8.1419, 9.7374, 6.2542, 3.2168, 13.1991, 6.2965, 3.1448, 9.3971, 7.973, 8.9025, 15.5689, 8.3137, 14.859, 12.9508, 18.8684, 9.952, 13.041199, 9.6966, 1.5084, 12.7288, 3.2494], 'commit': {'sha': '066f4cf207359e06d30911a553dedd054aef595c', 'repository': {'name': 'spoon', 'owner': 'INRIA'}}, 'measurableElement': {'astElem': 'method', 'filePath': '/home/student/j/m/jmaquoi/sentinel/open-source-repositories/spoon/src/main/java/spoon/reflect/visitor/CtBiScannerDefault.java', 'className': 'spoon.reflect.visitor.CtBiScannerDefault', 'methodSignature': 'visitCtFieldReference/1[spoon.reflect.reference.CtFieldReference<T>]', 'variableName': None, 'classType': None}}, {'allValues': [9.0488, 3.5261, 5.3449, 6.6329, 8.2188, 10.1732, 4.7047, 6.8713, 8.2274, 7.0515, 6.0342, 9.9244, 7.6307, 6.3382, 4.4265, 6.7513, 5.4002, 4.977, 5.8243, 8.0622, 6.5129, 2.7576, 3.2915, 5.1898, 5.6986, 6.6542, 6.6446, 11.2619, 7.1808, 10.3896], 'commit': {'sha': '3ed1f1a064a10e53adc2ad8c0b46a4b2c148ee21', 'repository': {'name': 'spring-boot', 'owner': 'spring-projects'}}, 'measurableElement': {'astElem': 'method', 'filePath': '/home/student/j/m/jmaquoi/sentinel/open-source-repositories/spring-boot/spring-boot-project/spring-boot/src/main/java/org/springframework/boot/context/properties/ConfigurationPropertiesScanRegistrar.java', 'className': 'org.springframework.boot.context.properties.ConfigurationPropertiesScanRegistrar', 'methodSignature': 'scan/2[org.springframework.boot.context.properties.BeanDefinitionRegistry,java.util.Set<java.lang.String>]', 'variableName': None, 'classType': None}}, {'allValues': [23.641, 31.016, 34.1109, 30.6414, 33.5293, 22.986, 26.9644, 41.7821, 18.4252, 26.319, 32.5894, 36.3094, 39.8131, 36.0506, 27.429, 30.2856, 29.058, 20.5317, 30.6082, 23.2987, 18.9731, 34.1387, 26.9636, 30.6479, 29.3338, 28.5898, 42.2396, 28.4957, 43.041, 31.512], 'commit': {'sha': '3ed1f1a064a10e53adc2ad8c0b46a4b2c148ee21', 'repository': {'name': 'spring-boot', 'owner': 'spring-projects'}}, 'measurableElement': {'astElem': 'method', 'filePath': '/home/student/j/m/jmaquoi/sentinel/open-source-repositories/spring-boot/spring-boot-project/spring-boot/src/main/java/org/springframework/boot/json/JacksonJsonParser.java', 'className': 'org.springframework.boot.json.JacksonJsonParser', 'methodSignature': 'getObjectMapper/0', 'variableName': None, 'classType': None}}, {'allValues': [28.5135, 37.7461, 14.6388, 19.4576, 46.5366, 27.0531, 43.1753, 38.6888, 56.9843, 76.7183, 32.0707, 59.562202, 43.6957, 30.2195, 41.6959, 42.4127, 13.8114, 38.4613, 23.8582, 46.0029, 28.8319, 48.5719, 21.3233, 25.8477, 36.0325, 39.7276, 26.4598, 47.887, 47.7524, 20.9334], 'commit': {'sha': '066f4cf207359e06d30911a553dedd054aef595c', 'repository': {'name': 'spoon', 'owner': 'INRIA'}}, 'measurableElement': {'astElem': 'method', 'filePath': '/home/student/j/m/jmaquoi/sentinel/open-source-repositories/spoon/src/main/java/spoon/support/visitor/clone/CloneBuilder.java', 'className': 'spoon.support.visitor.clone.CloneBuilder', 'methodSignature': 'scanCtReference/1[spoon.reflect.reference.CtReference]', 'variableName': None, 'classType': None}}, {'allValues': [12.309199, 17.2889, 10.9079, 16.5548, 16.7966, 3.1793, 6.3551, 6.341, 5.3406, 10.6334, 11.4537, 6.8658, 5.1159, 7.5923, 14.390699, 7.3355, 38.7834, 29.149, 4.6578, 179.3145, 18.6719, 28.0056, 4.9684, 6.1682, 6.0879, 23.0948, 5.4286, 12.4431, 12.2704, 37.1148], 'commit': {'sha': '12442bd8c7cde6e7c006a6277eeb8e81ad0c2219', 'repository': {'name': 'hibernate-orm', 'owner': 'hibernate'}}, 'measurableElement': {'astElem': 'method', 'filePath': '/home/student/j/m/jmaquoi/sentinel/open-source-repositories/hibernate-orm/hibernate-core/src/main/java/org/hibernate/query/spi/QueryEngine.java', 'className': 'org.hibernate.query.spi.QueryEngine', 'methodSignature': 'QueryEngine/7[org.hibernate.query.spi.SessionFactoryImplementor,org.hibernate.query.spi.TypeConfiguration,org.hibernate.query.spi.HqlTranslator,org.hibernate.query.spi.SqmTranslatorFactory,org.hibernate.query.spi.SqmFunctionRegistry,org.hibernate.query.spi.NamedObjectRepository,org.hibernate.query.spi.QueryInterpretationCache]', 'variableName': None, 'classType': None}}, {'allValues': [61.537, 62.4558, 44.6977, 41.7241, 49.63, 54.7795, 41.3344, 71.1168, 50.1944, 50.4118, 54.7365, 40.4072, 35.2674, 49.8633, 59.7563, 63.0388, 43.5562, 46.7111, 47.2938, 103.0145, 45.6111, 50.1264, 43.5962, 52.5226, 53.3513, 37.0703, 64.9272, 48.123, 66.9894, 56.8218], 'commit': {'sha': '5c9d8989f968d0ee3a942b411ef7fe121ed94609', 'repository': {'name': 'jabref', 'owner': 'JabRef'}}, 'measurableElement': {'astElem': 'method', 'filePath': '/home/student/j/m/jmaquoi/sentinel/open-source-repositories/jabref/src/main/java/org/jabref/logic/bibtex/FieldContentFormatterPreferences.java', 'className': 'org.jabref.logic.bibtex.FieldContentFormatterPreferences', 'methodSignature': 'getNonWrappableFields/0', 'variableName': None, 'classType': None}}, {'allValues': [9.8668995, 4.6104, 8.3773, 7.9957, 15.5914, 6.0515, 6.4066, 2.9288, 6.4087, 4.8259, 7.366, 13.1735, 3.4301, 2.405, 6.2035, 7.0813, 12.827499, 14.8517, 4.3275003, 8.7064, 9.4029, 12.5315, 1.7148, 10.7061, 1.4431, 4.4086, 10.0072, 9.986, 8.9139, 6.2106], 'commit': {'sha': '3ed1f1a064a10e53adc2ad8c0b46a4b2c148ee21', 'repository': {'name': 'spring-boot', 'owner': 'spring-projects'}}, 'measurableElement': {'astElem': 'method', 'filePath': '/home/student/j/m/jmaquoi/sentinel/open-source-repositories/spring-boot/spring-boot-project/spring-boot/src/main/java/org/springframework/boot/context/properties/source/SpringConfigurationPropertySources.java', 'className': 'org.springframework.boot.context.properties.source.SpringConfigurationPropertySources$SourcesIterator', 'methodSignature': 'fetchNext/0', 'variableName': None, 'classType': None}}, {'allValues': [3.7628, 8.6434, 11.0372, 9.8752, 8.8856, 1.6103, 2.8443, 3.6495, 10.0003, 2.0869, 7.8237, 3.8642, 13.505, 14.9211, 2.7181, 3.0037, 3.3068, 4.8558, 8.0212, 4.5290003, 5.9836, 4.209, 3.318, 3.7306, 8.2051, 4.7073, 7.7157, 4.6412, 4.7469, 9.0429], 'commit': {'sha': '066f4cf207359e06d30911a553dedd054aef595c', 'repository': {'name': 'spoon', 'owner': 'INRIA'}}, 'measurableElement': {'astElem': 'method', 'filePath': '/home/student/j/m/jmaquoi/sentinel/open-source-repositories/spoon/src/main/java/spoon/reflect/visitor/CtBiScannerDefault.java', 'className': 'spoon.reflect.visitor.CtBiScannerDefault', 'methodSignature': 'biScan/2[spoon.reflect.declaration.CtElement,spoon.reflect.declaration.CtElement]', 'variableName': None, 'classType': None}}, {'allValues': [29.1492, 36.3613, 23.4367, 30.4034, 29.9335, 27.334, 31.6946, 33.542, 24.2368, 28.1953, 35.0964, 24.3276, 23.9652, 26.4015, 30.8616, 13.5309, 27.5359, 30.7502, 21.4229, 27.3587, 39.4167, 19.8428, 31.1477, 48.2802, 21.5722, 18.7349, 41.0713, 15.3892, 35.2867, 16.6509], 'commit': {'sha': '066f4cf207359e06d30911a553dedd054aef595c', 'repository': {'name': 'spoon', 'owner': 'INRIA'}}, 'measurableElement': {'astElem': 'method', 'filePath': '/home/student/j/m/jmaquoi/sentinel/open-source-repositories/spoon/src/main/java/spoon/reflect/visitor/ElementPrinterHelper.java', 'className': 'spoon.reflect.visitor.ElementPrinterHelper', 'methodSignature': 'writeComment/2[spoon.reflect.declaration.CtElement,spoon.reflect.visitor.printer.CommentOffset]', 'variableName': None, 'classType': None}}, {'allValues': [12.4767, 11.1669, 13.2198, 10.2661, 15.6425, 15.8809, 12.2904, 17.1848, 16.56, 12.4269, 5.8941, 19.6183, 11.1747, 4.6737, 6.3846, 8.6006, 13.9757, 12.7301, 6.2879, 9.9687, 21.9743, 7.7869, 9.7301, 7.6992, 4.0309, 5.2238, 11.7867, 4.6438, 7.5811, 5.7403], 'commit': {'sha': '066f4cf207359e06d30911a553dedd054aef595c', 'repository': {'name': 'spoon', 'owner': 'INRIA'}}, 'measurableElement': {'astElem': 'method', 'filePath': '/home/student/j/m/jmaquoi/sentinel/open-source-repositories/spoon/src/main/java/spoon/support/reflect/declaration/CtCompilationUnitImpl.java', 'className': 'spoon.support.reflect.declaration.CtCompilationUnitImpl', 'methodSignature': 'getDeclaredTypes/0', 'variableName': None, 'classType': None}}, {'allValues': [12.4348, 6.7371, 9.1029, 10.6334, 23.0365, 16.6498, 9.0868, 14.1426, 3.2265, 16.7434, 5.8369, 2.0241, 2.4313, 91.5317, 5.2717, 8.7427, 11.7505, 6.8445, 17.9772, 186.4147, 12.8323, 26.5051, 15.8994, 6.91, 6.8001, 9.4856, 12.8821, 10.0449, 6.6437, 13.5142], 'commit': {'sha': '12442bd8c7cde6e7c006a6277eeb8e81ad0c2219', 'repository': {'name': 'hibernate-orm', 'owner': 'hibernate'}}, 'measurableElement': {'astElem': 'method', 'filePath': '/home/student/j/m/jmaquoi/sentinel/open-source-repositories/hibernate-orm/hibernate-core/src/main/java/org/hibernate/boot/model/source/internal/hbm/CommaSeparatedStringHelper.java', 'className': 'org.hibernate.boot.model.source.internal.hbm.CommaSeparatedStringHelper', 'methodSignature': 'parseCommaSeparatedString/1[java.lang.String]', 'variableName': None, 'classType': None}}, {'allValues': [24.1294, 27.1873, 9.1572, 14.4281, 14.7832, 18.9295, 16.2352, 15.5466, 18.6902, 11.5458, 11.9424, 12.3931, 5.9248, 21.91, 16.6251, 13.0073, 18.712599, 16.7099, 12.8694, 10.7707, 14.8465, 9.6747, 11.831699, 11.8916, 14.5401, 13.755, 16.3114, 14.872, 16.7458, 9.7828], 'commit': {'sha': '066f4cf207359e06d30911a553dedd054aef595c', 'repository': {'name': 'spoon', 'owner': 'INRIA'}}, 'measurableElement': {'astElem': 'method', 'filePath': '/home/student/j/m/jmaquoi/sentinel/open-source-repositories/spoon/src/main/java/spoon/reflect/visitor/CommentHelper.java', 'className': 'spoon.reflect.visitor.CommentHelper', 'methodSignature': 'printComment/2[spoon.reflect.visitor.PrinterHelper,spoon.reflect.code.CtComment]', 'variableName': None, 'classType': None}}, {'allValues': [9.9333, 6.2087, 7.283, 7.3783, 1.977, 4.4472, 6.075, 7.5294, 9.4519, 16.0131, 6.939, 3.9978, 3.2541, 8.9086, 11.877, 10.2142, 11.6554, 6.8921, 4.9477, 1.0705, 7.2247, 8.6197, 6.8103, 6.7745, 12.3338, 10.506, 7.8239, 6.8825, 9.0153, 3.2803], 'commit': {'sha': '066f4cf207359e06d30911a553dedd054aef595c', 'repository': {'name': 'spoon', 'owner': 'INRIA'}}, 'measurableElement': {'astElem': 'method', 'filePath': '/home/student/j/m/jmaquoi/sentinel/open-source-repositories/spoon/src/main/java/spoon/reflect/visitor/NameScopeImpl.java', 'className': 'spoon.reflect.visitor.NameScopeImpl', 'methodSignature': 'forEachElementByName/2[java.lang.String,java.util.function.Function<? super spoon.reflect.declaration.CtNamedElement,T>]', 'variableName': None, 'classType': None}}, {'allValues': [10.2946, 24.8446, 22.315802, 17.587702, 11.947801, 8.9422, 14.3412, 17.930698, 19.7505, 7.6443996, 11.7425, 21.9438, 16.9726, 12.058201, 12.211801, 8.8574, 14.1303005, 15.471401, 2.5102, 12.7858, 21.635302, 16.6611, 13.151401, 16.7931, 9.885599, 17.128302, 41.680298, 19.7836, 26.8511, 20.994398], 'commit': {'sha': '066f4cf207359e06d30911a553dedd054aef595c', 'repository': {'name': 'spoon', 'owner': 'INRIA'}}, 'measurableElement': {'astElem': 'method', 'filePath': '/home/student/j/m/jmaquoi/sentinel/open-source-repositories/spoon/src/main/java/spoon/support/compiler/jdt/PositionBuilder.java', 'className': 'spoon.support.compiler.jdt.PositionBuilder', 'methodSignature': 'buildPositionCtElement/2[spoon.support.compiler.jdt.CtElement,spoon.support.compiler.jdt.ASTNode]', 'variableName': None, 'classType': None}}, {'allValues': [108.6305, 98.3913, 98.205, 97.3779, 94.3094, 95.4783, 85.2979, 107.849, 90.9143, 99.0826, 124.4896, 104.6387, 126.1231, 95.1528, 91.463, 115.5113, 97.1995, 109.9923, 84.151, 95.5857, 91.0406, 90.5464, 88.9281, 84.1854, 107.3451, 92.1697, 102.836, 93.7997, 104.2619, 109.5686], 'commit': {'sha': '5c9d8989f968d0ee3a942b411ef7fe121ed94609', 'repository': {'name': 'jabref', 'owner': 'JabRef'}}, 'measurableElement': {'astElem': 'method', 'filePath': '/home/student/j/m/jmaquoi/sentinel/open-source-repositories/jabref/src/test/java/org/jabref/cli/AuxCommandLineTest.java', 'className': 'org.jabref.cli.AuxCommandLineTest', 'methodSignature': 'setUp/0', 'variableName': None, 'classType': None}}, {'allValues': [6.6884, 5.7038, 9.6264, 3.237, 8.4908, 9.2123995, 4.5456, 6.9201, 4.6159, 7.7197, 9.1565, 8.3502, 12.645801, 9.836, 3.3996, 8.2987, 11.092, 6.2655, 6.0058, 6.5001, 10.0553, 6.3924, 7.6578, 3.956, 3.2325, 4.3898, 14.0131, 2.3641, 9.3967, 7.4412], 'commit': {'sha': '3ed1f1a064a10e53adc2ad8c0b46a4b2c148ee21', 'repository': {'name': 'spring-boot', 'owner': 'spring-projects'}}, 'measurableElement': {'astElem': 'method', 'filePath': '/home/student/j/m/jmaquoi/sentinel/open-source-repositories/spring-boot/spring-boot-project/spring-boot/src/main/java/org/springframework/boot/context/properties/bind/JavaBeanBinder.java', 'className': 'org.springframework.boot.context.properties.bind.JavaBeanBinder$BeanProperties', 'methodSignature': 'getDeclaredMethods/1[java.lang.Class<?>]', 'variableName': None, 'classType': None}}, {'allValues': [6.9532003, 8.4589, 7.4154, 5.5712, 8.0022, 5.7465, 4.0447, 11.699, 7.9552, 9.6965, 9.3113, 13.071401, 9.9532995, 8.3194, 5.7745004, 8.2445, 9.686001, 6.8439, 4.8329, 8.7371, 5.267, 5.9372, 9.4373, 7.2971, 8.3811, 5.9561996, 8.4479, 8.9986, 6.3764, 7.5029], 'commit': {'sha': '3ed1f1a064a10e53adc2ad8c0b46a4b2c148ee21', 'repository': {'name': 'spring-boot', 'owner': 'spring-projects'}}, 'measurableElement': {'astElem': 'method', 'filePath': '/home/student/j/m/jmaquoi/sentinel/open-source-repositories/spring-boot/spring-boot-project/spring-boot/src/test/java/org/springframework/boot/context/ConfigurationWarningsApplicationContextInitializerTests.java', 'className': 'org.springframework.boot.context.ConfigurationWarningsApplicationContextInitializerTests', 'methodSignature': 'load/1[java.lang.Class<?>]', 'variableName': None, 'classType': None}}, {'allValues': [108.1574, 102.8947, 241.5217, 86.3285, 75.3074, 88.3767, 389.4175, 79.6926, 72.6881, 172.3036, 72.9493, 93.2391, 97.7698, 78.133, 101.7873, 67.1411, 55.3759, 85.4658, 111.8694, 106.0056, 82.2007, 100.903, 66.8105, 104.2005, 104.9539, 99.2764, 86.4024, 134.7659, 109.5569, 76.5515], 'commit': {'sha': '3ed1f1a064a10e53adc2ad8c0b46a4b2c148ee21', 'repository': {'name': 'spring-boot', 'owner': 'spring-projects'}}, 'measurableElement': {'astElem': 'method', 'filePath': '/home/student/j/m/jmaquoi/sentinel/open-source-repositories/spring-boot/spring-boot-project/spring-boot/src/main/java/org/springframework/boot/web/embedded/jetty/JettyWebServer.java', 'className': 'org.springframework.boot.web.embedded.jetty.JettyWebServer', 'methodSignature': 'stop/0', 'variableName': None, 'classType': None}}, {'allValues': [53.1548, 54.646103, 31.6835, 51.5311, 42.5744, 28.6963, 29.1945, 24.3796, 24.6924, 49.0274, 51.8472, 55.207, 55.9313, 30.284, 52.5156, 34.0612, 35.2033, 18.0655, 56.5645, 24.0592, 37.3382, 24.878, 48.6481, 40.4495, 66.925995, 54.564, 44.0141, 37.3231, 45.4802, 24.6954], 'commit': {'sha': '3ed1f1a064a10e53adc2ad8c0b46a4b2c148ee21', 'repository': {'name': 'spring-boot', 'owner': 'spring-projects'}}, 'measurableElement': {'astElem': 'method', 'filePath': '/home/student/j/m/jmaquoi/sentinel/open-source-repositories/spring-boot/spring-boot-project/spring-boot/src/test/java/org/springframework/boot/web/servlet/server/AbstractServletWebServerFactoryTests.java', 'className': 'org.springframework.boot.web.servlet.server.AbstractServletWebServerFactoryTests', 'methodSignature': 'mimeMappingsAreCorrectlyConfigured/0', 'variableName': None, 'classType': None}}, {'allValues': [68.0657, 38.0296, 46.8122, 14.2264, 28.5367, 86.2809, 66.6091, 55.5568, 78.6321, 51.6467, 79.183, 44.2456, 47.7366, 39.8284, 33.2448, 40.5673, 62.9897, 48.5587, 50.6521, 249.5172, 57.0251, 49.5811, 34.6915, 32.7873, 46.8637, 61.1529, 31.5208, 50.9659, 56.3869, 30.1253], 'commit': {'sha': '12442bd8c7cde6e7c006a6277eeb8e81ad0c2219', 'repository': {'name': 'hibernate-orm', 'owner': 'hibernate'}}, 'measurableElement': {'astElem': 'method', 'filePath': '/home/student/j/m/jmaquoi/sentinel/open-source-repositories/hibernate-orm/hibernate-core/src/main/java/org/hibernate/internal/util/collections/JoinedList.java', 'className': 'org.hibernate.internal.util.collections.JoinedList', 'methodSignature': 'JoinedList/1[java.util.List<java.util.List<E>>]', 'variableName': None, 'classType': None}}, {'allValues': [11.1328, 8.7047, 9.1901, 5.9563003, 9.7094, 5.8646, 5.4711, 14.3584, 8.1261, 11.611099, 12.6274, 6.083, 3.1655, 8.9191, 7.9393997, 4.6489, 8.9115, 7.2131, 1.6068, 4.8492, 16.3544, 6.1818, 4.5433, 10.9969, 15.0124, 6.0295997, 14.6662, 10.3612, 9.5874, 5.0766], 'commit': {'sha': '066f4cf207359e06d30911a553dedd054aef595c', 'repository': {'name': 'spoon', 'owner': 'INRIA'}}, 'measurableElement': {'astElem': 'method', 'filePath': '/home/student/j/m/jmaquoi/sentinel/open-source-repositories/spoon/src/main/java/spoon/reflect/visitor/CtInheritanceScanner.java', 'className': 'spoon.reflect.visitor.CtInheritanceScanner', 'methodSignature': 'visitCtTypeAccess/1[spoon.reflect.code.CtTypeAccess<T>]', 'variableName': None, 'classType': None}}, {'allValues': [7.4191, 10.8455, 11.2159, 9.4329, 9.0711, 23.111, 8.6409, 8.4893, 17.9884, 8.4543, 7.2609, 13.7448, 6.4949, 16.314, 4.95, 17.1637, 11.457, 15.1945, 12.3674, 12.323, 4.4524, 9.7508, 8.0763, 11.6116, 8.588, 7.35, 3.559, 8.1459, 15.5356, 14.109], 'commit': {'sha': '3ed1f1a064a10e53adc2ad8c0b46a4b2c148ee21', 'repository': {'name': 'spring-boot', 'owner': 'spring-projects'}}, 'measurableElement': {'astElem': 'method', 'filePath': '/home/student/j/m/jmaquoi/sentinel/open-source-repositories/spring-boot/spring-boot-project/spring-boot/src/main/java/org/springframework/boot/context/properties/source/SpringIterableConfigurationPropertySource.java', 'className': 'org.springframework.boot.context.properties.source.SpringIterableConfigurationPropertySource$Mappings', 'methodSignature': 'add/3[java.util.Map<K,java.util.Set<T>>,K,T]', 'variableName': None, 'classType': None}}, {'allValues': [7.2107, 9.3731, 2.137, 6.0937004, 14.0776005, 10.8687, 6.243, 21.9022, 10.0937, 7.809, 4.2539997, 10.953199, 10.8313, 9.7249, 22.1114, 31.9777, 4.6328, 8.008301, 17.8057, 18.4331, 4.7205, 8.664, 2.5014, 7.4743, 4.3039002, 10.3291, 12.160299, 22.979, 3.6792002, 6.2783003], 'commit': {'sha': '3ed1f1a064a10e53adc2ad8c0b46a4b2c148ee21', 'repository': {'name': 'spring-boot', 'owner': 'spring-projects'}}, 'measurableElement': {'astElem': 'method', 'filePath': '/home/student/j/m/jmaquoi/sentinel/open-source-repositories/spring-boot/spring-boot-project/spring-boot/src/main/java/org/springframework/boot/web/embedded/tomcat/TomcatServletWebServerFactory.java', 'className': 'org.springframework.boot.web.embedded.tomcat.TomcatServletWebServerFactory', 'methodSignature': 'customizeConnector/1[org.springframework.boot.web.embedded.tomcat.Connector]', 'variableName': None, 'classType': None}}, {'allValues': [174.6061, 169.8356, 143.1895, 112.1389, 113.9087, 161.8022, 138.1837, 114.925, 120.2497, 109.3057, 155.5382, 157.1907, 107.249, 120.6709, 156.6887, 143.7041, 184.0907, 139.7198, 108.7885, 153.3371, 83.2742, 122.3018, 118.7478, 131.0462, 133.4974, 142.8185, 161.3476, 1190.6324, 151.7257, 140.4434], 'commit': {'sha': '3ed1f1a064a10e53adc2ad8c0b46a4b2c148ee21', 'repository': {'name': 'spring-boot', 'owner': 'spring-projects'}}, 'measurableElement': {'astElem': 'method', 'filePath': '/home/student/j/m/jmaquoi/sentinel/open-source-repositories/spring-boot/spring-boot-project/spring-boot/src/main/java/org/springframework/boot/web/servlet/server/StaticResourceJars.java', 'className': 'org.springframework.boot.web.servlet.server.StaticResourceJars', 'methodSignature': 'isResourcesJar/1[java.io.File]', 'variableName': None, 'classType': None}}, {'allValues': [10.172701, 9.5147, 7.5199995, 11.4359, 13.542801, 12.9686, 19.1927, 3.9716, 7.7493, 9.5349, 7.877, 3.4134, 6.1807003, 14.7222, 6.5483, 7.7102, 12.2578, 3.2854, 13.442401, 7.8327003, 21.2269, 12.8089, 6.9171, 15.291201, 17.0817, 6.4793997, 12.418099, 18.005901, 13.307, 9.9571], 'commit': {'sha': '066f4cf207359e06d30911a553dedd054aef595c', 'repository': {'name': 'spoon', 'owner': 'INRIA'}}, 'measurableElement': {'astElem': 'method', 'filePath': '/home/student/j/m/jmaquoi/sentinel/open-source-repositories/spoon/src/main/java/spoon/reflect/visitor/CtScanner.java', 'className': 'spoon.reflect.visitor.CtScanner', 'methodSignature': 'visitCtConstructorCall/1[spoon.reflect.code.CtConstructorCall<T>]', 'variableName': None, 'classType': None}}, {'allValues': [2.9302, 8.3096, 9.1652, 3.249, 10.9911, 5.1662, 9.4706, 7.8188, 4.1473, 33.8453, 8.74, 7.4121, 4.8372, 3.3285, 4.1755, 6.8793, 14.6193, 7.7529, 6.5788, 2.9563, 10.8675, 11.8212, 5.1904, 13.1213, 1.7604, 8.2845, 4.3792, 15.1452, 3.1066, 5.5336], 'commit': {'sha': '066f4cf207359e06d30911a553dedd054aef595c', 'repository': {'name': 'spoon', 'owner': 'INRIA'}}, 'measurableElement': {'astElem': 'method', 'filePath': '/home/student/j/m/jmaquoi/sentinel/open-source-repositories/spoon/src/main/java/spoon/support/reflect/reference/CtTypeReferenceImpl.java', 'className': 'spoon.support.reflect.reference.CtTypeReferenceImpl', 'methodSignature': 'isPrimitive/0', 'variableName': None, 'classType': None}}, {'allValues': [4.108, 5.159, 1.8477, 6.0021, 5.1792, 4.3268, 4.1671, 3.6832, 3.6931, 2.9689, 8.0446, 6.4935, 6.4543, 2.4653, 5.9537, 4.9672, 7.5054, 5.075, 4.4804, 6.7211, 2.7786, 8.0354, 2.8428, 3.6875, 27.5859, 2.7784, 4.2475, 3.4562, 2.9682, 4.064], 'commit': {'sha': '12442bd8c7cde6e7c006a6277eeb8e81ad0c2219', 'repository': {'name': 'hibernate-orm', 'owner': 'hibernate'}}, 'measurableElement': {'astElem': 'method', 'filePath': '/home/student/j/m/jmaquoi/sentinel/open-source-repositories/hibernate-orm/hibernate-core/src/main/java/org/hibernate/type/descriptor/java/PrimitiveByteArrayJavaType.java', 'className': 'org.hibernate.type.descriptor.java.PrimitiveByteArrayJavaType', 'methodSignature': 'extractLoggableRepresentation/1[byte[]]', 'variableName': None, 'classType': None}}, {'allValues': [12.4634, 37.2894, 16.2951, 17.5326, 40.4993, 19.3213, 22.5584, 17.5519, 19.9193, 51.7277, 12.7314, 20.455, 15.0208, 19.0146, 9.6758, 21.1712, 9.2118, 19.5872, 12.4844, 11.0662, 27.2097, 22.9267, 17.5396, 14.5607, 17.9521, 17.4837, 29.5441, 21.6115, 25.5869, 19.5469], 'commit': {'sha': '066f4cf207359e06d30911a553dedd054aef595c', 'repository': {'name': 'spoon', 'owner': 'INRIA'}}, 'measurableElement': {'astElem': 'method', 'filePath': '/home/student/j/m/jmaquoi/sentinel/open-source-repositories/spoon/src/main/java/spoon/support/reflect/declaration/CtClassImpl.java', 'className': 'spoon.support.reflect.declaration.CtClassImpl', 'methodSignature': 'isAnonymous/0', 'variableName': None, 'classType': None}}, {'allValues': [17.9355, 11.2448, 22.0247, 16.6588, 16.1487, 9.8223, 13.192201, 19.7565, 19.166601, 18.7953, 18.721302, 19.8839, 20.6382, 18.2992, 12.810699, 21.1904, 17.966, 17.9511, 15.3001, 18.5609, 17.9029, 12.8721, 13.764, 23.3202, 18.8256, 14.0081005, 8.823, 19.8653, 19.1155, 17.056], 'commit': {'sha': '5c9d8989f968d0ee3a942b411ef7fe121ed94609', 'repository': {'name': 'jabref', 'owner': 'JabRef'}}, 'measurableElement': {'astElem': 'method', 'filePath': '/home/student/j/m/jmaquoi/sentinel/open-source-repositories/jabref/src/test/java/org/jabref/architecture/TestArchitectureTests.java', 'className': 'org.jabref.architecture.TestArchitectureTests', 'methodSignature': 'testsAreIndependent/1[java.lang.String]', 'variableName': None, 'classType': None}}, {'allValues': [2109.9353, 2580.8672, 1992.2736, 2085.4592, 2587.01, 2118.5796, 2087.088, 2488.8872, 2529.0112, 2514.089, 2108.82, 2643.9514, 2247.597, 2099.9507, 2037.3049, 2129.1768, 2202.229, 2109.487, 2261.734, 2128.6135, 2747.6675, 2144.3489, 2146.559, 2512.0806, 2193.447, 2201.8904, 2769.0137, 2007.5638, 2310.417, 2193.6514], 'commit': {'sha': '066f4cf207359e06d30911a553dedd054aef595c', 'repository': {'name': 'spoon', 'owner': 'INRIA'}}, 'measurableElement': {'astElem': 'method', 'filePath': '/home/student/j/m/jmaquoi/sentinel/open-source-repositories/spoon/src/main/java/spoon/reflect/visitor/EarlyTerminatingScanner.java', 'className': 'spoon.reflect.visitor.EarlyTerminatingScanner', 'methodSignature': 'scan/2[spoon.reflect.path.CtRole,java.util.Collection<? extends spoon.reflect.declaration.CtElement>]', 'variableName': None, 'classType': None}}, {'allValues': [6.5942, 4.8655, 5.3967, 5.9608, 4.3123, 6.1406, 4.6185, 4.976, 3.5573, 6.4287, 7.5643, 3.8999, 8.9369, 5.3824, 6.0814, 5.2153, 4.2389, 4.5138, 5.0521, 5.3165, 5.3579, 6.2252, 6.4103, 6.9242, 5.4743, 4.9878, 6.2692, 5.3093, 5.82, 5.1516], 'commit': {'sha': '3ed1f1a064a10e53adc2ad8c0b46a4b2c148ee21', 'repository': {'name': 'spring-boot', 'owner': 'spring-projects'}}, 'measurableElement': {'astElem': 'method', 'filePath': '/home/student/j/m/jmaquoi/sentinel/open-source-repositories/spring-boot/spring-boot-project/spring-boot/src/main/java/org/springframework/boot/context/config/AnsiOutputApplicationListener.java', 'className': 'org.springframework.boot.context.config.AnsiOutputApplicationListener', 'methodSignature': 'onApplicationEvent/1[org.springframework.boot.context.event.ApplicationEnvironmentPreparedEvent]', 'variableName': None, 'classType': None}}, {'allValues': [10.1504, 11.1847, 8.4949, 1.5091, 2.1996, 6.7121, 9.5959, 8.2036, 10.0558, 6.2434, 7.0422, 14.8267, 4.4743, 1.6437, 11.5233, 3.5741, 7.4749, 7.2882, 6.8737, 3.6834002, 6.2588, 6.4858, 7.0338, 12.351, 5.0156, 3.4261, 7.0146, 11.4855995, 3.6851, 2.5538], 'commit': {'sha': '066f4cf207359e06d30911a553dedd054aef595c', 'repository': {'name': 'spoon', 'owner': 'INRIA'}}, 'measurableElement': {'astElem': 'method', 'filePath': '/home/student/j/m/jmaquoi/sentinel/open-source-repositories/spoon/src/main/java/spoon/support/reflect/reference/CtTypeReferenceImpl.java', 'className': 'spoon.support.reflect.reference.CtTypeReferenceImpl', 'methodSignature': 'getSuperclass/0', 'variableName': None, 'classType': None}}, {'allValues': [267.5926, 212.9435, 217.8468, 243.28929, 221.7853, 205.2166, 253.4735, 255.5202, 284.447, 245.7364, 286.5662, 248.04619, 229.2126, 278.2825, 262.3844, 296.8638, 275.2279, 247.78789, 285.0079, 295.5719, 255.5771, 254.1494, 251.6994, 198.9242, 206.3628, 216.4843, 218.56671, 264.36728, 303.05438, 218.4218], 'commit': {'sha': '3ed1f1a064a10e53adc2ad8c0b46a4b2c148ee21', 'repository': {'name': 'spring-boot', 'owner': 'spring-projects'}}, 'measurableElement': {'astElem': 'method', 'filePath': '/home/student/j/m/jmaquoi/sentinel/open-source-repositories/spring-boot/spring-boot-project/spring-boot/src/test/java/org/springframework/boot/rsocket/netty/NettyRSocketServerFactoryTests.java', 'className': 'org.springframework.boot.rsocket.netty.NettyRSocketServerFactoryTests', 'methodSignature': 'checkEchoRequest/0', 'variableName': None, 'classType': None}}, {'allValues': [12.0226, 10.9769, 7.6050997, 16.104599, 16.766, 10.8973, 6.7072997, 12.670099, 11.124701, 12.603, 13.295101, 13.1344, 9.6355, 9.9008, 15.6887, 10.2667, 12.35, 13.994299, 13.966, 6.5816, 11.822499, 13.464, 9.8023, 3.3343, 14.278999, 9.4639, 10.835199, 11.9855995, 12.607201, 10.4801], 'commit': {'sha': '3ed1f1a064a10e53adc2ad8c0b46a4b2c148ee21', 'repository': {'name': 'spring-boot', 'owner': 'spring-projects'}}, 'measurableElement': {'astElem': 'method', 'filePath': '/home/student/j/m/jmaquoi/sentinel/open-source-repositories/spring-boot/spring-boot-project/spring-boot/src/test/java/org/springframework/boot/diagnostics/analyzer/NoUniqueBeanDefinitionFailureAnalyzerTests.java', 'className': 'org.springframework.boot.diagnostics.analyzer.NoUniqueBeanDefinitionFailureAnalyzerTests', 'methodSignature': 'createFailure/1[java.lang.Class<?>]', 'variableName': None, 'classType': None}}, {'allValues': [33.5015, 42.7587, 21.2936, 30.2523, 50.0318, 69.2121, 34.1436, 33.9287, 47.3883, 41.1951, 45.8974, 36.0382, 40.3262, 34.7052, 30.7974, 29.5357, 45.8117, 34.6636, 30.8604, 37.7037, 28.2832, 32.0308, 56.4738, 33.5903, 22.3286, 39.23, 47.3653, 34.2153, 37.8063, 41.5974], 'commit': {'sha': '3ed1f1a064a10e53adc2ad8c0b46a4b2c148ee21', 'repository': {'name': 'spring-boot', 'owner': 'spring-projects'}}, 'measurableElement': {'astElem': 'method', 'filePath': '/home/student/j/m/jmaquoi/sentinel/open-source-repositories/spring-boot/spring-boot-project/spring-boot/src/main/java/org/springframework/boot/ssl/DefaultSslManagerBundle.java', 'className': 'org.springframework.boot.ssl.DefaultSslManagerBundle', 'methodSignature': 'getKeyManagerFactory/0', 'variableName': None, 'classType': None}}, {'allValues': [34.742, 33.3128, 39.8453, 42.9204, 37.6786, 42.9113, 43.619, 34.0727, 34.4527, 36.0337, 40.9765, 46.7558, 46.2024, 35.731, 55.036697, 37.234898, 38.5783, 29.3431, 37.6845, 34.3907, 42.322, 38.0926, 47.3098, 37.4119, 42.2101, 35.0882, 46.3143, 35.4023, 34.5375, 40.1742], 'commit': {'sha': '5c9d8989f968d0ee3a942b411ef7fe121ed94609', 'repository': {'name': 'jabref', 'owner': 'JabRef'}}, 'measurableElement': {'astElem': 'method', 'filePath': '/home/student/j/m/jmaquoi/sentinel/open-source-repositories/jabref/src/main/java/org/jabref/logic/exporter/ModsExporter.java', 'className': 'org.jabref.logic.exporter.ModsExporter', 'methodSignature': 'createMarshallerAndWriteToFile/2[java.nio.file.Path,org.jabref.logic.exporter.JAXBElement<org.jabref.logic.exporter.ModsCollectionDefinition>]', 'variableName': None, 'classType': None}}, {'allValues': [17.0497, 10.159901, 14.4547, 10.980101, 19.4253, 18.3428, 8.6708, 6.6337, 12.302099, 9.628799, 14.301399, 10.6019, 14.7713, 11.089601, 15.8327, 12.892099, 18.5509, 7.6029, 14.5094, 20.601799, 12.769, 9.6172, 12.6762, 12.5422, 14.4314, 18.062, 8.6567, 7.9904, 11.9114, 7.2748], 'commit': {'sha': '3ed1f1a064a10e53adc2ad8c0b46a4b2c148ee21', 'repository': {'name': 'spring-boot', 'owner': 'spring-projects'}}, 'measurableElement': {'astElem': 'method', 'filePath': '/home/student/j/m/jmaquoi/sentinel/open-source-repositories/spring-boot/spring-boot-project/spring-boot/src/test/java/org/springframework/boot/diagnostics/analyzer/JakartaApiValidationExceptionFailureAnalyzerTests.java', 'className': 'org.springframework.boot.diagnostics.analyzer.JakartaApiValidationExceptionFailureAnalyzerTests', 'methodSignature': 'validatedPropertiesTest/0', 'variableName': None, 'classType': None}}, {'allValues': [119.877, 77.525696, 106.7823, 117.1261, 131.8139, 116.152306, 108.3815, 109.2721, 124.4899, 92.24301, 102.6684, 99.11371, 157.8183, 105.61361, 84.6804, 153.6015, 118.8613, 127.3491, 109.78451, 142.96759, 58.3085, 118.098, 122.0722, 119.427, 97.8041, 112.5254, 118.946, 53.5101, 107.776794, 114.80599], 'commit': {'sha': '3ed1f1a064a10e53adc2ad8c0b46a4b2c148ee21', 'repository': {'name': 'spring-boot', 'owner': 'spring-projects'}}, 'measurableElement': {'astElem': 'method', 'filePath': '/home/student/j/m/jmaquoi/sentinel/open-source-repositories/spring-boot/spring-boot-project/spring-boot/src/test/java/org/springframework/boot/web/servlet/ServletComponentScanRegistrarTests.java', 'className': 'org.springframework.boot.web.servlet.ServletComponentScanRegistrarTests', 'methodSignature': 'processAheadOfTimeDoesNotRegisterServletComponentRegisteringPostProcessor/0', 'variableName': None, 'classType': None}}, {'allValues': [38.6331, 28.5637, 31.8307, 15.5525, 52.7319, 46.0104, 33.7, 25.2758, 32.6962, 31.6635, 21.2088, 52.7404, 37.4824, 43.1385, 30.4259, 48.7175, 45.198, 43.3987, 61.0289, 47.4367, 53.6037, 37.7647, 51.8097, 36.9678, 33.125, 38.2678, 34.1569, 31.6572, 43.2381, 45.5503], 'commit': {'sha': '12442bd8c7cde6e7c006a6277eeb8e81ad0c2219', 'repository': {'name': 'hibernate-orm', 'owner': 'hibernate'}}, 'measurableElement': {'astElem': 'method', 'filePath': '/home/student/j/m/jmaquoi/sentinel/open-source-repositories/hibernate-orm/hibernate-core/src/test/java/org/hibernate/orm/test/jdbc/refcursor/StandardRefCursorSupportTest.java', 'className': 'org.hibernate.orm.test.jdbc.refcursor.StandardRefCursorSupportTest', 'methodSignature': 'testSupportsRefCursorsAboveJava8/0', 'variableName': None, 'classType': None}}, {'allValues': [3.4092, 10.1147, 10.5051, 1.7113, 8.4978, 9.7256, 7.7199, 6.0054, 15.2905, 4.0541, 10.0074, 18.5833, 5.5558, 21.02, 7.0235, 17.3672, 9.9216, 5.7623, 13.8748, 10.213301, 11.58, 9.7435, 5.127, 8.6821, 12.920799, 8.0745, 8.3978, 15.3631, 9.0038, 1.7685], 'commit': {'sha': '066f4cf207359e06d30911a553dedd054aef595c', 'repository': {'name': 'spoon', 'owner': 'INRIA'}}, 'measurableElement': {'astElem': 'method', 'filePath': '/home/student/j/m/jmaquoi/sentinel/open-source-repositories/spoon/src/main/java/spoon/reflect/visitor/TypeNameScope.java', 'className': 'spoon.reflect.visitor.TypeNameScope', 'methodSignature': 'putIfNotExists/2[java.util.Map<java.lang.String,T>,T]', 'variableName': None, 'classType': None}}, {'allValues': [42.3935, 115.7755, 125.7379, 45.0643, 125.4011, 114.7856, 58.8223, 153.379, 47.778, 131.0239, 54.6989, 185.6767, 46.245697, 135.2698, 136.8681, 55.483902, 41.5419, 54.931797, 25.5092, 148.4706, 135.5732, 130.639, 56.1369, 46.8895, 35.3396, 81.0694, 105.3355, 44.2079, 184.899, 126.7283], 'commit': {'sha': '5c9d8989f968d0ee3a942b411ef7fe121ed94609', 'repository': {'name': 'jabref', 'owner': 'JabRef'}}, 'measurableElement': {'astElem': 'method', 'filePath': '/home/student/j/m/jmaquoi/sentinel/open-source-repositories/jabref/src/test/java/org/jabref/architecture/MainArchitectureTests.java', 'className': 'org.jabref.architecture.MainArchitectureTests', 'methodSignature': 'doNotUseApacheCommonsLang3/1[org.jabref.architecture.JavaClasses]', 'variableName': None, 'classType': None}}, {'allValues': [15.364, 2.2802, 1.2198, 17.6666, 14.8145, 6.1813, 5.1868, 11.4982, 6.3976, 11.0315, 3.2991, 2.0398, 10.6775, 3.518, 3.5227, 12.8195, 9.8879, 11.3601, 10.6518, 9.6356, 13.9647, 12.6773, 16.5397, 10.2923, 4.5001, 12.3613, 10.1657, 10.523, 12.0975, 6.2967], 'commit': {'sha': '066f4cf207359e06d30911a553dedd054aef595c', 'repository': {'name': 'spoon', 'owner': 'INRIA'}}, 'measurableElement': {'astElem': 'method', 'filePath': '/home/student/j/m/jmaquoi/sentinel/open-source-repositories/spoon/src/main/java/spoon/support/reflect/reference/CtTypeReferenceImpl.java', 'className': 'spoon.support.reflect.reference.CtTypeReferenceImpl', 'methodSignature': 'setPackage/1[spoon.reflect.reference.CtPackageReference]', 'variableName': None, 'classType': None}}, {'allValues': [13.5516, 16.928799, 9.1914, 17.486, 7.6638002, 4.5759, 16.130701, 18.621, 9.1146, 7.9575, 12.2644, 7.1777, 7.7179, 7.3244, 13.0106, 4.8072, 17.2335, 4.4839, 10.935699, 18.4615, 9.8644, 7.1624002, 10.783199, 20.3, 8.6052, 13.7353, 2.1834, 12.8872, 2.3552, 9.419701], 'commit': {'sha': '3ed1f1a064a10e53adc2ad8c0b46a4b2c148ee21', 'repository': {'name': 'spring-boot', 'owner': 'spring-projects'}}, 'measurableElement': {'astElem': 'method', 'filePath': '/home/student/j/m/jmaquoi/sentinel/open-source-repositories/spring-boot/spring-boot-project/spring-boot/src/main/java/org/springframework/boot/web/servlet/context/AnnotationConfigServletWebServerApplicationContext.java', 'className': 'org.springframework.boot.web.servlet.context.AnnotationConfigServletWebServerApplicationContext', 'methodSignature': 'AnnotationConfigServletWebServerApplicationContext/0', 'variableName': None, 'classType': None}}, {'allValues': [60.4671, 61.4687, 52.3841, 53.663, 70.7185, 51.6887, 44.6876, 42.8447, 51.0784, 45.2435, 61.6408, 52.4507, 50.6708, 53.1668, 49.5542, 53.0171, 51.8384, 49.5612, 53.8091, 46.9013, 64.7874, 57.5574, 51.6488, 47.527, 52.2921, 52.7557, 49.9285, 56.5696, 49.7638, 51.5736], 'commit': {'sha': '3ed1f1a064a10e53adc2ad8c0b46a4b2c148ee21', 'repository': {'name': 'spring-boot', 'owner': 'spring-projects'}}, 'measurableElement': {'astElem': 'method', 'filePath': '/home/student/j/m/jmaquoi/sentinel/open-source-repositories/spring-boot/spring-boot-project/spring-boot/src/test/java/org/springframework/boot/jdbc/DataSourceBuilderTests.java', 'className': 'org.springframework.boot.jdbc.DataSourceBuilderTests', 'methodSignature': 'buildWhenDerivedFromEmbeddedDatabase/0', 'variableName': None, 'classType': None}}, {'allValues': [28.0847, 33.322098, 30.452099, 75.6658, 39.9306, 32.0794, 44.976902, 33.4064, 27.9751, 18.1818, 49.663, 11.324999, 45.243202, 27.639, 20.9007, 17.8192, 22.842901, 25.8641, 25.8775, 31.001999, 20.392002, 19.208, 24.9124, 18.3284, 26.8321, 33.7822, 36.9781, 25.9316, 30.667799, 29.278101], 'commit': {'sha': '12442bd8c7cde6e7c006a6277eeb8e81ad0c2219', 'repository': {'name': 'hibernate-orm', 'owner': 'hibernate'}}, 'measurableElement': {'astElem': 'method', 'filePath': '/home/student/j/m/jmaquoi/sentinel/open-source-repositories/hibernate-orm/hibernate-core/src/main/java/org/hibernate/bytecode/internal/bytebuddy/BytecodeProviderImpl.java', 'className': 'org.hibernate.bytecode.internal.bytebuddy.BytecodeProviderImpl', 'methodSignature': 'getReflectionOptimizer/2[java.lang.Class<?>,java.util.Map<java.lang.String,org.hibernate.property.access.spi.PropertyAccess>]', 'variableName': None, 'classType': None}}, {'allValues': [2.859, 23.753101, 10.637199, 6.6828003, 7.3884, 7.1495, 8.4524, 11.2383995, 4.4446, 6.0392, 3.4457, 9.3241, 3.2436, 8.7934, 16.051199, 10.967001, 12.0289, 11.8869, 4.1364, 5.2628, 10.0578, 6.5973, 11.711999, 17.1763, 10.4142, 12.128899, 9.8202, 2.5312, 12.8768, 9.1754], 'commit': {'sha': '066f4cf207359e06d30911a553dedd054aef595c', 'repository': {'name': 'spoon', 'owner': 'INRIA'}}, 'measurableElement': {'astElem': 'method', 'filePath': '/home/student/j/m/jmaquoi/sentinel/open-source-repositories/spoon/src/main/java/spoon/support/compiler/jdt/ReferenceBuilder.java', 'className': 'spoon.support.compiler.jdt.ReferenceBuilder', 'methodSignature': 'getExecutableReference/3[spoon.support.compiler.jdt.MethodBinding,int,int]', 'variableName': None, 'classType': None}}, {'allValues': [38.2306, 23.15, 34.6664, 34.4844, 41.6405, 65.5834, 56.1518, 44.4388, 43.9029, 54.0969, 53.2402, 39.3131, 38.7709, 48.6943, 70.6171, 44.2109, 34.0098, 30.0759, 3.4007, 36.7551, 66.4564, 51.3755, 50.2344, 44.2815, 55.4799, 37.2472, 69.1172, 47.3568, 42.6467, 48.5388], 'commit': {'sha': '066f4cf207359e06d30911a553dedd054aef595c', 'repository': {'name': 'spoon', 'owner': 'INRIA'}}, 'measurableElement': {'astElem': 'method', 'filePath': '/home/student/j/m/jmaquoi/sentinel/open-source-repositories/spoon/src/main/java/spoon/support/reflect/reference/CtTypeParameterReferenceImpl.java', 'className': 'spoon.support.reflect.reference.CtTypeParameterReferenceImpl', 'methodSignature': 'findTypeParamDeclaration/2[spoon.reflect.declaration.CtFormalTypeDeclarer,java.lang.String]', 'variableName': None, 'classType': None}}, {'allValues': [11.1395, 13.036799, 10.8413, 8.4511, 14.087299, 11.1439, 8.7056, 10.5973, 10.5837, 2.8638, 9.5753, 15.2577, 5.4558997, 11.3578005, 8.0466, 14.1563, 8.995, 10.6569, 4.2502, 16.1707, 19.7967, 7.5850005, 17.0492, 14.2384, 15.7344, 4.0765, 13.002, 14.0464, 11.3229, 7.7567], 'commit': {'sha': '066f4cf207359e06d30911a553dedd054aef595c', 'repository': {'name': 'spoon', 'owner': 'INRIA'}}, 'measurableElement': {'astElem': 'method', 'filePath': '/home/student/j/m/jmaquoi/sentinel/open-source-repositories/spoon/src/main/java/spoon/support/visitor/java/JavaReflectionTreeBuilder.java', 'className': 'spoon.support.visitor.java.JavaReflectionTreeBuilder', 'methodSignature': 'visitTypeReference/2[spoon.support.visitor.java.CtRole,java.lang.reflect.WildcardType]', 'variableName': None, 'classType': None}}, {'allValues': [4.0834, 5.596, 4.3143, 4.0302, 4.257, 2.87, 4.0732, 4.2564, 2.7528, 3.9857001, 5.5748, 4.1264, 4.4677, 4.2975, 4.0864, 4.2223997, 4.1202, 3.9968998, 4.4285, 4.0414, 4.1896, 4.1297, 3.8273, 4.0168, 4.1942, 4.1053, 5.0991, 4.404, 4.1843996, 5.6224003], 'commit': {'sha': '3ed1f1a064a10e53adc2ad8c0b46a4b2c148ee21', 'repository': {'name': 'spring-boot', 'owner': 'spring-projects'}}, 'measurableElement': {'astElem': 'method', 'filePath': '/home/student/j/m/jmaquoi/sentinel/open-source-repositories/spring-boot/spring-boot-project/spring-boot/src/test/java/org/springframework/boot/ExitCodeGeneratorsTests.java', 'className': 'org.springframework.boot.ExitCodeGeneratorsTests', 'methodSignature': 'mockGenerator/1[int]', 'variableName': None, 'classType': None}}, {'allValues': [78.185005, 79.86861, 111.82751, 94.9151, 132.2934, 92.3672, 111.072, 116.94851, 84.191696, 121.925896, 87.6088, 130.54689, 82.0433, 70.76131, 97.426506, 89.3742, 99.14259, 105.592, 97.33959, 104.7222, 112.9115, 105.448, 87.762695, 125.5286, 92.5078, 99.00741, 110.2577, 80.1099, 89.995094, 92.187904], 'commit': {'sha': '066f4cf207359e06d30911a553dedd054aef595c', 'repository': {'name': 'spoon', 'owner': 'INRIA'}}, 'measurableElement': {'astElem': 'method', 'filePath': '/home/student/j/m/jmaquoi/sentinel/open-source-repositories/spoon/src/main/java/spoon/reflect/visitor/CtScanner.java', 'className': 'spoon.reflect.visitor.CtScanner', 'methodSignature': 'visitCtExecutableReference/1[spoon.reflect.reference.CtExecutableReference<T>]', 'variableName': None, 'classType': None}}, {'allValues': [22.3613, 26.5358, 29.1259, 41.1916, 26.0792, 31.4033, 21.4764, 28.0366, 31.8073, 31.5739, 28.2277, 23.5604, 32.4364, 26.2183, 33.3726, 24.1804, 24.7754, 33.601997, 40.7953, 36.2159, 20.8064, 34.6302, 39.8411, 31.203901, 23.4198, 26.1074, 31.1168, 26.4194, 46.6755, 24.1602], 'commit': {'sha': '3ed1f1a064a10e53adc2ad8c0b46a4b2c148ee21', 'repository': {'name': 'spring-boot', 'owner': 'spring-projects'}}, 'measurableElement': {'astElem': 'method', 'filePath': '/home/student/j/m/jmaquoi/sentinel/open-source-repositories/spring-boot/spring-boot-project/spring-boot/src/test/java/org/springframework/boot/validation/MessageInterpolatorFactoryWithoutElIntegrationTests.java', 'className': 'org.springframework.boot.validation.MessageInterpolatorFactoryWithoutElIntegrationTests', 'methodSignature': 'getObjectShouldUseMessageSourceMessageInterpolatorDelegateWithFallback/0', 'variableName': None, 'classType': None}}, {'allValues': [142.1565, 113.99071, 68.8237, 117.45511, 122.564896, 106.4308, 4353.564, 74.9267, 79.28, 173.7752, 70.1196, 99.144, 75.8822, 97.215805, 112.1558, 86.8678, 1.1324, 136.3927, 86.4835, 132.24829, 138.6838, 103.844406, 96.4967, 91.1941, 114.3866, 93.3161, 113.2507, 119.135605, 246.5268, 138.2887], 'commit': {'sha': '12442bd8c7cde6e7c006a6277eeb8e81ad0c2219', 'repository': {'name': 'hibernate-orm', 'owner': 'hibernate'}}, 'measurableElement': {'astElem': 'method', 'filePath': '/home/student/j/m/jmaquoi/sentinel/open-source-repositories/hibernate-orm/hibernate-core/src/test/java/org/hibernate/orm/test/caching/mocked/NaturalIdCacheKeyTest.java', 'className': 'org.hibernate.orm.test.caching.mocked.NaturalIdCacheKeyTest', 'methodSignature': 'testSerializationRoundTrip/0', 'variableName': None, 'classType': None}}, {'allValues': [4.2703, 15.0491, 7.7601, 2.5884, 14.6035, 6.2667, 8.2293, 3.4174, 2.3215, 9.8234, 9.7336, 7.6759, 3.2417, 7.8271, 3.0216, 3.7781, 5.119, 10.1576, 8.8316, 6.3728, 5.2074, 15.4222, 8.0358, 9.6702, 3.2097, 9.5173, 16.3586, 6.6096, 4.6235, 7.051], 'commit': {'sha': '066f4cf207359e06d30911a553dedd054aef595c', 'repository': {'name': 'spoon', 'owner': 'INRIA'}}, 'measurableElement': {'astElem': 'method', 'filePath': '/home/student/j/m/jmaquoi/sentinel/open-source-repositories/spoon/src/main/java/spoon/reflect/visitor/ElementPrinterHelper.java', 'className': 'spoon.reflect.visitor.ElementPrinterHelper', 'methodSignature': 'writeModifiers/1[spoon.reflect.declaration.CtModifiable]', 'variableName': None, 'classType': None}}, {'allValues': [25.9344, 24.813, 17.8871, 20.8466, 23.9975, 23.0358, 20.6801, 29.4913, 21.4974, 17.5727, 24.7523, 27.2017, 19.4036, 18.5518, 23.9126, 24.9804, 21.3936, 22.201, 103.7871, 14.8382, 21.0389, 21.3031, 21.2, 24.9834, 20.9742, 20.6067, 22.3943, 21.9082, 19.1547, 18.7247], 'commit': {'sha': '5c9d8989f968d0ee3a942b411ef7fe121ed94609', 'repository': {'name': 'jabref', 'owner': 'JabRef'}}, 'measurableElement': {'astElem': 'method', 'filePath': '/home/student/j/m/jmaquoi/sentinel/open-source-repositories/jabref/src/test/java/org/jabref/architecture/MainArchitectureTests.java', 'className': 'org.jabref.architecture.MainArchitectureTests', 'methodSignature': 'doNotUseGlyphsDirectly/1[org.jabref.architecture.JavaClasses]', 'variableName': None, 'classType': None}}, {'allValues': [19.6666, 11.7987995, 9.5036, 11.6457, 18.6268, 6.0365, 12.6605, 9.4924, 15.9762, 11.109, 4.7024, 14.5159, 6.5618, 19.339, 11.43, 13.0773, 6.6917, 14.9904995, 11.0982, 6.2371, 14.152201, 9.6391, 13.1278, 9.2984, 7.9481, 9.6166, 17.5781, 3.3103, 7.682, 7.9551], 'commit': {'sha': '066f4cf207359e06d30911a553dedd054aef595c', 'repository': {'name': 'spoon', 'owner': 'INRIA'}}, 'measurableElement': {'astElem': 'method', 'filePath': '/home/student/j/m/jmaquoi/sentinel/open-source-repositories/spoon/src/main/java/spoon/reflect/visitor/ImportScannerImpl.java', 'className': 'spoon.reflect.visitor.ImportScannerImpl', 'methodSignature': 'lookForLocalVariables/1[spoon.reflect.declaration.CtElement]', 'variableName': None, 'classType': None}}, {'allValues': [4.852, 5.5532, 6.2258, 8.0801, 9.9127, 1.6511, 4.9261, 5.6583, 10.4742, 13.0554, 3.0738, 4.0104, 3.2728, 4.8571, 4.8594, 9.2578, 10.5892, 3.3101, 8.1062, 5.0104, 5.9648, 1.6913, 4.8679, 11.1737995, 7.6237, 6.358, 9.6898, 9.6271, 4.8468, 7.7007], 'commit': {'sha': '066f4cf207359e06d30911a553dedd054aef595c', 'repository': {'name': 'spoon', 'owner': 'INRIA'}}, 'measurableElement': {'astElem': 'method', 'filePath': '/home/student/j/m/jmaquoi/sentinel/open-source-repositories/spoon/src/main/java/spoon/support/visitor/equals/EqualsChecker.java', 'className': 'spoon.support.visitor.equals.EqualsChecker', 'methodSignature': 'visitCtLiteral/1[spoon.support.visitor.equals.CtLiteral<T>]', 'variableName': None, 'classType': None}}, {'allValues': [10.8281, 12.5666, 10.2773, 10.0633, 5.0811, 5.0358, 7.1649, 14.789, 3.0408, 6.3726, 12.466, 10.7195, 9.7239, 16.0993, 14.4522, 7.3463, 3.534, 10.2315, 9.6468, 13.601, 11.4834, 5.5708, 7.0185, 2.4684, 14.7095, 10.4499, 10.7345, 9.4545, 13.8001, 9.7875], 'commit': {'sha': '3ed1f1a064a10e53adc2ad8c0b46a4b2c148ee21', 'repository': {'name': 'spring-boot', 'owner': 'spring-projects'}}, 'measurableElement': {'astElem': 'method', 'filePath': '/home/student/j/m/jmaquoi/sentinel/open-source-repositories/spring-boot/spring-boot-project/spring-boot/src/main/java/org/springframework/boot/web/embedded/tomcat/TomcatEmbeddedContext.java', 'className': 'org.springframework.boot.web.embedded.tomcat.TomcatEmbeddedContext', 'methodSignature': 'load/1[org.springframework.boot.web.embedded.tomcat.Wrapper]', 'variableName': None, 'classType': None}}, {'allValues': [3.2379, 3.3683, 7.07, 7.677, 11.3446, 5.1091, 4.9997, 15.5858, 11.5393, 8.2054, 1.5499, 13.9757, 11.4837, 7.8391, 10.2542, 17.4033, 11.2987, 8.2928, 6.7716002, 2.4897, 8.8366, 7.502, 18.3504, 5.8294, 3.576, 2.7755, 13.1095, 10.496, 13.5796, 5.0963], 'commit': {'sha': '066f4cf207359e06d30911a553dedd054aef595c', 'repository': {'name': 'spoon', 'owner': 'INRIA'}}, 'measurableElement': {'astElem': 'method', 'filePath': '/home/student/j/m/jmaquoi/sentinel/open-source-repositories/spoon/src/main/java/spoon/reflect/visitor/ElementPrinterHelper.java', 'className': 'spoon.reflect.visitor.ElementPrinterHelper', 'methodSignature': 'printList/11[java.lang.Iterable<T>,java.lang.String,boolean,java.lang.String,boolean,boolean,java.lang.String,boolean,boolean,java.lang.String,java.util.function.Consumer<T>]', 'variableName': None, 'classType': None}}, {'allValues': [37.4117, 30.2803, 43.5022, 10.5677, 17.187, 21.2959, 15.6853, 17.6053, 24.6696, 13.59, 24.9939, 8.332, 17.8014, 16.9067, 4.5979, 41.7237, 41.021202, 21.9506, 14.5708, 40.1226, 13.2856, 27.515202, 34.2602, 23.3497, 11.2402, 19.6762, 12.9834, 9.8197, 18.3471, 17.9509], 'commit': {'sha': '12442bd8c7cde6e7c006a6277eeb8e81ad0c2219', 'repository': {'name': 'hibernate-orm', 'owner': 'hibernate'}}, 'measurableElement': {'astElem': 'method', 'filePath': '/home/student/j/m/jmaquoi/sentinel/open-source-repositories/hibernate-orm/hibernate-testing/src/main/java/org/hibernate/testing/junit4/CustomParameterized.java', 'className': 'org.hibernate.testing.junit4.CustomParameterized', 'methodSignature': 'nameFor/3[java.lang.String,int,java.lang.Object[]]', 'variableName': None, 'classType': None}}, {'allValues': [20.3981, 26.5007, 2.2836003, 19.607899, 23.5082, 19.1012, 10.4583, 18.5596, 12.1526, 14.7141, 19.2913, 14.0215, 15.8398, 15.515699, 8.468101, 13.5551, 19.3568, 17.258, 21.9026, 192.42091, 3.2484002, 10.8428, 16.4406, 16.0868, 12.7135, 17.2203, 9.5359, 13.6438, 13.1968, 17.6067], 'commit': {'sha': '12442bd8c7cde6e7c006a6277eeb8e81ad0c2219', 'repository': {'name': 'hibernate-orm', 'owner': 'hibernate'}}, 'measurableElement': {'astElem': 'method', 'filePath': '/home/student/j/m/jmaquoi/sentinel/open-source-repositories/hibernate-orm/hibernate-core/src/main/java/org/hibernate/engine/jdbc/env/internal/ExtractedDatabaseMetaDataImpl.java', 'className': 'org.hibernate.engine.jdbc.env.internal.ExtractedDatabaseMetaDataImpl$Builder', 'methodSignature': 'apply/1[java.sql.DatabaseMetaData]', 'variableName': None, 'classType': None}}, {'allValues': [69.2602, 50.9972, 55.064, 51.747498, 57.3522, 54.9892, 54.885498, 46.810497, 44.7445, 38.4112, 56.3515, 59.0065, 57.8398, 61.5726, 48.195602, 48.3678, 43.6594, 50.5709, 37.527798, 43.8752, 61.440197, 67.367905, 46.6614, 39.4861, 64.0793, 42.7385, 47.6513, 57.9899, 43.7688, 38.637], 'commit': {'sha': '066f4cf207359e06d30911a553dedd054aef595c', 'repository': {'name': 'spoon', 'owner': 'INRIA'}}, 'measurableElement': {'astElem': 'method', 'filePath': '/home/student/j/m/jmaquoi/sentinel/open-source-repositories/spoon/src/main/java/spoon/reflect/visitor/CtScanner.java', 'className': 'spoon.reflect.visitor.CtScanner', 'methodSignature': 'visitCtThisAccess/1[spoon.reflect.code.CtThisAccess<T>]', 'variableName': None, 'classType': None}}, {'allValues': [9.214, 8.1181, 9.3142, 10.0883, 10.667399, 10.0442, 9.8315, 9.3945, 1.0928, 7.7766, 8.7949, 9.2731, 8.3247, 7.4615, 8.5999, 7.773, 9.425301, 8.5293, 9.6029, 10.5574, 9.9288, 10.1483, 6.2321997, 9.892, 8.5451, 8.3724, 10.4805, 10.7053, 8.5952, 9.1958], 'commit': {'sha': '3ed1f1a064a10e53adc2ad8c0b46a4b2c148ee21', 'repository': {'name': 'spring-boot', 'owner': 'spring-projects'}}, 'measurableElement': {'astElem': 'method', 'filePath': '/home/student/j/m/jmaquoi/sentinel/open-source-repositories/spring-boot/spring-boot-project/spring-boot/src/test/java/org/springframework/boot/jackson/JsonMixinModuleEntriesBeanRegistrationAotProcessorTests.java', 'className': 'org.springframework.boot.jackson.JsonMixinModuleEntriesBeanRegistrationAotProcessorTests', 'methodSignature': 'processAheadOfTimeShouldRegisterBindingHintsForMixins/0', 'variableName': None, 'classType': None}}, {'allValues': [35.501602, 53.864, 23.4985, 32.485, 43.5988, 28.4221, 31.956097, 43.1911, 26.581299, 46.2977, 25.288599, 47.2418, 24.2715, 27.7587, 17.750599, 22.8438, 29.520998, 35.9138, 25.2624, 25.974901, 60.243397, 27.5923, 22.8914, 40.3158, 45.782097, 28.6066, 31.773901, 27.372702, 36.8803, 29.7212], 'commit': {'sha': '066f4cf207359e06d30911a553dedd054aef595c', 'repository': {'name': 'spoon', 'owner': 'INRIA'}}, 'measurableElement': {'astElem': 'method', 'filePath': '/home/student/j/m/jmaquoi/sentinel/open-source-repositories/spoon/src/main/java/spoon/support/compiler/jdt/ReferenceBuilder.java', 'className': 'spoon.support.compiler.jdt.ReferenceBuilder', 'methodSignature': 'getTypeReferenceFromTypeArgument/1[spoon.support.compiler.jdt.TypeBinding]', 'variableName': None, 'classType': None}}, {'allValues': [17.7295, 22.259401, 22.7644, 19.0719, 12.4809, 17.7468, 12.8297, 17.296999, 13.3292, 18.6535, 12.1261, 21.621498, 10.0088005, 15.3057, 16.9803, 19.1705, 12.552099, 18.4666, 41.765198, 19.2794, 7.9297004, 33.3844, 18.9485, 7.4476004, 13.656, 17.7101, 20.0226, 14.3982, 13.3844, 15.2397], 'commit': {'sha': '066f4cf207359e06d30911a553dedd054aef595c', 'repository': {'name': 'spoon', 'owner': 'INRIA'}}, 'measurableElement': {'astElem': 'method', 'filePath': '/home/student/j/m/jmaquoi/sentinel/open-source-repositories/spoon/src/main/java/spoon/support/reflect/declaration/CtTypeImpl.java', 'className': 'spoon.support.reflect.declaration.CtTypeImpl', 'methodSignature': 'getQualifiedName/0', 'variableName': None, 'classType': None}}, {'allValues': [13.217, 13.2867, 5.1362, 15.3715, 14.5997, 11.2568, 8.5293, 11.1092, 10.8527, 11.414, 14.8837, 8.8762, 6.7488, 9.9316, 13.4551, 15.9837, 13.3474, 13.3353, 13.8177, 11.352, 17.2, 11.2592, 10.3495, 12.499, 14.2255, 3.2416, 9.9907, 7.3558, 9.7813, 12.6103], 'commit': {'sha': '3ed1f1a064a10e53adc2ad8c0b46a4b2c148ee21', 'repository': {'name': 'spring-boot', 'owner': 'spring-projects'}}, 'measurableElement': {'astElem': 'method', 'filePath': '/home/student/j/m/jmaquoi/sentinel/open-source-repositories/spring-boot/spring-boot-project/spring-boot/src/main/java/org/springframework/boot/jdbc/init/DataSourceScriptDatabaseInitializer.java', 'className': 'org.springframework.boot.jdbc.init.DataSourceScriptDatabaseInitializer', 'methodSignature': 'runScripts/1[org.springframework.boot.jdbc.init.Scripts]', 'variableName': None, 'classType': None}}, {'allValues': [88.3504, 123.7972, 93.033905, 81.1157, 104.1209, 77.0609, 74.9231, 93.4874, 116.7415, 114.7366, 83.6898, 124.8467, 101.0233, 93.1287, 87.7611, 122.1424, 126.8089, 89.5485, 99.3222, 112.0063, 150.0093, 107.0313, 89.4837, 93.6281, 101.9624, 113.4759, 135.0594, 96.4904, 114.5161, 93.398], 'commit': {'sha': '066f4cf207359e06d30911a553dedd054aef595c', 'repository': {'name': 'spoon', 'owner': 'INRIA'}}, 'measurableElement': {'astElem': 'method', 'filePath': '/home/student/j/m/jmaquoi/sentinel/open-source-repositories/spoon/src/main/java/spoon/reflect/visitor/PrinterHelper.java', 'className': 'spoon.reflect.visitor.PrinterHelper', 'methodSignature': 'write/1[java.lang.String]', 'variableName': None, 'classType': None}}, {'allValues': [1.5031, 1.4807, 1.3729, 1.3967, 1.3815, 1.3845, 4.0142, 4.4721003, 1.407, 2.7064, 1.3915, 1.4191, 4.9028997, 1.4608, 1.4568, 2.5461, 2.8006, 3.0139, 2.6732, 2.913, 2.8338, 2.9161, 1.3445, 2.9614, 2.7236, 2.6653, 3.2496, 2.7351, 1.4406, 1.3709], 'commit': {'sha': '3ed1f1a064a10e53adc2ad8c0b46a4b2c148ee21', 'repository': {'name': 'spring-boot', 'owner': 'spring-projects'}}, 'measurableElement': {'astElem': 'method', 'filePath': '/home/student/j/m/jmaquoi/sentinel/open-source-repositories/spring-boot/spring-boot-project/spring-boot/src/test/java/org/springframework/boot/SpringApplicationTests.java', 'className': 'org.springframework.boot.SpringApplicationTests', 'methodSignature': 'withHookWhenHookThrowsAbandonedRunExceptionAbandonsRun/0', 'variableName': None, 'classType': None}}, {'allValues': [19.5408, 11.8863, 19.5551, 21.1998, 23.1699, 15.1899, 13.491, 5.1878, 16.4139, 6.6391, 18.3668, 14.5818, 19.0259, 62.1874, 14.5933, 9.1422, 4.7708, 11.104, 4.4716, 20.8143, 38.5495, 20.633, 4.8927, 24.2832, 14.9649, 12.8816, 9.963, 15.7705, 2.4583, 24.7482], 'commit': {'sha': '12442bd8c7cde6e7c006a6277eeb8e81ad0c2219', 'repository': {'name': 'hibernate-orm', 'owner': 'hibernate'}}, 'measurableElement': {'astElem': 'method', 'filePath': '/home/student/j/m/jmaquoi/sentinel/open-source-repositories/hibernate-orm/hibernate-core/src/main/java/org/hibernate/bytecode/enhance/internal/bytebuddy/UnloadedTypeDescription.java', 'className': 'org.hibernate.bytecode.enhance.internal.bytebuddy.UnloadedTypeDescription', 'methodSignature': 'hasAnnotation/1[java.lang.Class<? extends java.lang.annotation.Annotation>]', 'variableName': None, 'classType': None}}, {'allValues': [3.7698, 4.7133, 4.4312, 2.7062, 3.8226, 3.6813, 2.8167, 2.4719, 3.7691, 3.5406, 5.9247, 5.1014, 3.628, 2.7233, 3.8119, 2.4636, 3.4459, 3.1838, 2.7057, 1.6757, 3.5993, 3.289, 3.9632, 4.0293, 4.0525, 5.2559, 3.2808, 3.8025, 2.7946, 3.496], 'commit': {'sha': '3ed1f1a064a10e53adc2ad8c0b46a4b2c148ee21', 'repository': {'name': 'spring-boot', 'owner': 'spring-projects'}}, 'measurableElement': {'astElem': 'method', 'filePath': '/home/student/j/m/jmaquoi/sentinel/open-source-repositories/spring-boot/spring-boot-project/spring-boot/src/test/java/org/springframework/boot/jdbc/DataSourceUnwrapperTests.java', 'className': 'org.springframework.boot.jdbc.DataSourceUnwrapperTests', 'methodSignature': 'unwrappingIsNotAttemptedWhenDataSourceIsNotWrapperForTarget/0', 'variableName': None, 'classType': None}}, {'allValues': [11.6057005, 11.2268, 16.4023, 19.2166, 26.0261, 16.7637, 3.8648, 13.5973, 4.1184998, 10.46, 7.4627, 23.5947, 16.9302, 11.1239, 17.8755, 12.5333, 17.7478, 18.3685, 11.961, 9.710401, 16.319302, 16.9231, 8.9146, 17.488098, 10.4196005, 8.1594, 14.048699, 5.0043, 13.2318, 22.3741], 'commit': {'sha': '066f4cf207359e06d30911a553dedd054aef595c', 'repository': {'name': 'spoon', 'owner': 'INRIA'}}, 'measurableElement': {'astElem': 'method', 'filePath': '/home/student/j/m/jmaquoi/sentinel/open-source-repositories/spoon/src/main/java/spoon/support/compiler/jdt/PositionBuilder.java', 'className': 'spoon.support.compiler.jdt.PositionBuilder', 'methodSignature': 'setModifiersPosition/3[spoon.support.compiler.jdt.CtModifiable,int,int]', 'variableName': None, 'classType': None}}, {'allValues': [5.6965, 7.3665, 7.9383, 6.183, 7.5704, 3.4484, 4.9836, 7.2876, 7.0679, 4.926, 9.2818, 7.4751997, 1.7325, 8.2765, 6.8466, 8.1801, 8.1762, 7.0021, 5.7686996, 8.653299, 5.7551003, 5.1479, 7.6637, 9.389999, 7.4307003, 5.2704, 9.699699, 7.4028997, 7.7912, 5.8813], 'commit': {'sha': '3ed1f1a064a10e53adc2ad8c0b46a4b2c148ee21', 'repository': {'name': 'spring-boot', 'owner': 'spring-projects'}}, 'measurableElement': {'astElem': 'method', 'filePath': '/home/student/j/m/jmaquoi/sentinel/open-source-repositories/spring-boot/spring-boot-project/spring-boot/src/test/java/org/springframework/boot/context/properties/source/CachingConfigurationPropertySourceTests.java', 'className': 'org.springframework.boot.context.properties.source.CachingConfigurationPropertySourceTests', 'methodSignature': 'findWhenCachingConfigurationPropertySourceReturnsCaching/0', 'variableName': None, 'classType': None}}, {'allValues': [7.0147, 4.9244003, 4.0392, 5.6857, 6.5052, 5.0239, 3.8328001, 2.4676, 4.2328, 4.5285, 5.166, 5.6691, 6.317, 3.4153, 4.0044003, 3.4615998, 3.2642, 6.0582, 4.5976, 4.1488, 6.4697, 5.8016996, 3.6012, 4.2141, 5.988, 2.7471, 4.443, 6.1021004, 3.7887998, 4.4669], 'commit': {'sha': '5c9d8989f968d0ee3a942b411ef7fe121ed94609', 'repository': {'name': 'jabref', 'owner': 'JabRef'}}, 'measurableElement': {'astElem': 'method', 'filePath': '/home/student/j/m/jmaquoi/sentinel/open-source-repositories/jabref/src/main/java/org/jabref/gui/theme/StyleSheetFile.java', 'className': 'org.jabref.gui.theme.StyleSheetFile', 'methodSignature': 'getDataUrl/1[java.net.URL]', 'variableName': None, 'classType': None}}, {'allValues': [137.1716, 174.9281, 145.9525, 148.2249, 131.914, 139.1097, 160.9029, 180.091, 189.0141, 162.0639, 136.1082, 199.2911, 141.5503, 149.4739, 109.886, 133.7687, 173.05, 158.7378, 108.4743, 161.769, 197.4603, 163.4404, 139.6382, 171.1532, 130.1266, 162.268, 149.1281, 145.0209, 167.768, 137.2319], 'commit': {'sha': '066f4cf207359e06d30911a553dedd054aef595c', 'repository': {'name': 'spoon', 'owner': 'INRIA'}}, 'measurableElement': {'astElem': 'method', 'filePath': '/home/student/j/m/jmaquoi/sentinel/open-source-repositories/spoon/src/main/java/spoon/support/reflect/CtModifierHandler.java', 'className': 'spoon.support.reflect.CtModifierHandler', 'methodSignature': 'getModifiers/0', 'variableName': None, 'classType': None}}, {'allValues': [23.1661, 14.3585, 14.2505, 21.5371, 14.0464, 13.934401, 23.0726, 14.3988, 16.1362, 24.32, 26.886002, 13.7813, 19.470499, 7.7708, 18.368, 14.3174, 26.768099, 13.3053, 20.5226, 22.8345, 17.8378, 14.7677, 26.6266, 13.3326, 18.0118, 16.502, 18.717, 14.3908, 17.8754, 11.5566], 'commit': {'sha': '3ed1f1a064a10e53adc2ad8c0b46a4b2c148ee21', 'repository': {'name': 'spring-boot', 'owner': 'spring-projects'}}, 'measurableElement': {'astElem': 'method', 'filePath': '/home/student/j/m/jmaquoi/sentinel/open-source-repositories/spring-boot/spring-boot-project/spring-boot/src/main/java/org/springframework/boot/web/servlet/context/AnnotationConfigServletWebServerApplicationContext.java', 'className': 'org.springframework.boot.web.servlet.context.AnnotationConfigServletWebServerApplicationContext', 'methodSignature': 'postProcessBeanFactory/1[org.springframework.boot.web.servlet.context.ConfigurableListableBeanFactory]', 'variableName': None, 'classType': None}}, {'allValues': [40.869396, 49.844097, 38.578304, 63.611202, 61.3054, 48.350502, 44.102303, 66.3246, 42.0003, 46.5624, 58.018597, 59.157402, 30.8072, 41.243404, 36.9642, 31.2709, 48.355003, 59.7895, 38.0106, 27.1068, 51.708603, 43.055, 54.662403, 69.78269, 46.8311, 45.941097, 53.135902, 43.482296, 48.232, 38.574997], 'commit': {'sha': '066f4cf207359e06d30911a553dedd054aef595c', 'repository': {'name': 'spoon', 'owner': 'INRIA'}}, 'measurableElement': {'astElem': 'method', 'filePath': '/home/student/j/m/jmaquoi/sentinel/open-source-repositories/spoon/src/main/java/spoon/reflect/visitor/CtScanner.java', 'className': 'spoon.reflect.visitor.CtScanner', 'methodSignature': 'visitCtBlock/1[spoon.reflect.code.CtBlock<R>]', 'variableName': None, 'classType': None}}, {'allValues': [7.3791, 6.9653, 7.9991, 6.5518003, 5.6802998, 5.9022, 6.2254, 11.7065, 3.4912, 5.0245, 8.2549, 5.9729, 4.9432, 5.8058, 8.4641, 5.9225, 7.2770004, 5.1412, 9.1153, 6.8545, 6.0024, 4.5997, 7.5964, 6.9653, 6.8883, 6.3951, 6.5476, 4.0777, 8.0455, 5.8692], 'commit': {'sha': '5c9d8989f968d0ee3a942b411ef7fe121ed94609', 'repository': {'name': 'jabref', 'owner': 'JabRef'}}, 'measurableElement': {'astElem': 'method', 'filePath': '/home/student/j/m/jmaquoi/sentinel/open-source-repositories/jabref/src/main/java/org/jabref/logic/net/URLDownload.java', 'className': 'org.jabref.logic.net.URLDownload', 'methodSignature': 'copy/3[java.io.InputStream,java.io.Writer,java.nio.charset.Charset]', 'variableName': None, 'classType': None}}, {'allValues': [26.0377, 26.1155, 17.5028, 20.4374, 24.768, 18.5808, 26.213, 18.8629, 12.8128, 19.1122, 18.7129, 20.4673, 45.5245, 26.8159, 22.2265, 20.325, 26.2828, 25.5909, 12.9507, 21.1215, 28.6862, 22.7886, 30.0529, 20.1692, 17.1158, 22.7121, 19.7355, 27.7008, 25.4941, 48.7513], 'commit': {'sha': '3ed1f1a064a10e53adc2ad8c0b46a4b2c148ee21', 'repository': {'name': 'spring-boot', 'owner': 'spring-projects'}}, 'measurableElement': {'astElem': 'method', 'filePath': '/home/student/j/m/jmaquoi/sentinel/open-source-repositories/spring-boot/spring-boot-project/spring-boot/src/main/java/org/springframework/boot/web/embedded/tomcat/TomcatEmbeddedWebappClassLoader.java', 'className': 'org.springframework.boot.web.embedded.tomcat.TomcatEmbeddedWebappClassLoader', 'methodSignature': 'loadFromParent/1[java.lang.String]', 'variableName': None, 'classType': None}}, {'allValues': [24.244902, 24.0358, 31.0781, 28.3882, 25.5113, 25.6674, 21.4801, 27.5708, 28.5607, 13.3864, 26.1492, 26.9437, 23.4471, 27.119, 18.1632, 26.4456, 23.0697, 27.5577, 26.8817, 20.6856, 29.107698, 16.3855, 13.7319, 17.8591, 22.6587, 14.1613, 34.0267, 26.2375, 28.6564, 16.6971], 'commit': {'sha': '3ed1f1a064a10e53adc2ad8c0b46a4b2c148ee21', 'repository': {'name': 'spring-boot', 'owner': 'spring-projects'}}, 'measurableElement': {'astElem': 'method', 'filePath': '/home/student/j/m/jmaquoi/sentinel/open-source-repositories/spring-boot/spring-boot-project/spring-boot/src/main/java/org/springframework/boot/web/embedded/netty/NettyReactiveWebServerFactory.java', 'className': 'org.springframework.boot.web.embedded.netty.NettyReactiveWebServerFactory', 'methodSignature': 'createHttpServer/0', 'variableName': None, 'classType': None}}, {'allValues': [21.278, 45.756, 18.8913, 12.7002, 51.032497, 34.3832, 37.4296, 42.014297, 42.439297, 30.1427, 24.463398, 37.415302, 30.8424, 37.4829, 33.6687, 31.9122, 28.7534, 35.545998, 21.382801, 29.0343, 35.6487, 32.8138, 34.9094, 54.7214, 40.9717, 35.2133, 35.883102, 32.8554, 24.495, 31.914198], 'commit': {'sha': '066f4cf207359e06d30911a553dedd054aef595c', 'repository': {'name': 'spoon', 'owner': 'INRIA'}}, 'measurableElement': {'astElem': 'method', 'filePath': '/home/student/j/m/jmaquoi/sentinel/open-source-repositories/spoon/src/main/java/spoon/reflect/visitor/EarlyTerminatingScanner.java', 'className': 'spoon.reflect.visitor.EarlyTerminatingScanner', 'methodSignature': 'scan/2[spoon.reflect.path.CtRole,java.util.Map<java.lang.String,? extends spoon.reflect.declaration.CtElement>]', 'variableName': None, 'classType': None}}, {'allValues': [4.2624, 3.3866, 3.968, 2.745, 4.3525, 1.5286, 1.9635, 3.4665, 2.7338, 2.1397, 4.8091, 3.9019, 5.897, 4.8099, 4.2413, 1.9196, 2.4735, 6.3669, 1.4509, 11.3876, 3.7573, 2.1025, 2.5352, 4.0024, 2.8863, 3.8661, 5.5127, 5.2565, 4.3471, 4.0694], 'commit': {'sha': '3ed1f1a064a10e53adc2ad8c0b46a4b2c148ee21', 'repository': {'name': 'spring-boot', 'owner': 'spring-projects'}}, 'measurableElement': {'astElem': 'method', 'filePath': '/home/student/j/m/jmaquoi/sentinel/open-source-repositories/spring-boot/spring-boot-project/spring-boot/src/test/java/org/springframework/boot/diagnostics/analyzer/BeanCurrentlyInCreationFailureAnalyzerTests.java', 'className': 'org.springframework.boot.diagnostics.analyzer.BeanCurrentlyInCreationFailureAnalyzerTests', 'methodSignature': 'createFailure/2[java.lang.Class<?>,boolean]', 'variableName': None, 'classType': None}}, {'allValues': [11.9006, 9.9418, 8.1638, 6.0568, 7.2493, 11.8849, 13.3873, 11.9837, 18.9737, 7.7277, 10.0178, 14.0516, 11.695101, 15.1053, 8.5956, 16.9342, 12.3219, 10.9372, 7.7778997, 14.6194, 12.1518, 8.458799, 20.854198, 6.4147, 17.9365, 6.545, 15.4212, 8.6909, 14.0404, 12.9855995], 'commit': {'sha': '066f4cf207359e06d30911a553dedd054aef595c', 'repository': {'name': 'spoon', 'owner': 'INRIA'}}, 'measurableElement': {'astElem': 'method', 'filePath': '/home/student/j/m/jmaquoi/sentinel/open-source-repositories/spoon/src/main/java/spoon/reflect/visitor/ElementPrinterHelper.java', 'className': 'spoon.reflect.visitor.ElementPrinterHelper', 'methodSignature': 'writeQualifiedName/1[java.lang.String]', 'variableName': None, 'classType': None}}, {'allValues': [79.4457, 25.129, 36.3708, 77.0504, 18.324, 71.7812, 19.1878, 23.8924, 10.218, 44.825, 42.7606, 34.8999, 34.8426, 30.8943, 18.4876, 23.8038, 30.9205, 26.3889, 20.1833, 19.8627, 37.5001, 33.3207, 33.6962, 30.1807, 26.0019, 309.7733, 36.6494, 23.9125, 31.7048, 14.1089], 'commit': {'sha': '12442bd8c7cde6e7c006a6277eeb8e81ad0c2219', 'repository': {'name': 'hibernate-orm', 'owner': 'hibernate'}}, 'measurableElement': {'astElem': 'method', 'filePath': '/home/student/j/m/jmaquoi/sentinel/open-source-repositories/hibernate-orm/hibernate-core/src/main/java/org/hibernate/type/descriptor/jdbc/JdbcType.java', 'className': 'org.hibernate.type.descriptor.jdbc.JdbcType', 'methodSignature': 'getDefaultSqlTypeCode/0', 'variableName': None, 'classType': None}}, {'allValues': [25.3096, 25.644798, 21.0378, 21.379501, 23.3771, 33.36, 25.8168, 30.2845, 24.809101, 18.3383, 29.5896, 27.4405, 21.710299, 31.505697, 20.3008, 32.7898, 31.2348, 19.8617, 21.6346, 18.5534, 29.5351, 27.7506, 26.7978, 24.7887, 24.431, 20.430399, 30.7773, 23.6646, 26.8288, 19.3587], 'commit': {'sha': '5c9d8989f968d0ee3a942b411ef7fe121ed94609', 'repository': {'name': 'jabref', 'owner': 'JabRef'}}, 'measurableElement': {'astElem': 'method', 'filePath': '/home/student/j/m/jmaquoi/sentinel/open-source-repositories/jabref/src/test/java/org/jabref/logic/crawler/CrawlerTest.java', 'className': 'org.jabref.logic.crawler.CrawlerTest', 'methodSignature': 'setUpRepository/0', 'variableName': None, 'classType': None}}, {'allValues': [12.0465, 15.1118, 15.0252, 8.532, 21.5504, 25.539898, 13.529799, 21.0953, 8.783701, 10.5776, 16.4006, 11.1541, 15.835098, 12.2886, 14.370699, 11.6179, 7.9125004, 25.941399, 10.0678005, 13.2921, 25.5056, 12.264701, 10.3435, 18.0739, 19.648, 14.2315, 10.5314, 12.531899, 13.1552, 17.0966], 'commit': {'sha': '066f4cf207359e06d30911a553dedd054aef595c', 'repository': {'name': 'spoon', 'owner': 'INRIA'}}, 'measurableElement': {'astElem': 'method', 'filePath': '/home/student/j/m/jmaquoi/sentinel/open-source-repositories/spoon/src/main/java/spoon/support/visitor/clone/CloneVisitor.java', 'className': 'spoon.support.visitor.clone.CloneVisitor', 'methodSignature': 'visitCtTypeReference/1[spoon.reflect.reference.CtTypeReference<T>]', 'variableName': None, 'classType': None}}, {'allValues': [7.7849, 15.6618, 21.2933, 12.5475, 22.439, 7.628, 17.2311, 20.7575, 12.6717, 12.6493, 20.422, 29.3471, 17.2886, 9.6232, 8.0974, 10.0943, 12.9506, 12.817, 19.9387, 9.5361, 23.0449, 21.566, 14.8092, 10.3875, 11.795, 11.4066, 19.2133, 14.0429, 12.2233, 12.808], 'commit': {'sha': '066f4cf207359e06d30911a553dedd054aef595c', 'repository': {'name': 'spoon', 'owner': 'INRIA'}}, 'measurableElement': {'astElem': 'method', 'filePath': '/home/student/j/m/jmaquoi/sentinel/open-source-repositories/spoon/src/main/java/spoon/support/compiler/jdt/JDTBasedSpoonCompiler.java', 'className': 'spoon.support.compiler.jdt.JDTBasedSpoonCompiler', 'methodSignature': 'traverseUnitDeclaration/2[spoon.support.compiler.jdt.JDTTreeBuilder,spoon.support.compiler.jdt.CompilationUnitDeclaration]', 'variableName': None, 'classType': None}}, {'allValues': [20.6353, 25.2406, 24.8219, 24.507599, 34.404, 9.305901, 20.6707, 24.6949, 28.8973, 28.7093, 18.4774, 24.581999, 11.5791, 25.2694, 16.8217, 20.580101, 28.3664, 25.7023, 20.235199, 16.8001, 23.7644, 12.9531, 24.585798, 16.6607, 22.574501, 12.4074, 17.7587, 22.8034, 32.0034, 16.5727], 'commit': {'sha': '066f4cf207359e06d30911a553dedd054aef595c', 'repository': {'name': 'spoon', 'owner': 'INRIA'}}, 'measurableElement': {'astElem': 'method', 'filePath': '/home/student/j/m/jmaquoi/sentinel/open-source-repositories/spoon/src/test/java/spoon/reflect/visitor/CtInheritanceScannerTest.java', 'className': 'spoon.reflect.visitor.CtInheritanceScannerTest', 'methodSignature': 'testCtInheritanceScanner/2[java.lang.Class<?>,T]', 'variableName': None, 'classType': None}}, {'allValues': [10.7163, 1.9458, 6.2831, 6.5081, 12.5365, 14.1856, 3.3536, 7.1312, 6.6531, 5.094, 4.5109, 5.4711, 10.8814, 5.2529, 9.2716, 4.8399, 10.5059, 6.1664, 9.7276, 2.4952, 3.6838, 8.3366, 5.9964, 6.9275, 6.3509, 15.5717, 11.5915, 7.5211, 15.8766, 1.605], 'commit': {'sha': '066f4cf207359e06d30911a553dedd054aef595c', 'repository': {'name': 'spoon', 'owner': 'INRIA'}}, 'measurableElement': {'astElem': 'method', 'filePath': '/home/student/j/m/jmaquoi/sentinel/open-source-repositories/spoon/src/main/java/spoon/support/reflect/reference/CtTypeReferenceImpl.java', 'className': 'spoon.support.reflect.reference.CtTypeReferenceImpl', 'methodSignature': 'addActualTypeArgument/1[spoon.reflect.reference.CtTypeReference<?>]', 'variableName': None, 'classType': None}}, {'allValues': [31.1989, 21.8248, 22.5481, 22.3459, 28.8366, 21.8581, 17.1735, 29.725399, 29.093601, 20.265, 23.4181, 28.728, 19.928501, 18.3468, 25.403599, 27.0476, 22.7894, 18.0603, 22.2422, 22.9402, 26.862, 24.7566, 22.392101, 17.4211, 28.2153, 29.5533, 25.8695, 19.3536, 18.174, 17.781], 'commit': {'sha': '3ed1f1a064a10e53adc2ad8c0b46a4b2c148ee21', 'repository': {'name': 'spring-boot', 'owner': 'spring-projects'}}, 'measurableElement': {'astElem': 'method', 'filePath': '/home/student/j/m/jmaquoi/sentinel/open-source-repositories/spring-boot/spring-boot-project/spring-boot/src/main/java/org/springframework/boot/convert/ApplicationConversionService.java', 'className': 'org.springframework.boot.convert.ApplicationConversionService', 'methodSignature': 'configure/1[org.springframework.boot.convert.FormatterRegistry]', 'variableName': None, 'classType': None}}, {'allValues': [10.2904, 19.4231, 11.4812, 10.3452, 17.9117, 12.9454, 4.8574, 20.87, 16.8838, 21.3243, 16.596, 12.0424, 20.2711, 8.4913, 16.7119, 11.3283, 11.7645, 19.4207, 11.1669, 10.0035, 25.4983, 12.519, 17.5542, 7.3448, 18.4582, 11.8748, 8.9529, 15.945, 16.4729, 7.1328], 'commit': {'sha': '066f4cf207359e06d30911a553dedd054aef595c', 'repository': {'name': 'spoon', 'owner': 'INRIA'}}, 'measurableElement': {'astElem': 'method', 'filePath': '/home/student/j/m/jmaquoi/sentinel/open-source-repositories/spoon/src/main/java/spoon/support/compiler/jdt/PositionBuilder.java', 'className': 'spoon.support.compiler.jdt.PositionBuilder', 'methodSignature': 'getSourceEndOfTypeReference/3[char[],spoon.support.compiler.jdt.TypeReference,int]', 'variableName': None, 'classType': None}}, {'allValues': [17.3074, 16.0644, 11.7146, 11.7197, 14.2492, 12.1897, 5.7325, 20.3323, 13.4773, 20.6827, 12.0934, 15.8648, 7.4538, 9.5418, 12.6018, 20.7828, 12.2608, 12.916, 12.6216, 6.6303997, 16.0672, 5.9146, 6.6531, 7.0937, 10.7989, 16.921, 8.4993, 10.9079, 16.7834, 18.1576], 'commit': {'sha': '066f4cf207359e06d30911a553dedd054aef595c', 'repository': {'name': 'spoon', 'owner': 'INRIA'}}, 'measurableElement': {'astElem': 'method', 'filePath': '/home/student/j/m/jmaquoi/sentinel/open-source-repositories/spoon/src/main/java/spoon/support/compiler/jdt/ReferenceBuilder.java', 'className': 'spoon.support.compiler.jdt.ReferenceBuilder', 'methodSignature': 'setPackageOrDeclaringType/2[spoon.support.compiler.jdt.CtTypeReference<?>,spoon.support.compiler.jdt.CtReference]', 'variableName': None, 'classType': None}}, {'allValues': [16.390299, 10.2796, 10.4522, 10.4531, 11.3477, 12.073, 8.4594, 14.0507, 8.0385, 9.550301, 6.2002997, 13.0171, 10.0737, 7.4379997, 14.8057, 16.2585, 10.1466, 6.6339, 4.0519, 10.479, 8.075701, 9.639, 3.2886, 9.284201, 14.7233, 9.5381, 14.5921, 10.8985, 5.3113003, 6.8878], 'commit': {'sha': '066f4cf207359e06d30911a553dedd054aef595c', 'repository': {'name': 'spoon', 'owner': 'INRIA'}}, 'measurableElement': {'astElem': 'method', 'filePath': '/home/student/j/m/jmaquoi/sentinel/open-source-repositories/spoon/src/main/java/spoon/reflect/visitor/AccessibleVariablesFinder.java', 'className': 'spoon.reflect.visitor.AccessibleVariablesFinder$1VariableScanner', 'methodSignature': 'visitCtStatementList/1[spoon.reflect.code.CtStatementList]', 'variableName': None, 'classType': None}}, {'allValues': [13.1821995, 11.1456995, 14.5006, 17.4753, 15.3883, 11.7462, 12.368, 16.1908, 12.7961, 11.5299, 3.4393, 23.4214, 16.4947, 7.2031, 1.8100001, 12.409599, 10.5359, 13.8504, 8.7194, 14.448299, 10.436501, 13.8466, 10.2137, 7.6574, 21.665499, 11.5445, 16.668499, 12.9652, 9.1498, 9.1869], 'commit': {'sha': '066f4cf207359e06d30911a553dedd054aef595c', 'repository': {'name': 'spoon', 'owner': 'INRIA'}}, 'measurableElement': {'astElem': 'method', 'filePath': '/home/student/j/m/jmaquoi/sentinel/open-source-repositories/spoon/src/main/java/spoon/reflect/visitor/CtInheritanceScanner.java', 'className': 'spoon.reflect.visitor.CtInheritanceScanner', 'methodSignature': 'visitCtMethod/1[spoon.reflect.declaration.CtMethod<T>]', 'variableName': None, 'classType': None}}, {'allValues': [72.8181, 55.0864, 51.0681, 55.4385, 57.0017, 54.5355, 50.5935, 40.914, 73.3138, 65.0832, 44.6135, 70.6198, 46.8083, 49.6872, 69.9212, 64.1868, 65.5399, 55.5248, 64.9533, 64.555, 65.7547, 63.2676, 52.8214, 59.9347, 49.0028, 41.2551, 74.2567, 54.3001, 60.8963, 57.5957], 'commit': {'sha': '066f4cf207359e06d30911a553dedd054aef595c', 'repository': {'name': 'spoon', 'owner': 'INRIA'}}, 'measurableElement': {'astElem': 'method', 'filePath': '/home/student/j/m/jmaquoi/sentinel/open-source-repositories/spoon/src/main/java/spoon/reflect/factory/FactoryImpl.java', 'className': 'spoon.reflect.factory.FactoryImpl', 'methodSignature': 'readObject/1[java.io.ObjectInputStream]', 'variableName': None, 'classType': None}}, {'allValues': [86.5863, 86.1932, 16.5782, 86.3558, 77.7616, 56.5673, 106.4943, 37.7194, 58.5691, 49.3119, 135.7714, 72.5042, 39.7607, 220.7792, 54.9049, 42.6713, 32.4449, 93.0156, 73.7367, 84.5782, 381.2808, 65.7154, 84.6708, 48.3197, 48.509403, 39.7962, 47.8015, 60.9585, 58.6816, 45.9335], 'commit': {'sha': '12442bd8c7cde6e7c006a6277eeb8e81ad0c2219', 'repository': {'name': 'hibernate-orm', 'owner': 'hibernate'}}, 'measurableElement': {'astElem': 'method', 'filePath': '/home/student/j/m/jmaquoi/sentinel/open-source-repositories/hibernate-orm/hibernate-core/src/test/java/org/hibernate/orm/test/cdi/general/mixed/Helper.java', 'className': 'org.hibernate.orm.test.cdi.general.mixed.Helper', 'methodSignature': 'createSeContainer/0', 'variableName': None, 'classType': None}}, {'allValues': [12.5005, 16.1195, 6.9279, 20.4047, 27.5209, 13.8608, 15.8482, 17.8392, 14.7632, 11.1654, 15.1318, 10.8505, 18.0615, 11.9745, 5.6395, 1.5341, 13.1546, 12.5979, 8.1396, 7.0807, 9.5673, 14.0693, 17.5056, 21.8068, 11.1783, 15.6801, 10.8546, 5.832, 16.6555, 19.0936], 'commit': {'sha': '066f4cf207359e06d30911a553dedd054aef595c', 'repository': {'name': 'spoon', 'owner': 'INRIA'}}, 'measurableElement': {'astElem': 'method', 'filePath': '/home/student/j/m/jmaquoi/sentinel/open-source-repositories/spoon/src/main/java/spoon/support/reflect/code/CtCodeElementImpl.java', 'className': 'spoon.support.reflect.code.CtCodeElementImpl', 'methodSignature': 'CtCodeElementImpl/0', 'variableName': None, 'classType': None}}, {'allValues': [38.792103, 25.8266, 45.681, 43.207703, 24.6134, 31.5827, 30.315098, 40.6649, 27.3436, 28.6476, 19.145699, 20.4702, 27.762499, 35.601997, 46.5841, 50.567703, 30.085, 19.1625, 32.9603, 43.6466, 16.9491, 18.0042, 57.814598, 28.5279, 26.6145, 28.2968, 32.1749, 1055.0951, 32.2795, 38.0098], 'commit': {'sha': '3ed1f1a064a10e53adc2ad8c0b46a4b2c148ee21', 'repository': {'name': 'spring-boot', 'owner': 'spring-projects'}}, 'measurableElement': {'astElem': 'method', 'filePath': '/home/student/j/m/jmaquoi/sentinel/open-source-repositories/spring-boot/spring-boot-project/spring-boot/src/main/java/org/springframework/boot/web/servlet/ServletContextInitializerBeans.java', 'className': 'org.springframework.boot.web.servlet.ServletContextInitializerBeans', 'methodSignature': 'getOrderedBeansOfType/3[org.springframework.boot.web.servlet.ListableBeanFactory,java.lang.Class<T>,java.util.Set<?>]', 'variableName': None, 'classType': None}}, {'allValues': [44.0741, 58.4021, 51.7488, 96.19, 73.2067, 39.1538, 165.0058, 32.0967, 36.7458, 55.8663, 58.1114, 57.4429, 94.4016, 50.4741, 41.1026, 56.573, 45.8952, 82.1777, 57.2413, 79.908, 29.5264, 70.3532, 46.3908, 61.2496, 60.6994, 52.4191, 61.8843, 42.4972, 86.3225, 73.921], 'commit': {'sha': '12442bd8c7cde6e7c006a6277eeb8e81ad0c2219', 'repository': {'name': 'hibernate-orm', 'owner': 'hibernate'}}, 'measurableElement': {'astElem': 'method', 'filePath': '/home/student/j/m/jmaquoi/sentinel/open-source-repositories/hibernate-orm/hibernate-core/src/main/java/org/hibernate/dialect/Dialect.java', 'className': 'org.hibernate.dialect.Dialect', 'methodSignature': 'registerKeyword/1[java.lang.String]', 'variableName': None, 'classType': None}}, {'allValues': [3.2667, 11.0611, 12.739, 8.873, 14.3011, 15.4532, 12.0261, 20.2924, 13.5675, 6.1938, 15.402, 10.1006, 10.2926, 7.6103, 9.9426, 8.1322, 11.3615, 13.1539, 12.8068, 20.6015, 12.5253, 23.3077, 3.1532, 15.3802, 8.5989, 13.1016, 22.6441, 19.3108, 10.5766, 10.1683], 'commit': {'sha': '066f4cf207359e06d30911a553dedd054aef595c', 'repository': {'name': 'spoon', 'owner': 'INRIA'}}, 'measurableElement': {'astElem': 'method', 'filePath': '/home/student/j/m/jmaquoi/sentinel/open-source-repositories/spoon/src/main/java/spoon/support/reflect/reference/CtPackageReferenceImpl.java', 'className': 'spoon.support.reflect.reference.CtPackageReferenceImpl', 'methodSignature': 'accept/1[spoon.reflect.visitor.CtVisitor]', 'variableName': None, 'classType': None}}, {'allValues': [21.4241, 30.587, 21.7962, 18.762, 23.7215, 20.5182, 20.6801, 34.0285, 23.7603, 21.8487, 29.467, 13.8159, 24.5779, 23.8145, 19.6855, 21.4117, 20.3749, 22.201, 24.6077, 18.9675, 21.0389, 26.3002, 21.2, 23.8972, 22.1394, 14.6678, 23.9481, 20.8649, 20.6012, 28.3517], 'commit': {'sha': '5c9d8989f968d0ee3a942b411ef7fe121ed94609', 'repository': {'name': 'jabref', 'owner': 'JabRef'}}, 'measurableElement': {'astElem': 'method', 'filePath': '/home/student/j/m/jmaquoi/sentinel/open-source-repositories/jabref/src/test/java/org/jabref/architecture/MainArchitectureTests.java', 'className': 'org.jabref.architecture.MainArchitectureTests', 'methodSignature': 'doNotUseJavaAWT/1[org.jabref.architecture.JavaClasses]', 'variableName': None, 'classType': None}}, {'allValues': [45.0202, 54.9209, 38.378, 63.5026, 42.5735, 39.7761, 47.8916, 50.6376, 42.6188, 42.8874, 46.475, 44.1238, 59.3892, 49.0293, 76.1483, 60.012, 63.1083, 51.4305, 58.1589, 72.518, 46.5525, 57.9854, 60.544598, 48.9783, 50.5251, 91.0128, 56.1905, 1076.572, 58.8752, 38.6199], 'commit': {'sha': '3ed1f1a064a10e53adc2ad8c0b46a4b2c148ee21', 'repository': {'name': 'spring-boot', 'owner': 'spring-projects'}}, 'measurableElement': {'astElem': 'method', 'filePath': '/home/student/j/m/jmaquoi/sentinel/open-source-repositories/spring-boot/spring-boot-project/spring-boot/src/main/java/org/springframework/boot/ssl/pem/PemSslStoreBundle.java', 'className': 'org.springframework.boot.ssl.pem.PemSslStoreBundle', 'methodSignature': 'addCertificates/4[java.security.KeyStore,java.security.cert.X509Certificate[],java.security.PrivateKey,java.lang.String]', 'variableName': None, 'classType': None}}, {'allValues': [9.3378, 10.7142, 9.1671, 5.5924997, 15.4795, 10.9075, 8.85, 11.7623005, 8.040899, 17.3065, 13.405101, 16.724098, 9.5712, 10.377399, 3.3867002, 6.795, 11.6257, 10.0521, 8.5549, 8.42, 6.6574, 19.016798, 7.7118998, 11.403501, 7.4305, 14.6737995, 8.0919, 5.9012003, 8.935101, 15.4388], 'commit': {'sha': '066f4cf207359e06d30911a553dedd054aef595c', 'repository': {'name': 'spoon', 'owner': 'INRIA'}}, 'measurableElement': {'astElem': 'method', 'filePath': '/home/student/j/m/jmaquoi/sentinel/open-source-repositories/spoon/src/main/java/spoon/support/reflect/CtModifierHandler.java', 'className': 'spoon.support.reflect.CtModifierHandler', 'methodSignature': 'setExtendedModifiers/1[java.util.Set<spoon.support.reflect.CtExtendedModifier>]', 'variableName': None, 'classType': None}}, {'allValues': [16.0046, 13.3919, 19.287, 14.9542, 17.0787, 15.4459, 24.3004, 18.455, 16.8188, 15.165299, 21.3363, 14.5729, 28.670399, 39.4285, 17.4266, 18.3334, 23.0047, 21.165, 8.2474, 20.8308, 24.258299, 27.9043, 20.8969, 15.3241, 14.1907, 28.4665, 22.5134, 19.1444, 12.9818, 25.169], 'commit': {'sha': '3ed1f1a064a10e53adc2ad8c0b46a4b2c148ee21', 'repository': {'name': 'spring-boot', 'owner': 'spring-projects'}}, 'measurableElement': {'astElem': 'method', 'filePath': '/home/student/j/m/jmaquoi/sentinel/open-source-repositories/spring-boot/spring-boot-project/spring-boot/src/main/java/org/springframework/boot/context/config/ConfigDataLocationResolvers.java', 'className': 'org.springframework.boot.context.config.ConfigDataLocationResolvers', 'methodSignature': 'ConfigDataLocationResolvers/5[org.springframework.boot.logging.DeferredLogFactory,org.springframework.boot.ConfigurableBootstrapContext,org.springframework.boot.context.properties.bind.Binder,org.springframework.boot.context.config.ResourceLoader,org.springframework.boot.context.config.SpringFactoriesLoader]', 'variableName': None, 'classType': None}}, {'allValues': [6.2117, 6.6535, 6.2766, 5.78, 6.7023, 6.2328, 6.8758, 4.9239, 5.194, 5.3006, 6.6543, 8.6996, 4.0562, 4.5164, 6.9799, 6.6693, 7.7906, 6.5257, 8.3463, 1.6125, 5.9852, 6.0546, 5.5895, 2.9087, 5.3434, 2.3825, 7.1875, 5.591, 5.9457, 6.9445], 'commit': {'sha': '3ed1f1a064a10e53adc2ad8c0b46a4b2c148ee21', 'repository': {'name': 'spring-boot', 'owner': 'spring-projects'}}, 'measurableElement': {'astElem': 'method', 'filePath': '/home/student/j/m/jmaquoi/sentinel/open-source-repositories/spring-boot/spring-boot-project/spring-boot/src/test/java/org/springframework/boot/availability/ApplicationAvailabilityBeanTests.java', 'className': 'org.springframework.boot.availability.ApplicationAvailabilityBeanTests', 'methodSignature': 'setup/0', 'variableName': None, 'classType': None}}, {'allValues': [7.676, 4.8655, 9.5546, 6.9787, 5.4807, 8.1875, 7.0991, 10.6964, 6.8692, 10.564, 10.2247, 7.0153, 8.0681, 9.405, 7.124, 8.4857, 4.239, 5.876, 6.2546, 8.6212, 9.9393, 8.5966, 8.866, 9.381, 6.6695, 9.038, 7.485, 8.1029, 10.2572, 8.9739], 'commit': {'sha': '3ed1f1a064a10e53adc2ad8c0b46a4b2c148ee21', 'repository': {'name': 'spring-boot', 'owner': 'spring-projects'}}, 'measurableElement': {'astElem': 'method', 'filePath': '/home/student/j/m/jmaquoi/sentinel/open-source-repositories/spring-boot/spring-boot-project/spring-boot/src/main/java/org/springframework/boot/logging/logback/LogbackLoggingSystem.java', 'className': 'org.springframework.boot.logging.logback.LogbackLoggingSystem', 'methodSignature': 'getLoggerFactory/0', 'variableName': None, 'classType': None}}, {'allValues': [21.2591, 21.9906, 24.6634, 12.1377, 23.7265, 11.2931, 20.5261, 22.1948, 18.4168, 17.9716, 11.3986, 20.6068, 15.166599, 11.0275, 9.0833, 14.3919, 13.2815, 19.3994, 12.7272, 14.4302, 11.9352, 14.7847, 18.3142, 19.6453, 9.1995, 26.5235, 14.8554, 22.0054, 21.939001, 15.448], 'commit': {'sha': '066f4cf207359e06d30911a553dedd054aef595c', 'repository': {'name': 'spoon', 'owner': 'INRIA'}}, 'measurableElement': {'astElem': 'method', 'filePath': '/home/student/j/m/jmaquoi/sentinel/open-source-repositories/spoon/src/main/java/spoon/support/adaption/TypeAdaptor.java', 'className': 'spoon.support.adaption.TypeAdaptor', 'methodSignature': 'supertypeReachableInInheritanceTree/2[spoon.support.adaption.CtType<?>,java.lang.String]', 'variableName': None, 'classType': None}}, {'allValues': [4.5018, 6.7118, 6.4354, 5.3292, 5.9143, 4.9456, 6.816, 6.8445, 7.9908, 3.1893, 6.779, 8.0095, 3.5631, 2.7425, 4.7205, 5.4888, 8.9022, 5.0128, 4.4419, 16.5623, 4.7786, 11.4382, 7.3587, 9.0478, 6.742, 6.239, 7.7262, 12.7698, 1.4328, 7.427], 'commit': {'sha': '3ed1f1a064a10e53adc2ad8c0b46a4b2c148ee21', 'repository': {'name': 'spring-boot', 'owner': 'spring-projects'}}, 'measurableElement': {'astElem': 'method', 'filePath': '/home/student/j/m/jmaquoi/sentinel/open-source-repositories/spring-boot/spring-boot-project/spring-boot/src/main/java/org/springframework/boot/context/event/EventPublishingRunListener.java', 'className': 'org.springframework.boot.context.event.EventPublishingRunListener', 'methodSignature': 'multicastInitialEvent/1[org.springframework.boot.context.event.ApplicationEvent]', 'variableName': None, 'classType': None}}, {'allValues': [3.1016002, 8.1294, 4.8747, 6.7578, 5.4198, 5.8633, 4.0795, 3.5928001, 7.8482, 6.3515, 4.6152, 8.2705, 8.6443, 5.1903, 5.0334, 2.8074, 3.1417, 12.2456, 11.1008, 8.3674, 11.410601, 6.8435, 6.349, 8.5219, 5.2209997, 1.3034, 16.967499, 2.8729, 6.6597004, 8.0326], 'commit': {'sha': '066f4cf207359e06d30911a553dedd054aef595c', 'repository': {'name': 'spoon', 'owner': 'INRIA'}}, 'measurableElement': {'astElem': 'method', 'filePath': '/home/student/j/m/jmaquoi/sentinel/open-source-repositories/spoon/src/main/java/spoon/reflect/visitor/DefaultJavaPrettyPrinter.java', 'className': 'spoon.reflect.visitor.DefaultJavaPrettyPrinter', 'methodSignature': 'visitCtBlock/1[spoon.reflect.code.CtBlock<R>]', 'variableName': None, 'classType': None}}, {'allValues': [106.9066, 165.0577, 90.6332, 143.192, 176.2631, 107.6975, 112.0006, 149.167, 128.8779, 164.8361, 113.3585, 174.9584, 122.4436, 107.8336, 105.7858, 144.8062, 117.1814, 106.8659, 105.4262, 114.2552, 187.7683, 125.5947, 109.3003, 174.6117, 107.9699, 142.1181, 136.8953, 121.4101, 127.5176, 106.6083], 'commit': {'sha': '066f4cf207359e06d30911a553dedd054aef595c', 'repository': {'name': 'spoon', 'owner': 'INRIA'}}, 'measurableElement': {'astElem': 'method', 'filePath': '/home/student/j/m/jmaquoi/sentinel/open-source-repositories/spoon/src/test/java/spoon/support/compiler/jdt/JDTImportBuilderTest.java', 'className': 'spoon.support.compiler.jdt.JDTImportBuilderTest', 'methodSignature': 'setup/0', 'variableName': None, 'classType': None}}, {'allValues': [12.5268, 9.9489, 12.6823, 13.1398, 16.1873, 16.868, 15.661, 20.0461, 2.3021, 15.6435, 19.3291, 10.9498, 8.6723, 8.4073, 8.3262, 13.0629, 28.1945, 12.5208, 17.426, 9.6668, 15.8352, 11.9653, 16.5774, 13.2321, 11.3539, 13.6365, 2.2109, 15.5708, 14.2813, 12.5513], 'commit': {'sha': '5c9d8989f968d0ee3a942b411ef7fe121ed94609', 'repository': {'name': 'jabref', 'owner': 'JabRef'}}, 'measurableElement': {'astElem': 'method', 'filePath': '/home/student/j/m/jmaquoi/sentinel/open-source-repositories/jabref/src/main/java/org/jabref/logic/layout/format/NameFormatterPreferences.java', 'className': 'org.jabref.logic.layout.format.NameFormatterPreferences', 'methodSignature': 'getNameFormatterKey/0', 'variableName': None, 'classType': None}}, {'allValues': [79.2474, 33.324303, 99.7014, 20.7368, 97.6481, 60.2264, 105.8268, 40.4414, 72.4221, 31.663498, 28.2784, 58.184498, 49.9766, 76.9711, 35.497, 52.413197, 78.892, 83.4939, 43.6744, 47.4367, 56.043205, 44.0588, 127.62701, 99.903, 38.6459, 109.6185, 39.849697, 36.9334, 50.444298, 45.550297], 'commit': {'sha': '12442bd8c7cde6e7c006a6277eeb8e81ad0c2219', 'repository': {'name': 'hibernate-orm', 'owner': 'hibernate'}}, 'measurableElement': {'astElem': 'method', 'filePath': '/home/student/j/m/jmaquoi/sentinel/open-source-repositories/hibernate-orm/hibernate-core/src/test/java/org/hibernate/orm/test/internal/util/ReflectHelperTest.java', 'className': 'org.hibernate.orm.test.internal.util.ReflectHelperTest', 'methodSignature': 'init/0', 'variableName': None, 'classType': None}}, {'allValues': [38.499702, 33.7762, 33.079002, 27.1252, 34.8515, 32.2603, 32.7362, 16.9392, 36.968502, 37.7171, 38.5757, 39.6358, 29.4688, 43.1623, 24.315498, 35.9364, 51.4167, 40.2077, 42.465, 20.724201, 49.263, 45.081, 30.3394, 44.445904, 49.1372, 41.4763, 44.02, 33.4063, 34.8821, 34.565], 'commit': {'sha': '066f4cf207359e06d30911a553dedd054aef595c', 'repository': {'name': 'spoon', 'owner': 'INRIA'}}, 'measurableElement': {'astElem': 'method', 'filePath': '/home/student/j/m/jmaquoi/sentinel/open-source-repositories/spoon/src/main/java/spoon/reflect/visitor/CtScanner.java', 'className': 'spoon.reflect.visitor.CtScanner', 'methodSignature': 'visitCtLiteral/1[spoon.reflect.code.CtLiteral<T>]', 'variableName': None, 'classType': None}}, {'allValues': [2.7737, 6.9152, 6.4901004, 3.3065, 9.0886, 4.8188, 3.5051, 3.6588, 2.5633, 5.0412, 3.0667, 5.362, 5.5584, 1.482, 3.8874, 4.7866, 2.8731, 3.6509, 7.6844, 8.3247, 5.3267, 5.1451, 3.8964, 5.6502, 6.7905, 3.562, 3.5176, 2.933, 10.9398, 3.0436], 'commit': {'sha': '3ed1f1a064a10e53adc2ad8c0b46a4b2c148ee21', 'repository': {'name': 'spring-boot', 'owner': 'spring-projects'}}, 'measurableElement': {'astElem': 'method', 'filePath': '/home/student/j/m/jmaquoi/sentinel/open-source-repositories/spring-boot/spring-boot-project/spring-boot/src/test/java/org/springframework/boot/rsocket/netty/NettyRSocketServerFactoryTests.java', 'className': 'org.springframework.boot.rsocket.netty.NettyRSocketServerFactoryTests', 'methodSignature': 'createRSocketRequesterBuilder/0', 'variableName': None, 'classType': None}}, {'allValues': [9.6494, 5.1113, 8.2464, 7.0617, 6.9454, 7.5484, 9.5852, 17.2986, 9.3771, 6.1544, 11.914101, 11.9694, 13.445099, 5.3178, 9.1675, 9.6092, 9.8394, 8.5368, 8.6393, 4.8407, 7.6212997, 3.3559, 3.4074998, 8.6708, 4.5452, 6.1411, 4.7643, 12.9433, 15.1028, 8.7972], 'commit': {'sha': '5c9d8989f968d0ee3a942b411ef7fe121ed94609', 'repository': {'name': 'jabref', 'owner': 'JabRef'}}, 'measurableElement': {'astElem': 'method', 'filePath': '/home/student/j/m/jmaquoi/sentinel/open-source-repositories/jabref/src/main/java/org/jabref/logic/xmp/XmpUtilShared.java', 'className': 'org.jabref.logic.xmp.XmpUtilShared', 'methodSignature': 'parseXmpMetadata/1[java.io.InputStream]', 'variableName': None, 'classType': None}}, {'allValues': [13.8334, 15.7023, 3.9345, 4.1145, 11.7171, 7.8062, 10.6456, 9.3595, 25.9769, 9.5776, 22.0115, 15.4323, 15.724501, 36.6447, 16.0548, 11.7254, 2.8377, 3.9942, 11.5836, 14.1746, 5.5586, 8.3883, 21.6591, 16.1171, 14.3539, 6.3608, 3.6098, 12.2012, 14.9513, 14.6245], 'commit': {'sha': '12442bd8c7cde6e7c006a6277eeb8e81ad0c2219', 'repository': {'name': 'hibernate-orm', 'owner': 'hibernate'}}, 'measurableElement': {'astElem': 'method', 'filePath': '/home/student/j/m/jmaquoi/sentinel/open-source-repositories/hibernate-orm/hibernate-core/src/main/java/org/hibernate/metamodel/mapping/SelectablePath.java', 'className': 'org.hibernate.metamodel.mapping.SelectablePath', 'methodSignature': 'SelectablePath/1[java.lang.String]', 'variableName': None, 'classType': None}}, {'allValues': [48.9131, 40.1546, 40.389202, 41.6692, 44.146, 31.9144, 38.6825, 36.1756, 35.0525, 35.464897, 43.4895, 35.2451, 38.9922, 30.9885, 35.1443, 39.1037, 47.9506, 36.5854, 36.9902, 43.4176, 43.308502, 48.3209, 47.604897, 34.4306, 40.9918, 40.5173, 32.4075, 42.9658, 46.1038, 32.1805], 'commit': {'sha': '3ed1f1a064a10e53adc2ad8c0b46a4b2c148ee21', 'repository': {'name': 'spring-boot', 'owner': 'spring-projects'}}, 'measurableElement': {'astElem': 'method', 'filePath': '/home/student/j/m/jmaquoi/sentinel/open-source-repositories/spring-boot/spring-boot-project/spring-boot-tools/spring-boot-test-support/src/main/java/org/springframework/boot/testsupport/classpath/ModifiedClassPathClassLoader.java', 'className': 'org.springframework.boot.testsupport.classpath.ModifiedClassPathClassLoader', 'methodSignature': 'resolveCoordinates/1[java.lang.String[]]', 'variableName': None, 'classType': None}}, {'allValues': [20.482899, 24.7109, 19.109402, 27.3148, 21.4296, 28.574501, 24.078201, 26.6195, 28.973099, 19.2639, 15.7829, 16.595001, 23.2612, 18.116798, 17.4435, 18.6168, 12.9452, 14.114, 24.2426, 23.562601, 28.9394, 13.206699, 14.860899, 23.9179, 21.3196, 16.204, 11.531799, 19.348701, 15.175799, 15.3094], 'commit': {'sha': '066f4cf207359e06d30911a553dedd054aef595c', 'repository': {'name': 'spoon', 'owner': 'INRIA'}}, 'measurableElement': {'astElem': 'method', 'filePath': '/home/student/j/m/jmaquoi/sentinel/open-source-repositories/spoon/src/main/java/spoon/reflect/visitor/DefaultJavaPrettyPrinter.java', 'className': 'spoon.reflect.visitor.DefaultJavaPrettyPrinter', 'methodSignature': 'shouldSetBracketAroundExpressionAndCast/1[spoon.reflect.code.CtExpression<?>]', 'variableName': None, 'classType': None}}, {'allValues': [2.1401, 3.1755, 3.6651, 3.1089, 3.1366, 2.047, 2.1138, 2.6549, 3.1636, 3.4037, 3.1783, 2.1381, 3.1042, 3.1572, 3.1609, 2.0108, 2.2251, 3.5321, 3.0993, 3.7208, 3.9496, 2.3715, 2.0325, 1.076, 2.1024, 4.2943, 2.6186, 2.2174, 3.7884, 3.1046], 'commit': {'sha': '59e5152722198526c6ffe5361de7d1a6a87275c7', 'repository': {'name': 'commons-configuration', 'owner': 'apache'}}, 'measurableElement': {'astElem': 'method', 'filePath': '/home/student/j/m/jmaquoi/sentinel/open-source-repositories/commons-configuration/src/main/java/org/apache/commons/configuration2/JSONConfiguration.java', 'className': 'org.apache.commons.configuration2.JSONConfiguration', 'methodSignature': 'read/1[java.io.Reader]', 'variableName': None, 'classType': None}}, {'allValues': [15.1642, 9.1051, 23.0853, 15.2589, 16.2741, 8.6913, 6.7232, 2.4562, 16.525, 17.7631, 0.7907, 21.3204, 9.1376, 16.5666, 10.4235, 4.5975, 6.215, 12.0165, 14.7093, 13.1051, 16.8004, 11.3657, 6.3355, 4.0154, 13.9481, 12.5026, 8.9501, 10.1419, 10.7782, 14.1686], 'commit': {'sha': '12442bd8c7cde6e7c006a6277eeb8e81ad0c2219', 'repository': {'name': 'hibernate-orm', 'owner': 'hibernate'}}, 'measurableElement': {'astElem': 'method', 'filePath': '/home/student/j/m/jmaquoi/sentinel/open-source-repositories/hibernate-orm/hibernate-core/src/main/java/org/hibernate/bytecode/internal/bytebuddy/ByteBuddyState.java', 'className': 'org.hibernate.bytecode.internal.bytebuddy.ByteBuddyState', 'methodSignature': 'resolveClassLoadingStrategy/1[java.lang.Class<?>]', 'variableName': None, 'classType': None}}, {'allValues': [52.156803, 54.1863, 83.2267, 61.216297, 60.1944, 59.2628, 59.406097, 56.2729, 48.5176, 63.3417, 61.6073, 65.7964, 63.4766, 63.1371, 57.0133, 60.6301, 60.2014, 62.9438, 61.1636, 62.609, 51.1566, 67.574, 48.6256, 52.0961, 64.2252, 77.2266, 64.484695, 58.4242, 73.0687, 67.8981], 'commit': {'sha': '5c9d8989f968d0ee3a942b411ef7fe121ed94609', 'repository': {'name': 'jabref', 'owner': 'JabRef'}}, 'measurableElement': {'astElem': 'method', 'filePath': '/home/student/j/m/jmaquoi/sentinel/open-source-repositories/jabref/src/main/java/org/jabref/logic/importer/fileformat/MedlineImporter.java', 'className': 'org.jabref.logic.importer.fileformat.MedlineImporter', 'methodSignature': 'unmarshallRoot/1[java.io.BufferedReader]', 'variableName': None, 'classType': None}}, {'allValues': [4.3861, 6.2878, 4.4911, 4.4114, 3.7614, 3.9878001, 4.7243, 5.7425, 5.2977, 5.1907, 3.8441, 2.3508, 4.9903, 3.2313, 2.4914, 4.8985, 4.8253, 4.2872, 5.0693, 3.5891, 4.1598997, 4.9326, 1.2253, 3.1238, 5.9316998, 4.9953, 4.1558, 4.117, 4.119, 3.9257], 'commit': {'sha': '066f4cf207359e06d30911a553dedd054aef595c', 'repository': {'name': 'spoon', 'owner': 'INRIA'}}, 'measurableElement': {'astElem': 'method', 'filePath': '/home/student/j/m/jmaquoi/sentinel/open-source-repositories/spoon/src/main/java/spoon/MavenLauncher.java', 'className': 'spoon.MavenLauncher', 'methodSignature': 'init/3[java.lang.String,java.lang.String[],java.util.regex.Pattern]', 'variableName': None, 'classType': None}}, {'allValues': [14.8504, 26.3259, 32.4276, 26.0562, 27.2565, 15.9, 24.5316, 17.7742, 19.4361, 15.4667, 27.361, 18.4201, 21.9258, 24.5347, 26.26, 20.2807, 26.1078, 22.0269, 13.2512, 21.3591, 22.655, 19.6437, 23.9131, 21.0577, 22.8781, 14.9242, 25.0444, 18.5115, 29.8022, 23.545], 'commit': {'sha': '3ed1f1a064a10e53adc2ad8c0b46a4b2c148ee21', 'repository': {'name': 'spring-boot', 'owner': 'spring-projects'}}, 'measurableElement': {'astElem': 'method', 'filePath': '/home/student/j/m/jmaquoi/sentinel/open-source-repositories/spring-boot/spring-boot-project/spring-boot/src/main/java/org/springframework/boot/context/properties/ConfigurationPropertiesJsr303Validator.java', 'className': 'org.springframework.boot.context.properties.ConfigurationPropertiesJsr303Validator', 'methodSignature': 'validate/2[java.lang.Object,org.springframework.boot.context.properties.Errors]', 'variableName': None, 'classType': None}}, {'allValues': [2.8972, 1.2778, 3.8458, 2.4404, 4.0213003, 1.6906, 4.0041, 2.2199, 1.1895, 3.8997, 2.8966, 2.3365, 4.2003, 3.5375, 1.389, 2.9207, 3.2962, 1.3147, 2.6592, 3.9748, 2.7933, 1.6779, 1.3518, 3.73, 3.0302, 2.9545002, 3.1762, 6.5286, 3.8653, 3.7055], 'commit': {'sha': '5c9d8989f968d0ee3a942b411ef7fe121ed94609', 'repository': {'name': 'jabref', 'owner': 'JabRef'}}, 'measurableElement': {'astElem': 'method', 'filePath': '/home/student/j/m/jmaquoi/sentinel/open-source-repositories/jabref/src/main/java/org/jabref/logic/importer/fileformat/SilverPlatterImporter.java', 'className': 'org.jabref.logic.importer.fileformat.SilverPlatterImporter', 'methodSignature': 'isRecognizedFormat/1[java.io.BufferedReader]', 'variableName': None, 'classType': None}}, {'allValues': [13.201799, 11.0506, 8.5413, 10.21, 8.5123005, 8.4757, 6.9125, 8.1756, 10.7662, 8.7159, 6.8946, 10.9415, 10.6001, 7.3752003, 6.8025, 5.3656, 14.567901, 6.7461, 11.047501, 9.5964, 17.226799, 10.4649, 11.9622, 11.1805, 10.455, 10.3024, 6.5573997, 6.9746, 14.4702, 7.3485], 'commit': {'sha': '066f4cf207359e06d30911a553dedd054aef595c', 'repository': {'name': 'spoon', 'owner': 'INRIA'}}, 'measurableElement': {'astElem': 'method', 'filePath': '/home/student/j/m/jmaquoi/sentinel/open-source-repositories/spoon/src/test/java/spoon/test/serializable/ModelStreamerTest.java', 'className': 'spoon.test.serializable.ModelStreamerTest', 'methodSignature': 'compareFactoryModels/2[spoon.test.serializable.Factory,spoon.test.serializable.Factory]', 'variableName': None, 'classType': None}}, {'allValues': [15.0938, 11.142799, 13.717299, 6.9069996, 10.6023, 8.8162, 19.0455, 12.537399, 13.4777, 4.4524, 15.278299, 17.6565, 15.4016, 55.370697, 16.379799, 5.9695997, 35.5679, 8.6793995, 6.6464996, 6.6011, 12.796999, 8.166699, 27.243702, 6.9616003, 10.2232, 12.1934, 16.303999, 9.0344, 23.1604, 14.809799], 'commit': {'sha': '12442bd8c7cde6e7c006a6277eeb8e81ad0c2219', 'repository': {'name': 'hibernate-orm', 'owner': 'hibernate'}}, 'measurableElement': {'astElem': 'method', 'filePath': '/home/student/j/m/jmaquoi/sentinel/open-source-repositories/hibernate-orm/hibernate-core/src/main/java/org/hibernate/engine/jdbc/connections/internal/ConnectionProviderInitiator.java', 'className': 'org.hibernate.engine.jdbc.connections.internal.ConnectionProviderInitiator', 'methodSignature': 'getConnectionProperties/1[java.util.Map<java.lang.String,java.lang.Object>]', 'variableName': None, 'classType': None}}, {'allValues': [13.0343, 22.4334, 18.649601, 13.5852, 15.3648, 13.4717, 15.3253, 7.8526, 17.2483, 13.5012, 15.8836, 8.7369, 11.3198, 9.9674, 13.2451, 13.875101, 7.9805, 16.7546, 16.5619, 9.9369, 13.467401, 12.0161, 11.6054, 11.965099, 12.6709, 13.578, 17.4176, 5.298, 17.9643, 10.2658], 'commit': {'sha': '066f4cf207359e06d30911a553dedd054aef595c', 'repository': {'name': 'spoon', 'owner': 'INRIA'}}, 'measurableElement': {'astElem': 'method', 'filePath': '/home/student/j/m/jmaquoi/sentinel/open-source-repositories/spoon/src/main/java/spoon/pattern/PatternParameterConfigurator.java', 'className': 'spoon.pattern.PatternParameterConfigurator$StringAttributeScanner', 'methodSignature': 'visitStringAttribute/1[spoon.pattern.CtElement]', 'variableName': None, 'classType': None}}, {'allValues': [27.8037, 32.0326, 35.707897, 33.34, 35.1835, 33.4771, 29.0214, 18.7183, 29.4897, 31.348501, 29.0714, 45.9748, 30.213898, 29.1228, 38.375298, 33.2544, 36.522102, 20.2309, 32.6628, 39.740303, 44.1124, 33.7364, 30.099, 42.661503, 35.5969, 21.4533, 21.4037, 33.1097, 34.065, 34.9134], 'commit': {'sha': '066f4cf207359e06d30911a553dedd054aef595c', 'repository': {'name': 'spoon', 'owner': 'INRIA'}}, 'measurableElement': {'astElem': 'method', 'filePath': '/home/student/j/m/jmaquoi/sentinel/open-source-repositories/spoon/src/main/java/spoon/support/compiler/jdt/JDTTreeBuilderQuery.java', 'className': 'spoon.support.compiler.jdt.JDTTreeBuilderQuery', 'methodSignature': 'hasAnnotationWithType/2[spoon.support.compiler.jdt.Annotation,spoon.support.compiler.jdt.CtAnnotatedElementType]', 'variableName': None, 'classType': None}}, {'allValues': [23.9265, 18.7163, 7.1743, 10.8335, 19.9424, 5.2071, 21.9985, 26.1884, 4.7612, 7.7014, 25.7391, 15.8211, 7.35, 21.6847, 4.5831, 8.3065, 8.8536, 9.1654, 29.1509, 8.5373, 16.0034, 35.6843, 8.9282, 6.8742, 7.5263, 10.2789, 30.3846, 23.9239, 20.4448, 32.1982], 'commit': {'sha': '59e5152722198526c6ffe5361de7d1a6a87275c7', 'repository': {'name': 'commons-configuration', 'owner': 'apache'}}, 'measurableElement': {'astElem': 'method', 'filePath': '/home/student/j/m/jmaquoi/sentinel/open-source-repositories/commons-configuration/src/main/java/org/apache/commons/configuration2/io/VFSFileSystem.java', 'className': 'org.apache.commons.configuration2.io.VFSFileSystem', 'methodSignature': 'getManager/0', 'variableName': None, 'classType': None}}, {'allValues': [7.9601, 9.5497, 8.3398, 4.6478, 5.0854, 9.3296, 7.3585005, 17.051199, 10.0262, 1.6604, 11.4682, 5.041, 13.8652, 1.6403, 12.243, 5.3819, 5.0236, 3.2301998, 6.5293, 5.4576, 15.056, 5.3799, 11.122499, 8.0352, 9.7666, 5.0851, 9.0074005, 11.5001, 6.7013, 11.534201], 'commit': {'sha': '066f4cf207359e06d30911a553dedd054aef595c', 'repository': {'name': 'spoon', 'owner': 'INRIA'}}, 'measurableElement': {'astElem': 'method', 'filePath': '/home/student/j/m/jmaquoi/sentinel/open-source-repositories/spoon/src/main/java/spoon/reflect/visitor/CtInheritanceScanner.java', 'className': 'spoon.reflect.visitor.CtInheritanceScanner', 'methodSignature': 'visitCtPackageReference/1[spoon.reflect.reference.CtPackageReference]', 'variableName': None, 'classType': None}}, {'allValues': [5.3225, 5.2814, 1.3652, 5.129, 3.0513, 2.93, 4.2346, 4.5362, 5.2897, 3.1938, 5.9271, 3.7821, 2.9358, 5.3308, 5.1466, 3.5783, 5.066, 5.0128, 4.562, 3.6049, 4.9457, 3.229, 2.9626, 3.9178, 5.037, 4.8307, 3.1304, 2.8392, 3.2689, 3.1458], 'commit': {'sha': '3ed1f1a064a10e53adc2ad8c0b46a4b2c148ee21', 'repository': {'name': 'spring-boot', 'owner': 'spring-projects'}}, 'measurableElement': {'astElem': 'method', 'filePath': '/home/student/j/m/jmaquoi/sentinel/open-source-repositories/spring-boot/spring-boot-project/spring-boot/src/test/java/org/springframework/boot/context/config/InactiveConfigDataAccessExceptionTests.java', 'className': 'org.springframework.boot.context.config.InactiveConfigDataAccessExceptionTests', 'methodSignature': 'throwIfPropertyFoundWhenSourceIsNullDoesNothing/0', 'variableName': None, 'classType': None}}, {'allValues': [213.4347, 214.5914, 217.6963, 205.6568, 220.7019, 218.232, 222.9942, 215.66069, 193.7692, 217.1091, 236.8956, 207.7805, 207.51909, 221.7541, 216.1842, 203.2524, 211.0933, 230.9951, 201.6761, 236.1815, 227.78111, 218.5815, 201.7984, 221.92801, 206.99431, 205.5002, 218.2469, 195.8763, 234.1795, 209.8473], 'commit': {'sha': '3ed1f1a064a10e53adc2ad8c0b46a4b2c148ee21', 'repository': {'name': 'spring-boot', 'owner': 'spring-projects'}}, 'measurableElement': {'astElem': 'method', 'filePath': '/home/student/j/m/jmaquoi/sentinel/open-source-repositories/spring-boot/spring-boot-project/spring-boot/src/test/java/org/springframework/boot/jackson/JsonMixinModuleEntriesBeanRegistrationAotProcessorTests.java', 'className': 'org.springframework.boot.jackson.JsonMixinModuleEntriesBeanRegistrationAotProcessorTests', 'methodSignature': 'processAheadOfTime/0', 'variableName': None, 'classType': None}}, {'allValues': [9.6674, 14.780601, 12.5758, 5.2468, 16.6215, 11.462999, 7.6980996, 6.4646, 17.3935, 12.6628, 11.9888, 14.5418005, 8.0092, 8.709001, 8.9325, 15.2209, 6.1025996, 15.0361, 5.4292, 8.9566, 12.5739, 26.6829, 3.8706, 16.792, 4.2200003, 24.259, 15.0213, 11.512501, 2.0202, 3.5456], 'commit': {'sha': '59e5152722198526c6ffe5361de7d1a6a87275c7', 'repository': {'name': 'commons-configuration', 'owner': 'apache'}}, 'measurableElement': {'astElem': 'method', 'filePath': '/home/student/j/m/jmaquoi/sentinel/open-source-repositories/commons-configuration/src/main/java/org/apache/commons/configuration2/XMLPropertiesConfiguration.java', 'className': 'org.apache.commons.configuration2.XMLPropertiesConfiguration', 'methodSignature': 'read/1[java.io.Reader]', 'variableName': None, 'classType': None}}, {'allValues': [5.1441, 2.1635, 2.5872, 4.0516, 3.8645, 2.554, 5.0151, 2.0601, 4.7119, 4.926, 4.6409, 4.9835, 2.385, 2.0691, 2.1774, 5.4534, 1.6352, 5.3076, 4.8066, 4.9196, 1.9184, 5.1081, 5.1091, 2.8909, 2.4769, 5.0337, 4.4286, 4.7745, 2.7629, 3.9209], 'commit': {'sha': '3ed1f1a064a10e53adc2ad8c0b46a4b2c148ee21', 'repository': {'name': 'spring-boot', 'owner': 'spring-projects'}}, 'measurableElement': {'astElem': 'method', 'filePath': '/home/student/j/m/jmaquoi/sentinel/open-source-repositories/spring-boot/spring-boot-project/spring-boot/src/test/java/org/springframework/boot/context/properties/bind/BindableTests.java', 'className': 'org.springframework.boot.context.properties.bind.BindableTests', 'methodSignature': 'withAnnotationsShouldSetAnnotations/0', 'variableName': None, 'classType': None}}, {'allValues': [3.0924, 1.3099, 3.3181, 2.648, 3.6261, 3.3979, 2.3837, 1.2862, 2.8856, 1.3781, 2.4848, 2.7254, 1.111, 5.2733, 1.3991, 1.4299, 3.3232, 3.9216, 1.0596, 1.3854, 2.2209, 1.2404, 2.7894, 3.6492, 2.1448, 5.3389, 5.0752, 3.5433002, 3.4056, 3.3943], 'commit': {'sha': '3ed1f1a064a10e53adc2ad8c0b46a4b2c148ee21', 'repository': {'name': 'spring-boot', 'owner': 'spring-projects'}}, 'measurableElement': {'astElem': 'method', 'filePath': '/home/student/j/m/jmaquoi/sentinel/open-source-repositories/spring-boot/spring-boot-project/spring-boot/src/test/java/org/springframework/boot/jackson/JsonComponentModuleTests.java', 'className': 'org.springframework.boot.jackson.JsonComponentModuleTests', 'methodSignature': 'load/1[java.lang.Class<?>[]]', 'variableName': None, 'classType': None}}, {'allValues': [15.6123, 14.7908, 15.7506, 22.7895, 11.0697, 15.9816, 12.7662, 9.7445, 11.0139, 17.6291, 18.7367, 24.6107, 24.4137, 22.7988, 16.8781, 15.4302, 8.0937, 14.4197, 13.7312, 11.2686, 12.4109, 21.3977, 16.3098, 13.9121, 15.3089, 10.2018, 20.59, 13.7167, 15.6695, 15.0821], 'commit': {'sha': '3ed1f1a064a10e53adc2ad8c0b46a4b2c148ee21', 'repository': {'name': 'spring-boot', 'owner': 'spring-projects'}}, 'measurableElement': {'astElem': 'method', 'filePath': '/home/student/j/m/jmaquoi/sentinel/open-source-repositories/spring-boot/spring-boot-project/spring-boot/src/main/java/org/springframework/boot/DefaultApplicationContextFactory.java', 'className': 'org.springframework.boot.DefaultApplicationContextFactory', 'methodSignature': 'createDefaultApplicationContext/0', 'variableName': None, 'classType': None}}, {'allValues': [42.665, 73.0766, 41.0895, 58.9241, 43.7991, 39.5579, 40.9407, 48.1401, 58.6046, 41.8512, 56.3062, 32.5462, 38.8055, 52.141, 35.278, 61.6513, 31.7996, 53.3412, 50.4915, 36.4196, 55.04, 63.0517, 59.5099, 42.8539, 61.6439, 48.6246, 36.6325, 46.587, 83.1409, 52.3783], 'commit': {'sha': '3ed1f1a064a10e53adc2ad8c0b46a4b2c148ee21', 'repository': {'name': 'spring-boot', 'owner': 'spring-projects'}}, 'measurableElement': {'astElem': 'method', 'filePath': '/home/student/j/m/jmaquoi/sentinel/open-source-repositories/spring-boot/spring-boot-project/spring-boot/src/test/java/org/springframework/boot/jdbc/metadata/AbstractDataSourcePoolMetadataTests.java', 'className': 'org.springframework.boot.jdbc.metadata.AbstractDataSourcePoolMetadataTests', 'methodSignature': 'getPoolSizeOneConnection/0', 'variableName': None, 'classType': None}}, {'allValues': [12.8356, 8.8553, 9.1182, 11.3552, 11.4802, 8.5557995, 7.9137, 10.1577, 9.9341, 5.0306997, 9.152201, 9.4303, 6.1703, 8.1357, 9.0816, 10.5783, 9.2279, 10.1528, 10.7527, 10.1347, 9.2522, 12.1142, 9.4582, 10.5589, 9.5405, 10.6209, 6.4813004, 9.6664, 10.029699, 8.515], 'commit': {'sha': '3ed1f1a064a10e53adc2ad8c0b46a4b2c148ee21', 'repository': {'name': 'spring-boot', 'owner': 'spring-projects'}}, 'measurableElement': {'astElem': 'method', 'filePath': '/home/student/j/m/jmaquoi/sentinel/open-source-repositories/spring-boot/spring-boot-project/spring-boot/src/test/java/org/springframework/boot/SpringApplicationTests.java', 'className': 'org.springframework.boot.SpringApplicationTests', 'methodSignature': 'customApplicationStartupPublishStartupStepsWithFailure/0', 'variableName': None, 'classType': None}}, {'allValues': [11.8406, 7.935, 5.3719, 10.4221, 8.2268, 5.3275, 8.1663, 7.7574, 8.4745, 9.709, 7.9149, 8.1319, 8.0698, 7.676, 7.5712, 5.2999, 8.1447, 8.1973, 7.1005, 7.4688, 9.7689, 8.4124, 6.8061, 7.183, 7.9313, 7.8547, 8.1275, 8.4188, 7.5579, 7.8277], 'commit': {'sha': '3ed1f1a064a10e53adc2ad8c0b46a4b2c148ee21', 'repository': {'name': 'spring-boot', 'owner': 'spring-projects'}}, 'measurableElement': {'astElem': 'method', 'filePath': '/home/student/j/m/jmaquoi/sentinel/open-source-repositories/spring-boot/spring-boot-project/spring-boot/src/test/java/org/springframework/boot/AbstractApplicationEnvironmentTests.java', 'className': 'org.springframework.boot.AbstractApplicationEnvironmentTests', 'methodSignature': 'propertyResolverIsOptimizedForConfigurationProperties/0', 'variableName': None, 'classType': None}}, {'allValues': [6.0379, 1.9059, 51.2565, 9.6357, 6.8704, 148.3764, 10.5916, 1.4268, 6.5693, 11.1778, 4.5741, 5.0136, 4.0056, 2.9731, 4.8513, 3.8034, 1.0922, 1.8055, 3.9731, 2.2544, 7.6977, 3.695, 2.0069, 1.6844, 1.7859, 1.5674, 4.1329, 3.1048, 3.8405, 5.3716], 'commit': {'sha': '12442bd8c7cde6e7c006a6277eeb8e81ad0c2219', 'repository': {'name': 'hibernate-orm', 'owner': 'hibernate'}}, 'measurableElement': {'astElem': 'method', 'filePath': '/home/student/j/m/jmaquoi/sentinel/open-source-repositories/hibernate-orm/hibernate-testing/src/main/java/org/hibernate/testing/jdbc/SharedDriverManagerConnectionProviderImpl.java', 'className': 'org.hibernate.testing.jdbc.SharedDriverManagerConnectionProviderImpl', 'methodSignature': 'isValid/1[java.sql.Connection]', 'variableName': None, 'classType': None}}, {'allValues': [28.0815, 25.4246, 25.3109, 20.6661, 22.6704, 22.2912, 15.0112, 28.1751, 24.3899, 21.8906, 24.7855, 40.4698, 24.2838, 21.8499, 24.3991, 20.0829, 25.9722, 23.122, 19.5054, 27.1099, 25.8509, 26.5654, 22.3482, 25.6393, 25.7575, 23.0351, 24.9941, 25.0618, 21.3047, 25.0923], 'commit': {'sha': '5c9d8989f968d0ee3a942b411ef7fe121ed94609', 'repository': {'name': 'jabref', 'owner': 'JabRef'}}, 'measurableElement': {'astElem': 'method', 'filePath': '/home/student/j/m/jmaquoi/sentinel/open-source-repositories/jabref/src/test/java/org/jabref/logic/l10n/EncodingsTest.java', 'className': 'org.jabref.logic.l10n.EncodingsTest', 'methodSignature': 'charsetsShouldNotBeNull/0', 'variableName': None, 'classType': None}}, {'allValues': [8.2043, 10.1426, 4.0777, 2.8529, 7.7938, 12.073, 9.3803, 1.5252, 9.7455, 3.4548, 8.0116005, 3.8393998, 5.4254003, 1.4876, 8.832701, 11.4426, 8.3828, 3.3719, 8.1633, 2.0455, 10.0749, 11.294001, 7.6422, 3.9829998, 4.9772, 11.219399, 12.7019005, 7.5881, 12.2911, 4.2693], 'commit': {'sha': '066f4cf207359e06d30911a553dedd054aef595c', 'repository': {'name': 'spoon', 'owner': 'INRIA'}}, 'measurableElement': {'astElem': 'method', 'filePath': '/home/student/j/m/jmaquoi/sentinel/open-source-repositories/spoon/src/main/java/spoon/reflect/visitor/ImportScannerImpl.java', 'className': 'spoon.reflect.visitor.ImportScannerImpl', 'methodSignature': 'isThereAnotherClassWithSameNameInAnotherPackage/1[spoon.reflect.reference.CtTypeReference<?>]', 'variableName': None, 'classType': None}}, {'allValues': [20.2553, 3.3141, 3.8708, 8.9142, 16.383701, 10.0136, 18.2928, 10.2189, 19.8618, 10.8551, 3.9519, 8.6404, 12.5855, 16.9889, 8.0199, 17.7531, 7.3731, 16.6674, 17.7752, 4.0973, 31.7547, 5.9556, 14.6069, 13.1149, 16.0253, 21.2909, 24.5303, 16.7762, 8.6367, 31.8227], 'commit': {'sha': '12442bd8c7cde6e7c006a6277eeb8e81ad0c2219', 'repository': {'name': 'hibernate-orm', 'owner': 'hibernate'}}, 'measurableElement': {'astElem': 'method', 'filePath': '/home/student/j/m/jmaquoi/sentinel/open-source-repositories/hibernate-orm/hibernate-core/src/main/java/org/hibernate/dialect/Dialect.java', 'className': 'org.hibernate.dialect.Dialect', 'methodSignature': 'registerDefaultKeywords/0', 'variableName': None, 'classType': None}}, {'allValues': [27.5722, 18.9849, 18.5146, 14.8809, 14.3813, 9.3039, 23.04, 7.4024, 19.399, 22.57, 18.0495, 23.4068, 16.6955, 20.9478, 16.774, 13.3275, 8.7793, 10.3896, 18.8085, 22.6481, 12.392, 15.3375, 14.5165, 28.8655, 17.3049, 12.4328, 16.4561, 9.0452, 21.7462, 16.2771], 'commit': {'sha': '3ed1f1a064a10e53adc2ad8c0b46a4b2c148ee21', 'repository': {'name': 'spring-boot', 'owner': 'spring-projects'}}, 'measurableElement': {'astElem': 'method', 'filePath': '/home/student/j/m/jmaquoi/sentinel/open-source-repositories/spring-boot/spring-boot-project/spring-boot/src/main/java/org/springframework/boot/logging/AbstractLoggingSystem.java', 'className': 'org.springframework.boot.logging.AbstractLoggingSystem', 'methodSignature': 'findConfig/1[java.lang.String[]]', 'variableName': None, 'classType': None}}, {'allValues': [9.7541, 6.071, 12.1899, 7.5951996, 9.5975, 6.0209, 6.9947, 5.2496, 11.136, 8.8407, 7.2438, 3.6479, 5.7401, 5.178, 7.1288, 9.5557, 10.4895, 8.4495, 10.7224, 10.665, 6.061, 9.5031, 9.9341, 6.7349, 7.0467, 8.527801, 10.4324, 9.541, 10.5388, 5.881], 'commit': {'sha': '5c9d8989f968d0ee3a942b411ef7fe121ed94609', 'repository': {'name': 'jabref', 'owner': 'JabRef'}}, 'measurableElement': {'astElem': 'method', 'filePath': '/home/student/j/m/jmaquoi/sentinel/open-source-repositories/jabref/src/main/java/org/jabref/logic/importer/fileformat/BibTeXMLImporter.java', 'className': 'org.jabref.logic.importer.fileformat.BibTeXMLImporter', 'methodSignature': 'isRecognizedFormat/1[java.io.BufferedReader]', 'variableName': None, 'classType': None}}, {'allValues': [8.5864, 11.5603, 5.6156, 13.2259, 10.4802, 11.2598, 3.2271, 4.6258, 10.164, 7.1738, 8.3174, 9.1031, 8.4721, 9.3137, 11.6621, 9.8356, 15.0559, 3.1876, 10.8884, 14.3856, 16.1898, 5.1451, 13.6375, 6.2199, 12.1224, 5.6731, 6.0282, 15.2039, 4.3197, 13.4706], 'commit': {'sha': '3ed1f1a064a10e53adc2ad8c0b46a4b2c148ee21', 'repository': {'name': 'spring-boot', 'owner': 'spring-projects'}}, 'measurableElement': {'astElem': 'method', 'filePath': '/home/student/j/m/jmaquoi/sentinel/open-source-repositories/spring-boot/spring-boot-project/spring-boot/src/test/java/org/springframework/boot/logging/logback/SpringBootJoranConfiguratorTests.java', 'className': 'org.springframework.boot.logging.logback.SpringBootJoranConfiguratorTests', 'methodSignature': 'initialize/1[java.lang.String]', 'variableName': None, 'classType': None}}, {'allValues': [12.0534, 8.9669, 12.5151, 11.9708, 15.2077, 13.8775, 21.5627, 19.5057, 14.5381, 15.9165, 20.6359, 20.0262, 13.187, 13.3404, 15.0215, 20.214, 13.86, 16.4643, 11.4692, 13.7382, 15.5892, 13.4421, 20.2314, 15.3926, 20.4536, 10.6883, 14.6851, 18.4506, 15.8377, 15.4966], 'commit': {'sha': '3ed1f1a064a10e53adc2ad8c0b46a4b2c148ee21', 'repository': {'name': 'spring-boot', 'owner': 'spring-projects'}}, 'measurableElement': {'astElem': 'method', 'filePath': '/home/student/j/m/jmaquoi/sentinel/open-source-repositories/spring-boot/spring-boot-project/spring-boot/src/main/java/org/springframework/boot/logging/logback/LogbackConfigurator.java', 'className': 'org.springframework.boot.logging.logback.LogbackConfigurator', 'methodSignature': 'start/1[org.springframework.boot.logging.logback.LifeCycle]', 'variableName': None, 'classType': None}}, {'allValues': [7.3901997, 21.0083, 39.9251, 13.5172, 27.7939, 11.0257, 16.9799, 18.929699, 31.6733, 53.8804, 17.3249, 18.7075, 43.7305, 7.4183, 37.5008, 30.8931, 36.5159, 18.426601, 46.1711, 13.283999, 63.915596, 17.572, 30.9568, 34.5578, 32.794098, 24.836601, 29.6638, 15.982699, 72.8228, 28.8598], 'commit': {'sha': '3ed1f1a064a10e53adc2ad8c0b46a4b2c148ee21', 'repository': {'name': 'spring-boot', 'owner': 'spring-projects'}}, 'measurableElement': {'astElem': 'method', 'filePath': '/home/student/j/m/jmaquoi/sentinel/open-source-repositories/spring-boot/spring-boot-project/spring-boot/src/test/java/org/springframework/boot/web/reactive/server/AbstractReactiveWebServerFactoryTests.java', 'className': 'org.springframework.boot.web.reactive.server.AbstractReactiveWebServerFactoryTests', 'methodSignature': 'testBasicSslWithKeyStore/2[java.lang.String,java.lang.String]', 'variableName': None, 'classType': None}}, {'allValues': [6.7079, 9.0203, 4.9285, 5.2467, 6.1723, 8.026299, 3.0595, 12.1726, 8.4239, 1.6493, 10.1434, 6.5504, 3.3776, 5.0457, 9.369801, 6.6549, 6.3771, 8.2019005, 5.2822, 3.3826, 5.235, 8.538, 5.6055, 7.4819, 5.3291, 1.0881, 17.0232, 5.2244, 5.6806, 14.681601], 'commit': {'sha': '066f4cf207359e06d30911a553dedd054aef595c', 'repository': {'name': 'spoon', 'owner': 'INRIA'}}, 'measurableElement': {'astElem': 'method', 'filePath': '/home/student/j/m/jmaquoi/sentinel/open-source-repositories/spoon/src/main/java/spoon/reflect/visitor/CtScanner.java', 'className': 'spoon.reflect.visitor.CtScanner', 'methodSignature': 'visitCtComment/1[spoon.reflect.code.CtComment]', 'variableName': None, 'classType': None}}, {'allValues': [15.7291, 12.8673, 13.1896, 13.890901, 14.5292, 17.275, 16.536701, 16.715801, 25.6195, 42.580902, 11.9946995, 26.5054, 12.3004, 23.087, 19.8655, 16.4021, 13.0065, 19.3089, 18.4029, 19.5186, 23.888401, 22.4055, 16.2195, 32.9265, 18.2269, 7.9552, 21.465399, 19.7961, 13.5268, 16.0599], 'commit': {'sha': '066f4cf207359e06d30911a553dedd054aef595c', 'repository': {'name': 'spoon', 'owner': 'INRIA'}}, 'measurableElement': {'astElem': 'method', 'filePath': '/home/student/j/m/jmaquoi/sentinel/open-source-repositories/spoon/src/test/java/spoon/test/TestExecutionLogger.java', 'className': 'spoon.test.TestExecutionLogger', 'methodSignature': 'executionFinished/2[spoon.test.TestIdentifier,spoon.test.TestExecutionResult]', 'variableName': None, 'classType': None}}, {'allValues': [57.3555, 55.5268, 59.167603, 56.445, 62.9567, 52.4345, 52.4758, 49.445198, 57.099697, 51.0407, 54.958, 44.7747, 57.2413, 68.348495, 53.0237, 48.5048, 56.268597, 48.652798, 58.0662, 60.6943, 53.7321, 61.3232, 63.1409, 50.400997, 64.332, 57.875504, 46.615196, 60.770702, 58.9563, 49.0347], 'commit': {'sha': '3ed1f1a064a10e53adc2ad8c0b46a4b2c148ee21', 'repository': {'name': 'spring-boot', 'owner': 'spring-projects'}}, 'measurableElement': {'astElem': 'method', 'filePath': '/home/student/j/m/jmaquoi/sentinel/open-source-repositories/spring-boot/spring-boot-project/spring-boot/src/test/java/org/springframework/boot/jackson/JsonMixinModuleEntriesBeanRegistrationAotProcessorTests.java', 'className': 'org.springframework.boot.jackson.JsonMixinModuleEntriesBeanRegistrationAotProcessorTests', 'methodSignature': 'compile/1[java.util.function.BiConsumer<org.springframework.boot.jackson.GenericApplicationContext,org.springframework.boot.jackson.Compiled>]', 'variableName': None, 'classType': None}}, {'allValues': [110.4335, 96.6119, 84.7256, 110.1231, 95.9958, 136.2426, 73.9838, 93.6364, 87.1003, 26.2951, 69.0683, 76.4294, 116.8205, 99.2882, 98.4748, 115.769, 93.7944, 100.4224, 16.7344, 106.8103, 67.0187, 136.6182, 99.5783, 70.308, 93.0225, 99.5469, 64.3327, 155.3876, 146.4076, 126.8695], 'commit': {'sha': '3ed1f1a064a10e53adc2ad8c0b46a4b2c148ee21', 'repository': {'name': 'spring-boot', 'owner': 'spring-projects'}}, 'measurableElement': {'astElem': 'method', 'filePath': '/home/student/j/m/jmaquoi/sentinel/open-source-repositories/spring-boot/spring-boot-project/spring-boot/src/main/java/org/springframework/boot/web/servlet/server/StaticResourceJars.java', 'className': 'org.springframework.boot.web.servlet.server.StaticResourceJars', 'methodSignature': 'addUrlFile/3[java.util.List<java.net.URL>,java.net.URL,java.io.File]', 'variableName': None, 'classType': None}}, {'allValues': [27.244701, 36.981697, 28.9926, 21.5246, 43.876297, 28.9093, 34.5422, 52.7186, 41.7357, 24.768, 33.4713, 47.466404, 28.8354, 34.3279, 32.6601, 25.671299, 38.3982, 46.007202, 33.1316, 27.095098, 20.3663, 27.8188, 28.274, 41.645298, 25.0233, 21.927002, 34.4575, 25.8107, 38.1892, 39.1873], 'commit': {'sha': '066f4cf207359e06d30911a553dedd054aef595c', 'repository': {'name': 'spoon', 'owner': 'INRIA'}}, 'measurableElement': {'astElem': 'method', 'filePath': '/home/student/j/m/jmaquoi/sentinel/open-source-repositories/spoon/src/main/java/spoon/reflect/visitor/CtScanner.java', 'className': 'spoon.reflect.visitor.CtScanner', 'methodSignature': 'visitCtAnnotation/1[spoon.reflect.declaration.CtAnnotation<A>]', 'variableName': None, 'classType': None}}, {'allValues': [6.7426, 13.3435, 17.2416, 17.6104, 13.6836, 13.2988, 9.857599, 14.2256, 13.1016, 14.2391, 16.5146, 13.4763, 11.8717, 15.7892, 14.0837, 10.4268, 8.0932, 14.9959, 13.913099, 15.7117, 17.1452, 12.8623, 10.0384, 7.3656, 14.866, 10.0568, 13.2276, 12.475, 14.2053, 14.9781], 'commit': {'sha': '5c9d8989f968d0ee3a942b411ef7fe121ed94609', 'repository': {'name': 'jabref', 'owner': 'JabRef'}}, 'measurableElement': {'astElem': 'method', 'filePath': '/home/student/j/m/jmaquoi/sentinel/open-source-repositories/jabref/src/main/java/org/jabref/gui/fieldeditors/LinkedFileViewModel.java', 'className': 'org.jabref.gui.fieldeditors.LinkedFileViewModel', 'methodSignature': 'prepareDownloadTask/2[java.nio.file.Path,org.jabref.gui.fieldeditors.URLDownload]', 'variableName': None, 'classType': None}}, {'allValues': [3.1948, 5.6658, 4.4415, 5.1742, 2.5766, 4.4256, 4.5577, 2.175, 3.2946, 3.3141, 4.1813, 4.7218, 4.5373, 4.4712, 4.5733, 4.0655, 6.5579, 5.3752, 3.7897, 5.8632, 4.0426, 5.6493, 5.7756, 4.8464, 5.8686, 5.1983, 6.3963, 2.3868, 3.5914, 4.3657], 'commit': {'sha': '5c9d8989f968d0ee3a942b411ef7fe121ed94609', 'repository': {'name': 'jabref', 'owner': 'JabRef'}}, 'measurableElement': {'astElem': 'method', 'filePath': '/home/student/j/m/jmaquoi/sentinel/open-source-repositories/jabref/src/main/java/org/jabref/logic/l10n/Localization.java', 'className': 'org.jabref.logic.l10n.Localization', 'methodSignature': 'createResourceBundles/1[java.util.Locale]', 'variableName': None, 'classType': None}}, {'allValues': [42.5774, 45.4155, 33.1199, 21.9837, 33.8124, 41.771297, 28.2237, 34.4856, 51.6396, 34.2921, 24.369099, 40.9038, 27.9887, 36.047398, 32.872803, 48.8497, 32.3096, 40.2296, 25.3959, 37.4954, 21.7392, 28.826199, 33.0428, 41.779404, 28.567501, 34.5944, 35.3618, 43.819, 41.3054, 29.0727], 'commit': {'sha': '066f4cf207359e06d30911a553dedd054aef595c', 'repository': {'name': 'spoon', 'owner': 'INRIA'}}, 'measurableElement': {'astElem': 'method', 'filePath': '/home/student/j/m/jmaquoi/sentinel/open-source-repositories/spoon/src/main/java/spoon/support/visitor/java/JavaReflectionVisitorImpl.java', 'className': 'spoon.support.visitor.java.JavaReflectionVisitorImpl', 'methodSignature': 'visitClass/1[java.lang.Class<T>]', 'variableName': None, 'classType': None}}, {'allValues': [1.0727, 6.3107004, 2.1195002, 7.5331, 3.2386, 3.3116, 2.1166, 2.1284, 2.1243, 7.7159996, 2.0811, 2.1208, 3.3736, 2.0297, 2.1542, 3.1973, 1.9788, 0.9672, 2.1507, 7.4034004, 4.352, 2.1018, 6.4087, 4.2768, 6.5978003, 1.0983, 1.0614, 4.2881002, 4.3699, 1.0009], 'commit': {'sha': '5c9d8989f968d0ee3a942b411ef7fe121ed94609', 'repository': {'name': 'jabref', 'owner': 'JabRef'}}, 'measurableElement': {'astElem': 'method', 'filePath': '/home/student/j/m/jmaquoi/sentinel/open-source-repositories/jabref/src/main/java/org/jabref/logic/database/DuplicateCheck.java', 'className': 'org.jabref.logic.database.DuplicateCheck', 'methodSignature': 'compareAuthorField/2[java.lang.String,java.lang.String]', 'variableName': None, 'classType': None}}, {'allValues': [31.4164, 35.1511, 30.7934, 26.0102, 32.416702, 30.324099, 36.917603, 43.464897, 22.5937, 32.7173, 44.6323, 49.250805, 29.509, 33.944702, 31.0758, 34.011, 23.8931, 34.5602, 28.493502, 33.1606, 35.479603, 34.1992, 35.1717, 34.294502, 33.7463, 34.7057, 32.6634, 27.3526, 34.6232, 39.5934], 'commit': {'sha': '5c9d8989f968d0ee3a942b411ef7fe121ed94609', 'repository': {'name': 'jabref', 'owner': 'JabRef'}}, 'measurableElement': {'astElem': 'method', 'filePath': '/home/student/j/m/jmaquoi/sentinel/open-source-repositories/jabref/src/test/java/org/jabref/gui/documentviewer/PdfDocumentViewModelTest.java', 'className': 'org.jabref.gui.documentviewer.PdfDocumentViewModelTest', 'methodSignature': 'getPagesTest/1[java.nio.file.Path]', 'variableName': None, 'classType': None}}, {'allValues': [16.4127, 31.472301, 26.322899, 27.956402, 20.5387, 17.8502, 9.0004, 32.7074, 14.0611, 5.6109, 21.4568, 13.362101, 10.329201, 14.2663, 15.3459, 9.8892, 27.4039, 18.1946, 23.5876, 5.7797003, 10.4194, 41.1379, 14.2894, 8.4579, 5.9786, 20.5949, 10.8991, 21.3021, 18.7426, 25.311901], 'commit': {'sha': '066f4cf207359e06d30911a553dedd054aef595c', 'repository': {'name': 'spoon', 'owner': 'INRIA'}}, 'measurableElement': {'astElem': 'method', 'filePath': '/home/student/j/m/jmaquoi/sentinel/open-source-repositories/spoon/src/main/java/spoon/support/reflect/reference/CtTypeReferenceImpl.java', 'className': 'spoon.support.reflect.reference.CtTypeReferenceImpl', 'methodSignature': 'getQualifiedName/0', 'variableName': None, 'classType': None}}, {'allValues': [7.9895, 4.5978, 11.6, 9.4904, 11.2037, 7.1542997, 6.2192, 5.1759, 3.5194, 18.4602, 9.979401, 7.3668003, 8.1181, 6.9316, 7.3592, 5.0868, 8.9686, 5.8203, 15.620501, 13.7029, 14.467501, 7.4386005, 4.2871, 4.272, 10.185499, 4.7499, 3.8311, 8.7921, 4.0217, 6.7458997], 'commit': {'sha': '066f4cf207359e06d30911a553dedd054aef595c', 'repository': {'name': 'spoon', 'owner': 'INRIA'}}, 'measurableElement': {'astElem': 'method', 'filePath': '/home/student/j/m/jmaquoi/sentinel/open-source-repositories/spoon/src/main/java/spoon/support/JavaOutputProcessor.java', 'className': 'spoon.support.JavaOutputProcessor', 'methodSignature': 'createFolders/1[java.nio.file.Path]', 'variableName': None, 'classType': None}}, {'allValues': [29.308102, 28.112299, 33.9155, 32.9649, 24.2665, 30.4315, 26.1569, 27.9329, 26.5482, 27.3005, 20.668, 25.9975, 21.0018, 32.3769, 26.3919, 28.4826, 23.5812, 26.378399, 28.449001, 30.9939, 29.816801, 16.7976, 19.8616, 24.109999, 24.381199, 24.9177, 22.608002, 26.0199, 22.8625, 30.7539], 'commit': {'sha': '5c9d8989f968d0ee3a942b411ef7fe121ed94609', 'repository': {'name': 'jabref', 'owner': 'JabRef'}}, 'measurableElement': {'astElem': 'method', 'filePath': '/home/student/j/m/jmaquoi/sentinel/open-source-repositories/jabref/src/main/java/org/jabref/logic/importer/fileformat/PdfContentImporter.java', 'className': 'org.jabref.logic.importer.fileformat.PdfContentImporter', 'methodSignature': 'getFirstPageContents/1[org.jabref.logic.importer.fileformat.PDDocument]', 'variableName': None, 'classType': None}}, {'allValues': [51.6427, 19.8424, 29.350101, 19.0575, 23.4011, 19.4787, 30.6848, 26.945198, 19.6102, 31.1743, 26.941399, 35.613, 17.5444, 24.0002, 33.835102, 13.5581, 27.0015, 20.0049, 38.1697, 29.6962, 26.8297, 35.561398, 36.7943, 22.2439, 21.7082, 26.0639, 15.4489, 27.8647, 21.6922, 37.957703], 'commit': {'sha': '12442bd8c7cde6e7c006a6277eeb8e81ad0c2219', 'repository': {'name': 'hibernate-orm', 'owner': 'hibernate'}}, 'measurableElement': {'astElem': 'method', 'filePath': '/home/student/j/m/jmaquoi/sentinel/open-source-repositories/hibernate-orm/hibernate-testing/src/main/java/org/hibernate/testing/orm/junit/DialectContext.java', 'className': 'org.hibernate.testing.orm.junit.DialectContext', 'methodSignature': 'init/0', 'variableName': None, 'classType': None}}, {'allValues': [13.2101, 27.4579, 12.6575, 15.6408, 15.6532, 86.1551, 19.0906, 11.9688, 17.6831, 17.3696, 13.8731, 5.877, 9.9792, 12.1711, 11.2654, 21.5573, 17.5077, 12.0071, 11.9746, 11.6715, 7.989, 19.0087, 22.3714, 13.8549, 15.1448, 12.3232, 15.9817, 12.3022, 13.1439, 25.3028], 'commit': {'sha': '3ed1f1a064a10e53adc2ad8c0b46a4b2c148ee21', 'repository': {'name': 'spring-boot', 'owner': 'spring-projects'}}, 'measurableElement': {'astElem': 'method', 'filePath': '/home/student/j/m/jmaquoi/sentinel/open-source-repositories/spring-boot/spring-boot-project/spring-boot/src/test/java/org/springframework/boot/web/embedded/netty/NettyReactiveWebServerFactoryTests.java', 'className': 'org.springframework.boot.web.embedded.netty.NettyReactiveWebServerFactoryTests', 'methodSignature': 'whenSslIsConfiguredWithAValidAliasARequestSucceeds/0', 'variableName': None, 'classType': None}}, {'allValues': [1.2466, 1.1225, 1.1516, 1.072, 1.0619, 1.0498, 1.0802, 1.1719, 1.1002, 1.1854, 1.0642, 2.1964, 1.095, 2.3193, 1.1682, 1.1464, 1.0815, 1.0634, 1.1696, 1.1468, 1.1619, 1.2113, 1.1415, 1.0852, 1.1077, 1.1071, 1.3263, 1.2133, 1.204, 1.0324], 'commit': {'sha': '3ed1f1a064a10e53adc2ad8c0b46a4b2c148ee21', 'repository': {'name': 'spring-boot', 'owner': 'spring-projects'}}, 'measurableElement': {'astElem': 'method', 'filePath': '/home/student/j/m/jmaquoi/sentinel/open-source-repositories/spring-boot/spring-boot-project/spring-boot/src/test/java/org/springframework/boot/SpringApplicationBannerPrinterTests.java', 'className': 'org.springframework.boot.SpringApplicationBannerPrinterTests', 'methodSignature': 'shouldRegisterRuntimeHints/0', 'variableName': None, 'classType': None}}, {'allValues': [92.4909, 62.0989, 56.951, 74.2098, 64.946495, 69.1945, 57.634, 62.595005, 76.763695, 74.6493, 60.733803, 92.577705, 58.1916, 73.7062, 56.9405, 69.0909, 59.228905, 69.1083, 73.7215, 57.1336, 72.287895, 45.508404, 62.777603, 70.1613, 62.889698, 91.4538, 101.556206, 79.221596, 56.3384, 60.101097], 'commit': {'sha': '066f4cf207359e06d30911a553dedd054aef595c', 'repository': {'name': 'spoon', 'owner': 'INRIA'}}, 'measurableElement': {'astElem': 'method', 'filePath': '/home/student/j/m/jmaquoi/sentinel/open-source-repositories/spoon/src/main/java/spoon/support/JavaOutputProcessor.java', 'className': 'spoon.support.JavaOutputProcessor', 'methodSignature': 'createJavaFile/1[spoon.support.CtType<?>]', 'variableName': None, 'classType': None}}, {'allValues': [25.5716, 9.1633, 18.809, 17.6103, 15.204, 15.9586, 21.5468, 20.5583, 21.185001, 18.9854, 6.6058, 18.529999, 19.2914, 7.8945, 15.940701, 25.0242, 17.9182, 18.7355, 15.795799, 20.4252, 22.2887, 6.0736, 20.5626, 20.784698, 18.1695, 6.5798, 14.550299, 17.1531, 17.362, 19.9707], 'commit': {'sha': '5c9d8989f968d0ee3a942b411ef7fe121ed94609', 'repository': {'name': 'jabref', 'owner': 'JabRef'}}, 'measurableElement': {'astElem': 'method', 'filePath': '/home/student/j/m/jmaquoi/sentinel/open-source-repositories/jabref/src/test/java/org/jabref/gui/exporter/SaveDatabaseActionTest.java', 'className': 'org.jabref.gui.exporter.SaveDatabaseActionTest', 'methodSignature': 'createSaveDatabaseActionForBibDatabase/1[org.jabref.gui.exporter.BibDatabase]', 'variableName': None, 'classType': None}}, {'allValues': [12.1284, 6.3616, 12.0751, 7.4477, 5.8839, 5.9324, 4.54, 14.2093, 12.774401, 19.479702, 5.4016, 2.2637, 6.9411, 3.7049, 7.9480004, 8.796801, 11.3447, 5.1659, 4.3257, 4.9567, 6.8155003, 7.3759, 8.4687, 11.034, 11.9796, 7.8122, 10.5077, 5.4391, 9.156199, 4.6085], 'commit': {'sha': '066f4cf207359e06d30911a553dedd054aef595c', 'repository': {'name': 'spoon', 'owner': 'INRIA'}}, 'measurableElement': {'astElem': 'method', 'filePath': '/home/student/j/m/jmaquoi/sentinel/open-source-repositories/spoon/src/main/java/spoon/support/compiler/jdt/JDTTreeBuilderQuery.java', 'className': 'spoon.support.compiler.jdt.JDTTreeBuilderQuery', 'methodSignature': 'getModifiers/3[int,boolean,java.util.Set<spoon.support.compiler.jdt.ModifierTarget>]', 'variableName': None, 'classType': None}}, {'allValues': [23.6793, 12.9459, 21.7962, 18.762, 19.4085, 18.648, 21.7685, 29.4913, 21.4974, 20.7563, 27.1096, 27.2017, 21.9907, 23.8145, 16.5772, 22.6013, 19.3561, 21.0909, 21.7141, 20.0212, 22.0909, 17.0536, 21.2, 20.6385, 22.1394, 20.6067, 14.9296, 19.8217, 22.8903, 23.8154], 'commit': {'sha': '5c9d8989f968d0ee3a942b411ef7fe121ed94609', 'repository': {'name': 'jabref', 'owner': 'JabRef'}}, 'measurableElement': {'astElem': 'method', 'filePath': '/home/student/j/m/jmaquoi/sentinel/open-source-repositories/jabref/src/test/java/org/jabref/architecture/MainArchitectureTests.java', 'className': 'org.jabref.architecture.MainArchitectureTests', 'methodSignature': 'doNotUseAssertJ/1[org.jabref.architecture.JavaClasses]', 'variableName': None, 'classType': None}}, {'allValues': [14.2885, 11.615, 13.8328, 14.440199, 13.774799, 13.6259, 15.647501, 15.8388, 13.3992, 14.757099, 12.992201, 14.897499, 12.501301, 13.343, 9.3251, 12.9435, 13.0735, 12.8354, 13.386, 17.3018, 16.473, 15.3153, 15.890301, 16.9317, 11.9391, 9.310699, 14.7661, 12.8319, 13.1317, 14.5871], 'commit': {'sha': '3ed1f1a064a10e53adc2ad8c0b46a4b2c148ee21', 'repository': {'name': 'spring-boot', 'owner': 'spring-projects'}}, 'measurableElement': {'astElem': 'method', 'filePath': '/home/student/j/m/jmaquoi/sentinel/open-source-repositories/spring-boot/spring-boot-project/spring-boot/src/test/java/org/springframework/boot/context/properties/ConfigurationPropertiesBeanRegistrationAotProcessorTests.java', 'className': 'org.springframework.boot.context.properties.ConfigurationPropertiesBeanRegistrationAotProcessorTests', 'methodSignature': 'aotContributedInitializerBindsValueObjectWithSpecificConstructor/0', 'variableName': None, 'classType': None}}, {'allValues': [34.5765, 9.925, 7.9518, 5.4652, 3.7801, 13.18, 8.2704, 12.065701, 1.2608, 6.5938, 13.3442, 16.6143, 11.1934, 14.6788, 12.940499, 20.9442, 10.9553, 3.327, 7.1033, 8.9403, 19.7291, 9.7390995, 10.8884, 5.5586, 4.9238, 284.0832, 8.3769, 10.6009, 11.5501, 17.8064], 'commit': {'sha': '12442bd8c7cde6e7c006a6277eeb8e81ad0c2219', 'repository': {'name': 'hibernate-orm', 'owner': 'hibernate'}}, 'measurableElement': {'astElem': 'method', 'filePath': '/home/student/j/m/jmaquoi/sentinel/open-source-repositories/hibernate-orm/hibernate-core/src/main/java/org/hibernate/internal/util/ReflectHelper.java', 'className': 'org.hibernate.internal.util.ReflectHelper', 'methodSignature': 'setterOrNull/3[java.lang.Class,java.lang.String,java.lang.Class]', 'variableName': None, 'classType': None}}, {'allValues': [21.1614, 29.013401, 23.760101, 18.744, 17.7846, 17.4351, 22.5226, 29.5398, 15.837501, 21.540298, 25.1516, 22.8643, 17.3447, 23.396502, 25.810501, 24.3331, 24.459099, 20.440401, 30.591198, 24.4304, 26.461998, 24.0799, 21.1924, 25.545301, 29.1618, 16.3685, 19.8761, 18.1305, 21.277298, 25.348999], 'commit': {'sha': '5c9d8989f968d0ee3a942b411ef7fe121ed94609', 'repository': {'name': 'jabref', 'owner': 'JabRef'}}, 'measurableElement': {'astElem': 'method', 'filePath': '/home/student/j/m/jmaquoi/sentinel/open-source-repositories/jabref/buildSrc/src/copied/java/org/jabref/logic/journals/JournalAbbreviationRepository.java', 'className': 'org.jabref.logic.journals.JournalAbbreviationRepository', 'methodSignature': 'JournalAbbreviationRepository/1[java.nio.file.Path]', 'variableName': None, 'classType': None}}, {'allValues': [188.4992, 172.9418, 198.97441, 165.6653, 185.1326, 195.7456, 178.4779, 267.2394, 208.5954, 191.2206, 235.5638, 189.1372, 187.4187, 180.49591, 178.9725, 206.8135, 212.58209, 174.58849, 180.9513, 193.7457, 195.8026, 196.70589, 173.7897, 176.3171, 188.4566, 177.8848, 155.0605, 185.227, 181.4313, 205.02348], 'commit': {'sha': '5c9d8989f968d0ee3a942b411ef7fe121ed94609', 'repository': {'name': 'jabref', 'owner': 'JabRef'}}, 'measurableElement': {'astElem': 'method', 'filePath': '/home/student/j/m/jmaquoi/sentinel/open-source-repositories/jabref/src/main/java/org/jabref/logic/pdf/search/indexing/DocumentReader.java', 'className': 'org.jabref.logic.pdf.search.indexing.DocumentReader', 'methodSignature': 'addContentIfNotEmpty/3[org.jabref.logic.pdf.search.indexing.PDDocument,org.jabref.logic.pdf.search.indexing.Document,int]', 'variableName': None, 'classType': None}}, {'allValues': [10.2578, 12.7783, 19.3802, 16.482399, 12.0639, 16.9064, 13.0785, 14.7015, 16.2239, 13.6502, 15.9312, 15.0511, 15.401299, 12.3811, 13.8904, 13.1432, 16.4813, 12.5611, 15.805, 17.0467, 6.9832, 15.1015, 11.917, 16.0733, 13.6357, 17.0415, 17.4689, 14.6895, 23.1916, 16.9146], 'commit': {'sha': '5c9d8989f968d0ee3a942b411ef7fe121ed94609', 'repository': {'name': 'jabref', 'owner': 'JabRef'}}, 'measurableElement': {'astElem': 'method', 'filePath': '/home/student/j/m/jmaquoi/sentinel/open-source-repositories/jabref/src/main/java/org/jabref/logic/importer/fileformat/PdfVerbatimBibTextImporter.java', 'className': 'org.jabref.logic.importer.fileformat.PdfVerbatimBibTextImporter', 'methodSignature': 'getFirstPageContents/1[org.jabref.logic.importer.fileformat.PDDocument]', 'variableName': None, 'classType': None}}, {'allValues': [52.7766, 54.2026, 45.7887, 39.3969, 41.9973, 64.4222, 43.6592, 39.5506, 41.4933, 34.2256, 57.2716, 49.3136, 54.4199, 38.8451, 42.4024, 30.3743, 49.966, 47.7574, 57.7182, 65.3522, 53.9558, 38.3482, 36.6948, 41.6358, 36.2647, 52.5594, 47.5721, 49.4328, 41.9197, 62.9284], 'commit': {'sha': '3ed1f1a064a10e53adc2ad8c0b46a4b2c148ee21', 'repository': {'name': 'spring-boot', 'owner': 'spring-projects'}}, 'measurableElement': {'astElem': 'method', 'filePath': '/home/student/j/m/jmaquoi/sentinel/open-source-repositories/spring-boot/spring-boot-project/spring-boot/src/test/java/org/springframework/boot/jdbc/EmbeddedDatabaseConnectionTests.java', 'className': 'org.springframework.boot.jdbc.EmbeddedDatabaseConnectionTests', 'methodSignature': 'isEmbeddedWithH2DataSource/0', 'variableName': None, 'classType': None}}, {'allValues': [32.695198, 35.5943, 39.5483, 44.0764, 45.0919, 42.184097, 40.467697, 40.3507, 51.443203, 45.285202, 39.3644, 37.9097, 20.832102, 24.5266, 33.139, 33.9448, 39.864, 40.82, 32.5785, 41.456, 50.659103, 38.135498, 41.2514, 35.303802, 31.68, 35.2077, 41.3486, 39.6937, 36.3024, 64.1156], 'commit': {'sha': '066f4cf207359e06d30911a553dedd054aef595c', 'repository': {'name': 'spoon', 'owner': 'INRIA'}}, 'measurableElement': {'astElem': 'method', 'filePath': '/home/student/j/m/jmaquoi/sentinel/open-source-repositories/spoon/src/main/java/spoon/support/adaption/TypeAdaptor.java', 'className': 'spoon.support.adaption.TypeAdaptor', 'methodSignature': 'buildDeclarationHierarchyFrom/4[spoon.support.adaption.CtTypeReference<?>,spoon.support.adaption.CtType<?>,java.util.Map<spoon.support.adaption.CtTypeReference<?>,spoon.support.adaption.GlueNode>,java.util.Map<spoon.support.adaption.CtTypeReference<?>,spoon.support.adaption.DeclarationNode>]', 'variableName': None, 'classType': None}}, {'allValues': [5.5826, 14.284201, 5.5914, 14.5322, 16.2611, 14.8431, 10.9192, 15.9386, 14.7062, 13.74, 14.1696, 11.2911, 6.3673, 15.442, 13.159, 12.833099, 13.991501, 13.2293, 14.715599, 14.9383, 14.4196, 13.1757, 15.402, 13.9922, 14.072201, 10.8267, 12.900499, 15.3773, 13.0152, 13.0113], 'commit': {'sha': '3ed1f1a064a10e53adc2ad8c0b46a4b2c148ee21', 'repository': {'name': 'spring-boot', 'owner': 'spring-projects'}}, 'measurableElement': {'astElem': 'method', 'filePath': '/home/student/j/m/jmaquoi/sentinel/open-source-repositories/spring-boot/spring-boot-project/spring-boot/src/test/java/org/springframework/boot/jackson/JsonMixinModuleEntriesBeanRegistrationAotProcessorTests.java', 'className': 'org.springframework.boot.jackson.JsonMixinModuleEntriesBeanRegistrationAotProcessorTests', 'methodSignature': 'processAheadOfTimeWhenPublicClassShouldRegisterClass/0', 'variableName': None, 'classType': None}}, {'allValues': [40.5933, 15.9507, 48.4024, 6.5783, 31.0427, 19.7695, 24.1467, 31.834, 17.4296, 60.807003, 33.7267, 24.410099, 28.018301, 17.4485, 46.7233, 30.8961, 36.8798, 9.1286, 42.9382, 26.4102, 48.98, 27.391, 19.2798, 36.9734, 11.7706, 30.0085, 25.9004, 41.9725, 67.64359, 37.599697], 'commit': {'sha': '12442bd8c7cde6e7c006a6277eeb8e81ad0c2219', 'repository': {'name': 'hibernate-orm', 'owner': 'hibernate'}}, 'measurableElement': {'astElem': 'method', 'filePath': '/home/student/j/m/jmaquoi/sentinel/open-source-repositories/hibernate-orm/hibernate-core/src/main/java/org/hibernate/boot/registry/classloading/internal/AggregatedClassLoader.java', 'className': 'org.hibernate.boot.registry.classloading.internal.AggregatedClassLoader', 'methodSignature': 'findClass/1[java.lang.String]', 'variableName': None, 'classType': None}}, {'allValues': [104.258995, 106.782, 105.0801, 91.6607, 93.9621, 104.3268, 97.3097, 110.6919, 96.2922, 113.2199, 106.6211, 98.7757, 92.5542, 94.4055, 90.966, 82.4212, 89.6111, 97.71921, 97.4402, 117.047195, 114.3917, 104.01759, 88.2087, 101.0553, 93.2793, 111.8563, 112.820595, 111.2415, 113.444695, 94.1346], 'commit': {'sha': '59e5152722198526c6ffe5361de7d1a6a87275c7', 'repository': {'name': 'commons-configuration', 'owner': 'apache'}}, 'measurableElement': {'astElem': 'method', 'filePath': '/home/student/j/m/jmaquoi/sentinel/open-source-repositories/commons-configuration/src/test/java/org/apache/commons/configuration2/DatabaseConfigurationTestHelper.java', 'className': 'org.apache.commons.configuration2.DatabaseConfigurationTestHelper', 'methodSignature': 'setUpDataSource/0', 'variableName': None, 'classType': None}}, {'allValues': [12.8312, 10.834101, 9.5315, 19.501598, 8.1829, 7.8449, 7.8944, 8.4043, 13.3613, 19.416, 11.568701, 18.555, 12.7209, 8.516001, 11.180901, 17.1144, 11.3804, 11.7896, 6.147, 17.4534, 10.269899, 6.3359, 9.669001, 15.2166, 9.2653, 9.3432, 9.1754, 7.5555, 12.5718, 11.7117], 'commit': {'sha': '066f4cf207359e06d30911a553dedd054aef595c', 'repository': {'name': 'spoon', 'owner': 'INRIA'}}, 'measurableElement': {'astElem': 'method', 'filePath': '/home/student/j/m/jmaquoi/sentinel/open-source-repositories/spoon/src/main/java/spoon/reflect/visitor/CtBiScannerDefault.java', 'className': 'spoon.reflect.visitor.CtBiScannerDefault', 'methodSignature': 'visitCtTypeReference/1[spoon.reflect.reference.CtTypeReference<T>]', 'variableName': None, 'classType': None}}, {'allValues': [9.986, 11.2023, 11.5446, 9.7212, 10.0227995, 10.3811, 8.8088, 13.6803, 9.9412, 12.023, 9.979, 8.4389, 10.515, 10.2152, 10.3795, 9.7789, 9.7181, 10.334701, 10.334701, 15.1793, 13.6071, 8.9718, 9.3306, 9.4295, 9.902, 11.8759, 14.471, 10.2729, 13.3544, 10.1097], 'commit': {'sha': '59e5152722198526c6ffe5361de7d1a6a87275c7', 'repository': {'name': 'commons-configuration', 'owner': 'apache'}}, 'measurableElement': {'astElem': 'method', 'filePath': '/home/student/j/m/jmaquoi/sentinel/open-source-repositories/commons-configuration/src/test/java/org/apache/commons/configuration2/TestXMLDocumentHelper.java', 'className': 'org.apache.commons.configuration2.TestXMLDocumentHelper', 'methodSignature': 'testTransformException/0', 'variableName': None, 'classType': None}}, {'allValues': [35.2303, 19.5896, 20.1711, 72.1426, 24.6194, 35.7624, 17.1639, 31.3671, 14.6202, 22.4177, 178.306, 17.34, 22.5085, 23.8157, 57.8868, 33.4342, 6.2394, 6.7894, 25.0543, 48.844, 23.3898, 44.6432, 15.2969, 8.4308, 9.3196, 15.4029, 8.8704, 23.0365, 28.0699, 20.6344], 'commit': {'sha': '3ed1f1a064a10e53adc2ad8c0b46a4b2c148ee21', 'repository': {'name': 'spring-boot', 'owner': 'spring-projects'}}, 'measurableElement': {'astElem': 'method', 'filePath': '/home/student/j/m/jmaquoi/sentinel/open-source-repositories/spring-boot/spring-boot-project/spring-boot/src/test/java/org/springframework/boot/web/reactive/server/AbstractReactiveWebServerFactoryTests.java', 'className': 'org.springframework.boot.web.reactive.server.AbstractReactiveWebServerFactoryTests$BlockingHandler', 'methodSignature': 'awaitQueue/0', 'variableName': None, 'classType': None}}, {'allValues': [9.534599, 3.7349, 7.9778004, 2.3215, 2.6429, 10.0284, 5.0282, 3.38, 4.8896, 6.2414, 7.4793997, 5.9947996, 4.9308, 7.8332996, 4.2824, 7.4129, 5.3203, 10.0867, 7.0476, 1.4418, 12.7085, 3.3305001, 10.1045, 7.8457, 5.0348, 6.1473, 2.3346, 1.7488, 12.5111, 8.8433], 'commit': {'sha': '3ed1f1a064a10e53adc2ad8c0b46a4b2c148ee21', 'repository': {'name': 'spring-boot', 'owner': 'spring-projects'}}, 'measurableElement': {'astElem': 'method', 'filePath': '/home/student/j/m/jmaquoi/sentinel/open-source-repositories/spring-boot/spring-boot-project/spring-boot/src/main/java/org/springframework/boot/context/properties/bind/BindConverter.java', 'className': 'org.springframework.boot.context.properties.bind.BindConverter$TypeConverterConverter', 'methodSignature': 'matches/2[org.springframework.boot.context.properties.bind.TypeDescriptor,org.springframework.boot.context.properties.bind.TypeDescriptor]', 'variableName': None, 'classType': None}}, {'allValues': [21.063599, 26.7025, 30.5068, 37.1521, 18.0911, 30.9292, 18.7987, 17.153, 17.6169, 21.8124, 29.9684, 29.7946, 10.1468, 25.798399, 18.446, 22.5718, 17.5808, 31.6296, 44.9029, 38.1999, 30.1204, 46.1455, 17.1132, 19.756199, 13.4413, 19.5801, 25.4126, 2096.9622, 10.6008005, 13.1996], 'commit': {'sha': '3ed1f1a064a10e53adc2ad8c0b46a4b2c148ee21', 'repository': {'name': 'spring-boot', 'owner': 'spring-projects'}}, 'measurableElement': {'astElem': 'method', 'filePath': '/home/student/j/m/jmaquoi/sentinel/open-source-repositories/spring-boot/spring-boot-project/spring-boot-tools/spring-boot-test-support/src/main/java/org/springframework/boot/testsupport/system/OutputCapture.java', 'className': 'org.springframework.boot.testsupport.system.OutputCapture$OutputStreamCapture', 'methodSignature': 'write/3[byte[],int,int]', 'variableName': None, 'classType': None}}, {'allValues': [4.616, 3.3674, 5.7579, 9.2149, 8.4953, 5.249, 5.4012, 3.5158, 15.4029, 7.8677, 3.2831001, 4.3927, 3.2849, 9.240601, 10.8027, 3.4393, 8.6518, 8.5074, 8.2201, 5.4133, 3.4858, 7.6088, 3.2752, 9.42, 4.4307, 5.4898996, 10.61, 5.8882, 5.7436, 3.0972], 'commit': {'sha': '3ed1f1a064a10e53adc2ad8c0b46a4b2c148ee21', 'repository': {'name': 'spring-boot', 'owner': 'spring-projects'}}, 'measurableElement': {'astElem': 'method', 'filePath': '/home/student/j/m/jmaquoi/sentinel/open-source-repositories/spring-boot/spring-boot-project/spring-boot/src/test/java/org/springframework/boot/SpringApplicationShutdownHookTests.java', 'className': 'org.springframework.boot.SpringApplicationShutdownHookTests', 'methodSignature': 'failsWhenDeregisterActiveContext/0', 'variableName': None, 'classType': None}}, {'allValues': [7.4266, 8.5483, 9.1334, 8.6038, 9.350901, 4.6627, 3.6132, 8.2594, 7.5793, 7.4128, 5.5311, 10.4535, 7.3571, 9.5887, 9.4586, 7.8696, 4.9976, 10.5838, 6.1754, 6.3353, 9.3689, 9.2502, 10.2087, 7.4366, 6.4292, 8.4678, 11.1917, 7.5276, 7.814, 8.4985], 'commit': {'sha': '5c9d8989f968d0ee3a942b411ef7fe121ed94609', 'repository': {'name': 'jabref', 'owner': 'JabRef'}}, 'measurableElement': {'astElem': 'method', 'filePath': '/home/student/j/m/jmaquoi/sentinel/open-source-repositories/jabref/src/main/java/org/jabref/logic/citationstyle/CSLAdapter.java', 'className': 'org.jabref.logic.citationstyle.CSLAdapter', 'methodSignature': 'makeBibliography/5[java.util.List<org.jabref.logic.citationstyle.BibEntry>,java.lang.String,org.jabref.logic.citationstyle.CitationStyleOutputFormat,org.jabref.logic.citationstyle.BibDatabaseContext,org.jabref.logic.citationstyle.BibEntryTypesManager]', 'variableName': None, 'classType': None}}, {'allValues': [24.5533, 57.2498, 43.0567, 35.3217, 67.4906, 25.0656, 39.2175, 43.1566, 69.0918, 50.272, 40.8793, 47.6423, 59.4797, 34.202, 48.3891, 45.0813, 33.0111, 46.7856, 38.8112, 35.6897, 54.918, 48.4085, 39.3349, 40.3443, 46.2935, 44.7226, 50.3725, 44.3313, 37.1283, 39.6799], 'commit': {'sha': '066f4cf207359e06d30911a553dedd054aef595c', 'repository': {'name': 'spoon', 'owner': 'INRIA'}}, 'measurableElement': {'astElem': 'method', 'filePath': '/home/student/j/m/jmaquoi/sentinel/open-source-repositories/spoon/src/main/java/spoon/support/reflect/declaration/CtPackageImpl.java', 'className': 'spoon.support.reflect.declaration.CtPackageImpl', 'methodSignature': 'getQualifiedName/0', 'variableName': None, 'classType': None}}, {'allValues': [16.720901, 12.5197, 14.117, 10.574, 13.9513, 6.5702, 11.851, 11.6749, 11.1683, 11.841001, 11.9905, 7.6581, 9.202499, 11.8622, 15.5536995, 12.5926, 17.2822, 14.367499, 15.530399, 18.4203, 17.0845, 16.2571, 10.564301, 11.8801, 15.1495, 10.2254, 14.6873, 16.5681, 13.8079, 3.4947], 'commit': {'sha': '3ed1f1a064a10e53adc2ad8c0b46a4b2c148ee21', 'repository': {'name': 'spring-boot', 'owner': 'spring-projects'}}, 'measurableElement': {'astElem': 'method', 'filePath': '/home/student/j/m/jmaquoi/sentinel/open-source-repositories/spring-boot/spring-boot-project/spring-boot/src/test/java/org/springframework/boot/logging/log4j2/Log4j2XmlTests.java', 'className': 'org.springframework.boot.logging.log4j2.Log4j2XmlTests', 'methodSignature': 'initializeConfiguration/0', 'variableName': None, 'classType': None}}, {'allValues': [8.5948, 8.6505, 7.095, 5.8093, 2.0004, 6.2036, 4.9792, 15.5491, 6.0226, 3.9816, 3.5764, 9.4634, 3.4229, 3.6606, 1.7553, 4.9013, 1.7546, 8.6044, 6.1745, 6.3473, 8.3283, 1.655, 2.154, 9.7512, 3.3905, 1.7817, 2.2045, 5.3505, 6.2005, 5.353], 'commit': {'sha': '066f4cf207359e06d30911a553dedd054aef595c', 'repository': {'name': 'spoon', 'owner': 'INRIA'}}, 'measurableElement': {'astElem': 'method', 'filePath': '/home/student/j/m/jmaquoi/sentinel/open-source-repositories/spoon/src/main/java/spoon/support/reflect/declaration/CtTypeParameterImpl.java', 'className': 'spoon.support.reflect.declaration.CtTypeParameterImpl', 'methodSignature': 'accept/1[spoon.reflect.visitor.CtVisitor]', 'variableName': None, 'classType': None}}, {'allValues': [27.4686, 39.6021, 35.7322, 20.494299, 24.1249, 36.6004, 41.5053, 41.656002, 22.1608, 42.647003, 37.445198, 38.7581, 32.2973, 36.247498, 38.781002, 32.9202, 23.4946, 33.1208, 28.1816, 29.725698, 34.5668, 43.985497, 38.993103, 56.1999, 47.229397, 38.5697, 30.421299, 42.1638, 30.0091, 36.6461], 'commit': {'sha': '066f4cf207359e06d30911a553dedd054aef595c', 'repository': {'name': 'spoon', 'owner': 'INRIA'}}, 'measurableElement': {'astElem': 'method', 'filePath': '/home/student/j/m/jmaquoi/sentinel/open-source-repositories/spoon/src/main/java/spoon/reflect/visitor/CtScanner.java', 'className': 'spoon.reflect.visitor.CtScanner', 'methodSignature': 'visitCtParameterReference/1[spoon.reflect.reference.CtParameterReference<T>]', 'variableName': None, 'classType': None}}, {'allValues': [3.1826003, 7.4238, 5.4479, 5.2787004, 5.2518, 3.5424, 2.6868, 2.9557, 3.2415, 6.7423, 3.4352002, 5.2936997, 3.6653001, 5.2427, 2.3186, 3.2685, 4.4133, 1.8541999, 4.671, 3.0628, 2.3713999, 8.3252, 4.0086, 3.9854999, 3.6815, 3.6056, 3.0505, 0.7142, 0.1519, 2.4921], 'commit': {'sha': '066f4cf207359e06d30911a553dedd054aef595c', 'repository': {'name': 'spoon', 'owner': 'INRIA'}}, 'measurableElement': {'astElem': 'method', 'filePath': '/home/student/j/m/jmaquoi/sentinel/open-source-repositories/spoon/src/main/java/spoon/reflect/path/impl/AbstractPathElement.java', 'className': 'spoon.reflect.path.impl.AbstractPathElement', 'methodSignature': 'getParamString/0', 'variableName': None, 'classType': None}}, {'allValues': [16.3718, 23.7342, 24.966, 15.2391, 23.9975, 27.4235, 23.9454, 21.1672, 20.366, 23.4302, 27.1096, 23.8015, 29.7293, 26.8779, 22.7169, 22.6013, 15.3802, 22.201, 22.0307, 22.7891, 21.2724, 21.3031, 23.32, 23.8972, 18.2398, 19.5764, 22.3943, 14.8457, 23.2009, 28.4822], 'commit': {'sha': '5c9d8989f968d0ee3a942b411ef7fe121ed94609', 'repository': {'name': 'jabref', 'owner': 'JabRef'}}, 'measurableElement': {'astElem': 'method', 'filePath': '/home/student/j/m/jmaquoi/sentinel/open-source-repositories/jabref/src/test/java/org/jabref/architecture/MainArchitectureTests.java', 'className': 'org.jabref.architecture.MainArchitectureTests', 'methodSignature': 'doNotUseGlazedLists/1[org.jabref.architecture.JavaClasses]', 'variableName': None, 'classType': None}}, {'allValues': [60.9259, 61.7796, 53.6698, 53.8071, 59.1064, 55.9645, 56.707, 58.8378, 56.4947, 59.3578, 49.2901, 57.2426, 53.9012, 56.7335, 50.5996, 62.945, 65.4708, 55.164, 58.8516, 51.3721, 60.6535, 58.7432, 55.8507, 59.2052, 52.1341, 59.8284, 48.0947, 57.2678, 53.0056, 56.755], 'commit': {'sha': '5c9d8989f968d0ee3a942b411ef7fe121ed94609', 'repository': {'name': 'jabref', 'owner': 'JabRef'}}, 'measurableElement': {'astElem': 'method', 'filePath': '/home/student/j/m/jmaquoi/sentinel/open-source-repositories/jabref/src/main/java/org/jabref/logic/net/URLDownload.java', 'className': 'org.jabref.logic.net.URLDownload', 'methodSignature': 'canBeReached/0', 'variableName': None, 'classType': None}}, {'allValues': [2.512, 8.7537, 9.7837, 6.0382, 3.5242, 6.6337, 8.0858, 7.4721, 12.0381, 6.5147, 9.7645, 6.7967, 8.1541, 2.7781, 4.4661, 7.9374, 7.8464, 11.2197, 4.8976, 9.1812, 10.2693, 6.1312, 9.3345, 9.2776, 11.1528, 8.785, 10.9954, 7.5999, 16.5129, 4.3263], 'commit': {'sha': '066f4cf207359e06d30911a553dedd054aef595c', 'repository': {'name': 'spoon', 'owner': 'INRIA'}}, 'measurableElement': {'astElem': 'method', 'filePath': '/home/student/j/m/jmaquoi/sentinel/open-source-repositories/spoon/src/main/java/spoon/reflect/factory/TypeFactory.java', 'className': 'spoon.reflect.factory.TypeFactory', 'methodSignature': 'hasInnerType/1[java.lang.String]', 'variableName': None, 'classType': None}}, {'allValues': [2.8915, 2.7591, 2.7459, 6.8453, 6.2019, 10.1179, 2.4591, 5.9116, 7.1202, 2.6783, 10.4486, 1.4191, 2.5311, 5.658, 5.4972, 3.808, 3.6466, 18.1323, 5.4612, 10.3364, 5.6677, 7.2669, 9.198, 8.425, 5.3514, 2.6205, 3.2497, 2.6884, 4.1636, 3.9465], 'commit': {'sha': '3ed1f1a064a10e53adc2ad8c0b46a4b2c148ee21', 'repository': {'name': 'spring-boot', 'owner': 'spring-projects'}}, 'measurableElement': {'astElem': 'method', 'filePath': '/home/student/j/m/jmaquoi/sentinel/open-source-repositories/spring-boot/spring-boot-project/spring-boot/src/main/java/org/springframework/boot/web/embedded/tomcat/TomcatEmbeddedWebappClassLoader.java', 'className': 'org.springframework.boot.web.embedded.tomcat.TomcatEmbeddedWebappClassLoader', 'methodSignature': 'findClassIgnoringNotFound/1[java.lang.String]', 'variableName': None, 'classType': None}}, {'allValues': [8.457701, 13.8051, 13.396099, 12.5212, 8.007, 10.6486, 11.6509, 6.8697004, 12.865, 13.0699005, 18.3043, 16.0497, 15.588501, 18.323101, 15.7747, 14.6782, 16.634201, 9.6701, 6.7053003, 10.3195, 22.0534, 11.1097, 13.6734, 15.537701, 6.544, 4.1795, 9.0724, 15.7586, 9.7115, 8.622], 'commit': {'sha': '066f4cf207359e06d30911a553dedd054aef595c', 'repository': {'name': 'spoon', 'owner': 'INRIA'}}, 'measurableElement': {'astElem': 'method', 'filePath': '/home/student/j/m/jmaquoi/sentinel/open-source-repositories/spoon/src/main/java/spoon/javadoc/internal/Javadoc.java', 'className': 'spoon.javadoc.internal.Javadoc', 'methodSignature': 'parse/1[java.lang.String]', 'variableName': None, 'classType': None}}, {'allValues': [7.9287, 21.7557, 7.7703, 9.3593, 25.1501, 29.2993, 9.1246, 1.6408, 7.5427, 26.5146, 8.9077, 24.9184, 10.4076, 13.0649, 13.4411, 5.8584, 5.6712, 6.8454, 12.4014, 4.4179, 22.8249, 3.8962, 6.8083, 14.1576, 14.2044, 9.7212, 11.1709, 28.0334, 30.5038, 12.538401], 'commit': {'sha': '12442bd8c7cde6e7c006a6277eeb8e81ad0c2219', 'repository': {'name': 'hibernate-orm', 'owner': 'hibernate'}}, 'measurableElement': {'astElem': 'method', 'filePath': '/home/student/j/m/jmaquoi/sentinel/open-source-repositories/hibernate-orm/hibernate-core/src/main/java/org/hibernate/type/BasicTypeRegistry.java', 'className': 'org.hibernate.type.BasicTypeRegistry', 'methodSignature': 'getRegisteredType/1[java.lang.String]', 'variableName': None, 'classType': None}}, {'allValues': [119.3137, 128.9028, 79.8621, 127.8328, 108.0706, 98.999306, 103.9799, 102.641304, 125.511, 144.9609, 114.3934, 130.0146, 98.607, 112.4805, 92.1623, 80.3142, 119.5954, 93.3537, 115.0626, 104.7941, 107.9536, 99.4674, 104.564896, 119.65009, 100.395996, 117.297, 121.7595, 108.7769, 125.8379, 80.0486], 'commit': {'sha': '066f4cf207359e06d30911a553dedd054aef595c', 'repository': {'name': 'spoon', 'owner': 'INRIA'}}, 'measurableElement': {'astElem': 'method', 'filePath': '/home/student/j/m/jmaquoi/sentinel/open-source-repositories/spoon/src/main/java/spoon/support/reflect/declaration/CtTypeImpl.java', 'className': 'spoon.support.reflect.declaration.CtTypeImpl$1NestedTypeScanner', 'methodSignature': 'visitType/1[spoon.reflect.declaration.CtType<?>]', 'variableName': None, 'classType': None}}, {'allValues': [43.3414, 51.4514, 46.4713, 49.407402, 73.6316, 46.2949, 35.2223, 47.052498, 56.7899, 75.6296, 52.3803, 43.347702, 44.761, 28.2401, 35.5841, 33.501602, 55.5573, 50.4966, 58.1848, 36.0038, 62.3289, 38.6816, 52.849102, 37.4976, 54.552597, 47.3968, 52.127502, 46.6428, 37.8976, 56.841], 'commit': {'sha': '066f4cf207359e06d30911a553dedd054aef595c', 'repository': {'name': 'spoon', 'owner': 'INRIA'}}, 'measurableElement': {'astElem': 'method', 'filePath': '/home/student/j/m/jmaquoi/sentinel/open-source-repositories/spoon/src/main/java/spoon/support/reflect/reference/CtTypeReferenceImpl.java', 'className': 'spoon.support.reflect.reference.CtTypeReferenceImpl', 'methodSignature': 'getClassFromThreadLocalCacheOrLoad/1[spoon.reflect.reference.CtTypeReference<?>]', 'variableName': None, 'classType': None}}, {'allValues': [6.3936, 5.6987, 5.9521, 6.4185, 4.3525, 5.6215, 7.8541, 6.933, 6.0222, 8.4922, 7.2324, 5.8528, 7.8627, 4.8099, 6.3619, 3.8391, 5.5003, 8.4892, 5.3308, 8.5407, 7.5145, 6.3075, 6.9328, 6.0035, 6.4786, 5.7992, 5.5127, 7.0087, 8.6941, 8.1389], 'commit': {'sha': '3ed1f1a064a10e53adc2ad8c0b46a4b2c148ee21', 'repository': {'name': 'spring-boot', 'owner': 'spring-projects'}}, 'measurableElement': {'astElem': 'method', 'filePath': '/home/student/j/m/jmaquoi/sentinel/open-source-repositories/spring-boot/spring-boot-project/spring-boot/src/test/java/org/springframework/boot/context/properties/source/SpringConfigurationPropertySourceTests.java', 'className': 'org.springframework.boot.context.properties.source.SpringConfigurationPropertySourceTests', 'methodSignature': 'createWhenPropertySourceIsNullShouldThrowException/0', 'variableName': None, 'classType': None}}, {'allValues': [107.8972, 83.5591, 108.0236, 90.6905, 111.9412, 100.8494, 106.3276, 103.3087, 90.6076, 108.054, 101.8938, 105.244, 102.7332, 89.9193, 113.1426, 107.1054, 107.9179, 116.7385, 94.0989, 119.6808, 99.2786, 82.5931, 88.1762, 106.5838, 73.2285, 104.4559, 113.904, 129.0252, 121.1472, 99.1062], 'commit': {'sha': '3ed1f1a064a10e53adc2ad8c0b46a4b2c148ee21', 'repository': {'name': 'spring-boot', 'owner': 'spring-projects'}}, 'measurableElement': {'astElem': 'method', 'filePath': '/home/student/j/m/jmaquoi/sentinel/open-source-repositories/spring-boot/spring-boot-project/spring-boot/src/test/java/org/springframework/boot/jdbc/EmbeddedDatabaseConnectionTests.java', 'className': 'org.springframework.boot.jdbc.EmbeddedDatabaseConnectionTests', 'methodSignature': 'isEmbeddedWithDerbyDataSource/0', 'variableName': None, 'classType': None}}, {'allValues': [6.3647003, 4.6979, 23.5303, 7.88, 21.121199, 0.671, 5.8344, 7.7894, 12.642601, 9.424601, 15.3265, 12.0675, 7.6333, 7.229, 6.0813, 45.1586, 6.7207, 9.3979, 4.9177, 21.5321, 19.1785, 4.0481, 10.9442, 12.0864, 7.1286, 10.6964, 8.9963, 5.2949, 13.5075, 6.5129], 'commit': {'sha': '12442bd8c7cde6e7c006a6277eeb8e81ad0c2219', 'repository': {'name': 'hibernate-orm', 'owner': 'hibernate'}}, 'measurableElement': {'astElem': 'method', 'filePath': '/home/student/j/m/jmaquoi/sentinel/open-source-repositories/hibernate-orm/hibernate-core/src/main/java/org/hibernate/event/service/internal/EventListenerRegistryImpl.java', 'className': 'org.hibernate.event.service.internal.EventListenerRegistryImpl$Builder', 'methodSignature': 'buildRegistry/1[java.util.Map<java.lang.String,org.hibernate.event.spi.EventType<?>>]', 'variableName': None, 'classType': None}}, {'allValues': [3.7399, 2.2449, 4.6063, 4.2878, 3.1857, 5.249, 3.2407, 3.5158, 2.2004, 2.3708, 3.1925, 1.0982, 3.2849, 3.4789, 2.3364, 3.4393, 3.2444, 3.1903, 3.5089, 4.5871, 2.3238, 4.8451, 3.4244, 4.3409, 3.323, 3.3214, 1.3263, 3.64, 3.6119, 3.0972], 'commit': {'sha': '3ed1f1a064a10e53adc2ad8c0b46a4b2c148ee21', 'repository': {'name': 'spring-boot', 'owner': 'spring-projects'}}, 'measurableElement': {'astElem': 'method', 'filePath': '/home/student/j/m/jmaquoi/sentinel/open-source-repositories/spring-boot/spring-boot-project/spring-boot/src/test/java/org/springframework/boot/SpringApplicationAotProcessorTests.java', 'className': 'org.springframework.boot.SpringApplicationAotProcessorTests', 'methodSignature': 'processApplicationInvokesRunMethod/1[java.nio.file.Path]', 'variableName': None, 'classType': None}}, {'allValues': [4.8515, 7.1224, 5.2091, 2.1755, 6.4764, 5.7947, 4.3028, 11.4237, 6.1214, 4.8643, 8.2579, 4.4283, 1.9161, 3.5122, 3.5735, 5.0131, 6.3772, 4.3687, 4.5036, 5.4834, 6.4408, 5.9574995, 5.8129997, 6.8122, 3.9328, 3.8348, 6.1675, 3.3666, 4.4618998, 4.7426], 'commit': {'sha': '5c9d8989f968d0ee3a942b411ef7fe121ed94609', 'repository': {'name': 'jabref', 'owner': 'JabRef'}}, 'measurableElement': {'astElem': 'method', 'filePath': '/home/student/j/m/jmaquoi/sentinel/open-source-repositories/jabref/src/main/java/org/jabref/model/pdf/search/SearchResult.java', 'className': 'org.jabref.model.pdf.search.SearchResult', 'methodSignature': 'SearchResult/3[org.jabref.model.pdf.search.IndexSearcher,org.jabref.model.pdf.search.Query,org.jabref.model.pdf.search.ScoreDoc]', 'variableName': None, 'classType': None}}, {'allValues': [181.0151, 248.0991, 178.4615, 172.9383, 202.69249, 168.11241, 179.914, 218.12639, 187.41481, 210.5327, 173.95332, 208.4054, 181.94719, 185.5977, 139.9531, 176.17319, 237.55519, 169.4388, 213.7564, 178.94211, 221.4096, 171.6327, 176.16449, 232.0682, 160.4265, 209.18779, 236.1469, 155.0776, 202.8802, 179.73792], 'commit': {'sha': '066f4cf207359e06d30911a553dedd054aef595c', 'repository': {'name': 'spoon', 'owner': 'INRIA'}}, 'measurableElement': {'astElem': 'method', 'filePath': '/home/student/j/m/jmaquoi/sentinel/open-source-repositories/spoon/src/main/java/spoon/support/SerializationModelStreamer.java', 'className': 'spoon.support.SerializationModelStreamer', 'methodSignature': 'save/2[spoon.support.Factory,java.io.OutputStream]', 'variableName': None, 'classType': None}}, {'allValues': [14.9294, 20.9502, 8.3078, 18.0515, 14.6121, 8.3795, 4.6661, 11.3411, 5.5315, 14.0709, 6.8854, 12.8546, 9.7337, 6.2428, 9.1776, 4.557, 15.9187, 3.3643, 6.4495, 7.0818, 8.433, 8.2081, 6.9826, 20.3038, 8.6622, 8.6091, 5.7289, 8.3893, 6.2642, 11.7884], 'commit': {'sha': '066f4cf207359e06d30911a553dedd054aef595c', 'repository': {'name': 'spoon', 'owner': 'INRIA'}}, 'measurableElement': {'astElem': 'method', 'filePath': '/home/student/j/m/jmaquoi/sentinel/open-source-repositories/spoon/src/main/java/spoon/processing/AbstractProcessor.java', 'className': 'spoon.processing.AbstractProcessor', 'methodSignature': 'addProcessedElementType/1[java.lang.Class<? extends spoon.processing.CtElement>]', 'variableName': None, 'classType': None}}, {'allValues': [3.7444, 2.2008, 3.4601, 3.2385, 4.0407, 1.1372, 2.2788, 2.2788, 2.0541, 3.3085, 1.1635, 3.2888, 3.3519, 1.2109, 2.1987, 3.2832, 2.3446, 1.2185, 2.1005, 3.6102, 3.607, 1.7636, 1.01, 2.3065, 3.4234, 3.3768, 2.3212, 3.9607, 2.4395, 3.408], 'commit': {'sha': '3ed1f1a064a10e53adc2ad8c0b46a4b2c148ee21', 'repository': {'name': 'spring-boot', 'owner': 'spring-projects'}}, 'measurableElement': {'astElem': 'method', 'filePath': '/home/student/j/m/jmaquoi/sentinel/open-source-repositories/spring-boot/spring-boot-project/spring-boot/src/main/java/org/springframework/boot/jackson/JsonMixinModuleEntriesBeanRegistrationAotProcessor.java', 'className': 'org.springframework.boot.jackson.JsonMixinModuleEntriesBeanRegistrationAotProcessor$AotContribution', 'methodSignature': 'generateInstanceSupplierCode/4[org.springframework.boot.jackson.GenerationContext,org.springframework.boot.jackson.BeanRegistrationCode,java.lang.reflect.Executable,boolean]', 'variableName': None, 'classType': None}}, {'allValues': [6.3626003, 14.1749, 4.7764, 9.1911, 8.3088, 8.7383, 17.0354, 7.3721, 6.145, 10.2071, 12.726701, 2.2826, 6.4023, 8.1143, 4.8716, 8.0852, 6.7739, 5.8633, 8.1819, 9.0016, 15.613, 13.5806, 10.0829, 10.8394, 6.2022, 13.0423, 13.3098, 16.3111, 8.0503, 3.2106], 'commit': {'sha': '066f4cf207359e06d30911a553dedd054aef595c', 'repository': {'name': 'spoon', 'owner': 'INRIA'}}, 'measurableElement': {'astElem': 'method', 'filePath': '/home/student/j/m/jmaquoi/sentinel/open-source-repositories/spoon/src/main/java/spoon/reflect/visitor/CtInheritanceScanner.java', 'className': 'spoon.reflect.visitor.CtInheritanceScanner', 'methodSignature': 'visitCtVariableRead/1[spoon.reflect.code.CtVariableRead<T>]', 'variableName': None, 'classType': None}}, {'allValues': [2.574, 9.6744, 11.0194, 10.696899, 10.977699, 5.315, 3.2118, 13.4119005, 5.9798, 3.5391, 2.6323, 6.4111004, 11.7536, 12.753901, 7.6033, 1.6072, 1.5968, 10.8913, 6.0143995, 10.5883, 11.6677, 7.395, 10.619901, 6.3674, 6.2667, 6.5032997, 1.9643, 10.5152, 10.7521, 8.8889], 'commit': {'sha': '066f4cf207359e06d30911a553dedd054aef595c', 'repository': {'name': 'spoon', 'owner': 'INRIA'}}, 'measurableElement': {'astElem': 'method', 'filePath': '/home/student/j/m/jmaquoi/sentinel/open-source-repositories/spoon/src/main/java/spoon/support/reflect/cu/position/SourcePositionImpl.java', 'className': 'spoon.support.reflect.cu.position.SourcePositionImpl', 'methodSignature': 'searchLineNumber/1[int]', 'variableName': None, 'classType': None}}, {'allValues': [21.101, 30.63, 43.9569, 40.502, 41.5589, 35.4264, 39.301, 30.2645, 44.0401, 41.4169, 32.8883, 37.8679, 25.4746, 38.4679, 45.5045, 38.7307, 46.3275, 27.5344, 64.6368, 39.0697, 31.0942, 32.3594, 38.8909, 71.1773, 33.6646, 38.2388, 48.6344, 35.9333, 37.3955, 34.8595], 'commit': {'sha': '066f4cf207359e06d30911a553dedd054aef595c', 'repository': {'name': 'spoon', 'owner': 'INRIA'}}, 'measurableElement': {'astElem': 'method', 'filePath': '/home/student/j/m/jmaquoi/sentinel/open-source-repositories/spoon/src/main/java/spoon/support/reflect/reference/CtTypeReferenceImpl.java', 'className': 'spoon.support.reflect.reference.CtTypeReferenceImpl', 'methodSignature': 'setShadow/1[boolean]', 'variableName': None, 'classType': None}}, {'allValues': [50.9439, 49.6666, 52.5993, 33.9157, 60.1558, 25.6065, 41.1707, 39.6658, 45.6753, 41.8036, 48.3747, 44.905, 32.3004, 31.6984, 36.9316, 36.9429, 52.3353, 47.6114, 29.394, 35.5334, 54.7938, 33.0085, 31.3095, 37.9442, 34.1091, 38.3736, 43.2104, 47.9765, 42.39, 33.7076], 'commit': {'sha': '066f4cf207359e06d30911a553dedd054aef595c', 'repository': {'name': 'spoon', 'owner': 'INRIA'}}, 'measurableElement': {'astElem': 'method', 'filePath': '/home/student/j/m/jmaquoi/sentinel/open-source-repositories/spoon/src/main/java/spoon/support/compiler/jdt/JDTCommentBuilder.java', 'className': 'spoon.support.compiler.jdt.JDTCommentBuilder$1FindCommentParentScanner', 'methodSignature': 'scan/1[spoon.support.compiler.jdt.CtElement]', 'variableName': None, 'classType': None}}, {'allValues': [3.0925, 6.5495, 4.6278, 7.2829, 4.2497, 10.7687, 8.343, 9.3761, 9.8426, 12.4029, 5.7707, 6.8137, 8.0178, 6.5916, 1.4844, 5.7196, 10.3234, 6.536, 8.2734, 9.6979, 6.4778, 3.7992, 9.763, 7.5413, 8.3177, 3.5407, 5.0752, 10.1891, 7.9463, 2.5275], 'commit': {'sha': '3ed1f1a064a10e53adc2ad8c0b46a4b2c148ee21', 'repository': {'name': 'spring-boot', 'owner': 'spring-projects'}}, 'measurableElement': {'astElem': 'method', 'filePath': '/home/student/j/m/jmaquoi/sentinel/open-source-repositories/spring-boot/spring-boot-project/spring-boot/src/test/java/org/springframework/boot/env/OriginTrackedYamlLoaderTests.java', 'className': 'org.springframework.boot.env.OriginTrackedYamlLoaderTests', 'methodSignature': 'processSimpleKey/0', 'variableName': None, 'classType': None}}, {'allValues': [72.4737, 84.4171, 62.3048, 86.3077, 58.2884, 60.3015, 56.2402, 62.9537, 80.6139, 97.3799, 55.2034, 59.8906, 79.8101, 131.9639, 48.2791, 77.6675, 77.648, 103.3601, 62.5563, 62.9176, 90.3658, 64.2649, 64.5183, 76.361, 93.7634, 59.8089, 94.3032, 50.2848, 91.8926, 58.4294], 'commit': {'sha': '12442bd8c7cde6e7c006a6277eeb8e81ad0c2219', 'repository': {'name': 'hibernate-orm', 'owner': 'hibernate'}}, 'measurableElement': {'astElem': 'method', 'filePath': '/home/student/j/m/jmaquoi/sentinel/open-source-repositories/hibernate-orm/hibernate-testing/src/main/java/org/hibernate/testing/junit4/CustomRunner.java', 'className': 'org.hibernate.testing.junit4.CustomRunner', 'methodSignature': 'CustomRunner/1[java.lang.Class<?>]', 'variableName': None, 'classType': None}}, {'allValues': [24.933, 33.4235, 32.3414, 42.4205, 33.7863, 20.739399, 35.0168, 33.718098, 45.2541, 41.4241, 39.438004, 45.644398, 37.3186, 37.9312, 30.2077, 40.6226, 29.2566, 38.1465, 36.4837, 25.7668, 33.9979, 40.5521, 43.0311, 51.2836, 22.7265, 32.7229, 39.316, 36.2384, 28.0379, 36.7796], 'commit': {'sha': '066f4cf207359e06d30911a553dedd054aef595c', 'repository': {'name': 'spoon', 'owner': 'INRIA'}}, 'measurableElement': {'astElem': 'method', 'filePath': '/home/student/j/m/jmaquoi/sentinel/open-source-repositories/spoon/src/main/java/spoon/support/reflect/declaration/CtElementImpl.java', 'className': 'spoon.support.reflect.declaration.CtElementImpl', 'methodSignature': 'setAnnotations/1[java.util.List<spoon.reflect.declaration.CtAnnotation<? extends java.lang.annotation.Annotation>>]', 'variableName': None, 'classType': None}}, {'allValues': [26.6473, 20.4977, 27.2357, 24.5805, 25.1403, 23.0358, 21.7685, 29.0231, 22.1826, 22.2587, 23.6883, 28.9018, 26.4261, 24.6381, 20.3257, 21.5193, 24.6655, 24.146, 24.3497, 21.6496, 26.8704, 22.4243, 19.08, 22.0657, 21.6597, 20.6067, 21.3279, 22.1039, 24.422, 26.1087], 'commit': {'sha': '5c9d8989f968d0ee3a942b411ef7fe121ed94609', 'repository': {'name': 'jabref', 'owner': 'JabRef'}}, 'measurableElement': {'astElem': 'method', 'filePath': '/home/student/j/m/jmaquoi/sentinel/open-source-repositories/jabref/src/test/java/org/jabref/architecture/MainArchitectureTests.java', 'className': 'org.jabref.architecture.MainArchitectureTests', 'methodSignature': 'doNotUseJGoodies/1[org.jabref.architecture.JavaClasses]', 'variableName': None, 'classType': None}}, {'allValues': [82.2191, 61.88791, 63.661198, 28.5131, 97.93059, 97.8679, 67.4002, 70.7724, 65.3926, 58.803894, 45.952404, 91.43291, 74.964905, 79.0869, 65.9229, 89.8512, 118.33799, 86.7976, 80.06989, 86.967094, 91.070206, 69.23509, 94.98411, 80.0969, 71.770706, 76.5358, 68.3136, 73.8668, 86.47579, 91.1007], 'commit': {'sha': '12442bd8c7cde6e7c006a6277eeb8e81ad0c2219', 'repository': {'name': 'hibernate-orm', 'owner': 'hibernate'}}, 'measurableElement': {'astElem': 'method', 'filePath': '/home/student/j/m/jmaquoi/sentinel/open-source-repositories/hibernate-orm/hibernate-core/src/test/java/org/hibernate/orm/test/jdbc/JdbcCoordinatorTest.java', 'className': 'org.hibernate.orm.test.jdbc.JdbcCoordinatorTest', 'methodSignature': 'testConnectionClose/0', 'variableName': None, 'classType': None}}, {'allValues': [76.7753, 65.925804, 35.5754, 58.8004, 40.1401, 60.948902, 45.4335, 55.812702, 98.5771, 55.755, 58.9093, 59.8114, 73.982796, 54.6929, 50.711002, 86.6504, 83.8557, 64.7265, 74.9173, 251.9148, 32.8492, 54.0939, 54.3698, 79.4649, 21.962301, 62.4525, 39.9943, 82.6514, 64.2217, 64.167496], 'commit': {'sha': '12442bd8c7cde6e7c006a6277eeb8e81ad0c2219', 'repository': {'name': 'hibernate-orm', 'owner': 'hibernate'}}, 'measurableElement': {'astElem': 'method', 'filePath': '/home/student/j/m/jmaquoi/sentinel/open-source-repositories/hibernate-orm/hibernate-core/src/main/java/org/hibernate/service/internal/AbstractServiceRegistryImpl.java', 'className': 'org.hibernate.service.internal.AbstractServiceRegistryImpl', 'methodSignature': 'applyInjections/1[R]', 'variableName': None, 'classType': None}}, {'allValues': [15.0273, 14.9737, 12.9417, 13.7869, 13.2459, 11.1511, 9.1, 14.6774, 11.0588, 8.7956, 11.9927, 10.4132, 10.2714, 7.965, 10.6913, 7.1111, 10.1629, 6.4014, 9.9729, 17.2796, 17.529, 12.2664, 9.9587, 8.5047, 9.4765, 8.0075, 9.8905, 12.3253, 13.8492, 12.9599], 'commit': {'sha': '066f4cf207359e06d30911a553dedd054aef595c', 'repository': {'name': 'spoon', 'owner': 'INRIA'}}, 'measurableElement': {'astElem': 'method', 'filePath': '/home/student/j/m/jmaquoi/sentinel/open-source-repositories/spoon/src/main/java/spoon/reflect/factory/CompilationUnitFactory.java', 'className': 'spoon.reflect.factory.CompilationUnitFactory', 'methodSignature': 'getOrCreate/1[java.lang.String]', 'variableName': None, 'classType': None}}, {'allValues': [10.8376, 1.1612, 6.0725, 5.8562, 11.4612, 6.5888, 5.7743, 8.3153, 13.1305, 12.323, 12.7561, 2.7898, 4.9155, 11.897, 9.397, 9.2738, 16.9949, 19.7802, 6.0281, 8.0394, 12.8151, 1.6919, 5.4049, 2.0594, 16.3624, 5.9334, 11.1206, 10.908299, 11.9257, 1.3889], 'commit': {'sha': '3ed1f1a064a10e53adc2ad8c0b46a4b2c148ee21', 'repository': {'name': 'spring-boot', 'owner': 'spring-projects'}}, 'measurableElement': {'astElem': 'method', 'filePath': '/home/student/j/m/jmaquoi/sentinel/open-source-repositories/spring-boot/spring-boot-project/spring-boot/src/main/java/org/springframework/boot/context/properties/bind/DefaultBindConstructorProvider.java', 'className': 'org.springframework.boot.context.properties.bind.DefaultBindConstructorProvider$Constructors', 'methodSignature': 'isInnerClass/1[java.lang.Class<?>]', 'variableName': None, 'classType': None}}, {'allValues': [7.3097, 6.2695, 7.632, 8.96, 14.2541, 4.5551, 4.1047, 11.2991, 8.0372, 13.0189, 9.6174, 4.6056, 7.3444, 11.3367, 4.428, 8.5379, 9.8064, 2.7034, 5.5468, 6.8079996, 10.5017, 8.4358, 8.1366005, 5.3757, 3.3998, 5.8206, 3.5719, 6.8339, 11.813, 3.7064], 'commit': {'sha': '5c9d8989f968d0ee3a942b411ef7fe121ed94609', 'repository': {'name': 'jabref', 'owner': 'JabRef'}}, 'measurableElement': {'astElem': 'method', 'filePath': '/home/student/j/m/jmaquoi/sentinel/open-source-repositories/jabref/src/main/java/org/jabref/logic/pdf/search/indexing/DocumentReader.java', 'className': 'org.jabref.logic.pdf.search.indexing.DocumentReader', 'methodSignature': 'readPdfContents/2[org.jabref.logic.pdf.search.indexing.LinkedFile,java.nio.file.Path]', 'variableName': None, 'classType': None}}, {'allValues': [17.8981, 11.6985, 14.8316, 15.8848, 13.962, 16.3794, 13.3605, 18.475, 13.7102, 18.2656, 10.2441, 14.0782995, 13.8538, 18.9165, 14.6139, 13.7689, 14.312, 13.9497, 3.2769, 13.7937, 18.8631, 14.4674, 17.2682, 14.8706, 13.8388, 15.603499, 16.101501, 15.6064005, 14.300499, 18.9872], 'commit': {'sha': '5c9d8989f968d0ee3a942b411ef7fe121ed94609', 'repository': {'name': 'jabref', 'owner': 'JabRef'}}, 'measurableElement': {'astElem': 'method', 'filePath': '/home/student/j/m/jmaquoi/sentinel/open-source-repositories/jabref/src/main/java/org/jabref/logic/exporter/MSBibExporter.java', 'className': 'org.jabref.logic.exporter.MSBibExporter', 'methodSignature': 'export/3[org.jabref.logic.exporter.BibDatabaseContext,java.nio.file.Path,java.util.List<org.jabref.logic.exporter.BibEntry>]', 'variableName': None, 'classType': None}}, {'allValues': [15.349199, 30.723202, 32.5957, 26.0583, 34.7888, 34.4207, 23.2827, 23.5811, 30.641998, 25.2747, 31.1189, 35.761898, 24.7281, 24.824099, 19.2121, 28.373, 35.6324, 33.8709, 31.6921, 35.3642, 44.431, 26.7408, 30.2272, 32.3342, 30.946201, 24.055801, 35.119198, 33.6696, 19.393501, 38.8252], 'commit': {'sha': '066f4cf207359e06d30911a553dedd054aef595c', 'repository': {'name': 'spoon', 'owner': 'INRIA'}}, 'measurableElement': {'astElem': 'method', 'filePath': '/home/student/j/m/jmaquoi/sentinel/open-source-repositories/spoon/src/main/java/spoon/reflect/visitor/CtScanner.java', 'className': 'spoon.reflect.visitor.CtScanner', 'methodSignature': 'visitCtLocalVariableReference/1[spoon.reflect.reference.CtLocalVariableReference<T>]', 'variableName': None, 'classType': None}}, {'allValues': [16.143799, 29.299398, 9.9239, 10.0074, 24.5112, 14.137501, 14.3453, 14.8973, 24.2151, 10.943, 20.251299, 20.945599, 19.637499, 17.0683, 19.6905, 30.656301, 22.0857, 8.4964, 10.2342, 16.8941, 12.2837, 20.753199, 14.4844, 21.1348, 11.990601, 13.9637, 14.893001, 16.2951, 19.1495, 16.5809], 'commit': {'sha': '066f4cf207359e06d30911a553dedd054aef595c', 'repository': {'name': 'spoon', 'owner': 'INRIA'}}, 'measurableElement': {'astElem': 'method', 'filePath': '/home/student/j/m/jmaquoi/sentinel/open-source-repositories/spoon/src/main/java/spoon/reflect/visitor/CtScanner.java', 'className': 'spoon.reflect.visitor.CtScanner', 'methodSignature': 'visitCtBinaryOperator/1[spoon.reflect.code.CtBinaryOperator<T>]', 'variableName': None, 'classType': None}}, {'allValues': [26.641499, 36.4855, 45.908897, 17.998299, 23.968102, 23.2873, 33.5184, 37.991802, 20.8545, 23.823, 31.6978, 30.478, 32.378, 29.641201, 24.763802, 26.3556, 29.911, 26.3591, 24.796, 26.1469, 27.6804, 53.0343, 41.2619, 37.8104, 36.261, 20.4139, 37.0982, 43.7419, 18.5042, 26.676], 'commit': {'sha': '066f4cf207359e06d30911a553dedd054aef595c', 'repository': {'name': 'spoon', 'owner': 'INRIA'}}, 'measurableElement': {'astElem': 'method', 'filePath': '/home/student/j/m/jmaquoi/sentinel/open-source-repositories/spoon/src/main/java/spoon/support/reflect/declaration/CtNamedElementImpl.java', 'className': 'spoon.support.reflect.declaration.CtNamedElementImpl', 'methodSignature': 'setSimpleName/1[java.lang.String]', 'variableName': None, 'classType': None}}, {'allValues': [125.5765, 132.0271, 129.125, 120.71259, 126.792496, 136.7626, 129.49, 125.6888, 153.47961, 141.1359, 117.895195, 121.4656, 127.3938, 131.17819, 100.049, 110.8282, 128.8669, 127.6323, 122.3546, 114.4708, 138.8263, 131.9178, 140.7955, 128.9881, 131.07999, 120.3554, 123.221504, 119.8884, 120.0307, 126.9534], 'commit': {'sha': '066f4cf207359e06d30911a553dedd054aef595c', 'repository': {'name': 'spoon', 'owner': 'INRIA'}}, 'measurableElement': {'astElem': 'method', 'filePath': '/home/student/j/m/jmaquoi/sentinel/open-source-repositories/spoon/src/main/java/spoon/support/compiler/SpoonPom.java', 'className': 'spoon.support.compiler.SpoonPom', 'methodSignature': 'guessMavenHome/0', 'variableName': None, 'classType': None}}, {'allValues': [26.6372, 21.2242, 31.2481, 27.4324, 34.6006, 34.8862, 17.9384, 21.4436, 20.669798, 30.0532, 22.0269, 26.293098, 22.033, 9.038, 20.088501, 23.1105, 22.6822, 35.9102, 33.5893, 28.6262, 27.262001, 23.515501, 30.687601, 31.231401, 21.3445, 22.4653, 20.8269, 22.4919, 19.5036, 28.4253], 'commit': {'sha': '12442bd8c7cde6e7c006a6277eeb8e81ad0c2219', 'repository': {'name': 'hibernate-orm', 'owner': 'hibernate'}}, 'measurableElement': {'astElem': 'method', 'filePath': '/home/student/j/m/jmaquoi/sentinel/open-source-repositories/hibernate-orm/hibernate-core/src/test/java/org/hibernate/orm/test/bootstrap/scanning/JarVisitorTest.java', 'className': 'org.hibernate.orm.test.bootstrap.scanning.JarVisitorTest', 'methodSignature': 'getBytesFromInputStream/1[java.io.InputStream]', 'variableName': None, 'classType': None}}, {'allValues': [98.2991, 101.9674, 104.1227, 87.8904, 91.2088, 107.9758, 74.8358, 95.6358, 87.9476, 103.5619, 98.4903, 95.8592, 113.9559, 101.65, 132.0299, 104.801, 103.3044, 115.2223, 99.2806, 98.9479, 98.9001, 101.2251, 87.4433, 100.0207, 103.4237, 100.1018, 85.8071, 111.585, 94.1329, 101.7837], 'commit': {'sha': '5c9d8989f968d0ee3a942b411ef7fe121ed94609', 'repository': {'name': 'jabref', 'owner': 'JabRef'}}, 'measurableElement': {'astElem': 'method', 'filePath': '/home/student/j/m/jmaquoi/sentinel/open-source-repositories/jabref/src/main/java/org/jabref/logic/util/strings/StringSimilarity.java', 'className': 'org.jabref.logic.util.strings.StringSimilarity', 'methodSignature': 'editDistanceIgnoreCase/2[java.lang.String,java.lang.String]', 'variableName': None, 'classType': None}}, {'allValues': [43.340797, 43.1687, 51.607704, 58.787, 56.414898, 45.665497, 53.916, 56.263897, 45.501, 57.225197, 54.317802, 52.9765, 54.5402, 57.5721, 64.9049, 47.952, 52.3807, 42.508896, 50.3865, 46.440098, 56.1285, 43.4398, 54.2464, 51.145798, 57.4494, 47.5049, 57.1949, 46.966797, 43.8716, 37.3327], 'commit': {'sha': '5c9d8989f968d0ee3a942b411ef7fe121ed94609', 'repository': {'name': 'jabref', 'owner': 'JabRef'}}, 'measurableElement': {'astElem': 'method', 'filePath': '/home/student/j/m/jmaquoi/sentinel/open-source-repositories/jabref/src/main/java/org/jabref/logic/importer/fileformat/ModsImporter.java', 'className': 'org.jabref.logic.importer.fileformat.ModsImporter', 'methodSignature': 'importDatabase/1[java.io.BufferedReader]', 'variableName': None, 'classType': None}}, {'allValues': [48.7505, 39.8024, 45.2249, 36.4203, 33.8624, 32.9189, 36.6959, 37.5722, 38.8, 21.7511, 40.6494, 37.4529, 31.9003, 41.7989, 39.2087, 41.6125, 39.1249, 28.0543, 47.7745, 51.5974, 31.049, 33.1963, 34.3606, 21.9112, 39.6804, 27.6212, 38.8063, 38.6474, 44.7135, 36.5253], 'commit': {'sha': '3ed1f1a064a10e53adc2ad8c0b46a4b2c148ee21', 'repository': {'name': 'spring-boot', 'owner': 'spring-projects'}}, 'measurableElement': {'astElem': 'method', 'filePath': '/home/student/j/m/jmaquoi/sentinel/open-source-repositories/spring-boot/spring-boot-project/spring-boot/src/main/java/org/springframework/boot/logging/logback/SpringBootJoranConfigurator.java', 'className': 'org.springframework.boot.logging.logback.SpringBootJoranConfigurator', 'methodSignature': 'processModel/1[org.springframework.boot.logging.logback.Model]', 'variableName': None, 'classType': None}}, {'allValues': [124.038506, 127.4431, 161.96759, 143.0338, 158.88199, 140.2164, 124.2806, 139.06999, 155.7808, 154.8436, 124.2821, 132.1824, 141.1456, 120.66829, 139.33578, 138.2987, 147.26309, 145.8987, 145.42668, 167.2092, 134.9335, 132.8708, 128.77339, 148.43689, 149.606, 146.50479, 149.28961, 124.0862, 157.5194, 154.13309], 'commit': {'sha': '3ed1f1a064a10e53adc2ad8c0b46a4b2c148ee21', 'repository': {'name': 'spring-boot', 'owner': 'spring-projects'}}, 'measurableElement': {'astElem': 'method', 'filePath': '/home/student/j/m/jmaquoi/sentinel/open-source-repositories/spring-boot/spring-boot-project/spring-boot/src/test/java/org/springframework/boot/web/client/AbstractClientHttpRequestFactoriesTests.java', 'className': 'org.springframework.boot.web.client.AbstractClientHttpRequestFactoriesTests', 'methodSignature': 'connectWithSslBundle/1[java.lang.String]', 'variableName': None, 'classType': None}}, {'allValues': [4.0076, 4.1163, 1.4603, 4.8314, 3.041, 1.3622, 1.6814, 2.8156, 2.7812, 2.8006, 2.9544, 1.4594, 1.3306, 1.4144, 1.7432, 5.8667, 4.1167, 1.3994, 1.3966, 2.0619, 2.6272, 1.8996, 1.4003, 1.6672, 2.8558, 2.8102, 3.0958, 2.6656, 2.574, 2.792], 'commit': {'sha': '3ed1f1a064a10e53adc2ad8c0b46a4b2c148ee21', 'repository': {'name': 'spring-boot', 'owner': 'spring-projects'}}, 'measurableElement': {'astElem': 'method', 'filePath': '/home/student/j/m/jmaquoi/sentinel/open-source-repositories/spring-boot/spring-boot-project/spring-boot/src/test/java/org/springframework/boot/env/OriginTrackedYamlLoaderTests.java', 'className': 'org.springframework.boot.env.OriginTrackedYamlLoaderTests', 'methodSignature': 'canLoadFilesBiggerThan3Mb/0', 'variableName': None, 'classType': None}}, {'allValues': [2.3868, 3.5415, 1.1947, 3.5428, 1.2918, 3.5429997, 1.2519, 5.1933002, 3.4777, 4.479, 1.2889, 6.4887, 2.5629, 3.3621001, 4.052, 7.9332, 1.2267, 1.2373, 1.2405, 8.141, 4.7895, 2.4798, 2.5974, 5.8531, 2.8197, 1.2744, 4.5386, 4.4271, 5.8086996, 1.3034], 'commit': {'sha': '5c9d8989f968d0ee3a942b411ef7fe121ed94609', 'repository': {'name': 'jabref', 'owner': 'JabRef'}}, 'measurableElement': {'astElem': 'method', 'filePath': '/home/student/j/m/jmaquoi/sentinel/open-source-repositories/jabref/src/test/java/org/jabref/gui/preferences/journals/JournalAbbreviationsViewModelTabTest.java', 'className': 'org.jabref.gui.preferences.journals.JournalAbbreviationsViewModelTabTest', 'methodSignature': 'setUpViewModel/1[java.nio.file.Path]', 'variableName': None, 'classType': None}}, {'allValues': [0.2936, 5.2297, 0.2581, 0.2898, 2.4006, 0.5689, 0.1338, 2.2462, 0.6419, 0.3683, 2.2898, 4.1509, 3.1152, 0.8355, 0.2217, 2.6513, 0.7898, 0.8909, 2.6559, 6.0004, 0.5347, 3.1316, 2.6971, 0.1852, 0.7245, 12.2554, 4.235, 3.7679, 0.6, 5.0587997], 'commit': {'sha': '066f4cf207359e06d30911a553dedd054aef595c', 'repository': {'name': 'spoon', 'owner': 'INRIA'}}, 'measurableElement': {'astElem': 'method', 'filePath': '/home/student/j/m/jmaquoi/sentinel/open-source-repositories/spoon/src/main/java/spoon/support/reflect/declaration/CtElementImpl.java', 'className': 'spoon.support.reflect.declaration.CtElementImpl', 'methodSignature': 'hashCode/0', 'variableName': None, 'classType': None}}, {'allValues': [7.7496, 13.8989, 5.4839, 4.8287, 14.5701, 8.0662, 9.205, 10.1467, 5.5445004, 8.1538, 3.5865002, 7.5841002, 5.9101, 7.3996997, 13.861601, 2.1368, 8.0449, 6.0765, 4.3764, 3.3174, 4.5796, 13.4746, 3.8239, 8.7722, 6.6787, 13.072, 7.8511, 8.7595005, 8.0151005, 8.092999], 'commit': {'sha': '5c9d8989f968d0ee3a942b411ef7fe121ed94609', 'repository': {'name': 'jabref', 'owner': 'JabRef'}}, 'measurableElement': {'astElem': 'method', 'filePath': '/home/student/j/m/jmaquoi/sentinel/open-source-repositories/jabref/src/main/java/org/jabref/model/entry/BibEntryTypesManager.java', 'className': 'org.jabref.model.entry.BibEntryTypesManager', 'methodSignature': 'getAllCustomTypes/1[org.jabref.model.database.BibDatabaseMode]', 'variableName': None, 'classType': None}}, {'allValues': [3.2392, 10.7103, 4.9002, 7.0857, 3.8118, 4.3161, 10.6574, 15.9929, 7.9234, 9.1144, 6.7202, 9.7117, 6.4155, 7.9799, 6.8161, 0.2564, 3.4050999, 5.1511, 5.1381, 9.591499, 7.1505003, 2.4228, 2.233, 6.9132, 8.5087, 3.2266, 12.0918, 2.1625, 10.2823, 3.8600001], 'commit': {'sha': '066f4cf207359e06d30911a553dedd054aef595c', 'repository': {'name': 'spoon', 'owner': 'INRIA'}}, 'measurableElement': {'astElem': 'method', 'filePath': '/home/student/j/m/jmaquoi/sentinel/open-source-repositories/spoon/src/main/java/spoon/compiler/SpoonResourceHelper.java', 'className': 'spoon.compiler.SpoonResourceHelper', 'methodSignature': 'createFolder/1[java.io.File]', 'variableName': None, 'classType': None}}, {'allValues': [7.3141003, 8.626, 3.1834998, 2.797, 6.3542, 8.5985, 4.7036, 9.2166, 3.9376998, 5.0922, 9.6559, 5.6489, 4.5069, 4.5506997, 1.855, 3.4574, 7.5174, 5.9874, 4.8933, 5.7111, 5.0512, 7.362, 4.1131, 3.221, 3.5327, 5.3745003, 4.0444, 3.2239, 3.3514, 1.8792], 'commit': {'sha': '5c9d8989f968d0ee3a942b411ef7fe121ed94609', 'repository': {'name': 'jabref', 'owner': 'JabRef'}}, 'measurableElement': {'astElem': 'method', 'filePath': '/home/student/j/m/jmaquoi/sentinel/open-source-repositories/jabref/src/main/java/org/jabref/logic/git/GitHandler.java', 'className': 'org.jabref.logic.git.GitHandler', 'methodSignature': 'GitHandler/1[java.nio.file.Path]', 'variableName': None, 'classType': None}}, {'allValues': [0.5198, 2.3899, 2.2419002, 0.8775001, 1.8529999, 10.2062, 2.5901003, 7.4012, 0.6972, 0.8978, 2.5389, 3.2854002, 0.4979, 3.0443, 1.7353997, 2.5943, 0.6284, 0.2512, 63.3261, 1.8809999, 1.3591, 1.1034999, 2.6353, 0.9853, 2.1078, 3.1018999, 0.33500004, 0.5673, 0.42289996, 1.7949], 'commit': {'sha': '066f4cf207359e06d30911a553dedd054aef595c', 'repository': {'name': 'spoon', 'owner': 'INRIA'}}, 'measurableElement': {'astElem': 'method', 'filePath': '/home/student/j/m/jmaquoi/sentinel/open-source-repositories/spoon/src/main/java/spoon/reflect/path/CtPathStringBuilder.java', 'className': 'spoon.reflect.path.CtPathStringBuilder', 'methodSignature': 'fromString/1[java.lang.String]', 'variableName': None, 'classType': None}}, {'allValues': [190.48581, 258.8497, 207.4099, 187.1919, 298.9139, 170.9393, 211.2348, 209.09389, 235.9383, 253.4379, 182.21371, 266.7873, 229.144, 159.3057, 198.8394, 204.7068, 229.4646, 198.02731, 4.4915, 211.376, 237.6269, 226.6549, 216.43561, 250.42581, 204.3284, 190.2109, 280.9371, 207.9456, 182.5401, 152.0469], 'commit': {'sha': '066f4cf207359e06d30911a553dedd054aef595c', 'repository': {'name': 'spoon', 'owner': 'INRIA'}}, 'measurableElement': {'astElem': 'method', 'filePath': '/home/student/j/m/jmaquoi/sentinel/open-source-repositories/spoon/src/main/java/spoon/reflect/visitor/CtScanner.java', 'className': 'spoon.reflect.visitor.CtScanner', 'methodSignature': 'scan/2[spoon.reflect.path.CtRole,java.util.Collection<? extends spoon.reflect.declaration.CtElement>]', 'variableName': None, 'classType': None}}, {'allValues': [1170.3405, 1583.9781, 1194.5751, 1069.4365, 1377.9672, 1150.6677, 1237.4557, 1496.8389, 715.28455, 1484.9927, 1197.6499, 1549.0006, 625.61945, 540.8916, 584.6863, 1311.0359, 1334.7386, 559.1649, 619.5451, 1276.4073, 1402.6221, 1264.1588, 1307.0455, 1392.872, 1235.2245, 1133.5173, 1507.9779, 1158.8182, 1372.7244, 669.5206], 'commit': {'sha': '066f4cf207359e06d30911a553dedd054aef595c', 'repository': {'name': 'spoon', 'owner': 'INRIA'}}, 'measurableElement': {'astElem': 'method', 'filePath': '/home/student/j/m/jmaquoi/sentinel/open-source-repositories/spoon/src/main/java/spoon/reflect/visitor/EarlyTerminatingScanner.java', 'className': 'spoon.reflect.visitor.EarlyTerminatingScanner', 'methodSignature': 'doScan/3[spoon.reflect.path.CtRole,spoon.reflect.declaration.CtElement,spoon.reflect.visitor.chain.ScanningMode]', 'variableName': None, 'classType': None}}, {'allValues': [5.4575, 5.7302, 8.3628, 5.3173, 8.3942995, 7.7913, 2.7826, 6.18, 2.3715, 4.2858, 3.0686, 6.2435, 4.3279, 6.225, 3.1556, 6.9537, 4.2389, 2.7703, 3.3681, 6.3522, 1.786, 6.617, 5.3781, 10.6173, 1.8248, 5.849, 2.0897, 8.2286, 3.88, 7.69], 'commit': {'sha': '3ed1f1a064a10e53adc2ad8c0b46a4b2c148ee21', 'repository': {'name': 'spring-boot', 'owner': 'spring-projects'}}, 'measurableElement': {'astElem': 'method', 'filePath': '/home/student/j/m/jmaquoi/sentinel/open-source-repositories/spring-boot/spring-boot-project/spring-boot/src/main/java/org/springframework/boot/reactor/DebugAgentEnvironmentPostProcessor.java', 'className': 'org.springframework.boot.reactor.DebugAgentEnvironmentPostProcessor', 'methodSignature': 'postProcessEnvironment/2[org.springframework.boot.reactor.ConfigurableEnvironment,org.springframework.boot.SpringApplication]', 'variableName': None, 'classType': None}}, {'allValues': [12.3984, 7.5751, 8.4367, 12.2804, 5.8792, 3.7433, 9.5515995, 6.8764, 7.885, 9.3893, 10.8197, 11.9949, 11.7254, 3.0294, 8.3563, 5.2094, 5.682, 2.8953, 5.13, 6.0098, 9.2773, 12.042801, 10.6806, 9.5009, 2.6856, 7.0777, 5.5766, 2.1237, 10.5154, 11.0029], 'commit': {'sha': '3ed1f1a064a10e53adc2ad8c0b46a4b2c148ee21', 'repository': {'name': 'spring-boot', 'owner': 'spring-projects'}}, 'measurableElement': {'astElem': 'method', 'filePath': '/home/student/j/m/jmaquoi/sentinel/open-source-repositories/spring-boot/spring-boot-project/spring-boot/src/test/java/org/springframework/boot/web/servlet/server/AbstractServletWebServerFactoryTests.java', 'className': 'org.springframework.boot.web.servlet.server.AbstractServletWebServerFactoryTests', 'methodSignature': 'startBlocksUntilReadyToServe/0', 'variableName': None, 'classType': None}}, {'allValues': [131.5379, 123.2373, 111.1199, 106.9272, 150.8665, 108.6024, 130.9183, 132.3291, 154.9053, 168.3258, 103.4432, 124.2808, 96.0283, 116.5575, 101.5894, 122.4296, 109.7778, 139.3953, 129.2116, 115.6108, 117.1488, 97.6233, 103.9622, 134.2297, 115.7782, 113.4824, 139.6466, 126.5695, 128.0355, 117.2399], 'commit': {'sha': '066f4cf207359e06d30911a553dedd054aef595c', 'repository': {'name': 'spoon', 'owner': 'INRIA'}}, 'measurableElement': {'astElem': 'method', 'filePath': '/home/student/j/m/jmaquoi/sentinel/open-source-repositories/spoon/src/main/java/spoon/support/util/internal/ElementNameMap.java', 'className': 'spoon.support.util.internal.ElementNameMap', 'methodSignature': 'get/1[java.lang.Object]', 'variableName': None, 'classType': None}}, {'allValues': [1.5529, 2.6407, 15.1697, 2.7229, 1.419, 11.5524, 7.3414, 5.9291, 5.3072, 3.4006, 2.5084, 2.7946, 3.505, 5.2573004, 2.6934, 4.2753, 4.4498, 5.262, 6.8272, 9.4855, 6.9569, 10.291, 3.3748, 4.4743, 5.7401, 4.7538, 1.4185, 7.2233996, 5.1694, 5.1363], 'commit': {'sha': '3ed1f1a064a10e53adc2ad8c0b46a4b2c148ee21', 'repository': {'name': 'spring-boot', 'owner': 'spring-projects'}}, 'measurableElement': {'astElem': 'method', 'filePath': '/home/student/j/m/jmaquoi/sentinel/open-source-repositories/spring-boot/spring-boot-project/spring-boot/src/main/java/org/springframework/boot/SpringApplicationBannerPrinter.java', 'className': 'org.springframework.boot.SpringApplicationBannerPrinter', 'methodSignature': 'getTextBanner/1[org.springframework.boot.Environment]', 'variableName': None, 'classType': None}}, {'allValues': [46.3576, 109.8463, 36.3418, 42.8423, 47.6707, 39.604, 121.9423, 66.7676, 34.4446, 104.4137, 29.5514, 81.6877, 111.716, 138.352, 58.8732, 49.3485, 37.7012, 52.4831, 58.6303, 91.8612, 69.4049, 43.8193, 22.4099, 26.2092, 57.0808, 111.914, 53.0701, 54.5148, 81.8963, 103.1982], 'commit': {'sha': '59e5152722198526c6ffe5361de7d1a6a87275c7', 'repository': {'name': 'commons-configuration', 'owner': 'apache'}}, 'measurableElement': {'astElem': 'method', 'filePath': '/home/student/j/m/jmaquoi/sentinel/open-source-repositories/commons-configuration/src/main/java/org/apache/commons/configuration2/XMLDocumentHelper.java', 'className': 'org.apache.commons.configuration2.XMLDocumentHelper', 'methodSignature': 'transform/3[javax.xml.transform.Transformer,javax.xml.transform.Source,javax.xml.transform.Result]', 'variableName': None, 'classType': None}}, {'allValues': [10.0328, 29.1131, 17.2687, 10.9293, 65.7876, 10.8883, 15.8061, 18.7255, 25.5647, 39.4235, 25.6753, 19.6328, 10.9107, 14.9027, 16.4721, 18.8304, 16.5306, 19.2903, 18.7702, 21.8344, 22.2728, 11.2274, 13.4634, 36.9544, 17.7811, 15.5683, 15.6242, 10.8195, 27.3411, 11.8524], 'commit': {'sha': '066f4cf207359e06d30911a553dedd054aef595c', 'repository': {'name': 'spoon', 'owner': 'INRIA'}}, 'measurableElement': {'astElem': 'method', 'filePath': '/home/student/j/m/jmaquoi/sentinel/open-source-repositories/spoon/src/main/java/spoon/support/compiler/jdt/JDTBatchCompiler.java', 'className': 'spoon.support.compiler.jdt.JDTBatchCompiler', 'methodSignature': 'JDTBatchCompiler/3[spoon.support.compiler.jdt.JDTBasedSpoonCompiler,java.io.OutputStream,java.io.OutputStream]', 'variableName': None, 'classType': None}}, {'allValues': [10.1094, 9.0656, 12.6555, 11.5453005, 3.5204, 2.9563, 11.245999, 9.7597, 8.3229, 7.0343, 7.6065, 22.5921, 11.3367, 5.0879, 6.5648, 6.9853, 15.2778, 9.2488, 8.223, 11.8605, 10.0532, 12.043, 5.9445, 10.8343, 10.606, 7.5541, 10.9349, 5.9671, 7.1293, 10.0369], 'commit': {'sha': '5c9d8989f968d0ee3a942b411ef7fe121ed94609', 'repository': {'name': 'jabref', 'owner': 'JabRef'}}, 'measurableElement': {'astElem': 'method', 'filePath': '/home/student/j/m/jmaquoi/sentinel/open-source-repositories/jabref/src/test/java/org/jabref/logic/layout/format/MarkdownFormatterTest.java', 'className': 'org.jabref.logic.layout.format.MarkdownFormatterTest', 'methodSignature': 'formatWhenFormattingComplexMarkupThenReturnsOnlyOneLine/0', 'variableName': None, 'classType': None}}, {'allValues': [174.1434, 205.2411, 170.0452, 136.9675, 199.201, 172.3874, 206.7015, 187.2166, 236.3192, 205.7955, 147.8438, 228.0232, 166.55669, 173.706, 165.0895, 161.3181, 167.3804, 163.23709, 160.4767, 163.4454, 193.8551, 177.41049, 167.6574, 184.17381, 152.4385, 136.7428, 176.3603, 194.0982, 178.8264, 157.7354], 'commit': {'sha': '066f4cf207359e06d30911a553dedd054aef595c', 'repository': {'name': 'spoon', 'owner': 'INRIA'}}, 'measurableElement': {'astElem': 'method', 'filePath': '/home/student/j/m/jmaquoi/sentinel/open-source-repositories/spoon/src/main/java/spoon/reflect/factory/PackageFactory.java', 'className': 'spoon.reflect.factory.PackageFactory', 'methodSignature': 'get/1[java.lang.String]', 'variableName': None, 'classType': None}}, {'allValues': [6.0774, 6.0463, 4.2617, 2.2092, 6.7943, 1.153, 2.9174, 5.672, 5.6476, 10.1184, 5.0344, 7.8686, 7.8967, 1.8048, 5.4579, 2.9555, 1.3712, 5.8536, 3.0269, 4.7064, 13.7005, 4.7338, 4.2297, 6.7711, 4.8658, 6.9349, 4.4139, 6.4346, 4.2666, 3.2575], 'commit': {'sha': '066f4cf207359e06d30911a553dedd054aef595c', 'repository': {'name': 'spoon', 'owner': 'INRIA'}}, 'measurableElement': {'astElem': 'method', 'filePath': '/home/student/j/m/jmaquoi/sentinel/open-source-repositories/spoon/src/main/java/spoon/support/reflect/declaration/CtMethodImpl.java', 'className': 'spoon.support.reflect.declaration.CtMethodImpl', 'methodSignature': 'setType/1[spoon.reflect.reference.CtTypeReference]', 'variableName': None, 'classType': None}}, {'allValues': [56.5852, 42.357597, 33.3411, 26.2782, 34.7806, 43.4183, 34.8857, 41.9041, 56.5429, 54.1861, 51.0496, 54.818, 52.4703, 49.6589, 34.2326, 54.5342, 35.9752, 53.0767, 38.4528, 59.0346, 42.2039, 34.1201, 51.091, 52.0361, 54.4919, 31.6222, 36.8588, 54.9073, 44.7997, 45.09], 'commit': {'sha': '3ed1f1a064a10e53adc2ad8c0b46a4b2c148ee21', 'repository': {'name': 'spring-boot', 'owner': 'spring-projects'}}, 'measurableElement': {'astElem': 'method', 'filePath': '/home/student/j/m/jmaquoi/sentinel/open-source-repositories/spring-boot/spring-boot-project/spring-boot/src/test/java/org/springframework/boot/context/properties/bind/ValueObjectBinderTests.java', 'className': 'org.springframework.boot.context.properties.bind.ValueObjectBinderTests', 'methodSignature': 'bindToRecordWithDefaultValue/0', 'variableName': None, 'classType': None}}, {'allValues': [8.6134, 12.0068, 8.1176, 8.8506, 6.3035, 8.3198, 5.7865, 5.7319, 8.684, 7.7279, 2.3269, 7.7368, 8.8663, 9.263599, 4.3974, 7.6769, 7.9883, 4.8471, 8.5334, 8.3439, 9.7416, 9.8378, 8.4139, 5.8496, 9.0628, 7.8363, 8.2095, 7.9214, 6.0906, 7.9902], 'commit': {'sha': '3ed1f1a064a10e53adc2ad8c0b46a4b2c148ee21', 'repository': {'name': 'spring-boot', 'owner': 'spring-projects'}}, 'measurableElement': {'astElem': 'method', 'filePath': '/home/student/j/m/jmaquoi/sentinel/open-source-repositories/spring-boot/spring-boot-project/spring-boot/src/main/java/org/springframework/boot/jackson/JsonMixinModuleEntries.java', 'className': 'org.springframework.boot.jackson.JsonMixinModuleEntries', 'methodSignature': 'scan/2[org.springframework.boot.jackson.ApplicationContext,java.util.Collection<java.lang.String>]', 'variableName': None, 'classType': None}}, {'allValues': [58.2369, 87.3112, 21.6768, 118.7804, 43.9819, 37.265, 25.3944, 74.1856, 50.6898, 62.751297, 28.4311, 39.7081, 66.3179, 60.3363, 40.6531, 55.5905, 53.7655, 57.6736, 48.2739, 39.8166, 49.6203, 45.2519, 157.8172, 60.149803, 44.6394, 125.6166, 46.3697, 67.2069, 100.5908, 54.1141], 'commit': {'sha': '12442bd8c7cde6e7c006a6277eeb8e81ad0c2219', 'repository': {'name': 'hibernate-orm', 'owner': 'hibernate'}}, 'measurableElement': {'astElem': 'method', 'filePath': '/home/student/j/m/jmaquoi/sentinel/open-source-repositories/hibernate-orm/hibernate-core/src/main/java/org/hibernate/cfg/Environment.java', 'className': 'org.hibernate.cfg.Environment', 'methodSignature': 'getProperties/0', 'variableName': None, 'classType': None}}, {'allValues': [97.2906, 106.2209, 162.8175, 138.1974, 103.715, 139.9448, 124.0015, 179.4549, 309.5063, 134.7082, 164.2387, 128.2845, 85.8975, 73.987, 104.7629, 57.6821, 110.7597, 120.2256, 54.5546, 78.1393, 125.1704, 197.1112, 83.4897, 118.6011, 91.2653, 132.1764, 81.8436, 95.0584, 63.8866, 50.0716], 'commit': {'sha': '12442bd8c7cde6e7c006a6277eeb8e81ad0c2219', 'repository': {'name': 'hibernate-orm', 'owner': 'hibernate'}}, 'measurableElement': {'astElem': 'method', 'filePath': '/home/student/j/m/jmaquoi/sentinel/open-source-repositories/hibernate-orm/hibernate-core/src/test/java/org/hibernate/orm/test/bootstrap/registry/classloading/IsolatedClassLoader.java', 'className': 'org.hibernate.orm.test.bootstrap.registry.classloading.IsolatedClassLoader', 'methodSignature': 'getResource/1[java.lang.String]', 'variableName': None, 'classType': None}}, {'allValues': [12.9898, 3.8943, 5.9743004, 8.504801, 11.7353, 3.2123, 7.7460003, 12.247601, 9.252, 13.7403, 9.1629, 1.1526, 7.8985004, 11.807899, 3.7930999, 9.6711, 8.7465, 5.1448, 1.2535, 9.1126995, 4.7031, 4.1816, 11.1297, 12.468901, 6.33, 6.0349007, 12.5064, 10.541, 4.7511, 9.2401], 'commit': {'sha': '3ed1f1a064a10e53adc2ad8c0b46a4b2c148ee21', 'repository': {'name': 'spring-boot', 'owner': 'spring-projects'}}, 'measurableElement': {'astElem': 'method', 'filePath': '/home/student/j/m/jmaquoi/sentinel/open-source-repositories/spring-boot/spring-boot-project/spring-boot/src/main/java/org/springframework/boot/web/embedded/tomcat/TomcatServletWebServerFactory.java', 'className': 'org.springframework.boot.web.embedded.tomcat.TomcatServletWebServerFactory', 'methodSignature': 'prepareContext/2[org.springframework.boot.web.embedded.tomcat.Host,org.springframework.boot.web.servlet.ServletContextInitializer[]]', 'variableName': None, 'classType': None}}, {'allValues': [348.1304, 443.9862, 390.4718, 444.4439, 458.8379, 306.5576, 330.5101, 314.1249, 507.2651, 459.3908, 370.6718, 423.6298, 374.627, 1067.9976, 359.4218, 368.4792, 419.9278, 1107.8647, 363.0974, 412.2355, 369.7124, 356.7012, 333.3266, 430.9323, 347.2575, 391.5169, 415.6518, 383.8969, 326.4026, 1063.2701], 'commit': {'sha': '066f4cf207359e06d30911a553dedd054aef595c', 'repository': {'name': 'spoon', 'owner': 'INRIA'}}, 'measurableElement': {'astElem': 'method', 'filePath': '/home/student/j/m/jmaquoi/sentinel/open-source-repositories/spoon/src/main/java/spoon/reflect/visitor/chain/CtQueryImpl.java', 'className': 'spoon.reflect.visitor.chain.CtQueryImpl$Anonymous1', 'methodSignature': 'apply/1[R]', 'variableName': None, 'classType': None}}, {'allValues': [36.5611, 22.1824, 30.043098, 39.9802, 28.0429, 27.7066, 39.071, 45.6507, 53.515, 42.4779, 32.749302, 28.317, 25.630499, 30.4482, 23.5487, 25.2379, 28.5892, 36.4455, 35.961403, 18.9524, 31.4046, 43.0412, 27.418098, 35.5326, 20.699299, 28.0534, 34.0531, 35.906998, 40.6038, 30.7999], 'commit': {'sha': '066f4cf207359e06d30911a553dedd054aef595c', 'repository': {'name': 'spoon', 'owner': 'INRIA'}}, 'measurableElement': {'astElem': 'method', 'filePath': '/home/student/j/m/jmaquoi/sentinel/open-source-repositories/spoon/src/main/java/spoon/reflect/visitor/CtScanner.java', 'className': 'spoon.reflect.visitor.CtScanner', 'methodSignature': 'visitCtFieldReference/1[spoon.reflect.reference.CtFieldReference<T>]', 'variableName': None, 'classType': None}}, {'allValues': [21.0562, 32.4849, 22.9326, 31.2938, 35.2763, 16.7024, 27.7984, 28.4619, 38.2127, 32.4762, 23.9376, 39.7974, 26.1078, 21.9819, 35.2753, 20.460602, 32.2114, 34.0889, 23.0833, 22.9477, 49.7156, 30.5354, 25.5681, 29.2077, 18.2944, 15.0102, 39.1446, 21.981, 36.5258, 41.0651], 'commit': {'sha': '066f4cf207359e06d30911a553dedd054aef595c', 'repository': {'name': 'spoon', 'owner': 'INRIA'}}, 'measurableElement': {'astElem': 'method', 'filePath': '/home/student/j/m/jmaquoi/sentinel/open-source-repositories/spoon/src/main/java/spoon/support/visitor/java/JavaReflectionVisitorImpl.java', 'className': 'spoon.support.visitor.java.JavaReflectionVisitorImpl', 'methodSignature': 'getDeclaredMethods/1[java.lang.Class<T>]', 'variableName': None, 'classType': None}}, {'allValues': [1.691, 3.0925, 8.404, 9.8624, 3.1276, 1.6872, 1.1873, 5.7476, 10.1942005, 13.8272, 7.8069997, 6.1358, 3.0304, 6.7651005, 2.7241, 5.2507, 10.9277, 10.9595, 6.7639, 1.073, 16.3822, 3.8481, 8.3692, 6.6336, 4.4323, 5.1383, 8.0969, 4.7592, 15.5081, 8.1424], 'commit': {'sha': '066f4cf207359e06d30911a553dedd054aef595c', 'repository': {'name': 'spoon', 'owner': 'INRIA'}}, 'measurableElement': {'astElem': 'method', 'filePath': '/home/student/j/m/jmaquoi/sentinel/open-source-repositories/spoon/src/main/java/spoon/reflect/visitor/CtScanner.java', 'className': 'spoon.reflect.visitor.CtScanner', 'methodSignature': 'visitCtTypeParameter/1[spoon.reflect.declaration.CtTypeParameter]', 'variableName': None, 'classType': None}}, {'allValues': [109.749405, 123.503296, 105.668396, 122.218506, 110.789505, 105.7037, 88.0346, 96.5299, 109.9906, 102.5186, 94.9471, 122.4103, 110.3614, 149.202, 100.662506, 96.467896, 108.336395, 130.94489, 96.8728, 142.29599, 117.6544, 117.76, 111.7433, 116.8712, 110.956, 132.6521, 98.000305, 138.413, 101.8049, 114.8927], 'commit': {'sha': '5c9d8989f968d0ee3a942b411ef7fe121ed94609', 'repository': {'name': 'jabref', 'owner': 'JabRef'}}, 'measurableElement': {'astElem': 'method', 'filePath': '/home/student/j/m/jmaquoi/sentinel/open-source-repositories/jabref/src/main/java/org/jabref/logic/database/DuplicateCheck.java', 'className': 'org.jabref.logic.database.DuplicateCheck', 'methodSignature': 'correlateByWords/2[java.lang.String,java.lang.String]', 'variableName': None, 'classType': None}}, {'allValues': [1.843, 2.8565, 5.1938, 3.3163, 6.0752, 7.8758, 3.9647, 4.1967, 7.1371, 5.5832, 2.8662, 13.0237, 4.9312, 3.2814, 9.3705, 2.0894, 3.4965, 5.5222, 27.897, 3.3145, 2.1815, 7.2644, 10.3798, 9.6964, 5.8637, 9.8763, 13.7582, 4.2071, 1.9871, 2.0283], 'commit': {'sha': '066f4cf207359e06d30911a553dedd054aef595c', 'repository': {'name': 'spoon', 'owner': 'INRIA'}}, 'measurableElement': {'astElem': 'method', 'filePath': '/home/student/j/m/jmaquoi/sentinel/open-source-repositories/spoon/src/main/java/spoon/support/reflect/declaration/CtPackageImpl.java', 'className': 'spoon.support.reflect.declaration.CtPackageImpl', 'methodSignature': 'getTypes/0', 'variableName': None, 'classType': None}}, {'allValues': [73.4344, 55.9458, 45.7238, 50.9968, 69.5769, 44.3818, 51.7339, 79.1173, 78.0796, 76.9854, 55.1257, 63.5299, 42.0084, 53.3652, 76.2107, 50.081, 59.6858, 43.763, 56.0263, 56.9591, 47.5912, 57.3078, 58.627, 79.8526, 48.6965, 46.8745, 50.8894, 56.0817, 58.9392, 62.5782], 'commit': {'sha': '066f4cf207359e06d30911a553dedd054aef595c', 'repository': {'name': 'spoon', 'owner': 'INRIA'}}, 'measurableElement': {'astElem': 'method', 'filePath': '/home/student/j/m/jmaquoi/sentinel/open-source-repositories/spoon/src/main/java/spoon/support/reflect/declaration/CtTypeImpl.java', 'className': 'spoon.support.reflect.declaration.CtTypeImpl', 'methodSignature': 'getPackage/0', 'variableName': None, 'classType': None}}, {'allValues': [6.504, 12.5149, 3.4450998, 4.8808002, 2.1241, 5.1033, 7.9807997, 10.3868, 8.080299, 8.4228, 4.8344, 7.2160997, 6.6147995, 1.7192, 2.9211, 5.3267, 4.7151, 4.9932003, 5.8261995, 6.0945, 4.0853, 5.2333, 6.6343, 2.227, 5.0848, 10.4614, 2.3645, 6.7742, 1.7531, 11.1589], 'commit': {'sha': '066f4cf207359e06d30911a553dedd054aef595c', 'repository': {'name': 'spoon', 'owner': 'INRIA'}}, 'measurableElement': {'astElem': 'method', 'filePath': '/home/student/j/m/jmaquoi/sentinel/open-source-repositories/spoon/src/main/java/spoon/support/visitor/clone/CloneBuilder.java', 'className': 'spoon.support.visitor.clone.CloneBuilder', 'methodSignature': 'clone/1[java.util.Set<spoon.support.reflect.CtExtendedModifier>]', 'variableName': None, 'classType': None}}, {'allValues': [12.278399, 12.6413, 3.1507, 10.6882, 11.0152, 13.8155, 9.0321, 10.3333, 11.251101, 12.176701, 10.4441, 2.4787002, 11.3523, 12.7355, 9.0356, 11.8005, 9.6357, 8.8281, 12.238899, 14.1744995, 11.7043, 12.3754, 16.2687, 9.5723, 6.5774, 10.9896, 10.762199, 10.2727, 2.2344, 9.3278], 'commit': {'sha': '3ed1f1a064a10e53adc2ad8c0b46a4b2c148ee21', 'repository': {'name': 'spring-boot', 'owner': 'spring-projects'}}, 'measurableElement': {'astElem': 'method', 'filePath': '/home/student/j/m/jmaquoi/sentinel/open-source-repositories/spring-boot/spring-boot-project/spring-boot/src/test/java/org/springframework/boot/context/properties/ConfigurationPropertiesBeanRegistrationAotProcessorTests.java', 'className': 'org.springframework.boot.context.properties.ConfigurationPropertiesBeanRegistrationAotProcessorTests', 'methodSignature': 'aotContributedInitializerBindsValueObject/0', 'variableName': None, 'classType': None}}, {'allValues': [1575.39, 1430.5515, 1299.4275, 1433.0396, 2003.9261, 1327.9438, 1894.2817, 1955.263, 1440.3873, 1244.1517, 1059.8589, 1489.1499, 1319.8123, 1400.6382, 1873.9391, 1512.5842, 1269.8986, 1382.8318, 1286.9082, 2020.7869, 1448.389, 1187.203, 1155.5602, 1578.9518, 1267.2717, 1439.4619, 1433.7136, 1412.2933, 1363.7822, 1246.595], 'commit': {'sha': '5c9d8989f968d0ee3a942b411ef7fe121ed94609', 'repository': {'name': 'jabref', 'owner': 'JabRef'}}, 'measurableElement': {'astElem': 'method', 'filePath': '/home/student/j/m/jmaquoi/sentinel/open-source-repositories/jabref/src/main/java/org/jabref/logic/net/URLDownload.java', 'className': 'org.jabref.logic.net.URLDownload', 'methodSignature': 'openConnection/0', 'variableName': None, 'classType': None}}, {'allValues': [0.087, 0.1666, 0.1398, 0.0811, 0.0063, 0.1928, 0.0113, 0.1502, 0.2199, 0.1743, 0.2802, 0.2528, 2.0139, 0.3166, 0.1311, 0.1311, 0.1564, 1.0023, 17.9955, 0.0566, 2.1052, 0.8646, 0.1058, 0.0983, 0.1094, 0.1355, 0.0698, 0.1063, 0.1495, 0.0837], 'commit': {'sha': '066f4cf207359e06d30911a553dedd054aef595c', 'repository': {'name': 'spoon', 'owner': 'INRIA'}}, 'measurableElement': {'astElem': 'method', 'filePath': '/home/student/j/m/jmaquoi/sentinel/open-source-repositories/spoon/src/main/java/spoon/reflect/path/CtRole.java', 'className': 'spoon.reflect.path.CtRole', 'methodSignature': 'toString/0', 'variableName': None, 'classType': None}}, {'allValues': [3.657, 3.8836, 4.2446, 0.9309, 4.7655, 5.8711, 5.3080997, 2.9046001, 6.0775003, 2.5461001, 8.0466, 6.5606003, 8.5309, 3.0338, 2.8828, 2.4734, 5.638, 4.4904, 3.8021998, 3.4266999, 7.5768, 7.6481, 5.5899, 4.2946997, 3.5327, 5.3745003, 5.0555, 2.1492, 3.3514, 4.8236], 'commit': {'sha': '5c9d8989f968d0ee3a942b411ef7fe121ed94609', 'repository': {'name': 'jabref', 'owner': 'JabRef'}}, 'measurableElement': {'astElem': 'method', 'filePath': '/home/student/j/m/jmaquoi/sentinel/open-source-repositories/jabref/src/main/java/org/jabref/logic/git/GitHandler.java', 'className': 'org.jabref.logic.git.GitHandler', 'methodSignature': 'createCommitOnCurrentBranch/2[java.lang.String,boolean]', 'variableName': None, 'classType': None}}, {'allValues': [15.6206, 27.5359, 10.1883, 11.914, 15.8872, 12.9308, 22.3682, 11.9082, 19.3736, 9.2864, 22.927, 18.803, 2.3169, 13.4449, 15.4958, 10.1335, 22.1844, 13.1956, 21.448, 20.6732, 13.7605, 11.4014, 19.3929, 7.3421, 15.8097, 11.6853, 13.4661, 24.1265, 15.2574, 14.8678], 'commit': {'sha': '3ed1f1a064a10e53adc2ad8c0b46a4b2c148ee21', 'repository': {'name': 'spring-boot', 'owner': 'spring-projects'}}, 'measurableElement': {'astElem': 'method', 'filePath': '/home/student/j/m/jmaquoi/sentinel/open-source-repositories/spring-boot/spring-boot-project/spring-boot/src/main/java/org/springframework/boot/validation/MessageInterpolatorFactory.java', 'className': 'org.springframework.boot.validation.MessageInterpolatorFactory', 'methodSignature': 'getMessageInterpolator/0', 'variableName': None, 'classType': None}}, {'allValues': [3.1058, 2.6614, 3.7659, 2.89, 5.3619, 2.4931, 2.7503, 3.2826, 3.8955, 3.9754, 3.9926, 2.8999, 4.0562, 3.0109, 4.1879, 2.6677, 2.5969, 3.9154, 4.1731, 3.225, 2.9926, 4.541, 4.1922, 2.9087, 4.0076, 3.9307, 4.3125, 2.7955, 4.4593, 2.7778], 'commit': {'sha': '3ed1f1a064a10e53adc2ad8c0b46a4b2c148ee21', 'repository': {'name': 'spring-boot', 'owner': 'spring-projects'}}, 'measurableElement': {'astElem': 'method', 'filePath': '/home/student/j/m/jmaquoi/sentinel/open-source-repositories/spring-boot/spring-boot-project/spring-boot/src/test/java/org/springframework/boot/SpringApplicationTests.java', 'className': 'org.springframework.boot.SpringApplicationTests$Multicaster', 'methodSignature': 'applicationEventMulticaster/0', 'variableName': None, 'classType': None}}, {'allValues': [2.5199, 2.192, 2.6306, 0.7587, 3.6653, 1.8819, 1.7897, 2.6671, 3.1614, 5.1351, 1.7378, 2.3711, 1.9422, 3.276, 2.6599, 5.7384, 3.4842, 2.7946, 3.4046, 3.1076, 2.5145, 6.1146, 2.0353, 2.8631, 5.9209, 0.322, 0.923, 2.4555, 1.5135, 3.0752], 'commit': {'sha': '12442bd8c7cde6e7c006a6277eeb8e81ad0c2219', 'repository': {'name': 'hibernate-orm', 'owner': 'hibernate'}}, 'measurableElement': {'astElem': 'method', 'filePath': '/home/student/j/m/jmaquoi/sentinel/open-source-repositories/hibernate-orm/hibernate-core/src/test/java/org/hibernate/orm/test/boot/jaxb/mapping/HbmTransformationJaxbTests.java', 'className': 'org.hibernate.orm.test.boot.jaxb.mapping.HbmTransformationJaxbTests', 'methodSignature': 'verifyHbm/3[java.lang.String,org.hibernate.orm.test.boot.jaxb.mapping.ClassLoaderService,org.hibernate.orm.test.boot.jaxb.mapping.ServiceRegistryScope]', 'variableName': None, 'classType': None}}, {'allValues': [225.2544, 177.62689, 136.6362, 182.8941, 243.9455, 238.09239, 201.42142, 195.6048, 216.28929, 160.26721, 212.8877, 207.15039, 268.85577, 204.3462, 181.8789, 215.2957, 235.4573, 199.40791, 139.434, 225.17351, 198.99138, 243.69101, 172.1992, 236.1763, 180.92401, 210.0891, 219.59448, 134.625, 130.1608, 206.92432], 'commit': {'sha': '3ed1f1a064a10e53adc2ad8c0b46a4b2c148ee21', 'repository': {'name': 'spring-boot', 'owner': 'spring-projects'}}, 'measurableElement': {'astElem': 'method', 'filePath': '/home/student/j/m/jmaquoi/sentinel/open-source-repositories/spring-boot/spring-boot-project/spring-boot/src/test/java/org/springframework/boot/web/servlet/ServletComponentScanRegistrarTests.java', 'className': 'org.springframework.boot.web.servlet.ServletComponentScanRegistrarTests', 'methodSignature': 'compile/2[org.springframework.boot.web.servlet.GenericApplicationContext,java.util.function.Consumer<org.springframework.boot.web.servlet.GenericApplicationContext>]', 'variableName': None, 'classType': None}}, {'allValues': [22.8739, 23.2319, 6.9123, 24.1672, 27.5736, 19.4467, 17.5918, 22.5227, 28.5929, 19.5919, 18.1102, 24.3946, 21.7179, 10.4461, 20.3996, 23.5692, 20.0179, 15.9705, 25.4977, 13.6203, 26.0859, 23.5088, 20.3599, 12.0399, 19.2159, 23.1589, 19.6539, 18.0126, 17.7965, 27.4366], 'commit': {'sha': '066f4cf207359e06d30911a553dedd054aef595c', 'repository': {'name': 'spoon', 'owner': 'INRIA'}}, 'measurableElement': {'astElem': 'method', 'filePath': '/home/student/j/m/jmaquoi/sentinel/open-source-repositories/spoon/src/main/java/spoon/support/adaption/TypeAdaptor.java', 'className': 'spoon.support.adaption.TypeAdaptor', 'methodSignature': 'useLegacyTypeAdaption/1[spoon.processing.FactoryAccessor]', 'variableName': None, 'classType': None}}, {'allValues': [7.5996, 22.424099, 22.0395, 19.4563, 15.7203, 16.643, 12.369201, 9.799999, 14.916599, 11.7876, 21.107601, 8.7569, 10.7348995, 26.0415, 11.146101, 25.0971, 3.5825, 15.7816, 18.8801, 7.5326, 22.9467, 15.0452, 13.772699, 8.0662, 7.1396, 14.6546, 15.4354, 14.5749, 12.719001, 14.0129], 'commit': {'sha': '3ed1f1a064a10e53adc2ad8c0b46a4b2c148ee21', 'repository': {'name': 'spring-boot', 'owner': 'spring-projects'}}, 'measurableElement': {'astElem': 'method', 'filePath': '/home/student/j/m/jmaquoi/sentinel/open-source-repositories/spring-boot/spring-boot-project/spring-boot/src/main/java/org/springframework/boot/context/properties/source/ConfigurationPropertyName.java', 'className': 'org.springframework.boot.context.properties.source.ConfigurationPropertyName', 'methodSignature': 'hashCode/0', 'variableName': None, 'classType': None}}, {'allValues': [6.8057, 5.596, 7.1906, 5.3735, 7.0949, 5.74, 8.1464, 7.0941, 5.5056, 5.3143, 5.5748, 6.8773, 5.957, 5.73, 6.8106, 7.0373, 6.867, 6.6616, 5.9047, 6.7356, 6.9827, 5.5062, 6.3789, 5.3558, 6.9903, 6.8422, 6.7989, 8.808, 6.974, 8.4337], 'commit': {'sha': '3ed1f1a064a10e53adc2ad8c0b46a4b2c148ee21', 'repository': {'name': 'spring-boot', 'owner': 'spring-projects'}}, 'measurableElement': {'astElem': 'method', 'filePath': '/home/student/j/m/jmaquoi/sentinel/open-source-repositories/spring-boot/spring-boot-project/spring-boot/src/test/java/org/springframework/boot/EnvironmentConverterTests.java', 'className': 'org.springframework.boot.EnvironmentConverterTests', 'methodSignature': 'convertedEnvironmentHasSameConversionService/0', 'variableName': None, 'classType': None}}, {'allValues': [30.0526, 28.8232, 27.542, 30.3667, 35.5936, 39.5941, 39.3763, 34.775, 30.7404, 29.1061, 40.3997, 50.2338, 30.257, 34.092003, 25.3857, 48.7314, 28.1108, 28.479801, 34.5693, 24.1593, 51.5117, 26.0509, 29.2981, 35.1858, 29.2431, 18.7908, 34.2203, 24.4144, 39.7024, 29.1325], 'commit': {'sha': '066f4cf207359e06d30911a553dedd054aef595c', 'repository': {'name': 'spoon', 'owner': 'INRIA'}}, 'measurableElement': {'astElem': 'method', 'filePath': '/home/student/j/m/jmaquoi/sentinel/open-source-repositories/spoon/src/main/java/spoon/support/compiler/jdt/JDTImportBuilder.java', 'className': 'spoon.support.compiler.jdt.JDTImportBuilder', 'methodSignature': 'loadClass/1[java.lang.String]', 'variableName': None, 'classType': None}}, {'allValues': [324.4667, 319.6152, 261.6414, 287.9847, 364.9052, 276.3988, 330.2696, 348.5787, 388.358, 350.1808, 282.6285, 319.4237, 271.5302, 315.5053, 284.1926, 309.2618, 330.9494, 290.9835, 288.9638, 236.2969, 344.5818, 292.3302, 294.5574, 383.42618, 294.0531, 287.9321, 352.3981, 276.0784, 322.8061, 272.9096], 'commit': {'sha': '066f4cf207359e06d30911a553dedd054aef595c', 'repository': {'name': 'spoon', 'owner': 'INRIA'}}, 'measurableElement': {'astElem': 'method', 'filePath': '/home/student/j/m/jmaquoi/sentinel/open-source-repositories/spoon/src/main/java/spoon/support/visitor/equals/EqualsChecker.java', 'className': 'spoon.support.visitor.equals.EqualsChecker', 'methodSignature': 'scanCtReference/1[spoon.support.visitor.equals.CtReference]', 'variableName': None, 'classType': None}}, {'allValues': [25.6986, 31.9893, 17.5187, 27.7531, 30.557299, 21.984798, 11.887099, 28.9858, 13.6624, 26.216, 11.7963, 25.596, 18.4067, 19.2152, 20.6986, 13.9342, 14.7178, 29.9211, 16.23, 9.653, 17.7468, 13.7416, 22.4186, 27.4869, 17.7981, 25.8859, 17.368, 14.3327, 39.5613, 22.389], 'commit': {'sha': '066f4cf207359e06d30911a553dedd054aef595c', 'repository': {'name': 'spoon', 'owner': 'INRIA'}}, 'measurableElement': {'astElem': 'method', 'filePath': '/home/student/j/m/jmaquoi/sentinel/open-source-repositories/spoon/src/main/java/spoon/support/visitor/equals/EqualsChecker.java', 'className': 'spoon.support.visitor.equals.EqualsChecker', 'methodSignature': 'scanCtStatement/1[spoon.support.visitor.equals.CtStatement]', 'variableName': None, 'classType': None}}, {'allValues': [5.1441, 4.327, 5.1745, 6.0774, 7.729, 5.108, 7.5227003, 6.1802, 7.0679, 9.852, 4.6409, 7.4752, 9.54, 5.8564, 8.7097, 8.1801, 6.2178, 2.6538, 4.8066, 7.3793, 1.5103, 5.1081, 7.6637, 5.7818, 7.4307, 5.0337, 6.6429, 2.3873, 5.5257, 5.3776], 'commit': {'sha': '3ed1f1a064a10e53adc2ad8c0b46a4b2c148ee21', 'repository': {'name': 'spring-boot', 'owner': 'spring-projects'}}, 'measurableElement': {'astElem': 'method', 'filePath': '/home/student/j/m/jmaquoi/sentinel/open-source-repositories/spring-boot/spring-boot-project/spring-boot/src/test/java/org/springframework/boot/context/properties/PropertySourcesDeducerTests.java', 'className': 'org.springframework.boot.context.properties.PropertySourcesDeducerTests', 'methodSignature': 'getPropertySourcesWhenUnavailableThrowsException/0', 'variableName': None, 'classType': None}}, {'allValues': [29.9955, 13.3122, 18.5825, 15.5577, 28.9139, 14.059, 14.9619, 31.4127, 26.5625, 27.0118, 22.5697, 35.2722, 19.7594, 16.5801, 18.0907, 20.4988, 32.5826, 14.7789, 20.6625, 16.0618, 36.3618, 15.3624, 20.7142, 19.5458, 21.5002, 25.1815, 19.6408, 11.5933, 30.6315, 23.5993], 'commit': {'sha': '066f4cf207359e06d30911a553dedd054aef595c', 'repository': {'name': 'spoon', 'owner': 'INRIA'}}, 'measurableElement': {'astElem': 'method', 'filePath': '/home/student/j/m/jmaquoi/sentinel/open-source-repositories/spoon/src/main/java/spoon/reflect/visitor/CtScanner.java', 'className': 'spoon.reflect.visitor.CtScanner', 'methodSignature': 'scan/1[spoon.reflect.declaration.CtElement]', 'variableName': None, 'classType': None}}, {'allValues': [0.45169997, 3.2386003, 0.9171, 0.3428, 0.2604, 10.0914, 0.5036, 2.5737, 2.9462001, 5.3121, 2.7655, 1.4219999, 7.5485, 4.5611, 1.4827001, 0.5905, 1.7845, 2.9265, 0.8131, 0.6486, 1.0122, 0.4687, 1.7463, 0.43190002, 0.37080002, 2.751, 3.6162002, 0.3455, 1.7705001, 0.3662], 'commit': {'sha': '066f4cf207359e06d30911a553dedd054aef595c', 'repository': {'name': 'spoon', 'owner': 'INRIA'}}, 'measurableElement': {'astElem': 'method', 'filePath': '/home/student/j/m/jmaquoi/sentinel/open-source-repositories/spoon/src/main/java/spoon/reflect/path/impl/CtPathImpl.java', 'className': 'spoon.reflect.path.impl.CtPathImpl', 'methodSignature': 'toString/0', 'variableName': None, 'classType': None}}, {'allValues': [22.6039, 26.1238, 36.6242, 19.6724, 34.581, 19.3389, 15.3021, 22.3823, 33.4381, 39.3959, 18.0453, 37.0821, 23.8942, 31.0638, 33.6398, 20.9657, 27.5245, 28.5891, 25.8698, 24.6721, 28.4257, 24.7252, 23.2472, 33.3253, 20.3236, 29.0169, 27.6296, 18.5917, 23.8245, 19.5087], 'commit': {'sha': '066f4cf207359e06d30911a553dedd054aef595c', 'repository': {'name': 'spoon', 'owner': 'INRIA'}}, 'measurableElement': {'astElem': 'method', 'filePath': '/home/student/j/m/jmaquoi/sentinel/open-source-repositories/spoon/src/main/java/spoon/support/compiler/jdt/ReferenceBuilder.java', 'className': 'spoon.support.compiler.jdt.ReferenceBuilder', 'methodSignature': 'getPackageReference/1[spoon.support.compiler.jdt.PackageBinding]', 'variableName': None, 'classType': None}}, {'allValues': [14.3799, 19.1417, 16.601, 18.2512, 23.1027, 11.4504, 19.2691, 9.3273, 12.4996, 14.5553, 12.0816, 11.7346, 13.7568, 15.1299, 12.2327, 16.8599, 12.57, 16.4497, 16.6672, 14.4171, 7.7447, 17.8711, 14.9021, 21.5558, 16.3199, 17.4814, 27.1051, 15.6554, 15.4171, 8.0084], 'commit': {'sha': '3ed1f1a064a10e53adc2ad8c0b46a4b2c148ee21', 'repository': {'name': 'spring-boot', 'owner': 'spring-projects'}}, 'measurableElement': {'astElem': 'method', 'filePath': '/home/student/j/m/jmaquoi/sentinel/open-source-repositories/spring-boot/spring-boot-project/spring-boot/src/main/java/org/springframework/boot/SpringApplication.java', 'className': 'org.springframework.boot.SpringApplication', 'methodSignature': 'getSpringFactoriesInstances/2[java.lang.Class<T>,org.springframework.boot.ArgumentResolver]', 'variableName': None, 'classType': None}}, {'allValues': [54.984203, 38.854298, 59.4259, 41.1486, 46.7812, 34.9215, 65.317505, 45.934402, 56.7363, 64.867096, 50.706497, 53.9739, 44.4857, 48.328102, 44.1985, 54.1489, 44.580303, 46.4724, 55.333, 58.1154, 54.2079, 52.2667, 60.7067, 58.843403, 54.6115, 49.745197, 62.594498, 52.475002, 54.3215, 40.558304], 'commit': {'sha': '5c9d8989f968d0ee3a942b411ef7fe121ed94609', 'repository': {'name': 'jabref', 'owner': 'JabRef'}}, 'measurableElement': {'astElem': 'method', 'filePath': '/home/student/j/m/jmaquoi/sentinel/open-source-repositories/jabref/src/main/java/org/jabref/logic/importer/fileformat/BibTeXMLImporter.java', 'className': 'org.jabref.logic.importer.fileformat.BibTeXMLImporter', 'methodSignature': 'importDatabase/1[java.io.BufferedReader]', 'variableName': None, 'classType': None}}, {'allValues': [37.066902, 43.611, 31.1083, 33.5211, 15.1252, 20.557, 19.8138, 42.040802, 20.747099, 45.8345, 30.873402, 26.8154, 36.2925, 19.8843, 18.3395, 16.269701, 38.5341, 15.9287, 31.2874, 29.7271, 34.5582, 25.4872, 26.3984, 14.6112, 30.3555, 28.6189, 38.4971, 32.9203, 38.7928, 20.2325], 'commit': {'sha': '066f4cf207359e06d30911a553dedd054aef595c', 'repository': {'name': 'spoon', 'owner': 'INRIA'}}, 'measurableElement': {'astElem': 'method', 'filePath': '/home/student/j/m/jmaquoi/sentinel/open-source-repositories/spoon/src/main/java/spoon/reflect/factory/PackageFactory.java', 'className': 'spoon.reflect.factory.PackageFactory', 'methodSignature': 'getOrCreate/2[java.lang.String,spoon.reflect.declaration.CtModule]', 'variableName': None, 'classType': None}}, {'allValues': [71.0768, 81.2211, 73.193405, 51.7024, 91.797104, 76.1171, 71.2593, 92.409, 68.8784, 63.4961, 47.0196, 77.553795, 94.20619, 54.752, 81.2698, 69.9447, 47.198997, 58.1296, 62.6338, 82.7645, 82.2735, 91.07291, 76.5452, 86.6194, 81.6704, 69.0771, 87.8787, 72.6314, 51.0518, 67.668], 'commit': {'sha': '3ed1f1a064a10e53adc2ad8c0b46a4b2c148ee21', 'repository': {'name': 'spring-boot', 'owner': 'spring-projects'}}, 'measurableElement': {'astElem': 'method', 'filePath': '/home/student/j/m/jmaquoi/sentinel/open-source-repositories/spring-boot/spring-boot-project/spring-boot/src/test/java/org/springframework/boot/web/servlet/ServletComponentScanIntegrationTests.java', 'className': 'org.springframework.boot.web.servlet.ServletComponentScanIntegrationTests', 'methodSignature': 'componentsAreRegistered/2[java.lang.String,java.lang.Class<?>]', 'variableName': None, 'classType': None}}, {'allValues': [5.4855003, 5.7508, 4.2447, 2.7926998, 4.7655, 6.8788, 3.7628, 2.402, 5.2504, 2.9652, 4.8279, 3.766, 4.5069, 3.0338, 2.7825, 2.9520001, 5.6379, 4.4904, 2.4466, 4.5688, 5.0512, 3.681, 4.1132, 3.2210999, 5.2992, 6.7181005, 3.0333002, 4.2985, 3.3513, 2.8188], 'commit': {'sha': '5c9d8989f968d0ee3a942b411ef7fe121ed94609', 'repository': {'name': 'jabref', 'owner': 'JabRef'}}, 'measurableElement': {'astElem': 'method', 'filePath': '/home/student/j/m/jmaquoi/sentinel/open-source-repositories/jabref/src/main/java/org/jabref/logic/git/SlrGitHandler.java', 'className': 'org.jabref.logic.git.SlrGitHandler', 'methodSignature': 'calculatePatchOfNewSearchResults/1[java.lang.String]', 'variableName': None, 'classType': None}}, {'allValues': [7.1276, 10.2059, 3.8479, 1.7224, 11.0993, 12.355901, 9.191, 15.8595, 5.6049, 3.7707, 8.513, 6.991, 6.2035003, 1.7573, 2.9061, 7.1256, 7.0153, 6.7117, 5.4969997, 10.3097, 14.1424, 8.4615, 7.3650002, 8.9228, 9.1979, 7.6036005, 9.0522, 5.4046, 1.7998, 11.160299], 'commit': {'sha': '066f4cf207359e06d30911a553dedd054aef595c', 'repository': {'name': 'spoon', 'owner': 'INRIA'}}, 'measurableElement': {'astElem': 'method', 'filePath': '/home/student/j/m/jmaquoi/sentinel/open-source-repositories/spoon/src/main/java/spoon/reflect/visitor/CtInheritanceScanner.java', 'className': 'spoon.reflect.visitor.CtInheritanceScanner', 'methodSignature': 'visitCtInterface/1[spoon.reflect.declaration.CtInterface<T>]', 'variableName': None, 'classType': None}}, {'allValues': [8.8578, 6.4904, 6.3152, 10.851, 9.482, 7.9245996, 7.5227003, 9.9321, 2.4966998, 10.8869, 1.1811, 2.4675, 15.190701, 5.8564, 7.7165003, 2.465, 9.9212, 7.4228, 6.3607, 6.4849, 2.67, 11.439, 5.1091, 9.5817995, 12.526199, 13.6343, 8.8453, 4.7746, 11.8566, 7.8751], 'commit': {'sha': '3ed1f1a064a10e53adc2ad8c0b46a4b2c148ee21', 'repository': {'name': 'spring-boot', 'owner': 'spring-projects'}}, 'measurableElement': {'astElem': 'method', 'filePath': '/home/student/j/m/jmaquoi/sentinel/open-source-repositories/spring-boot/spring-boot-project/spring-boot/src/main/java/org/springframework/boot/context/properties/ConfigurationPropertiesBindingPostProcessor.java', 'className': 'org.springframework.boot.context.properties.ConfigurationPropertiesBindingPostProcessor', 'methodSignature': 'register/1[org.springframework.boot.context.properties.BeanDefinitionRegistry]', 'variableName': None, 'classType': None}}, {'allValues': [10.6758, 14.4461, 12.8245, 12.3328, 19.7979, 5.6352, 7.7991, 8.565001, 11.4181, 7.4834, 2.9758, 2.5, 14.7023, 12.1636, 9.8772, 14.0748, 5.0992, 7.5425, 11.9673, 13.5318, 18.5565, 10.0039, 6.7809, 25.955399, 12.5662, 12.7493, 12.0518, 4.1456003, 9.5159, 10.9772], 'commit': {'sha': '066f4cf207359e06d30911a553dedd054aef595c', 'repository': {'name': 'spoon', 'owner': 'INRIA'}}, 'measurableElement': {'astElem': 'method', 'filePath': '/home/student/j/m/jmaquoi/sentinel/open-source-repositories/spoon/src/main/java/spoon/support/compiler/FileSystemFile.java', 'className': 'spoon.support.compiler.FileSystemFile', 'methodSignature': 'getContent/0', 'variableName': None, 'classType': None}}, {'allValues': [33.9052, 23.8807, 28.2627, 18.2958, 32.9803, 8.3318, 13.2713, 31.5245, 19.0362, 26.1594, 16.1709, 16.9395, 40.451, 16.0789, 20.7173, 25.3311, 27.3193, 19.7045, 16.0179, 40.3253, 11.7966, 17.4588, 13.8422, 20.5247, 34.9563, 16.4647, 38.6189, 13.363, 76.8919, 21.0608], 'commit': {'sha': '12442bd8c7cde6e7c006a6277eeb8e81ad0c2219', 'repository': {'name': 'hibernate-orm', 'owner': 'hibernate'}}, 'measurableElement': {'astElem': 'method', 'filePath': '/home/student/j/m/jmaquoi/sentinel/open-source-repositories/hibernate-orm/hibernate-core/src/main/java/org/hibernate/type/BasicTypeRegistry.java', 'className': 'org.hibernate.type.BasicTypeRegistry', 'methodSignature': 'addPrimeEntry/3[org.hibernate.type.BasicTypeReference<?>,java.lang.String,java.lang.String[]]', 'variableName': None, 'classType': None}}, {'allValues': [558.1541, 553.9798, 538.4272, 483.18658, 601.0668, 599.3443, 496.8546, 585.0155, 536.8803, 550.6255, 549.9766, 554.9307, 562.9973, 584.6742, 582.6034, 616.6856, 605.4341, 529.378, 265.3916, 499.8641, 540.2169, 594.4726, 571.88, 577.2512, 543.6865, 617.5641, 518.4619, 2583.6934, 605.5071, 634.7182], 'commit': {'sha': '3ed1f1a064a10e53adc2ad8c0b46a4b2c148ee21', 'repository': {'name': 'spring-boot', 'owner': 'spring-projects'}}, 'measurableElement': {'astElem': 'method', 'filePath': '/home/student/j/m/jmaquoi/sentinel/open-source-repositories/spring-boot/spring-boot-project/spring-boot/src/main/java/org/springframework/boot/web/embedded/undertow/UndertowWebServer.java', 'className': 'org.springframework.boot.web.embedded.undertow.UndertowWebServer', 'methodSignature': 'start/0', 'variableName': None, 'classType': None}}, {'allValues': [10.4804, 8.5561, 12.935699, 5.457, 10.1378, 10.2474, 9.6569, 3.4585001, 9.149699, 7.7316003, 12.1254, 10.4507, 12.1107, 14.1489, 10.7421, 11.906, 12.009399, 10.020901, 11.2591, 13.955299, 11.596499, 13.5352, 10.2204, 6.821, 9.9665, 8.6646, 9.9373, 11.902201, 10.2494, 11.664301], 'commit': {'sha': '3ed1f1a064a10e53adc2ad8c0b46a4b2c148ee21', 'repository': {'name': 'spring-boot', 'owner': 'spring-projects'}}, 'measurableElement': {'astElem': 'method', 'filePath': '/home/student/j/m/jmaquoi/sentinel/open-source-repositories/spring-boot/spring-boot-project/spring-boot/src/test/java/org/springframework/boot/context/properties/ConfigurationPropertiesBeanRegistrationAotProcessorTests.java', 'className': 'org.springframework.boot.context.properties.ConfigurationPropertiesBeanRegistrationAotProcessorTests', 'methodSignature': 'aotContributedInitializerBindsScannedValueObject/0', 'variableName': None, 'classType': None}}, {'allValues': [125.4578, 187.7617, 145.0521, 110.2401, 158.6581, 111.788895, 158.7953, 127.9594, 163.2884, 171.3569, 137.71361, 159.1271, 148.1123, 154.7286, 137.7333, 130.6519, 127.2375, 154.678, 138.3295, 129.6821, 152.9901, 140.0973, 151.8193, 142.3495, 128.138, 139.40851, 192.6658, 158.5477, 136.9798, 147.90291], 'commit': {'sha': '066f4cf207359e06d30911a553dedd054aef595c', 'repository': {'name': 'spoon', 'owner': 'INRIA'}}, 'measurableElement': {'astElem': 'method', 'filePath': '/home/student/j/m/jmaquoi/sentinel/open-source-repositories/spoon/src/main/java/spoon/support/reflect/reference/CtReferenceImpl.java', 'className': 'spoon.support.reflect.reference.CtReferenceImpl', 'methodSignature': 'setSimpleName/1[java.lang.String]', 'variableName': None, 'classType': None}}, {'allValues': [17.9277, 30.604, 22.4708, 15.8928, 28.9973, 16.6351, 29.6969, 18.3519, 18.6702, 16.2017, 36.7788, 15.1487, 18.7192, 3.8437, 80.523, 18.5087, 11.208, 26.6062, 13.6361, 21.4506, 84.5734, 21.2497, 25.0545, 11.7561, 23.3385, 22.0941, 7.9727, 29.6276, 14.4337, 54.5276], 'commit': {'sha': '5c9d8989f968d0ee3a942b411ef7fe121ed94609', 'repository': {'name': 'jabref', 'owner': 'JabRef'}}, 'measurableElement': {'astElem': 'method', 'filePath': '/home/student/j/m/jmaquoi/sentinel/open-source-repositories/jabref/src/main/java/org/jabref/logic/importer/ImportFormatPreferences.java', 'className': 'org.jabref.logic.importer.ImportFormatPreferences', 'methodSignature': 'getFieldContentFormatterPreferences/0', 'variableName': None, 'classType': None}}, {'allValues': [23.612501, 8.9342, 12.5545, 21.492, 14.1019, 19.2752, 15.7731, 20.1236, 16.94, 16.7339, 24.9523, 12.7443, 16.6753, 18.6274, 15.5495, 17.704, 25.8101, 20.0797, 23.9544, 22.4895, 8.8778, 13.720201, 19.4821, 24.230799, 6.6372, 23.1528, 17.588, 32.9417, 21.5983, 7.609], 'commit': {'sha': '3ed1f1a064a10e53adc2ad8c0b46a4b2c148ee21', 'repository': {'name': 'spring-boot', 'owner': 'spring-projects'}}, 'measurableElement': {'astElem': 'method', 'filePath': '/home/student/j/m/jmaquoi/sentinel/open-source-repositories/spring-boot/spring-boot-project/spring-boot/src/main/java/org/springframework/boot/r2dbc/init/R2dbcScriptDatabaseInitializer.java', 'className': 'org.springframework.boot.r2dbc.init.R2dbcScriptDatabaseInitializer', 'methodSignature': 'runScripts/1[org.springframework.boot.r2dbc.init.Scripts]', 'variableName': None, 'classType': None}}, {'allValues': [23.097002, 28.5914, 13.174601, 11.3559, 17.2262, 12.083101, 7.4744, 17.0142, 18.7615, 19.6631, 17.3394, 32.3482, 6.8457003, 12.441299, 14.804501, 7.615, 23.471199, 6.5091, 14.7154, 21.7692, 16.2084, 11.401401, 7.9864, 16.159199, 5.2224, 14.238699, 18.3166, 10.3813, 16.4898, 11.4258], 'commit': {'sha': '066f4cf207359e06d30911a553dedd054aef595c', 'repository': {'name': 'spoon', 'owner': 'INRIA'}}, 'measurableElement': {'astElem': 'method', 'filePath': '/home/student/j/m/jmaquoi/sentinel/open-source-repositories/spoon/src/main/java/spoon/support/compiler/jdt/ReferenceBuilder.java', 'className': 'spoon.support.compiler.jdt.ReferenceBuilder', 'methodSignature': 'buildTypeReferenceInternal/4[spoon.support.compiler.jdt.CtTypeReference<T>,spoon.support.compiler.jdt.TypeReference,spoon.support.compiler.jdt.Scope,boolean]', 'variableName': None, 'classType': None}}, {'allValues': [9.9021, 12.2119, 5.7084, 6.1455, 10.5197, 8.134, 6.022, 11.448, 10.1057, 7.4127, 9.600599, 7.8402004, 11.0357, 6.8491, 4.7293, 9.1845, 8.1394, 7.0559, 8.6456, 10.136499, 5.8556004, 5.2858, 3.9218001, 8.676001, 11.5726, 8.4677, 9.7927, 8.7822, 6.5116, 11.3314], 'commit': {'sha': '5c9d8989f968d0ee3a942b411ef7fe121ed94609', 'repository': {'name': 'jabref', 'owner': 'JabRef'}}, 'measurableElement': {'astElem': 'method', 'filePath': '/home/student/j/m/jmaquoi/sentinel/open-source-repositories/jabref/src/main/java/org/jabref/logic/citationstyle/CitationStyle.java', 'className': 'org.jabref.logic.citationstyle.CitationStyle', 'methodSignature': 'createCitationStyleFromSource/2[java.lang.String,java.lang.String]', 'variableName': None, 'classType': None}}, {'allValues': [20.511099, 25.5987, 20.3983, 18.7597, 17.4357, 20.6467, 14.8318, 11.5154, 19.0231, 30.8047, 25.9888, 15.433599, 18.024, 25.076302, 16.6043, 24.1949, 10.3671, 13.039801, 34.9641, 14.4573, 20.9155, 12.138599, 14.109499, 15.9615, 3.3219, 12.9337, 13.2497, 12.9494, 17.4694, 16.2628], 'commit': {'sha': '12442bd8c7cde6e7c006a6277eeb8e81ad0c2219', 'repository': {'name': 'hibernate-orm', 'owner': 'hibernate'}}, 'measurableElement': {'astElem': 'method', 'filePath': '/home/student/j/m/jmaquoi/sentinel/open-source-repositories/hibernate-orm/hibernate-core/src/test/java/org/hibernate/orm/test/serialization/TypedValueSerializationTest.java', 'className': 'org.hibernate.orm.test.serialization.TypedValueSerializationTest', 'methodSignature': 'testTypedValueSerialization/0', 'variableName': None, 'classType': None}}, {'allValues': [5.4765, 5.6406, 1.6271, 2.4341, 18.8167, 4.922, 4.9007, 5.6982, 5.8489, 1.3119, 3.4803, 4.2151, 3.2495, 5.2347, 4.577, 4.9399, 5.6147, 6.751, 5.2611, 2.5819, 6.2271, 4.1586, 5.97, 4.1628, 12.0077, 4.9611, 2.0166, 1.3257, 8.1295, 5.9543], 'commit': {'sha': '066f4cf207359e06d30911a553dedd054aef595c', 'repository': {'name': 'spoon', 'owner': 'INRIA'}}, 'measurableElement': {'astElem': 'method', 'filePath': '/home/student/j/m/jmaquoi/sentinel/open-source-repositories/spoon/src/main/java/spoon/support/reflect/code/CtTargetedExpressionImpl.java', 'className': 'spoon.support.reflect.code.CtTargetedExpressionImpl', 'methodSignature': 'setTarget/1[T]', 'variableName': None, 'classType': None}}, {'allValues': [573.588, 673.6693, 963.2731, 805.9467, 1124.925, 658.2188, 869.5438, 844.6231, 993.8377, 990.8451, 854.5537, 788.0005, 903.6259, 1040.3132, 868.0197, 723.0816, 1157.6626, 1817.8381, 922.8974, 2395.7305, 708.4236, 625.8628, 931.7009, 782.5043, 711.8933, 1179.7792, 808.74, 781.3316, 746.8133, 656.0055], 'commit': {'sha': '12442bd8c7cde6e7c006a6277eeb8e81ad0c2219', 'repository': {'name': 'hibernate-orm', 'owner': 'hibernate'}}, 'measurableElement': {'astElem': 'method', 'filePath': '/home/student/j/m/jmaquoi/sentinel/open-source-repositories/hibernate-orm/hibernate-testing/src/main/java/org/hibernate/testing/junit4/BeforeClassCallbackHandler.java', 'className': 'org.hibernate.testing.junit4.BeforeClassCallbackHandler', 'methodSignature': 'evaluate/0', 'variableName': None, 'classType': None}}, {'allValues': [16.707201, 16.5446, 14.717501, 15.9931, 8.8264, 13.6708, 8.1531, 11.4463, 12.9324, 20.3824, 9.4846, 12.2383995, 15.5849, 19.397701, 16.3788, 17.4445, 9.7028, 17.4296, 17.8655, 13.062, 14.077, 12.6559, 12.9294, 9.3943, 12.9608, 12.363199, 10.0241, 14.4183, 14.2866, 12.3664], 'commit': {'sha': '066f4cf207359e06d30911a553dedd054aef595c', 'repository': {'name': 'spoon', 'owner': 'INRIA'}}, 'measurableElement': {'astElem': 'method', 'filePath': '/home/student/j/m/jmaquoi/sentinel/open-source-repositories/spoon/src/main/java/spoon/reflect/visitor/CtBiScannerDefault.java', 'className': 'spoon.reflect.visitor.CtBiScannerDefault', 'methodSignature': 'visitCtExecutableReference/1[spoon.reflect.reference.CtExecutableReference<T>]', 'variableName': None, 'classType': None}}, {'allValues': [103.037796, 66.0532, 38.8318, 30.546, 4.9948, 44.0137, 10.816299, 9.798201, 30.4612, 101.7767, 92.562004, 32.5328, 33.2352, 11.7867, 24.6674, 47.597202, 6.5359, 24.9135, 23.743702, 183.24011, 22.2669, 11.5345, 60.1342, 63.2916, 29.8557, 238.12839, 18.5388, 31.0945, 7.4797, 40.0805], 'commit': {'sha': '12442bd8c7cde6e7c006a6277eeb8e81ad0c2219', 'repository': {'name': 'hibernate-orm', 'owner': 'hibernate'}}, 'measurableElement': {'astElem': 'method', 'filePath': '/home/student/j/m/jmaquoi/sentinel/open-source-repositories/hibernate-orm/hibernate-testing/src/main/java/org/hibernate/testing/junit4/CustomRunner.java', 'className': 'org.hibernate.testing.junit4.CustomRunner', 'methodSignature': 'methodBlock/1[org.hibernate.testing.junit4.FrameworkMethod]', 'variableName': None, 'classType': None}}, {'allValues': [119.673004, 125.5151, 137.54959, 123.971405, 153.23979, 129.8005, 119.758606, 132.0799, 162.2298, 149.0674, 143.0008, 141.0005, 115.9113, 112.085, 125.984406, 121.658195, 121.8945, 112.6119, 115.8768, 140.72351, 131.1951, 98.011696, 101.3956, 117.2669, 125.3519, 109.09, 124.4486, 130.9865, 122.5119, 141.1859], 'commit': {'sha': '066f4cf207359e06d30911a553dedd054aef595c', 'repository': {'name': 'spoon', 'owner': 'INRIA'}}, 'measurableElement': {'astElem': 'method', 'filePath': '/home/student/j/m/jmaquoi/sentinel/open-source-repositories/spoon/src/main/java/spoon/reflect/visitor/CtBiScannerDefault.java', 'className': 'spoon.reflect.visitor.CtBiScannerDefault', 'methodSignature': 'biScan/3[spoon.reflect.path.CtRole,java.util.Collection<? extends spoon.reflect.declaration.CtElement>,java.util.Collection<? extends spoon.reflect.declaration.CtElement>]', 'variableName': None, 'classType': None}}, {'allValues': [9.3901, 6.3155, 10.6961, 9.789101, 8.4521, 4.2576, 3.3523, 3.6984, 4.3604, 8.4815, 4.8644, 19.7496, 11.6133995, 7.5082006, 12.633, 7.4033, 1.8437, 1.7179, 11.0786, 11.371799, 6.2405, 7.0603, 5.2957, 8.8115, 9.6601, 11.0521, 13.5915, 6.6214, 9.6208, 12.0246], 'commit': {'sha': '066f4cf207359e06d30911a553dedd054aef595c', 'repository': {'name': 'spoon', 'owner': 'INRIA'}}, 'measurableElement': {'astElem': 'method', 'filePath': '/home/student/j/m/jmaquoi/sentinel/open-source-repositories/spoon/src/main/java/spoon/reflect/visitor/CtScanner.java', 'className': 'spoon.reflect.visitor.CtScanner', 'methodSignature': 'visitCtArrayTypeReference/1[spoon.reflect.reference.CtArrayTypeReference<T>]', 'variableName': None, 'classType': None}}, {'allValues': [76.2836, 80.458496, 54.8269, 28.435799, 48.5344, 111.7517, 63.1312, 58.5378, 54.5008, 63.278595, 65.6905, 63.840702, 56.9797, 89.6333, 67.6307, 47.4458, 75.024605, 59.2576, 71.1382, 166.47589, 122.6022, 60.3203, 40.0365, 55.4269, 39.3942, 36.8629, 48.5686, 104.6465, 50.391903, 41.4497], 'commit': {'sha': '12442bd8c7cde6e7c006a6277eeb8e81ad0c2219', 'repository': {'name': 'hibernate-orm', 'owner': 'hibernate'}}, 'measurableElement': {'astElem': 'method', 'filePath': '/home/student/j/m/jmaquoi/sentinel/open-source-repositories/hibernate-orm/hibernate-core/src/test/java/org/hibernate/bytecode/spi/ByteCodeHelper.java', 'className': 'org.hibernate.bytecode.spi.ByteCodeHelper', 'methodSignature': 'readByteCode/1[java.io.InputStream]', 'variableName': None, 'classType': None}}, {'allValues': [10.0291, 13.329, 17.6871, 8.3251, 10.2913, 11.7698, 20.9022, 10.8358, 17.7549, 9.998, 15.2888, 13.0271, 16.8892, 12.5179, 16.2977, 8.6439, 25.8202, 22.8782, 12.1272, 25.6992, 6.8988, 17.5521, 37.1135, 20.1427, 11.8743, 20.9356, 19.1736, 11.3304, 12.8389, 16.8096], 'commit': {'sha': '3ed1f1a064a10e53adc2ad8c0b46a4b2c148ee21', 'repository': {'name': 'spring-boot', 'owner': 'spring-projects'}}, 'measurableElement': {'astElem': 'method', 'filePath': '/home/student/j/m/jmaquoi/sentinel/open-source-repositories/spring-boot/spring-boot-project/spring-boot-tools/spring-boot-test-support/src/main/java/org/springframework/boot/testsupport/classpath/ModifiedClassPathClassLoader.java', 'className': 'org.springframework.boot.testsupport.classpath.ModifiedClassPathClassLoader', 'methodSignature': 'toURL/1[java.lang.String]', 'variableName': None, 'classType': None}}, {'allValues': [84.8567, 45.9535, 40.7698, 65.6244, 93.5691, 38.6047, 54.0138, 74.283, 45.3847, 36.01, 117.3226, 38.5138, 42.2084, 53.411, 99.0356, 53.7583, 49.1049, 50.864, 92.1523, 105.3108, 56.1171, 39.001, 35.211, 89.8795, 40.3314, 38.6972, 94.2786, 42.8257, 148.87761, 59.5551], 'commit': {'sha': '5c9d8989f968d0ee3a942b411ef7fe121ed94609', 'repository': {'name': 'jabref', 'owner': 'JabRef'}}, 'measurableElement': {'astElem': 'method', 'filePath': '/home/student/j/m/jmaquoi/sentinel/open-source-repositories/jabref/src/main/java/org/jabref/logic/remote/shared/Protocol.java', 'className': 'org.jabref.logic.remote.shared.Protocol', 'methodSignature': 'receiveMessage/0', 'variableName': None, 'classType': None}}, {'allValues': [11.0508995, 14.1019, 15.8193, 20.2045, 12.7994, 10.8398, 19.993, 13.0130005, 11.8898, 10.049, 12.962, 36.1473, 14.7376995, 15.4823, 18.6003, 7.8584995, 18.333302, 16.1854, 15.2712, 18.6381, 21.5424, 16.4223, 19.0225, 18.9599, 22.7272, 15.987599, 8.5284, 13.2675, 11.09, 18.819199], 'commit': {'sha': '5c9d8989f968d0ee3a942b411ef7fe121ed94609', 'repository': {'name': 'jabref', 'owner': 'JabRef'}}, 'measurableElement': {'astElem': 'method', 'filePath': '/home/student/j/m/jmaquoi/sentinel/open-source-repositories/jabref/src/test/java/org/jabref/logic/layout/format/MarkdownFormatterTest.java', 'className': 'org.jabref.logic.layout.format.MarkdownFormatterTest', 'methodSignature': 'formatWhenFormattingNullThenThrowsException/0', 'variableName': None, 'classType': None}}, {'allValues': [25.0971, 28.581, 23.7467, 11.5897, 38.0446, 18.9099, 25.7436, 25.1013, 29.749, 27.2771, 13.523, 37.0821, 42.6436, 30.6845, 29.5085, 26.1725, 32.7827, 34.7293, 18.8389, 29.3286, 30.0529, 25.6477, 21.5788, 32.6106, 29.3613, 30.691, 27.3628, 30.6763, 34.0499, 41.4146], 'commit': {'sha': '066f4cf207359e06d30911a553dedd054aef595c', 'repository': {'name': 'spoon', 'owner': 'INRIA'}}, 'measurableElement': {'astElem': 'method', 'filePath': '/home/student/j/m/jmaquoi/sentinel/open-source-repositories/spoon/src/main/java/spoon/support/reflect/declaration/CtElementImpl.java', 'className': 'spoon.support.reflect.declaration.CtElementImpl', 'methodSignature': 'setImplicit/1[boolean]', 'variableName': None, 'classType': None}}, {'allValues': [40.8213, 40.3188, 44.3043, 42.0847, 52.7863, 40.5106, 35.3851, 47.684, 30.371601, 43.3425, 53.3996, 45.7784, 44.3125, 40.5232, 38.7209, 35.7737, 34.5741, 41.7563, 38.7197, 41.5614, 45.8378, 41.0136, 37.3496, 32.614502, 48.9865, 39.4785, 38.6121, 37.1901, 44.5531, 42.4395], 'commit': {'sha': '5c9d8989f968d0ee3a942b411ef7fe121ed94609', 'repository': {'name': 'jabref', 'owner': 'JabRef'}}, 'measurableElement': {'astElem': 'method', 'filePath': '/home/student/j/m/jmaquoi/sentinel/open-source-repositories/jabref/src/main/java/org/jabref/gui/icon/InternalMaterialDesignIcon.java', 'className': 'org.jabref.gui.icon.InternalMaterialDesignIcon', 'methodSignature': 'getGraphicNode/0', 'variableName': None, 'classType': None}}, {'allValues': [2981.417, 2957.1667, 2683.9915, 1764.4629, 3555.471, 3201.142, 3147.2742, 2796.0986, 2616.6526, 2288.5437, 2976.7598, 2594.4324, 2770.2283, 3486.0376, 3056.3044, 2779.6047, 2829.6106, 2666.91, 2609.8335, 3446.871, 2545.9795, 3007.505, 2997.7263, 5561.4336, 2683.4707, 3167.668, 2765.2046, 2506.042, 2962.4363, 2875.0962], 'commit': {'sha': '12442bd8c7cde6e7c006a6277eeb8e81ad0c2219', 'repository': {'name': 'hibernate-orm', 'owner': 'hibernate'}}, 'measurableElement': {'astElem': 'method', 'filePath': '/home/student/j/m/jmaquoi/sentinel/open-source-repositories/hibernate-orm/hibernate-testing/src/main/java/org/hibernate/testing/junit4/FailureExpectedHandler.java', 'className': 'org.hibernate.testing.junit4.FailureExpectedHandler', 'methodSignature': 'evaluate/0', 'variableName': None, 'classType': None}}, {'allValues': [22.9495, 24.8175, 22.9976, 19.5743, 33.1267, 23.9004, 14.0031, 19.348, 17.3061, 14.7702, 21.3799, 24.3226, 21.4661, 23.0484, 19.435, 9.7182, 22.849, 17.5896, 17.668, 11.838, 23.2056, 18.0701, 28.6777, 13.7288, 34.2038, 24.5179, 30.7108, 31.8717, 29.0045, 31.3729], 'commit': {'sha': '3ed1f1a064a10e53adc2ad8c0b46a4b2c148ee21', 'repository': {'name': 'spring-boot', 'owner': 'spring-projects'}}, 'measurableElement': {'astElem': 'method', 'filePath': '/home/student/j/m/jmaquoi/sentinel/open-source-repositories/spring-boot/spring-boot-project/spring-boot/src/main/java/org/springframework/boot/web/embedded/jetty/JettyEmbeddedWebAppContext.java', 'className': 'org.springframework.boot.web.embedded.jetty.JettyEmbeddedWebAppContext$JettyEmbeddedServletHandler', 'methodSignature': 'deferredInitialize/0', 'variableName': None, 'classType': None}}, {'allValues': [20.1426, 36.0589, 35.9793, 23.4715, 31.3122, 26.2175, 27.6874, 40.6014, 18.5884, 21.1566, 30.492, 33.9624, 19.1094, 32.6517, 26.9081, 24.2076, 32.0056, 29.6958, 25.5549, 24.7979, 26.8262, 23.3829, 15.7991, 25.8075, 20.1393, 13.2116, 42.3859, 21.2487, 24.2806, 30.2648], 'commit': {'sha': '066f4cf207359e06d30911a553dedd054aef595c', 'repository': {'name': 'spoon', 'owner': 'INRIA'}}, 'measurableElement': {'astElem': 'method', 'filePath': '/home/student/j/m/jmaquoi/sentinel/open-source-repositories/spoon/src/main/java/spoon/support/visitor/java/JavaReflectionVisitorImpl.java', 'className': 'spoon.support.visitor.java.JavaReflectionVisitorImpl', 'methodSignature': 'isTopLevelType/1[java.lang.Class<?>]', 'variableName': None, 'classType': None}}, {'allValues': [35.1017, 30.4903, 27.5322, 25.3256, 29.3968, 20.7797, 29.1274, 19.2346, 32.7991, 36.4909, 25.0557, 23.7971, 42.7365, 18.138, 17.1889, 31.4676, 20.9632, 22.727299, 31.6671, 25.9648, 36.5726, 29.0046, 25.2888, 36.0218, 31.9223, 26.4134, 36.6851, 37.0599, 22.0519, 21.7266], 'commit': {'sha': '3ed1f1a064a10e53adc2ad8c0b46a4b2c148ee21', 'repository': {'name': 'spring-boot', 'owner': 'spring-projects'}}, 'measurableElement': {'astElem': 'method', 'filePath': '/home/student/j/m/jmaquoi/sentinel/open-source-repositories/spring-boot/spring-boot-project/spring-boot/src/main/java/org/springframework/boot/logging/LoggingSystemFactory.java', 'className': 'org.springframework.boot.logging.LoggingSystemFactory', 'methodSignature': 'fromSpringFactories/0', 'variableName': None, 'classType': None}}, {'allValues': [7.081, 17.3124, 10.061, 23.804, 12.886, 32.6826, 34.6109, 9.6495, 1.6636, 23.7734, 16.5776, 38.9047, 16.787, 15.5185, 6.4191, 34.5663, 14.1072, 15.4511, 65.4942, 21.6258, 27.8026, 10.5631, 30.3511, 13.5447, 18.904, 20.5654, 23.601, 26.2966, 13.5546, 32.844], 'commit': {'sha': '12442bd8c7cde6e7c006a6277eeb8e81ad0c2219', 'repository': {'name': 'hibernate-orm', 'owner': 'hibernate'}}, 'measurableElement': {'astElem': 'method', 'filePath': '/home/student/j/m/jmaquoi/sentinel/open-source-repositories/hibernate-orm/hibernate-testing/src/main/java/org/hibernate/testing/junit4/CustomRunner.java', 'className': 'org.hibernate.testing.junit4.CustomRunner', 'methodSignature': 'getTestInstance/0', 'variableName': None, 'classType': None}}, {'allValues': [25.0703, 104.3038, 29.4099, 38.8626, 32.5653, 31.0099, 85.2171, 105.8963, 35.1456, 34.3465, 22.0269, 132.6074, 63.4071, 71.7733, 3472.8716, 56.9883, 136.5458, 48.481, 33.5893, 62.8611, 167.6578, 50.3393, 44.2278, 37.088, 111.3448, 113.0654, 65.1989, 109.8358, 105.795, 79.8903], 'commit': {'sha': '12442bd8c7cde6e7c006a6277eeb8e81ad0c2219', 'repository': {'name': 'hibernate-orm', 'owner': 'hibernate'}}, 'measurableElement': {'astElem': 'method', 'filePath': '/home/student/j/m/jmaquoi/sentinel/open-source-repositories/hibernate-orm/hibernate-core/src/main/java/org/hibernate/boot/archive/internal/JarInputStreamBasedArchiveDescriptor.java', 'className': 'org.hibernate.boot.archive.internal.JarInputStreamBasedArchiveDescriptor', 'methodSignature': 'visitArchive/1[org.hibernate.boot.archive.spi.ArchiveContext]', 'variableName': None, 'classType': None}}, {'allValues': [10.1201, 11.0366, 9.1679, 9.1244, 8.5154, 8.6949, 8.4747, 9.8477, 9.1056, 9.3447, 11.7974, 11.8773, 9.8064, 11.6923, 9.019, 10.9688, 10.1911, 8.1547, 10.9341, 9.5962, 8.0355, 7.2902, 6.7226, 5.9229, 7.5962, 3.9979, 13.751, 10.5669, 10.4757, 8.0154], 'commit': {'sha': '3ed1f1a064a10e53adc2ad8c0b46a4b2c148ee21', 'repository': {'name': 'spring-boot', 'owner': 'spring-projects'}}, 'measurableElement': {'astElem': 'method', 'filePath': '/home/student/j/m/jmaquoi/sentinel/open-source-repositories/spring-boot/spring-boot-project/spring-boot/src/test/java/org/springframework/boot/SpringApplicationTests.java', 'className': 'org.springframework.boot.SpringApplicationTests', 'methodSignature': 'customBanner/1[org.springframework.boot.CapturedOutput]', 'variableName': None, 'classType': None}}, {'allValues': [6.0996, 1.8343, 10.746, 3.6951, 1.985, 1.6205, 3.7799, 3.6223, 3.3012, 5.4452, 7.3156, 2.317, 9.5017, 7.5415, 3.9228, 6.907, 6.7991, 4.7493, 3.6623, 2.3341, 2.3187, 4.8162, 3.7454, 5.7236, 1.9533, 4.6944, 1.7644, 6.2266, 4.4603, 3.9173], 'commit': {'sha': '3ed1f1a064a10e53adc2ad8c0b46a4b2c148ee21', 'repository': {'name': 'spring-boot', 'owner': 'spring-projects'}}, 'measurableElement': {'astElem': 'method', 'filePath': '/home/student/j/m/jmaquoi/sentinel/open-source-repositories/spring-boot/spring-boot-project/spring-boot/src/test/java/org/springframework/boot/rsocket/netty/NettyRSocketServerFactoryTests.java', 'className': 'org.springframework.boot.rsocket.netty.NettyRSocketServerFactoryTests', 'methodSignature': 'tcpTransportSslRejectsInsecureClient/0', 'variableName': None, 'classType': None}}, {'allValues': [1314.1196, 1463.0065, 1429.4508, 1326.3589, 1449.1948, 1364.1112, 1402.1996, 1491.5957, 1416.063, 956.8462, 1449.6779, 1349.7046, 1336.2509, 1403.9375, 1340.0729, 1368.0, 1347.5773, 1432.2888, 270.62857, 1665.6019, 1439.7091, 1385.5524, 1441.1012, 1374.055, 1441.459, 1492.871, 1341.1598, 11776.072, 1495.7566, 1402.123], 'commit': {'sha': '3ed1f1a064a10e53adc2ad8c0b46a4b2c148ee21', 'repository': {'name': 'spring-boot', 'owner': 'spring-projects'}}, 'measurableElement': {'astElem': 'method', 'filePath': '/home/student/j/m/jmaquoi/sentinel/open-source-repositories/spring-boot/spring-boot-project/spring-boot/src/main/java/org/springframework/boot/web/servlet/server/StaticResourceJars.java', 'className': 'org.springframework.boot.web.servlet.server.StaticResourceJars', 'methodSignature': 'isResourcesJar/1[java.util.jar.JarFile]', 'variableName': None, 'classType': None}}, {'allValues': [17.3568, 26.8521, 68.0978, 20.1971, 11.633599, 8.642, 17.3407, 23.318998, 51.1021, 15.4697, 23.4638, 28.5298, 38.6729, 32.0516, 15.486, 19.4113, 29.2328, 26.9182, 20.5348, 20.6574, 10.9489, 18.1621, 19.0309, 22.5207, 10.6152, 19.414701, 17.7222, 6.4115, 31.482601, 36.4064], 'commit': {'sha': '12442bd8c7cde6e7c006a6277eeb8e81ad0c2219', 'repository': {'name': 'hibernate-orm', 'owner': 'hibernate'}}, 'measurableElement': {'astElem': 'method', 'filePath': '/home/student/j/m/jmaquoi/sentinel/open-source-repositories/hibernate-orm/hibernate-core/src/main/java/org/hibernate/engine/jdbc/connections/internal/DriverManagerConnectionProviderImpl.java', 'className': 'org.hibernate.engine.jdbc.connections.internal.DriverManagerConnectionProviderImpl$PooledConnections', 'methodSignature': 'releaseConnection/1[java.sql.Connection]', 'variableName': None, 'classType': None}}, {'allValues': [16.603, 36.0144, 12.7297, 21.7675, 24.94, 19.8534, 15.4506, 18.9519, 16.0782, 20.0125, 14.6251, 28.4858, 17.7615, 21.7224, 17.537, 18.0144, 19.9771, 18.3543, 19.2273, 20.7866, 18.5902, 19.0808, 18.1068, 17.868, 20.9317, 17.3591, 13.6811, 30.3064, 18.4035, 23.2276], 'commit': {'sha': '066f4cf207359e06d30911a553dedd054aef595c', 'repository': {'name': 'spoon', 'owner': 'INRIA'}}, 'measurableElement': {'astElem': 'method', 'filePath': '/home/student/j/m/jmaquoi/sentinel/open-source-repositories/spoon/src/main/java/spoon/support/compiler/jdt/TreeBuilderCompiler.java', 'className': 'spoon.support.compiler.jdt.TreeBuilderCompiler', 'methodSignature': 'TreeBuilderCompiler/9[spoon.support.compiler.jdt.INameEnvironment,spoon.support.compiler.jdt.IErrorHandlingPolicy,spoon.support.compiler.jdt.CompilerOptions,spoon.support.compiler.jdt.ICompilerRequestor,spoon.support.compiler.jdt.IProblemFactory,java.io.PrintWriter,boolean,spoon.support.Level,spoon.support.compiler.jdt.CompilationProgress]', 'variableName': None, 'classType': None}}, {'allValues': [23.6761, 26.687, 35.123, 24.3009, 40.2181, 34.608, 28.3924, 29.2659, 25.7162, 26.1525, 25.499, 42.2098, 29.1111, 22.2191, 32.2445, 28.6726, 22.805, 24.1793, 24.8579, 30.5767, 39.53, 42.5742, 31.6922, 21.9841, 38.8835, 24.9196, 31.05, 22.3063, 23.6969, 35.1791], 'commit': {'sha': '3ed1f1a064a10e53adc2ad8c0b46a4b2c148ee21', 'repository': {'name': 'spring-boot', 'owner': 'spring-projects'}}, 'measurableElement': {'astElem': 'method', 'filePath': '/home/student/j/m/jmaquoi/sentinel/open-source-repositories/spring-boot/spring-boot-project/spring-boot/src/test/java/org/springframework/boot/liquibase/LiquibaseChangelogMissingFailureAnalyzerTests.java', 'className': 'org.springframework.boot.liquibase.LiquibaseChangelogMissingFailureAnalyzerTests', 'methodSignature': 'createFailure/0', 'variableName': None, 'classType': None}}, {'allValues': [42.9159, 31.060299, 37.8384, 33.380302, 33.1302, 45.991997, 41.1545, 63.5829, 63.6849, 46.6517, 43.503403, 50.7882, 33.684402, 30.1291, 33.0459, 28.475899, 46.3064, 44.231598, 33.2449, 41.8291, 49.5992, 51.168198, 33.4454, 53.7267, 31.1451, 21.9587, 65.9655, 42.1478, 33.6875, 37.6484], 'commit': {'sha': '066f4cf207359e06d30911a553dedd054aef595c', 'repository': {'name': 'spoon', 'owner': 'INRIA'}}, 'measurableElement': {'astElem': 'method', 'filePath': '/home/student/j/m/jmaquoi/sentinel/open-source-repositories/spoon/src/test/java/spoon/support/compiler/jdt/JDTImportBuilderTest.java', 'className': 'spoon.support.compiler.jdt.JDTImportBuilderTest', 'methodSignature': 'setupMockFactories/0', 'variableName': None, 'classType': None}}, {'allValues': [316.9003, 275.5253, 280.8094, 272.0155, 294.2289, 281.3497, 271.2194, 327.8903, 262.3421, 1853.7527, 294.5615, 268.4794, 273.3588, 329.1899, 260.6645, 265.4887, 369.8713, 329.755, 289.2859, 251.0979, 302.0266, 272.3658, 255.4368, 265.35, 282.9183, 275.4225, 300.788, 198.888, 305.0529, 253.9769], 'commit': {'sha': '5c9d8989f968d0ee3a942b411ef7fe121ed94609', 'repository': {'name': 'jabref', 'owner': 'JabRef'}}, 'measurableElement': {'astElem': 'method', 'filePath': '/home/student/j/m/jmaquoi/sentinel/open-source-repositories/jabref/src/test/java/org/jabref/logic/help/HelpFileTest.java', 'className': 'org.jabref.logic.help.HelpFileTest', 'methodSignature': 'referToValidPage/1[org.jabref.logic.help.HelpFile]', 'variableName': None, 'classType': None}}, {'allValues': [85.8317, 104.1772, 70.1419, 52.2025, 141.4795, 80.4859, 76.6969, 100.9845, 136.9225, 82.192, 72.5056, 81.857, 48.521, 68.2928, 55.8111, 73.263, 74.9723, 72.1675, 66.4898, 73.2009, 100.7663, 66.3581, 73.5797, 73.1134, 52.1167, 61.4844, 106.1186, 73.7587, 53.1233, 70.277], 'commit': {'sha': '066f4cf207359e06d30911a553dedd054aef595c', 'repository': {'name': 'spoon', 'owner': 'INRIA'}}, 'measurableElement': {'astElem': 'method', 'filePath': '/home/student/j/m/jmaquoi/sentinel/open-source-repositories/spoon/src/test/java/spoon/support/compiler/jdt/JDTImportBuilderTest.java', 'className': 'spoon.support.compiler.jdt.JDTImportBuilderTest', 'methodSignature': 'setupImports/1[java.util.List<spoon.support.compiler.jdt.ImportReference>]', 'variableName': None, 'classType': None}}, {'allValues': [9.0833, 8.7312, 2.9541, 13.5308, 11.4679, 5.2865, 7.0418, 9.8877, 10.051, 1.1802, 8.0401, 11.9033, 12.698, 9.5314, 6.3531, 8.6228, 3.3808, 11.1434, 5.4114, 8.3966, 14.3972, 16.445, 14.5317, 2.6862, 9.4558, 3.504, 9.8425, 7.605, 6.9866, 10.4303], 'commit': {'sha': '3ed1f1a064a10e53adc2ad8c0b46a4b2c148ee21', 'repository': {'name': 'spring-boot', 'owner': 'spring-projects'}}, 'measurableElement': {'astElem': 'method', 'filePath': '/home/student/j/m/jmaquoi/sentinel/open-source-repositories/spring-boot/spring-boot-project/spring-boot/src/test/java/org/springframework/boot/jdbc/DataSourceUnwrapperNoSpringJdbcTests.java', 'className': 'org.springframework.boot.jdbc.DataSourceUnwrapperNoSpringJdbcTests', 'methodSignature': 'wrapInProxy/1[javax.sql.DataSource]', 'variableName': None, 'classType': None}}, {'allValues': [2.6394, 8.2701, 3.867, 14.2844, 4.4456997, 12.9051, 7.4253, 6.3659, 2.9602, 3.9155002, 5.6549, 12.2932, 3.5596, 22.0453, 9.5121, 8.1327, 8.3206, 6.7794, 3.9634, 5.6765003, 8.4187, 6.0798, 11.869499, 9.522, 16.628, 3.0717, 7.2851, 5.5222, 8.7446, 8.283], 'commit': {'sha': '12442bd8c7cde6e7c006a6277eeb8e81ad0c2219', 'repository': {'name': 'hibernate-orm', 'owner': 'hibernate'}}, 'measurableElement': {'astElem': 'method', 'filePath': '/home/student/j/m/jmaquoi/sentinel/open-source-repositories/hibernate-orm/hibernate-core/src/main/java/org/hibernate/boot/internal/InFlightMetadataCollectorImpl.java', 'className': 'org.hibernate.boot.internal.InFlightMetadataCollectorImpl', 'methodSignature': 'addEntityBinding/1[org.hibernate.boot.internal.PersistentClass]', 'variableName': None, 'classType': None}}, {'allValues': [13.3231, 7.7037, 8.9432, 10.7726, 11.1873, 14.6653, 8.2863, 15.2248, 4.6693, 7.8258, 20.2317, 6.6342, 11.3496, 12.432, 9.2405, 15.4449, 8.6186, 7.6576, 11.5222, 9.8979, 7.0215, 9.3578, 16.0465, 8.7303, 11.3534, 13.4234, 9.8161, 9.0881, 11.0462, 12.7743], 'commit': {'sha': '5c9d8989f968d0ee3a942b411ef7fe121ed94609', 'repository': {'name': 'jabref', 'owner': 'JabRef'}}, 'measurableElement': {'astElem': 'method', 'filePath': '/home/student/j/m/jmaquoi/sentinel/open-source-repositories/jabref/src/test/java/org/jabref/model/database/BibDatabaseTest.java', 'className': 'org.jabref.model.database.BibDatabaseTest', 'methodSignature': 'withEmptyEntry/0', 'variableName': None, 'classType': None}}, {'allValues': [357.1982, 354.5213, 403.08582, 351.39612, 352.3909, 387.4885, 366.3184, 433.6042, 365.83252, 366.0031, 436.7956, 349.3584, 365.5007, 350.4677, 382.4415, 366.6336, 342.06, 360.4234, 357.6199, 373.30948, 346.6658, 367.6876, 395.2164, 333.9485, 364.85342, 340.1928, 350.769, 349.3522, 387.9336, 345.72693], 'commit': {'sha': '5c9d8989f968d0ee3a942b411ef7fe121ed94609', 'repository': {'name': 'jabref', 'owner': 'JabRef'}}, 'measurableElement': {'astElem': 'method', 'filePath': '/home/student/j/m/jmaquoi/sentinel/open-source-repositories/jabref/buildSrc/src/copied/java/org/jabref/logic/journals/JournalAbbreviationLoader.java', 'className': 'org.jabref.logic.journals.JournalAbbreviationLoader', 'methodSignature': 'loadRepository/1[org.jabref.logic.journals.JournalAbbreviationPreferences]', 'variableName': None, 'classType': None}}, {'allValues': [30.8647, 28.1253, 28.4596, 28.3611, 27.0516, 25.5402, 30.0907, 28.8407, 20.8491, 27.093, 25.7833, 15.0968, 33.3902, 29.2822, 30.484, 19.2063, 23.3166, 23.8845, 26.4363, 31.9771, 24.1653, 30.6483, 28.1001, 31.7998, 16.705, 35.2356, 31.0002, 28.6473, 27.6286, 32.2654], 'commit': {'sha': '3ed1f1a064a10e53adc2ad8c0b46a4b2c148ee21', 'repository': {'name': 'spring-boot', 'owner': 'spring-projects'}}, 'measurableElement': {'astElem': 'method', 'filePath': '/home/student/j/m/jmaquoi/sentinel/open-source-repositories/spring-boot/spring-boot-project/spring-boot/src/test/java/org/springframework/boot/context/properties/EnableConfigurationPropertiesRegistrarTests.java', 'className': 'org.springframework.boot.context.properties.EnableConfigurationPropertiesRegistrarTests', 'methodSignature': 'setup/0', 'variableName': None, 'classType': None}}, {'allValues': [6.7622, 1.2576, 2.423, 3.1779, 4.7654, 2.838, 5.133, 7.9073, 1.0776, 6.1061, 13.882, 2.6582, 8.4477, 1.664, 4.4308, 7.4453, 1.4003, 8.4746, 5.3818, 2.9975, 4.956, 10.0925, 1.9813, 7.3654, 8.3742, 5.5207, 1.0782, 4.3096, 2.8754, 4.5812], 'commit': {'sha': '3ed1f1a064a10e53adc2ad8c0b46a4b2c148ee21', 'repository': {'name': 'spring-boot', 'owner': 'spring-projects'}}, 'measurableElement': {'astElem': 'method', 'filePath': '/home/student/j/m/jmaquoi/sentinel/open-source-repositories/spring-boot/spring-boot-project/spring-boot/src/main/java/org/springframework/boot/context/properties/source/SoftReferenceConfigurationPropertyCache.java', 'className': 'org.springframework.boot.context.properties.source.SoftReferenceConfigurationPropertyCache', 'methodSignature': 'now/0', 'variableName': None, 'classType': None}}, {'allValues': [20.1957, 26.0443, 19.820099, 11.7813, 38.9069, 20.6964, 18.7066, 33.6615, 35.0266, 18.6607, 21.7517, 23.5521, 14.183, 18.0775, 13.2183, 18.9066, 19.8456, 23.2798, 14.2478, 20.9145, 10.6284, 13.955, 17.8375, 23.5054, 14.5344, 17.567001, 34.4169, 15.8054, 15.7208, 17.5693], 'commit': {'sha': '066f4cf207359e06d30911a553dedd054aef595c', 'repository': {'name': 'spoon', 'owner': 'INRIA'}}, 'measurableElement': {'astElem': 'method', 'filePath': '/home/student/j/m/jmaquoi/sentinel/open-source-repositories/spoon/src/test/java/spoon/support/compiler/jdt/JDTImportBuilderTest.java', 'className': 'spoon.support.compiler.jdt.JDTImportBuilderTest', 'methodSignature': 'createImport/2[java.lang.String,java.lang.Boolean]', 'variableName': None, 'classType': None}}, {'allValues': [30.4677, 19.7406, 26.7496, 24.8847, 54.261497, 27.3953, 18.3271, 23.9381, 37.5433, 22.5548, 20.9577, 30.7706, 34.4114, 32.105, 32.3377, 47.4192, 33.9826, 24.7225, 21.9154, 31.5644, 20.8218, 28.7666, 24.4436, 22.4298, 23.7351, 25.6072, 36.0197, 37.1715, 27.0957, 32.453], 'commit': {'sha': '3ed1f1a064a10e53adc2ad8c0b46a4b2c148ee21', 'repository': {'name': 'spring-boot', 'owner': 'spring-projects'}}, 'measurableElement': {'astElem': 'method', 'filePath': '/home/student/j/m/jmaquoi/sentinel/open-source-repositories/spring-boot/spring-boot-project/spring-boot/src/test/java/org/springframework/boot/web/servlet/server/AbstractServletWebServerFactoryTests.java', 'className': 'org.springframework.boot.web.servlet.server.AbstractServletWebServerFactoryTests', 'methodSignature': 'loadStore/2[java.security.KeyStore,org.springframework.boot.web.servlet.server.Resource]', 'variableName': None, 'classType': None}}, {'allValues': [19.0804, 29.0472, 20.6443, 12.6949, 12.9023, 15.8281, 11.1579, 17.2244, 13.1689, 18.5314, 15.2579, 23.984, 14.6575, 26.0276, 18.5883, 16.424, 16.6857, 19.4248, 17.8768, 11.066401, 16.4466, 18.2478, 9.899301, 17.0817, 16.9115, 20.8192, 13.8178, 25.5913, 16.3746, 14.7078], 'commit': {'sha': '3ed1f1a064a10e53adc2ad8c0b46a4b2c148ee21', 'repository': {'name': 'spring-boot', 'owner': 'spring-projects'}}, 'measurableElement': {'astElem': 'method', 'filePath': '/home/student/j/m/jmaquoi/sentinel/open-source-repositories/spring-boot/spring-boot-project/spring-boot/src/main/java/org/springframework/boot/context/config/ConfigDataLoaders.java', 'className': 'org.springframework.boot.context.config.ConfigDataLoaders', 'methodSignature': 'ConfigDataLoaders/3[org.springframework.boot.logging.DeferredLogFactory,org.springframework.boot.ConfigurableBootstrapContext,org.springframework.boot.context.config.SpringFactoriesLoader]', 'variableName': None, 'classType': None}}, {'allValues': [9.7868, 11.1898, 10.8803, 4.5793, 7.4953, 7.9191, 9.0765, 9.4214, 7.9063, 7.5993, 9.6624, 7.9731, 9.7172, 8.2769, 6.4322, 4.714, 15.530999, 9.258699, 8.8389, 10.655499, 14.3063, 11.5243, 9.5672, 17.7999, 8.5068, 14.461599, 11.0482, 14.001301, 6.719, 8.588901], 'commit': {'sha': '066f4cf207359e06d30911a553dedd054aef595c', 'repository': {'name': 'spoon', 'owner': 'INRIA'}}, 'measurableElement': {'astElem': 'method', 'filePath': '/home/student/j/m/jmaquoi/sentinel/open-source-repositories/spoon/src/main/java/spoon/reflect/visitor/DefaultJavaPrettyPrinter.java', 'className': 'spoon.reflect.visitor.DefaultJavaPrettyPrinter', 'methodSignature': 'enterCtExpression/1[spoon.reflect.code.CtExpression<?>]', 'variableName': None, 'classType': None}}, {'allValues': [3.2441, 2.0894, 1.0527, 1.0592, 2.2159, 5.4928, 4.3302, 3.2072, 4.2485, 2.2542, 3.438, 1.0571, 5.6947, 6.5182, 2.1674, 2.1236, 3.1849, 2.8708, 2.1309, 1.0752, 1.0017, 2.2128, 1.9478, 4.1158, 4.3175, 8.8009, 1.2301, 2.1092, 2.0434, 4.4197], 'commit': {'sha': '5c9d8989f968d0ee3a942b411ef7fe121ed94609', 'repository': {'name': 'jabref', 'owner': 'JabRef'}}, 'measurableElement': {'astElem': 'method', 'filePath': '/home/student/j/m/jmaquoi/sentinel/open-source-repositories/jabref/src/main/java/org/jabref/logic/database/DuplicateCheck.java', 'className': 'org.jabref.logic.database.DuplicateCheck', 'methodSignature': 'containsDuplicate/3[org.jabref.logic.database.BibDatabase,org.jabref.logic.database.BibEntry,org.jabref.logic.database.BibDatabaseMode]', 'variableName': None, 'classType': None}}, {'allValues': [1.658, 27.715498, 13.7246, 6.5772, 8.805, 14.7355, 21.9122, 12.851899, 33.4358, 4.9027, 44.4164, 7.5821, 15.6292, 11.984299, 15.8495, 17.3601, 12.6797, 18.2487, 17.7214, 13.8737, 24.423, 12.223, 13.142599, 16.125, 2.898, 7.8794, 7.6981997, 15.4022, 3.2914, 9.562901], 'commit': {'sha': '12442bd8c7cde6e7c006a6277eeb8e81ad0c2219', 'repository': {'name': 'hibernate-orm', 'owner': 'hibernate'}}, 'measurableElement': {'astElem': 'method', 'filePath': '/home/student/j/m/jmaquoi/sentinel/open-source-repositories/hibernate-orm/hibernate-core/src/main/java/org/hibernate/bytecode/internal/bytebuddy/BytecodeProviderImpl.java', 'className': 'org.hibernate.bytecode.internal.bytebuddy.BytecodeProviderImpl$SetPropertyValues', 'methodSignature': 'apply/3[org.hibernate.bytecode.internal.bytebuddy.MethodVisitor,Implementation.Context,org.hibernate.bytecode.internal.bytebuddy.MethodDescription]', 'variableName': None, 'classType': None}}, {'allValues': [11.2338, 26.5289, 9.9995, 16.4985, 8.459, 13.0164, 20.6887, 16.442799, 4.7258997, 16.137701, 5.3644, 37.1892, 16.469599, 20.6768, 10.5592, 22.054699, 9.003901, 21.956, 15.3609, 8.8311, 17.4291, 27.9557, 6.4917, 9.6375, 13.288099, 14.3708, 11.4985, 22.301899, 12.3876, 3.6253], 'commit': {'sha': '066f4cf207359e06d30911a553dedd054aef595c', 'repository': {'name': 'spoon', 'owner': 'INRIA'}}, 'measurableElement': {'astElem': 'method', 'filePath': '/home/student/j/m/jmaquoi/sentinel/open-source-repositories/spoon/src/main/java/spoon/support/visitor/clone/CloneBuilder.java', 'className': 'spoon.support.visitor.clone.CloneBuilder', 'methodSignature': 'scanCtElement/1[spoon.reflect.declaration.CtElement]', 'variableName': None, 'classType': None}}, {'allValues': [7.9786, 17.0759, 6.4505, 8.705, 16.5869, 16.9501, 10.094, 4.1636, 12.8933, 18.9455, 18.5698, 13.2527, 13.9624, 8.7517, 1.4553, 11.3502, 26.5127, 17.556, 6.8172, 11.4263, 15.7852, 5.4238, 5.7205, 13.3011, 12.3252, 16.5789, 24.411, 11.3223, 8.7361, 5.1537], 'commit': {'sha': '12442bd8c7cde6e7c006a6277eeb8e81ad0c2219', 'repository': {'name': 'hibernate-orm', 'owner': 'hibernate'}}, 'measurableElement': {'astElem': 'method', 'filePath': '/home/student/j/m/jmaquoi/sentinel/open-source-repositories/hibernate-orm/hibernate-testing/src/main/java/org/hibernate/testing/junit4/CustomRunner.java', 'className': 'org.hibernate.testing.junit4.CustomRunner', 'methodSignature': 'collectInitializationErrors/1[java.util.List<java.lang.Throwable>]', 'variableName': None, 'classType': None}}, {'allValues': [4.4836, 5.7617, 9.3276, 4.1205, 5.8668003, 10.2622, 6.3449, 7.2959995, 11.0706, 4.2224, 2.228, 5.509, 5.6189, 7.4299, 3.1499, 11.918699, 10.6467, 5.2038, 6.0936, 4.9091, 11.9025, 2.0735, 3.8817, 4.7387, 4.9805, 4.6248, 15.2511, 3.1666, 6.5531, 4.6829], 'commit': {'sha': '066f4cf207359e06d30911a553dedd054aef595c', 'repository': {'name': 'spoon', 'owner': 'INRIA'}}, 'measurableElement': {'astElem': 'method', 'filePath': '/home/student/j/m/jmaquoi/sentinel/open-source-repositories/spoon/src/main/java/spoon/testing/utils/ProcessorUtils.java', 'className': 'spoon.testing.utils.ProcessorUtils', 'methodSignature': 'initProperties/2[spoon.processing.Processor<?>,spoon.processing.ProcessorProperties]', 'variableName': None, 'classType': None}}, {'allValues': [27.4981, 12.0596, 31.1809, 29.3436, 34.913, 28.9486, 28.1054, 54.6916, 36.5265, 26.0061, 42.2801, 33.677, 34.0419, 37.5221, 25.9486, 52.0012, 17.8083, 23.9178, 37.0509, 87.0505, 27.1191, 24.4785, 34.2426, 16.3788, 35.542, 27.555, 22.2402, 26.8819, 35.2174, 44.0246], 'commit': {'sha': '5c9d8989f968d0ee3a942b411ef7fe121ed94609', 'repository': {'name': 'jabref', 'owner': 'JabRef'}}, 'measurableElement': {'astElem': 'method', 'filePath': '/home/student/j/m/jmaquoi/sentinel/open-source-repositories/jabref/src/test/java/org/jabref/logic/bibtex/FieldContentFormatterTest.java', 'className': 'org.jabref.logic.bibtex.FieldContentFormatterTest', 'methodSignature': 'retainsWhitespaceForMultiLineFields/0', 'variableName': None, 'classType': None}}, {'allValues': [40.7116, 41.5858, 50.3227, 41.5406, 46.1724, 42.2243, 53.009098, 51.3565, 30.6058, 43.304897, 37.8095, 49.514, 24.526299, 44.0895, 48.933098, 34.729702, 45.4255, 41.6059, 32.7924, 27.717, 56.1217, 39.5249, 37.0325, 43.4571, 44.4315, 35.2321, 48.1079, 49.0287, 45.1204, 48.417805], 'commit': {'sha': '066f4cf207359e06d30911a553dedd054aef595c', 'repository': {'name': 'spoon', 'owner': 'INRIA'}}, 'measurableElement': {'astElem': 'method', 'filePath': '/home/student/j/m/jmaquoi/sentinel/open-source-repositories/spoon/src/main/java/spoon/support/visitor/ProcessingVisitor.java', 'className': 'spoon.support.visitor.ProcessingVisitor', 'methodSignature': 'canBeProcessed/1[spoon.support.visitor.CtElement]', 'variableName': None, 'classType': None}}, {'allValues': [6.605, 18.3052, 12.6575, 10.4272, 15.6532, 86.1551, 12.727, 11.9688, 17.6831, 5.7899, 13.8731, 1.959, 9.9792, 6.0856, 16.8981, 7.1858, 17.5077, 12.0071, 5.9873, 11.6715, 7.989, 19.0087, 11.1857, 6.9275, 7.5724, 12.3232, 15.9817, 6.1511, 13.1439, 8.4343], 'commit': {'sha': '3ed1f1a064a10e53adc2ad8c0b46a4b2c148ee21', 'repository': {'name': 'spring-boot', 'owner': 'spring-projects'}}, 'measurableElement': {'astElem': 'method', 'filePath': '/home/student/j/m/jmaquoi/sentinel/open-source-repositories/spring-boot/spring-boot-project/spring-boot/src/test/java/org/springframework/boot/web/embedded/netty/NettyReactiveWebServerFactoryTests.java', 'className': 'org.springframework.boot.web.embedded.netty.NettyReactiveWebServerFactoryTests', 'methodSignature': 'nettyCustomizers/0', 'variableName': None, 'classType': None}}, {'allValues': [27.4054, 30.5026, 28.0092, 21.539, 24.2789, 30.664402, 26.8866, 31.957798, 37.7461, 34.573402, 19.286901, 40.745697, 31.6705, 43.4162, 31.349699, 27.707, 29.8811, 31.012402, 38.8991, 14.5842, 30.084398, 16.5852, 11.4123, 19.200302, 31.513802, 22.2911, 22.210499, 38.3483, 30.587101, 16.5029], 'commit': {'sha': '066f4cf207359e06d30911a553dedd054aef595c', 'repository': {'name': 'spoon', 'owner': 'INRIA'}}, 'measurableElement': {'astElem': 'method', 'filePath': '/home/student/j/m/jmaquoi/sentinel/open-source-repositories/spoon/src/main/java/spoon/support/comparator/CtLineElementComparator.java', 'className': 'spoon.support.comparator.CtLineElementComparator', 'methodSignature': 'compare/2[spoon.support.comparator.CtElement,spoon.support.comparator.CtElement]', 'variableName': None, 'classType': None}}, {'allValues': [11.4836, 14.5237, 22.9997, 14.895801, 4.079, 9.1552, 11.4125, 12.3112, 22.751701, 13.976999, 8.6185, 27.295698, 10.348499, 24.944798, 12.1614, 10.8602, 12.6154995, 11.6452, 18.604698, 12.8672, 19.349201, 5.8297005, 14.628401, 19.846, 1.5304, 10.0037, 12.514299, 11.8622, 21.924, 14.8214], 'commit': {'sha': '066f4cf207359e06d30911a553dedd054aef595c', 'repository': {'name': 'spoon', 'owner': 'INRIA'}}, 'measurableElement': {'astElem': 'method', 'filePath': '/home/student/j/m/jmaquoi/sentinel/open-source-repositories/spoon/src/main/java/spoon/support/reflect/declaration/CtTypeImpl.java', 'className': 'spoon.support.reflect.declaration.CtTypeImpl', 'methodSignature': 'addTypeMember/1[spoon.reflect.declaration.CtTypeMember]', 'variableName': None, 'classType': None}}, {'allValues': [215.4854, 220.186, 211.6683, 177.1886, 239.5793, 310.7559, 182.068, 190.3895, 193.0142, 180.1347, 248.6316, 174.0491, 156.1902, 216.9521, 275.3147, 288.9142, 222.798, 250.8178, 132.8169, 299.2411, 168.7283, 146.5533, 211.4537, 170.5093, 165.0839, 198.7287, 231.1792, 1206.603, 259.8561, 189.2604], 'commit': {'sha': '3ed1f1a064a10e53adc2ad8c0b46a4b2c148ee21', 'repository': {'name': 'spring-boot', 'owner': 'spring-projects'}}, 'measurableElement': {'astElem': 'method', 'filePath': '/home/student/j/m/jmaquoi/sentinel/open-source-repositories/spring-boot/spring-boot-project/spring-boot/src/test/java/org/springframework/boot/web/embedded/undertow/UndertowServletWebServerFactoryTests.java', 'className': 'org.springframework.boot.web.embedded.undertow.UndertowServletWebServerFactoryTests', 'methodSignature': 'awaitClosureOfSslRelatedInputStreams/0', 'variableName': None, 'classType': None}}, {'allValues': [119.667, 119.2053, 158.0472, 105.6782, 162.1917, 122.2066, 109.7854, 189.1274, 184.7294, 182.44519, 118.9454, 146.36789, 121.2905, 113.6725, 136.877, 134.72989, 147.6804, 135.2191, 19.063698, 133.7925, 156.5659, 95.2028, 101.9073, 154.5376, 125.0747, 132.53891, 118.3107, 97.8517, 134.6657, 137.4527], 'commit': {'sha': '066f4cf207359e06d30911a553dedd054aef595c', 'repository': {'name': 'spoon', 'owner': 'INRIA'}}, 'measurableElement': {'astElem': 'method', 'filePath': '/home/student/j/m/jmaquoi/sentinel/open-source-repositories/spoon/src/main/java/spoon/support/reflect/reference/CtReferenceImpl.java', 'className': 'spoon.support.reflect.reference.CtReferenceImpl', 'methodSignature': 'isKeyword/1[java.lang.String]', 'variableName': None, 'classType': None}}, {'allValues': [17.6215, 14.1861, 47.0578, 18.8844, 16.9196, 16.1227, 15.3081, 17.7768, 18.0177, 20.7837, 66.8587, 10.8649, 10.9264, 17.3236, 16.8697, 10.8738, 24.0353, 10.6437, 8.4709, 19.2191, 15.2602, 14.8829, 21.4265, 24.1723, 43.9001, 13.3994, 35.0986, 11.2683, 74.411, 24.3724], 'commit': {'sha': '5c9d8989f968d0ee3a942b411ef7fe121ed94609', 'repository': {'name': 'jabref', 'owner': 'JabRef'}}, 'measurableElement': {'astElem': 'method', 'filePath': '/home/student/j/m/jmaquoi/sentinel/open-source-repositories/jabref/src/main/java/org/jabref/logic/crawler/StudyYamlParser.java', 'className': 'org.jabref.logic.crawler.StudyYamlParser', 'methodSignature': 'writeStudyYamlFile/2[org.jabref.logic.crawler.Study,java.nio.file.Path]', 'variableName': None, 'classType': None}}, {'allValues': [6.4507, 5.3276, 8.6266, 4.7552, 10.5662, 6.9619, 7.0242, 5.5932, 7.8007, 17.2564, 7.0464, 9.922, 4.5771, 5.4804, 13.2938, 6.3371, 11.8258, 10.2896, 10.2932, 5.8442, 7.3091, 5.5731, 5.1986, 5.1773, 7.8392, 4.7203, 5.0821, 8.165, 10.702, 6.4834], 'commit': {'sha': '3ed1f1a064a10e53adc2ad8c0b46a4b2c148ee21', 'repository': {'name': 'spring-boot', 'owner': 'spring-projects'}}, 'measurableElement': {'astElem': 'method', 'filePath': '/home/student/j/m/jmaquoi/sentinel/open-source-repositories/spring-boot/spring-boot-project/spring-boot/src/test/java/org/springframework/boot/web/servlet/server/AbstractServletWebServerFactoryTests.java', 'className': 'org.springframework.boot.web.servlet.server.AbstractServletWebServerFactoryTests', 'methodSignature': 'rootServletContextResource/0', 'variableName': None, 'classType': None}}, {'allValues': [28.2487, 8.4615, 9.7257, 9.9428, 7.73, 31.9611, 19.1927, 9.8815, 8.2772, 23.8688, 16.7074, 4.3136, 7.0214, 12.5014, 9.0684, 27.3878, 9.4969, 14.8258, 15.1746, 12.1752, 14.7469, 11.9015, 4.3912, 29.5504, 4.2085, 5.0557, 10.0678, 10.4, 9.7302, 3.1766], 'commit': {'sha': '12442bd8c7cde6e7c006a6277eeb8e81ad0c2219', 'repository': {'name': 'hibernate-orm', 'owner': 'hibernate'}}, 'measurableElement': {'astElem': 'method', 'filePath': '/home/student/j/m/jmaquoi/sentinel/open-source-repositories/hibernate-orm/hibernate-core/src/main/java/org/hibernate/boot/model/naming/Identifier.java', 'className': 'org.hibernate.boot.model.naming.Identifier', 'methodSignature': 'toIdentifier/2[java.lang.String,boolean]', 'variableName': None, 'classType': None}}, {'allValues': [19.0863, 14.3806, 20.9288, 16.8653, 31.202, 14.6875, 21.0453, 21.0471, 23.2763, 22.2725, 14.535, 21.3843, 20.2969, 22.765, 24.951, 25.0535, 19.2929, 15.6461, 25.4976, 18.4173, 17.8158, 16.4112, 21.3835, 20.7068, 20.189, 19.5492, 13.3216, 19.0799, 25.4691, 30.2287], 'commit': {'sha': '066f4cf207359e06d30911a553dedd054aef595c', 'repository': {'name': 'spoon', 'owner': 'INRIA'}}, 'measurableElement': {'astElem': 'method', 'filePath': '/home/student/j/m/jmaquoi/sentinel/open-source-repositories/spoon/src/test/java/spoon/test/comment/CommentTest.java', 'className': 'spoon.test.comment.CommentTest$Anonymous1', 'methodSignature': 'matches/1[CtElement]', 'variableName': None, 'classType': None}}, {'allValues': [70.2172, 61.227303, 58.006897, 72.5075, 85.419106, 60.087402, 69.2925, 62.9429, 74.307, 74.5194, 86.272804, 70.8667, 67.8776, 92.9277, 68.0572, 65.6374, 54.7753, 77.349106, 86.44881, 78.3398, 73.1373, 60.1921, 69.8659, 60.0934, 72.6306, 66.891396, 64.7939, 57.0191, 75.1929, 59.7048], 'commit': {'sha': '5c9d8989f968d0ee3a942b411ef7fe121ed94609', 'repository': {'name': 'jabref', 'owner': 'JabRef'}}, 'measurableElement': {'astElem': 'method', 'filePath': '/home/student/j/m/jmaquoi/sentinel/open-source-repositories/jabref/src/main/java/org/jabref/logic/exporter/BibTeXMLExporter.java', 'className': 'org.jabref.logic.exporter.BibTeXMLExporter', 'methodSignature': 'createMarshallerAndWriteToFile/2[org.jabref.logic.exporter.File,java.nio.file.Path]', 'variableName': None, 'classType': None}}, {'allValues': [12.1603, 13.3435, 13.6965, 10.076, 17.033, 15.8232, 18.7645, 18.5154, 8.4575, 15.2186, 12.829, 13.3143, 18.5591, 22.3461, 11.6479, 6.9958, 10.7291, 22.8605, 11.2945, 14.025, 24.08, 9.6696, 8.0212, 16.0702, 13.7936, 16.2082, 14.986, 17.1636, 17.1172, 13.517], 'commit': {'sha': '3ed1f1a064a10e53adc2ad8c0b46a4b2c148ee21', 'repository': {'name': 'spring-boot', 'owner': 'spring-projects'}}, 'measurableElement': {'astElem': 'method', 'filePath': '/home/student/j/m/jmaquoi/sentinel/open-source-repositories/spring-boot/spring-boot-project/spring-boot/src/test/java/org/springframework/boot/json/JacksonJsonParserTests.java', 'className': 'org.springframework.boot.json.JacksonJsonParserTests', 'methodSignature': 'instanceWithSpecificObjectMapper/0', 'variableName': None, 'classType': None}}, {'allValues': [5.8092, 9.9911995, 8.8627, 12.0017, 9.8496, 11.6631, 7.308, 13.4558, 6.7897, 11.6978, 4.9387, 11.994, 9.619801, 12.88, 9.605599, 7.9693003, 18.242802, 12.5898, 8.2253, 8.7378, 1.9682, 8.2807, 1.0503, 13.5238, 6.1275997, 4.9596, 14.0486, 6.1312, 6.7146, 9.105499], 'commit': {'sha': '066f4cf207359e06d30911a553dedd054aef595c', 'repository': {'name': 'spoon', 'owner': 'INRIA'}}, 'measurableElement': {'astElem': 'method', 'filePath': '/home/student/j/m/jmaquoi/sentinel/open-source-repositories/spoon/src/main/java/spoon/reflect/visitor/PrinterHelper.java', 'className': 'spoon.reflect.visitor.PrinterHelper', 'methodSignature': 'writeTabsInternal/0', 'variableName': None, 'classType': None}}, {'allValues': [5.4856, 5.7507, 5.3127, 5.5983, 6.3541, 6.8788, 6.8155003, 8.5182, 3.9376998, 6.231, 6.4372, 5.649, 4.5067997, 4.5506997, 5.3261, 7.4470005, 5.638, 4.4905, 6.5538, 4.1269, 4.2322, 5.0790997, 9.8562, 2.9929, 7.0655, 2.6873, 4.9623, 5.2448, 3.7005, 4.1559], 'commit': {'sha': '5c9d8989f968d0ee3a942b411ef7fe121ed94609', 'repository': {'name': 'jabref', 'owner': 'JabRef'}}, 'measurableElement': {'astElem': 'method', 'filePath': '/home/student/j/m/jmaquoi/sentinel/open-source-repositories/jabref/src/main/java/org/jabref/logic/xmp/XmpUtilWriter.java', 'className': 'org.jabref.logic.xmp.XmpUtilWriter', 'methodSignature': 'generateXmpStringWithXmpDeclaration/2[java.util.List<org.jabref.logic.xmp.BibEntry>,org.jabref.logic.xmp.XmpPreferences]', 'variableName': None, 'classType': None}}, {'allValues': [6.7496, 4.2081, 9.8184, 7.2348, 9.6865, 10.9758, 20.5256, 9.9544, 10.316, 9.1452, 15.9934, 10.4955, 6.9298, 27.4509, 21.1428, 7.0229, 7.2662, 6.6714, 9.523, 7.4567, 7.0374, 21.4488, 10.0604, 6.7199, 3.6805, 7.7342, 8.5598, 9.6296, 15.3583, 9.9895], 'commit': {'sha': '3ed1f1a064a10e53adc2ad8c0b46a4b2c148ee21', 'repository': {'name': 'spring-boot', 'owner': 'spring-projects'}}, 'measurableElement': {'astElem': 'method', 'filePath': '/home/student/j/m/jmaquoi/sentinel/open-source-repositories/spring-boot/spring-boot-project/spring-boot/src/test/java/org/springframework/boot/web/embedded/jetty/JettyReactiveWebServerFactoryTests.java', 'className': 'org.springframework.boot.web.embedded.jetty.JettyReactiveWebServerFactoryTests', 'methodSignature': 'noCompressionForUserAgent/0', 'variableName': None, 'classType': None}}, {'allValues': [5.7047, 5.0602, 5.2104, 7.021, 5.1023, 4.889, 4.5221, 5.8044, 3.7253, 5.0306, 3.9224, 4.0416, 4.9362, 5.4238, 6.4869, 3.9668, 4.614, 5.8016, 5.3763, 3.8005, 5.287, 6.0571, 5.4047, 5.2794, 4.7702, 3.9829, 4.861, 4.1428, 5.7313, 5.6767], 'commit': {'sha': '3ed1f1a064a10e53adc2ad8c0b46a4b2c148ee21', 'repository': {'name': 'spring-boot', 'owner': 'spring-projects'}}, 'measurableElement': {'astElem': 'method', 'filePath': '/home/student/j/m/jmaquoi/sentinel/open-source-repositories/spring-boot/spring-boot-project/spring-boot/src/main/java/org/springframework/boot/BeanDefinitionLoader.java', 'className': 'org.springframework.boot.BeanDefinitionLoader', 'methodSignature': 'findResources/1[java.lang.String]', 'variableName': None, 'classType': None}}, {'allValues': [21.0446, 18.703798, 17.7658, 13.194, 20.018, 13.427, 17.3389, 12.4361, 19.2521, 15.8558, 24.9718, 15.9196, 17.2173, 16.813, 13.746201, 18.1977, 13.6078, 14.847101, 14.2757, 9.2984, 8.526, 8.3308, 8.3783, 15.935201, 8.3221, 8.0913, 23.4369, 13.1781, 9.1497, 14.707], 'commit': {'sha': '3ed1f1a064a10e53adc2ad8c0b46a4b2c148ee21', 'repository': {'name': 'spring-boot', 'owner': 'spring-projects'}}, 'measurableElement': {'astElem': 'method', 'filePath': '/home/student/j/m/jmaquoi/sentinel/open-source-repositories/spring-boot/spring-boot-project/spring-boot/src/main/java/org/springframework/boot/context/properties/bind/ValueObjectBinder.java', 'className': 'org.springframework.boot.context.properties.bind.ValueObjectBinder$DefaultValueObject', 'methodSignature': 'parseConstructorParameters/2[java.lang.reflect.Constructor<?>,org.springframework.boot.context.properties.bind.ResolvableType]', 'variableName': None, 'classType': None}}, {'allValues': [23.564, 35.5793, 33.7815, 46.4419, 33.809, 31.8833, 34.7816, 64.9231, 24.1045, 46.674603, 40.347, 31.4186, 76.5498, 34.9616, 33.6708, 32.9674, 66.651596, 32.3002, 41.400402, 34.9457, 36.1112, 30.934097, 30.3757, 41.4982, 40.8492, 38.6879, 41.954998, 26.7537, 31.047298, 39.9669], 'commit': {'sha': '5c9d8989f968d0ee3a942b411ef7fe121ed94609', 'repository': {'name': 'jabref', 'owner': 'JabRef'}}, 'measurableElement': {'astElem': 'method', 'filePath': '/home/student/j/m/jmaquoi/sentinel/open-source-repositories/jabref/src/main/java/org/jabref/logic/net/URLDownload.java', 'className': 'org.jabref.logic.net.URLDownload', 'methodSignature': 'toFile/1[java.nio.file.Path]', 'variableName': None, 'classType': None}}, {'allValues': [9.0616, 3.4535, 4.217, 11.3743, 9.5551, 7.3053, 8.0571, 10.5038, 9.2884, 4.581, 9.1024, 14.6895, 14.960199, 4.6423, 5.6502, 7.5471, 9.0976, 9.5268, 6.4118, 9.4318, 11.1984, 11.1167, 10.0220995, 7.7321, 11.7623, 4.1455, 12.7867, 6.4664, 10.6202, 13.5032], 'commit': {'sha': '3ed1f1a064a10e53adc2ad8c0b46a4b2c148ee21', 'repository': {'name': 'spring-boot', 'owner': 'spring-projects'}}, 'measurableElement': {'astElem': 'method', 'filePath': '/home/student/j/m/jmaquoi/sentinel/open-source-repositories/spring-boot/spring-boot-project/spring-boot/src/test/java/org/springframework/boot/web/servlet/server/AbstractServletWebServerFactoryTests.java', 'className': 'org.springframework.boot.web.servlet.server.AbstractServletWebServerFactoryTests', 'methodSignature': 'pemKeyStoreAndTrustStore/0', 'variableName': None, 'classType': None}}, {'allValues': [14.1021, 120.4607, 16.5431, 20.574299, 18.317999, 17.4431, 42.6086, 59.5666, 18.6065, 19.3199, 11.0134, 70.2039, 123.0843, 40.372498, 236.47781, 30.3937, 96.213, 27.2706, 18.894001, 35.3593, 145.4397, 26.6502, 24.8781, 19.6348, 52.3976, 56.5327, 34.517002, 61.7826, 52.8975, 44.9383], 'commit': {'sha': '12442bd8c7cde6e7c006a6277eeb8e81ad0c2219', 'repository': {'name': 'hibernate-orm', 'owner': 'hibernate'}}, 'measurableElement': {'astElem': 'method', 'filePath': '/home/student/j/m/jmaquoi/sentinel/open-source-repositories/hibernate-orm/hibernate-core/src/test/java/org/hibernate/orm/test/bootstrap/scanning/JarVisitorTest.java', 'className': 'org.hibernate.orm.test.bootstrap.scanning.JarVisitorTest', 'methodSignature': 'testHttp/0', 'variableName': None, 'classType': None}}, {'allValues': [24.2446, 11.5321, 15.6512, 11.5731, 13.4653, 11.2626, 9.2757, 7.2152, 9.8396, 10.7512, 5.6610003, 4.0407, 12.1889, 12.0173, 12.541, 28.341599, 12.029301, 15.6369, 1.0533, 11.1393, 10.7447, 10.783501, 9.7262, 8.1427, 12.354799, 5.323, 8.685599, 20.9053, 5.6464, 19.2646], 'commit': {'sha': '12442bd8c7cde6e7c006a6277eeb8e81ad0c2219', 'repository': {'name': 'hibernate-orm', 'owner': 'hibernate'}}, 'measurableElement': {'astElem': 'method', 'filePath': '/home/student/j/m/jmaquoi/sentinel/open-source-repositories/hibernate-orm/hibernate-core/src/main/java/org/hibernate/boot/model/naming/NamingHelper.java', 'className': 'org.hibernate.boot.model.naming.NamingHelper', 'methodSignature': 'hashedName/1[java.lang.String]', 'variableName': None, 'classType': None}}, {'allValues': [2.7737, 3.3872, 1.5693, 1.6532, 1.5669, 3.2125, 1.7526, 3.6588, 1.2816, 3.3468, 3.0667, 1.5225, 1.8528, 2.964, 1.9437, 3.1911, 2.8731, 1.8254, 5.003, 3.9937, 1.7756, 3.3809, 1.9482, 4.0385, 1.4419, 1.781, 1.7588, 1.4665, 2.1598, 3.0436], 'commit': {'sha': '3ed1f1a064a10e53adc2ad8c0b46a4b2c148ee21', 'repository': {'name': 'spring-boot', 'owner': 'spring-projects'}}, 'measurableElement': {'astElem': 'method', 'filePath': '/home/student/j/m/jmaquoi/sentinel/open-source-repositories/spring-boot/spring-boot-project/spring-boot/src/test/java/org/springframework/boot/rsocket/netty/NettyRSocketServerFactoryTests.java', 'className': 'org.springframework.boot.rsocket.netty.NettyRSocketServerFactoryTests', 'methodSignature': 'createSecureRSocketTcpClient/0', 'variableName': None, 'classType': None}}, {'allValues': [241.6097, 442.5451, 206.2626, 159.2586, 325.4193, 210.9072, 262.167, 267.0821, 183.1938, 178.9233, 318.1597, 157.9608, 244.2756, 166.1223, 181.7117, 256.226, 294.4298, 248.2019, 418.2954, 337.112, 218.4393, 249.1149, 404.5853, 251.5991, 159.233, 193.018, 181.0653, 2390.887, 208.9588, 225.2834], 'commit': {'sha': '3ed1f1a064a10e53adc2ad8c0b46a4b2c148ee21', 'repository': {'name': 'spring-boot', 'owner': 'spring-projects'}}, 'measurableElement': {'astElem': 'method', 'filePath': '/home/student/j/m/jmaquoi/sentinel/open-source-repositories/spring-boot/spring-boot-project/spring-boot/src/main/java/org/springframework/boot/web/servlet/context/ServletWebServerApplicationContext.java', 'className': 'org.springframework.boot.web.servlet.context.ServletWebServerApplicationContext', 'methodSignature': 'refresh/0', 'variableName': None, 'classType': None}}, {'allValues': [37.87, 27.0872, 30.9527, 18.7597, 27.6801, 33.6821, 39.3597, 17.1662, 32.6416, 41.0729, 19.4916, 81.5331, 24.3658, 196.6405, 21.172, 18.1462, 23.4402, 36.1444, 26.2231, 26.1415, 27.8873, 24.5564, 33.5305, 27.6223, 41.4885, 28.5278, 70.4795, 37.9333, 11.6463, 32.1411], 'commit': {'sha': '12442bd8c7cde6e7c006a6277eeb8e81ad0c2219', 'repository': {'name': 'hibernate-orm', 'owner': 'hibernate'}}, 'measurableElement': {'astElem': 'method', 'filePath': '/home/student/j/m/jmaquoi/sentinel/open-source-repositories/hibernate-orm/hibernate-core/src/test/java/org/hibernate/orm/test/service/ServiceRegistryTest.java', 'className': 'org.hibernate.orm.test.service.ServiceRegistryTest', 'methodSignature': 'execute/0', 'variableName': None, 'classType': None}}, {'allValues': [57.7333, 41.717, 42.5895, 47.4735, 66.3547, 40.3129, 77.9437, 50.9566, 55.0992, 57.2611, 61.5999, 32.732, 39.07, 93.4463, 54.7795, 44.646, 35.71, 64.8956, 75.5368, 53.0071, 54.0616, 50.164, 57.135403, 59.4603, 45.7244, 47.2297, 53.2815, 49.0256, 60.133, 54.5053], 'commit': {'sha': '12442bd8c7cde6e7c006a6277eeb8e81ad0c2219', 'repository': {'name': 'hibernate-orm', 'owner': 'hibernate'}}, 'measurableElement': {'astElem': 'method', 'filePath': '/home/student/j/m/jmaquoi/sentinel/open-source-repositories/hibernate-orm/hibernate-core/src/main/java/org/hibernate/bytecode/enhance/internal/bytebuddy/FieldReaderAppender.java', 'className': 'org.hibernate.bytecode.enhance.internal.bytebuddy.FieldReaderAppender$MethodDispatching', 'methodSignature': 'MethodDispatching/2[org.hibernate.bytecode.enhance.internal.bytebuddy.TypeDescription,org.hibernate.bytecode.enhance.internal.bytebuddy.EnhancerImpl.AnnotatedFieldDescription]', 'variableName': None, 'classType': None}}, {'allValues': [47.3459, 42.0183, 53.0868, 51.3279, 41.459, 55.0256, 61.433502, 62.1879, 50.5549, 52.6426, 66.024704, 51.495102, 51.0476, 54.0668, 46.7959, 51.4224, 53.299004, 52.236298, 47.9066, 53.5206, 58.457, 44.5111, 46.952103, 47.191498, 46.0409, 43.8466, 48.6757, 55.5465, 53.5833, 52.5069], 'commit': {'sha': '5c9d8989f968d0ee3a942b411ef7fe121ed94609', 'repository': {'name': 'jabref', 'owner': 'JabRef'}}, 'measurableElement': {'astElem': 'method', 'filePath': '/home/student/j/m/jmaquoi/sentinel/open-source-repositories/jabref/src/main/java/org/jabref/logic/crawler/StudyYamlParser.java', 'className': 'org.jabref.logic.crawler.StudyYamlParser', 'methodSignature': 'parseStudyYamlFile/1[java.nio.file.Path]', 'variableName': None, 'classType': None}}, {'allValues': [12.6615, 9.3894005, 20.323502, 15.4507, 15.6214, 6.1289, 14.0414, 13.3248, 11.632, 11.9582, 17.9923, 12.4935, 9.0121, 15.9471, 8.3913, 17.5376, 13.5859, 13.1959, 11.4924, 13.6917, 21.4995, 18.9785, 6.7974, 11.9548, 6.0017, 9.9466, 14.992201, 15.3273, 17.8593, 8.9992], 'commit': {'sha': '59e5152722198526c6ffe5361de7d1a6a87275c7', 'repository': {'name': 'commons-configuration', 'owner': 'apache'}}, 'measurableElement': {'astElem': 'method', 'filePath': '/home/student/j/m/jmaquoi/sentinel/open-source-repositories/commons-configuration/src/test/java/org/apache/commons/configuration2/test/HsqlDB.java', 'className': 'org.apache.commons.configuration2.test.HsqlDB', 'methodSignature': 'loadSqlFile/1[java.lang.String]', 'variableName': None, 'classType': None}}, {'allValues': [23.6097, 17.9399, 8.1734, 18.4829, 10.6708, 7.1023, 15.3785, 11.1764, 21.9987, 14.4541, 2.3049, 9.858, 11.9451, 57.2455, 6.8831, 7.3038, 10.0049, 14.6978, 9.9717, 20.8189, 12.1463, 12.247, 25.7537, 15.6699, 14.8076, 284.7041, 12.2615, 12.2012, 9.1167, 4.6252], 'commit': {'sha': '12442bd8c7cde6e7c006a6277eeb8e81ad0c2219', 'repository': {'name': 'hibernate-orm', 'owner': 'hibernate'}}, 'measurableElement': {'astElem': 'method', 'filePath': '/home/student/j/m/jmaquoi/sentinel/open-source-repositories/hibernate-orm/hibernate-core/src/main/java/org/hibernate/service/spi/ServiceBinding.java', 'className': 'org.hibernate.service.spi.ServiceBinding', 'methodSignature': 'ServiceBinding/2[org.hibernate.service.spi.ServiceBinding.ServiceLifecycleOwner,org.hibernate.service.spi.ServiceInitiator<R>]', 'variableName': None, 'classType': None}}, {'allValues': [15.3779, 13.9021, 18.9191, 26.3344, 10.4977, 17.9665, 14.0673, 19.0938, 19.8533, 21.2445, 28.3706, 29.4327, 15.2626, 18.9007, 14.5234, 17.6966, 20.0206, 22.374, 17.0555, 20.5006, 41.368, 11.4133, 18.3091, 21.7514, 16.0223, 15.774, 20.2023, 14.3145, 14.7336, 16.3823], 'commit': {'sha': '12442bd8c7cde6e7c006a6277eeb8e81ad0c2219', 'repository': {'name': 'hibernate-orm', 'owner': 'hibernate'}}, 'measurableElement': {'astElem': 'method', 'filePath': '/home/student/j/m/jmaquoi/sentinel/open-source-repositories/hibernate-orm/hibernate-core/src/test/java/org/hibernate/orm/test/delegation/SessionDelegatorBaseImplTest.java', 'className': 'org.hibernate.orm.test.delegation.SessionDelegatorBaseImplTest', 'methodSignature': 'init/1[org.hibernate.orm.test.delegation.SessionFactoryScope]', 'variableName': None, 'classType': None}}, {'allValues': [8.2451, 13.6233, 9.6576, 8.6159, 9.3731, 13.4257, 4.3328, 11.5673, 10.7888, 9.9298, 4.4936, 6.5875, 6.5815, 6.7501, 8.8202, 7.3884, 7.5955, 8.1332, 10.0705, 4.261, 6.5852, 8.8044, 8.1956, 4.2196, 6.2278, 9.6811, 5.4114, 5.3251, 5.4992, 8.5647], 'commit': {'sha': '5c9d8989f968d0ee3a942b411ef7fe121ed94609', 'repository': {'name': 'jabref', 'owner': 'JabRef'}}, 'measurableElement': {'astElem': 'method', 'filePath': '/home/student/j/m/jmaquoi/sentinel/open-source-repositories/jabref/src/main/java/org/jabref/model/entry/AuthorList.java', 'className': 'org.jabref.model.entry.AuthorList', 'methodSignature': 'andCoordinatedConjunction/3[java.util.List<org.jabref.model.entry.Author>,java.util.function.Function<org.jabref.model.entry.Author,java.lang.String>,boolean]', 'variableName': None, 'classType': None}}, {'allValues': [5.1728, 9.9395, 8.1886, 9.4661, 6.5546, 5.2372, 7.5938, 5.6233, 2.6359, 11.8783, 4.5512, 4.2469, 10.1656, 8.3303, 3.1595, 4.3641, 3.8102, 7.3422, 2.4852, 3.2645, 2.656, 2.2863, 5.3108, 9.1232, 3.9293, 1.1136, 13.3046, 1.0819, 13.8109, 7.214], 'commit': {'sha': '3ed1f1a064a10e53adc2ad8c0b46a4b2c148ee21', 'repository': {'name': 'spring-boot', 'owner': 'spring-projects'}}, 'measurableElement': {'astElem': 'method', 'filePath': '/home/student/j/m/jmaquoi/sentinel/open-source-repositories/spring-boot/spring-boot-project/spring-boot/src/main/java/org/springframework/boot/convert/ApplicationConversionService.java', 'className': 'org.springframework.boot.convert.ApplicationConversionService', 'methodSignature': 'addConverter/1[org.springframework.boot.convert.Converter<?,?>]', 'variableName': None, 'classType': None}}, {'allValues': [8.1425, 13.834, 5.2855, 3.1307, 8.2669, 7.6611, 5.5067, 5.1071, 1.9563, 6.9498, 4.7777, 5.5512, 3.379, 8.702, 1.7544, 3.5853, 8.1486, 1.1814, 1.6274, 9.3419, 8.2731, 7.8878, 4.7603, 7.5217, 5.2531, 3.323, 7.8033, 13.6984005, 3.6005, 1.7278], 'commit': {'sha': '066f4cf207359e06d30911a553dedd054aef595c', 'repository': {'name': 'spoon', 'owner': 'INRIA'}}, 'measurableElement': {'astElem': 'method', 'filePath': '/home/student/j/m/jmaquoi/sentinel/open-source-repositories/spoon/src/main/java/spoon/reflect/visitor/filter/AllTypeMembersFunction.java', 'className': 'spoon.reflect.visitor.filter.AllTypeMembersFunction$Anonymous1', 'methodSignature': 'accept/1[spoon.reflect.declaration.CtType<?>]', 'variableName': None, 'classType': None}}, {'allValues': [30.2856, 30.207, 34.0921, 32.053, 38.6142, 30.541, 35.6743, 47.2637, 33.0319, 36.0547, 28.0363, 27.0298, 31.2312, 35.38, 32.3917, 31.6892, 27.3046, 35.7676, 33.8449, 39.4813, 42.5547, 41.6246, 31.7181, 30.417, 27.0685, 33.3777, 40.2087, 36.1061, 48.0468, 28.483099], 'commit': {'sha': '59e5152722198526c6ffe5361de7d1a6a87275c7', 'repository': {'name': 'commons-configuration', 'owner': 'apache'}}, 'measurableElement': {'astElem': 'method', 'filePath': '/home/student/j/m/jmaquoi/sentinel/open-source-repositories/commons-configuration/src/test/java/org/apache/commons/configuration2/test/HsqlDB.java', 'className': 'org.apache.commons.configuration2.test.HsqlDB', 'methodSignature': 'HsqlDB/3[java.lang.String,java.lang.String,java.lang.String]', 'variableName': None, 'classType': None}}, {'allValues': [25.1897, 48.436302, 56.2865, 31.3888, 16.934399, 29.102299, 34.9478, 33.8771, 41.7898, 33.5531, 65.045, 24.647602, 26.348598, 51.793404, 43.388, 34.392597, 24.3253, 37.9874, 31.4105, 36.1856, 46.954502, 25.650898, 150.31781, 35.249702, 649.0226, 45.072502, 35.637, 44.723, 27.436901, 32.7584], 'commit': {'sha': '12442bd8c7cde6e7c006a6277eeb8e81ad0c2219', 'repository': {'name': 'hibernate-orm', 'owner': 'hibernate'}}, 'measurableElement': {'astElem': 'method', 'filePath': '/home/student/j/m/jmaquoi/sentinel/open-source-repositories/hibernate-orm/hibernate-core/src/main/java/org/hibernate/engine/jdbc/internal/BasicFormatterImpl.java', 'className': 'org.hibernate.engine.jdbc.internal.BasicFormatterImpl$FormatProcess', 'methodSignature': 'perform/0', 'variableName': None, 'classType': None}}, {'allValues': [6.9279, 8.6116, 7.2465, 13.9561, 8.7549, 4.3648, 13.9389, 9.2427, 13.8533, 13.023, 8.5812, 9.5425, 15.8316, 11.0474, 7.5567, 6.9991, 6.4304, 6.4283, 4.2239, 9.0323, 19.8504, 11.1933, 11.5091, 12.5795, 10.5423, 11.0496, 14.9651, 3.3682, 13.5312, 10.6671], 'commit': {'sha': '066f4cf207359e06d30911a553dedd054aef595c', 'repository': {'name': 'spoon', 'owner': 'INRIA'}}, 'measurableElement': {'astElem': 'method', 'filePath': '/home/student/j/m/jmaquoi/sentinel/open-source-repositories/spoon/src/main/java/spoon/support/reflect/CtModifierHandler.java', 'className': 'spoon.support.reflect.CtModifierHandler', 'methodSignature': 'getFactory/0', 'variableName': None, 'classType': None}}, {'allValues': [6.3049, 7.3167, 13.6944, 2.127, 7.4251003, 15.4228, 1.137, 8.3363, 4.3247004, 1.068, 3.26, 5.4693003, 2.2516, 4.2792997, 6.6658, 5.3, 2.0348, 8.1847, 2.9385, 5.2846003, 1.1528, 8.5631, 2.9659, 4.2781, 2.3198, 5.4538, 5.7202, 5.4104996, 5.4737, 7.5731997], 'commit': {'sha': '5c9d8989f968d0ee3a942b411ef7fe121ed94609', 'repository': {'name': 'jabref', 'owner': 'JabRef'}}, 'measurableElement': {'astElem': 'method', 'filePath': '/home/student/j/m/jmaquoi/sentinel/open-source-repositories/jabref/src/main/java/org/jabref/logic/database/DuplicateCheck.java', 'className': 'org.jabref.logic.database.DuplicateCheck', 'methodSignature': 'compareSingleField/3[org.jabref.logic.database.Field,org.jabref.logic.database.BibEntry,org.jabref.logic.database.BibEntry]', 'variableName': None, 'classType': None}}, {'allValues': [91.5807, 89.854, 61.5733, 162.3746, 63.7705, 103.4089, 234.9126, 111.7474, 3.919, 100.2769, 128.1732, 119.7856, 125.742, 117.7069, 95.2982, 117.4844, 103.878, 110.9516, 107.6096, 145.4624, 123.4361, 127.5423, 107.1072, 97.3785, 79.218, 75.4599, 102.8974, 94.1266, 101.9733, 128.9809], 'commit': {'sha': '12442bd8c7cde6e7c006a6277eeb8e81ad0c2219', 'repository': {'name': 'hibernate-orm', 'owner': 'hibernate'}}, 'measurableElement': {'astElem': 'method', 'filePath': '/home/student/j/m/jmaquoi/sentinel/open-source-repositories/hibernate-orm/hibernate-core/src/main/java/org/hibernate/boot/jaxb/internal/stax/BufferedXMLEventReader.java', 'className': 'org.hibernate.boot.jaxb.internal.stax.BufferedXMLEventReader', 'methodSignature': 'peek/0', 'variableName': None, 'classType': None}}, {'allValues': [7.2512, 5.6513, 7.9348, 1.6963, 4.1036, 5.6704, 2.623, 3.3696, 8.170401, 10.864, 9.8738, 2.5442998, 11.9526, 4.1476, 4.2231, 2.8558, 7.1159, 6.8715, 4.8648, 2.4461, 10.950399, 7.6826, 10.8424, 10.9755, 4.2015, 1.693, 9.7684, 3.0774999, 12.1973, 1.5682], 'commit': {'sha': '066f4cf207359e06d30911a553dedd054aef595c', 'repository': {'name': 'spoon', 'owner': 'INRIA'}}, 'measurableElement': {'astElem': 'method', 'filePath': '/home/student/j/m/jmaquoi/sentinel/open-source-repositories/spoon/src/main/java/spoon/reflect/visitor/CtScanner.java', 'className': 'spoon.reflect.visitor.CtScanner', 'methodSignature': 'visitCtClass/1[spoon.reflect.declaration.CtClass<T>]', 'variableName': None, 'classType': None}}, {'allValues': [53.0235, 50.2475, 56.9446, 58.7182, 49.4863, 35.9167, 62.7827, 42.2607, 48.4007, 46.8545, 37.9855, 44.5042, 46.4343, 50.3132, 48.6357, 52.6242, 49.248, 47.339, 45.1662, 76.5653, 32.4152, 58.5982, 46.7652, 62.7732, 36.6422, 46.1974, 58.8988, 49.0646, 52.6057, 46.8268], 'commit': {'sha': '3ed1f1a064a10e53adc2ad8c0b46a4b2c148ee21', 'repository': {'name': 'spring-boot', 'owner': 'spring-projects'}}, 'measurableElement': {'astElem': 'method', 'filePath': '/home/student/j/m/jmaquoi/sentinel/open-source-repositories/spring-boot/spring-boot-project/spring-boot/src/main/java/org/springframework/boot/env/OriginTrackedYamlLoader.java', 'className': 'org.springframework.boot.env.OriginTrackedYamlLoader$OriginTrackingConstructor', 'methodSignature': 'getData/0', 'variableName': None, 'classType': None}}, {'allValues': [36.0885, 33.6594, 31.0418, 27.1415, 24.9769, 23.4087, 37.9458, 30.0128, 11.8277, 29.1519, 29.8363, 31.558, 33.4092, 19.2772, 22.9908, 22.1489, 15.3455, 26.4893, 23.808, 25.0696, 25.2302, 26.9173, 22.9629, 38.4514, 22.5909, 31.4189, 29.9726, 29.5067, 24.0308, 31.8843], 'commit': {'sha': '066f4cf207359e06d30911a553dedd054aef595c', 'repository': {'name': 'spoon', 'owner': 'INRIA'}}, 'measurableElement': {'astElem': 'method', 'filePath': '/home/student/j/m/jmaquoi/sentinel/open-source-repositories/spoon/src/main/java/spoon/reflect/visitor/ImportAnalyzer.java', 'className': 'spoon.reflect.visitor.ImportAnalyzer$ScannerListener', 'methodSignature': 'enter/2[spoon.reflect.path.CtRole,spoon.reflect.declaration.CtElement]', 'variableName': None, 'classType': None}}, {'allValues': [6.3936, 3.3866, 7.9361, 4.1175, 8.705, 6.1142, 5.8906, 6.933, 5.4676, 4.2795, 6.4121, 7.8037, 7.8627, 2.405, 8.4825, 2.1487, 4.9469, 8.4892, 7.2547, 11.3876, 7.5145, 1.9234, 5.0705, 6.0035, 4.3294, 7.7322, 7.3502, 7.0087, 8.6941, 8.1389], 'commit': {'sha': '3ed1f1a064a10e53adc2ad8c0b46a4b2c148ee21', 'repository': {'name': 'spring-boot', 'owner': 'spring-projects'}}, 'measurableElement': {'astElem': 'method', 'filePath': '/home/student/j/m/jmaquoi/sentinel/open-source-repositories/spring-boot/spring-boot-project/spring-boot/src/test/java/org/springframework/boot/diagnostics/analyzer/BeanNotOfRequiredTypeFailureAnalyzerTests.java', 'className': 'org.springframework.boot.diagnostics.analyzer.BeanNotOfRequiredTypeFailureAnalyzerTests', 'methodSignature': 'createFailure/1[java.lang.Class<?>]', 'variableName': None, 'classType': None}}, {'allValues': [8.2973, 7.3726997, 8.5925, 10.8542, 12.843901, 11.3345995, 4.277, 7.2955, 6.3729, 5.3957996, 14.529, 7.8832, 8.872, 14.821701, 5.33, 10.6614, 9.431, 5.1979, 7.0346003, 11.681299, 3.3322, 9.4141, 7.1828003, 5.2665, 5.2370996, 6.3579, 5.8099003, 12.651199, 5.5916, 10.7594], 'commit': {'sha': '5c9d8989f968d0ee3a942b411ef7fe121ed94609', 'repository': {'name': 'jabref', 'owner': 'JabRef'}}, 'measurableElement': {'astElem': 'method', 'filePath': '/home/student/j/m/jmaquoi/sentinel/open-source-repositories/jabref/src/main/java/org/jabref/logic/database/DuplicateCheck.java', 'className': 'org.jabref.logic.database.DuplicateCheck', 'methodSignature': 'compareField/2[java.lang.String,java.lang.String]', 'variableName': None, 'classType': None}}, {'allValues': [11.2235, 6.9918, 13.464, 14.2143, 8.7467, 10.0478, 11.4984, 12.3377, 14.1093, 13.5854, 11.6236, 8.8795, 15.7925, 15.369, 12.013, 9.2309, 7.6165, 15.1456, 15.3254, 13.8295, 11.6455, 11.9206, 12.0041, 6.6583, 13.473, 10.9885, 6.5607, 12.2042, 10.1035, 16.3785], 'commit': {'sha': '5c9d8989f968d0ee3a942b411ef7fe121ed94609', 'repository': {'name': 'jabref', 'owner': 'JabRef'}}, 'measurableElement': {'astElem': 'method', 'filePath': '/home/student/j/m/jmaquoi/sentinel/open-source-repositories/jabref/buildSrc/src/copied/java/org/jabref/logic/journals/JournalAbbreviationRepository.java', 'className': 'org.jabref.logic.journals.JournalAbbreviationRepository', 'methodSignature': 'getAllLoaded/0', 'variableName': None, 'classType': None}}, {'allValues': [8.643499, 25.322199, 11.9816, 20.1709, 15.0432005, 35.5136, 19.513401, 15.6065, 13.4541, 103.1551, 10.701301, 15.804801, 11.4906, 7.747, 16.6974, 10.3941, 23.5882, 30.1259, 14.6583, 10.4539995, 13.1287, 11.905601, 13.9562, 18.755499, 14.803599, 14.506201, 12.1243, 5.7382, 13.703899, 31.974], 'commit': {'sha': '12442bd8c7cde6e7c006a6277eeb8e81ad0c2219', 'repository': {'name': 'hibernate-orm', 'owner': 'hibernate'}}, 'measurableElement': {'astElem': 'method', 'filePath': '/home/student/j/m/jmaquoi/sentinel/open-source-repositories/hibernate-orm/hibernate-core/src/main/java/org/hibernate/resource/transaction/backend/jdbc/internal/DdlTransactionIsolatorNonJtaImpl.java', 'className': 'org.hibernate.resource.transaction.backend.jdbc.internal.DdlTransactionIsolatorNonJtaImpl', 'methodSignature': 'getIsolatedConnection/1[boolean]', 'variableName': None, 'classType': None}}, {'allValues': [19.098, 34.4842, 40.0775, 23.0116, 35.9091, 39.7643, 20.7982, 33.0833, 38.457, 39.2376, 36.3869, 39.6879, 54.4304, 30.0333, 29.4127, 34.4455, 36.6956, 36.799, 45.9314, 46.7364, 29.8754, 36.0877, 47.5564, 35.9753, 50.6097, 54.5963, 39.6726, 16.1109, 38.4153, 32.3232], 'commit': {'sha': '3ed1f1a064a10e53adc2ad8c0b46a4b2c148ee21', 'repository': {'name': 'spring-boot', 'owner': 'spring-projects'}}, 'measurableElement': {'astElem': 'method', 'filePath': '/home/student/j/m/jmaquoi/sentinel/open-source-repositories/spring-boot/spring-boot-project/spring-boot/src/test/java/org/springframework/boot/web/embedded/jetty/JettyReactiveWebServerFactoryTests.java', 'className': 'org.springframework.boot.web.embedded.jetty.JettyReactiveWebServerFactoryTests', 'methodSignature': 'specificIPAddressNotReverseResolved/0', 'variableName': None, 'classType': None}}, {'allValues': [18.1773, 29.039799, 22.8382, 16.5997, 25.816, 13.1294, 22.4728, 33.609802, 24.9239, 63.6409, 15.4893, 10.193, 16.1092, 31.0424, 20.460499, 15.6105, 19.2849, 21.776398, 50.208298, 33.2808, 22.840801, 17.4576, 21.082, 15.297, 14.2117, 13.4624, 14.1096, 18.8456, 14.293, 32.1554], 'commit': {'sha': '59e5152722198526c6ffe5361de7d1a6a87275c7', 'repository': {'name': 'commons-configuration', 'owner': 'apache'}}, 'measurableElement': {'astElem': 'method', 'filePath': '/home/student/j/m/jmaquoi/sentinel/open-source-repositories/commons-configuration/src/main/java/org/apache/commons/configuration2/XMLConfiguration.java', 'className': 'org.apache.commons.configuration2.XMLConfiguration', 'methodSignature': 'createDocumentBuilder/0', 'variableName': None, 'classType': None}}, {'allValues': [128.893, 138.45929, 91.8146, 118.3268, 119.048, 125.8182, 126.8967, 145.6502, 144.1888, 99.2984, 112.1886, 140.47, 122.9387, 140.2409, 111.6944, 129.5004, 127.0642, 105.3016, 101.4311, 139.7407, 155.7254, 197.5763, 110.2843, 102.788, 126.3355, 118.2223, 129.3404, 153.7459, 144.7991, 122.5171], 'commit': {'sha': '59e5152722198526c6ffe5361de7d1a6a87275c7', 'repository': {'name': 'commons-configuration', 'owner': 'apache'}}, 'measurableElement': {'astElem': 'method', 'filePath': '/home/student/j/m/jmaquoi/sentinel/open-source-repositories/commons-configuration/src/main/java/org/apache/commons/configuration2/XMLConfiguration.java', 'className': 'org.apache.commons.configuration2.XMLConfiguration', 'methodSignature': 'load/1[org.xml.sax.InputSource]', 'variableName': None, 'classType': None}}, {'allValues': [5.5368004, 14.4729, 5.4349003, 1.83, 1.3877, 12.9321995, 6.1597004, 2.2633, 10.1827, 6.2925, 1.6098, 20.764, 7.7812, 2.1301, 1.506, 7.3371, 6.5979004, 3.3913999, 5.0432997, 2.5507, 17.821, 2.0481, 8.4762, 9.5835, 2.9009995, 3.22, 2.0202, 10.183001, 5.9898, 8.6024], 'commit': {'sha': '12442bd8c7cde6e7c006a6277eeb8e81ad0c2219', 'repository': {'name': 'hibernate-orm', 'owner': 'hibernate'}}, 'measurableElement': {'astElem': 'method', 'filePath': '/home/student/j/m/jmaquoi/sentinel/open-source-repositories/hibernate-orm/hibernate-core/src/main/java/org/hibernate/persister/entity/AbstractEntityPersister.java', 'className': 'org.hibernate.persister.entity.AbstractEntityPersister', 'methodSignature': 'createRootTableGroup/6[boolean,org.hibernate.persister.entity.NavigablePath,java.lang.String,org.hibernate.persister.entity.SqlAliasBase,java.util.function.Supplier<java.util.function.Consumer<org.hibernate.persister.entity.Predicate>>,org.hibernate.persister.entity.SqlAstCreationState]', 'variableName': None, 'classType': None}}, {'allValues': [20.864, 25.8624, 20.757599, 27.963202, 34.0401, 32.1209, 27.3709, 19.0972, 11.932899, 3.3616, 29.6693, 26.370602, 23.8134, 29.099102, 30.7981, 17.8693, 13.4463005, 42.5065, 25.6405, 39.336903, 33.1441, 29.010101, 32.9782, 23.444798, 22.343, 22.1655, 36.495598, 25.5249, 32.7819, 38.1419], 'commit': {'sha': '3ed1f1a064a10e53adc2ad8c0b46a4b2c148ee21', 'repository': {'name': 'spring-boot', 'owner': 'spring-projects'}}, 'measurableElement': {'astElem': 'method', 'filePath': '/home/student/j/m/jmaquoi/sentinel/open-source-repositories/spring-boot/spring-boot-project/spring-boot/src/main/java/org/springframework/boot/web/embedded/tomcat/TomcatServletWebServerFactory.java', 'className': 'org.springframework.boot.web.embedded.tomcat.TomcatServletWebServerFactory', 'methodSignature': 'getWebServer/1[org.springframework.boot.web.servlet.ServletContextInitializer[]]', 'variableName': None, 'classType': None}}, {'allValues': [85.3059, 105.13431, 113.12661, 85.1632, 135.3587, 101.1921, 90.0084, 109.8433, 105.9971, 97.6935, 94.7633, 207.7293, 96.4827, 90.1864, 85.758, 113.7415, 95.727005, 104.425095, 124.0157, 168.213, 105.2276, 77.7791, 98.590096, 93.7846, 173.81891, 136.6734, 112.808, 86.7995, 124.3834, 89.548996], 'commit': {'sha': '066f4cf207359e06d30911a553dedd054aef595c', 'repository': {'name': 'spoon', 'owner': 'INRIA'}}, 'measurableElement': {'astElem': 'method', 'filePath': '/home/student/j/m/jmaquoi/sentinel/open-source-repositories/spoon/src/main/java/spoon/Launcher.java', 'className': 'spoon.Launcher', 'methodSignature': 'prettyprint/0', 'variableName': None, 'classType': None}}, {'allValues': [301.6102, 346.8963, 285.5098, 241.6839, 412.6518, 276.2713, 330.5785, 314.9407, 426.8998, 404.4286, 277.2989, 358.6745, 346.1477, 302.391, 309.483, 294.6395, 338.2888, 289.4623, 277.7579, 293.881, 351.7768, 308.8868, 272.6915, 367.4529, 313.3278, 307.5037, 347.7932, 305.4781, 333.7496, 302.0839], 'commit': {'sha': '066f4cf207359e06d30911a553dedd054aef595c', 'repository': {'name': 'spoon', 'owner': 'INRIA'}}, 'measurableElement': {'astElem': 'method', 'filePath': '/home/student/j/m/jmaquoi/sentinel/open-source-repositories/spoon/src/main/java/spoon/reflect/visitor/CtScanner.java', 'className': 'spoon.reflect.visitor.CtScanner', 'methodSignature': 'scan/2[spoon.reflect.path.CtRole,spoon.reflect.declaration.CtElement]', 'variableName': None, 'classType': None}}, {'allValues': [101.371994, 79.537796, 68.3252, 67.2965, 77.985596, 86.8766, 69.7002, 93.0006, 59.5342, 56.0832, 122.7412, 74.9002, 62.6892, 53.2302, 57.6429, 72.81329, 90.8343, 59.412098, 90.3803, 82.8819, 61.8455, 57.173904, 83.0956, 83.9856, 85.6969, 84.8637, 105.1649, 67.5926, 60.0762, 76.0328], 'commit': {'sha': '3ed1f1a064a10e53adc2ad8c0b46a4b2c148ee21', 'repository': {'name': 'spring-boot', 'owner': 'spring-projects'}}, 'measurableElement': {'astElem': 'method', 'filePath': '/home/student/j/m/jmaquoi/sentinel/open-source-repositories/spring-boot/spring-boot-project/spring-boot/src/main/java/org/springframework/boot/web/embedded/undertow/UndertowServletWebServerFactory.java', 'className': 'org.springframework.boot.web.embedded.undertow.UndertowServletWebServerFactory', 'methodSignature': 'createManager/1[org.springframework.boot.web.servlet.ServletContextInitializer[]]', 'variableName': None, 'classType': None}}, {'allValues': [1.4266, 1.4003, 1.9241, 1.3887, 4.2955, 2.966, 1.4681, 1.9543, 1.4202, 1.7176, 1.4256, 1.4065, 1.5021, 1.4593, 1.4828, 1.397, 1.3883, 1.4764, 1.4764, 2.5299, 3.8878, 2.9906, 1.3329, 1.3471, 1.4146, 1.6966, 4.1346, 1.4676, 1.9078, 1.4442], 'commit': {'sha': '59e5152722198526c6ffe5361de7d1a6a87275c7', 'repository': {'name': 'commons-configuration', 'owner': 'apache'}}, 'measurableElement': {'astElem': 'method', 'filePath': '/home/student/j/m/jmaquoi/sentinel/open-source-repositories/commons-configuration/src/main/java/org/apache/commons/configuration2/beanutils/BeanHelper.java', 'className': 'org.apache.commons.configuration2.beanutils.BeanHelper', 'methodSignature': 'initBeanUtilsBean/0', 'variableName': None, 'classType': None}}, {'allValues': [24.3991, 58.6473, 16.857899, 33.3343, 30.425001, 29.766, 36.0624, 31.422901, 18.7398, 29.9068, 36.41, 27.8261, 41.3313, 19.9601, 22.2246, 42.6619, 29.015299, 26.703201, 28.4311, 28.2969, 26.1631, 36.1076, 62.801098, 31.9942, 24.9942, 19.7562, 18.3461, 26.622099, 25.0629, 15.1812], 'commit': {'sha': '3ed1f1a064a10e53adc2ad8c0b46a4b2c148ee21', 'repository': {'name': 'spring-boot', 'owner': 'spring-projects'}}, 'measurableElement': {'astElem': 'method', 'filePath': '/home/student/j/m/jmaquoi/sentinel/open-source-repositories/spring-boot/spring-boot-project/spring-boot/src/main/java/org/springframework/boot/context/properties/source/SpringConfigurationPropertySource.java', 'className': 'org.springframework.boot.context.properties.source.SpringConfigurationPropertySource', 'methodSignature': 'getConfigurationProperty/1[org.springframework.boot.context.properties.source.ConfigurationPropertyName]', 'variableName': None, 'classType': None}}, {'allValues': [4.8593, 4.3605, 5.2094, 3.3836, 1.5257, 5.0128, 3.4925, 5.5807, 5.0164003, 1.3852, 4.3767, 1.4847, 2.5998, 1.4608, 4.0301, 3.1632, 3.351, 5.0128, 2.281, 3.2287, 2.6559, 5.7811, 6.3469, 2.8006, 3.1606, 3.9513, 5.7832, 2.8975, 2.4304, 7.6994], 'commit': {'sha': '3ed1f1a064a10e53adc2ad8c0b46a4b2c148ee21', 'repository': {'name': 'spring-boot', 'owner': 'spring-projects'}}, 'measurableElement': {'astElem': 'method', 'filePath': '/home/student/j/m/jmaquoi/sentinel/open-source-repositories/spring-boot/spring-boot-project/spring-boot/src/test/java/org/springframework/boot/context/config/LocationResourceLoaderTests.java', 'className': 'org.springframework.boot.context.config.LocationResourceLoaderTests', 'methodSignature': 'getResourceWhenNonCleanPathReturnsResource/0', 'variableName': None, 'classType': None}}, {'allValues': [112.8133, 78.7127, 134.088, 83.0671, 63.5485, 87.0147, 86.1065, 92.639, 103.0534, 108.1167, 80.875496, 93.0317, 98.022995, 110.9834, 104.9041, 102.4196, 89.582695, 89.665, 98.6519, 95.980705, 98.323296, 110.5241, 90.524, 106.5091, 78.393295, 94.772705, 95.605804, 98.816605, 95.6914, 102.5336], 'commit': {'sha': '3ed1f1a064a10e53adc2ad8c0b46a4b2c148ee21', 'repository': {'name': 'spring-boot', 'owner': 'spring-projects'}}, 'measurableElement': {'astElem': 'method', 'filePath': '/home/student/j/m/jmaquoi/sentinel/open-source-repositories/spring-boot/spring-boot-project/spring-boot/src/test/java/org/springframework/boot/web/servlet/context/ServletWebServerMvcIntegrationTests.java', 'className': 'org.springframework.boot.web.servlet.context.ServletWebServerMvcIntegrationTests', 'methodSignature': 'doTest/2[org.springframework.boot.web.servlet.context.AnnotationConfigServletWebServerApplicationContext,java.lang.String]', 'variableName': None, 'classType': None}}, {'allValues': [26.8612, 27.8366, 28.4797, 28.907, 26.4644, 23.6142, 25.9336, 19.0113, 30.2213, 24.9525, 27.7752, 28.0308, 25.029, 25.1486, 28.6113, 27.0458, 26.7238, 23.1186, 22.9884, 36.393, 18.3052, 25.3219, 21.3592, 19.1494, 22.5418, 19.7824, 29.381, 28.625801, 26.6049, 12.9556], 'commit': {'sha': '3ed1f1a064a10e53adc2ad8c0b46a4b2c148ee21', 'repository': {'name': 'spring-boot', 'owner': 'spring-projects'}}, 'measurableElement': {'astElem': 'method', 'filePath': '/home/student/j/m/jmaquoi/sentinel/open-source-repositories/spring-boot/spring-boot-project/spring-boot/src/test/java/org/springframework/boot/logging/log4j2/Log4J2LoggingSystemTests.java', 'className': 'org.springframework.boot.logging.log4j2.Log4J2LoggingSystemTests', 'methodSignature': 'setup/0', 'variableName': None, 'classType': None}}, {'allValues': [34.6672, 58.148, 66.5227, 39.7998, 52.8868, 55.2398, 62.4768, 84.8499, 64.5134, 74.3815, 59.2922, 66.9174, 49.3018, 52.3504, 52.781097, 53.803497, 70.7993, 44.382698, 52.1421, 61.4874, 82.1651, 67.5112, 58.2115, 68.1184, 79.0736, 52.2805, 60.9183, 62.9265, 72.8757, 54.7738], 'commit': {'sha': '066f4cf207359e06d30911a553dedd054aef595c', 'repository': {'name': 'spoon', 'owner': 'INRIA'}}, 'measurableElement': {'astElem': 'method', 'filePath': '/home/student/j/m/jmaquoi/sentinel/open-source-repositories/spoon/src/main/java/spoon/support/reflect/declaration/CtTypeImpl.java', 'className': 'spoon.support.reflect.declaration.CtTypeImpl', 'methodSignature': 'getMethodsByName/1[java.lang.String]', 'variableName': None, 'classType': None}}, {'allValues': [4.3239, 12.7444, 10.692, 4.3975, 6.2804, 11.3383, 11.5517, 10.9954, 4.1682, 8.9453, 5.0311, 12.5801, 8.3626, 3.2182, 4.4784, 6.5392, 3.1546, 4.7723, 9.1352, 0.9578, 3.2162, 1.699, 7.8325, 7.0442, 4.5353, 11.179, 10.1591, 7.9285, 3.0698, 11.6094], 'commit': {'sha': '066f4cf207359e06d30911a553dedd054aef595c', 'repository': {'name': 'spoon', 'owner': 'INRIA'}}, 'measurableElement': {'astElem': 'method', 'filePath': '/home/student/j/m/jmaquoi/sentinel/open-source-repositories/spoon/src/main/java/spoon/reflect/visitor/PrinterHelper.java', 'className': 'spoon.reflect.visitor.PrinterHelper', 'methodSignature': 'putLineNumberMapping/1[int]', 'variableName': None, 'classType': None}}, {'allValues': [9.9139, 10.1598, 12.0112, 4.8314, 13.971701, 18.9358, 11.1789, 13.2686, 18.073, 12.2446995, 13.295101, 17.2136, 12.0444, 12.994301, 20.681, 9.6691, 13.722301, 11.9475, 16.594, 11.8468, 13.6121, 13.4641, 5.8154, 9.5827, 12.8511, 11.8299, 12.117499, 11.9856, 17.5492, 17.7376], 'commit': {'sha': '3ed1f1a064a10e53adc2ad8c0b46a4b2c148ee21', 'repository': {'name': 'spring-boot', 'owner': 'spring-projects'}}, 'measurableElement': {'astElem': 'method', 'filePath': '/home/student/j/m/jmaquoi/sentinel/open-source-repositories/spring-boot/spring-boot-project/spring-boot-tools/spring-boot-test-support/src/main/java/org/springframework/boot/testsupport/classpath/ModifiedClassPathClassLoader.java', 'className': 'org.springframework.boot.testsupport.classpath.ModifiedClassPathClassLoader', 'methodSignature': 'createRepositorySystem/0', 'variableName': None, 'classType': None}}, {'allValues': [71.9148, 82.334595, 106.9049, 57.9156, 84.0643, 84.1494, 99.0322, 88.7142, 76.286896, 83.4697, 88.0015, 69.8999, 86.756195, 79.1106, 52.6473, 95.519905, 93.0425, 61.136, 53.8162, 34.391197, 84.784004, 51.0667, 77.8918, 57.546898, 63.3123, 60.966896, 94.0016, 56.9011, 63.9299, 54.5501], 'commit': {'sha': '3ed1f1a064a10e53adc2ad8c0b46a4b2c148ee21', 'repository': {'name': 'spring-boot', 'owner': 'spring-projects'}}, 'measurableElement': {'astElem': 'method', 'filePath': '/home/student/j/m/jmaquoi/sentinel/open-source-repositories/spring-boot/spring-boot-project/spring-boot/src/test/java/org/springframework/boot/web/servlet/ServletComponentScanIntegrationTests.java', 'className': 'org.springframework.boot.web.servlet.ServletComponentScanIntegrationTests', 'methodSignature': 'indexedComponentsAreRegistered/2[java.lang.String,java.lang.Class<?>]', 'variableName': None, 'classType': None}}, {'allValues': [11.795, 20.274, 10.4023, 11.0539, 27.8346, 44.3587, 21.308, 10.3358, 18.2365, 21.7234, 34.501, 24.7889, 47.0549, 69.5098, 9.190701, 10.512199, 39.5634, 23.6753, 21.6334, 21.8914, 18.9012, 23.255901, 32.1884, 15.005, 41.066, 292.6906, 37.742798, 29.6432, 18.939, 21.3404], 'commit': {'sha': '12442bd8c7cde6e7c006a6277eeb8e81ad0c2219', 'repository': {'name': 'hibernate-orm', 'owner': 'hibernate'}}, 'measurableElement': {'astElem': 'method', 'filePath': '/home/student/j/m/jmaquoi/sentinel/open-source-repositories/hibernate-orm/hibernate-core/src/main/java/org/hibernate/tool/schema/extract/spi/ExtractionContext.java', 'className': 'org.hibernate.tool.schema.extract.spi.ExtractionContext', 'methodSignature': 'getQueryResults/3[java.lang.String,java.lang.Object[],org.hibernate.tool.schema.extract.spi.ExtractionContext.ResultSetProcessor<T>]', 'variableName': None, 'classType': None}}, {'allValues': [4.9436, 9.8831, 14.369, 23.5889, 13.732, 9.8009, 15.644, 14.71, 6.5246, 12.6703, 20.6358, 4.7508, 9.7677, 18.819, 7.6239, 12.4709, 6.2813, 13.4501, 4.3439, 2.6321, 4.6681, 14.5728, 9.1498, 5.658, 7.7699, 10.1562, 10.3274, 15.8978, 10.2909, 8.4144], 'commit': {'sha': '59e5152722198526c6ffe5361de7d1a6a87275c7', 'repository': {'name': 'commons-configuration', 'owner': 'apache'}}, 'measurableElement': {'astElem': 'method', 'filePath': '/home/student/j/m/jmaquoi/sentinel/open-source-repositories/commons-configuration/src/main/java/org/apache/commons/configuration2/beanutils/BeanHelper.java', 'className': 'org.apache.commons.configuration2.beanutils.BeanHelper', 'methodSignature': 'isPropertyWriteable/2[java.lang.Object,java.lang.String]', 'variableName': None, 'classType': None}}, {'allValues': [13.144799, 13.930201, 10.3302, 8.9487, 9.4321, 14.6625, 12.0848, 12.0142, 7.4025, 14.7535, 11.488501, 10.3864, 9.371201, 7.4304, 11.0475, 8.7305, 16.349499, 16.712502, 6.9093003, 7.684, 10.228, 8.5676, 8.2492, 15.099901, 8.5918, 11.844, 12.6675005, 10.4453, 19.440899, 11.7292], 'commit': {'sha': '066f4cf207359e06d30911a553dedd054aef595c', 'repository': {'name': 'spoon', 'owner': 'INRIA'}}, 'measurableElement': {'astElem': 'method', 'filePath': '/home/student/j/m/jmaquoi/sentinel/open-source-repositories/spoon/src/main/java/spoon/support/SerializationModelStreamer.java', 'className': 'spoon.support.SerializationModelStreamer', 'methodSignature': 'load/1[java.io.InputStream]', 'variableName': None, 'classType': None}}, {'allValues': [14.8377, 37.6186, 17.2515, 21.1067, 20.0873, 25.654501, 24.4168, 22.845, 16.049799, 20.2616, 15.4432, 26.028702, 25.0575, 22.854599, 18.831001, 18.771202, 11.9503, 17.8538, 7.5513, 20.1684, 21.016, 18.214699, 21.562002, 28.4081, 10.4845, 14.9525, 30.924099, 32.2055, 20.7865, 31.8923], 'commit': {'sha': '066f4cf207359e06d30911a553dedd054aef595c', 'repository': {'name': 'spoon', 'owner': 'INRIA'}}, 'measurableElement': {'astElem': 'method', 'filePath': '/home/student/j/m/jmaquoi/sentinel/open-source-repositories/spoon/src/main/java/spoon/reflect/visitor/CtScanner.java', 'className': 'spoon.reflect.visitor.CtScanner', 'methodSignature': 'visitCtLocalVariable/1[spoon.reflect.code.CtLocalVariable<T>]', 'variableName': None, 'classType': None}}, {'allValues': [11.4156, 10.0558, 11.4067, 12.109, 13.273, 14.054899, 9.3033, 11.546101, 6.5912, 17.591301, 3.3483, 13.9205, 10.1688, 12.0157, 11.4713, 10.3999, 8.4269, 12.0614, 6.8101997, 14.9238, 3.4265, 11.4908, 1.637, 10.834801, 8.0774, 11.413401, 12.8649, 14.1952, 9.8172, 12.9704], 'commit': {'sha': '3ed1f1a064a10e53adc2ad8c0b46a4b2c148ee21', 'repository': {'name': 'spring-boot', 'owner': 'spring-projects'}}, 'measurableElement': {'astElem': 'method', 'filePath': '/home/student/j/m/jmaquoi/sentinel/open-source-repositories/spring-boot/spring-boot-project/spring-boot/src/test/java/org/springframework/boot/context/properties/ConfigurationPropertiesBeanRegistrationAotProcessorTests.java', 'className': 'org.springframework.boot.context.properties.ConfigurationPropertiesBeanRegistrationAotProcessorTests', 'methodSignature': 'aotContributedInitializerBindsJavaBean/0', 'variableName': None, 'classType': None}}, {'allValues': [9.8352, 9.1634, 11.4128, 10.9786, 9.1011, 9.1204, 8.9778, 9.3447, 8.1481, 8.6685, 10.6799, 9.1557, 9.2318, 10.1308, 8.0668, 8.3414, 8.1446, 8.6992, 9.2927, 8.3123, 9.5495, 8.5445, 10.2812, 8.6603, 9.4205, 9.8696, 7.4254, 9.6442, 9.2819, 8.8416], 'commit': {'sha': '5c9d8989f968d0ee3a942b411ef7fe121ed94609', 'repository': {'name': 'jabref', 'owner': 'JabRef'}}, 'measurableElement': {'astElem': 'method', 'filePath': '/home/student/j/m/jmaquoi/sentinel/open-source-repositories/jabref/src/main/java/org/jabref/preferences/FilePreferences.java', 'className': 'org.jabref.preferences.FilePreferences', 'methodSignature': 'getWorkingDirectory/0', 'variableName': None, 'classType': None}}, {'allValues': [5.783, 5.5182, 5.2388, 7.8209, 4.866, 7.4528, 4.8428, 5.6272, 4.5528, 3.5043, 7.8649, 7.4233, 5.6036, 7.3077, 3.8652, 8.2266, 6.3694, 5.4364, 9.5674, 5.4836, 5.357, 5.9584, 6.1905003, 5.0044, 5.0642, 4.7204, 6.1116, 6.6043, 5.986, 5.3436], 'commit': {'sha': '3ed1f1a064a10e53adc2ad8c0b46a4b2c148ee21', 'repository': {'name': 'spring-boot', 'owner': 'spring-projects'}}, 'measurableElement': {'astElem': 'method', 'filePath': '/home/student/j/m/jmaquoi/sentinel/open-source-repositories/spring-boot/spring-boot-project/spring-boot/src/test/java/org/springframework/boot/SpringApplicationTests.java', 'className': 'org.springframework.boot.SpringApplicationTests', 'methodSignature': 'runnersAreCalledAfterStartedIsLoggedAndBeforeApplicationReadyEventIsPublished/1[org.springframework.boot.CapturedOutput]', 'variableName': None, 'classType': None}}, {'allValues': [4.9436, 8.934999, 5.5294, 2.1646, 2.2398, 2.0348, 2.7932, 13.6677, 1.0659, 1.2877, 1.0384, 16.7785, 2.0275, 2.121, 1.0159, 1.024, 72.331, 3.667, 3.6728, 1.316, 1.4674, 2.379, 1.0937, 1.1356, 3.5499, 1.2287, 2.7124, 4.4957, 1.5015, 3.6898], 'commit': {'sha': '59e5152722198526c6ffe5361de7d1a6a87275c7', 'repository': {'name': 'commons-configuration', 'owner': 'apache'}}, 'measurableElement': {'astElem': 'method', 'filePath': '/home/student/j/m/jmaquoi/sentinel/open-source-repositories/commons-configuration/src/main/java/org/apache/commons/configuration2/beanutils/BeanHelper.java', 'className': 'org.apache.commons.configuration2.beanutils.BeanHelper', 'methodSignature': 'createWrapDynaBean/1[java.lang.Object]', 'variableName': None, 'classType': None}}, {'allValues': [19.7703, 27.4347, 19.5369, 15.961101, 37.1162, 6.9875, 22.253101, 19.219599, 21.0176, 22.6238, 23.5215, 38.801403, 20.4543, 20.9386, 25.3744, 19.0218, 14.8986, 14.2106, 21.673399, 10.4566, 29.2504, 30.096498, 31.578, 16.6377, 22.0766, 16.1965, 15.795601, 29.174198, 30.3371, 21.4123], 'commit': {'sha': '066f4cf207359e06d30911a553dedd054aef595c', 'repository': {'name': 'spoon', 'owner': 'INRIA'}}, 'measurableElement': {'astElem': 'method', 'filePath': '/home/student/j/m/jmaquoi/sentinel/open-source-repositories/spoon/src/main/java/spoon/support/compiler/FileSystemFolder.java', 'className': 'spoon.support.compiler.FileSystemFolder', 'methodSignature': 'FileSystemFolder/1[java.io.File]', 'variableName': None, 'classType': None}}, {'allValues': [15.676701, 12.1297, 18.3768, 11.5163, 21.3197, 16.4305, 19.7566, 10.071, 16.7661, 15.1728, 16.7057, 18.0408, 18.910799, 15.1568, 17.446001, 22.6079, 22.1711, 12.7256, 19.397, 24.6793, 18.6104, 16.8813, 14.232401, 11.7137, 12.0467005, 14.9923, 14.5864, 21.262299, 5.3671, 11.6284], 'commit': {'sha': '3ed1f1a064a10e53adc2ad8c0b46a4b2c148ee21', 'repository': {'name': 'spring-boot', 'owner': 'spring-projects'}}, 'measurableElement': {'astElem': 'method', 'filePath': '/home/student/j/m/jmaquoi/sentinel/open-source-repositories/spring-boot/spring-boot-project/spring-boot/src/test/java/org/springframework/boot/logging/log4j2/Log4J2LoggingSystemTests.java', 'className': 'org.springframework.boot.logging.log4j2.Log4J2LoggingSystemTests', 'methodSignature': 'cleanUp/0', 'variableName': None, 'classType': None}}, {'allValues': [8.1668, 9.793, 11.5049, 8.0603, 9.9329, 8.61, 8.1464, 8.5129, 8.2584, 7.9714, 8.3622, 8.2528, 8.9354, 8.5951, 9.5349, 9.8523, 10.9873, 9.3262, 8.857, 12.1241, 8.3793, 9.6359, 7.6546, 8.0336, 8.3883, 8.2106, 10.1983, 8.808, 9.7637, 11.2449], 'commit': {'sha': '3ed1f1a064a10e53adc2ad8c0b46a4b2c148ee21', 'repository': {'name': 'spring-boot', 'owner': 'spring-projects'}}, 'measurableElement': {'astElem': 'method', 'filePath': '/home/student/j/m/jmaquoi/sentinel/open-source-repositories/spring-boot/spring-boot-project/spring-boot/src/test/java/org/springframework/boot/LazyInitializationExcludeFilterTests.java', 'className': 'org.springframework.boot.LazyInitializationExcludeFilterTests', 'methodSignature': 'forBeanTypesMatchesTypes/0', 'variableName': None, 'classType': None}}, {'allValues': [94.1952, 115.5696, 100.5099, 102.741394, 132.5921, 90.956, 93.926, 104.471, 152.95111, 125.0581, 90.3078, 116.8226, 106.5233, 98.8232, 95.3838, 90.4207, 113.666794, 88.844, 102.903404, 107.236595, 128.4562, 95.2238, 100.389404, 111.3041, 78.9776, 72.7996, 128.3196, 114.4424, 143.24751, 87.556595], 'commit': {'sha': '066f4cf207359e06d30911a553dedd054aef595c', 'repository': {'name': 'spoon', 'owner': 'INRIA'}}, 'measurableElement': {'astElem': 'method', 'filePath': '/home/student/j/m/jmaquoi/sentinel/open-source-repositories/spoon/src/main/java/spoon/support/reflect/declaration/CtTypeImpl.java', 'className': 'spoon.support.reflect.declaration.CtTypeImpl', 'methodSignature': 'addTypeMemberAt/2[int,spoon.reflect.declaration.CtTypeMember]', 'variableName': None, 'classType': None}}, {'allValues': [24.8109, 26.5356, 34.4698, 11.5163, 27.2487, 21.5973, 23.3963, 23.4286, 20.449, 24.4412, 23.2136, 34.3509, 33.6222, 24.345299, 23.4267, 16.5512, 20.9366, 26.7545, 29.750599, 19.8137, 17.1867, 20.9892, 21.4848, 14.9943, 23.1198, 26.9611, 30.4219, 24.668001, 19.1887, 26.0574], 'commit': {'sha': '3ed1f1a064a10e53adc2ad8c0b46a4b2c148ee21', 'repository': {'name': 'spring-boot', 'owner': 'spring-projects'}}, 'measurableElement': {'astElem': 'method', 'filePath': '/home/student/j/m/jmaquoi/sentinel/open-source-repositories/spring-boot/spring-boot-project/spring-boot/src/test/java/org/springframework/boot/logging/log4j2/Log4J2LoggingSystemTests.java', 'className': 'org.springframework.boot.logging.log4j2.Log4J2LoggingSystemTests', 'methodSignature': 'initializationIsOnlyPerformedOnceUntilCleanedUp/0', 'variableName': None, 'classType': None}}, {'allValues': [6.9241, 1.4003, 6.2797, 4.1883, 1.4318, 4.8573, 1.4681, 3.3069, 2.4861, 2.9703, 1.0384, 1.4065, 1.5021, 6.013, 6.0483, 3.6768, 17.902, 1.3757, 2.5348, 7.8859, 3.8877, 2.6848, 1.3329, 1.3471, 1.4146, 48.4292, 5.6589, 1.4676, 6.8026, 26.0684], 'commit': {'sha': '59e5152722198526c6ffe5361de7d1a6a87275c7', 'repository': {'name': 'commons-configuration', 'owner': 'apache'}}, 'measurableElement': {'astElem': 'method', 'filePath': '/home/student/j/m/jmaquoi/sentinel/open-source-repositories/commons-configuration/src/main/java/org/apache/commons/configuration2/tree/xpath/XPathExpressionEngine.java', 'className': 'org.apache.commons.configuration2.tree.xpath.XPathExpressionEngine', 'methodSignature': 'query/3[T,java.lang.String,org.apache.commons.configuration2.tree.xpath.NodeHandler<T>]', 'variableName': None, 'classType': None}}, {'allValues': [3819.0208, 3371.014, 3455.1511, 4214.571, 4127.619, 3453.4988, 3568.591, 4410.178, 3666.4958, 4107.5854, 4150.545, 3782.1096, 3556.2249, 4247.5254, 3755.4114, 3537.2607, 3385.784, 4047.2368, 3376.8672, 3830.4863, 3617.5532, 3512.9167, 13003.99, 3658.7373, 3034.71, 3686.1736, 3857.5198, 3241.248, 3374.861, 4349.917], 'commit': {'sha': '12442bd8c7cde6e7c006a6277eeb8e81ad0c2219', 'repository': {'name': 'hibernate-orm', 'owner': 'hibernate'}}, 'measurableElement': {'astElem': 'method', 'filePath': '/home/student/j/m/jmaquoi/sentinel/open-source-repositories/hibernate-orm/hibernate-core/src/main/java/org/hibernate/engine/jdbc/internal/ResultSetReturnImpl.java', 'className': 'org.hibernate.engine.jdbc.internal.ResultSetReturnImpl', 'methodSignature': 'executeUpdate/2[java.sql.PreparedStatement,java.lang.String]', 'variableName': None, 'classType': None}}, {'allValues': [31.7329, 50.2056, 28.9321, 31.9713, 26.563301, 10.3981, 31.2807, 28.4808, 36.8784, 29.057, 32.9931, 19.7853, 31.079, 28.5513, 16.3226, 33.978, 41.3358, 27.544498, 13.6562, 30.0142, 28.6703, 29.4741, 36.6314, 35.4335, 36.528297, 30.6328, 32.2976, 26.300602, 30.3493, 19.8809], 'commit': {'sha': '3ed1f1a064a10e53adc2ad8c0b46a4b2c148ee21', 'repository': {'name': 'spring-boot', 'owner': 'spring-projects'}}, 'measurableElement': {'astElem': 'method', 'filePath': '/home/student/j/m/jmaquoi/sentinel/open-source-repositories/spring-boot/spring-boot-project/spring-boot/src/test/java/org/springframework/boot/web/embedded/jetty/JettyServletWebServerFactoryTests.java', 'className': 'org.springframework.boot.web.embedded.jetty.JettyServletWebServerFactoryTests', 'methodSignature': 'mockConfiguration/1[java.lang.Class<? extends org.springframework.boot.web.embedded.jetty.Configuration>]', 'variableName': None, 'classType': None}}, {'allValues': [9.3361, 7.3942, 29.0745, 11.0796, 12.1262, 8.5436, 13.6176, 17.4283, 13.9259, 9.2878, 10.9064, 32.7985, 20.7463, 10.1775, 22.3124, 16.8922, 13.038, 8.4212, 21.3635, 15.9848, 18.1987, 18.0156, 8.5747, 13.6438, 9.0494, 15.0142, 14.5667, 25.9795, 16.9365, 7.3826], 'commit': {'sha': '066f4cf207359e06d30911a553dedd054aef595c', 'repository': {'name': 'spoon', 'owner': 'INRIA'}}, 'measurableElement': {'astElem': 'method', 'filePath': '/home/student/j/m/jmaquoi/sentinel/open-source-repositories/spoon/src/main/java/spoon/compiler/SpoonResourceHelper.java', 'className': 'spoon.compiler.SpoonResourceHelper', 'methodSignature': 'isFile/1[java.io.File]', 'variableName': None, 'classType': None}}, {'allValues': [1.1997, 11.6283, 6.638, 5.159, 8.569, 4.1124, 4.713, 1.3665, 10.0467, 9.868, 6.0836, 3.7976, 3.0735002, 4.7206, 7.9110003, 4.3752, 11.563299, 5.1244, 1.6131, 5.8583, 1.8288, 4.8999, 6.4577003, 1.952, 6.5371, 6.4202, 3.844, 11.5182, 1.5209, 4.908], 'commit': {'sha': '066f4cf207359e06d30911a553dedd054aef595c', 'repository': {'name': 'spoon', 'owner': 'INRIA'}}, 'measurableElement': {'astElem': 'method', 'filePath': '/home/student/j/m/jmaquoi/sentinel/open-source-repositories/spoon/src/test/java/spoon/test/imports/ImportTest.java', 'className': 'spoon.test.imports.ImportTest', 'methodSignature': 'testImportOnSpoon/3[spoon.test.imports.Launcher,spoon.test.imports.CtModel,spoon.test.imports.Factory]', 'variableName': None, 'classType': None}}, {'allValues': [3.6482, 4.1137, 3.2978, 1.4214, 4.344, 2.5372, 1.2908, 4.2594, 6.9713, 7.0924, 1.3565, 5.0116, 6.0627003, 2.8987, 4.0266, 2.6872, 4.6014, 6.043, 8.1758, 59.6778, 5.1237, 3.5541, 1.3697, 1.4047, 2.5587, 3.6458, 2.8799, 6.8553, 2.6047, 4.0902], 'commit': {'sha': '5c9d8989f968d0ee3a942b411ef7fe121ed94609', 'repository': {'name': 'jabref', 'owner': 'JabRef'}}, 'measurableElement': {'astElem': 'method', 'filePath': '/home/student/j/m/jmaquoi/sentinel/open-source-repositories/jabref/src/main/java/org/jabref/model/entry/Date.java', 'className': 'org.jabref.model.entry.Date', 'methodSignature': 'parse/1[java.lang.String]', 'variableName': None, 'classType': None}}, {'allValues': [39.6988, 65.8425, 26.589802, 37.7844, 46.3147, 25.086699, 33.030502, 39.6488, 30.4781, 50.382202, 34.285202, 49.1208, 31.409, 49.141697, 25.6132, 34.8877, 21.4967, 34.4533, 28.4832, 45.831398, 37.7531, 40.413, 37.0796, 39.6383, 23.0072, 18.4221, 44.0115, 28.3237, 20.5595, 42.9636], 'commit': {'sha': '066f4cf207359e06d30911a553dedd054aef595c', 'repository': {'name': 'spoon', 'owner': 'INRIA'}}, 'measurableElement': {'astElem': 'method', 'filePath': '/home/student/j/m/jmaquoi/sentinel/open-source-repositories/spoon/src/main/java/spoon/support/compiler/jdt/ReferenceBuilder.java', 'className': 'spoon.support.compiler.jdt.ReferenceBuilder', 'methodSignature': 'getParameterizedTypeReference/1[spoon.support.compiler.jdt.ParameterizedTypeBinding]', 'variableName': None, 'classType': None}}, {'allValues': [25.1107, 24.1162, 21.3537, 29.6308, 46.007904, 20.9669, 27.1659, 22.9011, 31.7171, 28.6184, 29.174301, 38.5194, 12.0258, 19.2051, 22.0278, 17.8855, 25.3419, 26.3241, 23.024601, 23.3009, 22.004799, 17.6587, 23.2306, 29.146101, 15.621901, 24.1076, 33.0241, 19.4771, 29.9864, 18.7485], 'commit': {'sha': '066f4cf207359e06d30911a553dedd054aef595c', 'repository': {'name': 'spoon', 'owner': 'INRIA'}}, 'measurableElement': {'astElem': 'method', 'filePath': '/home/student/j/m/jmaquoi/sentinel/open-source-repositories/spoon/src/main/java/spoon/support/reflect/declaration/CtCompilationUnitImpl.java', 'className': 'spoon.support.reflect.declaration.CtCompilationUnitImpl', 'methodSignature': 'getOriginalSourceCode/0', 'variableName': None, 'classType': None}}, {'allValues': [22.7995, 18.770401, 30.7667, 10.102099, 11.292, 16.2871, 10.8519, 23.788101, 16.9935, 19.8914, 19.3003, 16.332, 27.996502, 20.4566, 29.165802, 21.110199, 15.539, 23.2288, 18.2286, 21.236801, 9.3112, 18.1374, 16.134201, 21.0608, 19.1201, 18.5611, 18.425299, 23.1004, 18.554102, 19.476902], 'commit': {'sha': '3ed1f1a064a10e53adc2ad8c0b46a4b2c148ee21', 'repository': {'name': 'spring-boot', 'owner': 'spring-projects'}}, 'measurableElement': {'astElem': 'method', 'filePath': '/home/student/j/m/jmaquoi/sentinel/open-source-repositories/spring-boot/spring-boot-project/spring-boot/src/main/java/org/springframework/boot/context/properties/source/SpringConfigurationPropertySources.java', 'className': 'org.springframework.boot.context.properties.source.SpringConfigurationPropertySources', 'methodSignature': 'adapt/1[org.springframework.boot.context.properties.source.PropertySource<?>]', 'variableName': None, 'classType': None}}, {'allValues': [34.608902, 47.7316, 38.8085, 40.7257, 33.8167, 33.275, 42.6286, 52.446297, 37.5283, 25.844799, 38.675, 43.9179, 27.927801, 40.995003, 54.5172, 39.7846, 34.1976, 47.3745, 39.3301, 33.6579, 41.396698, 38.1526, 36.2721, 43.9631, 38.4222, 55.973602, 49.4238, 26.9836, 41.443, 59.153297], 'commit': {'sha': '3ed1f1a064a10e53adc2ad8c0b46a4b2c148ee21', 'repository': {'name': 'spring-boot', 'owner': 'spring-projects'}}, 'measurableElement': {'astElem': 'method', 'filePath': '/home/student/j/m/jmaquoi/sentinel/open-source-repositories/spring-boot/spring-boot-project/spring-boot/src/test/java/org/springframework/boot/context/properties/ConfigurationPropertiesTests.java', 'className': 'org.springframework.boot.context.properties.ConfigurationPropertiesTests', 'methodSignature': 'load/2[java.lang.Class<?>[],java.lang.String[]]', 'variableName': None, 'classType': None}}, {'allValues': [14.6874, 13.6208, 13.7336, 6.3687, 13.8167, 11.7623, 10.7182, 7.0857, 14.345, 3.7796, 14.1317, 18.6993, 16.5533, 1.6729, 17.6824, 12.9613, 9.7432, 8.1705, 11.3772, 8.1852, 18.0694, 15.5726, 10.6846, 20.0698, 7.9054, 17.8924, 11.7858, 16.137, 12.6609, 8.2], 'commit': {'sha': '066f4cf207359e06d30911a553dedd054aef595c', 'repository': {'name': 'spoon', 'owner': 'INRIA'}}, 'measurableElement': {'astElem': 'method', 'filePath': '/home/student/j/m/jmaquoi/sentinel/open-source-repositories/spoon/src/main/java/spoon/ContractVerifier.java', 'className': 'spoon.ContractVerifier', 'methodSignature': 'checkParentContract/0', 'variableName': None, 'classType': None}}, {'allValues': [1.4691, 13.1587, 9.1194, 10.1784, 11.721199, 6.9142, 3.686, 9.140499, 11.111401, 2.9848, 8.7636, 4.4712, 9.6619, 3.7364, 9.2198, 8.5294, 4.3506, 9.7683, 6.3683, 13.8682, 9.451, 2.813, 4.3831997, 6.568, 1.0817, 23.925, 7.1201, 4.4771, 9.1462, 13.2738], 'commit': {'sha': '12442bd8c7cde6e7c006a6277eeb8e81ad0c2219', 'repository': {'name': 'hibernate-orm', 'owner': 'hibernate'}}, 'measurableElement': {'astElem': 'method', 'filePath': '/home/student/j/m/jmaquoi/sentinel/open-source-repositories/hibernate-orm/hibernate-core/src/main/java/org/hibernate/bytecode/enhance/internal/bytebuddy/EnhancerImpl.java', 'className': 'org.hibernate.bytecode.enhance.internal.bytebuddy.EnhancerImpl', 'methodSignature': 'doEnhance/2[DynamicType.Builder<?>,TypeDescription]', 'variableName': None, 'classType': None}}, {'allValues': [462.9352, 437.6976, 423.9028, 403.172, 457.177, 376.9978, 396.4751, 445.1135, 416.7143, 96.73059, 404.1257, 385.5169, 431.5457, 394.7525, 420.69653, 414.5892, 435.3949, 473.07507, 407.5156, 484.34192, 464.12567, 420.83133, 432.1304, 382.9983, 430.9028, 405.5219, 465.8733, 491.56357, 452.4874, 397.8576], 'commit': {'sha': '3ed1f1a064a10e53adc2ad8c0b46a4b2c148ee21', 'repository': {'name': 'spring-boot', 'owner': 'spring-projects'}}, 'measurableElement': {'astElem': 'method', 'filePath': '/home/student/j/m/jmaquoi/sentinel/open-source-repositories/spring-boot/spring-boot-project/spring-boot-tools/spring-boot-test-support/src/main/java/org/springframework/boot/testsupport/classpath/ModifiedClassPathExtension.java', 'className': 'org.springframework.boot.testsupport.classpath.ModifiedClassPathExtension', 'methodSignature': 'runTest/1[java.lang.String]', 'variableName': None, 'classType': None}}, {'allValues': [7.239, 9.8193, 17.1592, 24.0884, 15.6214, 13.3204, 9.7356, 15.5312, 9.051001, 9.0509, 28.751701, 14.5198, 12.859099, 14.6383, 13.284801, 20.648, 12.375899, 8.0568, 17.909, 18.1888, 15.115399, 17.4029, 11.5527, 16.3103, 10.5597, 18.4708, 14.327, 15.9879, 6.6575, 22.8777], 'commit': {'sha': '3ed1f1a064a10e53adc2ad8c0b46a4b2c148ee21', 'repository': {'name': 'spring-boot', 'owner': 'spring-projects'}}, 'measurableElement': {'astElem': 'method', 'filePath': '/home/student/j/m/jmaquoi/sentinel/open-source-repositories/spring-boot/spring-boot-project/spring-boot/src/main/java/org/springframework/boot/web/embedded/jetty/JettyServletWebServerFactory.java', 'className': 'org.springframework.boot.web.embedded.jetty.JettyServletWebServerFactory', 'methodSignature': 'getWebServer/1[org.springframework.boot.web.servlet.ServletContextInitializer[]]', 'variableName': None, 'classType': None}}, {'allValues': [43.0833, 36.549, 34.6082, 34.0464, 45.4064, 29.203402, 36.2113, 34.4847, 37.6291, 33.85, 37.3575, 34.4895, 32.3742, 40.8859, 35.6281, 34.4564, 25.7764, 31.3766, 38.4116, 43.5491, 36.625, 31.8262, 33.7445, 30.6091, 37.8425, 34.5043, 30.637901, 39.2526, 36.3829, 25.2444], 'commit': {'sha': '3ed1f1a064a10e53adc2ad8c0b46a4b2c148ee21', 'repository': {'name': 'spring-boot', 'owner': 'spring-projects'}}, 'measurableElement': {'astElem': 'method', 'filePath': '/home/student/j/m/jmaquoi/sentinel/open-source-repositories/spring-boot/spring-boot-project/spring-boot/src/main/java/org/springframework/boot/jdbc/DataSourceBuilder.java', 'className': 'org.springframework.boot.jdbc.DataSourceBuilder', 'methodSignature': 'build/0', 'variableName': None, 'classType': None}}, {'allValues': [98.3306, 97.6888, 266.2431, 119.5272, 81.1502, 89.3413, 59.7087, 99.4634, 89.029, 63.0879, 150.3797, 89.8945, 103.4563, 113.9773, 86.8158, 115.5444, 91.2512, 106.2646, 85.6521, 260.4271, 86.4831, 103.4232, 198.9736, 97.026, 85.2406, 146.7023, 59.9046, 64.4714, 101.3416, 86.6179], 'commit': {'sha': '12442bd8c7cde6e7c006a6277eeb8e81ad0c2219', 'repository': {'name': 'hibernate-orm', 'owner': 'hibernate'}}, 'measurableElement': {'astElem': 'method', 'filePath': '/home/student/j/m/jmaquoi/sentinel/open-source-repositories/hibernate-orm/hibernate-core/src/main/java/org/hibernate/type/BasicTypeRegistry.java', 'className': 'org.hibernate.type.BasicTypeRegistry', 'methodSignature': 'applyRegistrationKeys/2[org.hibernate.type.BasicTypeReference<?>,java.lang.String[]]', 'variableName': None, 'classType': None}}, {'allValues': [2.3084, 5.8262, 4.8606, 7.8814, 9.1505, 2.492, 4.8091, 9.893, 5.9036, 8.6361, 3.623, 5.812, 7.2094, 6.067, 11.4864, 7.8699, 0.2156, 3.3932, 5.619, 5.1453, 3.8726, 2.8736, 10.7291, 7.3373, 12.3622, 2.2381, 8.9508, 2.1803, 3.8947, 2.0842], 'commit': {'sha': '066f4cf207359e06d30911a553dedd054aef595c', 'repository': {'name': 'spoon', 'owner': 'INRIA'}}, 'measurableElement': {'astElem': 'method', 'filePath': '/home/student/j/m/jmaquoi/sentinel/open-source-repositories/spoon/src/main/java/spoon/reflect/path/impl/CtRolePathElement.java', 'className': 'spoon.reflect.path.impl.CtRolePathElement', 'methodSignature': 'toString/0', 'variableName': None, 'classType': None}}, {'allValues': [133.3471, 179.157, 163.1359, 131.145, 141.1805, 106.6429, 148.8873, 180.2488, 208.5891, 191.8309, 107.9293, 154.322, 135.5165, 132.1249, 149.9811, 135.9407, 155.6406, 139.5484, 229.5143, 130.9884, 173.1162, 132.2997, 124.2101, 147.5022, 129.918, 146.6132, 201.9762, 144.9531, 134.9693, 141.6882], 'commit': {'sha': '066f4cf207359e06d30911a553dedd054aef595c', 'repository': {'name': 'spoon', 'owner': 'INRIA'}}, 'measurableElement': {'astElem': 'method', 'filePath': '/home/student/j/m/jmaquoi/sentinel/open-source-repositories/spoon/src/main/java/spoon/support/reflect/declaration/CtMethodImpl.java', 'className': 'spoon.support.reflect.declaration.CtMethodImpl', 'methodSignature': 'accept/1[spoon.reflect.visitor.CtVisitor]', 'variableName': None, 'classType': None}}, {'allValues': [45.2483, 34.6892, 38.3209, 43.2398, 29.461401, 25.3993, 30.3755, 29.911999, 26.928598, 35.6481, 31.960499, 27.7428, 25.031, 39.8452, 38.540897, 26.670101, 30.872099, 31.4481, 26.3415, 40.3122, 33.2549, 23.123, 25.9031, 28.331501, 31.7208, 26.6199, 40.6826, 28.1187, 25.7496, 35.3178], 'commit': {'sha': '12442bd8c7cde6e7c006a6277eeb8e81ad0c2219', 'repository': {'name': 'hibernate-orm', 'owner': 'hibernate'}}, 'measurableElement': {'astElem': 'method', 'filePath': '/home/student/j/m/jmaquoi/sentinel/open-source-repositories/hibernate-orm/hibernate-core/src/main/java/org/hibernate/boot/xsd/LocalXsdResolver.java', 'className': 'org.hibernate.boot.xsd.LocalXsdResolver', 'methodSignature': 'resolveLocalXsdSchema/1[java.lang.String]', 'variableName': None, 'classType': None}}, {'allValues': [12.4819, 11.8553, 15.906, 14.8791, 15.6688, 20.8957, 15.7731, 14.6353, 13.552, 15.0605, 15.3334, 13.7027, 18.2489, 16.7646, 17.4932, 6.7537, 12.9288, 16.1837, 10.7254, 22.3028, 16.5231, 15.4352, 17.5339, 16.1539, 12.9772, 14.2479, 15.8292, 11.732, 19.4385, 14.133], 'commit': {'sha': '3ed1f1a064a10e53adc2ad8c0b46a4b2c148ee21', 'repository': {'name': 'spring-boot', 'owner': 'spring-projects'}}, 'measurableElement': {'astElem': 'method', 'filePath': '/home/student/j/m/jmaquoi/sentinel/open-source-repositories/spring-boot/spring-boot-project/spring-boot/src/main/java/org/springframework/boot/rsocket/netty/NettyRSocketServerFactory.java', 'className': 'org.springframework.boot.rsocket.netty.NettyRSocketServerFactory$TcpSslServerCustomizer', 'methodSignature': 'apply/1[org.springframework.boot.rsocket.netty.TcpServer]', 'variableName': None, 'classType': None}}, {'allValues': [6.2117, 7.9842, 6.2766, 5.78, 4.0214, 6.2328, 4.1255, 8.2065, 5.194, 5.3006, 5.3235, 5.7997, 5.4082, 6.0219, 5.5839, 5.3355, 6.4922, 5.2206, 5.5642, 6.4501, 5.9852, 6.0546, 4.1922, 5.8174, 5.3434, 7.8614, 5.75, 5.591, 5.9457, 5.5556], 'commit': {'sha': '3ed1f1a064a10e53adc2ad8c0b46a4b2c148ee21', 'repository': {'name': 'spring-boot', 'owner': 'spring-projects'}}, 'measurableElement': {'astElem': 'method', 'filePath': '/home/student/j/m/jmaquoi/sentinel/open-source-repositories/spring-boot/spring-boot-project/spring-boot/src/test/java/org/springframework/boot/admin/SpringApplicationAdminMXBeanRegistrarTests.java', 'className': 'org.springframework.boot.admin.SpringApplicationAdminMXBeanRegistrarTests', 'methodSignature': 'eventsFromOtherContextsAreIgnored/0', 'variableName': None, 'classType': None}}, {'allValues': [4.6359997, 1.7918, 2.1718, 3.6679, 2.4218, 1.1144, 1.1851, 5.1949, 2.2188, 1.1633, 4.6035, 3.4765, 3.5243, 2.3954, 2.2787, 2.2702, 1.1114, 1.1973, 3.3745, 2.9788, 1.7896, 2.3259, 3.7228, 3.5055, 2.2224, 1.1362, 3.3894, 3.6818, 1.2486, 4.6595], 'commit': {'sha': '3ed1f1a064a10e53adc2ad8c0b46a4b2c148ee21', 'repository': {'name': 'spring-boot', 'owner': 'spring-projects'}}, 'measurableElement': {'astElem': 'method', 'filePath': '/home/student/j/m/jmaquoi/sentinel/open-source-repositories/spring-boot/spring-boot-project/spring-boot/src/main/java/org/springframework/boot/logging/log4j2/Log4J2LoggingSystem.java', 'className': 'org.springframework.boot.logging.log4j2.Log4J2LoggingSystem', 'methodSignature': 'reinitializeWithOverrides/1[java.util.List<java.lang.String>]', 'variableName': None, 'classType': None}}, {'allValues': [14.1116, 6.4697, 15.7018, 10.2231, 9.1377, 22.0159, 5.2032, 7.4938, 19.2302, 15.1311, 6.1204, 4.8321, 10.372, 14.822, 9.128, 8.1975, 10.4235, 24.9613, 4.1955, 25.4105, 14.5301, 33.0573, 41.6633, 9.9192, 10.6721, 12.8695, 14.2223, 9.4642, 35.5809, 14.0513], 'commit': {'sha': '12442bd8c7cde6e7c006a6277eeb8e81ad0c2219', 'repository': {'name': 'hibernate-orm', 'owner': 'hibernate'}}, 'measurableElement': {'astElem': 'method', 'filePath': '/home/student/j/m/jmaquoi/sentinel/open-source-repositories/hibernate-orm/hibernate-testing/src/main/java/org/hibernate/testing/logger/Log4J2DelegatingLogger.java', 'className': 'org.hibernate.testing.logger.Log4J2DelegatingLogger', 'methodSignature': 'isEnabled/1[org.hibernate.testing.logger.Level]', 'variableName': None, 'classType': None}}, {'allValues': [15.8761, 4.9606, 15.1715, 22.5012, 22.2966, 17.6463, 12.9325, 31.5948, 11.9474, 23.0847, 18.7485, 38.8026, 26.6345, 10.056, 34.1987, 12.1259, 11.8873, 25.8616, 9.7006, 16.1071, 21.9983, 5.1702, 16.7929, 6.9674, 7.6304, 25.4373, 8.0386, 18.1496, 19.6252, 16.871], 'commit': {'sha': '12442bd8c7cde6e7c006a6277eeb8e81ad0c2219', 'repository': {'name': 'hibernate-orm', 'owner': 'hibernate'}}, 'measurableElement': {'astElem': 'method', 'filePath': '/home/student/j/m/jmaquoi/sentinel/open-source-repositories/hibernate-orm/hibernate-core/src/main/java/org/hibernate/bytecode/internal/bytebuddy/ByteBuddyState.java', 'className': 'org.hibernate.bytecode.internal.bytebuddy.ByteBuddyState$ProxyDefinitionHelpers$Anonymous2', 'methodSignature': 'run/0', 'variableName': None, 'classType': None}}, {'allValues': [8.106, 21.2118, 11.9782, 6.3179, 4.1724, 15.4217, 14.8931, 14.6435, 5.4545, 8.0868, 9.976, 11.8215, 8.3166, 10.1184, 6.201, 12.1287, 5.532, 9.9367, 1.7401, 8.103, 10.5985, 6.9087, 12.7741, 10.7988, 15.7212, 7.1256, 13.3647, 3.572, 13.8962, 3.6218], 'commit': {'sha': '066f4cf207359e06d30911a553dedd054aef595c', 'repository': {'name': 'spoon', 'owner': 'INRIA'}}, 'measurableElement': {'astElem': 'method', 'filePath': '/home/student/j/m/jmaquoi/sentinel/open-source-repositories/spoon/src/main/java/spoon/reflect/visitor/chain/CtQueryImpl.java', 'className': 'spoon.reflect.visitor.chain.CtQueryImpl$OutputFunctionWrapper', 'methodSignature': '_accept/1[java.lang.Object]', 'variableName': None, 'classType': None}}, {'allValues': [6.5498, 9.5848, 5.9882, 5.9737, 7.8258, 3.0577, 2.3818, 7.03, 12.0403, 9.8029, 4.2192, 5.0486, 1.8742, 3.3457, 1.6147, 3.2245, 4.8716, 6.5364, 3.2506, 3.7007, 4.0154, 4.6718, 5.9776, 2.007, 2.1436, 5.3798, 3.9286, 4.8411, 4.6883, 6.42], 'commit': {'sha': '066f4cf207359e06d30911a553dedd054aef595c', 'repository': {'name': 'spoon', 'owner': 'INRIA'}}, 'measurableElement': {'astElem': 'method', 'filePath': '/home/student/j/m/jmaquoi/sentinel/open-source-repositories/spoon/src/main/java/spoon/support/reflect/cu/position/SourcePositionImpl.java', 'className': 'spoon.support.reflect.cu.position.SourcePositionImpl', 'methodSignature': 'toString/0', 'variableName': None, 'classType': None}}, {'allValues': [60.6175, 35.6119, 35.3747, 56.3806, 75.3188, 35.9505, 39.0117, 34.617203, 53.5011, 39.476597, 74.1563, 61.2942, 45.3753, 62.422, 102.637, 34.3954, 28.7047, 53.5413, 45.7681, 45.783, 45.6957, 32.0894, 49.0595, 30.0574, 39.1545, 37.355, 34.8596, 82.6866, 54.7488, 43.644897], 'commit': {'sha': '12442bd8c7cde6e7c006a6277eeb8e81ad0c2219', 'repository': {'name': 'hibernate-orm', 'owner': 'hibernate'}}, 'measurableElement': {'astElem': 'method', 'filePath': '/home/student/j/m/jmaquoi/sentinel/open-source-repositories/hibernate-orm/hibernate-core/src/main/java/org/hibernate/type/format/jackson/JacksonXmlFormatMapper.java', 'className': 'org.hibernate.type.format.jackson.JacksonXmlFormatMapper', 'methodSignature': 'createXmlMapper/0', 'variableName': None, 'classType': None}}, {'allValues': [25.9436, 190.6393, 33.5488, 20.9489, 33.8416, 15.9092, 25.0172, 26.7294, 46.7695, 27.0512, 26.2333, 25.0262, 35.8943, 23.1567, 19.4606, 23.8011, 35.1266, 30.717, 26.2409, 31.5305, 30.4294, 37.2638, 36.0071, 34.4514, 21.0083, 36.8446, 36.6964, 29.9266, 22.1293, 33.4326], 'commit': {'sha': '3ed1f1a064a10e53adc2ad8c0b46a4b2c148ee21', 'repository': {'name': 'spring-boot', 'owner': 'spring-projects'}}, 'measurableElement': {'astElem': 'method', 'filePath': '/home/student/j/m/jmaquoi/sentinel/open-source-repositories/spring-boot/spring-boot-project/spring-boot/src/main/java/org/springframework/boot/web/embedded/netty/NettyWebServer.java', 'className': 'org.springframework.boot.web.embedded.netty.NettyWebServer', 'methodSignature': 'startHttpServer/0', 'variableName': None, 'classType': None}}, {'allValues': [2.1198, 3.9293, 5.1127, 3.2161, 5.0093, 3.8632002, 6.1217, 4.5658, 8.5273, 7.2571, 2.697, 3.9371, 4.4453, 3.715, 7.3356, 1.7096, 2.8906999, 8.1314, 6.4115, 6.5791, 3.3952, 3.9674997, 2.2619, 2.3801, 2.9185, 4.1933002, 5.0506, 12.5903, 1.6773, 4.4842], 'commit': {'sha': '066f4cf207359e06d30911a553dedd054aef595c', 'repository': {'name': 'spoon', 'owner': 'INRIA'}}, 'measurableElement': {'astElem': 'method', 'filePath': '/home/student/j/m/jmaquoi/sentinel/open-source-repositories/spoon/src/test/java/spoon/test/TestExecutionLogger.java', 'className': 'spoon.test.TestExecutionLogger', 'methodSignature': 'getTestRuntime/1[spoon.test.TestIdentifier]', 'variableName': None, 'classType': None}}, {'allValues': [64.3463, 75.5923, 34.359, 37.4199, 72.9139, 52.8809, 54.1436, 55.1113, 78.3514, 58.7001, 29.4998, 81.1658, 50.0838, 45.0323, 73.8559, 49.6404, 71.4594, 42.2754, 38.4683, 46.6121, 77.7845, 44.322, 55.1652, 46.9127, 42.0552, 49.1985, 60.4118, 47.8237, 61.6391, 48.5546], 'commit': {'sha': '066f4cf207359e06d30911a553dedd054aef595c', 'repository': {'name': 'spoon', 'owner': 'INRIA'}}, 'measurableElement': {'astElem': 'method', 'filePath': '/home/student/j/m/jmaquoi/sentinel/open-source-repositories/spoon/src/main/java/spoon/support/compiler/FileSystemFile.java', 'className': 'spoon.support.compiler.FileSystemFile', 'methodSignature': 'getPath/0', 'variableName': None, 'classType': None}}, {'allValues': [9.197, 11.6389, 10.2312, 4.5134, 12.474199, 4.7932, 6.4608, 4.6016, 8.189199, 6.1556997, 6.2521, 5.9081, 4.7569, 8.0889, 4.2155, 5.0001, 6.4721003, 11.6034, 8.219999, 3.955, 14.545401, 4.965, 6.1033, 2.3756, 7.8465, 4.5849, 5.5878, 2.4248, 3.0698, 3.5243], 'commit': {'sha': '066f4cf207359e06d30911a553dedd054aef595c', 'repository': {'name': 'spoon', 'owner': 'INRIA'}}, 'measurableElement': {'astElem': 'method', 'filePath': '/home/student/j/m/jmaquoi/sentinel/open-source-repositories/spoon/src/test/java/spoon/test/imports/ImportScannerTest.java', 'className': 'spoon.test.imports.ImportScannerTest', 'methodSignature': 'testImportOnSpoon/3[spoon.test.imports.Launcher,spoon.test.imports.Factory,spoon.test.imports.CtModel]', 'variableName': None, 'classType': None}}, {'allValues': [4.1569, 11.7198, 2.8102, 6.9889, 9.5306, 3.3287, 5.2845, 4.3511, 4.6372, 5.5492, 5.379, 4.3544, 4.0104, 7.7141, 2.2758, 7.1864, 7.1676, 3.3203, 5.3653, 4.5332, 8.7614, 6.1537, 1.6675, 6.9552, 7.5216, 8.3671, 5.0936, 2.1783, 4.4775, 3.3521], 'commit': {'sha': '066f4cf207359e06d30911a553dedd054aef595c', 'repository': {'name': 'spoon', 'owner': 'INRIA'}}, 'measurableElement': {'astElem': 'method', 'filePath': '/home/student/j/m/jmaquoi/sentinel/open-source-repositories/spoon/src/main/java/spoon/support/visitor/java/JavaReflectionVisitorImpl.java', 'className': 'spoon.support.visitor.java.JavaReflectionVisitorImpl', 'methodSignature': 'visitPackage/1[java.lang.Package]', 'variableName': None, 'classType': None}}, {'allValues': [16.397999, 12.5599, 7.6244, 5.3154, 10.8367, 13.931299, 6.4293, 11.738199, 18.761799, 12.233899, 17.0037, 17.5395, 10.9021, 10.6657, 12.8041, 15.9258995, 8.4468, 4.7412, 14.415999, 9.487101, 12.152, 17.0917, 7.0844, 8.3445, 11.8895, 10.632299, 13.5639, 9.7943, 12.1203, 11.8880005], 'commit': {'sha': '5c9d8989f968d0ee3a942b411ef7fe121ed94609', 'repository': {'name': 'jabref', 'owner': 'JabRef'}}, 'measurableElement': {'astElem': 'method', 'filePath': '/home/student/j/m/jmaquoi/sentinel/open-source-repositories/jabref/src/main/java/org/jabref/model/entry/BibEntryType.java', 'className': 'org.jabref.model.entry.BibEntryType', 'methodSignature': 'isRequired/1[org.jabref.model.entry.field.Field]', 'variableName': None, 'classType': None}}, {'allValues': [20.7336, 26.888, 10.3869, 19.022, 22.8971, 20.2469, 20.8857, 22.1376, 18.4571, 19.6462, 17.774, 9.6434, 9.07, 16.185501, 16.308601, 21.0386, 18.9526, 8.1922, 17.4904, 18.432701, 21.5823, 14.025299, 18.9163, 19.032799, 16.781599, 14.0159, 8.136, 33.658802, 22.9762, 20.976099], 'commit': {'sha': '3ed1f1a064a10e53adc2ad8c0b46a4b2c148ee21', 'repository': {'name': 'spring-boot', 'owner': 'spring-projects'}}, 'measurableElement': {'astElem': 'method', 'filePath': '/home/student/j/m/jmaquoi/sentinel/open-source-repositories/spring-boot/spring-boot-project/spring-boot/src/test/java/org/springframework/boot/jdbc/EmbeddedDatabaseConnectionTests.java', 'className': 'org.springframework.boot.jdbc.EmbeddedDatabaseConnectionTests', 'methodSignature': 'mockDataSource/2[java.lang.String,java.lang.String]', 'variableName': None, 'classType': None}}, {'allValues': [6.7355, 11.4652, 10.0971, 15.8395, 12.3023, 14.1689, 7.7783, 17.4177, 16.2788, 11.9975, 8.3623, 13.6411, 9.5286, 13.4725, 4.4663, 10.8819, 17.4755, 9.9273, 20.3977, 10.0186, 7.7811, 15.948, 4.8203, 16.5451, 10.632, 8.6207, 11.7493, 7.0129, 24.6645, 14.1654], 'commit': {'sha': '066f4cf207359e06d30911a553dedd054aef595c', 'repository': {'name': 'spoon', 'owner': 'INRIA'}}, 'measurableElement': {'astElem': 'method', 'filePath': '/home/student/j/m/jmaquoi/sentinel/open-source-repositories/spoon/src/main/java/spoon/support/reflect/declaration/CtTypeImpl.java', 'className': 'spoon.support.reflect.declaration.CtTypeImpl', 'methodSignature': 'getReference/0', 'variableName': None, 'classType': None}}, {'allValues': [113.650696, 174.31549, 132.60579, 111.50499, 154.9508, 120.8387, 124.3346, 174.97931, 165.64629, 170.14868, 150.2058, 153.80751, 135.5463, 157.52132, 107.810905, 168.9712, 123.074905, 130.72119, 147.67699, 129.07849, 155.83769, 99.30701, 135.93071, 189.0578, 164.34138, 129.87639, 177.50531, 139.71512, 141.05371, 136.7893], 'commit': {'sha': '066f4cf207359e06d30911a553dedd054aef595c', 'repository': {'name': 'spoon', 'owner': 'INRIA'}}, 'measurableElement': {'astElem': 'method', 'filePath': '/home/student/j/m/jmaquoi/sentinel/open-source-repositories/spoon/src/main/java/spoon/reflect/visitor/CtScanner.java', 'className': 'spoon.reflect.visitor.CtScanner', 'methodSignature': 'visitCtInvocation/1[spoon.reflect.code.CtInvocation<T>]', 'variableName': None, 'classType': None}}, {'allValues': [11.6212, 4.7003, 7.9985, 11.2278, 2.8531, 7.4103, 6.2711, 2.3094, 7.2787, 4.8795, 8.0138, 3.4743, 7.4811, 2.6413, 7.6221, 11.721, 13.075, 2.8371, 3.4903, 3.6261, 12.4359, 7.1161, 9.0454, 4.1127, 6.1644, 16.1731, 0.0661, 6.3107, 2.4542, 4.64], 'commit': {'sha': '5c9d8989f968d0ee3a942b411ef7fe121ed94609', 'repository': {'name': 'jabref', 'owner': 'JabRef'}}, 'measurableElement': {'astElem': 'method', 'filePath': '/home/student/j/m/jmaquoi/sentinel/open-source-repositories/jabref/src/main/java/org/jabref/logic/layout/LayoutFormatterPreferences.java', 'className': 'org.jabref.logic.layout.LayoutFormatterPreferences', 'methodSignature': 'getNameFormatterPreferences/0', 'variableName': None, 'classType': None}}, {'allValues': [47.1465, 51.3089, 35.104202, 50.37, 49.570797, 47.886803, 48.4804, 54.818398, 47.8475, 49.659, 54.4007, 54.5677, 45.793, 52.821, 46.6409, 51.3935, 53.239998, 51.343002, 52.6301, 59.1908, 45.833603, 58.0797, 55.323402, 48.935898, 51.8558, 52.298702, 54.839504, 57.646, 49.2494, 50.405697], 'commit': {'sha': '3ed1f1a064a10e53adc2ad8c0b46a4b2c148ee21', 'repository': {'name': 'spring-boot', 'owner': 'spring-projects'}}, 'measurableElement': {'astElem': 'method', 'filePath': '/home/student/j/m/jmaquoi/sentinel/open-source-repositories/spring-boot/spring-boot-project/spring-boot/src/test/java/org/springframework/boot/context/properties/ConfigurationPropertiesBeanRegistrationAotProcessorTests.java', 'className': 'org.springframework.boot.context.properties.ConfigurationPropertiesBeanRegistrationAotProcessorTests', 'methodSignature': 'createContext/1[java.lang.Class<?>[]]', 'variableName': None, 'classType': None}}, {'allValues': [31.072998, 29.2099, 10.315599, 26.1175, 6.2151, 20.3475, 24.810999, 34.7995, 28.004, 18.2602, 37.9343, 27.088001, 27.239101, 22.0641, 15.840799, 25.5108, 29.7703, 10.3388, 18.723501, 7.4234, 23.6531, 24.9542, 29.9513, 27.936901, 11.719, 22.5339, 21.268301, 29.0623, 6.8664, 17.1111], 'commit': {'sha': '5c9d8989f968d0ee3a942b411ef7fe121ed94609', 'repository': {'name': 'jabref', 'owner': 'JabRef'}}, 'measurableElement': {'astElem': 'method', 'filePath': '/home/student/j/m/jmaquoi/sentinel/open-source-repositories/jabref/src/test/java/org/jabref/gui/UpdateTimestampListenerTest.java', 'className': 'org.jabref.gui.UpdateTimestampListenerTest', 'methodSignature': 'setUp/0', 'variableName': None, 'classType': None}}, {'allValues': [6.7057, 19.7784, 18.114, 8.0172, 22.9986, 6.1515, 20.6275, 8.0006, 15.799, 16.0785, 25.9853, 11.4552, 11.2099, 17.646, 17.1006, 19.4295, 14.8906, 7.5429, 20.6171, 7.3601, 6.3928, 3.709, 12.4835, 10.9773, 10.3564, 19.3572, 12.6026, 13.3245, 8.2993, 11.3488], 'commit': {'sha': '3ed1f1a064a10e53adc2ad8c0b46a4b2c148ee21', 'repository': {'name': 'spring-boot', 'owner': 'spring-projects'}}, 'measurableElement': {'astElem': 'method', 'filePath': '/home/student/j/m/jmaquoi/sentinel/open-source-repositories/spring-boot/spring-boot-project/spring-boot/src/test/java/org/springframework/boot/web/servlet/server/AbstractServletWebServerFactoryTests.java', 'className': 'org.springframework.boot.web.servlet.server.AbstractServletWebServerFactoryTests', 'methodSignature': 'getClientResponse/3[java.lang.String,org.springframework.boot.web.servlet.server.HttpMethod,java.lang.String[]]', 'variableName': None, 'classType': None}}, {'allValues': [108.31081, 125.4858, 118.4602, 138.76651, 98.2995, 123.6688, 99.848305, 114.5768, 110.19479, 90.922905, 116.104805, 111.4732, 127.6671, 113.42149, 131.5934, 121.004, 99.7495, 77.389404, 89.449, 96.8346, 96.1182, 148.2904, 141.3131, 129.383, 84.5906, 106.60629, 124.5592, 135.9832, 115.9464, 104.621796], 'commit': {'sha': '3ed1f1a064a10e53adc2ad8c0b46a4b2c148ee21', 'repository': {'name': 'spring-boot', 'owner': 'spring-projects'}}, 'measurableElement': {'astElem': 'method', 'filePath': '/home/student/j/m/jmaquoi/sentinel/open-source-repositories/spring-boot/spring-boot-project/spring-boot-tools/spring-boot-test-support/src/main/java/org/springframework/boot/testsupport/web/servlet/DirtiesUrlFactoriesExtension.java', 'className': 'org.springframework.boot.testsupport.web.servlet.DirtiesUrlFactoriesExtension', 'methodSignature': 'reset/0', 'variableName': None, 'classType': None}}, {'allValues': [51.2133, 40.87, 41.5666, 38.0237, 74.0011, 54.067, 33.2586, 30.9847, 40.3617, 47.9888, 40.6251, 43.9507, 65.1141, 39.9044, 28.1875, 43.3633, 37.1984, 25.6394, 29.474, 41.5796, 36.6286, 33.1328, 56.3758, 45.6356, 35.1722, 50.2391, 50.713, 38.496, 32.9133, 44.3164], 'commit': {'sha': '066f4cf207359e06d30911a553dedd054aef595c', 'repository': {'name': 'spoon', 'owner': 'INRIA'}}, 'measurableElement': {'astElem': 'method', 'filePath': '/home/student/j/m/jmaquoi/sentinel/open-source-repositories/spoon/src/test/java/spoon/MavenLauncherTest.java', 'className': 'spoon.MavenLauncherTest', 'methodSignature': 'copyResourceToFolder/2[java.nio.file.Path,java.lang.String]', 'variableName': None, 'classType': None}}, {'allValues': [61.7537, 100.1188, 42.4441, 50.7323, 78.6745, 44.342903, 49.453598, 102.263306, 86.77409, 58.9277, 66.4044, 81.7377, 67.8039, 58.2091, 68.0134, 83.8552, 81.5895, 69.143, 83.6234, 70.2262, 72.26781, 69.2246, 63.5372, 79.1601, 58.1989, 85.0453, 73.0006, 57.6856, 56.9539, 53.9215], 'commit': {'sha': '066f4cf207359e06d30911a553dedd054aef595c', 'repository': {'name': 'spoon', 'owner': 'INRIA'}}, 'measurableElement': {'astElem': 'method', 'filePath': '/home/student/j/m/jmaquoi/sentinel/open-source-repositories/spoon/src/main/java/spoon/reflect/visitor/CtScanner.java', 'className': 'spoon.reflect.visitor.CtScanner', 'methodSignature': 'visitCtTypeAccess/1[spoon.reflect.code.CtTypeAccess<T>]', 'variableName': None, 'classType': None}}, {'allValues': [145.2449, 112.0462, 98.2789, 102.4251, 89.9106, 93.424, 94.0624, 109.587395, 114.8729, 4.5079, 118.249, 125.2766, 146.7621, 131.5817, 86.2671, 98.4718, 101.6389, 65.5421, 122.45419, 92.9547, 85.3231, 155.0461, 95.2284, 108.6498, 122.2376, 153.7358, 93.3345, 142.6997, 129.7607, 88.3976], 'commit': {'sha': '3ed1f1a064a10e53adc2ad8c0b46a4b2c148ee21', 'repository': {'name': 'spring-boot', 'owner': 'spring-projects'}}, 'measurableElement': {'astElem': 'method', 'filePath': '/home/student/j/m/jmaquoi/sentinel/open-source-repositories/spring-boot/spring-boot-project/spring-boot/src/main/java/org/springframework/boot/web/embedded/jetty/JettyWebServer.java', 'className': 'org.springframework.boot.web.embedded.jetty.JettyWebServer', 'methodSignature': 'initialize/0', 'variableName': None, 'classType': None}}, {'allValues': [10.2967, 13.1468, 9.118401, 9.845301, 12.0508995, 10.9981, 10.725599, 12.0422, 10.9635, 6.3668003, 14.7989, 16.3514, 12.0008, 15.4219, 10.5221, 10.068701, 12.7693, 14.7169, 14.6447, 13.8405, 10.6751995, 9.8291, 12.004101, 13.3658, 13.0945, 12.999599, 13.867, 9.9486, 15.4006, 11.9315], 'commit': {'sha': '3ed1f1a064a10e53adc2ad8c0b46a4b2c148ee21', 'repository': {'name': 'spring-boot', 'owner': 'spring-projects'}}, 'measurableElement': {'astElem': 'method', 'filePath': '/home/student/j/m/jmaquoi/sentinel/open-source-repositories/spring-boot/spring-boot-project/spring-boot/src/test/java/org/springframework/boot/context/properties/source/ConfigurationPropertySourcesTests.java', 'className': 'org.springframework.boot.context.properties.source.ConfigurationPropertySourcesTests$TestPropertySource', 'methodSignature': 'createProperties/1[int]', 'variableName': None, 'classType': None}}, {'allValues': [15.876, 14.5383, 25.3451, 12.5106, 19.5571, 14.2235, 8.2375, 10.007999, 13.5893, 16.3859, 4.1448, 34.3421, 7.4057, 17.8123, 18.3343, 9.6375, 5.1313, 7.9736, 15.6557, 16.1071, 9.3646, 4.9131, 11.7704, 10.4433, 5.7937, 8.2484, 7.3428, 15.1111, 6.2988, 14.709], 'commit': {'sha': '12442bd8c7cde6e7c006a6277eeb8e81ad0c2219', 'repository': {'name': 'hibernate-orm', 'owner': 'hibernate'}}, 'measurableElement': {'astElem': 'method', 'filePath': '/home/student/j/m/jmaquoi/sentinel/open-source-repositories/hibernate-orm/hibernate-core/src/main/java/org/hibernate/bytecode/internal/bytebuddy/ByteBuddyState.java', 'className': 'org.hibernate.bytecode.internal.bytebuddy.ByteBuddyState$ProxyDefinitionHelpers', 'methodSignature': 'ProxyDefinitionHelpers/0', 'variableName': None, 'classType': None}}, {'allValues': [3.9975, 11.6112995, 5.9224, 7.4037, 9.0113, 3.9521, 7.6082, 4.416, 15.1416, 6.418, 2.2629, 6.4909, 4.8825, 8.0478, 6.6666, 9.3936, 1.6907, 4.7113, 10.584701, 4.0372, 14.1351, 9.0738, 6.5708, 3.1899, 1.0227, 2.3373, 6.7887, 11.4924, 3.1787, 6.7779], 'commit': {'sha': '066f4cf207359e06d30911a553dedd054aef595c', 'repository': {'name': 'spoon', 'owner': 'INRIA'}}, 'measurableElement': {'astElem': 'method', 'filePath': '/home/student/j/m/jmaquoi/sentinel/open-source-repositories/spoon/src/main/java/spoon/support/reflect/code/CtInvocationImpl.java', 'className': 'spoon.support.reflect.code.CtInvocationImpl', 'methodSignature': 'addArgument/2[int,spoon.reflect.code.CtExpression<?>]', 'variableName': None, 'classType': None}}, {'allValues': [630.4485, 608.7632, 640.6928, 590.1217, 610.7378, 613.1778, 594.75, 648.9504, 614.62866, 607.18384, 605.8855, 589.6801, 618.9761, 612.459, 642.83606, 609.2272, 594.5821, 622.0287, 633.5783, 702.33026, 604.2719, 637.3124, 664.2102, 613.8668, 619.32654, 583.0531, 631.9423, 643.6006, 576.0005, 622.0884], 'commit': {'sha': '3ed1f1a064a10e53adc2ad8c0b46a4b2c148ee21', 'repository': {'name': 'spring-boot', 'owner': 'spring-projects'}}, 'measurableElement': {'astElem': 'method', 'filePath': '/home/student/j/m/jmaquoi/sentinel/open-source-repositories/spring-boot/spring-boot-project/spring-boot/src/test/java/org/springframework/boot/context/properties/ConfigurationPropertiesBeanRegistrationAotProcessorTests.java', 'className': 'org.springframework.boot.context.properties.ConfigurationPropertiesBeanRegistrationAotProcessorTests', 'methodSignature': 'compile/2[org.springframework.boot.context.properties.GenericApplicationContext,java.util.function.Consumer<org.springframework.boot.context.properties.GenericApplicationContext>]', 'variableName': None, 'classType': None}}, {'allValues': [25.53, 19.4427, 21.718, 28.1149, 18.6164, 17.6476, 21.6441, 20.6573, 22.0211, 19.0033, 19.3147, 23.112299, 16.9768, 22.7603, 15.9818, 25.131, 22.3537, 17.845, 15.063, 17.4295, 19.8988, 21.2476, 23.3919, 16.897, 15.214, 24.2538, 23.6499, 22.6801, 20.9653, 26.0703], 'commit': {'sha': '3ed1f1a064a10e53adc2ad8c0b46a4b2c148ee21', 'repository': {'name': 'spring-boot', 'owner': 'spring-projects'}}, 'measurableElement': {'astElem': 'method', 'filePath': '/home/student/j/m/jmaquoi/sentinel/open-source-repositories/spring-boot/spring-boot-project/spring-boot/src/main/java/org/springframework/boot/jdbc/DataSourceBuilderRuntimeHints.java', 'className': 'org.springframework.boot.jdbc.DataSourceBuilderRuntimeHints', 'methodSignature': 'registerHints/2[org.springframework.boot.jdbc.RuntimeHints,java.lang.ClassLoader]', 'variableName': None, 'classType': None}}, {'allValues': [13.0495, 8.3951, 11.1775, 11.8482, 11.7195, 10.9976, 9.2094, 9.2412, 11.0257, 12.2074, 10.1537, 10.4417, 9.2656, 9.9955, 8.2371, 7.8832, 13.3274, 7.2598, 10.9815, 16.4108, 12.848301, 9.6488, 12.1629, 8.2025, 8.9718, 10.5546, 14.1043, 12.9098, 11.6431, 11.9903], 'commit': {'sha': '3ed1f1a064a10e53adc2ad8c0b46a4b2c148ee21', 'repository': {'name': 'spring-boot', 'owner': 'spring-projects'}}, 'measurableElement': {'astElem': 'method', 'filePath': '/home/student/j/m/jmaquoi/sentinel/open-source-repositories/spring-boot/spring-boot-project/spring-boot/src/main/java/org/springframework/boot/WebApplicationType.java', 'className': 'org.springframework.boot.WebApplicationType$WebApplicationTypeRuntimeHints', 'methodSignature': 'registerTypeIfPresent/3[java.lang.String,java.lang.ClassLoader,org.springframework.boot.RuntimeHints]', 'variableName': None, 'classType': None}}, {'allValues': [8.5697, 14.6872, 12.7481, 12.8003, 8.549601, 16.2279, 11.7811, 15.7856, 9.4806, 6.6419997, 15.993401, 7.8567004, 9.6612, 12.6826, 15.6863, 8.4064, 12.437901, 14.5635, 14.660799, 13.829, 10.8365, 4.7527, 11.1452, 15.9948, 17.2497, 13.985, 9.1644, 11.5692005, 18.1732, 7.1674], 'commit': {'sha': '5c9d8989f968d0ee3a942b411ef7fe121ed94609', 'repository': {'name': 'jabref', 'owner': 'JabRef'}}, 'measurableElement': {'astElem': 'method', 'filePath': '/home/student/j/m/jmaquoi/sentinel/open-source-repositories/jabref/src/main/java/org/jabref/logic/database/DuplicateCheck.java', 'className': 'org.jabref.logic.database.DuplicateCheck', 'methodSignature': 'compareFieldSet/3[java.util.Collection<org.jabref.logic.database.Field>,org.jabref.logic.database.BibEntry,org.jabref.logic.database.BibEntry]', 'variableName': None, 'classType': None}}, {'allValues': [72.2896, 76.4627, 90.3246, 64.2552, 77.8994, 94.6793, 67.8934, 84.9793, 70.5694, 75.269, 68.2885, 88.07, 68.457405, 68.4503, 74.4967, 65.1906, 71.5356, 74.7446, 61.7233, 74.1891, 89.5381, 76.688705, 84.6929, 83.6438, 77.1693, 68.3648, 83.1735, 77.6583, 58.5507, 70.4416], 'commit': {'sha': '066f4cf207359e06d30911a553dedd054aef595c', 'repository': {'name': 'spoon', 'owner': 'INRIA'}}, 'measurableElement': {'astElem': 'method', 'filePath': '/home/student/j/m/jmaquoi/sentinel/open-source-repositories/spoon/src/main/java/spoon/support/visitor/equals/EqualsVisitor.java', 'className': 'spoon.support.visitor.equals.EqualsVisitor', 'methodSignature': 'biScan/3[spoon.support.visitor.equals.CtRole,java.util.Collection<? extends spoon.support.visitor.equals.CtElement>,java.util.Collection<? extends spoon.support.visitor.equals.CtElement>]', 'variableName': None, 'classType': None}}, {'allValues': [28.4558, 3.527, 46.709, 24.5802, 55.0949, 17.1337, 28.1835, 19.4093, 14.5267, 15.7177, 40.4206, 8.6333, 41.9755, 12.4646, 15.2382, 26.2784, 41.3469, 33.6473, 15.4635, 50.1488, 2.9015, 43.4875, 34.1019, 29.27, 13.9894, 40.9045, 15.3952, 9.937, 12.9662, 20.1058], 'commit': {'sha': '3ed1f1a064a10e53adc2ad8c0b46a4b2c148ee21', 'repository': {'name': 'spring-boot', 'owner': 'spring-projects'}}, 'measurableElement': {'astElem': 'method', 'filePath': '/home/student/j/m/jmaquoi/sentinel/open-source-repositories/spring-boot/spring-boot-project/spring-boot/src/main/java/org/springframework/boot/webservices/client/HttpWebServiceMessageSenderBuilder.java', 'className': 'org.springframework.boot.webservices.client.HttpWebServiceMessageSenderBuilder', 'methodSignature': 'build/0', 'variableName': None, 'classType': None}}, {'allValues': [13.1538, 17.8862, 13.1451, 8.7932, 16.8645, 15.7816, 11.4411, 12.3069, 9.11, 20.5805, 11.3839, 22.094, 9.5161, 11.2948, 13.03, 18.0761, 15.1466, 20.6321, 12.662, 15.3278, 14.8243, 11.6246, 16.5445, 25.5198, 18.2117, 21.2209, 20.9969, 16.8091, 13.8407, 13.6713], 'commit': {'sha': '066f4cf207359e06d30911a553dedd054aef595c', 'repository': {'name': 'spoon', 'owner': 'INRIA'}}, 'measurableElement': {'astElem': 'method', 'filePath': '/home/student/j/m/jmaquoi/sentinel/open-source-repositories/spoon/src/main/java/spoon/support/reflect/declaration/CtEnumValueImpl.java', 'className': 'spoon.support.reflect.declaration.CtEnumValueImpl', 'methodSignature': 'accept/1[spoon.reflect.visitor.CtVisitor]', 'variableName': None, 'classType': None}}, {'allValues': [12.2097, 10.3412, 8.4416, 11.5938, 13.0795, 12.1387, 12.3078, 15.18, 16.633, 10.0717, 12.5553, 12.2113, 11.2909, 11.2877, 9.8692, 9.475, 9.6189, 7.7829, 12.2141, 16.0356, 15.4578, 10.7631, 11.8429, 9.6917, 11.9021, 11.7182, 12.1331, 10.7692, 11.7588, 15.5127], 'commit': {'sha': '3ed1f1a064a10e53adc2ad8c0b46a4b2c148ee21', 'repository': {'name': 'spring-boot', 'owner': 'spring-projects'}}, 'measurableElement': {'astElem': 'method', 'filePath': '/home/student/j/m/jmaquoi/sentinel/open-source-repositories/spring-boot/spring-boot-project/spring-boot/src/main/java/org/springframework/boot/logging/log4j2/Log4J2LoggingSystem.java', 'className': 'org.springframework.boot.logging.log4j2.Log4J2LoggingSystem', 'methodSignature': 'reinitialize/1[org.springframework.boot.logging.LoggingInitializationContext]', 'variableName': None, 'classType': None}}, {'allValues': [16.1284, 12.2533, 9.5634, 16.979, 11.3345, 3.8815, 8.4297, 11.4729, 10.2789, 14.0118, 4.2338, 17.5245, 11.4972, 16.7861, 4.0895, 9.227301, 8.445499, 8.5108, 9.6388, 15.5855, 5.3595, 7.1686, 3.6801, 15.835899, 9.1374, 20.2531, 8.0867, 13.3665, 21.6307, 6.1303997], 'commit': {'sha': '066f4cf207359e06d30911a553dedd054aef595c', 'repository': {'name': 'spoon', 'owner': 'INRIA'}}, 'measurableElement': {'astElem': 'method', 'filePath': '/home/student/j/m/jmaquoi/sentinel/open-source-repositories/spoon/src/main/java/spoon/support/visitor/java/reflect/RtParameter.java', 'className': 'spoon.support.visitor.java.reflect.RtParameter', 'methodSignature': 'parametersOf/1[java.lang.reflect.Constructor]', 'variableName': None, 'classType': None}}, {'allValues': [32.4293, 35.942398, 30.180302, 48.1375, 39.0249, 33.147, 42.746502, 45.974, 37.6419, 54.7364, 24.6588, 40.4046, 31.422098, 29.423498, 24.7592, 25.4409, 46.791695, 29.952303, 162.05809, 29.0897, 21.9041, 39.0549, 28.583899, 38.001, 32.890697, 37.885002, 33.7214, 34.2326, 44.24, 35.8472], 'commit': {'sha': '066f4cf207359e06d30911a553dedd054aef595c', 'repository': {'name': 'spoon', 'owner': 'INRIA'}}, 'measurableElement': {'astElem': 'method', 'filePath': '/home/student/j/m/jmaquoi/sentinel/open-source-repositories/spoon/src/main/java/spoon/reflect/visitor/CtInheritanceScanner.java', 'className': 'spoon.reflect.visitor.CtInheritanceScanner', 'methodSignature': 'visitCtClass/1[spoon.reflect.declaration.CtClass<T>]', 'variableName': None, 'classType': None}}, {'allValues': [2.8815, 4.1021, 1.7645, 10.1131, 2.813, 3.4316, 8.2008, 10.2656, 5.8214, 6.5468, 2.842, 5.8563, 5.1498, 6.776, 2.7975, 6.5406, 13.7315, 2.4824, 2.7458, 3.3997, 4.0198, 4.01, 5.0168, 10.0323, 7.5716, 9.3904, 13.5902, 8.0469, 6.9711, 3.2161], 'commit': {'sha': '066f4cf207359e06d30911a553dedd054aef595c', 'repository': {'name': 'spoon', 'owner': 'INRIA'}}, 'measurableElement': {'astElem': 'method', 'filePath': '/home/student/j/m/jmaquoi/sentinel/open-source-repositories/spoon/src/main/java/spoon/support/reflect/declaration/CtParameterImpl.java', 'className': 'spoon.support.reflect.declaration.CtParameterImpl', 'methodSignature': 'setType/1[spoon.reflect.reference.CtTypeReference]', 'variableName': None, 'classType': None}}, {'allValues': [16.1197, 28.0141, 17.4342, 18.1745, 17.3551, 26.5542, 17.3964, 23.2616, 20.1805, 32.4666, 23.7717, 19.3703, 26.7459, 20.2503, 26.9346, 10.4267, 8.1274, 34.2589, 16.7022, 31.2556, 12.393, 33.9418, 36.4521, 530.1835, 24.7089, 5.6326, 24.522, 22.125, 27.1184, 11.4693], 'commit': {'sha': '12442bd8c7cde6e7c006a6277eeb8e81ad0c2219', 'repository': {'name': 'hibernate-orm', 'owner': 'hibernate'}}, 'measurableElement': {'astElem': 'method', 'filePath': '/home/student/j/m/jmaquoi/sentinel/open-source-repositories/hibernate-orm/hibernate-core/src/main/java/org/hibernate/internal/util/collections/CaseInsensitiveDictionary.java', 'className': 'org.hibernate.internal.util.collections.CaseInsensitiveDictionary', 'methodSignature': 'put/2[java.lang.String,V]', 'variableName': None, 'classType': None}}, {'allValues': [20.9841, 23.8846, 21.352, 21.097, 14.1635, 16.6356, 24.9288, 19.38, 22.2024, 17.0551, 24.3716, 19.0649, 13.825, 28.4998, 14.8487, 28.3551, 21.7031, 21.715601, 23.9066, 24.4509, 17.734, 21.7206, 25.8565, 19.2344, 21.769, 18.621, 26.8399, 16.2491, 24.387001, 18.7879], 'commit': {'sha': '3ed1f1a064a10e53adc2ad8c0b46a4b2c148ee21', 'repository': {'name': 'spring-boot', 'owner': 'spring-projects'}}, 'measurableElement': {'astElem': 'method', 'filePath': '/home/student/j/m/jmaquoi/sentinel/open-source-repositories/spring-boot/spring-boot-project/spring-boot/src/main/java/org/springframework/boot/logging/log4j2/ColorConverter.java', 'className': 'org.springframework.boot.logging.log4j2.ColorConverter', 'methodSignature': 'newInstance/2[org.springframework.boot.logging.log4j2.Configuration,java.lang.String[]]', 'variableName': None, 'classType': None}}]\n",
      "0\n"
     ]
    }
   ],
   "source": [
    "allData = getAllJoularDataForMethodsHaving30Values()\n",
    "print(allData)\n",
    "joularDataRepo = sorted(allData, key=lambda x: x[\"allValues\"], reverse=True)\n",
    "joularDataRepo = []\n",
    "for methodData in joularDataRepo:\n",
    "    repositoryName = methodData[\"commit\"][\"repository\"][\"name\"]\n",
    "    methodSignature = methodData[\"measurableElement\"][\"methodSignature\"]\n",
    "    allValues = methodData[\"allValues\"]\n",
    "    allValuesAfterIQR = removeOutliersByIQR(allValues)\n",
    "    #print(len(allValuesAfterIQR))\n",
    "    if (len(allValuesAfterIQR) == 30):\n",
    "        joularDataRepo.append(methodData)\n",
    "\n",
    "    #createBoxplotJoular(repositoryName, methodSignature, allValues)\n",
    "    #createBoxplotJoular(repositoryName, methodSignature, allValuesWithoutOutliers)\n",
    "    #createBoxplotJoular(repositoryName, methodSignature, allValuesAfterIQR[\"allValues\"])\n",
    "print(len(joularDataRepo))\n",
    "\n",
    "dataAllRepositories = []\n",
    "for doc in joularDataRepo:\n",
    "    dataAllRepositories.extend({\"Repository\": row[\"commit\"][\"repository\"][\"name\"], \"Values\":val, \"Class\": row[\"measurableElement\"][\"className\"]} for val in row[\"allValues\"])\n",
    "ckDataFrame = pd.DataFrame(dataAllRepositories)\n",
    "\n",
    "#figRepository = px.violin(ckDataFrame, y=\"Values\", x=\"Repository\", points=\"all\")\n",
    "#figRepository.show()"
   ]
  },
  {
   "cell_type": "markdown",
   "id": "aabf34bf",
   "metadata": {},
   "source": [
    "### Aggregate by repository and comparison with CK values"
   ]
  },
  {
   "cell_type": "code",
   "execution_count": 71,
   "id": "10d0c9c3",
   "metadata": {},
   "outputs": [],
   "source": [
    "def sortData(data):\n",
    "    return sorted(data, key=lambda x: x[\"allValues\"], reverse=True)\n",
    "\n",
    "def removeOutliers(data):\n",
    "    print(\"Len with outliers : \", len(data))\n",
    "    only30Values = []\n",
    "    for methodData in data:\n",
    "        allValues = methodData[\"allValues\"]\n",
    "        allValuesAfterIQR = removeOutliersByIQR(allValues)\n",
    "        #print(len(allValuesAfterIQR))\n",
    "        if (len(allValuesAfterIQR) == 30):\n",
    "            only30Values.append(methodData)\n",
    "    print(\"Len without outliers (only 30 values) : \", len(only30Values))\n",
    "    return only30Values\n",
    "\n",
    "def getTheFirstHighestValues(data, end=5):\n",
    "    return data[:end]\n",
    "\n",
    "def createViolinJoular(data, granularity=\"Repository\", points=\"all\"):\n",
    "    dataAllRepositories = []\n",
    "    for doc in data:\n",
    "        dataAllRepositories.extend({\"Repository\": doc[\"commit\"][\"repository\"][\"name\"], \"Values\":val, \"Class\": doc[\"measurableElement\"][\"className\"]} for val in doc[\"allValues\"])\n",
    "    df = pd.DataFrame(dataAllRepositories)\n",
    "\n",
    "    figRepository = px.violin(df, y=\"Values\", x=granularity, points=points)\n",
    "    figRepository.show()\n",
    "\n",
    "def createMultipleBoxplot(dataOneRepo):\n",
    "    dataframePreparation = []\n",
    "    for method in dataOneRepo:\n",
    "        dataframePreparation.append({\"Method\": method[\"measurableElement\"][\"methodSignature\"], \"Values\":method[\"allValues\"], \"Class\":method[\"measurableElement\"][\"className\"]})\n",
    "    df = pd.DataFrame(dataframePreparation)\n",
    "    print(df)\n",
    "    fig = px.box(df, x=\"Method\", y=\"Values\", points=\"outliers\")\n",
    "    fig.show()\n",
    "        \n",
    "\n",
    "\n",
    "def createBarChart(dataframe, xAxisName, yAxisName, title):\n",
    "    fig = px.bar(dataframe, x=xAxisName, y=yAxisName, title=title)\n",
    "    fig.update_layout(yaxis_range=[0, 40])\n",
    "    return fig\n",
    "\n",
    "def prepareCkDataFrame(ckValues):\n",
    "    values = {item[\"name\"]:item[\"value\"] for item in ckValues}\n",
    "    return pd.DataFrame(list(values.items()), columns=[\"Metric\", \"Value\"])\n",
    "\n",
    "def createBoxplot(dataframe, title):\n",
    "    return px.box(dataframe, y=\"value\", title=title, points=\"all\")\n",
    "\n",
    "def prepareJoularDataFrame(joularValues):\n",
    "    return pd.DataFrame({\"value\": joularValues})\n",
    "\n",
    "def createSubplot(fig1, fig2, title):\n",
    "    fig1Traces = []\n",
    "    fig2Traces = []\n",
    "    for trace in range(len(fig1[\"data\"])):\n",
    "        fig1Traces.append(fig1[\"data\"][trace])\n",
    "    for trace in range(len(fig2[\"data\"])):\n",
    "        fig2Traces.append(fig2[\"data\"][trace])\n",
    "\n",
    "    \n",
    "    figure = make_subplots(rows=1, cols=2, subplot_titles=(\"Joular values\", \"Ck values\"))\n",
    "    for traces in fig1Traces:\n",
    "        figure.append_trace(traces, row=1, col=1)\n",
    "    for traces in fig2Traces:\n",
    "        figure.append_trace(traces, row=1, col=2)\n",
    "\n",
    "    figure.update_layout(title_text=title)\n",
    "    figure.show()"
   ]
  },
  {
   "cell_type": "markdown",
   "id": "ff8080e2",
   "metadata": {},
   "source": []
  },
  {
   "cell_type": "markdown",
   "id": "30ca6ece",
   "metadata": {},
   "source": []
  },
  {
   "cell_type": "markdown",
   "id": "3daa0267",
   "metadata": {},
   "source": [
    "## Methods to get specific fields from data from db"
   ]
  },
  {
   "cell_type": "code",
   "execution_count": 100,
   "id": "b0725238",
   "metadata": {},
   "outputs": [],
   "source": [
    "MEASURABLE_ELEMENT = \"measurableElement\"\n",
    "CLASS_NAME = \"className\"\n",
    "METHOD_SIGNATURE = \"methodSignature\"\n",
    "ALL_VALUES = \"allValues\""
   ]
  },
  {
   "cell_type": "code",
   "execution_count": 101,
   "id": "2d97ffdf",
   "metadata": {},
   "outputs": [],
   "source": [
    "# Joular data\n",
    "def getClassName(method):\n",
    "    return method[MEASURABLE_ELEMENT][CLASS_NAME]\n",
    "\n",
    "def getMethodSignature(method):\n",
    "    return method[MEASURABLE_ELEMENT][METHOD_SIGNATURE]\n",
    "\n",
    "def getAllJoularValues(method):\n",
    "    return method[ALL_VALUES]\n",
    "\n",
    "def getMeanOfAllJoularValues(method):\n",
    "    return statistics.mean(getAllJoularValues(method))\n",
    "\n",
    "\n",
    "# CK data\n",
    "def getMetricName(ckData):\n",
    "    return ckData[\"name\"]\n",
    "\n",
    "def getMetricValue(ckData):\n",
    "    return ckData[\"value\"]"
   ]
  },
  {
   "cell_type": "code",
   "execution_count": 74,
   "id": "23617b0c",
   "metadata": {},
   "outputs": [],
   "source": [
    "def getNameBar(row):\n",
    "    split = row[\"Method\"].split(\"[\")\n",
    "    nameLegend = row[\"Method\"].split(\"[\")[0]\n",
    "    if len(split) == 2:\n",
    "        nameLegend += \"[\" + row[\"Method\"].split(\"[\")[1][:5]\n",
    "    return nameLegend + \" \" + row[\"Class\"].split(\".\")[-1][:10]"
   ]
  },
  {
   "cell_type": "markdown",
   "id": "145d8284",
   "metadata": {},
   "source": [
    "## Creation of the figures"
   ]
  },
  {
   "cell_type": "markdown",
   "id": "61a497d1",
   "metadata": {},
   "source": [
    "Const used as key for the joular and ck dataframe"
   ]
  },
  {
   "cell_type": "code",
   "execution_count": 75,
   "id": "cb4bfba0",
   "metadata": {},
   "outputs": [],
   "source": [
    "METHOD_DF = \"Method\"\n",
    "CLASS_DF = \"Class\"\n",
    "JOULAR_VALUES_DF = \"JoularValues\"\n",
    "MEAN_JOULAR_VALUES_DF = \"MeanJoularValue\""
   ]
  },
  {
   "cell_type": "code",
   "execution_count": 104,
   "id": "d2503e35",
   "metadata": {},
   "outputs": [],
   "source": [
    "def createCkDict(methodData, mergedData, sha, allowedCkMetrics):\n",
    "    className = getClassName(methodData)\n",
    "    methodSignature = getMethodSignature(methodData)\n",
    "\n",
    "    ckDataMethod = getSeveralCkDataForOneMethod(commitSha=sha, className=className, methodSignature=methodSignature, ckMetrics=allowedCkMetrics)\n",
    "    \n",
    "    for metricData in ckDataMethod:\n",
    "        mergedData[getMetricName(metricData)].append(getMetricValue(metricData))\n",
    "    return mergedData"
   ]
  },
  {
   "cell_type": "code",
   "execution_count": 77,
   "id": "1d00cd4e",
   "metadata": {},
   "outputs": [],
   "source": [
    "def createJoularDict(methodData, mergedData):\n",
    "    mergedData[CLASS_DF].append(getClassName(methodData))\n",
    "    mergedData[METHOD_DF].append(getMethodSignature(methodData))\n",
    "    mergedData[JOULAR_VALUES_DF].append(getAllJoularValues(methodData))\n",
    "    mergedData[MEAN_JOULAR_VALUES_DF].append(getMeanOfAllJoularValues(methodData))\n",
    "    return mergedData"
   ]
  },
  {
   "cell_type": "code",
   "execution_count": 78,
   "id": "a7a8a69b",
   "metadata": {},
   "outputs": [],
   "source": [
    "def initDataframe(allowedCkMetrics):\n",
    "    dataframe = {\n",
    "        CLASS_DF : [],\n",
    "        METHOD_DF : [],\n",
    "        JOULAR_VALUES_DF : [],\n",
    "        MEAN_JOULAR_VALUES_DF: []\n",
    "    }\n",
    "    for ckMetric in allowedCkMetrics:\n",
    "        dataframe[ckMetric] = []\n",
    "    return dataframe"
   ]
  },
  {
   "cell_type": "code",
   "execution_count": 92,
   "id": "43cbb791",
   "metadata": {},
   "outputs": [],
   "source": [
    "def createJoularAndCkDataframe(dataOneRepo, sha, allowedCkMetrics):\n",
    "    mergedData = initDataframe(allowedCkMetrics)\n",
    "    for method in dataOneRepo:\n",
    "        mergedData = createJoularDict(method, mergedData)\n",
    "        mergedData = createCkDict(method, mergedData, sha, allowedCkMetrics)\n",
    "    print(\"mergedData = \", mergedData)\n",
    "    return pd.DataFrame(mergedData)"
   ]
  },
  {
   "cell_type": "code",
   "execution_count": 80,
   "id": "d83d19d6",
   "metadata": {},
   "outputs": [],
   "source": [
    "def oldCreateJoularAndCkDataframe(dataOneRepo, sha, allowedCkMetrics):\n",
    "    dataframe = []\n",
    "    for methodData in dataOneRepo:\n",
    "        allMethodData = {}\n",
    "        className = methodData[\"measurableElement\"][\"className\"]\n",
    "        methodSignature = methodData[\"measurableElement\"][\"methodSignature\"]\n",
    "\n",
    "        # Joular values\n",
    "        allMethodData[\"Method\"] = methodSignature\n",
    "        allMethodData[\"Class\"] = className\n",
    "        allMethodData[\"JoularValues\"] = methodData[\"allValues\"]\n",
    "        allMethodData[\"MeanJoularValue\"] = getMeanOfAllJoularValues(methodData[\"allValues\"])\n",
    "\n",
    "        # Ck values\n",
    "        ckDataMethod = getSeveralCkDataForOneMethod(commitSha=sha, className=className, methodSignature=methodSignature, ckMetrics=allowedCkMetrics)\n",
    "        for metric in ckDataMethod:\n",
    "            metricName = metric[\"name\"]\n",
    "            metricValue = metric[\"value\"]\n",
    "            allMethodData[metricName] = metricValue\n",
    "        dataframe.append(allMethodData)\n",
    "    return pd.DataFrame(dataframe)\n"
   ]
  },
  {
   "cell_type": "code",
   "execution_count": 81,
   "id": "47ee41b2",
   "metadata": {},
   "outputs": [],
   "source": [
    "def createBoxplotBarchartFigure(df, ckMetric, repository):    \n",
    "    fig = make_subplots(specs=[[{\"secondary_y\": True}]])\n",
    "    \n",
    "    for index,row in df.iterrows():\n",
    "        if index == 0 and repository == \"spoon\": continue\n",
    "        showLegend = False\n",
    "        if index == 1:\n",
    "            showLegend = True\n",
    "        nameBar = getNameBar(row)\n",
    "\n",
    "        # Boxplot\n",
    "        traceBoxplot = go.Box(y=row[\"JoularValues\"], name=nameBar, marker=dict(color='rgb(252,141,98)'), legendgroup=\"boxplots\", showlegend=showLegend)\n",
    "        fig.add_trace(traceBoxplot, secondary_y=True)\n",
    "\n",
    "        # Bar chart\n",
    "        xBarChart = [nameBar]\n",
    "        yBarChart = [row[ckMetric]]\n",
    "        traceBarchart = go.Bar(x=xBarChart, y=yBarChart, name=ckMetric, marker=dict(color='rgb(141,160,203)'), legendgroup=\"barcharts\", showlegend=showLegend)\n",
    "        fig.add_trace(traceBarchart)\n",
    "\n",
    "    # Trendline for the bar chart\n",
    "    overallTrendline = np.polyfit(np.arange(len(df)), df[ckMetric], 1)\n",
    "    overallSlope = overallTrendline[0]\n",
    "    overallTrendlineValues = np.polyval(overallTrendline, np.arange(len(df)))\n",
    "    traceTrendline = go.Scatter(x=[f\"{getNameBar(row)}\" for _, row in df.iterrows()], y=overallTrendlineValues, name=f'Trendline for {ckMetric} (Slope: {overallSlope:.2f})', mode=\"lines\", line=dict(color='red'))\n",
    "    #fig.add_trace(traceTrendline)\n",
    "        \n",
    "    fig['layout'].update(legend=dict(traceorder='normal'))\n",
    "    fig['layout'].update(title= \"Comparison of joular data and '\" + ckMetric + \"' metric for repository \" + repository, height=750)\n",
    "    fig.show()"
   ]
  },
  {
   "cell_type": "code",
   "execution_count": 82,
   "id": "4ea5fa86",
   "metadata": {},
   "outputs": [],
   "source": [
    "def createScatterPlot(df, ckMetric):\n",
    "    #print(df.head)\n",
    "    for index, row in df.iterrows():\n",
    "        fig = go.Scatter(x=ckMetric, y=[row[ckMetric]])\n",
    "    fig.show()"
   ]
  },
  {
   "cell_type": "code",
   "execution_count": 108,
   "id": "091414a3",
   "metadata": {},
   "outputs": [
    {
     "name": "stdout",
     "output_type": "stream",
     "text": [
      "Len with outliers :  197\n",
      "Len without outliers (only 30 values) :  93\n",
      "{'allValues': [2109.9353, 2580.8672, 1992.2736, 2085.4592, 2587.01, 2118.5796, 2087.088, 2488.8872, 2529.0112, 2514.089, 2108.82, 2643.9514, 2247.597, 2099.9507, 2037.3049, 2129.1768, 2202.229, 2109.487, 2261.734, 2128.6135, 2747.6675, 2144.3489, 2146.559, 2512.0806, 2193.447, 2201.8904, 2769.0137, 2007.5638, 2310.417, 2193.6514], 'commit': {'sha': '066f4cf207359e06d30911a553dedd054aef595c', 'repository': {'name': 'spoon', 'owner': 'INRIA'}}, 'measurableElement': {'astElem': 'method', 'filePath': '/home/student/j/m/jmaquoi/sentinel/open-source-repositories/spoon/src/main/java/spoon/reflect/visitor/EarlyTerminatingScanner.java', 'className': 'spoon.reflect.visitor.EarlyTerminatingScanner', 'methodSignature': 'scan/2[spoon.reflect.path.CtRole,java.util.Collection<? extends spoon.reflect.declaration.CtElement>]', 'variableName': None, 'classType': None}}\n",
      "mergedData =  {'Class': ['spoon.reflect.visitor.EarlyTerminatingScanner', 'spoon.support.visitor.equals.EqualsChecker', 'spoon.support.SerializationModelStreamer', 'spoon.support.reflect.CtModifierHandler', 'spoon.support.reflect.reference.CtReferenceImpl', 'spoon.reflect.visitor.CtBiScannerDefault', 'spoon.support.reflect.declaration.CtTypeImpl$1NestedTypeScanner', 'spoon.reflect.visitor.CtScanner', 'spoon.support.compiler.jdt.JDTImportBuilderTest', 'spoon.reflect.visitor.PrinterHelper', 'spoon.reflect.visitor.CtScanner', 'spoon.support.reflect.declaration.CtTypeImpl', 'spoon.reflect.factory.FactoryImpl', 'spoon.support.visitor.equals.EqualsVisitor', 'spoon.reflect.visitor.CtScanner', 'spoon.support.compiler.FileSystemFile', 'spoon.reflect.visitor.CtScanner', 'spoon.reflect.visitor.CtScanner', 'spoon.support.compiler.jdt.JDTCommentBuilder$1FindCommentParentScanner', 'spoon.support.compiler.jdt.JDTImportBuilderTest', 'spoon.support.visitor.java.JavaReflectionVisitorImpl', 'spoon.reflect.visitor.CtScanner', 'spoon.support.visitor.ProcessingVisitor', 'spoon.reflect.factory.PackageFactory', 'spoon.reflect.visitor.ImportAnalyzer$ScannerListener', 'spoon.support.reflect.declaration.CtTypeImpl', 'spoon.reflect.visitor.CtScanner', 'spoon.reflect.visitor.PrinterHelper', 'spoon.support.comparator.CtLineElementComparator', 'spoon.reflect.visitor.CtScanner', 'spoon.support.reflect.declaration.CtNamedElementImpl', 'spoon.support.visitor.equals.EqualsChecker', 'spoon.support.reflect.declaration.CtElementImpl', 'spoon.support.compiler.jdt.ReferenceBuilder', 'spoon.support.adaption.TypeAdaptor', 'spoon.support.visitor.java.JavaReflectionVisitorImpl', 'spoon.reflect.visitor.CtInheritanceScannerTest', 'spoon.reflect.visitor.DefaultJavaPrettyPrinter', 'spoon.support.visitor.java.JavaReflectionVisitorImpl', 'spoon.support.compiler.FileSystemFolder', 'spoon.reflect.visitor.ImportScannerImpl', 'spoon.support.compiler.jdt.ReferenceBuilder', 'spoon.reflect.visitor.CtBiScannerDefault', 'spoon.support.reflect.reference.CtTypeReferenceImpl', 'spoon.reflect.visitor.AccessibleVariablesFinder$1VariableScanner', 'spoon.support.visitor.java.reflect.RtParameter', 'spoon.support.reflect.reference.CtTypeReferenceImpl', 'spoon.reflect.visitor.CtScanner', 'spoon.reflect.factory.CompilationUnitFactory', 'spoon.processing.AbstractProcessor'], 'Method': ['scan/2[spoon.reflect.path.CtRole,java.util.Collection<? extends spoon.reflect.declaration.CtElement>]', 'scanCtReference/1[spoon.support.visitor.equals.CtReference]', 'save/2[spoon.support.Factory,java.io.OutputStream]', 'getModifiers/0', 'setSimpleName/1[java.lang.String]', 'biScan/3[spoon.reflect.path.CtRole,java.util.Collection<? extends spoon.reflect.declaration.CtElement>,java.util.Collection<? extends spoon.reflect.declaration.CtElement>]', 'visitType/1[spoon.reflect.declaration.CtType<?>]', 'visitCtInvocation/1[spoon.reflect.code.CtInvocation<T>]', 'setup/0', 'write/1[java.lang.String]', 'visitCtExecutableReference/1[spoon.reflect.reference.CtExecutableReference<T>]', 'getPackage/0', 'readObject/1[java.io.ObjectInputStream]', 'biScan/3[spoon.support.visitor.equals.CtRole,java.util.Collection<? extends spoon.support.visitor.equals.CtElement>,java.util.Collection<? extends spoon.support.visitor.equals.CtElement>]', 'visitCtThisAccess/1[spoon.reflect.code.CtThisAccess<T>]', 'getPath/0', 'visitCtTypeAccess/1[spoon.reflect.code.CtTypeAccess<T>]', 'visitCtFieldRead/1[spoon.reflect.code.CtFieldRead<T>]', 'scan/1[spoon.support.compiler.jdt.CtElement]', 'setupMockFactories/0', 'visitClass/1[java.lang.Class<T>]', 'visitCtBlock/1[spoon.reflect.code.CtBlock<R>]', 'canBeProcessed/1[spoon.support.visitor.CtElement]', 'getOrCreate/2[java.lang.String,spoon.reflect.declaration.CtModule]', 'enter/2[spoon.reflect.path.CtRole,spoon.reflect.declaration.CtElement]', 'getMethodsByName/1[java.lang.String]', 'scan/1[spoon.reflect.declaration.CtElement]', 'write/1[char]', 'compare/2[spoon.support.comparator.CtElement,spoon.support.comparator.CtElement]', 'visitCtAnnotation/1[spoon.reflect.declaration.CtAnnotation<A>]', 'setSimpleName/1[java.lang.String]', 'scanCtStatement/1[spoon.support.visitor.equals.CtStatement]', 'setAnnotations/1[java.util.List<spoon.reflect.declaration.CtAnnotation<? extends java.lang.annotation.Annotation>>]', 'getPackageReference/1[spoon.support.compiler.jdt.PackageBinding]', 'supertypeReachableInInheritanceTree/2[spoon.support.adaption.CtType<?>,java.lang.String]', 'getDeclaredMethods/1[java.lang.Class<T>]', 'testCtInheritanceScanner/2[java.lang.Class<?>,T]', 'shouldSetBracketAroundExpressionAndCast/1[spoon.reflect.code.CtExpression<?>]', 'isTopLevelType/1[java.lang.Class<?>]', 'FileSystemFolder/1[java.io.File]', 'lookForLocalVariables/1[spoon.reflect.declaration.CtElement]', 'setPackageOrDeclaringType/2[spoon.support.compiler.jdt.CtTypeReference<?>,spoon.support.compiler.jdt.CtReference]', 'visitCtExecutableReference/1[spoon.reflect.reference.CtExecutableReference<T>]', 'getQualifiedName/0', 'visitCtStatementList/1[spoon.reflect.code.CtStatementList]', 'parametersOf/1[java.lang.reflect.Constructor]', 'setPackage/1[spoon.reflect.reference.CtPackageReference]', 'visitCtLocalVariableReference/1[spoon.reflect.reference.CtLocalVariableReference<T>]', 'getOrCreate/1[java.lang.String]', 'addProcessedElementType/1[java.lang.Class<? extends spoon.processing.CtElement>]'], 'JoularValues': [[2109.9353, 2580.8672, 1992.2736, 2085.4592, 2587.01, 2118.5796, 2087.088, 2488.8872, 2529.0112, 2514.089, 2108.82, 2643.9514, 2247.597, 2099.9507, 2037.3049, 2129.1768, 2202.229, 2109.487, 2261.734, 2128.6135, 2747.6675, 2144.3489, 2146.559, 2512.0806, 2193.447, 2201.8904, 2769.0137, 2007.5638, 2310.417, 2193.6514], [324.4667, 319.6152, 261.6414, 287.9847, 364.9052, 276.3988, 330.2696, 348.5787, 388.358, 350.1808, 282.6285, 319.4237, 271.5302, 315.5053, 284.1926, 309.2618, 330.9494, 290.9835, 288.9638, 236.2969, 344.5818, 292.3302, 294.5574, 383.42618, 294.0531, 287.9321, 352.3981, 276.0784, 322.8061, 272.9096], [181.0151, 248.0991, 178.4615, 172.9383, 202.69249, 168.11241, 179.914, 218.12639, 187.41481, 210.5327, 173.95332, 208.4054, 181.94719, 185.5977, 139.9531, 176.17319, 237.55519, 169.4388, 213.7564, 178.94211, 221.4096, 171.6327, 176.16449, 232.0682, 160.4265, 209.18779, 236.1469, 155.0776, 202.8802, 179.73792], [137.1716, 174.9281, 145.9525, 148.2249, 131.914, 139.1097, 160.9029, 180.091, 189.0141, 162.0639, 136.1082, 199.2911, 141.5503, 149.4739, 109.886, 133.7687, 173.05, 158.7378, 108.4743, 161.769, 197.4603, 163.4404, 139.6382, 171.1532, 130.1266, 162.268, 149.1281, 145.0209, 167.768, 137.2319], [125.4578, 187.7617, 145.0521, 110.2401, 158.6581, 111.788895, 158.7953, 127.9594, 163.2884, 171.3569, 137.71361, 159.1271, 148.1123, 154.7286, 137.7333, 130.6519, 127.2375, 154.678, 138.3295, 129.6821, 152.9901, 140.0973, 151.8193, 142.3495, 128.138, 139.40851, 192.6658, 158.5477, 136.9798, 147.90291], [119.673004, 125.5151, 137.54959, 123.971405, 153.23979, 129.8005, 119.758606, 132.0799, 162.2298, 149.0674, 143.0008, 141.0005, 115.9113, 112.085, 125.984406, 121.658195, 121.8945, 112.6119, 115.8768, 140.72351, 131.1951, 98.011696, 101.3956, 117.2669, 125.3519, 109.09, 124.4486, 130.9865, 122.5119, 141.1859], [119.3137, 128.9028, 79.8621, 127.8328, 108.0706, 98.999306, 103.9799, 102.641304, 125.511, 144.9609, 114.3934, 130.0146, 98.607, 112.4805, 92.1623, 80.3142, 119.5954, 93.3537, 115.0626, 104.7941, 107.9536, 99.4674, 104.564896, 119.65009, 100.395996, 117.297, 121.7595, 108.7769, 125.8379, 80.0486], [113.650696, 174.31549, 132.60579, 111.50499, 154.9508, 120.8387, 124.3346, 174.97931, 165.64629, 170.14868, 150.2058, 153.80751, 135.5463, 157.52132, 107.810905, 168.9712, 123.074905, 130.72119, 147.67699, 129.07849, 155.83769, 99.30701, 135.93071, 189.0578, 164.34138, 129.87639, 177.50531, 139.71512, 141.05371, 136.7893], [106.9066, 165.0577, 90.6332, 143.192, 176.2631, 107.6975, 112.0006, 149.167, 128.8779, 164.8361, 113.3585, 174.9584, 122.4436, 107.8336, 105.7858, 144.8062, 117.1814, 106.8659, 105.4262, 114.2552, 187.7683, 125.5947, 109.3003, 174.6117, 107.9699, 142.1181, 136.8953, 121.4101, 127.5176, 106.6083], [88.3504, 123.7972, 93.033905, 81.1157, 104.1209, 77.0609, 74.9231, 93.4874, 116.7415, 114.7366, 83.6898, 124.8467, 101.0233, 93.1287, 87.7611, 122.1424, 126.8089, 89.5485, 99.3222, 112.0063, 150.0093, 107.0313, 89.4837, 93.6281, 101.9624, 113.4759, 135.0594, 96.4904, 114.5161, 93.398], [78.185005, 79.86861, 111.82751, 94.9151, 132.2934, 92.3672, 111.072, 116.94851, 84.191696, 121.925896, 87.6088, 130.54689, 82.0433, 70.76131, 97.426506, 89.3742, 99.14259, 105.592, 97.33959, 104.7222, 112.9115, 105.448, 87.762695, 125.5286, 92.5078, 99.00741, 110.2577, 80.1099, 89.995094, 92.187904], [73.4344, 55.9458, 45.7238, 50.9968, 69.5769, 44.3818, 51.7339, 79.1173, 78.0796, 76.9854, 55.1257, 63.5299, 42.0084, 53.3652, 76.2107, 50.081, 59.6858, 43.763, 56.0263, 56.9591, 47.5912, 57.3078, 58.627, 79.8526, 48.6965, 46.8745, 50.8894, 56.0817, 58.9392, 62.5782], [72.8181, 55.0864, 51.0681, 55.4385, 57.0017, 54.5355, 50.5935, 40.914, 73.3138, 65.0832, 44.6135, 70.6198, 46.8083, 49.6872, 69.9212, 64.1868, 65.5399, 55.5248, 64.9533, 64.555, 65.7547, 63.2676, 52.8214, 59.9347, 49.0028, 41.2551, 74.2567, 54.3001, 60.8963, 57.5957], [72.2896, 76.4627, 90.3246, 64.2552, 77.8994, 94.6793, 67.8934, 84.9793, 70.5694, 75.269, 68.2885, 88.07, 68.457405, 68.4503, 74.4967, 65.1906, 71.5356, 74.7446, 61.7233, 74.1891, 89.5381, 76.688705, 84.6929, 83.6438, 77.1693, 68.3648, 83.1735, 77.6583, 58.5507, 70.4416], [69.2602, 50.9972, 55.064, 51.747498, 57.3522, 54.9892, 54.885498, 46.810497, 44.7445, 38.4112, 56.3515, 59.0065, 57.8398, 61.5726, 48.195602, 48.3678, 43.6594, 50.5709, 37.527798, 43.8752, 61.440197, 67.367905, 46.6614, 39.4861, 64.0793, 42.7385, 47.6513, 57.9899, 43.7688, 38.637], [64.3463, 75.5923, 34.359, 37.4199, 72.9139, 52.8809, 54.1436, 55.1113, 78.3514, 58.7001, 29.4998, 81.1658, 50.0838, 45.0323, 73.8559, 49.6404, 71.4594, 42.2754, 38.4683, 46.6121, 77.7845, 44.322, 55.1652, 46.9127, 42.0552, 49.1985, 60.4118, 47.8237, 61.6391, 48.5546], [61.7537, 100.1188, 42.4441, 50.7323, 78.6745, 44.342903, 49.453598, 102.263306, 86.77409, 58.9277, 66.4044, 81.7377, 67.8039, 58.2091, 68.0134, 83.8552, 81.5895, 69.143, 83.6234, 70.2262, 72.26781, 69.2246, 63.5372, 79.1601, 58.1989, 85.0453, 73.0006, 57.6856, 56.9539, 53.9215], [60.3309, 41.8356, 37.0874, 41.446198, 53.342995, 62.6275, 51.7039, 45.3757, 69.82191, 53.9189, 38.435204, 49.8946, 59.0084, 39.6574, 44.5514, 69.382996, 55.630398, 40.2149, 30.7442, 43.1583, 50.363003, 29.2059, 50.549797, 45.972, 29.5023, 40.9339, 41.161396, 44.2792, 49.774403, 42.978397], [50.9439, 49.6666, 52.5993, 33.9157, 60.1558, 25.6065, 41.1707, 39.6658, 45.6753, 41.8036, 48.3747, 44.905, 32.3004, 31.6984, 36.9316, 36.9429, 52.3353, 47.6114, 29.394, 35.5334, 54.7938, 33.0085, 31.3095, 37.9442, 34.1091, 38.3736, 43.2104, 47.9765, 42.39, 33.7076], [42.9159, 31.060299, 37.8384, 33.380302, 33.1302, 45.991997, 41.1545, 63.5829, 63.6849, 46.6517, 43.503403, 50.7882, 33.684402, 30.1291, 33.0459, 28.475899, 46.3064, 44.231598, 33.2449, 41.8291, 49.5992, 51.168198, 33.4454, 53.7267, 31.1451, 21.9587, 65.9655, 42.1478, 33.6875, 37.6484], [42.5774, 45.4155, 33.1199, 21.9837, 33.8124, 41.771297, 28.2237, 34.4856, 51.6396, 34.2921, 24.369099, 40.9038, 27.9887, 36.047398, 32.872803, 48.8497, 32.3096, 40.2296, 25.3959, 37.4954, 21.7392, 28.826199, 33.0428, 41.779404, 28.567501, 34.5944, 35.3618, 43.819, 41.3054, 29.0727], [40.869396, 49.844097, 38.578304, 63.611202, 61.3054, 48.350502, 44.102303, 66.3246, 42.0003, 46.5624, 58.018597, 59.157402, 30.8072, 41.243404, 36.9642, 31.2709, 48.355003, 59.7895, 38.0106, 27.1068, 51.708603, 43.055, 54.662403, 69.78269, 46.8311, 45.941097, 53.135902, 43.482296, 48.232, 38.574997], [40.7116, 41.5858, 50.3227, 41.5406, 46.1724, 42.2243, 53.009098, 51.3565, 30.6058, 43.304897, 37.8095, 49.514, 24.526299, 44.0895, 48.933098, 34.729702, 45.4255, 41.6059, 32.7924, 27.717, 56.1217, 39.5249, 37.0325, 43.4571, 44.4315, 35.2321, 48.1079, 49.0287, 45.1204, 48.417805], [37.066902, 43.611, 31.1083, 33.5211, 15.1252, 20.557, 19.8138, 42.040802, 20.747099, 45.8345, 30.873402, 26.8154, 36.2925, 19.8843, 18.3395, 16.269701, 38.5341, 15.9287, 31.2874, 29.7271, 34.5582, 25.4872, 26.3984, 14.6112, 30.3555, 28.6189, 38.4971, 32.9203, 38.7928, 20.2325], [36.0885, 33.6594, 31.0418, 27.1415, 24.9769, 23.4087, 37.9458, 30.0128, 11.8277, 29.1519, 29.8363, 31.558, 33.4092, 19.2772, 22.9908, 22.1489, 15.3455, 26.4893, 23.808, 25.0696, 25.2302, 26.9173, 22.9629, 38.4514, 22.5909, 31.4189, 29.9726, 29.5067, 24.0308, 31.8843], [34.6672, 58.148, 66.5227, 39.7998, 52.8868, 55.2398, 62.4768, 84.8499, 64.5134, 74.3815, 59.2922, 66.9174, 49.3018, 52.3504, 52.781097, 53.803497, 70.7993, 44.382698, 52.1421, 61.4874, 82.1651, 67.5112, 58.2115, 68.1184, 79.0736, 52.2805, 60.9183, 62.9265, 72.8757, 54.7738], [29.9955, 13.3122, 18.5825, 15.5577, 28.9139, 14.059, 14.9619, 31.4127, 26.5625, 27.0118, 22.5697, 35.2722, 19.7594, 16.5801, 18.0907, 20.4988, 32.5826, 14.7789, 20.6625, 16.0618, 36.3618, 15.3624, 20.7142, 19.5458, 21.5002, 25.1815, 19.6408, 11.5933, 30.6315, 23.5993], [28.3178, 24.899101, 27.2409, 19.6089, 41.519997, 25.713799, 19.2492, 21.7694, 28.7064, 41.0797, 35.4833, 38.5961, 38.4321, 19.8167, 38.377502, 44.761597, 19.2793, 8.1031, 21.0205, 21.234001, 12.1642, 34.0579, 47.095398, 32.3079, 51.665802, 18.8763, 28.600601, 20.0826, 20.3493, 26.2173], [27.4054, 30.5026, 28.0092, 21.539, 24.2789, 30.664402, 26.8866, 31.957798, 37.7461, 34.573402, 19.286901, 40.745697, 31.6705, 43.4162, 31.349699, 27.707, 29.8811, 31.012402, 38.8991, 14.5842, 30.084398, 16.5852, 11.4123, 19.200302, 31.513802, 22.2911, 22.210499, 38.3483, 30.587101, 16.5029], [27.244701, 36.981697, 28.9926, 21.5246, 43.876297, 28.9093, 34.5422, 52.7186, 41.7357, 24.768, 33.4713, 47.466404, 28.8354, 34.3279, 32.6601, 25.671299, 38.3982, 46.007202, 33.1316, 27.095098, 20.3663, 27.8188, 28.274, 41.645298, 25.0233, 21.927002, 34.4575, 25.8107, 38.1892, 39.1873], [26.641499, 36.4855, 45.908897, 17.998299, 23.968102, 23.2873, 33.5184, 37.991802, 20.8545, 23.823, 31.6978, 30.478, 32.378, 29.641201, 24.763802, 26.3556, 29.911, 26.3591, 24.796, 26.1469, 27.6804, 53.0343, 41.2619, 37.8104, 36.261, 20.4139, 37.0982, 43.7419, 18.5042, 26.676], [25.6986, 31.9893, 17.5187, 27.7531, 30.557299, 21.984798, 11.887099, 28.9858, 13.6624, 26.216, 11.7963, 25.596, 18.4067, 19.2152, 20.6986, 13.9342, 14.7178, 29.9211, 16.23, 9.653, 17.7468, 13.7416, 22.4186, 27.4869, 17.7981, 25.8859, 17.368, 14.3327, 39.5613, 22.389], [24.933, 33.4235, 32.3414, 42.4205, 33.7863, 20.739399, 35.0168, 33.718098, 45.2541, 41.4241, 39.438004, 45.644398, 37.3186, 37.9312, 30.2077, 40.6226, 29.2566, 38.1465, 36.4837, 25.7668, 33.9979, 40.5521, 43.0311, 51.2836, 22.7265, 32.7229, 39.316, 36.2384, 28.0379, 36.7796], [22.6039, 26.1238, 36.6242, 19.6724, 34.581, 19.3389, 15.3021, 22.3823, 33.4381, 39.3959, 18.0453, 37.0821, 23.8942, 31.0638, 33.6398, 20.9657, 27.5245, 28.5891, 25.8698, 24.6721, 28.4257, 24.7252, 23.2472, 33.3253, 20.3236, 29.0169, 27.6296, 18.5917, 23.8245, 19.5087], [21.2591, 21.9906, 24.6634, 12.1377, 23.7265, 11.2931, 20.5261, 22.1948, 18.4168, 17.9716, 11.3986, 20.6068, 15.166599, 11.0275, 9.0833, 14.3919, 13.2815, 19.3994, 12.7272, 14.4302, 11.9352, 14.7847, 18.3142, 19.6453, 9.1995, 26.5235, 14.8554, 22.0054, 21.939001, 15.448], [21.0562, 32.4849, 22.9326, 31.2938, 35.2763, 16.7024, 27.7984, 28.4619, 38.2127, 32.4762, 23.9376, 39.7974, 26.1078, 21.9819, 35.2753, 20.460602, 32.2114, 34.0889, 23.0833, 22.9477, 49.7156, 30.5354, 25.5681, 29.2077, 18.2944, 15.0102, 39.1446, 21.981, 36.5258, 41.0651], [20.6353, 25.2406, 24.8219, 24.507599, 34.404, 9.305901, 20.6707, 24.6949, 28.8973, 28.7093, 18.4774, 24.581999, 11.5791, 25.2694, 16.8217, 20.580101, 28.3664, 25.7023, 20.235199, 16.8001, 23.7644, 12.9531, 24.585798, 16.6607, 22.574501, 12.4074, 17.7587, 22.8034, 32.0034, 16.5727], [20.482899, 24.7109, 19.109402, 27.3148, 21.4296, 28.574501, 24.078201, 26.6195, 28.973099, 19.2639, 15.7829, 16.595001, 23.2612, 18.116798, 17.4435, 18.6168, 12.9452, 14.114, 24.2426, 23.562601, 28.9394, 13.206699, 14.860899, 23.9179, 21.3196, 16.204, 11.531799, 19.348701, 15.175799, 15.3094], [20.1426, 36.0589, 35.9793, 23.4715, 31.3122, 26.2175, 27.6874, 40.6014, 18.5884, 21.1566, 30.492, 33.9624, 19.1094, 32.6517, 26.9081, 24.2076, 32.0056, 29.6958, 25.5549, 24.7979, 26.8262, 23.3829, 15.7991, 25.8075, 20.1393, 13.2116, 42.3859, 21.2487, 24.2806, 30.2648], [19.7703, 27.4347, 19.5369, 15.961101, 37.1162, 6.9875, 22.253101, 19.219599, 21.0176, 22.6238, 23.5215, 38.801403, 20.4543, 20.9386, 25.3744, 19.0218, 14.8986, 14.2106, 21.673399, 10.4566, 29.2504, 30.096498, 31.578, 16.6377, 22.0766, 16.1965, 15.795601, 29.174198, 30.3371, 21.4123], [19.6666, 11.7987995, 9.5036, 11.6457, 18.6268, 6.0365, 12.6605, 9.4924, 15.9762, 11.109, 4.7024, 14.5159, 6.5618, 19.339, 11.43, 13.0773, 6.6917, 14.9904995, 11.0982, 6.2371, 14.152201, 9.6391, 13.1278, 9.2984, 7.9481, 9.6166, 17.5781, 3.3103, 7.682, 7.9551], [17.3074, 16.0644, 11.7146, 11.7197, 14.2492, 12.1897, 5.7325, 20.3323, 13.4773, 20.6827, 12.0934, 15.8648, 7.4538, 9.5418, 12.6018, 20.7828, 12.2608, 12.916, 12.6216, 6.6303997, 16.0672, 5.9146, 6.6531, 7.0937, 10.7989, 16.921, 8.4993, 10.9079, 16.7834, 18.1576], [16.707201, 16.5446, 14.717501, 15.9931, 8.8264, 13.6708, 8.1531, 11.4463, 12.9324, 20.3824, 9.4846, 12.2383995, 15.5849, 19.397701, 16.3788, 17.4445, 9.7028, 17.4296, 17.8655, 13.062, 14.077, 12.6559, 12.9294, 9.3943, 12.9608, 12.363199, 10.0241, 14.4183, 14.2866, 12.3664], [16.4127, 31.472301, 26.322899, 27.956402, 20.5387, 17.8502, 9.0004, 32.7074, 14.0611, 5.6109, 21.4568, 13.362101, 10.329201, 14.2663, 15.3459, 9.8892, 27.4039, 18.1946, 23.5876, 5.7797003, 10.4194, 41.1379, 14.2894, 8.4579, 5.9786, 20.5949, 10.8991, 21.3021, 18.7426, 25.311901], [16.390299, 10.2796, 10.4522, 10.4531, 11.3477, 12.073, 8.4594, 14.0507, 8.0385, 9.550301, 6.2002997, 13.0171, 10.0737, 7.4379997, 14.8057, 16.2585, 10.1466, 6.6339, 4.0519, 10.479, 8.075701, 9.639, 3.2886, 9.284201, 14.7233, 9.5381, 14.5921, 10.8985, 5.3113003, 6.8878], [16.1284, 12.2533, 9.5634, 16.979, 11.3345, 3.8815, 8.4297, 11.4729, 10.2789, 14.0118, 4.2338, 17.5245, 11.4972, 16.7861, 4.0895, 9.227301, 8.445499, 8.5108, 9.6388, 15.5855, 5.3595, 7.1686, 3.6801, 15.835899, 9.1374, 20.2531, 8.0867, 13.3665, 21.6307, 6.1303997], [15.364, 2.2802, 1.2198, 17.6666, 14.8145, 6.1813, 5.1868, 11.4982, 6.3976, 11.0315, 3.2991, 2.0398, 10.6775, 3.518, 3.5227, 12.8195, 9.8879, 11.3601, 10.6518, 9.6356, 13.9647, 12.6773, 16.5397, 10.2923, 4.5001, 12.3613, 10.1657, 10.523, 12.0975, 6.2967], [15.349199, 30.723202, 32.5957, 26.0583, 34.7888, 34.4207, 23.2827, 23.5811, 30.641998, 25.2747, 31.1189, 35.761898, 24.7281, 24.824099, 19.2121, 28.373, 35.6324, 33.8709, 31.6921, 35.3642, 44.431, 26.7408, 30.2272, 32.3342, 30.946201, 24.055801, 35.119198, 33.6696, 19.393501, 38.8252], [15.0273, 14.9737, 12.9417, 13.7869, 13.2459, 11.1511, 9.1, 14.6774, 11.0588, 8.7956, 11.9927, 10.4132, 10.2714, 7.965, 10.6913, 7.1111, 10.1629, 6.4014, 9.9729, 17.2796, 17.529, 12.2664, 9.9587, 8.5047, 9.4765, 8.0075, 9.8905, 12.3253, 13.8492, 12.9599], [14.9294, 20.9502, 8.3078, 18.0515, 14.6121, 8.3795, 4.6661, 11.3411, 5.5315, 14.0709, 6.8854, 12.8546, 9.7337, 6.2428, 9.1776, 4.557, 15.9187, 3.3643, 6.4495, 7.0818, 8.433, 8.2081, 6.9826, 20.3038, 8.6622, 8.6091, 5.7289, 8.3893, 6.2642, 11.7884]], 'MeanJoularValue': [2276.29013, 310.106926, 191.92537, 153.49058666666667, 145.6417175, 126.83587006666667, 109.55346973333333, 143.8934792, 129.91136, 103.42333683333334, 99.4622972, 58.33896333333333, 58.378256666666665, 75.32299033333334, 51.3683165, 54.85930666666667, 69.16954356666666, 47.09630323333334, 41.13511666666667, 41.50408326666667, 35.063053366666665, 47.589273266666666, 42.48170663333333, 28.794996866666665, 27.271793333333335, 60.5199464, 22.04524, 28.4875566, 28.028403433333335, 33.035253266666665, 30.516230066666665, 21.171696533333332, 35.6186433, 26.314246666666666, 17.01143, 29.1211734, 21.746176600000002, 20.168386633333334, 26.79826, 22.127563333333335, 11.182256666666667, 12.801123323333334, 13.781286716666667, 17.956070176666667, 10.081270056666666, 11.017376623333334, 9.28236, 29.767893233333332, 11.39292, 9.882503333333334], 'cbo': [3.0, 2.0, 3.0, 1.0, 5.0, 2.0, 6.0, 7.0, 3.0, 1.0, 5.0, 4.0, 0.0, 2.0, 7.0, 0.0, 5.0, 7.0, 4.0, 3.0, 3.0, 5.0, 2.0, 5.0, 9.0, 3.0, 2.0, 1.0, 1.0, 5.0, 4.0, 2.0, 4.0, 3.0, 2.0, 2.0, 3.0, 11.0, 0.0, 1.0, 7.0, 6.0, 5.0, 4.0, 5.0, 2.0, 7.0, 5.0, 2.0, 0.0]}\n"
     ]
    }
   ],
   "source": [
    "#allCommitSha = [\"066f4cf207359e06d30911a553dedd054aef595c\", \"5c9d8989f968d0ee3a942b411ef7fe121ed94609\", \"12442bd8c7cde6e7c006a6277eeb8e81ad0c2219\", \"3ed1f1a064a10e53adc2ad8c0b46a4b2c148ee21\", \"59e5152722198526c6ffe5361de7d1a6a87275c7\"]\n",
    "allCommitSha = [\"066f4cf207359e06d30911a553dedd054aef595c\"]\n",
    "allowedCkMetrics = [\"cbo\"]\n",
    "\n",
    "for sha in allCommitSha:\n",
    "    joularDataRepo = getAllJoularDataForMethodsHaving30Values(sha)\n",
    "    sortedJoularDataRepo = sortData(joularDataRepo)\n",
    "    joularDataRepoWithoutOutliers = removeOutliers(sortedJoularDataRepo)\n",
    "    joularDataRepoWithoutOutliers = getTheFirstHighestValues(joularDataRepoWithoutOutliers, 50)\n",
    "    repoName = joularDataRepoWithoutOutliers[0][\"commit\"][\"repository\"][\"name\"]\n",
    "    print(joularDataRepoWithoutOutliers[0])\n",
    "    #df = oldCreateJoularAndCkDataframe(joularDataRepoWithoutOutliers, sha, allowedCkMetrics)\n",
    "    df = createJoularAndCkDataframe(joularDataRepoWithoutOutliers, sha, allowedCkMetrics)\n",
    "\n",
    "    \"\"\"for ckMetric in allowedCkMetrics:\n",
    "        #createBoxplotBarchartFigure(df, ckMetric, repoName)\n",
    "        createScatterPlot(df, ckMetric)\"\"\""
   ]
  },
  {
   "cell_type": "markdown",
   "id": "135c15c9",
   "metadata": {},
   "source": [
    "# Test "
   ]
  },
  {
   "cell_type": "code",
   "execution_count": 31,
   "id": "b2e76a1d",
   "metadata": {},
   "outputs": [],
   "source": [
    "def getJoularDataFromOneMethodFromOneCommit(commitSha, className, methodSignature):\n",
    "    URL = BASE_URL + \"/joular-entities/by-commit-and-ast-elem/\" + commitSha\n",
    "    PARAMS = {\"className\":className, \"methodSignature\":methodSignature}\n",
    "    r = requests.get(url = URL, params = PARAMS)\n",
    "    return r.json()"
   ]
  },
  {
   "cell_type": "code",
   "execution_count": 32,
   "id": "e31a2951",
   "metadata": {},
   "outputs": [],
   "source": [
    "def getCkDataFromOneCommit(commitSha, astElem, className, methodSignature=None):\n",
    "    URL = BASE_URL + \"/ck-entities/by-commit-and-ast-elem/\" + commitSha\n",
    "    if methodSignature != None:\n",
    "        PARAMS = {\"astElem\": astElem, \"className\":className, \"methodSignature\":methodSignature}\n",
    "    else:\n",
    "        PARAMS = {\"astElem\": astElem, \"className\":className}\n",
    "    r = requests.get(url = URL, params = PARAMS)\n",
    "    return r.json()"
   ]
  },
  {
   "cell_type": "code",
   "execution_count": 33,
   "id": "bddfb070",
   "metadata": {},
   "outputs": [],
   "source": [
    "def createJoularBoxplot(commitSha, className, methodSignature):\n",
    "    data = getJoularDataFromOneMethodFromOneCommit(commitSha, className, methodSignature)\n",
    "    values = [item[\"value\"] for item in data[\"content\"] if item[\"value\"] > 0]\n",
    "    df = pd.DataFrame({\"value\":values})\n",
    "    fig = px.box(df, y=\"value\", title=\"Joular values for \" + methodSignature, points='all')\n",
    "    fig.show()"
   ]
  },
  {
   "cell_type": "code",
   "execution_count": 34,
   "id": "a4900258",
   "metadata": {},
   "outputs": [],
   "source": [
    "def createCkBarChart(commitSha, astElem, className, methodSignature):\n",
    "    NAMES = [\"wmc\", \"cbo\", \"cboModified\", \"loc\", \"fanin\", \"fanout\"]\n",
    "    data = getCkDataFromOneCommit(commitSha, astElem, className, methodSignature)\n",
    "    values = {item[\"name\"]:item[\"value\"] for item in data[\"content\"] if item[\"name\"] in NAMES}\n",
    "    df = pd.DataFrame(list(values.items()), columns=[\"Metric\", \"Value\"])\n",
    "    fig = px.bar(df, x=\"Metric\", y=\"Value\", title=\"Ck metrics for \" + methodSignature)\n",
    "    fig.show()"
   ]
  },
  {
   "cell_type": "code",
   "execution_count": 35,
   "id": "b65d1f00",
   "metadata": {},
   "outputs": [],
   "source": [
    "def createBoxplotAndBarChart(commitSha, astElem, className, methodSignature):\n",
    "    createJoularBoxplot(commitSha, className, methodSignature)\n",
    "    createCkBarChart(commitSha, astElem, className, methodSignature)"
   ]
  },
  {
   "cell_type": "code",
   "execution_count": 36,
   "id": "c18fcf08",
   "metadata": {},
   "outputs": [
    {
     "ename": "JSONDecodeError",
     "evalue": "Expecting value: line 1 column 1 (char 0)",
     "output_type": "error",
     "traceback": [
      "\u001b[0;31m---------------------------------------------------------------------------\u001b[0m",
      "\u001b[0;31mJSONDecodeError\u001b[0m                           Traceback (most recent call last)",
      "\u001b[0;32m~/anaconda3/lib/python3.9/site-packages/requests/models.py\u001b[0m in \u001b[0;36mjson\u001b[0;34m(self, **kwargs)\u001b[0m\n\u001b[1;32m    970\u001b[0m         \u001b[0;32mtry\u001b[0m\u001b[0;34m:\u001b[0m\u001b[0;34m\u001b[0m\u001b[0;34m\u001b[0m\u001b[0m\n\u001b[0;32m--> 971\u001b[0;31m             \u001b[0;32mreturn\u001b[0m \u001b[0mcomplexjson\u001b[0m\u001b[0;34m.\u001b[0m\u001b[0mloads\u001b[0m\u001b[0;34m(\u001b[0m\u001b[0mself\u001b[0m\u001b[0;34m.\u001b[0m\u001b[0mtext\u001b[0m\u001b[0;34m,\u001b[0m \u001b[0;34m**\u001b[0m\u001b[0mkwargs\u001b[0m\u001b[0;34m)\u001b[0m\u001b[0;34m\u001b[0m\u001b[0;34m\u001b[0m\u001b[0m\n\u001b[0m\u001b[1;32m    972\u001b[0m         \u001b[0;32mexcept\u001b[0m \u001b[0mJSONDecodeError\u001b[0m \u001b[0;32mas\u001b[0m \u001b[0me\u001b[0m\u001b[0;34m:\u001b[0m\u001b[0;34m\u001b[0m\u001b[0;34m\u001b[0m\u001b[0m\n",
      "\u001b[0;32m~/anaconda3/lib/python3.9/json/__init__.py\u001b[0m in \u001b[0;36mloads\u001b[0;34m(s, cls, object_hook, parse_float, parse_int, parse_constant, object_pairs_hook, **kw)\u001b[0m\n\u001b[1;32m    345\u001b[0m             parse_constant is None and object_pairs_hook is None and not kw):\n\u001b[0;32m--> 346\u001b[0;31m         \u001b[0;32mreturn\u001b[0m \u001b[0m_default_decoder\u001b[0m\u001b[0;34m.\u001b[0m\u001b[0mdecode\u001b[0m\u001b[0;34m(\u001b[0m\u001b[0ms\u001b[0m\u001b[0;34m)\u001b[0m\u001b[0;34m\u001b[0m\u001b[0;34m\u001b[0m\u001b[0m\n\u001b[0m\u001b[1;32m    347\u001b[0m     \u001b[0;32mif\u001b[0m \u001b[0mcls\u001b[0m \u001b[0;32mis\u001b[0m \u001b[0;32mNone\u001b[0m\u001b[0;34m:\u001b[0m\u001b[0;34m\u001b[0m\u001b[0;34m\u001b[0m\u001b[0m\n",
      "\u001b[0;32m~/anaconda3/lib/python3.9/json/decoder.py\u001b[0m in \u001b[0;36mdecode\u001b[0;34m(self, s, _w)\u001b[0m\n\u001b[1;32m    336\u001b[0m         \"\"\"\n\u001b[0;32m--> 337\u001b[0;31m         \u001b[0mobj\u001b[0m\u001b[0;34m,\u001b[0m \u001b[0mend\u001b[0m \u001b[0;34m=\u001b[0m \u001b[0mself\u001b[0m\u001b[0;34m.\u001b[0m\u001b[0mraw_decode\u001b[0m\u001b[0;34m(\u001b[0m\u001b[0ms\u001b[0m\u001b[0;34m,\u001b[0m \u001b[0midx\u001b[0m\u001b[0;34m=\u001b[0m\u001b[0m_w\u001b[0m\u001b[0;34m(\u001b[0m\u001b[0ms\u001b[0m\u001b[0;34m,\u001b[0m \u001b[0;36m0\u001b[0m\u001b[0;34m)\u001b[0m\u001b[0;34m.\u001b[0m\u001b[0mend\u001b[0m\u001b[0;34m(\u001b[0m\u001b[0;34m)\u001b[0m\u001b[0;34m)\u001b[0m\u001b[0;34m\u001b[0m\u001b[0;34m\u001b[0m\u001b[0m\n\u001b[0m\u001b[1;32m    338\u001b[0m         \u001b[0mend\u001b[0m \u001b[0;34m=\u001b[0m \u001b[0m_w\u001b[0m\u001b[0;34m(\u001b[0m\u001b[0ms\u001b[0m\u001b[0;34m,\u001b[0m \u001b[0mend\u001b[0m\u001b[0;34m)\u001b[0m\u001b[0;34m.\u001b[0m\u001b[0mend\u001b[0m\u001b[0;34m(\u001b[0m\u001b[0;34m)\u001b[0m\u001b[0;34m\u001b[0m\u001b[0;34m\u001b[0m\u001b[0m\n",
      "\u001b[0;32m~/anaconda3/lib/python3.9/json/decoder.py\u001b[0m in \u001b[0;36mraw_decode\u001b[0;34m(self, s, idx)\u001b[0m\n\u001b[1;32m    354\u001b[0m         \u001b[0;32mexcept\u001b[0m \u001b[0mStopIteration\u001b[0m \u001b[0;32mas\u001b[0m \u001b[0merr\u001b[0m\u001b[0;34m:\u001b[0m\u001b[0;34m\u001b[0m\u001b[0;34m\u001b[0m\u001b[0m\n\u001b[0;32m--> 355\u001b[0;31m             \u001b[0;32mraise\u001b[0m \u001b[0mJSONDecodeError\u001b[0m\u001b[0;34m(\u001b[0m\u001b[0;34m\"Expecting value\"\u001b[0m\u001b[0;34m,\u001b[0m \u001b[0ms\u001b[0m\u001b[0;34m,\u001b[0m \u001b[0merr\u001b[0m\u001b[0;34m.\u001b[0m\u001b[0mvalue\u001b[0m\u001b[0;34m)\u001b[0m \u001b[0;32mfrom\u001b[0m \u001b[0;32mNone\u001b[0m\u001b[0;34m\u001b[0m\u001b[0;34m\u001b[0m\u001b[0m\n\u001b[0m\u001b[1;32m    356\u001b[0m         \u001b[0;32mreturn\u001b[0m \u001b[0mobj\u001b[0m\u001b[0;34m,\u001b[0m \u001b[0mend\u001b[0m\u001b[0;34m\u001b[0m\u001b[0;34m\u001b[0m\u001b[0m\n",
      "\u001b[0;31mJSONDecodeError\u001b[0m: Expecting value: line 1 column 1 (char 0)",
      "\nDuring handling of the above exception, another exception occurred:\n",
      "\u001b[0;31mJSONDecodeError\u001b[0m                           Traceback (most recent call last)",
      "\u001b[0;32m/tmp/ipykernel_14478/1442648676.py\u001b[0m in \u001b[0;36m<module>\u001b[0;34m\u001b[0m\n\u001b[0;32m----> 1\u001b[0;31m \u001b[0mcreateBoxplotAndBarChart\u001b[0m\u001b[0;34m(\u001b[0m\u001b[0;34m\"3ed1f1a064a10e53adc2ad8c0b46a4b2c148ee21\"\u001b[0m\u001b[0;34m,\u001b[0m \u001b[0;34m\"method\"\u001b[0m\u001b[0;34m,\u001b[0m \u001b[0;34m\"org.springframework.boot.web.servlet.server.StaticResourceJars\"\u001b[0m\u001b[0;34m,\u001b[0m \u001b[0;34m\"isResourcesJar/1[java.util.jar.JarFile]\"\u001b[0m\u001b[0;34m)\u001b[0m\u001b[0;34m\u001b[0m\u001b[0;34m\u001b[0m\u001b[0m\n\u001b[0m\u001b[1;32m      2\u001b[0m \u001b[0;34m\u001b[0m\u001b[0m\n\u001b[1;32m      3\u001b[0m \u001b[0mcreateBoxplotAndBarChart\u001b[0m\u001b[0;34m(\u001b[0m\u001b[0;34m\"12442bd8c7cde6e7c006a6277eeb8e81ad0c2219\"\u001b[0m\u001b[0;34m,\u001b[0m \u001b[0;34m\"method\"\u001b[0m\u001b[0;34m,\u001b[0m \u001b[0;34m\"org.hibernate.engine.jdbc.internal.ResultSetReturnImpl\"\u001b[0m\u001b[0;34m,\u001b[0m \u001b[0;34m\"executeUpdate/2[java.sql.PreparedStatement,java.lang.String]\"\u001b[0m\u001b[0;34m)\u001b[0m\u001b[0;34m\u001b[0m\u001b[0;34m\u001b[0m\u001b[0m\n\u001b[1;32m      4\u001b[0m \u001b[0;34m\u001b[0m\u001b[0m\n\u001b[1;32m      5\u001b[0m \u001b[0mcreateBoxplotAndBarChart\u001b[0m\u001b[0;34m(\u001b[0m\u001b[0;34m\"12442bd8c7cde6e7c006a6277eeb8e81ad0c2219\"\u001b[0m\u001b[0;34m,\u001b[0m \u001b[0;34m\"method\"\u001b[0m\u001b[0;34m,\u001b[0m \u001b[0;34m\"org.hibernate.bytecode.internal.bytebuddy.ByteBuddyState\"\u001b[0m\u001b[0;34m,\u001b[0m \u001b[0;34m\"make/2[TypePool,DynamicType.Builder<?>]\"\u001b[0m\u001b[0;34m)\u001b[0m\u001b[0;34m\u001b[0m\u001b[0;34m\u001b[0m\u001b[0m\n",
      "\u001b[0;32m/tmp/ipykernel_14478/212554073.py\u001b[0m in \u001b[0;36mcreateBoxplotAndBarChart\u001b[0;34m(commitSha, astElem, className, methodSignature)\u001b[0m\n\u001b[1;32m      1\u001b[0m \u001b[0;32mdef\u001b[0m \u001b[0mcreateBoxplotAndBarChart\u001b[0m\u001b[0;34m(\u001b[0m\u001b[0mcommitSha\u001b[0m\u001b[0;34m,\u001b[0m \u001b[0mastElem\u001b[0m\u001b[0;34m,\u001b[0m \u001b[0mclassName\u001b[0m\u001b[0;34m,\u001b[0m \u001b[0mmethodSignature\u001b[0m\u001b[0;34m)\u001b[0m\u001b[0;34m:\u001b[0m\u001b[0;34m\u001b[0m\u001b[0;34m\u001b[0m\u001b[0m\n\u001b[0;32m----> 2\u001b[0;31m     \u001b[0mcreateJoularBoxplot\u001b[0m\u001b[0;34m(\u001b[0m\u001b[0mcommitSha\u001b[0m\u001b[0;34m,\u001b[0m \u001b[0mclassName\u001b[0m\u001b[0;34m,\u001b[0m \u001b[0mmethodSignature\u001b[0m\u001b[0;34m)\u001b[0m\u001b[0;34m\u001b[0m\u001b[0;34m\u001b[0m\u001b[0m\n\u001b[0m\u001b[1;32m      3\u001b[0m     \u001b[0mcreateCkBarChart\u001b[0m\u001b[0;34m(\u001b[0m\u001b[0mcommitSha\u001b[0m\u001b[0;34m,\u001b[0m \u001b[0mastElem\u001b[0m\u001b[0;34m,\u001b[0m \u001b[0mclassName\u001b[0m\u001b[0;34m,\u001b[0m \u001b[0mmethodSignature\u001b[0m\u001b[0;34m)\u001b[0m\u001b[0;34m\u001b[0m\u001b[0;34m\u001b[0m\u001b[0m\n",
      "\u001b[0;32m/tmp/ipykernel_14478/685635392.py\u001b[0m in \u001b[0;36mcreateJoularBoxplot\u001b[0;34m(commitSha, className, methodSignature)\u001b[0m\n\u001b[1;32m      1\u001b[0m \u001b[0;32mdef\u001b[0m \u001b[0mcreateJoularBoxplot\u001b[0m\u001b[0;34m(\u001b[0m\u001b[0mcommitSha\u001b[0m\u001b[0;34m,\u001b[0m \u001b[0mclassName\u001b[0m\u001b[0;34m,\u001b[0m \u001b[0mmethodSignature\u001b[0m\u001b[0;34m)\u001b[0m\u001b[0;34m:\u001b[0m\u001b[0;34m\u001b[0m\u001b[0;34m\u001b[0m\u001b[0m\n\u001b[0;32m----> 2\u001b[0;31m     \u001b[0mdata\u001b[0m \u001b[0;34m=\u001b[0m \u001b[0mgetJoularDataFromOneMethodFromOneCommit\u001b[0m\u001b[0;34m(\u001b[0m\u001b[0mcommitSha\u001b[0m\u001b[0;34m,\u001b[0m \u001b[0mclassName\u001b[0m\u001b[0;34m,\u001b[0m \u001b[0mmethodSignature\u001b[0m\u001b[0;34m)\u001b[0m\u001b[0;34m\u001b[0m\u001b[0;34m\u001b[0m\u001b[0m\n\u001b[0m\u001b[1;32m      3\u001b[0m     \u001b[0mvalues\u001b[0m \u001b[0;34m=\u001b[0m \u001b[0;34m[\u001b[0m\u001b[0mitem\u001b[0m\u001b[0;34m[\u001b[0m\u001b[0;34m\"value\"\u001b[0m\u001b[0;34m]\u001b[0m \u001b[0;32mfor\u001b[0m \u001b[0mitem\u001b[0m \u001b[0;32min\u001b[0m \u001b[0mdata\u001b[0m\u001b[0;34m[\u001b[0m\u001b[0;34m\"content\"\u001b[0m\u001b[0;34m]\u001b[0m \u001b[0;32mif\u001b[0m \u001b[0mitem\u001b[0m\u001b[0;34m[\u001b[0m\u001b[0;34m\"value\"\u001b[0m\u001b[0;34m]\u001b[0m \u001b[0;34m>\u001b[0m \u001b[0;36m0\u001b[0m\u001b[0;34m]\u001b[0m\u001b[0;34m\u001b[0m\u001b[0;34m\u001b[0m\u001b[0m\n\u001b[1;32m      4\u001b[0m     \u001b[0mdf\u001b[0m \u001b[0;34m=\u001b[0m \u001b[0mpd\u001b[0m\u001b[0;34m.\u001b[0m\u001b[0mDataFrame\u001b[0m\u001b[0;34m(\u001b[0m\u001b[0;34m{\u001b[0m\u001b[0;34m\"value\"\u001b[0m\u001b[0;34m:\u001b[0m\u001b[0mvalues\u001b[0m\u001b[0;34m}\u001b[0m\u001b[0;34m)\u001b[0m\u001b[0;34m\u001b[0m\u001b[0;34m\u001b[0m\u001b[0m\n\u001b[1;32m      5\u001b[0m     \u001b[0mfig\u001b[0m \u001b[0;34m=\u001b[0m \u001b[0mpx\u001b[0m\u001b[0;34m.\u001b[0m\u001b[0mbox\u001b[0m\u001b[0;34m(\u001b[0m\u001b[0mdf\u001b[0m\u001b[0;34m,\u001b[0m \u001b[0my\u001b[0m\u001b[0;34m=\u001b[0m\u001b[0;34m\"value\"\u001b[0m\u001b[0;34m,\u001b[0m \u001b[0mtitle\u001b[0m\u001b[0;34m=\u001b[0m\u001b[0;34m\"Joular values for \"\u001b[0m \u001b[0;34m+\u001b[0m \u001b[0mmethodSignature\u001b[0m\u001b[0;34m,\u001b[0m \u001b[0mpoints\u001b[0m\u001b[0;34m=\u001b[0m\u001b[0;34m'all'\u001b[0m\u001b[0;34m)\u001b[0m\u001b[0;34m\u001b[0m\u001b[0;34m\u001b[0m\u001b[0m\n",
      "\u001b[0;32m/tmp/ipykernel_14478/1731290604.py\u001b[0m in \u001b[0;36mgetJoularDataFromOneMethodFromOneCommit\u001b[0;34m(commitSha, className, methodSignature)\u001b[0m\n\u001b[1;32m      3\u001b[0m     \u001b[0mPARAMS\u001b[0m \u001b[0;34m=\u001b[0m \u001b[0;34m{\u001b[0m\u001b[0;34m\"className\"\u001b[0m\u001b[0;34m:\u001b[0m\u001b[0mclassName\u001b[0m\u001b[0;34m,\u001b[0m \u001b[0;34m\"methodSignature\"\u001b[0m\u001b[0;34m:\u001b[0m\u001b[0mmethodSignature\u001b[0m\u001b[0;34m}\u001b[0m\u001b[0;34m\u001b[0m\u001b[0;34m\u001b[0m\u001b[0m\n\u001b[1;32m      4\u001b[0m     \u001b[0mr\u001b[0m \u001b[0;34m=\u001b[0m \u001b[0mrequests\u001b[0m\u001b[0;34m.\u001b[0m\u001b[0mget\u001b[0m\u001b[0;34m(\u001b[0m\u001b[0murl\u001b[0m \u001b[0;34m=\u001b[0m \u001b[0mURL\u001b[0m\u001b[0;34m,\u001b[0m \u001b[0mparams\u001b[0m \u001b[0;34m=\u001b[0m \u001b[0mPARAMS\u001b[0m\u001b[0;34m)\u001b[0m\u001b[0;34m\u001b[0m\u001b[0;34m\u001b[0m\u001b[0m\n\u001b[0;32m----> 5\u001b[0;31m     \u001b[0;32mreturn\u001b[0m \u001b[0mr\u001b[0m\u001b[0;34m.\u001b[0m\u001b[0mjson\u001b[0m\u001b[0;34m(\u001b[0m\u001b[0;34m)\u001b[0m\u001b[0;34m\u001b[0m\u001b[0;34m\u001b[0m\u001b[0m\n\u001b[0m",
      "\u001b[0;32m~/anaconda3/lib/python3.9/site-packages/requests/models.py\u001b[0m in \u001b[0;36mjson\u001b[0;34m(self, **kwargs)\u001b[0m\n\u001b[1;32m    973\u001b[0m             \u001b[0;31m# Catch JSON-related errors and raise as requests.JSONDecodeError\u001b[0m\u001b[0;34m\u001b[0m\u001b[0;34m\u001b[0m\u001b[0m\n\u001b[1;32m    974\u001b[0m             \u001b[0;31m# This aliases json.JSONDecodeError and simplejson.JSONDecodeError\u001b[0m\u001b[0;34m\u001b[0m\u001b[0;34m\u001b[0m\u001b[0m\n\u001b[0;32m--> 975\u001b[0;31m             \u001b[0;32mraise\u001b[0m \u001b[0mRequestsJSONDecodeError\u001b[0m\u001b[0;34m(\u001b[0m\u001b[0me\u001b[0m\u001b[0;34m.\u001b[0m\u001b[0mmsg\u001b[0m\u001b[0;34m,\u001b[0m \u001b[0me\u001b[0m\u001b[0;34m.\u001b[0m\u001b[0mdoc\u001b[0m\u001b[0;34m,\u001b[0m \u001b[0me\u001b[0m\u001b[0;34m.\u001b[0m\u001b[0mpos\u001b[0m\u001b[0;34m)\u001b[0m\u001b[0;34m\u001b[0m\u001b[0;34m\u001b[0m\u001b[0m\n\u001b[0m\u001b[1;32m    976\u001b[0m \u001b[0;34m\u001b[0m\u001b[0m\n\u001b[1;32m    977\u001b[0m     \u001b[0;34m@\u001b[0m\u001b[0mproperty\u001b[0m\u001b[0;34m\u001b[0m\u001b[0;34m\u001b[0m\u001b[0m\n",
      "\u001b[0;31mJSONDecodeError\u001b[0m: Expecting value: line 1 column 1 (char 0)"
     ]
    }
   ],
   "source": [
    "createBoxplotAndBarChart(\"3ed1f1a064a10e53adc2ad8c0b46a4b2c148ee21\", \"method\", \"org.springframework.boot.web.servlet.server.StaticResourceJars\", \"isResourcesJar/1[java.util.jar.JarFile]\")\n",
    "\n",
    "createBoxplotAndBarChart(\"12442bd8c7cde6e7c006a6277eeb8e81ad0c2219\", \"method\", \"org.hibernate.engine.jdbc.internal.ResultSetReturnImpl\", \"executeUpdate/2[java.sql.PreparedStatement,java.lang.String]\")\n",
    "\n",
    "createBoxplotAndBarChart(\"12442bd8c7cde6e7c006a6277eeb8e81ad0c2219\", \"method\", \"org.hibernate.bytecode.internal.bytebuddy.ByteBuddyState\", \"make/2[TypePool,DynamicType.Builder<?>]\")\n",
    "\n",
    "createBoxplotAndBarChart(\"12442bd8c7cde6e7c006a6277eeb8e81ad0c2219\", \"method\", \"org.hibernate.boot.registry.classloading.internal.AggregatedServiceLoader$ClassPathAndModulePathAggregatedServiceLoader\", \"hasNextIgnoringServiceConfigurationError/1[java.util.Iterator<?>]\")\n",
    "\n",
    "createBoxplotAndBarChart(\"3ed1f1a064a10e53adc2ad8c0b46a4b2c148ee21\", \"method\", \"org.springframework.boot.web.embedded.tomcat.TomcatWebServer\", \"initialize/0\")\n",
    "\n",
    "createBoxplotAndBarChart(\"12442bd8c7cde6e7c006a6277eeb8e81ad0c2219\", \"method\", \"org.hibernate.testing.junit4.FailureExpectedHandler\", \"evaluate/0\")"
   ]
  },
  {
   "cell_type": "code",
   "execution_count": null,
   "id": "052bc054",
   "metadata": {},
   "outputs": [],
   "source": [
    "createBoxplotAndBarChart(\"3ed1f1a064a10e53adc2ad8c0b46a4b2c148ee21\", \"method\", \"org.springframework.boot.testsupport.classpath.ModifiedClassPathClassLoader\", \"loadClass/1[java.lang.String]\")"
   ]
  },
  {
   "cell_type": "code",
   "execution_count": null,
   "id": "83195150",
   "metadata": {},
   "outputs": [],
   "source": [
    "createBoxplotAndBarChart(\"12442bd8c7cde6e7c006a6277eeb8e81ad0c2219\", \"method\", \"org.hibernate.boot.registry.classloading.internal.AggregatedClassLoader\", \"getResources/1[java.lang.String]\")"
   ]
  },
  {
   "cell_type": "markdown",
   "id": "73e26baf",
   "metadata": {},
   "source": [
    "### Data with aberrant negative values"
   ]
  },
  {
   "cell_type": "markdown",
   "id": "18e40d75",
   "metadata": {},
   "source": [
    "The method *verifyCollection* has the value -530894."
   ]
  },
  {
   "cell_type": "code",
   "execution_count": 12,
   "id": "f4ced1b6",
   "metadata": {},
   "outputs": [
    {
     "data": {
      "application/vnd.plotly.v1+json": {
       "config": {
        "plotlyServerURL": "https://plot.ly"
       },
       "data": [
        {
         "alignmentgroup": "True",
         "boxpoints": "all",
         "hovertemplate": "value=%{y}<extra></extra>",
         "legendgroup": "",
         "marker": {
          "color": "#636efa"
         },
         "name": "",
         "notched": false,
         "offsetgroup": "",
         "orientation": "v",
         "showlegend": false,
         "type": "box",
         "x0": " ",
         "xaxis": "x",
         "y": [
          2447.6365,
          2065.3115,
          1326.6776,
          673.3402,
          1856.8226,
          1936.292,
          982.7851,
          1622.643,
          704.3833,
          1021.2117,
          715.8927,
          1556.0546,
          1047.2329,
          1328.5665,
          1090.3383,
          808.716,
          687.1132,
          4138.0137,
          1033.6013,
          1016.9235,
          1786.1046,
          2161.96,
          1025.6064,
          1013.4403,
          1354.6024,
          966.9833,
          1346.163,
          956.9854,
          9.2763
         ],
         "y0": " ",
         "yaxis": "y"
        }
       ],
       "layout": {
        "boxmode": "group",
        "legend": {
         "tracegroupgap": 0
        },
        "template": {
         "data": {
          "bar": [
           {
            "error_x": {
             "color": "#2a3f5f"
            },
            "error_y": {
             "color": "#2a3f5f"
            },
            "marker": {
             "line": {
              "color": "#E5ECF6",
              "width": 0.5
             },
             "pattern": {
              "fillmode": "overlay",
              "size": 10,
              "solidity": 0.2
             }
            },
            "type": "bar"
           }
          ],
          "barpolar": [
           {
            "marker": {
             "line": {
              "color": "#E5ECF6",
              "width": 0.5
             },
             "pattern": {
              "fillmode": "overlay",
              "size": 10,
              "solidity": 0.2
             }
            },
            "type": "barpolar"
           }
          ],
          "carpet": [
           {
            "aaxis": {
             "endlinecolor": "#2a3f5f",
             "gridcolor": "white",
             "linecolor": "white",
             "minorgridcolor": "white",
             "startlinecolor": "#2a3f5f"
            },
            "baxis": {
             "endlinecolor": "#2a3f5f",
             "gridcolor": "white",
             "linecolor": "white",
             "minorgridcolor": "white",
             "startlinecolor": "#2a3f5f"
            },
            "type": "carpet"
           }
          ],
          "choropleth": [
           {
            "colorbar": {
             "outlinewidth": 0,
             "ticks": ""
            },
            "type": "choropleth"
           }
          ],
          "contour": [
           {
            "colorbar": {
             "outlinewidth": 0,
             "ticks": ""
            },
            "colorscale": [
             [
              0,
              "#0d0887"
             ],
             [
              0.1111111111111111,
              "#46039f"
             ],
             [
              0.2222222222222222,
              "#7201a8"
             ],
             [
              0.3333333333333333,
              "#9c179e"
             ],
             [
              0.4444444444444444,
              "#bd3786"
             ],
             [
              0.5555555555555556,
              "#d8576b"
             ],
             [
              0.6666666666666666,
              "#ed7953"
             ],
             [
              0.7777777777777778,
              "#fb9f3a"
             ],
             [
              0.8888888888888888,
              "#fdca26"
             ],
             [
              1,
              "#f0f921"
             ]
            ],
            "type": "contour"
           }
          ],
          "contourcarpet": [
           {
            "colorbar": {
             "outlinewidth": 0,
             "ticks": ""
            },
            "type": "contourcarpet"
           }
          ],
          "heatmap": [
           {
            "colorbar": {
             "outlinewidth": 0,
             "ticks": ""
            },
            "colorscale": [
             [
              0,
              "#0d0887"
             ],
             [
              0.1111111111111111,
              "#46039f"
             ],
             [
              0.2222222222222222,
              "#7201a8"
             ],
             [
              0.3333333333333333,
              "#9c179e"
             ],
             [
              0.4444444444444444,
              "#bd3786"
             ],
             [
              0.5555555555555556,
              "#d8576b"
             ],
             [
              0.6666666666666666,
              "#ed7953"
             ],
             [
              0.7777777777777778,
              "#fb9f3a"
             ],
             [
              0.8888888888888888,
              "#fdca26"
             ],
             [
              1,
              "#f0f921"
             ]
            ],
            "type": "heatmap"
           }
          ],
          "heatmapgl": [
           {
            "colorbar": {
             "outlinewidth": 0,
             "ticks": ""
            },
            "colorscale": [
             [
              0,
              "#0d0887"
             ],
             [
              0.1111111111111111,
              "#46039f"
             ],
             [
              0.2222222222222222,
              "#7201a8"
             ],
             [
              0.3333333333333333,
              "#9c179e"
             ],
             [
              0.4444444444444444,
              "#bd3786"
             ],
             [
              0.5555555555555556,
              "#d8576b"
             ],
             [
              0.6666666666666666,
              "#ed7953"
             ],
             [
              0.7777777777777778,
              "#fb9f3a"
             ],
             [
              0.8888888888888888,
              "#fdca26"
             ],
             [
              1,
              "#f0f921"
             ]
            ],
            "type": "heatmapgl"
           }
          ],
          "histogram": [
           {
            "marker": {
             "pattern": {
              "fillmode": "overlay",
              "size": 10,
              "solidity": 0.2
             }
            },
            "type": "histogram"
           }
          ],
          "histogram2d": [
           {
            "colorbar": {
             "outlinewidth": 0,
             "ticks": ""
            },
            "colorscale": [
             [
              0,
              "#0d0887"
             ],
             [
              0.1111111111111111,
              "#46039f"
             ],
             [
              0.2222222222222222,
              "#7201a8"
             ],
             [
              0.3333333333333333,
              "#9c179e"
             ],
             [
              0.4444444444444444,
              "#bd3786"
             ],
             [
              0.5555555555555556,
              "#d8576b"
             ],
             [
              0.6666666666666666,
              "#ed7953"
             ],
             [
              0.7777777777777778,
              "#fb9f3a"
             ],
             [
              0.8888888888888888,
              "#fdca26"
             ],
             [
              1,
              "#f0f921"
             ]
            ],
            "type": "histogram2d"
           }
          ],
          "histogram2dcontour": [
           {
            "colorbar": {
             "outlinewidth": 0,
             "ticks": ""
            },
            "colorscale": [
             [
              0,
              "#0d0887"
             ],
             [
              0.1111111111111111,
              "#46039f"
             ],
             [
              0.2222222222222222,
              "#7201a8"
             ],
             [
              0.3333333333333333,
              "#9c179e"
             ],
             [
              0.4444444444444444,
              "#bd3786"
             ],
             [
              0.5555555555555556,
              "#d8576b"
             ],
             [
              0.6666666666666666,
              "#ed7953"
             ],
             [
              0.7777777777777778,
              "#fb9f3a"
             ],
             [
              0.8888888888888888,
              "#fdca26"
             ],
             [
              1,
              "#f0f921"
             ]
            ],
            "type": "histogram2dcontour"
           }
          ],
          "mesh3d": [
           {
            "colorbar": {
             "outlinewidth": 0,
             "ticks": ""
            },
            "type": "mesh3d"
           }
          ],
          "parcoords": [
           {
            "line": {
             "colorbar": {
              "outlinewidth": 0,
              "ticks": ""
             }
            },
            "type": "parcoords"
           }
          ],
          "pie": [
           {
            "automargin": true,
            "type": "pie"
           }
          ],
          "scatter": [
           {
            "fillpattern": {
             "fillmode": "overlay",
             "size": 10,
             "solidity": 0.2
            },
            "type": "scatter"
           }
          ],
          "scatter3d": [
           {
            "line": {
             "colorbar": {
              "outlinewidth": 0,
              "ticks": ""
             }
            },
            "marker": {
             "colorbar": {
              "outlinewidth": 0,
              "ticks": ""
             }
            },
            "type": "scatter3d"
           }
          ],
          "scattercarpet": [
           {
            "marker": {
             "colorbar": {
              "outlinewidth": 0,
              "ticks": ""
             }
            },
            "type": "scattercarpet"
           }
          ],
          "scattergeo": [
           {
            "marker": {
             "colorbar": {
              "outlinewidth": 0,
              "ticks": ""
             }
            },
            "type": "scattergeo"
           }
          ],
          "scattergl": [
           {
            "marker": {
             "colorbar": {
              "outlinewidth": 0,
              "ticks": ""
             }
            },
            "type": "scattergl"
           }
          ],
          "scattermapbox": [
           {
            "marker": {
             "colorbar": {
              "outlinewidth": 0,
              "ticks": ""
             }
            },
            "type": "scattermapbox"
           }
          ],
          "scatterpolar": [
           {
            "marker": {
             "colorbar": {
              "outlinewidth": 0,
              "ticks": ""
             }
            },
            "type": "scatterpolar"
           }
          ],
          "scatterpolargl": [
           {
            "marker": {
             "colorbar": {
              "outlinewidth": 0,
              "ticks": ""
             }
            },
            "type": "scatterpolargl"
           }
          ],
          "scatterternary": [
           {
            "marker": {
             "colorbar": {
              "outlinewidth": 0,
              "ticks": ""
             }
            },
            "type": "scatterternary"
           }
          ],
          "surface": [
           {
            "colorbar": {
             "outlinewidth": 0,
             "ticks": ""
            },
            "colorscale": [
             [
              0,
              "#0d0887"
             ],
             [
              0.1111111111111111,
              "#46039f"
             ],
             [
              0.2222222222222222,
              "#7201a8"
             ],
             [
              0.3333333333333333,
              "#9c179e"
             ],
             [
              0.4444444444444444,
              "#bd3786"
             ],
             [
              0.5555555555555556,
              "#d8576b"
             ],
             [
              0.6666666666666666,
              "#ed7953"
             ],
             [
              0.7777777777777778,
              "#fb9f3a"
             ],
             [
              0.8888888888888888,
              "#fdca26"
             ],
             [
              1,
              "#f0f921"
             ]
            ],
            "type": "surface"
           }
          ],
          "table": [
           {
            "cells": {
             "fill": {
              "color": "#EBF0F8"
             },
             "line": {
              "color": "white"
             }
            },
            "header": {
             "fill": {
              "color": "#C8D4E3"
             },
             "line": {
              "color": "white"
             }
            },
            "type": "table"
           }
          ]
         },
         "layout": {
          "annotationdefaults": {
           "arrowcolor": "#2a3f5f",
           "arrowhead": 0,
           "arrowwidth": 1
          },
          "autotypenumbers": "strict",
          "coloraxis": {
           "colorbar": {
            "outlinewidth": 0,
            "ticks": ""
           }
          },
          "colorscale": {
           "diverging": [
            [
             0,
             "#8e0152"
            ],
            [
             0.1,
             "#c51b7d"
            ],
            [
             0.2,
             "#de77ae"
            ],
            [
             0.3,
             "#f1b6da"
            ],
            [
             0.4,
             "#fde0ef"
            ],
            [
             0.5,
             "#f7f7f7"
            ],
            [
             0.6,
             "#e6f5d0"
            ],
            [
             0.7,
             "#b8e186"
            ],
            [
             0.8,
             "#7fbc41"
            ],
            [
             0.9,
             "#4d9221"
            ],
            [
             1,
             "#276419"
            ]
           ],
           "sequential": [
            [
             0,
             "#0d0887"
            ],
            [
             0.1111111111111111,
             "#46039f"
            ],
            [
             0.2222222222222222,
             "#7201a8"
            ],
            [
             0.3333333333333333,
             "#9c179e"
            ],
            [
             0.4444444444444444,
             "#bd3786"
            ],
            [
             0.5555555555555556,
             "#d8576b"
            ],
            [
             0.6666666666666666,
             "#ed7953"
            ],
            [
             0.7777777777777778,
             "#fb9f3a"
            ],
            [
             0.8888888888888888,
             "#fdca26"
            ],
            [
             1,
             "#f0f921"
            ]
           ],
           "sequentialminus": [
            [
             0,
             "#0d0887"
            ],
            [
             0.1111111111111111,
             "#46039f"
            ],
            [
             0.2222222222222222,
             "#7201a8"
            ],
            [
             0.3333333333333333,
             "#9c179e"
            ],
            [
             0.4444444444444444,
             "#bd3786"
            ],
            [
             0.5555555555555556,
             "#d8576b"
            ],
            [
             0.6666666666666666,
             "#ed7953"
            ],
            [
             0.7777777777777778,
             "#fb9f3a"
            ],
            [
             0.8888888888888888,
             "#fdca26"
            ],
            [
             1,
             "#f0f921"
            ]
           ]
          },
          "colorway": [
           "#636efa",
           "#EF553B",
           "#00cc96",
           "#ab63fa",
           "#FFA15A",
           "#19d3f3",
           "#FF6692",
           "#B6E880",
           "#FF97FF",
           "#FECB52"
          ],
          "font": {
           "color": "#2a3f5f"
          },
          "geo": {
           "bgcolor": "white",
           "lakecolor": "white",
           "landcolor": "#E5ECF6",
           "showlakes": true,
           "showland": true,
           "subunitcolor": "white"
          },
          "hoverlabel": {
           "align": "left"
          },
          "hovermode": "closest",
          "mapbox": {
           "style": "light"
          },
          "paper_bgcolor": "white",
          "plot_bgcolor": "#E5ECF6",
          "polar": {
           "angularaxis": {
            "gridcolor": "white",
            "linecolor": "white",
            "ticks": ""
           },
           "bgcolor": "#E5ECF6",
           "radialaxis": {
            "gridcolor": "white",
            "linecolor": "white",
            "ticks": ""
           }
          },
          "scene": {
           "xaxis": {
            "backgroundcolor": "#E5ECF6",
            "gridcolor": "white",
            "gridwidth": 2,
            "linecolor": "white",
            "showbackground": true,
            "ticks": "",
            "zerolinecolor": "white"
           },
           "yaxis": {
            "backgroundcolor": "#E5ECF6",
            "gridcolor": "white",
            "gridwidth": 2,
            "linecolor": "white",
            "showbackground": true,
            "ticks": "",
            "zerolinecolor": "white"
           },
           "zaxis": {
            "backgroundcolor": "#E5ECF6",
            "gridcolor": "white",
            "gridwidth": 2,
            "linecolor": "white",
            "showbackground": true,
            "ticks": "",
            "zerolinecolor": "white"
           }
          },
          "shapedefaults": {
           "line": {
            "color": "#2a3f5f"
           }
          },
          "ternary": {
           "aaxis": {
            "gridcolor": "white",
            "linecolor": "white",
            "ticks": ""
           },
           "baxis": {
            "gridcolor": "white",
            "linecolor": "white",
            "ticks": ""
           },
           "bgcolor": "#E5ECF6",
           "caxis": {
            "gridcolor": "white",
            "linecolor": "white",
            "ticks": ""
           }
          },
          "title": {
           "x": 0.05
          },
          "xaxis": {
           "automargin": true,
           "gridcolor": "white",
           "linecolor": "white",
           "ticks": "",
           "title": {
            "standoff": 15
           },
           "zerolinecolor": "white",
           "zerolinewidth": 2
          },
          "yaxis": {
           "automargin": true,
           "gridcolor": "white",
           "linecolor": "white",
           "ticks": "",
           "title": {
            "standoff": 15
           },
           "zerolinecolor": "white",
           "zerolinewidth": 2
          }
         }
        },
        "title": {
         "text": "Joular values for verifyCollection/3[java.lang.ref.ReferenceQueue<T>,int,int]"
        },
        "xaxis": {
         "anchor": "y",
         "domain": [
          0,
          1
         ]
        },
        "yaxis": {
         "anchor": "x",
         "domain": [
          0,
          1
         ],
         "title": {
          "text": "value"
         }
        }
       }
      }
     },
     "metadata": {},
     "output_type": "display_data"
    },
    {
     "data": {
      "application/vnd.plotly.v1+json": {
       "config": {
        "plotlyServerURL": "https://plot.ly"
       },
       "data": [
        {
         "alignmentgroup": "True",
         "hovertemplate": "Metric=%{x}<br>Value=%{y}<extra></extra>",
         "legendgroup": "",
         "marker": {
          "color": "#636efa",
          "pattern": {
           "shape": ""
          }
         },
         "name": "",
         "offsetgroup": "",
         "orientation": "v",
         "showlegend": false,
         "textposition": "auto",
         "type": "bar",
         "x": [
          "loc",
          "fanout",
          "wmc",
          "cbo",
          "fanin",
          "cboModified"
         ],
         "xaxis": "x",
         "y": [
          15,
          0,
          4,
          1,
          1,
          1
         ],
         "yaxis": "y"
        }
       ],
       "layout": {
        "barmode": "relative",
        "legend": {
         "tracegroupgap": 0
        },
        "template": {
         "data": {
          "bar": [
           {
            "error_x": {
             "color": "#2a3f5f"
            },
            "error_y": {
             "color": "#2a3f5f"
            },
            "marker": {
             "line": {
              "color": "#E5ECF6",
              "width": 0.5
             },
             "pattern": {
              "fillmode": "overlay",
              "size": 10,
              "solidity": 0.2
             }
            },
            "type": "bar"
           }
          ],
          "barpolar": [
           {
            "marker": {
             "line": {
              "color": "#E5ECF6",
              "width": 0.5
             },
             "pattern": {
              "fillmode": "overlay",
              "size": 10,
              "solidity": 0.2
             }
            },
            "type": "barpolar"
           }
          ],
          "carpet": [
           {
            "aaxis": {
             "endlinecolor": "#2a3f5f",
             "gridcolor": "white",
             "linecolor": "white",
             "minorgridcolor": "white",
             "startlinecolor": "#2a3f5f"
            },
            "baxis": {
             "endlinecolor": "#2a3f5f",
             "gridcolor": "white",
             "linecolor": "white",
             "minorgridcolor": "white",
             "startlinecolor": "#2a3f5f"
            },
            "type": "carpet"
           }
          ],
          "choropleth": [
           {
            "colorbar": {
             "outlinewidth": 0,
             "ticks": ""
            },
            "type": "choropleth"
           }
          ],
          "contour": [
           {
            "colorbar": {
             "outlinewidth": 0,
             "ticks": ""
            },
            "colorscale": [
             [
              0,
              "#0d0887"
             ],
             [
              0.1111111111111111,
              "#46039f"
             ],
             [
              0.2222222222222222,
              "#7201a8"
             ],
             [
              0.3333333333333333,
              "#9c179e"
             ],
             [
              0.4444444444444444,
              "#bd3786"
             ],
             [
              0.5555555555555556,
              "#d8576b"
             ],
             [
              0.6666666666666666,
              "#ed7953"
             ],
             [
              0.7777777777777778,
              "#fb9f3a"
             ],
             [
              0.8888888888888888,
              "#fdca26"
             ],
             [
              1,
              "#f0f921"
             ]
            ],
            "type": "contour"
           }
          ],
          "contourcarpet": [
           {
            "colorbar": {
             "outlinewidth": 0,
             "ticks": ""
            },
            "type": "contourcarpet"
           }
          ],
          "heatmap": [
           {
            "colorbar": {
             "outlinewidth": 0,
             "ticks": ""
            },
            "colorscale": [
             [
              0,
              "#0d0887"
             ],
             [
              0.1111111111111111,
              "#46039f"
             ],
             [
              0.2222222222222222,
              "#7201a8"
             ],
             [
              0.3333333333333333,
              "#9c179e"
             ],
             [
              0.4444444444444444,
              "#bd3786"
             ],
             [
              0.5555555555555556,
              "#d8576b"
             ],
             [
              0.6666666666666666,
              "#ed7953"
             ],
             [
              0.7777777777777778,
              "#fb9f3a"
             ],
             [
              0.8888888888888888,
              "#fdca26"
             ],
             [
              1,
              "#f0f921"
             ]
            ],
            "type": "heatmap"
           }
          ],
          "heatmapgl": [
           {
            "colorbar": {
             "outlinewidth": 0,
             "ticks": ""
            },
            "colorscale": [
             [
              0,
              "#0d0887"
             ],
             [
              0.1111111111111111,
              "#46039f"
             ],
             [
              0.2222222222222222,
              "#7201a8"
             ],
             [
              0.3333333333333333,
              "#9c179e"
             ],
             [
              0.4444444444444444,
              "#bd3786"
             ],
             [
              0.5555555555555556,
              "#d8576b"
             ],
             [
              0.6666666666666666,
              "#ed7953"
             ],
             [
              0.7777777777777778,
              "#fb9f3a"
             ],
             [
              0.8888888888888888,
              "#fdca26"
             ],
             [
              1,
              "#f0f921"
             ]
            ],
            "type": "heatmapgl"
           }
          ],
          "histogram": [
           {
            "marker": {
             "pattern": {
              "fillmode": "overlay",
              "size": 10,
              "solidity": 0.2
             }
            },
            "type": "histogram"
           }
          ],
          "histogram2d": [
           {
            "colorbar": {
             "outlinewidth": 0,
             "ticks": ""
            },
            "colorscale": [
             [
              0,
              "#0d0887"
             ],
             [
              0.1111111111111111,
              "#46039f"
             ],
             [
              0.2222222222222222,
              "#7201a8"
             ],
             [
              0.3333333333333333,
              "#9c179e"
             ],
             [
              0.4444444444444444,
              "#bd3786"
             ],
             [
              0.5555555555555556,
              "#d8576b"
             ],
             [
              0.6666666666666666,
              "#ed7953"
             ],
             [
              0.7777777777777778,
              "#fb9f3a"
             ],
             [
              0.8888888888888888,
              "#fdca26"
             ],
             [
              1,
              "#f0f921"
             ]
            ],
            "type": "histogram2d"
           }
          ],
          "histogram2dcontour": [
           {
            "colorbar": {
             "outlinewidth": 0,
             "ticks": ""
            },
            "colorscale": [
             [
              0,
              "#0d0887"
             ],
             [
              0.1111111111111111,
              "#46039f"
             ],
             [
              0.2222222222222222,
              "#7201a8"
             ],
             [
              0.3333333333333333,
              "#9c179e"
             ],
             [
              0.4444444444444444,
              "#bd3786"
             ],
             [
              0.5555555555555556,
              "#d8576b"
             ],
             [
              0.6666666666666666,
              "#ed7953"
             ],
             [
              0.7777777777777778,
              "#fb9f3a"
             ],
             [
              0.8888888888888888,
              "#fdca26"
             ],
             [
              1,
              "#f0f921"
             ]
            ],
            "type": "histogram2dcontour"
           }
          ],
          "mesh3d": [
           {
            "colorbar": {
             "outlinewidth": 0,
             "ticks": ""
            },
            "type": "mesh3d"
           }
          ],
          "parcoords": [
           {
            "line": {
             "colorbar": {
              "outlinewidth": 0,
              "ticks": ""
             }
            },
            "type": "parcoords"
           }
          ],
          "pie": [
           {
            "automargin": true,
            "type": "pie"
           }
          ],
          "scatter": [
           {
            "fillpattern": {
             "fillmode": "overlay",
             "size": 10,
             "solidity": 0.2
            },
            "type": "scatter"
           }
          ],
          "scatter3d": [
           {
            "line": {
             "colorbar": {
              "outlinewidth": 0,
              "ticks": ""
             }
            },
            "marker": {
             "colorbar": {
              "outlinewidth": 0,
              "ticks": ""
             }
            },
            "type": "scatter3d"
           }
          ],
          "scattercarpet": [
           {
            "marker": {
             "colorbar": {
              "outlinewidth": 0,
              "ticks": ""
             }
            },
            "type": "scattercarpet"
           }
          ],
          "scattergeo": [
           {
            "marker": {
             "colorbar": {
              "outlinewidth": 0,
              "ticks": ""
             }
            },
            "type": "scattergeo"
           }
          ],
          "scattergl": [
           {
            "marker": {
             "colorbar": {
              "outlinewidth": 0,
              "ticks": ""
             }
            },
            "type": "scattergl"
           }
          ],
          "scattermapbox": [
           {
            "marker": {
             "colorbar": {
              "outlinewidth": 0,
              "ticks": ""
             }
            },
            "type": "scattermapbox"
           }
          ],
          "scatterpolar": [
           {
            "marker": {
             "colorbar": {
              "outlinewidth": 0,
              "ticks": ""
             }
            },
            "type": "scatterpolar"
           }
          ],
          "scatterpolargl": [
           {
            "marker": {
             "colorbar": {
              "outlinewidth": 0,
              "ticks": ""
             }
            },
            "type": "scatterpolargl"
           }
          ],
          "scatterternary": [
           {
            "marker": {
             "colorbar": {
              "outlinewidth": 0,
              "ticks": ""
             }
            },
            "type": "scatterternary"
           }
          ],
          "surface": [
           {
            "colorbar": {
             "outlinewidth": 0,
             "ticks": ""
            },
            "colorscale": [
             [
              0,
              "#0d0887"
             ],
             [
              0.1111111111111111,
              "#46039f"
             ],
             [
              0.2222222222222222,
              "#7201a8"
             ],
             [
              0.3333333333333333,
              "#9c179e"
             ],
             [
              0.4444444444444444,
              "#bd3786"
             ],
             [
              0.5555555555555556,
              "#d8576b"
             ],
             [
              0.6666666666666666,
              "#ed7953"
             ],
             [
              0.7777777777777778,
              "#fb9f3a"
             ],
             [
              0.8888888888888888,
              "#fdca26"
             ],
             [
              1,
              "#f0f921"
             ]
            ],
            "type": "surface"
           }
          ],
          "table": [
           {
            "cells": {
             "fill": {
              "color": "#EBF0F8"
             },
             "line": {
              "color": "white"
             }
            },
            "header": {
             "fill": {
              "color": "#C8D4E3"
             },
             "line": {
              "color": "white"
             }
            },
            "type": "table"
           }
          ]
         },
         "layout": {
          "annotationdefaults": {
           "arrowcolor": "#2a3f5f",
           "arrowhead": 0,
           "arrowwidth": 1
          },
          "autotypenumbers": "strict",
          "coloraxis": {
           "colorbar": {
            "outlinewidth": 0,
            "ticks": ""
           }
          },
          "colorscale": {
           "diverging": [
            [
             0,
             "#8e0152"
            ],
            [
             0.1,
             "#c51b7d"
            ],
            [
             0.2,
             "#de77ae"
            ],
            [
             0.3,
             "#f1b6da"
            ],
            [
             0.4,
             "#fde0ef"
            ],
            [
             0.5,
             "#f7f7f7"
            ],
            [
             0.6,
             "#e6f5d0"
            ],
            [
             0.7,
             "#b8e186"
            ],
            [
             0.8,
             "#7fbc41"
            ],
            [
             0.9,
             "#4d9221"
            ],
            [
             1,
             "#276419"
            ]
           ],
           "sequential": [
            [
             0,
             "#0d0887"
            ],
            [
             0.1111111111111111,
             "#46039f"
            ],
            [
             0.2222222222222222,
             "#7201a8"
            ],
            [
             0.3333333333333333,
             "#9c179e"
            ],
            [
             0.4444444444444444,
             "#bd3786"
            ],
            [
             0.5555555555555556,
             "#d8576b"
            ],
            [
             0.6666666666666666,
             "#ed7953"
            ],
            [
             0.7777777777777778,
             "#fb9f3a"
            ],
            [
             0.8888888888888888,
             "#fdca26"
            ],
            [
             1,
             "#f0f921"
            ]
           ],
           "sequentialminus": [
            [
             0,
             "#0d0887"
            ],
            [
             0.1111111111111111,
             "#46039f"
            ],
            [
             0.2222222222222222,
             "#7201a8"
            ],
            [
             0.3333333333333333,
             "#9c179e"
            ],
            [
             0.4444444444444444,
             "#bd3786"
            ],
            [
             0.5555555555555556,
             "#d8576b"
            ],
            [
             0.6666666666666666,
             "#ed7953"
            ],
            [
             0.7777777777777778,
             "#fb9f3a"
            ],
            [
             0.8888888888888888,
             "#fdca26"
            ],
            [
             1,
             "#f0f921"
            ]
           ]
          },
          "colorway": [
           "#636efa",
           "#EF553B",
           "#00cc96",
           "#ab63fa",
           "#FFA15A",
           "#19d3f3",
           "#FF6692",
           "#B6E880",
           "#FF97FF",
           "#FECB52"
          ],
          "font": {
           "color": "#2a3f5f"
          },
          "geo": {
           "bgcolor": "white",
           "lakecolor": "white",
           "landcolor": "#E5ECF6",
           "showlakes": true,
           "showland": true,
           "subunitcolor": "white"
          },
          "hoverlabel": {
           "align": "left"
          },
          "hovermode": "closest",
          "mapbox": {
           "style": "light"
          },
          "paper_bgcolor": "white",
          "plot_bgcolor": "#E5ECF6",
          "polar": {
           "angularaxis": {
            "gridcolor": "white",
            "linecolor": "white",
            "ticks": ""
           },
           "bgcolor": "#E5ECF6",
           "radialaxis": {
            "gridcolor": "white",
            "linecolor": "white",
            "ticks": ""
           }
          },
          "scene": {
           "xaxis": {
            "backgroundcolor": "#E5ECF6",
            "gridcolor": "white",
            "gridwidth": 2,
            "linecolor": "white",
            "showbackground": true,
            "ticks": "",
            "zerolinecolor": "white"
           },
           "yaxis": {
            "backgroundcolor": "#E5ECF6",
            "gridcolor": "white",
            "gridwidth": 2,
            "linecolor": "white",
            "showbackground": true,
            "ticks": "",
            "zerolinecolor": "white"
           },
           "zaxis": {
            "backgroundcolor": "#E5ECF6",
            "gridcolor": "white",
            "gridwidth": 2,
            "linecolor": "white",
            "showbackground": true,
            "ticks": "",
            "zerolinecolor": "white"
           }
          },
          "shapedefaults": {
           "line": {
            "color": "#2a3f5f"
           }
          },
          "ternary": {
           "aaxis": {
            "gridcolor": "white",
            "linecolor": "white",
            "ticks": ""
           },
           "baxis": {
            "gridcolor": "white",
            "linecolor": "white",
            "ticks": ""
           },
           "bgcolor": "#E5ECF6",
           "caxis": {
            "gridcolor": "white",
            "linecolor": "white",
            "ticks": ""
           }
          },
          "title": {
           "x": 0.05
          },
          "xaxis": {
           "automargin": true,
           "gridcolor": "white",
           "linecolor": "white",
           "ticks": "",
           "title": {
            "standoff": 15
           },
           "zerolinecolor": "white",
           "zerolinewidth": 2
          },
          "yaxis": {
           "automargin": true,
           "gridcolor": "white",
           "linecolor": "white",
           "ticks": "",
           "title": {
            "standoff": 15
           },
           "zerolinecolor": "white",
           "zerolinewidth": 2
          }
         }
        },
        "title": {
         "text": "Ck metrics for verifyCollection/3[java.lang.ref.ReferenceQueue<T>,int,int]"
        },
        "xaxis": {
         "anchor": "y",
         "domain": [
          0,
          1
         ],
         "title": {
          "text": "Metric"
         }
        },
        "yaxis": {
         "anchor": "x",
         "domain": [
          0,
          1
         ],
         "title": {
          "text": "Value"
         }
        }
       }
      }
     },
     "metadata": {},
     "output_type": "display_data"
    }
   ],
   "source": [
    "createBoxplotAndBarChart(\"12442bd8c7cde6e7c006a6277eeb8e81ad0c2219\", \"method\", \"org.hibernate.orm.test.bootstrap.registry.classloading.PhantomReferenceLeakDetector\", \"verifyCollection/3[java.lang.ref.ReferenceQueue<T>,int,int]\")"
   ]
  },
  {
   "cell_type": "markdown",
   "id": "60b9b7d0",
   "metadata": {},
   "source": [
    "The method *accept* below has the value -217371.5"
   ]
  },
  {
   "cell_type": "code",
   "execution_count": 13,
   "id": "3eb1a997",
   "metadata": {},
   "outputs": [
    {
     "data": {
      "application/vnd.plotly.v1+json": {
       "config": {
        "plotlyServerURL": "https://plot.ly"
       },
       "data": [
        {
         "alignmentgroup": "True",
         "boxpoints": "all",
         "hovertemplate": "value=%{y}<extra></extra>",
         "legendgroup": "",
         "marker": {
          "color": "#636efa"
         },
         "name": "",
         "notched": false,
         "offsetgroup": "",
         "orientation": "v",
         "showlegend": false,
         "type": "box",
         "x0": " ",
         "xaxis": "x",
         "y": [
          593.0794,
          544.7868,
          456.5746,
          524.5118,
          552.79456,
          553.99036,
          598.1884,
          556.4751,
          428.9034,
          285.4964,
          523.9183,
          525.3816,
          527.516,
          446.0553,
          533.80383,
          440.854,
          550.4014,
          640.0129,
          581.1479,
          530.1838,
          465.7963,
          495.8004,
          525.129,
          433.8532,
          759.2195,
          405.2569,
          517.8155,
          493.53738,
          535.6181
         ],
         "y0": " ",
         "yaxis": "y"
        }
       ],
       "layout": {
        "boxmode": "group",
        "legend": {
         "tracegroupgap": 0
        },
        "template": {
         "data": {
          "bar": [
           {
            "error_x": {
             "color": "#2a3f5f"
            },
            "error_y": {
             "color": "#2a3f5f"
            },
            "marker": {
             "line": {
              "color": "#E5ECF6",
              "width": 0.5
             },
             "pattern": {
              "fillmode": "overlay",
              "size": 10,
              "solidity": 0.2
             }
            },
            "type": "bar"
           }
          ],
          "barpolar": [
           {
            "marker": {
             "line": {
              "color": "#E5ECF6",
              "width": 0.5
             },
             "pattern": {
              "fillmode": "overlay",
              "size": 10,
              "solidity": 0.2
             }
            },
            "type": "barpolar"
           }
          ],
          "carpet": [
           {
            "aaxis": {
             "endlinecolor": "#2a3f5f",
             "gridcolor": "white",
             "linecolor": "white",
             "minorgridcolor": "white",
             "startlinecolor": "#2a3f5f"
            },
            "baxis": {
             "endlinecolor": "#2a3f5f",
             "gridcolor": "white",
             "linecolor": "white",
             "minorgridcolor": "white",
             "startlinecolor": "#2a3f5f"
            },
            "type": "carpet"
           }
          ],
          "choropleth": [
           {
            "colorbar": {
             "outlinewidth": 0,
             "ticks": ""
            },
            "type": "choropleth"
           }
          ],
          "contour": [
           {
            "colorbar": {
             "outlinewidth": 0,
             "ticks": ""
            },
            "colorscale": [
             [
              0,
              "#0d0887"
             ],
             [
              0.1111111111111111,
              "#46039f"
             ],
             [
              0.2222222222222222,
              "#7201a8"
             ],
             [
              0.3333333333333333,
              "#9c179e"
             ],
             [
              0.4444444444444444,
              "#bd3786"
             ],
             [
              0.5555555555555556,
              "#d8576b"
             ],
             [
              0.6666666666666666,
              "#ed7953"
             ],
             [
              0.7777777777777778,
              "#fb9f3a"
             ],
             [
              0.8888888888888888,
              "#fdca26"
             ],
             [
              1,
              "#f0f921"
             ]
            ],
            "type": "contour"
           }
          ],
          "contourcarpet": [
           {
            "colorbar": {
             "outlinewidth": 0,
             "ticks": ""
            },
            "type": "contourcarpet"
           }
          ],
          "heatmap": [
           {
            "colorbar": {
             "outlinewidth": 0,
             "ticks": ""
            },
            "colorscale": [
             [
              0,
              "#0d0887"
             ],
             [
              0.1111111111111111,
              "#46039f"
             ],
             [
              0.2222222222222222,
              "#7201a8"
             ],
             [
              0.3333333333333333,
              "#9c179e"
             ],
             [
              0.4444444444444444,
              "#bd3786"
             ],
             [
              0.5555555555555556,
              "#d8576b"
             ],
             [
              0.6666666666666666,
              "#ed7953"
             ],
             [
              0.7777777777777778,
              "#fb9f3a"
             ],
             [
              0.8888888888888888,
              "#fdca26"
             ],
             [
              1,
              "#f0f921"
             ]
            ],
            "type": "heatmap"
           }
          ],
          "heatmapgl": [
           {
            "colorbar": {
             "outlinewidth": 0,
             "ticks": ""
            },
            "colorscale": [
             [
              0,
              "#0d0887"
             ],
             [
              0.1111111111111111,
              "#46039f"
             ],
             [
              0.2222222222222222,
              "#7201a8"
             ],
             [
              0.3333333333333333,
              "#9c179e"
             ],
             [
              0.4444444444444444,
              "#bd3786"
             ],
             [
              0.5555555555555556,
              "#d8576b"
             ],
             [
              0.6666666666666666,
              "#ed7953"
             ],
             [
              0.7777777777777778,
              "#fb9f3a"
             ],
             [
              0.8888888888888888,
              "#fdca26"
             ],
             [
              1,
              "#f0f921"
             ]
            ],
            "type": "heatmapgl"
           }
          ],
          "histogram": [
           {
            "marker": {
             "pattern": {
              "fillmode": "overlay",
              "size": 10,
              "solidity": 0.2
             }
            },
            "type": "histogram"
           }
          ],
          "histogram2d": [
           {
            "colorbar": {
             "outlinewidth": 0,
             "ticks": ""
            },
            "colorscale": [
             [
              0,
              "#0d0887"
             ],
             [
              0.1111111111111111,
              "#46039f"
             ],
             [
              0.2222222222222222,
              "#7201a8"
             ],
             [
              0.3333333333333333,
              "#9c179e"
             ],
             [
              0.4444444444444444,
              "#bd3786"
             ],
             [
              0.5555555555555556,
              "#d8576b"
             ],
             [
              0.6666666666666666,
              "#ed7953"
             ],
             [
              0.7777777777777778,
              "#fb9f3a"
             ],
             [
              0.8888888888888888,
              "#fdca26"
             ],
             [
              1,
              "#f0f921"
             ]
            ],
            "type": "histogram2d"
           }
          ],
          "histogram2dcontour": [
           {
            "colorbar": {
             "outlinewidth": 0,
             "ticks": ""
            },
            "colorscale": [
             [
              0,
              "#0d0887"
             ],
             [
              0.1111111111111111,
              "#46039f"
             ],
             [
              0.2222222222222222,
              "#7201a8"
             ],
             [
              0.3333333333333333,
              "#9c179e"
             ],
             [
              0.4444444444444444,
              "#bd3786"
             ],
             [
              0.5555555555555556,
              "#d8576b"
             ],
             [
              0.6666666666666666,
              "#ed7953"
             ],
             [
              0.7777777777777778,
              "#fb9f3a"
             ],
             [
              0.8888888888888888,
              "#fdca26"
             ],
             [
              1,
              "#f0f921"
             ]
            ],
            "type": "histogram2dcontour"
           }
          ],
          "mesh3d": [
           {
            "colorbar": {
             "outlinewidth": 0,
             "ticks": ""
            },
            "type": "mesh3d"
           }
          ],
          "parcoords": [
           {
            "line": {
             "colorbar": {
              "outlinewidth": 0,
              "ticks": ""
             }
            },
            "type": "parcoords"
           }
          ],
          "pie": [
           {
            "automargin": true,
            "type": "pie"
           }
          ],
          "scatter": [
           {
            "fillpattern": {
             "fillmode": "overlay",
             "size": 10,
             "solidity": 0.2
            },
            "type": "scatter"
           }
          ],
          "scatter3d": [
           {
            "line": {
             "colorbar": {
              "outlinewidth": 0,
              "ticks": ""
             }
            },
            "marker": {
             "colorbar": {
              "outlinewidth": 0,
              "ticks": ""
             }
            },
            "type": "scatter3d"
           }
          ],
          "scattercarpet": [
           {
            "marker": {
             "colorbar": {
              "outlinewidth": 0,
              "ticks": ""
             }
            },
            "type": "scattercarpet"
           }
          ],
          "scattergeo": [
           {
            "marker": {
             "colorbar": {
              "outlinewidth": 0,
              "ticks": ""
             }
            },
            "type": "scattergeo"
           }
          ],
          "scattergl": [
           {
            "marker": {
             "colorbar": {
              "outlinewidth": 0,
              "ticks": ""
             }
            },
            "type": "scattergl"
           }
          ],
          "scattermapbox": [
           {
            "marker": {
             "colorbar": {
              "outlinewidth": 0,
              "ticks": ""
             }
            },
            "type": "scattermapbox"
           }
          ],
          "scatterpolar": [
           {
            "marker": {
             "colorbar": {
              "outlinewidth": 0,
              "ticks": ""
             }
            },
            "type": "scatterpolar"
           }
          ],
          "scatterpolargl": [
           {
            "marker": {
             "colorbar": {
              "outlinewidth": 0,
              "ticks": ""
             }
            },
            "type": "scatterpolargl"
           }
          ],
          "scatterternary": [
           {
            "marker": {
             "colorbar": {
              "outlinewidth": 0,
              "ticks": ""
             }
            },
            "type": "scatterternary"
           }
          ],
          "surface": [
           {
            "colorbar": {
             "outlinewidth": 0,
             "ticks": ""
            },
            "colorscale": [
             [
              0,
              "#0d0887"
             ],
             [
              0.1111111111111111,
              "#46039f"
             ],
             [
              0.2222222222222222,
              "#7201a8"
             ],
             [
              0.3333333333333333,
              "#9c179e"
             ],
             [
              0.4444444444444444,
              "#bd3786"
             ],
             [
              0.5555555555555556,
              "#d8576b"
             ],
             [
              0.6666666666666666,
              "#ed7953"
             ],
             [
              0.7777777777777778,
              "#fb9f3a"
             ],
             [
              0.8888888888888888,
              "#fdca26"
             ],
             [
              1,
              "#f0f921"
             ]
            ],
            "type": "surface"
           }
          ],
          "table": [
           {
            "cells": {
             "fill": {
              "color": "#EBF0F8"
             },
             "line": {
              "color": "white"
             }
            },
            "header": {
             "fill": {
              "color": "#C8D4E3"
             },
             "line": {
              "color": "white"
             }
            },
            "type": "table"
           }
          ]
         },
         "layout": {
          "annotationdefaults": {
           "arrowcolor": "#2a3f5f",
           "arrowhead": 0,
           "arrowwidth": 1
          },
          "autotypenumbers": "strict",
          "coloraxis": {
           "colorbar": {
            "outlinewidth": 0,
            "ticks": ""
           }
          },
          "colorscale": {
           "diverging": [
            [
             0,
             "#8e0152"
            ],
            [
             0.1,
             "#c51b7d"
            ],
            [
             0.2,
             "#de77ae"
            ],
            [
             0.3,
             "#f1b6da"
            ],
            [
             0.4,
             "#fde0ef"
            ],
            [
             0.5,
             "#f7f7f7"
            ],
            [
             0.6,
             "#e6f5d0"
            ],
            [
             0.7,
             "#b8e186"
            ],
            [
             0.8,
             "#7fbc41"
            ],
            [
             0.9,
             "#4d9221"
            ],
            [
             1,
             "#276419"
            ]
           ],
           "sequential": [
            [
             0,
             "#0d0887"
            ],
            [
             0.1111111111111111,
             "#46039f"
            ],
            [
             0.2222222222222222,
             "#7201a8"
            ],
            [
             0.3333333333333333,
             "#9c179e"
            ],
            [
             0.4444444444444444,
             "#bd3786"
            ],
            [
             0.5555555555555556,
             "#d8576b"
            ],
            [
             0.6666666666666666,
             "#ed7953"
            ],
            [
             0.7777777777777778,
             "#fb9f3a"
            ],
            [
             0.8888888888888888,
             "#fdca26"
            ],
            [
             1,
             "#f0f921"
            ]
           ],
           "sequentialminus": [
            [
             0,
             "#0d0887"
            ],
            [
             0.1111111111111111,
             "#46039f"
            ],
            [
             0.2222222222222222,
             "#7201a8"
            ],
            [
             0.3333333333333333,
             "#9c179e"
            ],
            [
             0.4444444444444444,
             "#bd3786"
            ],
            [
             0.5555555555555556,
             "#d8576b"
            ],
            [
             0.6666666666666666,
             "#ed7953"
            ],
            [
             0.7777777777777778,
             "#fb9f3a"
            ],
            [
             0.8888888888888888,
             "#fdca26"
            ],
            [
             1,
             "#f0f921"
            ]
           ]
          },
          "colorway": [
           "#636efa",
           "#EF553B",
           "#00cc96",
           "#ab63fa",
           "#FFA15A",
           "#19d3f3",
           "#FF6692",
           "#B6E880",
           "#FF97FF",
           "#FECB52"
          ],
          "font": {
           "color": "#2a3f5f"
          },
          "geo": {
           "bgcolor": "white",
           "lakecolor": "white",
           "landcolor": "#E5ECF6",
           "showlakes": true,
           "showland": true,
           "subunitcolor": "white"
          },
          "hoverlabel": {
           "align": "left"
          },
          "hovermode": "closest",
          "mapbox": {
           "style": "light"
          },
          "paper_bgcolor": "white",
          "plot_bgcolor": "#E5ECF6",
          "polar": {
           "angularaxis": {
            "gridcolor": "white",
            "linecolor": "white",
            "ticks": ""
           },
           "bgcolor": "#E5ECF6",
           "radialaxis": {
            "gridcolor": "white",
            "linecolor": "white",
            "ticks": ""
           }
          },
          "scene": {
           "xaxis": {
            "backgroundcolor": "#E5ECF6",
            "gridcolor": "white",
            "gridwidth": 2,
            "linecolor": "white",
            "showbackground": true,
            "ticks": "",
            "zerolinecolor": "white"
           },
           "yaxis": {
            "backgroundcolor": "#E5ECF6",
            "gridcolor": "white",
            "gridwidth": 2,
            "linecolor": "white",
            "showbackground": true,
            "ticks": "",
            "zerolinecolor": "white"
           },
           "zaxis": {
            "backgroundcolor": "#E5ECF6",
            "gridcolor": "white",
            "gridwidth": 2,
            "linecolor": "white",
            "showbackground": true,
            "ticks": "",
            "zerolinecolor": "white"
           }
          },
          "shapedefaults": {
           "line": {
            "color": "#2a3f5f"
           }
          },
          "ternary": {
           "aaxis": {
            "gridcolor": "white",
            "linecolor": "white",
            "ticks": ""
           },
           "baxis": {
            "gridcolor": "white",
            "linecolor": "white",
            "ticks": ""
           },
           "bgcolor": "#E5ECF6",
           "caxis": {
            "gridcolor": "white",
            "linecolor": "white",
            "ticks": ""
           }
          },
          "title": {
           "x": 0.05
          },
          "xaxis": {
           "automargin": true,
           "gridcolor": "white",
           "linecolor": "white",
           "ticks": "",
           "title": {
            "standoff": 15
           },
           "zerolinecolor": "white",
           "zerolinewidth": 2
          },
          "yaxis": {
           "automargin": true,
           "gridcolor": "white",
           "linecolor": "white",
           "ticks": "",
           "title": {
            "standoff": 15
           },
           "zerolinecolor": "white",
           "zerolinewidth": 2
          }
         }
        },
        "title": {
         "text": "Joular values for accept/1[java.lang.String]"
        },
        "xaxis": {
         "anchor": "y",
         "domain": [
          0,
          1
         ]
        },
        "yaxis": {
         "anchor": "x",
         "domain": [
          0,
          1
         ],
         "title": {
          "text": "value"
         }
        }
       }
      }
     },
     "metadata": {},
     "output_type": "display_data"
    },
    {
     "data": {
      "application/vnd.plotly.v1+json": {
       "config": {
        "plotlyServerURL": "https://plot.ly"
       },
       "data": [
        {
         "alignmentgroup": "True",
         "hovertemplate": "Metric=%{x}<br>Value=%{y}<extra></extra>",
         "legendgroup": "",
         "marker": {
          "color": "#636efa",
          "pattern": {
           "shape": ""
          }
         },
         "name": "",
         "offsetgroup": "",
         "orientation": "v",
         "showlegend": false,
         "textposition": "auto",
         "type": "bar",
         "x": [
          "loc",
          "fanout",
          "wmc",
          "cbo",
          "fanin",
          "cboModified"
         ],
         "xaxis": "x",
         "y": [
          19,
          5,
          4,
          2,
          0,
          5
         ],
         "yaxis": "y"
        }
       ],
       "layout": {
        "barmode": "relative",
        "legend": {
         "tracegroupgap": 0
        },
        "template": {
         "data": {
          "bar": [
           {
            "error_x": {
             "color": "#2a3f5f"
            },
            "error_y": {
             "color": "#2a3f5f"
            },
            "marker": {
             "line": {
              "color": "#E5ECF6",
              "width": 0.5
             },
             "pattern": {
              "fillmode": "overlay",
              "size": 10,
              "solidity": 0.2
             }
            },
            "type": "bar"
           }
          ],
          "barpolar": [
           {
            "marker": {
             "line": {
              "color": "#E5ECF6",
              "width": 0.5
             },
             "pattern": {
              "fillmode": "overlay",
              "size": 10,
              "solidity": 0.2
             }
            },
            "type": "barpolar"
           }
          ],
          "carpet": [
           {
            "aaxis": {
             "endlinecolor": "#2a3f5f",
             "gridcolor": "white",
             "linecolor": "white",
             "minorgridcolor": "white",
             "startlinecolor": "#2a3f5f"
            },
            "baxis": {
             "endlinecolor": "#2a3f5f",
             "gridcolor": "white",
             "linecolor": "white",
             "minorgridcolor": "white",
             "startlinecolor": "#2a3f5f"
            },
            "type": "carpet"
           }
          ],
          "choropleth": [
           {
            "colorbar": {
             "outlinewidth": 0,
             "ticks": ""
            },
            "type": "choropleth"
           }
          ],
          "contour": [
           {
            "colorbar": {
             "outlinewidth": 0,
             "ticks": ""
            },
            "colorscale": [
             [
              0,
              "#0d0887"
             ],
             [
              0.1111111111111111,
              "#46039f"
             ],
             [
              0.2222222222222222,
              "#7201a8"
             ],
             [
              0.3333333333333333,
              "#9c179e"
             ],
             [
              0.4444444444444444,
              "#bd3786"
             ],
             [
              0.5555555555555556,
              "#d8576b"
             ],
             [
              0.6666666666666666,
              "#ed7953"
             ],
             [
              0.7777777777777778,
              "#fb9f3a"
             ],
             [
              0.8888888888888888,
              "#fdca26"
             ],
             [
              1,
              "#f0f921"
             ]
            ],
            "type": "contour"
           }
          ],
          "contourcarpet": [
           {
            "colorbar": {
             "outlinewidth": 0,
             "ticks": ""
            },
            "type": "contourcarpet"
           }
          ],
          "heatmap": [
           {
            "colorbar": {
             "outlinewidth": 0,
             "ticks": ""
            },
            "colorscale": [
             [
              0,
              "#0d0887"
             ],
             [
              0.1111111111111111,
              "#46039f"
             ],
             [
              0.2222222222222222,
              "#7201a8"
             ],
             [
              0.3333333333333333,
              "#9c179e"
             ],
             [
              0.4444444444444444,
              "#bd3786"
             ],
             [
              0.5555555555555556,
              "#d8576b"
             ],
             [
              0.6666666666666666,
              "#ed7953"
             ],
             [
              0.7777777777777778,
              "#fb9f3a"
             ],
             [
              0.8888888888888888,
              "#fdca26"
             ],
             [
              1,
              "#f0f921"
             ]
            ],
            "type": "heatmap"
           }
          ],
          "heatmapgl": [
           {
            "colorbar": {
             "outlinewidth": 0,
             "ticks": ""
            },
            "colorscale": [
             [
              0,
              "#0d0887"
             ],
             [
              0.1111111111111111,
              "#46039f"
             ],
             [
              0.2222222222222222,
              "#7201a8"
             ],
             [
              0.3333333333333333,
              "#9c179e"
             ],
             [
              0.4444444444444444,
              "#bd3786"
             ],
             [
              0.5555555555555556,
              "#d8576b"
             ],
             [
              0.6666666666666666,
              "#ed7953"
             ],
             [
              0.7777777777777778,
              "#fb9f3a"
             ],
             [
              0.8888888888888888,
              "#fdca26"
             ],
             [
              1,
              "#f0f921"
             ]
            ],
            "type": "heatmapgl"
           }
          ],
          "histogram": [
           {
            "marker": {
             "pattern": {
              "fillmode": "overlay",
              "size": 10,
              "solidity": 0.2
             }
            },
            "type": "histogram"
           }
          ],
          "histogram2d": [
           {
            "colorbar": {
             "outlinewidth": 0,
             "ticks": ""
            },
            "colorscale": [
             [
              0,
              "#0d0887"
             ],
             [
              0.1111111111111111,
              "#46039f"
             ],
             [
              0.2222222222222222,
              "#7201a8"
             ],
             [
              0.3333333333333333,
              "#9c179e"
             ],
             [
              0.4444444444444444,
              "#bd3786"
             ],
             [
              0.5555555555555556,
              "#d8576b"
             ],
             [
              0.6666666666666666,
              "#ed7953"
             ],
             [
              0.7777777777777778,
              "#fb9f3a"
             ],
             [
              0.8888888888888888,
              "#fdca26"
             ],
             [
              1,
              "#f0f921"
             ]
            ],
            "type": "histogram2d"
           }
          ],
          "histogram2dcontour": [
           {
            "colorbar": {
             "outlinewidth": 0,
             "ticks": ""
            },
            "colorscale": [
             [
              0,
              "#0d0887"
             ],
             [
              0.1111111111111111,
              "#46039f"
             ],
             [
              0.2222222222222222,
              "#7201a8"
             ],
             [
              0.3333333333333333,
              "#9c179e"
             ],
             [
              0.4444444444444444,
              "#bd3786"
             ],
             [
              0.5555555555555556,
              "#d8576b"
             ],
             [
              0.6666666666666666,
              "#ed7953"
             ],
             [
              0.7777777777777778,
              "#fb9f3a"
             ],
             [
              0.8888888888888888,
              "#fdca26"
             ],
             [
              1,
              "#f0f921"
             ]
            ],
            "type": "histogram2dcontour"
           }
          ],
          "mesh3d": [
           {
            "colorbar": {
             "outlinewidth": 0,
             "ticks": ""
            },
            "type": "mesh3d"
           }
          ],
          "parcoords": [
           {
            "line": {
             "colorbar": {
              "outlinewidth": 0,
              "ticks": ""
             }
            },
            "type": "parcoords"
           }
          ],
          "pie": [
           {
            "automargin": true,
            "type": "pie"
           }
          ],
          "scatter": [
           {
            "fillpattern": {
             "fillmode": "overlay",
             "size": 10,
             "solidity": 0.2
            },
            "type": "scatter"
           }
          ],
          "scatter3d": [
           {
            "line": {
             "colorbar": {
              "outlinewidth": 0,
              "ticks": ""
             }
            },
            "marker": {
             "colorbar": {
              "outlinewidth": 0,
              "ticks": ""
             }
            },
            "type": "scatter3d"
           }
          ],
          "scattercarpet": [
           {
            "marker": {
             "colorbar": {
              "outlinewidth": 0,
              "ticks": ""
             }
            },
            "type": "scattercarpet"
           }
          ],
          "scattergeo": [
           {
            "marker": {
             "colorbar": {
              "outlinewidth": 0,
              "ticks": ""
             }
            },
            "type": "scattergeo"
           }
          ],
          "scattergl": [
           {
            "marker": {
             "colorbar": {
              "outlinewidth": 0,
              "ticks": ""
             }
            },
            "type": "scattergl"
           }
          ],
          "scattermapbox": [
           {
            "marker": {
             "colorbar": {
              "outlinewidth": 0,
              "ticks": ""
             }
            },
            "type": "scattermapbox"
           }
          ],
          "scatterpolar": [
           {
            "marker": {
             "colorbar": {
              "outlinewidth": 0,
              "ticks": ""
             }
            },
            "type": "scatterpolar"
           }
          ],
          "scatterpolargl": [
           {
            "marker": {
             "colorbar": {
              "outlinewidth": 0,
              "ticks": ""
             }
            },
            "type": "scatterpolargl"
           }
          ],
          "scatterternary": [
           {
            "marker": {
             "colorbar": {
              "outlinewidth": 0,
              "ticks": ""
             }
            },
            "type": "scatterternary"
           }
          ],
          "surface": [
           {
            "colorbar": {
             "outlinewidth": 0,
             "ticks": ""
            },
            "colorscale": [
             [
              0,
              "#0d0887"
             ],
             [
              0.1111111111111111,
              "#46039f"
             ],
             [
              0.2222222222222222,
              "#7201a8"
             ],
             [
              0.3333333333333333,
              "#9c179e"
             ],
             [
              0.4444444444444444,
              "#bd3786"
             ],
             [
              0.5555555555555556,
              "#d8576b"
             ],
             [
              0.6666666666666666,
              "#ed7953"
             ],
             [
              0.7777777777777778,
              "#fb9f3a"
             ],
             [
              0.8888888888888888,
              "#fdca26"
             ],
             [
              1,
              "#f0f921"
             ]
            ],
            "type": "surface"
           }
          ],
          "table": [
           {
            "cells": {
             "fill": {
              "color": "#EBF0F8"
             },
             "line": {
              "color": "white"
             }
            },
            "header": {
             "fill": {
              "color": "#C8D4E3"
             },
             "line": {
              "color": "white"
             }
            },
            "type": "table"
           }
          ]
         },
         "layout": {
          "annotationdefaults": {
           "arrowcolor": "#2a3f5f",
           "arrowhead": 0,
           "arrowwidth": 1
          },
          "autotypenumbers": "strict",
          "coloraxis": {
           "colorbar": {
            "outlinewidth": 0,
            "ticks": ""
           }
          },
          "colorscale": {
           "diverging": [
            [
             0,
             "#8e0152"
            ],
            [
             0.1,
             "#c51b7d"
            ],
            [
             0.2,
             "#de77ae"
            ],
            [
             0.3,
             "#f1b6da"
            ],
            [
             0.4,
             "#fde0ef"
            ],
            [
             0.5,
             "#f7f7f7"
            ],
            [
             0.6,
             "#e6f5d0"
            ],
            [
             0.7,
             "#b8e186"
            ],
            [
             0.8,
             "#7fbc41"
            ],
            [
             0.9,
             "#4d9221"
            ],
            [
             1,
             "#276419"
            ]
           ],
           "sequential": [
            [
             0,
             "#0d0887"
            ],
            [
             0.1111111111111111,
             "#46039f"
            ],
            [
             0.2222222222222222,
             "#7201a8"
            ],
            [
             0.3333333333333333,
             "#9c179e"
            ],
            [
             0.4444444444444444,
             "#bd3786"
            ],
            [
             0.5555555555555556,
             "#d8576b"
            ],
            [
             0.6666666666666666,
             "#ed7953"
            ],
            [
             0.7777777777777778,
             "#fb9f3a"
            ],
            [
             0.8888888888888888,
             "#fdca26"
            ],
            [
             1,
             "#f0f921"
            ]
           ],
           "sequentialminus": [
            [
             0,
             "#0d0887"
            ],
            [
             0.1111111111111111,
             "#46039f"
            ],
            [
             0.2222222222222222,
             "#7201a8"
            ],
            [
             0.3333333333333333,
             "#9c179e"
            ],
            [
             0.4444444444444444,
             "#bd3786"
            ],
            [
             0.5555555555555556,
             "#d8576b"
            ],
            [
             0.6666666666666666,
             "#ed7953"
            ],
            [
             0.7777777777777778,
             "#fb9f3a"
            ],
            [
             0.8888888888888888,
             "#fdca26"
            ],
            [
             1,
             "#f0f921"
            ]
           ]
          },
          "colorway": [
           "#636efa",
           "#EF553B",
           "#00cc96",
           "#ab63fa",
           "#FFA15A",
           "#19d3f3",
           "#FF6692",
           "#B6E880",
           "#FF97FF",
           "#FECB52"
          ],
          "font": {
           "color": "#2a3f5f"
          },
          "geo": {
           "bgcolor": "white",
           "lakecolor": "white",
           "landcolor": "#E5ECF6",
           "showlakes": true,
           "showland": true,
           "subunitcolor": "white"
          },
          "hoverlabel": {
           "align": "left"
          },
          "hovermode": "closest",
          "mapbox": {
           "style": "light"
          },
          "paper_bgcolor": "white",
          "plot_bgcolor": "#E5ECF6",
          "polar": {
           "angularaxis": {
            "gridcolor": "white",
            "linecolor": "white",
            "ticks": ""
           },
           "bgcolor": "#E5ECF6",
           "radialaxis": {
            "gridcolor": "white",
            "linecolor": "white",
            "ticks": ""
           }
          },
          "scene": {
           "xaxis": {
            "backgroundcolor": "#E5ECF6",
            "gridcolor": "white",
            "gridwidth": 2,
            "linecolor": "white",
            "showbackground": true,
            "ticks": "",
            "zerolinecolor": "white"
           },
           "yaxis": {
            "backgroundcolor": "#E5ECF6",
            "gridcolor": "white",
            "gridwidth": 2,
            "linecolor": "white",
            "showbackground": true,
            "ticks": "",
            "zerolinecolor": "white"
           },
           "zaxis": {
            "backgroundcolor": "#E5ECF6",
            "gridcolor": "white",
            "gridwidth": 2,
            "linecolor": "white",
            "showbackground": true,
            "ticks": "",
            "zerolinecolor": "white"
           }
          },
          "shapedefaults": {
           "line": {
            "color": "#2a3f5f"
           }
          },
          "ternary": {
           "aaxis": {
            "gridcolor": "white",
            "linecolor": "white",
            "ticks": ""
           },
           "baxis": {
            "gridcolor": "white",
            "linecolor": "white",
            "ticks": ""
           },
           "bgcolor": "#E5ECF6",
           "caxis": {
            "gridcolor": "white",
            "linecolor": "white",
            "ticks": ""
           }
          },
          "title": {
           "x": 0.05
          },
          "xaxis": {
           "automargin": true,
           "gridcolor": "white",
           "linecolor": "white",
           "ticks": "",
           "title": {
            "standoff": 15
           },
           "zerolinecolor": "white",
           "zerolinewidth": 2
          },
          "yaxis": {
           "automargin": true,
           "gridcolor": "white",
           "linecolor": "white",
           "ticks": "",
           "title": {
            "standoff": 15
           },
           "zerolinecolor": "white",
           "zerolinewidth": 2
          }
         }
        },
        "title": {
         "text": "Ck metrics for accept/1[java.lang.String]"
        },
        "xaxis": {
         "anchor": "y",
         "domain": [
          0,
          1
         ],
         "title": {
          "text": "Metric"
         }
        },
        "yaxis": {
         "anchor": "x",
         "domain": [
          0,
          1
         ],
         "title": {
          "text": "Value"
         }
        }
       }
      }
     },
     "metadata": {},
     "output_type": "display_data"
    }
   ],
   "source": [
    "createBoxplotAndBarChart(\"12442bd8c7cde6e7c006a6277eeb8e81ad0c2219\", \"method\", \"org.hibernate.tool.schema.internal.exec.GenerationTargetToDatabase\", \"accept/1[java.lang.String]\")"
   ]
  }
 ],
 "metadata": {
  "kernelspec": {
   "display_name": "Python 3 (ipykernel)",
   "language": "python",
   "name": "python3"
  },
  "language_info": {
   "codemirror_mode": {
    "name": "ipython",
    "version": 3
   },
   "file_extension": ".py",
   "mimetype": "text/x-python",
   "name": "python",
   "nbconvert_exporter": "python",
   "pygments_lexer": "ipython3",
   "version": "3.9.13"
  }
 },
 "nbformat": 4,
 "nbformat_minor": 5
}
