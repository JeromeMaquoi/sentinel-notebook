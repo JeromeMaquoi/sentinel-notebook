{
 "cells": [
  {
   "cell_type": "markdown",
   "id": "fb1cc479",
   "metadata": {},
   "source": [
    "# Joular and CK data analysis"
   ]
  },
  {
   "cell_type": "code",
   "execution_count": 60,
   "id": "22105557",
   "metadata": {},
   "outputs": [],
   "source": [
    "import requests\n",
    "import plotly.express as px\n",
    "from plotly.subplots import make_subplots\n",
    "import pandas as pd\n",
    "import numpy as np\n",
    "from scipy import stats\n",
    "\n",
    "BASE_URL = \"http://localhost:8080/api/v1\""
   ]
  },
  {
   "cell_type": "markdown",
   "id": "099742eb",
   "metadata": {},
   "source": [
    "# Exploration of data"
   ]
  },
  {
   "cell_type": "markdown",
   "id": "feb85d1a",
   "metadata": {},
   "source": [
    "- **First objective**: aggregate all the joular data for each method and keep the methods having 30 values\n",
    "- **Second objective**: remove all the aberrant values like the values that are too high or too low compared to the other values\n",
    "- **Third objective**: sort all the data in function of their values in descending order\n",
    "- **Fourth objective**: for a few methods (those having the highest values), compare the distribution of the values with the CK analysis of this method"
   ]
  },
  {
   "cell_type": "markdown",
   "id": "68fe30cf",
   "metadata": {},
   "source": [
    "## Aggregate the joular values and getting the methods with 30 values"
   ]
  },
  {
   "cell_type": "code",
   "execution_count": 41,
   "id": "3c8e33a0",
   "metadata": {},
   "outputs": [],
   "source": [
    "def getEndpoint(endpoint, params=None):\n",
    "    URL = BASE_URL + endpoint\n",
    "    r = requests.get(url=URL, params=params)\n",
    "    return r.json()\n",
    "\n",
    "def getAllJoularDataForMethodsHaving30Values(sha=\"\"):\n",
    "    allResults = []\n",
    "    endpoint = \"/joular/aggregates/\"\n",
    "    if (sha != \"\"):\n",
    "        endpoint += \"by-commit/\" + sha\n",
    "    result = getEndpoint(endpoint)\n",
    "    allResults.extend(result[\"content\"])\n",
    "    while(not result[\"last\"]):\n",
    "        page = result[\"number\"] + 1\n",
    "        print(\"Calling page \", page)\n",
    "        result = getEndpoint(endpoint, {\"page\": page})\n",
    "        allResults.extend(result[\"content\"])\n",
    "    return allResults\n",
    "\n",
    "def getSeveralCkDataForOneMethod(commitSha: str, className: str, methodSignature: str, ckMetrics: list[str]):\n",
    "    endpoint = \"/ck-entities/by-commit-and-ast-elem/\" + commitSha\n",
    "    params = {\n",
    "        \"className\": className,\n",
    "        \"methodSignature\": methodSignature,\n",
    "        \"names\": ckMetrics\n",
    "    }\n",
    "    return getEndpoint(endpoint=endpoint, params=params)\n",
    "\n",
    "def createBoxplotJoular(repositoryName, methodSignature, allValues):\n",
    "    df = pd.DataFrame({\"allValues\":allValues})\n",
    "    fig = px.box(df, y=\"allValues\", title=\"Joular values for \" + methodSignature + \" of repository \" +repositoryName, points=\"outliers\")\n",
    "    fig.show()"
   ]
  },
  {
   "cell_type": "code",
   "execution_count": 3,
   "id": "7e72e804",
   "metadata": {},
   "outputs": [],
   "source": [
    "def removeOutliersByZScore(data, threshold=3):\n",
    "    zScores = np.abs(stats.zscore(data))\n",
    "    #zScores = np.abs((data - np.mean(data)) / np.std(data))\n",
    "    \"\"\"boolScore = zScores < threshold\n",
    "    for i in range(len(data)):\n",
    "        print(str(data[i]) + \"   \" + str(zScores[i]) + \"  \" + str(boolScore[i]))\"\"\"\n",
    "    return data[zScores < threshold]"
   ]
  },
  {
   "cell_type": "code",
   "execution_count": 4,
   "id": "9b173d47",
   "metadata": {},
   "outputs": [],
   "source": [
    "def removeOutliersByIQR(allValues):\n",
    "    df = pd.DataFrame({\"allValues\":allValues})\n",
    "    Q1 = df.quantile(0.25)\n",
    "    Q3 = df.quantile(0.75)\n",
    "    IQR = Q3 - Q1\n",
    "    \"\"\"print(\"Q1 = \", Q1[\"allValues\"])\n",
    "    print(\"Q3 = \", Q3[\"allValues\"])\n",
    "    print(\"IQR = \", IQR[\"allValues\"])\n",
    "    print(\"Lower limit = \", Q1[\"allValues\"] - 1.5 * IQR[\"allValues\"])\n",
    "    print(\"Upper limit = \", Q3[\"allValues\"] + 1.5 * IQR[\"allValues\"])\"\"\"\n",
    "    return df[~((df < (Q1 - 1.5 * IQR))|(df > (Q3 + 1.5 * IQR))).any(axis=1)]"
   ]
  },
  {
   "cell_type": "markdown",
   "id": "11d800f3",
   "metadata": {},
   "source": [
    "### Data for all repositories"
   ]
  },
  {
   "cell_type": "code",
   "execution_count": 9,
   "id": "7597470e",
   "metadata": {},
   "outputs": [
    {
     "ename": "JSONDecodeError",
     "evalue": "Expecting value: line 1 column 1 (char 0)",
     "output_type": "error",
     "traceback": [
      "\u001b[0;31m---------------------------------------------------------------------------\u001b[0m",
      "\u001b[0;31mJSONDecodeError\u001b[0m                           Traceback (most recent call last)",
      "\u001b[0;32m~/anaconda3/lib/python3.9/site-packages/requests/models.py\u001b[0m in \u001b[0;36mjson\u001b[0;34m(self, **kwargs)\u001b[0m\n\u001b[1;32m    970\u001b[0m         \u001b[0;32mtry\u001b[0m\u001b[0;34m:\u001b[0m\u001b[0;34m\u001b[0m\u001b[0;34m\u001b[0m\u001b[0m\n\u001b[0;32m--> 971\u001b[0;31m             \u001b[0;32mreturn\u001b[0m \u001b[0mcomplexjson\u001b[0m\u001b[0;34m.\u001b[0m\u001b[0mloads\u001b[0m\u001b[0;34m(\u001b[0m\u001b[0mself\u001b[0m\u001b[0;34m.\u001b[0m\u001b[0mtext\u001b[0m\u001b[0;34m,\u001b[0m \u001b[0;34m**\u001b[0m\u001b[0mkwargs\u001b[0m\u001b[0;34m)\u001b[0m\u001b[0;34m\u001b[0m\u001b[0;34m\u001b[0m\u001b[0m\n\u001b[0m\u001b[1;32m    972\u001b[0m         \u001b[0;32mexcept\u001b[0m \u001b[0mJSONDecodeError\u001b[0m \u001b[0;32mas\u001b[0m \u001b[0me\u001b[0m\u001b[0;34m:\u001b[0m\u001b[0;34m\u001b[0m\u001b[0;34m\u001b[0m\u001b[0m\n",
      "\u001b[0;32m~/anaconda3/lib/python3.9/json/__init__.py\u001b[0m in \u001b[0;36mloads\u001b[0;34m(s, cls, object_hook, parse_float, parse_int, parse_constant, object_pairs_hook, **kw)\u001b[0m\n\u001b[1;32m    345\u001b[0m             parse_constant is None and object_pairs_hook is None and not kw):\n\u001b[0;32m--> 346\u001b[0;31m         \u001b[0;32mreturn\u001b[0m \u001b[0m_default_decoder\u001b[0m\u001b[0;34m.\u001b[0m\u001b[0mdecode\u001b[0m\u001b[0;34m(\u001b[0m\u001b[0ms\u001b[0m\u001b[0;34m)\u001b[0m\u001b[0;34m\u001b[0m\u001b[0;34m\u001b[0m\u001b[0m\n\u001b[0m\u001b[1;32m    347\u001b[0m     \u001b[0;32mif\u001b[0m \u001b[0mcls\u001b[0m \u001b[0;32mis\u001b[0m \u001b[0;32mNone\u001b[0m\u001b[0;34m:\u001b[0m\u001b[0;34m\u001b[0m\u001b[0;34m\u001b[0m\u001b[0m\n",
      "\u001b[0;32m~/anaconda3/lib/python3.9/json/decoder.py\u001b[0m in \u001b[0;36mdecode\u001b[0;34m(self, s, _w)\u001b[0m\n\u001b[1;32m    336\u001b[0m         \"\"\"\n\u001b[0;32m--> 337\u001b[0;31m         \u001b[0mobj\u001b[0m\u001b[0;34m,\u001b[0m \u001b[0mend\u001b[0m \u001b[0;34m=\u001b[0m \u001b[0mself\u001b[0m\u001b[0;34m.\u001b[0m\u001b[0mraw_decode\u001b[0m\u001b[0;34m(\u001b[0m\u001b[0ms\u001b[0m\u001b[0;34m,\u001b[0m \u001b[0midx\u001b[0m\u001b[0;34m=\u001b[0m\u001b[0m_w\u001b[0m\u001b[0;34m(\u001b[0m\u001b[0ms\u001b[0m\u001b[0;34m,\u001b[0m \u001b[0;36m0\u001b[0m\u001b[0;34m)\u001b[0m\u001b[0;34m.\u001b[0m\u001b[0mend\u001b[0m\u001b[0;34m(\u001b[0m\u001b[0;34m)\u001b[0m\u001b[0;34m)\u001b[0m\u001b[0;34m\u001b[0m\u001b[0;34m\u001b[0m\u001b[0m\n\u001b[0m\u001b[1;32m    338\u001b[0m         \u001b[0mend\u001b[0m \u001b[0;34m=\u001b[0m \u001b[0m_w\u001b[0m\u001b[0;34m(\u001b[0m\u001b[0ms\u001b[0m\u001b[0;34m,\u001b[0m \u001b[0mend\u001b[0m\u001b[0;34m)\u001b[0m\u001b[0;34m.\u001b[0m\u001b[0mend\u001b[0m\u001b[0;34m(\u001b[0m\u001b[0;34m)\u001b[0m\u001b[0;34m\u001b[0m\u001b[0;34m\u001b[0m\u001b[0m\n",
      "\u001b[0;32m~/anaconda3/lib/python3.9/json/decoder.py\u001b[0m in \u001b[0;36mraw_decode\u001b[0;34m(self, s, idx)\u001b[0m\n\u001b[1;32m    354\u001b[0m         \u001b[0;32mexcept\u001b[0m \u001b[0mStopIteration\u001b[0m \u001b[0;32mas\u001b[0m \u001b[0merr\u001b[0m\u001b[0;34m:\u001b[0m\u001b[0;34m\u001b[0m\u001b[0;34m\u001b[0m\u001b[0m\n\u001b[0;32m--> 355\u001b[0;31m             \u001b[0;32mraise\u001b[0m \u001b[0mJSONDecodeError\u001b[0m\u001b[0;34m(\u001b[0m\u001b[0;34m\"Expecting value\"\u001b[0m\u001b[0;34m,\u001b[0m \u001b[0ms\u001b[0m\u001b[0;34m,\u001b[0m \u001b[0merr\u001b[0m\u001b[0;34m.\u001b[0m\u001b[0mvalue\u001b[0m\u001b[0;34m)\u001b[0m \u001b[0;32mfrom\u001b[0m \u001b[0;32mNone\u001b[0m\u001b[0;34m\u001b[0m\u001b[0;34m\u001b[0m\u001b[0m\n\u001b[0m\u001b[1;32m    356\u001b[0m         \u001b[0;32mreturn\u001b[0m \u001b[0mobj\u001b[0m\u001b[0;34m,\u001b[0m \u001b[0mend\u001b[0m\u001b[0;34m\u001b[0m\u001b[0;34m\u001b[0m\u001b[0m\n",
      "\u001b[0;31mJSONDecodeError\u001b[0m: Expecting value: line 1 column 1 (char 0)",
      "\nDuring handling of the above exception, another exception occurred:\n",
      "\u001b[0;31mJSONDecodeError\u001b[0m                           Traceback (most recent call last)",
      "\u001b[0;32m/tmp/ipykernel_8048/1829237173.py\u001b[0m in \u001b[0;36m<module>\u001b[0;34m\u001b[0m\n\u001b[0;32m----> 1\u001b[0;31m \u001b[0mallData\u001b[0m \u001b[0;34m=\u001b[0m \u001b[0mgetAllJoularDataForMethodsHaving30Values\u001b[0m\u001b[0;34m(\u001b[0m\u001b[0;34m)\u001b[0m\u001b[0;34m\u001b[0m\u001b[0;34m\u001b[0m\u001b[0m\n\u001b[0m\u001b[1;32m      2\u001b[0m \u001b[0mprint\u001b[0m\u001b[0;34m(\u001b[0m\u001b[0mallData\u001b[0m\u001b[0;34m)\u001b[0m\u001b[0;34m\u001b[0m\u001b[0;34m\u001b[0m\u001b[0m\n\u001b[1;32m      3\u001b[0m \u001b[0mdataRepo\u001b[0m \u001b[0;34m=\u001b[0m \u001b[0msorted\u001b[0m\u001b[0;34m(\u001b[0m\u001b[0mallData\u001b[0m\u001b[0;34m,\u001b[0m \u001b[0mkey\u001b[0m\u001b[0;34m=\u001b[0m\u001b[0;32mlambda\u001b[0m \u001b[0mx\u001b[0m\u001b[0;34m:\u001b[0m \u001b[0mx\u001b[0m\u001b[0;34m[\u001b[0m\u001b[0;34m\"allValues\"\u001b[0m\u001b[0;34m]\u001b[0m\u001b[0;34m,\u001b[0m \u001b[0mreverse\u001b[0m\u001b[0;34m=\u001b[0m\u001b[0;32mTrue\u001b[0m\u001b[0;34m)\u001b[0m\u001b[0;34m\u001b[0m\u001b[0;34m\u001b[0m\u001b[0m\n\u001b[1;32m      4\u001b[0m \u001b[0mdataRepo\u001b[0m \u001b[0;34m=\u001b[0m \u001b[0;34m[\u001b[0m\u001b[0;34m]\u001b[0m\u001b[0;34m\u001b[0m\u001b[0;34m\u001b[0m\u001b[0m\n\u001b[1;32m      5\u001b[0m \u001b[0;32mfor\u001b[0m \u001b[0mmethodData\u001b[0m \u001b[0;32min\u001b[0m \u001b[0mdataRepo\u001b[0m\u001b[0;34m:\u001b[0m\u001b[0;34m\u001b[0m\u001b[0;34m\u001b[0m\u001b[0m\n",
      "\u001b[0;32m/tmp/ipykernel_8048/1687452127.py\u001b[0m in \u001b[0;36mgetAllJoularDataForMethodsHaving30Values\u001b[0;34m(sha)\u001b[0m\n\u001b[1;32m      9\u001b[0m     \u001b[0;32mif\u001b[0m \u001b[0;34m(\u001b[0m\u001b[0msha\u001b[0m \u001b[0;34m!=\u001b[0m \u001b[0;34m\"\"\u001b[0m\u001b[0;34m)\u001b[0m\u001b[0;34m:\u001b[0m\u001b[0;34m\u001b[0m\u001b[0;34m\u001b[0m\u001b[0m\n\u001b[1;32m     10\u001b[0m         \u001b[0mendpoint\u001b[0m \u001b[0;34m+=\u001b[0m \u001b[0;34m\"by-commit/\"\u001b[0m \u001b[0;34m+\u001b[0m \u001b[0msha\u001b[0m\u001b[0;34m\u001b[0m\u001b[0;34m\u001b[0m\u001b[0m\n\u001b[0;32m---> 11\u001b[0;31m     \u001b[0mresult\u001b[0m \u001b[0;34m=\u001b[0m \u001b[0mgetEndpoint\u001b[0m\u001b[0;34m(\u001b[0m\u001b[0mendpoint\u001b[0m\u001b[0;34m)\u001b[0m\u001b[0;34m\u001b[0m\u001b[0;34m\u001b[0m\u001b[0m\n\u001b[0m\u001b[1;32m     12\u001b[0m     \u001b[0mallResults\u001b[0m\u001b[0;34m.\u001b[0m\u001b[0mextend\u001b[0m\u001b[0;34m(\u001b[0m\u001b[0mresult\u001b[0m\u001b[0;34m[\u001b[0m\u001b[0;34m\"content\"\u001b[0m\u001b[0;34m]\u001b[0m\u001b[0;34m)\u001b[0m\u001b[0;34m\u001b[0m\u001b[0;34m\u001b[0m\u001b[0m\n\u001b[1;32m     13\u001b[0m     \u001b[0;32mwhile\u001b[0m\u001b[0;34m(\u001b[0m\u001b[0;32mnot\u001b[0m \u001b[0mresult\u001b[0m\u001b[0;34m[\u001b[0m\u001b[0;34m\"last\"\u001b[0m\u001b[0;34m]\u001b[0m\u001b[0;34m)\u001b[0m\u001b[0;34m:\u001b[0m\u001b[0;34m\u001b[0m\u001b[0;34m\u001b[0m\u001b[0m\n",
      "\u001b[0;32m/tmp/ipykernel_8048/1687452127.py\u001b[0m in \u001b[0;36mgetEndpoint\u001b[0;34m(endpoint, params)\u001b[0m\n\u001b[1;32m      2\u001b[0m     \u001b[0mURL\u001b[0m \u001b[0;34m=\u001b[0m \u001b[0mBASE_URL\u001b[0m \u001b[0;34m+\u001b[0m \u001b[0mendpoint\u001b[0m\u001b[0;34m\u001b[0m\u001b[0;34m\u001b[0m\u001b[0m\n\u001b[1;32m      3\u001b[0m     \u001b[0mr\u001b[0m \u001b[0;34m=\u001b[0m \u001b[0mrequests\u001b[0m\u001b[0;34m.\u001b[0m\u001b[0mget\u001b[0m\u001b[0;34m(\u001b[0m\u001b[0murl\u001b[0m\u001b[0;34m=\u001b[0m\u001b[0mURL\u001b[0m\u001b[0;34m,\u001b[0m \u001b[0mparams\u001b[0m\u001b[0;34m=\u001b[0m\u001b[0mparams\u001b[0m\u001b[0;34m)\u001b[0m\u001b[0;34m\u001b[0m\u001b[0;34m\u001b[0m\u001b[0m\n\u001b[0;32m----> 4\u001b[0;31m     \u001b[0;32mreturn\u001b[0m \u001b[0mr\u001b[0m\u001b[0;34m.\u001b[0m\u001b[0mjson\u001b[0m\u001b[0;34m(\u001b[0m\u001b[0;34m)\u001b[0m\u001b[0;34m\u001b[0m\u001b[0;34m\u001b[0m\u001b[0m\n\u001b[0m\u001b[1;32m      5\u001b[0m \u001b[0;34m\u001b[0m\u001b[0m\n\u001b[1;32m      6\u001b[0m \u001b[0;32mdef\u001b[0m \u001b[0mgetAllJoularDataForMethodsHaving30Values\u001b[0m\u001b[0;34m(\u001b[0m\u001b[0msha\u001b[0m\u001b[0;34m=\u001b[0m\u001b[0;34m\"\"\u001b[0m\u001b[0;34m)\u001b[0m\u001b[0;34m:\u001b[0m\u001b[0;34m\u001b[0m\u001b[0;34m\u001b[0m\u001b[0m\n",
      "\u001b[0;32m~/anaconda3/lib/python3.9/site-packages/requests/models.py\u001b[0m in \u001b[0;36mjson\u001b[0;34m(self, **kwargs)\u001b[0m\n\u001b[1;32m    973\u001b[0m             \u001b[0;31m# Catch JSON-related errors and raise as requests.JSONDecodeError\u001b[0m\u001b[0;34m\u001b[0m\u001b[0;34m\u001b[0m\u001b[0m\n\u001b[1;32m    974\u001b[0m             \u001b[0;31m# This aliases json.JSONDecodeError and simplejson.JSONDecodeError\u001b[0m\u001b[0;34m\u001b[0m\u001b[0;34m\u001b[0m\u001b[0m\n\u001b[0;32m--> 975\u001b[0;31m             \u001b[0;32mraise\u001b[0m \u001b[0mRequestsJSONDecodeError\u001b[0m\u001b[0;34m(\u001b[0m\u001b[0me\u001b[0m\u001b[0;34m.\u001b[0m\u001b[0mmsg\u001b[0m\u001b[0;34m,\u001b[0m \u001b[0me\u001b[0m\u001b[0;34m.\u001b[0m\u001b[0mdoc\u001b[0m\u001b[0;34m,\u001b[0m \u001b[0me\u001b[0m\u001b[0;34m.\u001b[0m\u001b[0mpos\u001b[0m\u001b[0;34m)\u001b[0m\u001b[0;34m\u001b[0m\u001b[0;34m\u001b[0m\u001b[0m\n\u001b[0m\u001b[1;32m    976\u001b[0m \u001b[0;34m\u001b[0m\u001b[0m\n\u001b[1;32m    977\u001b[0m     \u001b[0;34m@\u001b[0m\u001b[0mproperty\u001b[0m\u001b[0;34m\u001b[0m\u001b[0;34m\u001b[0m\u001b[0m\n",
      "\u001b[0;31mJSONDecodeError\u001b[0m: Expecting value: line 1 column 1 (char 0)"
     ]
    }
   ],
   "source": [
    "allData = getAllJoularDataForMethodsHaving30Values()\n",
    "print(allData)\n",
    "dataRepo = sorted(allData, key=lambda x: x[\"allValues\"], reverse=True)\n",
    "dataRepo = []\n",
    "for methodData in dataRepo:\n",
    "    repositoryName = methodData[\"commit\"][\"repository\"][\"name\"]\n",
    "    methodSignature = methodData[\"measurableElement\"][\"methodSignature\"]\n",
    "    allValues = methodData[\"allValues\"]\n",
    "    allValuesAfterIQR = removeOutliersByIQR(allValues)\n",
    "    #print(len(allValuesAfterIQR))\n",
    "    if (len(allValuesAfterIQR) == 30):\n",
    "        dataRepo.append(methodData)\n",
    "\n",
    "    #createBoxplotJoular(repositoryName, methodSignature, allValues)\n",
    "    #createBoxplotJoular(repositoryName, methodSignature, allValuesWithoutOutliers)\n",
    "    #createBoxplotJoular(repositoryName, methodSignature, allValuesAfterIQR[\"allValues\"])\n",
    "print(len(dataRepo))\n",
    "\n",
    "dataAllRepositories = []\n",
    "for doc in dataRepo:\n",
    "    dataAllRepositories.extend({\"Repository\": doc[\"commit\"][\"repository\"][\"name\"], \"Values\":val, \"Class\": doc[\"measurableElement\"][\"className\"]} for val in doc[\"allValues\"])\n",
    "ckDataFrame = pd.DataFrame(dataAllRepositories)\n",
    "\n",
    "figRepository = px.violin(ckDataFrame, y=\"Values\", x=\"Repository\", points=\"all\")\n",
    "figRepository.show()"
   ]
  },
  {
   "cell_type": "markdown",
   "id": "aabf34bf",
   "metadata": {},
   "source": [
    "### Aggregate by repository and comparison with CK values"
   ]
  },
  {
   "cell_type": "code",
   "execution_count": 72,
   "id": "10d0c9c3",
   "metadata": {},
   "outputs": [],
   "source": [
    "def sortData(data):\n",
    "    return sorted(data, key=lambda x: x[\"allValues\"], reverse=True)\n",
    "\n",
    "def removeOutliers(data):\n",
    "    print(\"Len with outliers : \", len(data))\n",
    "    only30Values = []\n",
    "    for methodData in data:\n",
    "        allValues = methodData[\"allValues\"]\n",
    "        allValuesAfterIQR = removeOutliersByIQR(allValues)\n",
    "        #print(len(allValuesAfterIQR))\n",
    "        if (len(allValuesAfterIQR) == 30):\n",
    "            only30Values.append(methodData)\n",
    "    print(\"Len without outliers : \", len(only30Values))\n",
    "    return only30Values\n",
    "\n",
    "def getTheFirstHighestValues(data, end=5):\n",
    "    return data[:end]\n",
    "\n",
    "def createViolinJoular(data, granularity=\"Repository\", points=\"all\"):\n",
    "    dataAllRepositories = []\n",
    "    for doc in data:\n",
    "        dataAllRepositories.extend({\"Repository\": doc[\"commit\"][\"repository\"][\"name\"], \"Values\":val, \"Class\": doc[\"measurableElement\"][\"className\"]} for val in doc[\"allValues\"])\n",
    "    df = pd.DataFrame(dataAllRepositories)\n",
    "\n",
    "    figRepository = px.violin(df, y=\"Values\", x=granularity, points=points)\n",
    "    figRepository.show()\n",
    "\n",
    "def createBarChart(dataframe, xAxisName, yAxisName, title):\n",
    "    fig = px.bar(dataframe, x=xAxisName, y=yAxisName, title=title)\n",
    "    fig.update_layout(yaxis_range=[0, 40])\n",
    "    return fig\n",
    "\n",
    "def prepareCkDataFrame(ckValues):\n",
    "    values = {item[\"name\"]:item[\"value\"] for item in ckValues}\n",
    "    return pd.DataFrame(list(values.items()), columns=[\"Metric\", \"Value\"])\n",
    "\n",
    "def createBoxplot(dataframe, title):\n",
    "    return px.box(dataframe, y=\"value\", title=title, points=\"all\")\n",
    "\n",
    "def prepareJoularDataFrame(joularValues):\n",
    "    return pd.DataFrame({\"value\": joularValues})\n",
    "\n",
    "def createSubplot(fig1, fig2, title):\n",
    "    fig1Traces = []\n",
    "    fig2Traces = []\n",
    "    for trace in range(len(fig1[\"data\"])):\n",
    "        fig1Traces.append(fig1[\"data\"][trace])\n",
    "    for trace in range(len(fig2[\"data\"])):\n",
    "        fig2Traces.append(fig2[\"data\"][trace])\n",
    "\n",
    "    \n",
    "    figure = make_subplots(rows=1, cols=2, subplot_titles=(\"Joular values\", \"Ck values\"))\n",
    "    for traces in fig1Traces:\n",
    "        figure.append_trace(traces, row=1, col=1)\n",
    "    for traces in fig2Traces:\n",
    "        figure.append_trace(traces, row=1, col=2)\n",
    "\n",
    "    figure.update_layout(title_text=title)\n",
    "    figure.show()"
   ]
  },
  {
   "cell_type": "code",
   "execution_count": 73,
   "id": "091414a3",
   "metadata": {},
   "outputs": [
    {
     "name": "stdout",
     "output_type": "stream",
     "text": [
      "Calling page  1\n",
      "Len with outliers :  197\n",
      "Len without outliers :  93\n"
     ]
    },
    {
     "data": {
      "application/vnd.plotly.v1+json": {
       "config": {
        "plotlyServerURL": "https://plot.ly"
       },
       "data": [
        {
         "alignmentgroup": "True",
         "box": {
          "visible": false
         },
         "hovertemplate": "Repository=%{x}<br>Values=%{y}<extra></extra>",
         "legendgroup": "",
         "marker": {
          "color": "#636efa"
         },
         "name": "",
         "offsetgroup": "",
         "orientation": "v",
         "points": "all",
         "scalegroup": "True",
         "showlegend": false,
         "type": "violin",
         "x": [
          "spoon",
          "spoon",
          "spoon",
          "spoon",
          "spoon",
          "spoon",
          "spoon",
          "spoon",
          "spoon",
          "spoon",
          "spoon",
          "spoon",
          "spoon",
          "spoon",
          "spoon",
          "spoon",
          "spoon",
          "spoon",
          "spoon",
          "spoon",
          "spoon",
          "spoon",
          "spoon",
          "spoon",
          "spoon",
          "spoon",
          "spoon",
          "spoon",
          "spoon",
          "spoon",
          "spoon",
          "spoon",
          "spoon",
          "spoon",
          "spoon",
          "spoon",
          "spoon",
          "spoon",
          "spoon",
          "spoon",
          "spoon",
          "spoon",
          "spoon",
          "spoon",
          "spoon",
          "spoon",
          "spoon",
          "spoon",
          "spoon",
          "spoon",
          "spoon",
          "spoon",
          "spoon",
          "spoon",
          "spoon",
          "spoon",
          "spoon",
          "spoon",
          "spoon",
          "spoon",
          "spoon",
          "spoon",
          "spoon",
          "spoon",
          "spoon",
          "spoon",
          "spoon",
          "spoon",
          "spoon",
          "spoon",
          "spoon",
          "spoon",
          "spoon",
          "spoon",
          "spoon",
          "spoon",
          "spoon",
          "spoon",
          "spoon",
          "spoon",
          "spoon",
          "spoon",
          "spoon",
          "spoon",
          "spoon",
          "spoon",
          "spoon",
          "spoon",
          "spoon",
          "spoon",
          "spoon",
          "spoon",
          "spoon",
          "spoon",
          "spoon",
          "spoon",
          "spoon",
          "spoon",
          "spoon",
          "spoon",
          "spoon",
          "spoon",
          "spoon",
          "spoon",
          "spoon",
          "spoon",
          "spoon",
          "spoon",
          "spoon",
          "spoon",
          "spoon",
          "spoon",
          "spoon",
          "spoon",
          "spoon",
          "spoon",
          "spoon",
          "spoon",
          "spoon",
          "spoon",
          "spoon",
          "spoon",
          "spoon",
          "spoon",
          "spoon",
          "spoon",
          "spoon",
          "spoon",
          "spoon",
          "spoon",
          "spoon",
          "spoon",
          "spoon",
          "spoon",
          "spoon",
          "spoon",
          "spoon",
          "spoon",
          "spoon",
          "spoon",
          "spoon",
          "spoon",
          "spoon",
          "spoon",
          "spoon",
          "spoon",
          "spoon",
          "spoon",
          "spoon",
          "spoon",
          "spoon",
          "spoon",
          "spoon",
          "spoon",
          "spoon",
          "spoon",
          "spoon",
          "spoon",
          "spoon",
          "spoon",
          "spoon",
          "spoon",
          "spoon",
          "spoon",
          "spoon",
          "spoon",
          "spoon",
          "spoon",
          "spoon",
          "spoon",
          "spoon",
          "spoon",
          "spoon",
          "spoon",
          "spoon",
          "spoon",
          "spoon",
          "spoon",
          "spoon",
          "spoon",
          "spoon",
          "spoon",
          "spoon",
          "spoon",
          "spoon",
          "spoon",
          "spoon",
          "spoon",
          "spoon",
          "spoon",
          "spoon",
          "spoon",
          "spoon",
          "spoon",
          "spoon",
          "spoon",
          "spoon",
          "spoon",
          "spoon",
          "spoon",
          "spoon",
          "spoon",
          "spoon",
          "spoon",
          "spoon",
          "spoon",
          "spoon",
          "spoon",
          "spoon",
          "spoon",
          "spoon",
          "spoon",
          "spoon",
          "spoon",
          "spoon",
          "spoon",
          "spoon",
          "spoon",
          "spoon",
          "spoon",
          "spoon",
          "spoon",
          "spoon",
          "spoon",
          "spoon",
          "spoon",
          "spoon",
          "spoon",
          "spoon",
          "spoon",
          "spoon",
          "spoon",
          "spoon",
          "spoon",
          "spoon",
          "spoon",
          "spoon",
          "spoon",
          "spoon",
          "spoon",
          "spoon",
          "spoon",
          "spoon",
          "spoon",
          "spoon",
          "spoon",
          "spoon",
          "spoon",
          "spoon",
          "spoon",
          "spoon",
          "spoon",
          "spoon",
          "spoon",
          "spoon",
          "spoon",
          "spoon",
          "spoon",
          "spoon",
          "spoon",
          "spoon",
          "spoon",
          "spoon",
          "spoon",
          "spoon",
          "spoon",
          "spoon",
          "spoon",
          "spoon",
          "spoon",
          "spoon",
          "spoon",
          "spoon",
          "spoon",
          "spoon",
          "spoon",
          "spoon",
          "spoon",
          "spoon",
          "spoon",
          "spoon",
          "spoon",
          "spoon",
          "spoon",
          "spoon",
          "spoon",
          "spoon",
          "spoon",
          "spoon",
          "spoon",
          "spoon",
          "spoon",
          "spoon",
          "spoon",
          "spoon",
          "spoon",
          "spoon",
          "spoon",
          "spoon",
          "spoon",
          "spoon",
          "spoon",
          "spoon",
          "spoon",
          "spoon",
          "spoon",
          "spoon",
          "spoon",
          "spoon",
          "spoon",
          "spoon",
          "spoon",
          "spoon",
          "spoon",
          "spoon",
          "spoon",
          "spoon",
          "spoon",
          "spoon",
          "spoon",
          "spoon",
          "spoon",
          "spoon",
          "spoon",
          "spoon",
          "spoon",
          "spoon",
          "spoon",
          "spoon",
          "spoon",
          "spoon",
          "spoon",
          "spoon",
          "spoon",
          "spoon",
          "spoon",
          "spoon",
          "spoon",
          "spoon",
          "spoon",
          "spoon",
          "spoon",
          "spoon",
          "spoon",
          "spoon",
          "spoon",
          "spoon",
          "spoon",
          "spoon",
          "spoon",
          "spoon",
          "spoon",
          "spoon",
          "spoon",
          "spoon",
          "spoon",
          "spoon",
          "spoon",
          "spoon",
          "spoon",
          "spoon",
          "spoon",
          "spoon",
          "spoon",
          "spoon",
          "spoon",
          "spoon",
          "spoon",
          "spoon",
          "spoon",
          "spoon",
          "spoon",
          "spoon",
          "spoon",
          "spoon",
          "spoon",
          "spoon",
          "spoon",
          "spoon",
          "spoon",
          "spoon",
          "spoon",
          "spoon",
          "spoon",
          "spoon",
          "spoon",
          "spoon",
          "spoon",
          "spoon",
          "spoon",
          "spoon",
          "spoon",
          "spoon",
          "spoon",
          "spoon",
          "spoon",
          "spoon",
          "spoon",
          "spoon",
          "spoon",
          "spoon",
          "spoon",
          "spoon",
          "spoon",
          "spoon",
          "spoon",
          "spoon",
          "spoon",
          "spoon",
          "spoon",
          "spoon",
          "spoon",
          "spoon",
          "spoon",
          "spoon",
          "spoon",
          "spoon",
          "spoon",
          "spoon",
          "spoon",
          "spoon",
          "spoon",
          "spoon",
          "spoon",
          "spoon",
          "spoon",
          "spoon",
          "spoon",
          "spoon",
          "spoon",
          "spoon",
          "spoon",
          "spoon",
          "spoon",
          "spoon",
          "spoon",
          "spoon",
          "spoon",
          "spoon",
          "spoon",
          "spoon",
          "spoon",
          "spoon",
          "spoon",
          "spoon",
          "spoon",
          "spoon",
          "spoon",
          "spoon",
          "spoon",
          "spoon",
          "spoon",
          "spoon",
          "spoon",
          "spoon",
          "spoon",
          "spoon",
          "spoon",
          "spoon",
          "spoon",
          "spoon",
          "spoon",
          "spoon",
          "spoon",
          "spoon",
          "spoon",
          "spoon",
          "spoon",
          "spoon",
          "spoon",
          "spoon",
          "spoon",
          "spoon",
          "spoon",
          "spoon",
          "spoon",
          "spoon",
          "spoon",
          "spoon",
          "spoon",
          "spoon",
          "spoon",
          "spoon",
          "spoon",
          "spoon",
          "spoon",
          "spoon",
          "spoon",
          "spoon",
          "spoon",
          "spoon",
          "spoon",
          "spoon",
          "spoon",
          "spoon",
          "spoon",
          "spoon",
          "spoon",
          "spoon",
          "spoon",
          "spoon",
          "spoon",
          "spoon",
          "spoon",
          "spoon",
          "spoon",
          "spoon",
          "spoon",
          "spoon",
          "spoon",
          "spoon",
          "spoon",
          "spoon",
          "spoon",
          "spoon",
          "spoon",
          "spoon",
          "spoon",
          "spoon",
          "spoon",
          "spoon",
          "spoon",
          "spoon",
          "spoon",
          "spoon",
          "spoon",
          "spoon",
          "spoon",
          "spoon",
          "spoon",
          "spoon",
          "spoon",
          "spoon",
          "spoon",
          "spoon",
          "spoon",
          "spoon",
          "spoon",
          "spoon",
          "spoon",
          "spoon",
          "spoon",
          "spoon",
          "spoon",
          "spoon",
          "spoon",
          "spoon",
          "spoon",
          "spoon",
          "spoon",
          "spoon",
          "spoon",
          "spoon",
          "spoon",
          "spoon",
          "spoon",
          "spoon",
          "spoon",
          "spoon",
          "spoon",
          "spoon",
          "spoon",
          "spoon",
          "spoon",
          "spoon",
          "spoon",
          "spoon",
          "spoon",
          "spoon",
          "spoon",
          "spoon",
          "spoon",
          "spoon",
          "spoon",
          "spoon",
          "spoon",
          "spoon",
          "spoon",
          "spoon",
          "spoon",
          "spoon",
          "spoon",
          "spoon",
          "spoon",
          "spoon",
          "spoon",
          "spoon",
          "spoon",
          "spoon",
          "spoon",
          "spoon",
          "spoon",
          "spoon",
          "spoon",
          "spoon",
          "spoon",
          "spoon",
          "spoon",
          "spoon",
          "spoon",
          "spoon",
          "spoon",
          "spoon",
          "spoon",
          "spoon",
          "spoon",
          "spoon",
          "spoon",
          "spoon",
          "spoon",
          "spoon",
          "spoon",
          "spoon",
          "spoon",
          "spoon",
          "spoon",
          "spoon",
          "spoon",
          "spoon",
          "spoon",
          "spoon",
          "spoon",
          "spoon",
          "spoon",
          "spoon",
          "spoon",
          "spoon",
          "spoon",
          "spoon",
          "spoon",
          "spoon",
          "spoon",
          "spoon",
          "spoon",
          "spoon",
          "spoon",
          "spoon",
          "spoon",
          "spoon",
          "spoon",
          "spoon",
          "spoon",
          "spoon",
          "spoon",
          "spoon",
          "spoon",
          "spoon",
          "spoon",
          "spoon",
          "spoon",
          "spoon",
          "spoon",
          "spoon",
          "spoon",
          "spoon",
          "spoon",
          "spoon",
          "spoon",
          "spoon",
          "spoon",
          "spoon",
          "spoon",
          "spoon",
          "spoon",
          "spoon",
          "spoon",
          "spoon",
          "spoon",
          "spoon",
          "spoon",
          "spoon",
          "spoon",
          "spoon",
          "spoon",
          "spoon",
          "spoon",
          "spoon",
          "spoon",
          "spoon",
          "spoon",
          "spoon",
          "spoon",
          "spoon",
          "spoon",
          "spoon",
          "spoon",
          "spoon",
          "spoon",
          "spoon",
          "spoon",
          "spoon",
          "spoon",
          "spoon",
          "spoon",
          "spoon",
          "spoon",
          "spoon",
          "spoon",
          "spoon",
          "spoon",
          "spoon",
          "spoon",
          "spoon",
          "spoon",
          "spoon",
          "spoon",
          "spoon",
          "spoon",
          "spoon",
          "spoon",
          "spoon",
          "spoon",
          "spoon",
          "spoon",
          "spoon",
          "spoon",
          "spoon",
          "spoon",
          "spoon",
          "spoon",
          "spoon",
          "spoon",
          "spoon",
          "spoon",
          "spoon",
          "spoon",
          "spoon",
          "spoon",
          "spoon",
          "spoon",
          "spoon",
          "spoon",
          "spoon",
          "spoon",
          "spoon",
          "spoon",
          "spoon",
          "spoon",
          "spoon",
          "spoon",
          "spoon",
          "spoon",
          "spoon",
          "spoon",
          "spoon",
          "spoon",
          "spoon",
          "spoon",
          "spoon",
          "spoon",
          "spoon",
          "spoon",
          "spoon",
          "spoon",
          "spoon",
          "spoon",
          "spoon",
          "spoon",
          "spoon",
          "spoon",
          "spoon",
          "spoon",
          "spoon",
          "spoon",
          "spoon",
          "spoon",
          "spoon",
          "spoon",
          "spoon",
          "spoon",
          "spoon",
          "spoon",
          "spoon",
          "spoon",
          "spoon",
          "spoon",
          "spoon",
          "spoon",
          "spoon",
          "spoon",
          "spoon",
          "spoon",
          "spoon",
          "spoon",
          "spoon",
          "spoon",
          "spoon",
          "spoon",
          "spoon",
          "spoon",
          "spoon",
          "spoon",
          "spoon",
          "spoon",
          "spoon",
          "spoon",
          "spoon",
          "spoon",
          "spoon",
          "spoon",
          "spoon",
          "spoon",
          "spoon",
          "spoon",
          "spoon",
          "spoon",
          "spoon",
          "spoon",
          "spoon",
          "spoon",
          "spoon",
          "spoon",
          "spoon",
          "spoon",
          "spoon",
          "spoon",
          "spoon",
          "spoon",
          "spoon",
          "spoon",
          "spoon",
          "spoon",
          "spoon",
          "spoon",
          "spoon",
          "spoon",
          "spoon",
          "spoon",
          "spoon",
          "spoon",
          "spoon",
          "spoon",
          "spoon",
          "spoon",
          "spoon",
          "spoon",
          "spoon",
          "spoon",
          "spoon",
          "spoon",
          "spoon",
          "spoon",
          "spoon",
          "spoon",
          "spoon",
          "spoon",
          "spoon",
          "spoon",
          "spoon",
          "spoon",
          "spoon",
          "spoon",
          "spoon",
          "spoon",
          "spoon",
          "spoon",
          "spoon",
          "spoon",
          "spoon",
          "spoon",
          "spoon",
          "spoon",
          "spoon",
          "spoon",
          "spoon",
          "spoon",
          "spoon",
          "spoon",
          "spoon",
          "spoon",
          "spoon",
          "spoon",
          "spoon",
          "spoon",
          "spoon",
          "spoon",
          "spoon",
          "spoon",
          "spoon",
          "spoon",
          "spoon",
          "spoon",
          "spoon",
          "spoon",
          "spoon",
          "spoon",
          "spoon",
          "spoon",
          "spoon",
          "spoon",
          "spoon",
          "spoon",
          "spoon",
          "spoon",
          "spoon",
          "spoon",
          "spoon",
          "spoon",
          "spoon",
          "spoon",
          "spoon",
          "spoon",
          "spoon",
          "spoon",
          "spoon",
          "spoon",
          "spoon",
          "spoon",
          "spoon",
          "spoon",
          "spoon",
          "spoon",
          "spoon",
          "spoon",
          "spoon",
          "spoon",
          "spoon",
          "spoon",
          "spoon",
          "spoon",
          "spoon",
          "spoon",
          "spoon",
          "spoon",
          "spoon",
          "spoon",
          "spoon",
          "spoon",
          "spoon",
          "spoon",
          "spoon",
          "spoon",
          "spoon",
          "spoon",
          "spoon",
          "spoon",
          "spoon",
          "spoon",
          "spoon",
          "spoon",
          "spoon",
          "spoon",
          "spoon",
          "spoon",
          "spoon",
          "spoon",
          "spoon",
          "spoon",
          "spoon",
          "spoon",
          "spoon",
          "spoon",
          "spoon",
          "spoon",
          "spoon",
          "spoon",
          "spoon",
          "spoon",
          "spoon",
          "spoon",
          "spoon",
          "spoon",
          "spoon",
          "spoon",
          "spoon",
          "spoon",
          "spoon",
          "spoon",
          "spoon",
          "spoon",
          "spoon",
          "spoon",
          "spoon",
          "spoon",
          "spoon",
          "spoon",
          "spoon",
          "spoon",
          "spoon",
          "spoon",
          "spoon",
          "spoon",
          "spoon",
          "spoon",
          "spoon",
          "spoon",
          "spoon",
          "spoon",
          "spoon",
          "spoon",
          "spoon",
          "spoon",
          "spoon",
          "spoon",
          "spoon",
          "spoon",
          "spoon",
          "spoon",
          "spoon",
          "spoon",
          "spoon",
          "spoon",
          "spoon",
          "spoon",
          "spoon",
          "spoon",
          "spoon",
          "spoon",
          "spoon",
          "spoon",
          "spoon",
          "spoon",
          "spoon",
          "spoon",
          "spoon",
          "spoon",
          "spoon",
          "spoon",
          "spoon",
          "spoon",
          "spoon",
          "spoon",
          "spoon",
          "spoon",
          "spoon",
          "spoon",
          "spoon",
          "spoon",
          "spoon",
          "spoon",
          "spoon",
          "spoon",
          "spoon",
          "spoon",
          "spoon",
          "spoon",
          "spoon",
          "spoon",
          "spoon",
          "spoon",
          "spoon",
          "spoon",
          "spoon",
          "spoon",
          "spoon",
          "spoon",
          "spoon",
          "spoon",
          "spoon",
          "spoon",
          "spoon",
          "spoon",
          "spoon",
          "spoon",
          "spoon",
          "spoon",
          "spoon",
          "spoon",
          "spoon",
          "spoon",
          "spoon",
          "spoon",
          "spoon",
          "spoon",
          "spoon",
          "spoon",
          "spoon",
          "spoon",
          "spoon",
          "spoon",
          "spoon",
          "spoon",
          "spoon",
          "spoon",
          "spoon",
          "spoon",
          "spoon",
          "spoon",
          "spoon",
          "spoon",
          "spoon",
          "spoon",
          "spoon",
          "spoon",
          "spoon",
          "spoon",
          "spoon",
          "spoon",
          "spoon",
          "spoon",
          "spoon",
          "spoon",
          "spoon",
          "spoon",
          "spoon",
          "spoon",
          "spoon",
          "spoon",
          "spoon",
          "spoon",
          "spoon",
          "spoon",
          "spoon",
          "spoon",
          "spoon",
          "spoon",
          "spoon",
          "spoon",
          "spoon",
          "spoon",
          "spoon",
          "spoon",
          "spoon",
          "spoon",
          "spoon",
          "spoon",
          "spoon",
          "spoon",
          "spoon",
          "spoon",
          "spoon",
          "spoon",
          "spoon",
          "spoon",
          "spoon",
          "spoon",
          "spoon",
          "spoon",
          "spoon",
          "spoon",
          "spoon",
          "spoon",
          "spoon",
          "spoon",
          "spoon",
          "spoon",
          "spoon",
          "spoon",
          "spoon",
          "spoon",
          "spoon",
          "spoon",
          "spoon",
          "spoon",
          "spoon",
          "spoon",
          "spoon",
          "spoon",
          "spoon",
          "spoon",
          "spoon",
          "spoon",
          "spoon",
          "spoon",
          "spoon",
          "spoon",
          "spoon",
          "spoon",
          "spoon",
          "spoon",
          "spoon",
          "spoon",
          "spoon",
          "spoon",
          "spoon",
          "spoon",
          "spoon",
          "spoon",
          "spoon",
          "spoon",
          "spoon",
          "spoon",
          "spoon",
          "spoon",
          "spoon",
          "spoon",
          "spoon",
          "spoon",
          "spoon",
          "spoon",
          "spoon",
          "spoon",
          "spoon",
          "spoon",
          "spoon",
          "spoon",
          "spoon",
          "spoon",
          "spoon",
          "spoon",
          "spoon",
          "spoon",
          "spoon",
          "spoon",
          "spoon",
          "spoon",
          "spoon",
          "spoon",
          "spoon",
          "spoon",
          "spoon",
          "spoon",
          "spoon",
          "spoon",
          "spoon",
          "spoon",
          "spoon",
          "spoon",
          "spoon",
          "spoon",
          "spoon",
          "spoon",
          "spoon",
          "spoon",
          "spoon",
          "spoon",
          "spoon",
          "spoon",
          "spoon",
          "spoon",
          "spoon",
          "spoon",
          "spoon",
          "spoon",
          "spoon",
          "spoon",
          "spoon",
          "spoon",
          "spoon",
          "spoon",
          "spoon",
          "spoon",
          "spoon",
          "spoon",
          "spoon",
          "spoon",
          "spoon",
          "spoon",
          "spoon",
          "spoon",
          "spoon",
          "spoon",
          "spoon",
          "spoon",
          "spoon",
          "spoon",
          "spoon",
          "spoon",
          "spoon",
          "spoon",
          "spoon",
          "spoon",
          "spoon",
          "spoon",
          "spoon",
          "spoon",
          "spoon",
          "spoon",
          "spoon",
          "spoon",
          "spoon",
          "spoon",
          "spoon",
          "spoon",
          "spoon",
          "spoon",
          "spoon",
          "spoon",
          "spoon",
          "spoon",
          "spoon",
          "spoon",
          "spoon",
          "spoon",
          "spoon",
          "spoon",
          "spoon",
          "spoon",
          "spoon",
          "spoon",
          "spoon",
          "spoon",
          "spoon",
          "spoon",
          "spoon",
          "spoon",
          "spoon",
          "spoon",
          "spoon",
          "spoon",
          "spoon",
          "spoon",
          "spoon",
          "spoon",
          "spoon",
          "spoon",
          "spoon",
          "spoon",
          "spoon",
          "spoon",
          "spoon",
          "spoon",
          "spoon",
          "spoon",
          "spoon",
          "spoon",
          "spoon",
          "spoon",
          "spoon",
          "spoon",
          "spoon",
          "spoon",
          "spoon",
          "spoon",
          "spoon",
          "spoon",
          "spoon",
          "spoon",
          "spoon",
          "spoon",
          "spoon",
          "spoon",
          "spoon",
          "spoon",
          "spoon",
          "spoon",
          "spoon",
          "spoon",
          "spoon",
          "spoon",
          "spoon",
          "spoon",
          "spoon",
          "spoon",
          "spoon",
          "spoon",
          "spoon",
          "spoon",
          "spoon",
          "spoon",
          "spoon",
          "spoon",
          "spoon",
          "spoon",
          "spoon",
          "spoon",
          "spoon",
          "spoon",
          "spoon",
          "spoon",
          "spoon",
          "spoon",
          "spoon",
          "spoon",
          "spoon",
          "spoon",
          "spoon",
          "spoon",
          "spoon",
          "spoon",
          "spoon",
          "spoon",
          "spoon",
          "spoon",
          "spoon",
          "spoon",
          "spoon",
          "spoon",
          "spoon",
          "spoon",
          "spoon",
          "spoon",
          "spoon",
          "spoon",
          "spoon",
          "spoon",
          "spoon",
          "spoon",
          "spoon",
          "spoon",
          "spoon",
          "spoon",
          "spoon",
          "spoon",
          "spoon",
          "spoon",
          "spoon",
          "spoon",
          "spoon",
          "spoon",
          "spoon",
          "spoon",
          "spoon",
          "spoon",
          "spoon",
          "spoon",
          "spoon",
          "spoon",
          "spoon",
          "spoon",
          "spoon",
          "spoon",
          "spoon",
          "spoon",
          "spoon",
          "spoon",
          "spoon",
          "spoon",
          "spoon",
          "spoon",
          "spoon",
          "spoon",
          "spoon",
          "spoon",
          "spoon",
          "spoon",
          "spoon",
          "spoon",
          "spoon",
          "spoon",
          "spoon",
          "spoon",
          "spoon",
          "spoon",
          "spoon",
          "spoon",
          "spoon",
          "spoon",
          "spoon",
          "spoon",
          "spoon",
          "spoon",
          "spoon",
          "spoon",
          "spoon",
          "spoon",
          "spoon",
          "spoon",
          "spoon",
          "spoon",
          "spoon",
          "spoon",
          "spoon",
          "spoon",
          "spoon",
          "spoon",
          "spoon",
          "spoon",
          "spoon",
          "spoon",
          "spoon",
          "spoon",
          "spoon",
          "spoon",
          "spoon",
          "spoon",
          "spoon",
          "spoon",
          "spoon",
          "spoon",
          "spoon",
          "spoon",
          "spoon",
          "spoon",
          "spoon",
          "spoon",
          "spoon",
          "spoon",
          "spoon",
          "spoon",
          "spoon",
          "spoon",
          "spoon",
          "spoon",
          "spoon",
          "spoon",
          "spoon",
          "spoon",
          "spoon",
          "spoon",
          "spoon",
          "spoon",
          "spoon",
          "spoon",
          "spoon",
          "spoon",
          "spoon",
          "spoon",
          "spoon",
          "spoon",
          "spoon",
          "spoon",
          "spoon",
          "spoon",
          "spoon",
          "spoon",
          "spoon",
          "spoon",
          "spoon",
          "spoon",
          "spoon",
          "spoon",
          "spoon",
          "spoon",
          "spoon",
          "spoon",
          "spoon",
          "spoon",
          "spoon",
          "spoon",
          "spoon",
          "spoon",
          "spoon",
          "spoon",
          "spoon",
          "spoon",
          "spoon",
          "spoon",
          "spoon",
          "spoon",
          "spoon",
          "spoon",
          "spoon",
          "spoon",
          "spoon",
          "spoon",
          "spoon",
          "spoon",
          "spoon",
          "spoon",
          "spoon",
          "spoon",
          "spoon",
          "spoon",
          "spoon",
          "spoon",
          "spoon",
          "spoon",
          "spoon",
          "spoon",
          "spoon",
          "spoon",
          "spoon",
          "spoon",
          "spoon",
          "spoon",
          "spoon",
          "spoon",
          "spoon",
          "spoon",
          "spoon",
          "spoon",
          "spoon",
          "spoon",
          "spoon",
          "spoon",
          "spoon",
          "spoon",
          "spoon",
          "spoon",
          "spoon",
          "spoon",
          "spoon",
          "spoon",
          "spoon",
          "spoon",
          "spoon",
          "spoon",
          "spoon",
          "spoon",
          "spoon",
          "spoon",
          "spoon",
          "spoon",
          "spoon",
          "spoon",
          "spoon",
          "spoon",
          "spoon",
          "spoon",
          "spoon",
          "spoon",
          "spoon",
          "spoon",
          "spoon",
          "spoon",
          "spoon",
          "spoon",
          "spoon",
          "spoon",
          "spoon",
          "spoon",
          "spoon",
          "spoon",
          "spoon",
          "spoon",
          "spoon",
          "spoon",
          "spoon",
          "spoon",
          "spoon",
          "spoon",
          "spoon",
          "spoon",
          "spoon",
          "spoon",
          "spoon",
          "spoon",
          "spoon",
          "spoon",
          "spoon",
          "spoon",
          "spoon",
          "spoon",
          "spoon",
          "spoon",
          "spoon",
          "spoon",
          "spoon",
          "spoon",
          "spoon",
          "spoon",
          "spoon",
          "spoon",
          "spoon",
          "spoon",
          "spoon",
          "spoon",
          "spoon",
          "spoon",
          "spoon",
          "spoon",
          "spoon",
          "spoon",
          "spoon",
          "spoon",
          "spoon",
          "spoon",
          "spoon",
          "spoon",
          "spoon",
          "spoon",
          "spoon",
          "spoon",
          "spoon",
          "spoon",
          "spoon",
          "spoon",
          "spoon",
          "spoon",
          "spoon",
          "spoon",
          "spoon",
          "spoon",
          "spoon",
          "spoon",
          "spoon",
          "spoon",
          "spoon",
          "spoon",
          "spoon",
          "spoon",
          "spoon",
          "spoon",
          "spoon",
          "spoon",
          "spoon",
          "spoon",
          "spoon",
          "spoon",
          "spoon",
          "spoon",
          "spoon",
          "spoon",
          "spoon",
          "spoon",
          "spoon",
          "spoon",
          "spoon",
          "spoon",
          "spoon",
          "spoon",
          "spoon",
          "spoon",
          "spoon",
          "spoon",
          "spoon",
          "spoon",
          "spoon",
          "spoon",
          "spoon",
          "spoon",
          "spoon",
          "spoon",
          "spoon",
          "spoon",
          "spoon",
          "spoon",
          "spoon",
          "spoon",
          "spoon",
          "spoon",
          "spoon",
          "spoon",
          "spoon",
          "spoon",
          "spoon",
          "spoon",
          "spoon",
          "spoon",
          "spoon",
          "spoon",
          "spoon",
          "spoon",
          "spoon",
          "spoon",
          "spoon",
          "spoon",
          "spoon",
          "spoon",
          "spoon",
          "spoon",
          "spoon",
          "spoon",
          "spoon",
          "spoon",
          "spoon",
          "spoon",
          "spoon",
          "spoon",
          "spoon",
          "spoon",
          "spoon",
          "spoon",
          "spoon",
          "spoon",
          "spoon",
          "spoon",
          "spoon",
          "spoon",
          "spoon",
          "spoon",
          "spoon",
          "spoon",
          "spoon",
          "spoon",
          "spoon",
          "spoon",
          "spoon",
          "spoon",
          "spoon",
          "spoon",
          "spoon",
          "spoon",
          "spoon",
          "spoon",
          "spoon",
          "spoon",
          "spoon",
          "spoon",
          "spoon",
          "spoon",
          "spoon",
          "spoon",
          "spoon",
          "spoon",
          "spoon",
          "spoon",
          "spoon",
          "spoon",
          "spoon",
          "spoon",
          "spoon",
          "spoon",
          "spoon",
          "spoon",
          "spoon",
          "spoon",
          "spoon",
          "spoon",
          "spoon",
          "spoon",
          "spoon",
          "spoon",
          "spoon",
          "spoon",
          "spoon",
          "spoon",
          "spoon",
          "spoon",
          "spoon",
          "spoon",
          "spoon",
          "spoon",
          "spoon",
          "spoon",
          "spoon",
          "spoon",
          "spoon",
          "spoon",
          "spoon",
          "spoon",
          "spoon",
          "spoon",
          "spoon",
          "spoon",
          "spoon",
          "spoon",
          "spoon",
          "spoon",
          "spoon",
          "spoon",
          "spoon",
          "spoon",
          "spoon",
          "spoon",
          "spoon",
          "spoon",
          "spoon",
          "spoon",
          "spoon",
          "spoon",
          "spoon",
          "spoon",
          "spoon",
          "spoon",
          "spoon",
          "spoon",
          "spoon",
          "spoon",
          "spoon",
          "spoon",
          "spoon",
          "spoon",
          "spoon",
          "spoon",
          "spoon",
          "spoon",
          "spoon",
          "spoon",
          "spoon",
          "spoon",
          "spoon",
          "spoon",
          "spoon",
          "spoon",
          "spoon",
          "spoon",
          "spoon",
          "spoon",
          "spoon",
          "spoon",
          "spoon",
          "spoon",
          "spoon",
          "spoon",
          "spoon",
          "spoon",
          "spoon",
          "spoon",
          "spoon",
          "spoon",
          "spoon",
          "spoon",
          "spoon",
          "spoon",
          "spoon",
          "spoon",
          "spoon",
          "spoon",
          "spoon",
          "spoon",
          "spoon",
          "spoon",
          "spoon",
          "spoon",
          "spoon",
          "spoon",
          "spoon",
          "spoon",
          "spoon",
          "spoon",
          "spoon",
          "spoon",
          "spoon",
          "spoon",
          "spoon",
          "spoon",
          "spoon",
          "spoon",
          "spoon",
          "spoon",
          "spoon",
          "spoon",
          "spoon",
          "spoon",
          "spoon",
          "spoon",
          "spoon",
          "spoon",
          "spoon",
          "spoon",
          "spoon",
          "spoon",
          "spoon",
          "spoon",
          "spoon",
          "spoon",
          "spoon",
          "spoon",
          "spoon",
          "spoon",
          "spoon",
          "spoon",
          "spoon",
          "spoon",
          "spoon",
          "spoon",
          "spoon",
          "spoon",
          "spoon",
          "spoon",
          "spoon",
          "spoon",
          "spoon",
          "spoon",
          "spoon",
          "spoon",
          "spoon",
          "spoon",
          "spoon",
          "spoon",
          "spoon",
          "spoon",
          "spoon",
          "spoon",
          "spoon",
          "spoon",
          "spoon",
          "spoon",
          "spoon",
          "spoon",
          "spoon",
          "spoon",
          "spoon",
          "spoon",
          "spoon",
          "spoon",
          "spoon",
          "spoon",
          "spoon",
          "spoon",
          "spoon",
          "spoon",
          "spoon",
          "spoon",
          "spoon",
          "spoon",
          "spoon",
          "spoon",
          "spoon",
          "spoon",
          "spoon",
          "spoon",
          "spoon",
          "spoon",
          "spoon",
          "spoon",
          "spoon",
          "spoon",
          "spoon",
          "spoon",
          "spoon",
          "spoon",
          "spoon",
          "spoon",
          "spoon",
          "spoon",
          "spoon",
          "spoon",
          "spoon",
          "spoon",
          "spoon",
          "spoon",
          "spoon",
          "spoon",
          "spoon",
          "spoon",
          "spoon",
          "spoon",
          "spoon",
          "spoon",
          "spoon",
          "spoon",
          "spoon",
          "spoon",
          "spoon",
          "spoon",
          "spoon",
          "spoon",
          "spoon",
          "spoon",
          "spoon",
          "spoon",
          "spoon",
          "spoon",
          "spoon",
          "spoon",
          "spoon",
          "spoon",
          "spoon",
          "spoon",
          "spoon",
          "spoon",
          "spoon",
          "spoon",
          "spoon",
          "spoon",
          "spoon",
          "spoon",
          "spoon",
          "spoon",
          "spoon",
          "spoon",
          "spoon",
          "spoon",
          "spoon",
          "spoon",
          "spoon",
          "spoon",
          "spoon",
          "spoon",
          "spoon",
          "spoon",
          "spoon",
          "spoon",
          "spoon",
          "spoon",
          "spoon",
          "spoon",
          "spoon",
          "spoon",
          "spoon",
          "spoon",
          "spoon",
          "spoon",
          "spoon",
          "spoon",
          "spoon",
          "spoon",
          "spoon",
          "spoon",
          "spoon",
          "spoon",
          "spoon",
          "spoon",
          "spoon",
          "spoon",
          "spoon",
          "spoon",
          "spoon",
          "spoon",
          "spoon",
          "spoon",
          "spoon",
          "spoon",
          "spoon",
          "spoon",
          "spoon",
          "spoon",
          "spoon",
          "spoon",
          "spoon",
          "spoon",
          "spoon",
          "spoon",
          "spoon",
          "spoon",
          "spoon",
          "spoon",
          "spoon",
          "spoon",
          "spoon",
          "spoon",
          "spoon",
          "spoon",
          "spoon",
          "spoon",
          "spoon",
          "spoon",
          "spoon",
          "spoon",
          "spoon",
          "spoon",
          "spoon",
          "spoon",
          "spoon",
          "spoon",
          "spoon",
          "spoon",
          "spoon",
          "spoon",
          "spoon",
          "spoon",
          "spoon",
          "spoon",
          "spoon",
          "spoon",
          "spoon",
          "spoon",
          "spoon",
          "spoon",
          "spoon",
          "spoon",
          "spoon",
          "spoon",
          "spoon",
          "spoon",
          "spoon",
          "spoon",
          "spoon",
          "spoon",
          "spoon",
          "spoon",
          "spoon",
          "spoon",
          "spoon",
          "spoon",
          "spoon",
          "spoon",
          "spoon",
          "spoon",
          "spoon",
          "spoon",
          "spoon",
          "spoon",
          "spoon",
          "spoon",
          "spoon",
          "spoon",
          "spoon",
          "spoon",
          "spoon",
          "spoon",
          "spoon",
          "spoon",
          "spoon",
          "spoon",
          "spoon",
          "spoon",
          "spoon",
          "spoon",
          "spoon",
          "spoon",
          "spoon",
          "spoon",
          "spoon",
          "spoon",
          "spoon",
          "spoon",
          "spoon",
          "spoon",
          "spoon",
          "spoon",
          "spoon",
          "spoon",
          "spoon",
          "spoon",
          "spoon",
          "spoon",
          "spoon",
          "spoon",
          "spoon",
          "spoon",
          "spoon",
          "spoon",
          "spoon",
          "spoon",
          "spoon",
          "spoon",
          "spoon",
          "spoon",
          "spoon",
          "spoon",
          "spoon",
          "spoon",
          "spoon",
          "spoon",
          "spoon",
          "spoon",
          "spoon",
          "spoon",
          "spoon",
          "spoon",
          "spoon",
          "spoon",
          "spoon",
          "spoon",
          "spoon",
          "spoon",
          "spoon",
          "spoon",
          "spoon",
          "spoon",
          "spoon",
          "spoon",
          "spoon",
          "spoon",
          "spoon",
          "spoon",
          "spoon",
          "spoon",
          "spoon",
          "spoon",
          "spoon",
          "spoon",
          "spoon",
          "spoon",
          "spoon",
          "spoon",
          "spoon",
          "spoon",
          "spoon",
          "spoon",
          "spoon",
          "spoon",
          "spoon",
          "spoon",
          "spoon",
          "spoon",
          "spoon",
          "spoon",
          "spoon",
          "spoon",
          "spoon",
          "spoon",
          "spoon",
          "spoon",
          "spoon",
          "spoon",
          "spoon",
          "spoon",
          "spoon",
          "spoon",
          "spoon",
          "spoon",
          "spoon",
          "spoon",
          "spoon",
          "spoon",
          "spoon",
          "spoon",
          "spoon",
          "spoon",
          "spoon",
          "spoon",
          "spoon",
          "spoon",
          "spoon",
          "spoon",
          "spoon",
          "spoon",
          "spoon",
          "spoon",
          "spoon",
          "spoon",
          "spoon",
          "spoon",
          "spoon",
          "spoon",
          "spoon",
          "spoon",
          "spoon",
          "spoon",
          "spoon",
          "spoon",
          "spoon",
          "spoon",
          "spoon",
          "spoon",
          "spoon",
          "spoon",
          "spoon",
          "spoon",
          "spoon",
          "spoon",
          "spoon",
          "spoon",
          "spoon",
          "spoon",
          "spoon",
          "spoon",
          "spoon",
          "spoon",
          "spoon",
          "spoon",
          "spoon",
          "spoon",
          "spoon",
          "spoon",
          "spoon",
          "spoon",
          "spoon",
          "spoon",
          "spoon",
          "spoon",
          "spoon",
          "spoon",
          "spoon",
          "spoon",
          "spoon",
          "spoon",
          "spoon",
          "spoon",
          "spoon",
          "spoon",
          "spoon",
          "spoon",
          "spoon",
          "spoon",
          "spoon",
          "spoon",
          "spoon",
          "spoon",
          "spoon",
          "spoon",
          "spoon",
          "spoon",
          "spoon",
          "spoon",
          "spoon",
          "spoon",
          "spoon",
          "spoon",
          "spoon",
          "spoon",
          "spoon",
          "spoon",
          "spoon",
          "spoon",
          "spoon",
          "spoon",
          "spoon",
          "spoon",
          "spoon",
          "spoon",
          "spoon",
          "spoon",
          "spoon",
          "spoon",
          "spoon",
          "spoon",
          "spoon",
          "spoon",
          "spoon",
          "spoon",
          "spoon",
          "spoon",
          "spoon",
          "spoon",
          "spoon",
          "spoon",
          "spoon",
          "spoon",
          "spoon",
          "spoon",
          "spoon",
          "spoon",
          "spoon",
          "spoon",
          "spoon",
          "spoon",
          "spoon",
          "spoon",
          "spoon",
          "spoon",
          "spoon",
          "spoon",
          "spoon",
          "spoon",
          "spoon",
          "spoon",
          "spoon",
          "spoon",
          "spoon",
          "spoon",
          "spoon",
          "spoon",
          "spoon",
          "spoon",
          "spoon",
          "spoon",
          "spoon",
          "spoon",
          "spoon",
          "spoon",
          "spoon",
          "spoon",
          "spoon",
          "spoon",
          "spoon",
          "spoon",
          "spoon",
          "spoon",
          "spoon",
          "spoon",
          "spoon",
          "spoon",
          "spoon",
          "spoon",
          "spoon",
          "spoon",
          "spoon",
          "spoon",
          "spoon",
          "spoon",
          "spoon",
          "spoon",
          "spoon",
          "spoon",
          "spoon",
          "spoon",
          "spoon",
          "spoon",
          "spoon",
          "spoon",
          "spoon",
          "spoon",
          "spoon",
          "spoon",
          "spoon",
          "spoon",
          "spoon",
          "spoon",
          "spoon",
          "spoon",
          "spoon",
          "spoon",
          "spoon",
          "spoon",
          "spoon",
          "spoon",
          "spoon",
          "spoon",
          "spoon",
          "spoon",
          "spoon",
          "spoon",
          "spoon",
          "spoon",
          "spoon",
          "spoon",
          "spoon",
          "spoon",
          "spoon",
          "spoon",
          "spoon",
          "spoon",
          "spoon",
          "spoon",
          "spoon",
          "spoon",
          "spoon",
          "spoon",
          "spoon",
          "spoon",
          "spoon",
          "spoon",
          "spoon",
          "spoon",
          "spoon",
          "spoon",
          "spoon",
          "spoon",
          "spoon",
          "spoon",
          "spoon",
          "spoon",
          "spoon",
          "spoon",
          "spoon",
          "spoon",
          "spoon",
          "spoon",
          "spoon",
          "spoon",
          "spoon",
          "spoon",
          "spoon",
          "spoon",
          "spoon",
          "spoon",
          "spoon",
          "spoon",
          "spoon",
          "spoon",
          "spoon",
          "spoon",
          "spoon",
          "spoon",
          "spoon",
          "spoon",
          "spoon",
          "spoon",
          "spoon",
          "spoon",
          "spoon",
          "spoon",
          "spoon",
          "spoon",
          "spoon",
          "spoon",
          "spoon",
          "spoon",
          "spoon",
          "spoon",
          "spoon",
          "spoon",
          "spoon",
          "spoon",
          "spoon",
          "spoon",
          "spoon",
          "spoon",
          "spoon",
          "spoon",
          "spoon",
          "spoon",
          "spoon",
          "spoon",
          "spoon",
          "spoon",
          "spoon",
          "spoon",
          "spoon",
          "spoon",
          "spoon",
          "spoon",
          "spoon",
          "spoon",
          "spoon",
          "spoon",
          "spoon",
          "spoon",
          "spoon",
          "spoon",
          "spoon",
          "spoon",
          "spoon",
          "spoon",
          "spoon",
          "spoon",
          "spoon",
          "spoon",
          "spoon",
          "spoon",
          "spoon",
          "spoon",
          "spoon",
          "spoon",
          "spoon",
          "spoon",
          "spoon",
          "spoon",
          "spoon",
          "spoon",
          "spoon",
          "spoon",
          "spoon",
          "spoon",
          "spoon",
          "spoon",
          "spoon",
          "spoon",
          "spoon",
          "spoon",
          "spoon",
          "spoon",
          "spoon",
          "spoon",
          "spoon",
          "spoon",
          "spoon",
          "spoon",
          "spoon",
          "spoon",
          "spoon",
          "spoon",
          "spoon",
          "spoon",
          "spoon",
          "spoon",
          "spoon",
          "spoon",
          "spoon",
          "spoon",
          "spoon",
          "spoon",
          "spoon",
          "spoon",
          "spoon",
          "spoon",
          "spoon",
          "spoon",
          "spoon",
          "spoon",
          "spoon",
          "spoon",
          "spoon",
          "spoon",
          "spoon",
          "spoon",
          "spoon",
          "spoon",
          "spoon",
          "spoon",
          "spoon",
          "spoon",
          "spoon",
          "spoon",
          "spoon",
          "spoon",
          "spoon",
          "spoon",
          "spoon",
          "spoon",
          "spoon",
          "spoon",
          "spoon",
          "spoon",
          "spoon",
          "spoon",
          "spoon",
          "spoon",
          "spoon",
          "spoon",
          "spoon",
          "spoon",
          "spoon",
          "spoon",
          "spoon",
          "spoon",
          "spoon",
          "spoon",
          "spoon",
          "spoon",
          "spoon",
          "spoon",
          "spoon",
          "spoon",
          "spoon",
          "spoon",
          "spoon",
          "spoon",
          "spoon",
          "spoon",
          "spoon",
          "spoon",
          "spoon",
          "spoon",
          "spoon",
          "spoon",
          "spoon",
          "spoon",
          "spoon",
          "spoon",
          "spoon",
          "spoon",
          "spoon",
          "spoon",
          "spoon",
          "spoon",
          "spoon",
          "spoon",
          "spoon",
          "spoon",
          "spoon",
          "spoon",
          "spoon",
          "spoon",
          "spoon",
          "spoon",
          "spoon",
          "spoon",
          "spoon",
          "spoon",
          "spoon",
          "spoon",
          "spoon",
          "spoon",
          "spoon",
          "spoon",
          "spoon",
          "spoon",
          "spoon",
          "spoon",
          "spoon",
          "spoon",
          "spoon",
          "spoon",
          "spoon",
          "spoon",
          "spoon",
          "spoon",
          "spoon",
          "spoon",
          "spoon",
          "spoon",
          "spoon",
          "spoon",
          "spoon",
          "spoon",
          "spoon",
          "spoon",
          "spoon",
          "spoon",
          "spoon",
          "spoon",
          "spoon",
          "spoon",
          "spoon",
          "spoon",
          "spoon",
          "spoon",
          "spoon",
          "spoon",
          "spoon",
          "spoon",
          "spoon",
          "spoon",
          "spoon",
          "spoon",
          "spoon",
          "spoon",
          "spoon",
          "spoon",
          "spoon",
          "spoon",
          "spoon",
          "spoon",
          "spoon",
          "spoon",
          "spoon",
          "spoon",
          "spoon",
          "spoon",
          "spoon",
          "spoon",
          "spoon",
          "spoon",
          "spoon",
          "spoon",
          "spoon",
          "spoon",
          "spoon",
          "spoon",
          "spoon",
          "spoon",
          "spoon",
          "spoon",
          "spoon",
          "spoon",
          "spoon",
          "spoon",
          "spoon",
          "spoon",
          "spoon",
          "spoon",
          "spoon",
          "spoon",
          "spoon",
          "spoon",
          "spoon",
          "spoon",
          "spoon",
          "spoon",
          "spoon",
          "spoon",
          "spoon",
          "spoon",
          "spoon",
          "spoon",
          "spoon",
          "spoon",
          "spoon",
          "spoon",
          "spoon",
          "spoon",
          "spoon",
          "spoon"
         ],
         "x0": " ",
         "xaxis": "x",
         "y": [
          2109.9353,
          2580.8672,
          1992.2736,
          2085.4592,
          2587.01,
          2118.5796,
          2087.088,
          2488.8872,
          2529.0112,
          2514.089,
          2108.82,
          2643.9514,
          2247.597,
          2099.9507,
          2037.3049,
          2129.1768,
          2202.229,
          2109.487,
          2261.734,
          2128.6135,
          2747.6675,
          2144.3489,
          2146.559,
          2512.0806,
          2193.447,
          2201.8904,
          2769.0137,
          2007.5638,
          2310.417,
          2193.6514,
          324.4667,
          319.6152,
          261.6414,
          287.9847,
          364.9052,
          276.3988,
          330.2696,
          348.5787,
          388.358,
          350.1808,
          282.6285,
          319.4237,
          271.5302,
          315.5053,
          284.1926,
          309.2618,
          330.9494,
          290.9835,
          288.9638,
          236.2969,
          344.5818,
          292.3302,
          294.5574,
          383.42618,
          294.0531,
          287.9321,
          352.3981,
          276.0784,
          322.8061,
          272.9096,
          181.0151,
          248.0991,
          178.4615,
          172.9383,
          202.69249,
          168.11241,
          179.914,
          218.12639,
          187.41481,
          210.5327,
          173.95332,
          208.4054,
          181.94719,
          185.5977,
          139.9531,
          176.17319,
          237.55519,
          169.4388,
          213.7564,
          178.94211,
          221.4096,
          171.6327,
          176.16449,
          232.0682,
          160.4265,
          209.18779,
          236.1469,
          155.0776,
          202.8802,
          179.73792,
          137.1716,
          174.9281,
          145.9525,
          148.2249,
          131.914,
          139.1097,
          160.9029,
          180.091,
          189.0141,
          162.0639,
          136.1082,
          199.2911,
          141.5503,
          149.4739,
          109.886,
          133.7687,
          173.05,
          158.7378,
          108.4743,
          161.769,
          197.4603,
          163.4404,
          139.6382,
          171.1532,
          130.1266,
          162.268,
          149.1281,
          145.0209,
          167.768,
          137.2319,
          125.4578,
          187.7617,
          145.0521,
          110.2401,
          158.6581,
          111.788895,
          158.7953,
          127.9594,
          163.2884,
          171.3569,
          137.71361,
          159.1271,
          148.1123,
          154.7286,
          137.7333,
          130.6519,
          127.2375,
          154.678,
          138.3295,
          129.6821,
          152.9901,
          140.0973,
          151.8193,
          142.3495,
          128.138,
          139.40851,
          192.6658,
          158.5477,
          136.9798,
          147.90291,
          119.673004,
          125.5151,
          137.54959,
          123.971405,
          153.23979,
          129.8005,
          119.758606,
          132.0799,
          162.2298,
          149.0674,
          143.0008,
          141.0005,
          115.9113,
          112.085,
          125.984406,
          121.658195,
          121.8945,
          112.6119,
          115.8768,
          140.72351,
          131.1951,
          98.011696,
          101.3956,
          117.2669,
          125.3519,
          109.09,
          124.4486,
          130.9865,
          122.5119,
          141.1859,
          119.3137,
          128.9028,
          79.8621,
          127.8328,
          108.0706,
          98.999306,
          103.9799,
          102.641304,
          125.511,
          144.9609,
          114.3934,
          130.0146,
          98.607,
          112.4805,
          92.1623,
          80.3142,
          119.5954,
          93.3537,
          115.0626,
          104.7941,
          107.9536,
          99.4674,
          104.564896,
          119.65009,
          100.395996,
          117.297,
          121.7595,
          108.7769,
          125.8379,
          80.0486,
          113.650696,
          174.31549,
          132.60579,
          111.50499,
          154.9508,
          120.8387,
          124.3346,
          174.97931,
          165.64629,
          170.14868,
          150.2058,
          153.80751,
          135.5463,
          157.52132,
          107.810905,
          168.9712,
          123.074905,
          130.72119,
          147.67699,
          129.07849,
          155.83769,
          99.30701,
          135.93071,
          189.0578,
          164.34138,
          129.87639,
          177.50531,
          139.71512,
          141.05371,
          136.7893,
          106.9066,
          165.0577,
          90.6332,
          143.192,
          176.2631,
          107.6975,
          112.0006,
          149.167,
          128.8779,
          164.8361,
          113.3585,
          174.9584,
          122.4436,
          107.8336,
          105.7858,
          144.8062,
          117.1814,
          106.8659,
          105.4262,
          114.2552,
          187.7683,
          125.5947,
          109.3003,
          174.6117,
          107.9699,
          142.1181,
          136.8953,
          121.4101,
          127.5176,
          106.6083,
          88.3504,
          123.7972,
          93.033905,
          81.1157,
          104.1209,
          77.0609,
          74.9231,
          93.4874,
          116.7415,
          114.7366,
          83.6898,
          124.8467,
          101.0233,
          93.1287,
          87.7611,
          122.1424,
          126.8089,
          89.5485,
          99.3222,
          112.0063,
          150.0093,
          107.0313,
          89.4837,
          93.6281,
          101.9624,
          113.4759,
          135.0594,
          96.4904,
          114.5161,
          93.398,
          78.185005,
          79.86861,
          111.82751,
          94.9151,
          132.2934,
          92.3672,
          111.072,
          116.94851,
          84.191696,
          121.925896,
          87.6088,
          130.54689,
          82.0433,
          70.76131,
          97.426506,
          89.3742,
          99.14259,
          105.592,
          97.33959,
          104.7222,
          112.9115,
          105.448,
          87.762695,
          125.5286,
          92.5078,
          99.00741,
          110.2577,
          80.1099,
          89.995094,
          92.187904,
          73.4344,
          55.9458,
          45.7238,
          50.9968,
          69.5769,
          44.3818,
          51.7339,
          79.1173,
          78.0796,
          76.9854,
          55.1257,
          63.5299,
          42.0084,
          53.3652,
          76.2107,
          50.081,
          59.6858,
          43.763,
          56.0263,
          56.9591,
          47.5912,
          57.3078,
          58.627,
          79.8526,
          48.6965,
          46.8745,
          50.8894,
          56.0817,
          58.9392,
          62.5782,
          72.8181,
          55.0864,
          51.0681,
          55.4385,
          57.0017,
          54.5355,
          50.5935,
          40.914,
          73.3138,
          65.0832,
          44.6135,
          70.6198,
          46.8083,
          49.6872,
          69.9212,
          64.1868,
          65.5399,
          55.5248,
          64.9533,
          64.555,
          65.7547,
          63.2676,
          52.8214,
          59.9347,
          49.0028,
          41.2551,
          74.2567,
          54.3001,
          60.8963,
          57.5957,
          72.2896,
          76.4627,
          90.3246,
          64.2552,
          77.8994,
          94.6793,
          67.8934,
          84.9793,
          70.5694,
          75.269,
          68.2885,
          88.07,
          68.457405,
          68.4503,
          74.4967,
          65.1906,
          71.5356,
          74.7446,
          61.7233,
          74.1891,
          89.5381,
          76.688705,
          84.6929,
          83.6438,
          77.1693,
          68.3648,
          83.1735,
          77.6583,
          58.5507,
          70.4416,
          69.2602,
          50.9972,
          55.064,
          51.747498,
          57.3522,
          54.9892,
          54.885498,
          46.810497,
          44.7445,
          38.4112,
          56.3515,
          59.0065,
          57.8398,
          61.5726,
          48.195602,
          48.3678,
          43.6594,
          50.5709,
          37.527798,
          43.8752,
          61.440197,
          67.367905,
          46.6614,
          39.4861,
          64.0793,
          42.7385,
          47.6513,
          57.9899,
          43.7688,
          38.637,
          64.3463,
          75.5923,
          34.359,
          37.4199,
          72.9139,
          52.8809,
          54.1436,
          55.1113,
          78.3514,
          58.7001,
          29.4998,
          81.1658,
          50.0838,
          45.0323,
          73.8559,
          49.6404,
          71.4594,
          42.2754,
          38.4683,
          46.6121,
          77.7845,
          44.322,
          55.1652,
          46.9127,
          42.0552,
          49.1985,
          60.4118,
          47.8237,
          61.6391,
          48.5546,
          61.7537,
          100.1188,
          42.4441,
          50.7323,
          78.6745,
          44.342903,
          49.453598,
          102.263306,
          86.77409,
          58.9277,
          66.4044,
          81.7377,
          67.8039,
          58.2091,
          68.0134,
          83.8552,
          81.5895,
          69.143,
          83.6234,
          70.2262,
          72.26781,
          69.2246,
          63.5372,
          79.1601,
          58.1989,
          85.0453,
          73.0006,
          57.6856,
          56.9539,
          53.9215,
          60.3309,
          41.8356,
          37.0874,
          41.446198,
          53.342995,
          62.6275,
          51.7039,
          45.3757,
          69.82191,
          53.9189,
          38.435204,
          49.8946,
          59.0084,
          39.6574,
          44.5514,
          69.382996,
          55.630398,
          40.2149,
          30.7442,
          43.1583,
          50.363003,
          29.2059,
          50.549797,
          45.972,
          29.5023,
          40.9339,
          41.161396,
          44.2792,
          49.774403,
          42.978397,
          50.9439,
          49.6666,
          52.5993,
          33.9157,
          60.1558,
          25.6065,
          41.1707,
          39.6658,
          45.6753,
          41.8036,
          48.3747,
          44.905,
          32.3004,
          31.6984,
          36.9316,
          36.9429,
          52.3353,
          47.6114,
          29.394,
          35.5334,
          54.7938,
          33.0085,
          31.3095,
          37.9442,
          34.1091,
          38.3736,
          43.2104,
          47.9765,
          42.39,
          33.7076,
          42.9159,
          31.060299,
          37.8384,
          33.380302,
          33.1302,
          45.991997,
          41.1545,
          63.5829,
          63.6849,
          46.6517,
          43.503403,
          50.7882,
          33.684402,
          30.1291,
          33.0459,
          28.475899,
          46.3064,
          44.231598,
          33.2449,
          41.8291,
          49.5992,
          51.168198,
          33.4454,
          53.7267,
          31.1451,
          21.9587,
          65.9655,
          42.1478,
          33.6875,
          37.6484,
          42.5774,
          45.4155,
          33.1199,
          21.9837,
          33.8124,
          41.771297,
          28.2237,
          34.4856,
          51.6396,
          34.2921,
          24.369099,
          40.9038,
          27.9887,
          36.047398,
          32.872803,
          48.8497,
          32.3096,
          40.2296,
          25.3959,
          37.4954,
          21.7392,
          28.826199,
          33.0428,
          41.779404,
          28.567501,
          34.5944,
          35.3618,
          43.819,
          41.3054,
          29.0727,
          40.869396,
          49.844097,
          38.578304,
          63.611202,
          61.3054,
          48.350502,
          44.102303,
          66.3246,
          42.0003,
          46.5624,
          58.018597,
          59.157402,
          30.8072,
          41.243404,
          36.9642,
          31.2709,
          48.355003,
          59.7895,
          38.0106,
          27.1068,
          51.708603,
          43.055,
          54.662403,
          69.78269,
          46.8311,
          45.941097,
          53.135902,
          43.482296,
          48.232,
          38.574997,
          40.7116,
          41.5858,
          50.3227,
          41.5406,
          46.1724,
          42.2243,
          53.009098,
          51.3565,
          30.6058,
          43.304897,
          37.8095,
          49.514,
          24.526299,
          44.0895,
          48.933098,
          34.729702,
          45.4255,
          41.6059,
          32.7924,
          27.717,
          56.1217,
          39.5249,
          37.0325,
          43.4571,
          44.4315,
          35.2321,
          48.1079,
          49.0287,
          45.1204,
          48.417805,
          37.066902,
          43.611,
          31.1083,
          33.5211,
          15.1252,
          20.557,
          19.8138,
          42.040802,
          20.747099,
          45.8345,
          30.873402,
          26.8154,
          36.2925,
          19.8843,
          18.3395,
          16.269701,
          38.5341,
          15.9287,
          31.2874,
          29.7271,
          34.5582,
          25.4872,
          26.3984,
          14.6112,
          30.3555,
          28.6189,
          38.4971,
          32.9203,
          38.7928,
          20.2325,
          36.0885,
          33.6594,
          31.0418,
          27.1415,
          24.9769,
          23.4087,
          37.9458,
          30.0128,
          11.8277,
          29.1519,
          29.8363,
          31.558,
          33.4092,
          19.2772,
          22.9908,
          22.1489,
          15.3455,
          26.4893,
          23.808,
          25.0696,
          25.2302,
          26.9173,
          22.9629,
          38.4514,
          22.5909,
          31.4189,
          29.9726,
          29.5067,
          24.0308,
          31.8843,
          34.6672,
          58.148,
          66.5227,
          39.7998,
          52.8868,
          55.2398,
          62.4768,
          84.8499,
          64.5134,
          74.3815,
          59.2922,
          66.9174,
          49.3018,
          52.3504,
          52.781097,
          53.803497,
          70.7993,
          44.382698,
          52.1421,
          61.4874,
          82.1651,
          67.5112,
          58.2115,
          68.1184,
          79.0736,
          52.2805,
          60.9183,
          62.9265,
          72.8757,
          54.7738,
          29.9955,
          13.3122,
          18.5825,
          15.5577,
          28.9139,
          14.059,
          14.9619,
          31.4127,
          26.5625,
          27.0118,
          22.5697,
          35.2722,
          19.7594,
          16.5801,
          18.0907,
          20.4988,
          32.5826,
          14.7789,
          20.6625,
          16.0618,
          36.3618,
          15.3624,
          20.7142,
          19.5458,
          21.5002,
          25.1815,
          19.6408,
          11.5933,
          30.6315,
          23.5993,
          28.3178,
          24.899101,
          27.2409,
          19.6089,
          41.519997,
          25.713799,
          19.2492,
          21.7694,
          28.7064,
          41.0797,
          35.4833,
          38.5961,
          38.4321,
          19.8167,
          38.377502,
          44.761597,
          19.2793,
          8.1031,
          21.0205,
          21.234001,
          12.1642,
          34.0579,
          47.095398,
          32.3079,
          51.665802,
          18.8763,
          28.600601,
          20.0826,
          20.3493,
          26.2173,
          27.4054,
          30.5026,
          28.0092,
          21.539,
          24.2789,
          30.664402,
          26.8866,
          31.957798,
          37.7461,
          34.573402,
          19.286901,
          40.745697,
          31.6705,
          43.4162,
          31.349699,
          27.707,
          29.8811,
          31.012402,
          38.8991,
          14.5842,
          30.084398,
          16.5852,
          11.4123,
          19.200302,
          31.513802,
          22.2911,
          22.210499,
          38.3483,
          30.587101,
          16.5029,
          27.244701,
          36.981697,
          28.9926,
          21.5246,
          43.876297,
          28.9093,
          34.5422,
          52.7186,
          41.7357,
          24.768,
          33.4713,
          47.466404,
          28.8354,
          34.3279,
          32.6601,
          25.671299,
          38.3982,
          46.007202,
          33.1316,
          27.095098,
          20.3663,
          27.8188,
          28.274,
          41.645298,
          25.0233,
          21.927002,
          34.4575,
          25.8107,
          38.1892,
          39.1873,
          26.641499,
          36.4855,
          45.908897,
          17.998299,
          23.968102,
          23.2873,
          33.5184,
          37.991802,
          20.8545,
          23.823,
          31.6978,
          30.478,
          32.378,
          29.641201,
          24.763802,
          26.3556,
          29.911,
          26.3591,
          24.796,
          26.1469,
          27.6804,
          53.0343,
          41.2619,
          37.8104,
          36.261,
          20.4139,
          37.0982,
          43.7419,
          18.5042,
          26.676,
          25.6986,
          31.9893,
          17.5187,
          27.7531,
          30.557299,
          21.984798,
          11.887099,
          28.9858,
          13.6624,
          26.216,
          11.7963,
          25.596,
          18.4067,
          19.2152,
          20.6986,
          13.9342,
          14.7178,
          29.9211,
          16.23,
          9.653,
          17.7468,
          13.7416,
          22.4186,
          27.4869,
          17.7981,
          25.8859,
          17.368,
          14.3327,
          39.5613,
          22.389,
          24.933,
          33.4235,
          32.3414,
          42.4205,
          33.7863,
          20.739399,
          35.0168,
          33.718098,
          45.2541,
          41.4241,
          39.438004,
          45.644398,
          37.3186,
          37.9312,
          30.2077,
          40.6226,
          29.2566,
          38.1465,
          36.4837,
          25.7668,
          33.9979,
          40.5521,
          43.0311,
          51.2836,
          22.7265,
          32.7229,
          39.316,
          36.2384,
          28.0379,
          36.7796,
          22.6039,
          26.1238,
          36.6242,
          19.6724,
          34.581,
          19.3389,
          15.3021,
          22.3823,
          33.4381,
          39.3959,
          18.0453,
          37.0821,
          23.8942,
          31.0638,
          33.6398,
          20.9657,
          27.5245,
          28.5891,
          25.8698,
          24.6721,
          28.4257,
          24.7252,
          23.2472,
          33.3253,
          20.3236,
          29.0169,
          27.6296,
          18.5917,
          23.8245,
          19.5087,
          21.2591,
          21.9906,
          24.6634,
          12.1377,
          23.7265,
          11.2931,
          20.5261,
          22.1948,
          18.4168,
          17.9716,
          11.3986,
          20.6068,
          15.166599,
          11.0275,
          9.0833,
          14.3919,
          13.2815,
          19.3994,
          12.7272,
          14.4302,
          11.9352,
          14.7847,
          18.3142,
          19.6453,
          9.1995,
          26.5235,
          14.8554,
          22.0054,
          21.939001,
          15.448,
          21.0562,
          32.4849,
          22.9326,
          31.2938,
          35.2763,
          16.7024,
          27.7984,
          28.4619,
          38.2127,
          32.4762,
          23.9376,
          39.7974,
          26.1078,
          21.9819,
          35.2753,
          20.460602,
          32.2114,
          34.0889,
          23.0833,
          22.9477,
          49.7156,
          30.5354,
          25.5681,
          29.2077,
          18.2944,
          15.0102,
          39.1446,
          21.981,
          36.5258,
          41.0651,
          20.6353,
          25.2406,
          24.8219,
          24.507599,
          34.404,
          9.305901,
          20.6707,
          24.6949,
          28.8973,
          28.7093,
          18.4774,
          24.581999,
          11.5791,
          25.2694,
          16.8217,
          20.580101,
          28.3664,
          25.7023,
          20.235199,
          16.8001,
          23.7644,
          12.9531,
          24.585798,
          16.6607,
          22.574501,
          12.4074,
          17.7587,
          22.8034,
          32.0034,
          16.5727,
          20.482899,
          24.7109,
          19.109402,
          27.3148,
          21.4296,
          28.574501,
          24.078201,
          26.6195,
          28.973099,
          19.2639,
          15.7829,
          16.595001,
          23.2612,
          18.116798,
          17.4435,
          18.6168,
          12.9452,
          14.114,
          24.2426,
          23.562601,
          28.9394,
          13.206699,
          14.860899,
          23.9179,
          21.3196,
          16.204,
          11.531799,
          19.348701,
          15.175799,
          15.3094,
          20.1426,
          36.0589,
          35.9793,
          23.4715,
          31.3122,
          26.2175,
          27.6874,
          40.6014,
          18.5884,
          21.1566,
          30.492,
          33.9624,
          19.1094,
          32.6517,
          26.9081,
          24.2076,
          32.0056,
          29.6958,
          25.5549,
          24.7979,
          26.8262,
          23.3829,
          15.7991,
          25.8075,
          20.1393,
          13.2116,
          42.3859,
          21.2487,
          24.2806,
          30.2648,
          19.7703,
          27.4347,
          19.5369,
          15.961101,
          37.1162,
          6.9875,
          22.253101,
          19.219599,
          21.0176,
          22.6238,
          23.5215,
          38.801403,
          20.4543,
          20.9386,
          25.3744,
          19.0218,
          14.8986,
          14.2106,
          21.673399,
          10.4566,
          29.2504,
          30.096498,
          31.578,
          16.6377,
          22.0766,
          16.1965,
          15.795601,
          29.174198,
          30.3371,
          21.4123,
          19.6666,
          11.7987995,
          9.5036,
          11.6457,
          18.6268,
          6.0365,
          12.6605,
          9.4924,
          15.9762,
          11.109,
          4.7024,
          14.5159,
          6.5618,
          19.339,
          11.43,
          13.0773,
          6.6917,
          14.9904995,
          11.0982,
          6.2371,
          14.152201,
          9.6391,
          13.1278,
          9.2984,
          7.9481,
          9.6166,
          17.5781,
          3.3103,
          7.682,
          7.9551,
          17.3074,
          16.0644,
          11.7146,
          11.7197,
          14.2492,
          12.1897,
          5.7325,
          20.3323,
          13.4773,
          20.6827,
          12.0934,
          15.8648,
          7.4538,
          9.5418,
          12.6018,
          20.7828,
          12.2608,
          12.916,
          12.6216,
          6.6303997,
          16.0672,
          5.9146,
          6.6531,
          7.0937,
          10.7989,
          16.921,
          8.4993,
          10.9079,
          16.7834,
          18.1576,
          16.707201,
          16.5446,
          14.717501,
          15.9931,
          8.8264,
          13.6708,
          8.1531,
          11.4463,
          12.9324,
          20.3824,
          9.4846,
          12.2383995,
          15.5849,
          19.397701,
          16.3788,
          17.4445,
          9.7028,
          17.4296,
          17.8655,
          13.062,
          14.077,
          12.6559,
          12.9294,
          9.3943,
          12.9608,
          12.363199,
          10.0241,
          14.4183,
          14.2866,
          12.3664,
          16.4127,
          31.472301,
          26.322899,
          27.956402,
          20.5387,
          17.8502,
          9.0004,
          32.7074,
          14.0611,
          5.6109,
          21.4568,
          13.362101,
          10.329201,
          14.2663,
          15.3459,
          9.8892,
          27.4039,
          18.1946,
          23.5876,
          5.7797003,
          10.4194,
          41.1379,
          14.2894,
          8.4579,
          5.9786,
          20.5949,
          10.8991,
          21.3021,
          18.7426,
          25.311901,
          16.390299,
          10.2796,
          10.4522,
          10.4531,
          11.3477,
          12.073,
          8.4594,
          14.0507,
          8.0385,
          9.550301,
          6.2002997,
          13.0171,
          10.0737,
          7.4379997,
          14.8057,
          16.2585,
          10.1466,
          6.6339,
          4.0519,
          10.479,
          8.075701,
          9.639,
          3.2886,
          9.284201,
          14.7233,
          9.5381,
          14.5921,
          10.8985,
          5.3113003,
          6.8878,
          16.1284,
          12.2533,
          9.5634,
          16.979,
          11.3345,
          3.8815,
          8.4297,
          11.4729,
          10.2789,
          14.0118,
          4.2338,
          17.5245,
          11.4972,
          16.7861,
          4.0895,
          9.227301,
          8.445499,
          8.5108,
          9.6388,
          15.5855,
          5.3595,
          7.1686,
          3.6801,
          15.835899,
          9.1374,
          20.2531,
          8.0867,
          13.3665,
          21.6307,
          6.1303997,
          15.364,
          2.2802,
          1.2198,
          17.6666,
          14.8145,
          6.1813,
          5.1868,
          11.4982,
          6.3976,
          11.0315,
          3.2991,
          2.0398,
          10.6775,
          3.518,
          3.5227,
          12.8195,
          9.8879,
          11.3601,
          10.6518,
          9.6356,
          13.9647,
          12.6773,
          16.5397,
          10.2923,
          4.5001,
          12.3613,
          10.1657,
          10.523,
          12.0975,
          6.2967,
          15.349199,
          30.723202,
          32.5957,
          26.0583,
          34.7888,
          34.4207,
          23.2827,
          23.5811,
          30.641998,
          25.2747,
          31.1189,
          35.761898,
          24.7281,
          24.824099,
          19.2121,
          28.373,
          35.6324,
          33.8709,
          31.6921,
          35.3642,
          44.431,
          26.7408,
          30.2272,
          32.3342,
          30.946201,
          24.055801,
          35.119198,
          33.6696,
          19.393501,
          38.8252,
          15.0273,
          14.9737,
          12.9417,
          13.7869,
          13.2459,
          11.1511,
          9.1,
          14.6774,
          11.0588,
          8.7956,
          11.9927,
          10.4132,
          10.2714,
          7.965,
          10.6913,
          7.1111,
          10.1629,
          6.4014,
          9.9729,
          17.2796,
          17.529,
          12.2664,
          9.9587,
          8.5047,
          9.4765,
          8.0075,
          9.8905,
          12.3253,
          13.8492,
          12.9599,
          14.9294,
          20.9502,
          8.3078,
          18.0515,
          14.6121,
          8.3795,
          4.6661,
          11.3411,
          5.5315,
          14.0709,
          6.8854,
          12.8546,
          9.7337,
          6.2428,
          9.1776,
          4.557,
          15.9187,
          3.3643,
          6.4495,
          7.0818,
          8.433,
          8.2081,
          6.9826,
          20.3038,
          8.6622,
          8.6091,
          5.7289,
          8.3893,
          6.2642,
          11.7884,
          14.6874,
          13.6208,
          13.7336,
          6.3687,
          13.8167,
          11.7623,
          10.7182,
          7.0857,
          14.345,
          3.7796,
          14.1317,
          18.6993,
          16.5533,
          1.6729,
          17.6824,
          12.9613,
          9.7432,
          8.1705,
          11.3772,
          8.1852,
          18.0694,
          15.5726,
          10.6846,
          20.0698,
          7.9054,
          17.8924,
          11.7858,
          16.137,
          12.6609,
          8.2,
          14.6007,
          19.679098,
          11.144,
          22.2829,
          11.3735,
          13.6323,
          17.5236,
          21.258999,
          10.6097,
          14.7753,
          10.512,
          25.2097,
          15.3619995,
          18.6868,
          6.6211004,
          7.2379,
          20.2054,
          9.8545,
          11.7624,
          16.7725,
          15.0064,
          14.2385,
          17.0967,
          6.0521,
          15.2265,
          8.4972,
          15.6605,
          22.1504,
          16.7488,
          14.6606,
          13.642,
          14.339001,
          25.423,
          7.6994,
          20.2243,
          12.2523,
          8.643499,
          23.1223,
          17.9642,
          22.8005,
          23.912401,
          26.046398,
          14.6733,
          10.351,
          21.373402,
          13.6782,
          7.1451,
          19.719599,
          12.5763,
          9.348,
          17.1932,
          17.3518,
          10.3499,
          22.9656,
          23.8892,
          23.2645,
          16.3002,
          12.246201,
          25.329302,
          12.4348,
          13.5105,
          5.9742,
          4.8003,
          7.0496,
          3.6686,
          14.2796,
          12.6115,
          15.9169,
          13.137899,
          8.114201,
          17.232601,
          18.6731,
          13.4121,
          11.3944,
          10.5288,
          12.282001,
          8.1207,
          2.7133,
          10.1375,
          10.2469,
          11.751801,
          5.3148,
          8.9732,
          11.7424,
          9.6998,
          7.8115997,
          9.9414,
          12.0118,
          12.7294,
          16.9146,
          13.2102995,
          13.2899,
          8.8747,
          19.043499,
          13.5588,
          8.5176,
          14.269899,
          18.017899,
          12.4479,
          12.5522,
          15.972099,
          10.2345,
          10.1583,
          10.4532995,
          10.5722,
          18.7307,
          11.9282,
          19.8885,
          14.6412,
          8.6231,
          14.889101,
          8.2549,
          6.4253,
          20.9846,
          10.0057,
          16.4217,
          17.3761,
          13.858001,
          14.9272,
          4.9553003,
          13.1538,
          17.8862,
          13.1451,
          8.7932,
          16.8645,
          15.7816,
          11.4411,
          12.3069,
          9.11,
          20.5805,
          11.3839,
          22.094,
          9.5161,
          11.2948,
          13.03,
          18.0761,
          15.1466,
          20.6321,
          12.662,
          15.3278,
          14.8243,
          11.6246,
          16.5445,
          25.5198,
          18.2117,
          21.2209,
          20.9969,
          16.8091,
          13.8407,
          13.6713,
          12.4767,
          11.1669,
          13.2198,
          10.2661,
          15.6425,
          15.8809,
          12.2904,
          17.1848,
          16.56,
          12.4269,
          5.8941,
          19.6183,
          11.1747,
          4.6737,
          6.3846,
          8.6006,
          13.9757,
          12.7301,
          6.2879,
          9.9687,
          21.9743,
          7.7869,
          9.7301,
          7.6992,
          4.0309,
          5.2238,
          11.7867,
          4.6438,
          7.5811,
          5.7403,
          12.2547,
          23.8474,
          8.3253,
          11.4721,
          23.7065,
          12.2211,
          25.6547,
          10.1125,
          14.1803,
          20.2571,
          11.715,
          20.284,
          31.7581,
          15.8093,
          20.6786,
          10.5543,
          15.0589,
          16.7321,
          17.8859,
          11.6561,
          11.1543,
          22.8621,
          4.7022,
          19.443,
          24.483,
          13.9397,
          26.0746,
          19.2757,
          16.7113,
          9.6881,
          11.9006,
          9.9418,
          8.1638,
          6.0568,
          7.2493,
          11.8849,
          13.3873,
          11.9837,
          18.9737,
          7.7277,
          10.0178,
          14.0516,
          11.695101,
          15.1053,
          8.5956,
          16.9342,
          12.3219,
          10.9372,
          7.7778997,
          14.6194,
          12.1518,
          8.458799,
          20.854198,
          6.4147,
          17.9365,
          6.545,
          15.4212,
          8.6909,
          14.0404,
          12.9855995,
          11.685101,
          11.6784,
          4.9804,
          4.1222,
          10.5769005,
          10.4722,
          8.2771,
          10.6285,
          8.4217,
          3.3193998,
          19.0018,
          16.495,
          5.3129,
          14.9647,
          4.8043003,
          9.1455,
          7.5997996,
          16.855299,
          16.230999,
          2.7378,
          16.4784,
          4.543,
          9.794499,
          5.1345,
          8.2686,
          4.4702,
          5.9702,
          8.1157,
          10.8516,
          5.0225,
          11.6057005,
          11.2268,
          16.4023,
          19.2166,
          26.0261,
          16.7637,
          3.8648,
          13.5973,
          4.1184998,
          10.46,
          7.4627,
          23.5947,
          16.9302,
          11.1239,
          17.8755,
          12.5333,
          17.7478,
          18.3685,
          11.961,
          9.710401,
          16.319302,
          16.9231,
          8.9146,
          17.488098,
          10.4196005,
          8.1594,
          14.048699,
          5.0043,
          13.2318,
          22.3741,
          11.4836,
          14.5237,
          22.9997,
          14.895801,
          4.079,
          9.1552,
          11.4125,
          12.3112,
          22.751701,
          13.976999,
          8.6185,
          27.295698,
          10.348499,
          24.944798,
          12.1614,
          10.8602,
          12.6154995,
          11.6452,
          18.604698,
          12.8672,
          19.349201,
          5.8297005,
          14.628401,
          19.846,
          1.5304,
          10.0037,
          12.514299,
          11.8622,
          21.924,
          14.8214,
          11.3447,
          15.5681,
          3.5348,
          8.9552,
          13.251,
          8.8209,
          16.203701,
          3.938,
          7.7135,
          10.627001,
          7.1049,
          16.4412,
          6.4775,
          4.3705,
          8.1205,
          12.721,
          12.0907,
          8.6454,
          4.354,
          15.011,
          4.4562,
          6.8953,
          11.286301,
          10.6494,
          9.842899,
          5.0539,
          14.5405,
          13.8589,
          10.8564,
          7.5549,
          11.1395,
          13.036799,
          10.8413,
          8.4511,
          14.087299,
          11.1439,
          8.7056,
          10.5973,
          10.5837,
          2.8638,
          9.5753,
          15.2577,
          5.4558997,
          11.3578005,
          8.0466,
          14.1563,
          8.995,
          10.6569,
          4.2502,
          16.1707,
          19.7967,
          7.5850005,
          17.0492,
          14.2384,
          15.7344,
          4.0765,
          13.002,
          14.0464,
          11.3229,
          7.7567,
          11.1328,
          8.7047,
          9.1901,
          5.9563003,
          9.7094,
          5.8646,
          5.4711,
          14.3584,
          8.1261,
          11.611099,
          12.6274,
          6.083,
          3.1655,
          8.9191,
          7.9393997,
          4.6489,
          8.9115,
          7.2131,
          1.6068,
          4.8492,
          16.3544,
          6.1818,
          4.5433,
          10.9969,
          15.0124,
          6.0295997,
          14.6662,
          10.3612,
          9.5874,
          5.0766,
          10.7163,
          1.9458,
          6.2831,
          6.5081,
          12.5365,
          14.1856,
          3.3536,
          7.1312,
          6.6531,
          5.094,
          4.5109,
          5.4711,
          10.8814,
          5.2529,
          9.2716,
          4.8399,
          10.5059,
          6.1664,
          9.7276,
          2.4952,
          3.6838,
          8.3366,
          5.9964,
          6.9275,
          6.3509,
          15.5717,
          11.5915,
          7.5211,
          15.8766,
          1.605,
          10.2904,
          19.4231,
          11.4812,
          10.3452,
          17.9117,
          12.9454,
          4.8574,
          20.87,
          16.8838,
          21.3243,
          16.596,
          12.0424,
          20.2711,
          8.4913,
          16.7119,
          11.3283,
          11.7645,
          19.4207,
          11.1669,
          10.0035,
          25.4983,
          12.519,
          17.5542,
          7.3448,
          18.4582,
          11.8748,
          8.9529,
          15.945,
          16.4729,
          7.1328,
          10.172701,
          9.5147,
          7.5199995,
          11.4359,
          13.542801,
          12.9686,
          19.1927,
          3.9716,
          7.7493,
          9.5349,
          7.877,
          3.4134,
          6.1807003,
          14.7222,
          6.5483,
          7.7102,
          12.2578,
          3.2854,
          13.442401,
          7.8327003,
          21.2269,
          12.8089,
          6.9171,
          15.291201,
          17.0817,
          6.4793997,
          12.418099,
          18.005901,
          13.307,
          9.9571,
          10.1504,
          11.1847,
          8.4949,
          1.5091,
          2.1996,
          6.7121,
          9.5959,
          8.2036,
          10.0558,
          6.2434,
          7.0422,
          14.8267,
          4.4743,
          1.6437,
          11.5233,
          3.5741,
          7.4749,
          7.2882,
          6.8737,
          3.6834002,
          6.2588,
          6.4858,
          7.0338,
          12.351,
          5.0156,
          3.4261,
          7.0146,
          11.4855995,
          3.6851,
          2.5538,
          8.457701,
          13.8051,
          13.396099,
          12.5212,
          8.007,
          10.6486,
          11.6509,
          6.8697004,
          12.865,
          13.0699005,
          18.3043,
          16.0497,
          15.588501,
          18.323101,
          15.7747,
          14.6782,
          16.634201,
          9.6701,
          6.7053003,
          10.3195,
          22.0534,
          11.1097,
          13.6734,
          15.537701,
          6.544,
          4.1795,
          9.0724,
          15.7586,
          9.7115,
          8.622,
          8.2043,
          10.1426,
          4.0777,
          2.8529,
          7.7938,
          12.073,
          9.3803,
          1.5252,
          9.7455,
          3.4548,
          8.0116005,
          3.8393998,
          5.4254003,
          1.4876,
          8.832701,
          11.4426,
          8.3828,
          3.3719,
          8.1633,
          2.0455,
          10.0749,
          11.294001,
          7.6422,
          3.9829998,
          4.9772,
          11.219399,
          12.7019005,
          7.5881,
          12.2911,
          4.2693,
          8.1425,
          13.834,
          5.2855,
          3.1307,
          8.2669,
          7.6611,
          5.5067,
          5.1071,
          1.9563,
          6.9498,
          4.7777,
          5.5512,
          3.379,
          8.702,
          1.7544,
          3.5853,
          8.1486,
          1.1814,
          1.6274,
          9.3419,
          8.2731,
          7.8878,
          4.7603,
          7.5217,
          5.2531,
          3.323,
          7.8033,
          13.6984005,
          3.6005,
          1.7278,
          8.106,
          21.2118,
          11.9782,
          6.3179,
          4.1724,
          15.4217,
          14.8931,
          14.6435,
          5.4545,
          8.0868,
          9.976,
          11.8215,
          8.3166,
          10.1184,
          6.201,
          12.1287,
          5.532,
          9.9367,
          1.7401,
          8.103,
          10.5985,
          6.9087,
          12.7741,
          10.7988,
          15.7212,
          7.1256,
          13.3647,
          3.572,
          13.8962,
          3.6218,
          7.9964,
          11.0588,
          2.6065,
          7.7408,
          8.4729,
          6.6718,
          6.4365,
          6.2338,
          2.1703,
          16.131,
          5.6093,
          8.1704,
          6.9321,
          5.3873,
          8.2181,
          10.3354,
          16.849,
          13.1049,
          10.6579,
          6.7155,
          10.8692,
          5.0552,
          16.1295,
          1.6721,
          3.2108,
          6.4403,
          15.5218,
          5.5654,
          15.7709,
          8.3071,
          7.9601,
          9.5497,
          8.3398,
          4.6478,
          5.0854,
          9.3296,
          7.3585005,
          17.051199,
          10.0262,
          1.6604,
          11.4682,
          5.041,
          13.8652,
          1.6403,
          12.243,
          5.3819,
          5.0236,
          3.2301998,
          6.5293,
          5.4576,
          15.056,
          5.3799,
          11.122499,
          8.0352,
          9.7666,
          5.0851,
          9.0074005,
          11.5001,
          6.7013,
          11.534201,
          7.7849,
          15.6618,
          21.2933,
          12.5475,
          22.439,
          7.628,
          17.2311,
          20.7575,
          12.6717,
          12.6493,
          20.422,
          29.3471,
          17.2886,
          9.6232,
          8.0974,
          10.0943,
          12.9506,
          12.817,
          19.9387,
          9.5361,
          23.0449,
          21.566,
          14.8092,
          10.3875,
          11.795,
          11.4066,
          19.2133,
          14.0429,
          12.2233,
          12.808,
          7.2512,
          5.6513,
          7.9348,
          1.6963,
          4.1036,
          5.6704,
          2.623,
          3.3696,
          8.170401,
          10.864,
          9.8738,
          2.5442998,
          11.9526,
          4.1476,
          4.2231,
          2.8558,
          7.1159,
          6.8715,
          4.8648,
          2.4461,
          10.950399,
          7.6826,
          10.8424,
          10.9755,
          4.2015,
          1.693,
          9.7684,
          3.0774999,
          12.1973,
          1.5682,
          6.9279,
          8.6116,
          7.2465,
          13.9561,
          8.7549,
          4.3648,
          13.9389,
          9.2427,
          13.8533,
          13.023,
          8.5812,
          9.5425,
          15.8316,
          11.0474,
          7.5567,
          6.9991,
          6.4304,
          6.4283,
          4.2239,
          9.0323,
          19.8504,
          11.1933,
          11.5091,
          12.5795,
          10.5423,
          11.0496,
          14.9651,
          3.3682,
          13.5312,
          10.6671,
          6.7355,
          11.4652,
          10.0971,
          15.8395,
          12.3023,
          14.1689,
          7.7783,
          17.4177,
          16.2788,
          11.9975,
          8.3623,
          13.6411,
          9.5286,
          13.4725,
          4.4663,
          10.8819,
          17.4755,
          9.9273,
          20.3977,
          10.0186,
          7.7811,
          15.948,
          4.8203,
          16.5451,
          10.632,
          8.6207,
          11.7493,
          7.0129,
          24.6645,
          14.1654,
          6.4713,
          19.7888,
          7.0537004,
          9.3102,
          12.2667,
          12.1978,
          8.597199,
          12.6261,
          10.5562,
          12.2654,
          13.5559,
          14.3334,
          15.021501,
          12.92,
          12.6006,
          5.2637,
          13.535,
          21.2913,
          13.6497,
          3.4875,
          8.121799,
          10.2561,
          9.3661,
          16.1835,
          15.4221,
          14.9228,
          19.2248,
          13.644,
          8.3342,
          8.5676,
          6.3626003,
          14.1749,
          4.7764,
          9.1911,
          8.3088,
          8.7383,
          17.0354,
          7.3721,
          6.145,
          10.2071,
          12.726701,
          2.2826,
          6.4023,
          8.1143,
          4.8716,
          8.0852,
          6.7739,
          5.8633,
          8.1819,
          9.0016,
          15.613,
          13.5806,
          10.0829,
          10.8394,
          6.2022,
          13.0423,
          13.3098,
          16.3111,
          8.0503,
          3.2106,
          5.8092,
          9.9911995,
          8.8627,
          12.0017,
          9.8496,
          11.6631,
          7.308,
          13.4558,
          6.7897,
          11.6978,
          4.9387,
          11.994,
          9.619801,
          12.88,
          9.605599,
          7.9693003,
          18.242802,
          12.5898,
          8.2253,
          8.7378,
          1.9682,
          8.2807,
          1.0503,
          13.5238,
          6.1275997,
          4.9596,
          14.0486,
          6.1312,
          6.7146,
          9.105499,
          4.852,
          5.5532,
          6.2258,
          8.0801,
          9.9127,
          1.6511,
          4.9261,
          5.6583,
          10.4742,
          13.0554,
          3.0738,
          4.0104,
          3.2728,
          4.8571,
          4.8594,
          9.2578,
          10.5892,
          3.3101,
          8.1062,
          5.0104,
          5.9648,
          1.6913,
          4.8679,
          11.1737995,
          7.6237,
          6.358,
          9.6898,
          9.6271,
          4.8468,
          7.7007,
          4.3239,
          12.7444,
          10.692,
          4.3975,
          6.2804,
          11.3383,
          11.5517,
          10.9954,
          4.1682,
          8.9453,
          5.0311,
          12.5801,
          8.3626,
          3.2182,
          4.4784,
          6.5392,
          3.1546,
          4.7723,
          9.1352,
          0.9578,
          3.2162,
          1.699,
          7.8325,
          7.0442,
          4.5353,
          11.179,
          10.1591,
          7.9285,
          3.0698,
          11.6094,
          4.2703,
          15.0491,
          7.7601,
          2.5884,
          14.6035,
          6.2667,
          8.2293,
          3.4174,
          2.3215,
          9.8234,
          9.7336,
          7.6759,
          3.2417,
          7.8271,
          3.0216,
          3.7781,
          5.119,
          10.1576,
          8.8316,
          6.3728,
          5.2074,
          15.4222,
          8.0358,
          9.6702,
          3.2097,
          9.5173,
          16.3586,
          6.6096,
          4.6235,
          7.051,
          4.1569,
          11.7198,
          2.8102,
          6.9889,
          9.5306,
          3.3287,
          5.2845,
          4.3511,
          4.6372,
          5.5492,
          5.379,
          4.3544,
          4.0104,
          7.7141,
          2.2758,
          7.1864,
          7.1676,
          3.3203,
          5.3653,
          4.5332,
          8.7614,
          6.1537,
          1.6675,
          6.9552,
          7.5216,
          8.3671,
          5.0936,
          2.1783,
          4.4775,
          3.3521,
          3.9975,
          11.6112995,
          5.9224,
          7.4037,
          9.0113,
          3.9521,
          7.6082,
          4.416,
          15.1416,
          6.418,
          2.2629,
          6.4909,
          4.8825,
          8.0478,
          6.6666,
          9.3936,
          1.6907,
          4.7113,
          10.584701,
          4.0372,
          14.1351,
          9.0738,
          6.5708,
          3.1899,
          1.0227,
          2.3373,
          6.7887,
          11.4924,
          3.1787,
          6.7779,
          3.7628,
          8.6434,
          11.0372,
          9.8752,
          8.8856,
          1.6103,
          2.8443,
          3.6495,
          10.0003,
          2.0869,
          7.8237,
          3.8642,
          13.505,
          14.9211,
          2.7181,
          3.0037,
          3.3068,
          4.8558,
          8.0212,
          4.5290003,
          5.9836,
          4.209,
          3.318,
          3.7306,
          8.2051,
          4.7073,
          7.7157,
          4.6412,
          4.7469,
          9.0429,
          3.2392,
          10.7103,
          4.9002,
          7.0857,
          3.8118,
          4.3161,
          10.6574,
          15.9929,
          7.9234,
          9.1144,
          6.7202,
          9.7117,
          6.4155,
          7.9799,
          6.8161,
          0.2564,
          3.4050999,
          5.1511,
          5.1381,
          9.591499,
          7.1505003,
          2.4228,
          2.233,
          6.9132,
          8.5087,
          3.2266,
          12.0918,
          2.1625,
          10.2823,
          3.8600001,
          3.2379,
          3.3683,
          7.07,
          7.677,
          11.3446,
          5.1091,
          4.9997,
          15.5858,
          11.5393,
          8.2054,
          1.5499,
          13.9757,
          11.4837,
          7.8391,
          10.2542,
          17.4033,
          11.2987,
          8.2928,
          6.7716002,
          2.4897,
          8.8366,
          7.502,
          18.3504,
          5.8294,
          3.576,
          2.7755,
          13.1095,
          10.496,
          13.5796,
          5.0963,
          2.8815,
          4.1021,
          1.7645,
          10.1131,
          2.813,
          3.4316,
          8.2008,
          10.2656,
          5.8214,
          6.5468,
          2.842,
          5.8563,
          5.1498,
          6.776,
          2.7975,
          6.5406,
          13.7315,
          2.4824,
          2.7458,
          3.3997,
          4.0198,
          4.01,
          5.0168,
          10.0323,
          7.5716,
          9.3904,
          13.5902,
          8.0469,
          6.9711,
          3.2161,
          2.574,
          9.6744,
          11.0194,
          10.696899,
          10.977699,
          5.315,
          3.2118,
          13.4119005,
          5.9798,
          3.5391,
          2.6323,
          6.4111004,
          11.7536,
          12.753901,
          7.6033,
          1.6072,
          1.5968,
          10.8913,
          6.0143995,
          10.5883,
          11.6677,
          7.395,
          10.619901,
          6.3674,
          6.2667,
          6.5032997,
          1.9643,
          10.5152,
          10.7521,
          8.8889,
          2.3084,
          5.8262,
          4.8606,
          7.8814,
          9.1505,
          2.492,
          4.8091,
          9.893,
          5.9036,
          8.6361,
          3.623,
          5.812,
          7.2094,
          6.067,
          11.4864,
          7.8699,
          0.2156,
          3.3932,
          5.619,
          5.1453,
          3.8726,
          2.8736,
          10.7291,
          7.3373,
          12.3622,
          2.2381,
          8.9508,
          2.1803,
          3.8947,
          2.0842
         ],
         "y0": " ",
         "yaxis": "y"
        }
       ],
       "layout": {
        "legend": {
         "tracegroupgap": 0
        },
        "margin": {
         "t": 60
        },
        "template": {
         "data": {
          "bar": [
           {
            "error_x": {
             "color": "#2a3f5f"
            },
            "error_y": {
             "color": "#2a3f5f"
            },
            "marker": {
             "line": {
              "color": "#E5ECF6",
              "width": 0.5
             },
             "pattern": {
              "fillmode": "overlay",
              "size": 10,
              "solidity": 0.2
             }
            },
            "type": "bar"
           }
          ],
          "barpolar": [
           {
            "marker": {
             "line": {
              "color": "#E5ECF6",
              "width": 0.5
             },
             "pattern": {
              "fillmode": "overlay",
              "size": 10,
              "solidity": 0.2
             }
            },
            "type": "barpolar"
           }
          ],
          "carpet": [
           {
            "aaxis": {
             "endlinecolor": "#2a3f5f",
             "gridcolor": "white",
             "linecolor": "white",
             "minorgridcolor": "white",
             "startlinecolor": "#2a3f5f"
            },
            "baxis": {
             "endlinecolor": "#2a3f5f",
             "gridcolor": "white",
             "linecolor": "white",
             "minorgridcolor": "white",
             "startlinecolor": "#2a3f5f"
            },
            "type": "carpet"
           }
          ],
          "choropleth": [
           {
            "colorbar": {
             "outlinewidth": 0,
             "ticks": ""
            },
            "type": "choropleth"
           }
          ],
          "contour": [
           {
            "colorbar": {
             "outlinewidth": 0,
             "ticks": ""
            },
            "colorscale": [
             [
              0,
              "#0d0887"
             ],
             [
              0.1111111111111111,
              "#46039f"
             ],
             [
              0.2222222222222222,
              "#7201a8"
             ],
             [
              0.3333333333333333,
              "#9c179e"
             ],
             [
              0.4444444444444444,
              "#bd3786"
             ],
             [
              0.5555555555555556,
              "#d8576b"
             ],
             [
              0.6666666666666666,
              "#ed7953"
             ],
             [
              0.7777777777777778,
              "#fb9f3a"
             ],
             [
              0.8888888888888888,
              "#fdca26"
             ],
             [
              1,
              "#f0f921"
             ]
            ],
            "type": "contour"
           }
          ],
          "contourcarpet": [
           {
            "colorbar": {
             "outlinewidth": 0,
             "ticks": ""
            },
            "type": "contourcarpet"
           }
          ],
          "heatmap": [
           {
            "colorbar": {
             "outlinewidth": 0,
             "ticks": ""
            },
            "colorscale": [
             [
              0,
              "#0d0887"
             ],
             [
              0.1111111111111111,
              "#46039f"
             ],
             [
              0.2222222222222222,
              "#7201a8"
             ],
             [
              0.3333333333333333,
              "#9c179e"
             ],
             [
              0.4444444444444444,
              "#bd3786"
             ],
             [
              0.5555555555555556,
              "#d8576b"
             ],
             [
              0.6666666666666666,
              "#ed7953"
             ],
             [
              0.7777777777777778,
              "#fb9f3a"
             ],
             [
              0.8888888888888888,
              "#fdca26"
             ],
             [
              1,
              "#f0f921"
             ]
            ],
            "type": "heatmap"
           }
          ],
          "heatmapgl": [
           {
            "colorbar": {
             "outlinewidth": 0,
             "ticks": ""
            },
            "colorscale": [
             [
              0,
              "#0d0887"
             ],
             [
              0.1111111111111111,
              "#46039f"
             ],
             [
              0.2222222222222222,
              "#7201a8"
             ],
             [
              0.3333333333333333,
              "#9c179e"
             ],
             [
              0.4444444444444444,
              "#bd3786"
             ],
             [
              0.5555555555555556,
              "#d8576b"
             ],
             [
              0.6666666666666666,
              "#ed7953"
             ],
             [
              0.7777777777777778,
              "#fb9f3a"
             ],
             [
              0.8888888888888888,
              "#fdca26"
             ],
             [
              1,
              "#f0f921"
             ]
            ],
            "type": "heatmapgl"
           }
          ],
          "histogram": [
           {
            "marker": {
             "pattern": {
              "fillmode": "overlay",
              "size": 10,
              "solidity": 0.2
             }
            },
            "type": "histogram"
           }
          ],
          "histogram2d": [
           {
            "colorbar": {
             "outlinewidth": 0,
             "ticks": ""
            },
            "colorscale": [
             [
              0,
              "#0d0887"
             ],
             [
              0.1111111111111111,
              "#46039f"
             ],
             [
              0.2222222222222222,
              "#7201a8"
             ],
             [
              0.3333333333333333,
              "#9c179e"
             ],
             [
              0.4444444444444444,
              "#bd3786"
             ],
             [
              0.5555555555555556,
              "#d8576b"
             ],
             [
              0.6666666666666666,
              "#ed7953"
             ],
             [
              0.7777777777777778,
              "#fb9f3a"
             ],
             [
              0.8888888888888888,
              "#fdca26"
             ],
             [
              1,
              "#f0f921"
             ]
            ],
            "type": "histogram2d"
           }
          ],
          "histogram2dcontour": [
           {
            "colorbar": {
             "outlinewidth": 0,
             "ticks": ""
            },
            "colorscale": [
             [
              0,
              "#0d0887"
             ],
             [
              0.1111111111111111,
              "#46039f"
             ],
             [
              0.2222222222222222,
              "#7201a8"
             ],
             [
              0.3333333333333333,
              "#9c179e"
             ],
             [
              0.4444444444444444,
              "#bd3786"
             ],
             [
              0.5555555555555556,
              "#d8576b"
             ],
             [
              0.6666666666666666,
              "#ed7953"
             ],
             [
              0.7777777777777778,
              "#fb9f3a"
             ],
             [
              0.8888888888888888,
              "#fdca26"
             ],
             [
              1,
              "#f0f921"
             ]
            ],
            "type": "histogram2dcontour"
           }
          ],
          "mesh3d": [
           {
            "colorbar": {
             "outlinewidth": 0,
             "ticks": ""
            },
            "type": "mesh3d"
           }
          ],
          "parcoords": [
           {
            "line": {
             "colorbar": {
              "outlinewidth": 0,
              "ticks": ""
             }
            },
            "type": "parcoords"
           }
          ],
          "pie": [
           {
            "automargin": true,
            "type": "pie"
           }
          ],
          "scatter": [
           {
            "fillpattern": {
             "fillmode": "overlay",
             "size": 10,
             "solidity": 0.2
            },
            "type": "scatter"
           }
          ],
          "scatter3d": [
           {
            "line": {
             "colorbar": {
              "outlinewidth": 0,
              "ticks": ""
             }
            },
            "marker": {
             "colorbar": {
              "outlinewidth": 0,
              "ticks": ""
             }
            },
            "type": "scatter3d"
           }
          ],
          "scattercarpet": [
           {
            "marker": {
             "colorbar": {
              "outlinewidth": 0,
              "ticks": ""
             }
            },
            "type": "scattercarpet"
           }
          ],
          "scattergeo": [
           {
            "marker": {
             "colorbar": {
              "outlinewidth": 0,
              "ticks": ""
             }
            },
            "type": "scattergeo"
           }
          ],
          "scattergl": [
           {
            "marker": {
             "colorbar": {
              "outlinewidth": 0,
              "ticks": ""
             }
            },
            "type": "scattergl"
           }
          ],
          "scattermapbox": [
           {
            "marker": {
             "colorbar": {
              "outlinewidth": 0,
              "ticks": ""
             }
            },
            "type": "scattermapbox"
           }
          ],
          "scatterpolar": [
           {
            "marker": {
             "colorbar": {
              "outlinewidth": 0,
              "ticks": ""
             }
            },
            "type": "scatterpolar"
           }
          ],
          "scatterpolargl": [
           {
            "marker": {
             "colorbar": {
              "outlinewidth": 0,
              "ticks": ""
             }
            },
            "type": "scatterpolargl"
           }
          ],
          "scatterternary": [
           {
            "marker": {
             "colorbar": {
              "outlinewidth": 0,
              "ticks": ""
             }
            },
            "type": "scatterternary"
           }
          ],
          "surface": [
           {
            "colorbar": {
             "outlinewidth": 0,
             "ticks": ""
            },
            "colorscale": [
             [
              0,
              "#0d0887"
             ],
             [
              0.1111111111111111,
              "#46039f"
             ],
             [
              0.2222222222222222,
              "#7201a8"
             ],
             [
              0.3333333333333333,
              "#9c179e"
             ],
             [
              0.4444444444444444,
              "#bd3786"
             ],
             [
              0.5555555555555556,
              "#d8576b"
             ],
             [
              0.6666666666666666,
              "#ed7953"
             ],
             [
              0.7777777777777778,
              "#fb9f3a"
             ],
             [
              0.8888888888888888,
              "#fdca26"
             ],
             [
              1,
              "#f0f921"
             ]
            ],
            "type": "surface"
           }
          ],
          "table": [
           {
            "cells": {
             "fill": {
              "color": "#EBF0F8"
             },
             "line": {
              "color": "white"
             }
            },
            "header": {
             "fill": {
              "color": "#C8D4E3"
             },
             "line": {
              "color": "white"
             }
            },
            "type": "table"
           }
          ]
         },
         "layout": {
          "annotationdefaults": {
           "arrowcolor": "#2a3f5f",
           "arrowhead": 0,
           "arrowwidth": 1
          },
          "autotypenumbers": "strict",
          "coloraxis": {
           "colorbar": {
            "outlinewidth": 0,
            "ticks": ""
           }
          },
          "colorscale": {
           "diverging": [
            [
             0,
             "#8e0152"
            ],
            [
             0.1,
             "#c51b7d"
            ],
            [
             0.2,
             "#de77ae"
            ],
            [
             0.3,
             "#f1b6da"
            ],
            [
             0.4,
             "#fde0ef"
            ],
            [
             0.5,
             "#f7f7f7"
            ],
            [
             0.6,
             "#e6f5d0"
            ],
            [
             0.7,
             "#b8e186"
            ],
            [
             0.8,
             "#7fbc41"
            ],
            [
             0.9,
             "#4d9221"
            ],
            [
             1,
             "#276419"
            ]
           ],
           "sequential": [
            [
             0,
             "#0d0887"
            ],
            [
             0.1111111111111111,
             "#46039f"
            ],
            [
             0.2222222222222222,
             "#7201a8"
            ],
            [
             0.3333333333333333,
             "#9c179e"
            ],
            [
             0.4444444444444444,
             "#bd3786"
            ],
            [
             0.5555555555555556,
             "#d8576b"
            ],
            [
             0.6666666666666666,
             "#ed7953"
            ],
            [
             0.7777777777777778,
             "#fb9f3a"
            ],
            [
             0.8888888888888888,
             "#fdca26"
            ],
            [
             1,
             "#f0f921"
            ]
           ],
           "sequentialminus": [
            [
             0,
             "#0d0887"
            ],
            [
             0.1111111111111111,
             "#46039f"
            ],
            [
             0.2222222222222222,
             "#7201a8"
            ],
            [
             0.3333333333333333,
             "#9c179e"
            ],
            [
             0.4444444444444444,
             "#bd3786"
            ],
            [
             0.5555555555555556,
             "#d8576b"
            ],
            [
             0.6666666666666666,
             "#ed7953"
            ],
            [
             0.7777777777777778,
             "#fb9f3a"
            ],
            [
             0.8888888888888888,
             "#fdca26"
            ],
            [
             1,
             "#f0f921"
            ]
           ]
          },
          "colorway": [
           "#636efa",
           "#EF553B",
           "#00cc96",
           "#ab63fa",
           "#FFA15A",
           "#19d3f3",
           "#FF6692",
           "#B6E880",
           "#FF97FF",
           "#FECB52"
          ],
          "font": {
           "color": "#2a3f5f"
          },
          "geo": {
           "bgcolor": "white",
           "lakecolor": "white",
           "landcolor": "#E5ECF6",
           "showlakes": true,
           "showland": true,
           "subunitcolor": "white"
          },
          "hoverlabel": {
           "align": "left"
          },
          "hovermode": "closest",
          "mapbox": {
           "style": "light"
          },
          "paper_bgcolor": "white",
          "plot_bgcolor": "#E5ECF6",
          "polar": {
           "angularaxis": {
            "gridcolor": "white",
            "linecolor": "white",
            "ticks": ""
           },
           "bgcolor": "#E5ECF6",
           "radialaxis": {
            "gridcolor": "white",
            "linecolor": "white",
            "ticks": ""
           }
          },
          "scene": {
           "xaxis": {
            "backgroundcolor": "#E5ECF6",
            "gridcolor": "white",
            "gridwidth": 2,
            "linecolor": "white",
            "showbackground": true,
            "ticks": "",
            "zerolinecolor": "white"
           },
           "yaxis": {
            "backgroundcolor": "#E5ECF6",
            "gridcolor": "white",
            "gridwidth": 2,
            "linecolor": "white",
            "showbackground": true,
            "ticks": "",
            "zerolinecolor": "white"
           },
           "zaxis": {
            "backgroundcolor": "#E5ECF6",
            "gridcolor": "white",
            "gridwidth": 2,
            "linecolor": "white",
            "showbackground": true,
            "ticks": "",
            "zerolinecolor": "white"
           }
          },
          "shapedefaults": {
           "line": {
            "color": "#2a3f5f"
           }
          },
          "ternary": {
           "aaxis": {
            "gridcolor": "white",
            "linecolor": "white",
            "ticks": ""
           },
           "baxis": {
            "gridcolor": "white",
            "linecolor": "white",
            "ticks": ""
           },
           "bgcolor": "#E5ECF6",
           "caxis": {
            "gridcolor": "white",
            "linecolor": "white",
            "ticks": ""
           }
          },
          "title": {
           "x": 0.05
          },
          "xaxis": {
           "automargin": true,
           "gridcolor": "white",
           "linecolor": "white",
           "ticks": "",
           "title": {
            "standoff": 15
           },
           "zerolinecolor": "white",
           "zerolinewidth": 2
          },
          "yaxis": {
           "automargin": true,
           "gridcolor": "white",
           "linecolor": "white",
           "ticks": "",
           "title": {
            "standoff": 15
           },
           "zerolinecolor": "white",
           "zerolinewidth": 2
          }
         }
        },
        "violinmode": "group",
        "xaxis": {
         "anchor": "y",
         "domain": [
          0,
          1
         ],
         "title": {
          "text": "Repository"
         }
        },
        "yaxis": {
         "anchor": "x",
         "domain": [
          0,
          1
         ],
         "title": {
          "text": "Values"
         }
        }
       }
      }
     },
     "metadata": {},
     "output_type": "display_data"
    },
    {
     "data": {
      "application/vnd.plotly.v1+json": {
       "config": {
        "plotlyServerURL": "https://plot.ly"
       },
       "data": [
        {
         "alignmentgroup": "True",
         "boxpoints": "all",
         "hovertemplate": "value=%{y}<extra></extra>",
         "legendgroup": "",
         "marker": {
          "color": "#636efa"
         },
         "name": "",
         "notched": false,
         "offsetgroup": "",
         "orientation": "v",
         "showlegend": false,
         "type": "box",
         "x0": " ",
         "xaxis": "x",
         "y": [
          2109.9353,
          2580.8672,
          1992.2736,
          2085.4592,
          2587.01,
          2118.5796,
          2087.088,
          2488.8872,
          2529.0112,
          2514.089,
          2108.82,
          2643.9514,
          2247.597,
          2099.9507,
          2037.3049,
          2129.1768,
          2202.229,
          2109.487,
          2261.734,
          2128.6135,
          2747.6675,
          2144.3489,
          2146.559,
          2512.0806,
          2193.447,
          2201.8904,
          2769.0137,
          2007.5638,
          2310.417,
          2193.6514
         ],
         "y0": " ",
         "yaxis": "y"
        },
        {
         "alignmentgroup": "True",
         "hovertemplate": "Metric=%{x}<br>Value=%{y}<extra></extra>",
         "legendgroup": "",
         "marker": {
          "color": "#636efa",
          "pattern": {
           "shape": ""
          }
         },
         "name": "",
         "offsetgroup": "",
         "orientation": "v",
         "showlegend": false,
         "textposition": "auto",
         "type": "bar",
         "x": [
          "loc",
          "wmc",
          "cbo"
         ],
         "xaxis": "x2",
         "y": [
          11,
          5,
          3
         ],
         "yaxis": "y2"
        }
       ],
       "layout": {
        "annotations": [
         {
          "font": {
           "size": 16
          },
          "showarrow": false,
          "text": "Joular values",
          "x": 0.225,
          "xanchor": "center",
          "xref": "paper",
          "y": 1,
          "yanchor": "bottom",
          "yref": "paper"
         },
         {
          "font": {
           "size": 16
          },
          "showarrow": false,
          "text": "Ck values",
          "x": 0.775,
          "xanchor": "center",
          "xref": "paper",
          "y": 1,
          "yanchor": "bottom",
          "yref": "paper"
         }
        ],
        "template": {
         "data": {
          "bar": [
           {
            "error_x": {
             "color": "#2a3f5f"
            },
            "error_y": {
             "color": "#2a3f5f"
            },
            "marker": {
             "line": {
              "color": "#E5ECF6",
              "width": 0.5
             },
             "pattern": {
              "fillmode": "overlay",
              "size": 10,
              "solidity": 0.2
             }
            },
            "type": "bar"
           }
          ],
          "barpolar": [
           {
            "marker": {
             "line": {
              "color": "#E5ECF6",
              "width": 0.5
             },
             "pattern": {
              "fillmode": "overlay",
              "size": 10,
              "solidity": 0.2
             }
            },
            "type": "barpolar"
           }
          ],
          "carpet": [
           {
            "aaxis": {
             "endlinecolor": "#2a3f5f",
             "gridcolor": "white",
             "linecolor": "white",
             "minorgridcolor": "white",
             "startlinecolor": "#2a3f5f"
            },
            "baxis": {
             "endlinecolor": "#2a3f5f",
             "gridcolor": "white",
             "linecolor": "white",
             "minorgridcolor": "white",
             "startlinecolor": "#2a3f5f"
            },
            "type": "carpet"
           }
          ],
          "choropleth": [
           {
            "colorbar": {
             "outlinewidth": 0,
             "ticks": ""
            },
            "type": "choropleth"
           }
          ],
          "contour": [
           {
            "colorbar": {
             "outlinewidth": 0,
             "ticks": ""
            },
            "colorscale": [
             [
              0,
              "#0d0887"
             ],
             [
              0.1111111111111111,
              "#46039f"
             ],
             [
              0.2222222222222222,
              "#7201a8"
             ],
             [
              0.3333333333333333,
              "#9c179e"
             ],
             [
              0.4444444444444444,
              "#bd3786"
             ],
             [
              0.5555555555555556,
              "#d8576b"
             ],
             [
              0.6666666666666666,
              "#ed7953"
             ],
             [
              0.7777777777777778,
              "#fb9f3a"
             ],
             [
              0.8888888888888888,
              "#fdca26"
             ],
             [
              1,
              "#f0f921"
             ]
            ],
            "type": "contour"
           }
          ],
          "contourcarpet": [
           {
            "colorbar": {
             "outlinewidth": 0,
             "ticks": ""
            },
            "type": "contourcarpet"
           }
          ],
          "heatmap": [
           {
            "colorbar": {
             "outlinewidth": 0,
             "ticks": ""
            },
            "colorscale": [
             [
              0,
              "#0d0887"
             ],
             [
              0.1111111111111111,
              "#46039f"
             ],
             [
              0.2222222222222222,
              "#7201a8"
             ],
             [
              0.3333333333333333,
              "#9c179e"
             ],
             [
              0.4444444444444444,
              "#bd3786"
             ],
             [
              0.5555555555555556,
              "#d8576b"
             ],
             [
              0.6666666666666666,
              "#ed7953"
             ],
             [
              0.7777777777777778,
              "#fb9f3a"
             ],
             [
              0.8888888888888888,
              "#fdca26"
             ],
             [
              1,
              "#f0f921"
             ]
            ],
            "type": "heatmap"
           }
          ],
          "heatmapgl": [
           {
            "colorbar": {
             "outlinewidth": 0,
             "ticks": ""
            },
            "colorscale": [
             [
              0,
              "#0d0887"
             ],
             [
              0.1111111111111111,
              "#46039f"
             ],
             [
              0.2222222222222222,
              "#7201a8"
             ],
             [
              0.3333333333333333,
              "#9c179e"
             ],
             [
              0.4444444444444444,
              "#bd3786"
             ],
             [
              0.5555555555555556,
              "#d8576b"
             ],
             [
              0.6666666666666666,
              "#ed7953"
             ],
             [
              0.7777777777777778,
              "#fb9f3a"
             ],
             [
              0.8888888888888888,
              "#fdca26"
             ],
             [
              1,
              "#f0f921"
             ]
            ],
            "type": "heatmapgl"
           }
          ],
          "histogram": [
           {
            "marker": {
             "pattern": {
              "fillmode": "overlay",
              "size": 10,
              "solidity": 0.2
             }
            },
            "type": "histogram"
           }
          ],
          "histogram2d": [
           {
            "colorbar": {
             "outlinewidth": 0,
             "ticks": ""
            },
            "colorscale": [
             [
              0,
              "#0d0887"
             ],
             [
              0.1111111111111111,
              "#46039f"
             ],
             [
              0.2222222222222222,
              "#7201a8"
             ],
             [
              0.3333333333333333,
              "#9c179e"
             ],
             [
              0.4444444444444444,
              "#bd3786"
             ],
             [
              0.5555555555555556,
              "#d8576b"
             ],
             [
              0.6666666666666666,
              "#ed7953"
             ],
             [
              0.7777777777777778,
              "#fb9f3a"
             ],
             [
              0.8888888888888888,
              "#fdca26"
             ],
             [
              1,
              "#f0f921"
             ]
            ],
            "type": "histogram2d"
           }
          ],
          "histogram2dcontour": [
           {
            "colorbar": {
             "outlinewidth": 0,
             "ticks": ""
            },
            "colorscale": [
             [
              0,
              "#0d0887"
             ],
             [
              0.1111111111111111,
              "#46039f"
             ],
             [
              0.2222222222222222,
              "#7201a8"
             ],
             [
              0.3333333333333333,
              "#9c179e"
             ],
             [
              0.4444444444444444,
              "#bd3786"
             ],
             [
              0.5555555555555556,
              "#d8576b"
             ],
             [
              0.6666666666666666,
              "#ed7953"
             ],
             [
              0.7777777777777778,
              "#fb9f3a"
             ],
             [
              0.8888888888888888,
              "#fdca26"
             ],
             [
              1,
              "#f0f921"
             ]
            ],
            "type": "histogram2dcontour"
           }
          ],
          "mesh3d": [
           {
            "colorbar": {
             "outlinewidth": 0,
             "ticks": ""
            },
            "type": "mesh3d"
           }
          ],
          "parcoords": [
           {
            "line": {
             "colorbar": {
              "outlinewidth": 0,
              "ticks": ""
             }
            },
            "type": "parcoords"
           }
          ],
          "pie": [
           {
            "automargin": true,
            "type": "pie"
           }
          ],
          "scatter": [
           {
            "fillpattern": {
             "fillmode": "overlay",
             "size": 10,
             "solidity": 0.2
            },
            "type": "scatter"
           }
          ],
          "scatter3d": [
           {
            "line": {
             "colorbar": {
              "outlinewidth": 0,
              "ticks": ""
             }
            },
            "marker": {
             "colorbar": {
              "outlinewidth": 0,
              "ticks": ""
             }
            },
            "type": "scatter3d"
           }
          ],
          "scattercarpet": [
           {
            "marker": {
             "colorbar": {
              "outlinewidth": 0,
              "ticks": ""
             }
            },
            "type": "scattercarpet"
           }
          ],
          "scattergeo": [
           {
            "marker": {
             "colorbar": {
              "outlinewidth": 0,
              "ticks": ""
             }
            },
            "type": "scattergeo"
           }
          ],
          "scattergl": [
           {
            "marker": {
             "colorbar": {
              "outlinewidth": 0,
              "ticks": ""
             }
            },
            "type": "scattergl"
           }
          ],
          "scattermapbox": [
           {
            "marker": {
             "colorbar": {
              "outlinewidth": 0,
              "ticks": ""
             }
            },
            "type": "scattermapbox"
           }
          ],
          "scatterpolar": [
           {
            "marker": {
             "colorbar": {
              "outlinewidth": 0,
              "ticks": ""
             }
            },
            "type": "scatterpolar"
           }
          ],
          "scatterpolargl": [
           {
            "marker": {
             "colorbar": {
              "outlinewidth": 0,
              "ticks": ""
             }
            },
            "type": "scatterpolargl"
           }
          ],
          "scatterternary": [
           {
            "marker": {
             "colorbar": {
              "outlinewidth": 0,
              "ticks": ""
             }
            },
            "type": "scatterternary"
           }
          ],
          "surface": [
           {
            "colorbar": {
             "outlinewidth": 0,
             "ticks": ""
            },
            "colorscale": [
             [
              0,
              "#0d0887"
             ],
             [
              0.1111111111111111,
              "#46039f"
             ],
             [
              0.2222222222222222,
              "#7201a8"
             ],
             [
              0.3333333333333333,
              "#9c179e"
             ],
             [
              0.4444444444444444,
              "#bd3786"
             ],
             [
              0.5555555555555556,
              "#d8576b"
             ],
             [
              0.6666666666666666,
              "#ed7953"
             ],
             [
              0.7777777777777778,
              "#fb9f3a"
             ],
             [
              0.8888888888888888,
              "#fdca26"
             ],
             [
              1,
              "#f0f921"
             ]
            ],
            "type": "surface"
           }
          ],
          "table": [
           {
            "cells": {
             "fill": {
              "color": "#EBF0F8"
             },
             "line": {
              "color": "white"
             }
            },
            "header": {
             "fill": {
              "color": "#C8D4E3"
             },
             "line": {
              "color": "white"
             }
            },
            "type": "table"
           }
          ]
         },
         "layout": {
          "annotationdefaults": {
           "arrowcolor": "#2a3f5f",
           "arrowhead": 0,
           "arrowwidth": 1
          },
          "autotypenumbers": "strict",
          "coloraxis": {
           "colorbar": {
            "outlinewidth": 0,
            "ticks": ""
           }
          },
          "colorscale": {
           "diverging": [
            [
             0,
             "#8e0152"
            ],
            [
             0.1,
             "#c51b7d"
            ],
            [
             0.2,
             "#de77ae"
            ],
            [
             0.3,
             "#f1b6da"
            ],
            [
             0.4,
             "#fde0ef"
            ],
            [
             0.5,
             "#f7f7f7"
            ],
            [
             0.6,
             "#e6f5d0"
            ],
            [
             0.7,
             "#b8e186"
            ],
            [
             0.8,
             "#7fbc41"
            ],
            [
             0.9,
             "#4d9221"
            ],
            [
             1,
             "#276419"
            ]
           ],
           "sequential": [
            [
             0,
             "#0d0887"
            ],
            [
             0.1111111111111111,
             "#46039f"
            ],
            [
             0.2222222222222222,
             "#7201a8"
            ],
            [
             0.3333333333333333,
             "#9c179e"
            ],
            [
             0.4444444444444444,
             "#bd3786"
            ],
            [
             0.5555555555555556,
             "#d8576b"
            ],
            [
             0.6666666666666666,
             "#ed7953"
            ],
            [
             0.7777777777777778,
             "#fb9f3a"
            ],
            [
             0.8888888888888888,
             "#fdca26"
            ],
            [
             1,
             "#f0f921"
            ]
           ],
           "sequentialminus": [
            [
             0,
             "#0d0887"
            ],
            [
             0.1111111111111111,
             "#46039f"
            ],
            [
             0.2222222222222222,
             "#7201a8"
            ],
            [
             0.3333333333333333,
             "#9c179e"
            ],
            [
             0.4444444444444444,
             "#bd3786"
            ],
            [
             0.5555555555555556,
             "#d8576b"
            ],
            [
             0.6666666666666666,
             "#ed7953"
            ],
            [
             0.7777777777777778,
             "#fb9f3a"
            ],
            [
             0.8888888888888888,
             "#fdca26"
            ],
            [
             1,
             "#f0f921"
            ]
           ]
          },
          "colorway": [
           "#636efa",
           "#EF553B",
           "#00cc96",
           "#ab63fa",
           "#FFA15A",
           "#19d3f3",
           "#FF6692",
           "#B6E880",
           "#FF97FF",
           "#FECB52"
          ],
          "font": {
           "color": "#2a3f5f"
          },
          "geo": {
           "bgcolor": "white",
           "lakecolor": "white",
           "landcolor": "#E5ECF6",
           "showlakes": true,
           "showland": true,
           "subunitcolor": "white"
          },
          "hoverlabel": {
           "align": "left"
          },
          "hovermode": "closest",
          "mapbox": {
           "style": "light"
          },
          "paper_bgcolor": "white",
          "plot_bgcolor": "#E5ECF6",
          "polar": {
           "angularaxis": {
            "gridcolor": "white",
            "linecolor": "white",
            "ticks": ""
           },
           "bgcolor": "#E5ECF6",
           "radialaxis": {
            "gridcolor": "white",
            "linecolor": "white",
            "ticks": ""
           }
          },
          "scene": {
           "xaxis": {
            "backgroundcolor": "#E5ECF6",
            "gridcolor": "white",
            "gridwidth": 2,
            "linecolor": "white",
            "showbackground": true,
            "ticks": "",
            "zerolinecolor": "white"
           },
           "yaxis": {
            "backgroundcolor": "#E5ECF6",
            "gridcolor": "white",
            "gridwidth": 2,
            "linecolor": "white",
            "showbackground": true,
            "ticks": "",
            "zerolinecolor": "white"
           },
           "zaxis": {
            "backgroundcolor": "#E5ECF6",
            "gridcolor": "white",
            "gridwidth": 2,
            "linecolor": "white",
            "showbackground": true,
            "ticks": "",
            "zerolinecolor": "white"
           }
          },
          "shapedefaults": {
           "line": {
            "color": "#2a3f5f"
           }
          },
          "ternary": {
           "aaxis": {
            "gridcolor": "white",
            "linecolor": "white",
            "ticks": ""
           },
           "baxis": {
            "gridcolor": "white",
            "linecolor": "white",
            "ticks": ""
           },
           "bgcolor": "#E5ECF6",
           "caxis": {
            "gridcolor": "white",
            "linecolor": "white",
            "ticks": ""
           }
          },
          "title": {
           "x": 0.05
          },
          "xaxis": {
           "automargin": true,
           "gridcolor": "white",
           "linecolor": "white",
           "ticks": "",
           "title": {
            "standoff": 15
           },
           "zerolinecolor": "white",
           "zerolinewidth": 2
          },
          "yaxis": {
           "automargin": true,
           "gridcolor": "white",
           "linecolor": "white",
           "ticks": "",
           "title": {
            "standoff": 15
           },
           "zerolinecolor": "white",
           "zerolinewidth": 2
          }
         }
        },
        "title": {
         "text": "Method scan/2[spoon.reflect.path.CtRole,java.util.Collection<? extends spoon.reflect.declaration.CtElement>] of the class spoon.reflect.visitor.EarlyTerminatingScanner"
        },
        "xaxis": {
         "anchor": "y",
         "domain": [
          0,
          0.45
         ]
        },
        "xaxis2": {
         "anchor": "y2",
         "domain": [
          0.55,
          1
         ]
        },
        "yaxis": {
         "anchor": "x",
         "domain": [
          0,
          1
         ]
        },
        "yaxis2": {
         "anchor": "x2",
         "domain": [
          0,
          1
         ]
        }
       }
      }
     },
     "metadata": {},
     "output_type": "display_data"
    },
    {
     "data": {
      "application/vnd.plotly.v1+json": {
       "config": {
        "plotlyServerURL": "https://plot.ly"
       },
       "data": [
        {
         "alignmentgroup": "True",
         "boxpoints": "all",
         "hovertemplate": "value=%{y}<extra></extra>",
         "legendgroup": "",
         "marker": {
          "color": "#636efa"
         },
         "name": "",
         "notched": false,
         "offsetgroup": "",
         "orientation": "v",
         "showlegend": false,
         "type": "box",
         "x0": " ",
         "xaxis": "x",
         "y": [
          324.4667,
          319.6152,
          261.6414,
          287.9847,
          364.9052,
          276.3988,
          330.2696,
          348.5787,
          388.358,
          350.1808,
          282.6285,
          319.4237,
          271.5302,
          315.5053,
          284.1926,
          309.2618,
          330.9494,
          290.9835,
          288.9638,
          236.2969,
          344.5818,
          292.3302,
          294.5574,
          383.42618,
          294.0531,
          287.9321,
          352.3981,
          276.0784,
          322.8061,
          272.9096
         ],
         "y0": " ",
         "yaxis": "y"
        },
        {
         "alignmentgroup": "True",
         "hovertemplate": "Metric=%{x}<br>Value=%{y}<extra></extra>",
         "legendgroup": "",
         "marker": {
          "color": "#636efa",
          "pattern": {
           "shape": ""
          }
         },
         "name": "",
         "offsetgroup": "",
         "orientation": "v",
         "showlegend": false,
         "textposition": "auto",
         "type": "bar",
         "x": [
          "loc",
          "wmc",
          "cbo"
         ],
         "xaxis": "x2",
         "y": [
          7,
          2,
          2
         ],
         "yaxis": "y2"
        }
       ],
       "layout": {
        "annotations": [
         {
          "font": {
           "size": 16
          },
          "showarrow": false,
          "text": "Joular values",
          "x": 0.225,
          "xanchor": "center",
          "xref": "paper",
          "y": 1,
          "yanchor": "bottom",
          "yref": "paper"
         },
         {
          "font": {
           "size": 16
          },
          "showarrow": false,
          "text": "Ck values",
          "x": 0.775,
          "xanchor": "center",
          "xref": "paper",
          "y": 1,
          "yanchor": "bottom",
          "yref": "paper"
         }
        ],
        "template": {
         "data": {
          "bar": [
           {
            "error_x": {
             "color": "#2a3f5f"
            },
            "error_y": {
             "color": "#2a3f5f"
            },
            "marker": {
             "line": {
              "color": "#E5ECF6",
              "width": 0.5
             },
             "pattern": {
              "fillmode": "overlay",
              "size": 10,
              "solidity": 0.2
             }
            },
            "type": "bar"
           }
          ],
          "barpolar": [
           {
            "marker": {
             "line": {
              "color": "#E5ECF6",
              "width": 0.5
             },
             "pattern": {
              "fillmode": "overlay",
              "size": 10,
              "solidity": 0.2
             }
            },
            "type": "barpolar"
           }
          ],
          "carpet": [
           {
            "aaxis": {
             "endlinecolor": "#2a3f5f",
             "gridcolor": "white",
             "linecolor": "white",
             "minorgridcolor": "white",
             "startlinecolor": "#2a3f5f"
            },
            "baxis": {
             "endlinecolor": "#2a3f5f",
             "gridcolor": "white",
             "linecolor": "white",
             "minorgridcolor": "white",
             "startlinecolor": "#2a3f5f"
            },
            "type": "carpet"
           }
          ],
          "choropleth": [
           {
            "colorbar": {
             "outlinewidth": 0,
             "ticks": ""
            },
            "type": "choropleth"
           }
          ],
          "contour": [
           {
            "colorbar": {
             "outlinewidth": 0,
             "ticks": ""
            },
            "colorscale": [
             [
              0,
              "#0d0887"
             ],
             [
              0.1111111111111111,
              "#46039f"
             ],
             [
              0.2222222222222222,
              "#7201a8"
             ],
             [
              0.3333333333333333,
              "#9c179e"
             ],
             [
              0.4444444444444444,
              "#bd3786"
             ],
             [
              0.5555555555555556,
              "#d8576b"
             ],
             [
              0.6666666666666666,
              "#ed7953"
             ],
             [
              0.7777777777777778,
              "#fb9f3a"
             ],
             [
              0.8888888888888888,
              "#fdca26"
             ],
             [
              1,
              "#f0f921"
             ]
            ],
            "type": "contour"
           }
          ],
          "contourcarpet": [
           {
            "colorbar": {
             "outlinewidth": 0,
             "ticks": ""
            },
            "type": "contourcarpet"
           }
          ],
          "heatmap": [
           {
            "colorbar": {
             "outlinewidth": 0,
             "ticks": ""
            },
            "colorscale": [
             [
              0,
              "#0d0887"
             ],
             [
              0.1111111111111111,
              "#46039f"
             ],
             [
              0.2222222222222222,
              "#7201a8"
             ],
             [
              0.3333333333333333,
              "#9c179e"
             ],
             [
              0.4444444444444444,
              "#bd3786"
             ],
             [
              0.5555555555555556,
              "#d8576b"
             ],
             [
              0.6666666666666666,
              "#ed7953"
             ],
             [
              0.7777777777777778,
              "#fb9f3a"
             ],
             [
              0.8888888888888888,
              "#fdca26"
             ],
             [
              1,
              "#f0f921"
             ]
            ],
            "type": "heatmap"
           }
          ],
          "heatmapgl": [
           {
            "colorbar": {
             "outlinewidth": 0,
             "ticks": ""
            },
            "colorscale": [
             [
              0,
              "#0d0887"
             ],
             [
              0.1111111111111111,
              "#46039f"
             ],
             [
              0.2222222222222222,
              "#7201a8"
             ],
             [
              0.3333333333333333,
              "#9c179e"
             ],
             [
              0.4444444444444444,
              "#bd3786"
             ],
             [
              0.5555555555555556,
              "#d8576b"
             ],
             [
              0.6666666666666666,
              "#ed7953"
             ],
             [
              0.7777777777777778,
              "#fb9f3a"
             ],
             [
              0.8888888888888888,
              "#fdca26"
             ],
             [
              1,
              "#f0f921"
             ]
            ],
            "type": "heatmapgl"
           }
          ],
          "histogram": [
           {
            "marker": {
             "pattern": {
              "fillmode": "overlay",
              "size": 10,
              "solidity": 0.2
             }
            },
            "type": "histogram"
           }
          ],
          "histogram2d": [
           {
            "colorbar": {
             "outlinewidth": 0,
             "ticks": ""
            },
            "colorscale": [
             [
              0,
              "#0d0887"
             ],
             [
              0.1111111111111111,
              "#46039f"
             ],
             [
              0.2222222222222222,
              "#7201a8"
             ],
             [
              0.3333333333333333,
              "#9c179e"
             ],
             [
              0.4444444444444444,
              "#bd3786"
             ],
             [
              0.5555555555555556,
              "#d8576b"
             ],
             [
              0.6666666666666666,
              "#ed7953"
             ],
             [
              0.7777777777777778,
              "#fb9f3a"
             ],
             [
              0.8888888888888888,
              "#fdca26"
             ],
             [
              1,
              "#f0f921"
             ]
            ],
            "type": "histogram2d"
           }
          ],
          "histogram2dcontour": [
           {
            "colorbar": {
             "outlinewidth": 0,
             "ticks": ""
            },
            "colorscale": [
             [
              0,
              "#0d0887"
             ],
             [
              0.1111111111111111,
              "#46039f"
             ],
             [
              0.2222222222222222,
              "#7201a8"
             ],
             [
              0.3333333333333333,
              "#9c179e"
             ],
             [
              0.4444444444444444,
              "#bd3786"
             ],
             [
              0.5555555555555556,
              "#d8576b"
             ],
             [
              0.6666666666666666,
              "#ed7953"
             ],
             [
              0.7777777777777778,
              "#fb9f3a"
             ],
             [
              0.8888888888888888,
              "#fdca26"
             ],
             [
              1,
              "#f0f921"
             ]
            ],
            "type": "histogram2dcontour"
           }
          ],
          "mesh3d": [
           {
            "colorbar": {
             "outlinewidth": 0,
             "ticks": ""
            },
            "type": "mesh3d"
           }
          ],
          "parcoords": [
           {
            "line": {
             "colorbar": {
              "outlinewidth": 0,
              "ticks": ""
             }
            },
            "type": "parcoords"
           }
          ],
          "pie": [
           {
            "automargin": true,
            "type": "pie"
           }
          ],
          "scatter": [
           {
            "fillpattern": {
             "fillmode": "overlay",
             "size": 10,
             "solidity": 0.2
            },
            "type": "scatter"
           }
          ],
          "scatter3d": [
           {
            "line": {
             "colorbar": {
              "outlinewidth": 0,
              "ticks": ""
             }
            },
            "marker": {
             "colorbar": {
              "outlinewidth": 0,
              "ticks": ""
             }
            },
            "type": "scatter3d"
           }
          ],
          "scattercarpet": [
           {
            "marker": {
             "colorbar": {
              "outlinewidth": 0,
              "ticks": ""
             }
            },
            "type": "scattercarpet"
           }
          ],
          "scattergeo": [
           {
            "marker": {
             "colorbar": {
              "outlinewidth": 0,
              "ticks": ""
             }
            },
            "type": "scattergeo"
           }
          ],
          "scattergl": [
           {
            "marker": {
             "colorbar": {
              "outlinewidth": 0,
              "ticks": ""
             }
            },
            "type": "scattergl"
           }
          ],
          "scattermapbox": [
           {
            "marker": {
             "colorbar": {
              "outlinewidth": 0,
              "ticks": ""
             }
            },
            "type": "scattermapbox"
           }
          ],
          "scatterpolar": [
           {
            "marker": {
             "colorbar": {
              "outlinewidth": 0,
              "ticks": ""
             }
            },
            "type": "scatterpolar"
           }
          ],
          "scatterpolargl": [
           {
            "marker": {
             "colorbar": {
              "outlinewidth": 0,
              "ticks": ""
             }
            },
            "type": "scatterpolargl"
           }
          ],
          "scatterternary": [
           {
            "marker": {
             "colorbar": {
              "outlinewidth": 0,
              "ticks": ""
             }
            },
            "type": "scatterternary"
           }
          ],
          "surface": [
           {
            "colorbar": {
             "outlinewidth": 0,
             "ticks": ""
            },
            "colorscale": [
             [
              0,
              "#0d0887"
             ],
             [
              0.1111111111111111,
              "#46039f"
             ],
             [
              0.2222222222222222,
              "#7201a8"
             ],
             [
              0.3333333333333333,
              "#9c179e"
             ],
             [
              0.4444444444444444,
              "#bd3786"
             ],
             [
              0.5555555555555556,
              "#d8576b"
             ],
             [
              0.6666666666666666,
              "#ed7953"
             ],
             [
              0.7777777777777778,
              "#fb9f3a"
             ],
             [
              0.8888888888888888,
              "#fdca26"
             ],
             [
              1,
              "#f0f921"
             ]
            ],
            "type": "surface"
           }
          ],
          "table": [
           {
            "cells": {
             "fill": {
              "color": "#EBF0F8"
             },
             "line": {
              "color": "white"
             }
            },
            "header": {
             "fill": {
              "color": "#C8D4E3"
             },
             "line": {
              "color": "white"
             }
            },
            "type": "table"
           }
          ]
         },
         "layout": {
          "annotationdefaults": {
           "arrowcolor": "#2a3f5f",
           "arrowhead": 0,
           "arrowwidth": 1
          },
          "autotypenumbers": "strict",
          "coloraxis": {
           "colorbar": {
            "outlinewidth": 0,
            "ticks": ""
           }
          },
          "colorscale": {
           "diverging": [
            [
             0,
             "#8e0152"
            ],
            [
             0.1,
             "#c51b7d"
            ],
            [
             0.2,
             "#de77ae"
            ],
            [
             0.3,
             "#f1b6da"
            ],
            [
             0.4,
             "#fde0ef"
            ],
            [
             0.5,
             "#f7f7f7"
            ],
            [
             0.6,
             "#e6f5d0"
            ],
            [
             0.7,
             "#b8e186"
            ],
            [
             0.8,
             "#7fbc41"
            ],
            [
             0.9,
             "#4d9221"
            ],
            [
             1,
             "#276419"
            ]
           ],
           "sequential": [
            [
             0,
             "#0d0887"
            ],
            [
             0.1111111111111111,
             "#46039f"
            ],
            [
             0.2222222222222222,
             "#7201a8"
            ],
            [
             0.3333333333333333,
             "#9c179e"
            ],
            [
             0.4444444444444444,
             "#bd3786"
            ],
            [
             0.5555555555555556,
             "#d8576b"
            ],
            [
             0.6666666666666666,
             "#ed7953"
            ],
            [
             0.7777777777777778,
             "#fb9f3a"
            ],
            [
             0.8888888888888888,
             "#fdca26"
            ],
            [
             1,
             "#f0f921"
            ]
           ],
           "sequentialminus": [
            [
             0,
             "#0d0887"
            ],
            [
             0.1111111111111111,
             "#46039f"
            ],
            [
             0.2222222222222222,
             "#7201a8"
            ],
            [
             0.3333333333333333,
             "#9c179e"
            ],
            [
             0.4444444444444444,
             "#bd3786"
            ],
            [
             0.5555555555555556,
             "#d8576b"
            ],
            [
             0.6666666666666666,
             "#ed7953"
            ],
            [
             0.7777777777777778,
             "#fb9f3a"
            ],
            [
             0.8888888888888888,
             "#fdca26"
            ],
            [
             1,
             "#f0f921"
            ]
           ]
          },
          "colorway": [
           "#636efa",
           "#EF553B",
           "#00cc96",
           "#ab63fa",
           "#FFA15A",
           "#19d3f3",
           "#FF6692",
           "#B6E880",
           "#FF97FF",
           "#FECB52"
          ],
          "font": {
           "color": "#2a3f5f"
          },
          "geo": {
           "bgcolor": "white",
           "lakecolor": "white",
           "landcolor": "#E5ECF6",
           "showlakes": true,
           "showland": true,
           "subunitcolor": "white"
          },
          "hoverlabel": {
           "align": "left"
          },
          "hovermode": "closest",
          "mapbox": {
           "style": "light"
          },
          "paper_bgcolor": "white",
          "plot_bgcolor": "#E5ECF6",
          "polar": {
           "angularaxis": {
            "gridcolor": "white",
            "linecolor": "white",
            "ticks": ""
           },
           "bgcolor": "#E5ECF6",
           "radialaxis": {
            "gridcolor": "white",
            "linecolor": "white",
            "ticks": ""
           }
          },
          "scene": {
           "xaxis": {
            "backgroundcolor": "#E5ECF6",
            "gridcolor": "white",
            "gridwidth": 2,
            "linecolor": "white",
            "showbackground": true,
            "ticks": "",
            "zerolinecolor": "white"
           },
           "yaxis": {
            "backgroundcolor": "#E5ECF6",
            "gridcolor": "white",
            "gridwidth": 2,
            "linecolor": "white",
            "showbackground": true,
            "ticks": "",
            "zerolinecolor": "white"
           },
           "zaxis": {
            "backgroundcolor": "#E5ECF6",
            "gridcolor": "white",
            "gridwidth": 2,
            "linecolor": "white",
            "showbackground": true,
            "ticks": "",
            "zerolinecolor": "white"
           }
          },
          "shapedefaults": {
           "line": {
            "color": "#2a3f5f"
           }
          },
          "ternary": {
           "aaxis": {
            "gridcolor": "white",
            "linecolor": "white",
            "ticks": ""
           },
           "baxis": {
            "gridcolor": "white",
            "linecolor": "white",
            "ticks": ""
           },
           "bgcolor": "#E5ECF6",
           "caxis": {
            "gridcolor": "white",
            "linecolor": "white",
            "ticks": ""
           }
          },
          "title": {
           "x": 0.05
          },
          "xaxis": {
           "automargin": true,
           "gridcolor": "white",
           "linecolor": "white",
           "ticks": "",
           "title": {
            "standoff": 15
           },
           "zerolinecolor": "white",
           "zerolinewidth": 2
          },
          "yaxis": {
           "automargin": true,
           "gridcolor": "white",
           "linecolor": "white",
           "ticks": "",
           "title": {
            "standoff": 15
           },
           "zerolinecolor": "white",
           "zerolinewidth": 2
          }
         }
        },
        "title": {
         "text": "Method scanCtReference/1[spoon.support.visitor.equals.CtReference] of the class spoon.support.visitor.equals.EqualsChecker"
        },
        "xaxis": {
         "anchor": "y",
         "domain": [
          0,
          0.45
         ]
        },
        "xaxis2": {
         "anchor": "y2",
         "domain": [
          0.55,
          1
         ]
        },
        "yaxis": {
         "anchor": "x",
         "domain": [
          0,
          1
         ]
        },
        "yaxis2": {
         "anchor": "x2",
         "domain": [
          0,
          1
         ]
        }
       }
      }
     },
     "metadata": {},
     "output_type": "display_data"
    },
    {
     "ename": "KeyboardInterrupt",
     "evalue": "",
     "output_type": "error",
     "traceback": [
      "\u001b[0;31m---------------------------------------------------------------------------\u001b[0m",
      "\u001b[0;31mKeyboardInterrupt\u001b[0m                         Traceback (most recent call last)",
      "\u001b[0;32m/tmp/ipykernel_8048/1114415683.py\u001b[0m in \u001b[0;36m<module>\u001b[0;34m\u001b[0m\n\u001b[1;32m     17\u001b[0m         \u001b[0mclassName\u001b[0m \u001b[0;34m=\u001b[0m \u001b[0mdataRepoWithoutOutliers\u001b[0m\u001b[0;34m[\u001b[0m\u001b[0mi\u001b[0m\u001b[0;34m]\u001b[0m\u001b[0;34m[\u001b[0m\u001b[0;34m\"measurableElement\"\u001b[0m\u001b[0;34m]\u001b[0m\u001b[0;34m[\u001b[0m\u001b[0;34m\"className\"\u001b[0m\u001b[0;34m]\u001b[0m\u001b[0;34m\u001b[0m\u001b[0;34m\u001b[0m\u001b[0m\n\u001b[1;32m     18\u001b[0m         \u001b[0mmethodSignature\u001b[0m \u001b[0;34m=\u001b[0m \u001b[0mdataRepoWithoutOutliers\u001b[0m\u001b[0;34m[\u001b[0m\u001b[0mi\u001b[0m\u001b[0;34m]\u001b[0m\u001b[0;34m[\u001b[0m\u001b[0;34m\"measurableElement\"\u001b[0m\u001b[0;34m]\u001b[0m\u001b[0;34m[\u001b[0m\u001b[0;34m\"methodSignature\"\u001b[0m\u001b[0;34m]\u001b[0m\u001b[0;34m\u001b[0m\u001b[0;34m\u001b[0m\u001b[0m\n\u001b[0;32m---> 19\u001b[0;31m         \u001b[0mckValues\u001b[0m \u001b[0;34m=\u001b[0m \u001b[0mgetSeveralCkDataForOneMethod\u001b[0m\u001b[0;34m(\u001b[0m\u001b[0mcommitSha\u001b[0m\u001b[0;34m=\u001b[0m\u001b[0msha\u001b[0m\u001b[0;34m,\u001b[0m \u001b[0mclassName\u001b[0m\u001b[0;34m=\u001b[0m\u001b[0mclassName\u001b[0m\u001b[0;34m,\u001b[0m \u001b[0mmethodSignature\u001b[0m\u001b[0;34m=\u001b[0m\u001b[0mmethodSignature\u001b[0m\u001b[0;34m,\u001b[0m \u001b[0mckMetrics\u001b[0m\u001b[0;34m=\u001b[0m\u001b[0mallowedCkMetrics\u001b[0m\u001b[0;34m)\u001b[0m\u001b[0;34m\u001b[0m\u001b[0;34m\u001b[0m\u001b[0m\n\u001b[0m\u001b[1;32m     20\u001b[0m         \u001b[0mckDataFrame\u001b[0m \u001b[0;34m=\u001b[0m \u001b[0mprepareCkDataFrame\u001b[0m\u001b[0;34m(\u001b[0m\u001b[0mckValues\u001b[0m\u001b[0;34m)\u001b[0m\u001b[0;34m\u001b[0m\u001b[0;34m\u001b[0m\u001b[0m\n\u001b[1;32m     21\u001b[0m         \u001b[0mfigBarChart\u001b[0m \u001b[0;34m=\u001b[0m \u001b[0mcreateBarChart\u001b[0m\u001b[0;34m(\u001b[0m\u001b[0mckDataFrame\u001b[0m\u001b[0;34m,\u001b[0m \u001b[0;34m\"Metric\"\u001b[0m\u001b[0;34m,\u001b[0m \u001b[0;34m\"Value\"\u001b[0m\u001b[0;34m,\u001b[0m \u001b[0;34m\"Ck metrics for \"\u001b[0m \u001b[0;34m+\u001b[0m \u001b[0mmethodSignature\u001b[0m \u001b[0;34m+\u001b[0m \u001b[0;34m\" (\"\u001b[0m \u001b[0;34m+\u001b[0m \u001b[0mclassName\u001b[0m \u001b[0;34m+\u001b[0m \u001b[0;34m\")\"\u001b[0m\u001b[0;34m)\u001b[0m\u001b[0;34m\u001b[0m\u001b[0;34m\u001b[0m\u001b[0m\n",
      "\u001b[0;32m/tmp/ipykernel_8048/3129882479.py\u001b[0m in \u001b[0;36mgetSeveralCkDataForOneMethod\u001b[0;34m(commitSha, className, methodSignature, ckMetrics)\u001b[0m\n\u001b[1;32m     25\u001b[0m         \u001b[0;34m\"names\"\u001b[0m\u001b[0;34m:\u001b[0m \u001b[0mckMetrics\u001b[0m\u001b[0;34m\u001b[0m\u001b[0;34m\u001b[0m\u001b[0m\n\u001b[1;32m     26\u001b[0m     }\n\u001b[0;32m---> 27\u001b[0;31m     \u001b[0;32mreturn\u001b[0m \u001b[0mgetEndpoint\u001b[0m\u001b[0;34m(\u001b[0m\u001b[0mendpoint\u001b[0m\u001b[0;34m=\u001b[0m\u001b[0mendpoint\u001b[0m\u001b[0;34m,\u001b[0m \u001b[0mparams\u001b[0m\u001b[0;34m=\u001b[0m\u001b[0mparams\u001b[0m\u001b[0;34m)\u001b[0m\u001b[0;34m\u001b[0m\u001b[0;34m\u001b[0m\u001b[0m\n\u001b[0m\u001b[1;32m     28\u001b[0m \u001b[0;34m\u001b[0m\u001b[0m\n\u001b[1;32m     29\u001b[0m \u001b[0;32mdef\u001b[0m \u001b[0mcreateBoxplotJoular\u001b[0m\u001b[0;34m(\u001b[0m\u001b[0mrepositoryName\u001b[0m\u001b[0;34m,\u001b[0m \u001b[0mmethodSignature\u001b[0m\u001b[0;34m,\u001b[0m \u001b[0mallValues\u001b[0m\u001b[0;34m)\u001b[0m\u001b[0;34m:\u001b[0m\u001b[0;34m\u001b[0m\u001b[0;34m\u001b[0m\u001b[0m\n",
      "\u001b[0;32m/tmp/ipykernel_8048/3129882479.py\u001b[0m in \u001b[0;36mgetEndpoint\u001b[0;34m(endpoint, params)\u001b[0m\n\u001b[1;32m      1\u001b[0m \u001b[0;32mdef\u001b[0m \u001b[0mgetEndpoint\u001b[0m\u001b[0;34m(\u001b[0m\u001b[0mendpoint\u001b[0m\u001b[0;34m,\u001b[0m \u001b[0mparams\u001b[0m\u001b[0;34m=\u001b[0m\u001b[0;32mNone\u001b[0m\u001b[0;34m)\u001b[0m\u001b[0;34m:\u001b[0m\u001b[0;34m\u001b[0m\u001b[0;34m\u001b[0m\u001b[0m\n\u001b[1;32m      2\u001b[0m     \u001b[0mURL\u001b[0m \u001b[0;34m=\u001b[0m \u001b[0mBASE_URL\u001b[0m \u001b[0;34m+\u001b[0m \u001b[0mendpoint\u001b[0m\u001b[0;34m\u001b[0m\u001b[0;34m\u001b[0m\u001b[0m\n\u001b[0;32m----> 3\u001b[0;31m     \u001b[0mr\u001b[0m \u001b[0;34m=\u001b[0m \u001b[0mrequests\u001b[0m\u001b[0;34m.\u001b[0m\u001b[0mget\u001b[0m\u001b[0;34m(\u001b[0m\u001b[0murl\u001b[0m\u001b[0;34m=\u001b[0m\u001b[0mURL\u001b[0m\u001b[0;34m,\u001b[0m \u001b[0mparams\u001b[0m\u001b[0;34m=\u001b[0m\u001b[0mparams\u001b[0m\u001b[0;34m)\u001b[0m\u001b[0;34m\u001b[0m\u001b[0;34m\u001b[0m\u001b[0m\n\u001b[0m\u001b[1;32m      4\u001b[0m     \u001b[0;32mreturn\u001b[0m \u001b[0mr\u001b[0m\u001b[0;34m.\u001b[0m\u001b[0mjson\u001b[0m\u001b[0;34m(\u001b[0m\u001b[0;34m)\u001b[0m\u001b[0;34m\u001b[0m\u001b[0;34m\u001b[0m\u001b[0m\n\u001b[1;32m      5\u001b[0m \u001b[0;34m\u001b[0m\u001b[0m\n",
      "\u001b[0;32m~/anaconda3/lib/python3.9/site-packages/requests/api.py\u001b[0m in \u001b[0;36mget\u001b[0;34m(url, params, **kwargs)\u001b[0m\n\u001b[1;32m     71\u001b[0m     \"\"\"\n\u001b[1;32m     72\u001b[0m \u001b[0;34m\u001b[0m\u001b[0m\n\u001b[0;32m---> 73\u001b[0;31m     \u001b[0;32mreturn\u001b[0m \u001b[0mrequest\u001b[0m\u001b[0;34m(\u001b[0m\u001b[0;34m\"get\"\u001b[0m\u001b[0;34m,\u001b[0m \u001b[0murl\u001b[0m\u001b[0;34m,\u001b[0m \u001b[0mparams\u001b[0m\u001b[0;34m=\u001b[0m\u001b[0mparams\u001b[0m\u001b[0;34m,\u001b[0m \u001b[0;34m**\u001b[0m\u001b[0mkwargs\u001b[0m\u001b[0;34m)\u001b[0m\u001b[0;34m\u001b[0m\u001b[0;34m\u001b[0m\u001b[0m\n\u001b[0m\u001b[1;32m     74\u001b[0m \u001b[0;34m\u001b[0m\u001b[0m\n\u001b[1;32m     75\u001b[0m \u001b[0;34m\u001b[0m\u001b[0m\n",
      "\u001b[0;32m~/anaconda3/lib/python3.9/site-packages/requests/api.py\u001b[0m in \u001b[0;36mrequest\u001b[0;34m(method, url, **kwargs)\u001b[0m\n\u001b[1;32m     57\u001b[0m     \u001b[0;31m# cases, and look like a memory leak in others.\u001b[0m\u001b[0;34m\u001b[0m\u001b[0;34m\u001b[0m\u001b[0m\n\u001b[1;32m     58\u001b[0m     \u001b[0;32mwith\u001b[0m \u001b[0msessions\u001b[0m\u001b[0;34m.\u001b[0m\u001b[0mSession\u001b[0m\u001b[0;34m(\u001b[0m\u001b[0;34m)\u001b[0m \u001b[0;32mas\u001b[0m \u001b[0msession\u001b[0m\u001b[0;34m:\u001b[0m\u001b[0;34m\u001b[0m\u001b[0;34m\u001b[0m\u001b[0m\n\u001b[0;32m---> 59\u001b[0;31m         \u001b[0;32mreturn\u001b[0m \u001b[0msession\u001b[0m\u001b[0;34m.\u001b[0m\u001b[0mrequest\u001b[0m\u001b[0;34m(\u001b[0m\u001b[0mmethod\u001b[0m\u001b[0;34m=\u001b[0m\u001b[0mmethod\u001b[0m\u001b[0;34m,\u001b[0m \u001b[0murl\u001b[0m\u001b[0;34m=\u001b[0m\u001b[0murl\u001b[0m\u001b[0;34m,\u001b[0m \u001b[0;34m**\u001b[0m\u001b[0mkwargs\u001b[0m\u001b[0;34m)\u001b[0m\u001b[0;34m\u001b[0m\u001b[0;34m\u001b[0m\u001b[0m\n\u001b[0m\u001b[1;32m     60\u001b[0m \u001b[0;34m\u001b[0m\u001b[0m\n\u001b[1;32m     61\u001b[0m \u001b[0;34m\u001b[0m\u001b[0m\n",
      "\u001b[0;32m~/anaconda3/lib/python3.9/site-packages/requests/sessions.py\u001b[0m in \u001b[0;36mrequest\u001b[0;34m(self, method, url, params, data, headers, cookies, files, auth, timeout, allow_redirects, proxies, hooks, stream, verify, cert, json)\u001b[0m\n\u001b[1;32m    585\u001b[0m         }\n\u001b[1;32m    586\u001b[0m         \u001b[0msend_kwargs\u001b[0m\u001b[0;34m.\u001b[0m\u001b[0mupdate\u001b[0m\u001b[0;34m(\u001b[0m\u001b[0msettings\u001b[0m\u001b[0;34m)\u001b[0m\u001b[0;34m\u001b[0m\u001b[0;34m\u001b[0m\u001b[0m\n\u001b[0;32m--> 587\u001b[0;31m         \u001b[0mresp\u001b[0m \u001b[0;34m=\u001b[0m \u001b[0mself\u001b[0m\u001b[0;34m.\u001b[0m\u001b[0msend\u001b[0m\u001b[0;34m(\u001b[0m\u001b[0mprep\u001b[0m\u001b[0;34m,\u001b[0m \u001b[0;34m**\u001b[0m\u001b[0msend_kwargs\u001b[0m\u001b[0;34m)\u001b[0m\u001b[0;34m\u001b[0m\u001b[0;34m\u001b[0m\u001b[0m\n\u001b[0m\u001b[1;32m    588\u001b[0m \u001b[0;34m\u001b[0m\u001b[0m\n\u001b[1;32m    589\u001b[0m         \u001b[0;32mreturn\u001b[0m \u001b[0mresp\u001b[0m\u001b[0;34m\u001b[0m\u001b[0;34m\u001b[0m\u001b[0m\n",
      "\u001b[0;32m~/anaconda3/lib/python3.9/site-packages/requests/sessions.py\u001b[0m in \u001b[0;36msend\u001b[0;34m(self, request, **kwargs)\u001b[0m\n\u001b[1;32m    699\u001b[0m \u001b[0;34m\u001b[0m\u001b[0m\n\u001b[1;32m    700\u001b[0m         \u001b[0;31m# Send the request\u001b[0m\u001b[0;34m\u001b[0m\u001b[0;34m\u001b[0m\u001b[0m\n\u001b[0;32m--> 701\u001b[0;31m         \u001b[0mr\u001b[0m \u001b[0;34m=\u001b[0m \u001b[0madapter\u001b[0m\u001b[0;34m.\u001b[0m\u001b[0msend\u001b[0m\u001b[0;34m(\u001b[0m\u001b[0mrequest\u001b[0m\u001b[0;34m,\u001b[0m \u001b[0;34m**\u001b[0m\u001b[0mkwargs\u001b[0m\u001b[0;34m)\u001b[0m\u001b[0;34m\u001b[0m\u001b[0;34m\u001b[0m\u001b[0m\n\u001b[0m\u001b[1;32m    702\u001b[0m \u001b[0;34m\u001b[0m\u001b[0m\n\u001b[1;32m    703\u001b[0m         \u001b[0;31m# Total elapsed time of the request (approximately)\u001b[0m\u001b[0;34m\u001b[0m\u001b[0;34m\u001b[0m\u001b[0m\n",
      "\u001b[0;32m~/anaconda3/lib/python3.9/site-packages/requests/adapters.py\u001b[0m in \u001b[0;36msend\u001b[0;34m(self, request, stream, timeout, verify, cert, proxies)\u001b[0m\n\u001b[1;32m    487\u001b[0m         \u001b[0;32mtry\u001b[0m\u001b[0;34m:\u001b[0m\u001b[0;34m\u001b[0m\u001b[0;34m\u001b[0m\u001b[0m\n\u001b[1;32m    488\u001b[0m             \u001b[0;32mif\u001b[0m \u001b[0;32mnot\u001b[0m \u001b[0mchunked\u001b[0m\u001b[0;34m:\u001b[0m\u001b[0;34m\u001b[0m\u001b[0;34m\u001b[0m\u001b[0m\n\u001b[0;32m--> 489\u001b[0;31m                 resp = conn.urlopen(\n\u001b[0m\u001b[1;32m    490\u001b[0m                     \u001b[0mmethod\u001b[0m\u001b[0;34m=\u001b[0m\u001b[0mrequest\u001b[0m\u001b[0;34m.\u001b[0m\u001b[0mmethod\u001b[0m\u001b[0;34m,\u001b[0m\u001b[0;34m\u001b[0m\u001b[0;34m\u001b[0m\u001b[0m\n\u001b[1;32m    491\u001b[0m                     \u001b[0murl\u001b[0m\u001b[0;34m=\u001b[0m\u001b[0murl\u001b[0m\u001b[0;34m,\u001b[0m\u001b[0;34m\u001b[0m\u001b[0;34m\u001b[0m\u001b[0m\n",
      "\u001b[0;32m~/anaconda3/lib/python3.9/site-packages/urllib3/connectionpool.py\u001b[0m in \u001b[0;36murlopen\u001b[0;34m(self, method, url, body, headers, retries, redirect, assert_same_host, timeout, pool_timeout, release_conn, chunked, body_pos, **response_kw)\u001b[0m\n\u001b[1;32m    701\u001b[0m \u001b[0;34m\u001b[0m\u001b[0m\n\u001b[1;32m    702\u001b[0m             \u001b[0;31m# Make the request on the httplib connection object.\u001b[0m\u001b[0;34m\u001b[0m\u001b[0;34m\u001b[0m\u001b[0m\n\u001b[0;32m--> 703\u001b[0;31m             httplib_response = self._make_request(\n\u001b[0m\u001b[1;32m    704\u001b[0m                 \u001b[0mconn\u001b[0m\u001b[0;34m,\u001b[0m\u001b[0;34m\u001b[0m\u001b[0;34m\u001b[0m\u001b[0m\n\u001b[1;32m    705\u001b[0m                 \u001b[0mmethod\u001b[0m\u001b[0;34m,\u001b[0m\u001b[0;34m\u001b[0m\u001b[0;34m\u001b[0m\u001b[0m\n",
      "\u001b[0;32m~/anaconda3/lib/python3.9/site-packages/urllib3/connectionpool.py\u001b[0m in \u001b[0;36m_make_request\u001b[0;34m(self, conn, method, url, timeout, chunked, **httplib_request_kw)\u001b[0m\n\u001b[1;32m    447\u001b[0m                     \u001b[0;31m# Python 3 (including for exceptions like SystemExit).\u001b[0m\u001b[0;34m\u001b[0m\u001b[0;34m\u001b[0m\u001b[0m\n\u001b[1;32m    448\u001b[0m                     \u001b[0;31m# Otherwise it looks like a bug in the code.\u001b[0m\u001b[0;34m\u001b[0m\u001b[0;34m\u001b[0m\u001b[0m\n\u001b[0;32m--> 449\u001b[0;31m                     \u001b[0msix\u001b[0m\u001b[0;34m.\u001b[0m\u001b[0mraise_from\u001b[0m\u001b[0;34m(\u001b[0m\u001b[0me\u001b[0m\u001b[0;34m,\u001b[0m \u001b[0;32mNone\u001b[0m\u001b[0;34m)\u001b[0m\u001b[0;34m\u001b[0m\u001b[0;34m\u001b[0m\u001b[0m\n\u001b[0m\u001b[1;32m    450\u001b[0m         \u001b[0;32mexcept\u001b[0m \u001b[0;34m(\u001b[0m\u001b[0mSocketTimeout\u001b[0m\u001b[0;34m,\u001b[0m \u001b[0mBaseSSLError\u001b[0m\u001b[0;34m,\u001b[0m \u001b[0mSocketError\u001b[0m\u001b[0;34m)\u001b[0m \u001b[0;32mas\u001b[0m \u001b[0me\u001b[0m\u001b[0;34m:\u001b[0m\u001b[0;34m\u001b[0m\u001b[0;34m\u001b[0m\u001b[0m\n\u001b[1;32m    451\u001b[0m             \u001b[0mself\u001b[0m\u001b[0;34m.\u001b[0m\u001b[0m_raise_timeout\u001b[0m\u001b[0;34m(\u001b[0m\u001b[0merr\u001b[0m\u001b[0;34m=\u001b[0m\u001b[0me\u001b[0m\u001b[0;34m,\u001b[0m \u001b[0murl\u001b[0m\u001b[0;34m=\u001b[0m\u001b[0murl\u001b[0m\u001b[0;34m,\u001b[0m \u001b[0mtimeout_value\u001b[0m\u001b[0;34m=\u001b[0m\u001b[0mread_timeout\u001b[0m\u001b[0;34m)\u001b[0m\u001b[0;34m\u001b[0m\u001b[0;34m\u001b[0m\u001b[0m\n",
      "\u001b[0;32m~/anaconda3/lib/python3.9/site-packages/urllib3/packages/six.py\u001b[0m in \u001b[0;36mraise_from\u001b[0;34m(value, from_value)\u001b[0m\n",
      "\u001b[0;32m~/anaconda3/lib/python3.9/site-packages/urllib3/connectionpool.py\u001b[0m in \u001b[0;36m_make_request\u001b[0;34m(self, conn, method, url, timeout, chunked, **httplib_request_kw)\u001b[0m\n\u001b[1;32m    442\u001b[0m                 \u001b[0;31m# Python 3\u001b[0m\u001b[0;34m\u001b[0m\u001b[0;34m\u001b[0m\u001b[0m\n\u001b[1;32m    443\u001b[0m                 \u001b[0;32mtry\u001b[0m\u001b[0;34m:\u001b[0m\u001b[0;34m\u001b[0m\u001b[0;34m\u001b[0m\u001b[0m\n\u001b[0;32m--> 444\u001b[0;31m                     \u001b[0mhttplib_response\u001b[0m \u001b[0;34m=\u001b[0m \u001b[0mconn\u001b[0m\u001b[0;34m.\u001b[0m\u001b[0mgetresponse\u001b[0m\u001b[0;34m(\u001b[0m\u001b[0;34m)\u001b[0m\u001b[0;34m\u001b[0m\u001b[0;34m\u001b[0m\u001b[0m\n\u001b[0m\u001b[1;32m    445\u001b[0m                 \u001b[0;32mexcept\u001b[0m \u001b[0mBaseException\u001b[0m \u001b[0;32mas\u001b[0m \u001b[0me\u001b[0m\u001b[0;34m:\u001b[0m\u001b[0;34m\u001b[0m\u001b[0;34m\u001b[0m\u001b[0m\n\u001b[1;32m    446\u001b[0m                     \u001b[0;31m# Remove the TypeError from the exception chain in\u001b[0m\u001b[0;34m\u001b[0m\u001b[0;34m\u001b[0m\u001b[0m\n",
      "\u001b[0;32m~/anaconda3/lib/python3.9/http/client.py\u001b[0m in \u001b[0;36mgetresponse\u001b[0;34m(self)\u001b[0m\n\u001b[1;32m   1375\u001b[0m         \u001b[0;32mtry\u001b[0m\u001b[0;34m:\u001b[0m\u001b[0;34m\u001b[0m\u001b[0;34m\u001b[0m\u001b[0m\n\u001b[1;32m   1376\u001b[0m             \u001b[0;32mtry\u001b[0m\u001b[0;34m:\u001b[0m\u001b[0;34m\u001b[0m\u001b[0;34m\u001b[0m\u001b[0m\n\u001b[0;32m-> 1377\u001b[0;31m                 \u001b[0mresponse\u001b[0m\u001b[0;34m.\u001b[0m\u001b[0mbegin\u001b[0m\u001b[0;34m(\u001b[0m\u001b[0;34m)\u001b[0m\u001b[0;34m\u001b[0m\u001b[0;34m\u001b[0m\u001b[0m\n\u001b[0m\u001b[1;32m   1378\u001b[0m             \u001b[0;32mexcept\u001b[0m \u001b[0mConnectionError\u001b[0m\u001b[0;34m:\u001b[0m\u001b[0;34m\u001b[0m\u001b[0;34m\u001b[0m\u001b[0m\n\u001b[1;32m   1379\u001b[0m                 \u001b[0mself\u001b[0m\u001b[0;34m.\u001b[0m\u001b[0mclose\u001b[0m\u001b[0;34m(\u001b[0m\u001b[0;34m)\u001b[0m\u001b[0;34m\u001b[0m\u001b[0;34m\u001b[0m\u001b[0m\n",
      "\u001b[0;32m~/anaconda3/lib/python3.9/http/client.py\u001b[0m in \u001b[0;36mbegin\u001b[0;34m(self)\u001b[0m\n\u001b[1;32m    318\u001b[0m         \u001b[0;31m# read until we get a non-100 response\u001b[0m\u001b[0;34m\u001b[0m\u001b[0;34m\u001b[0m\u001b[0m\n\u001b[1;32m    319\u001b[0m         \u001b[0;32mwhile\u001b[0m \u001b[0;32mTrue\u001b[0m\u001b[0;34m:\u001b[0m\u001b[0;34m\u001b[0m\u001b[0;34m\u001b[0m\u001b[0m\n\u001b[0;32m--> 320\u001b[0;31m             \u001b[0mversion\u001b[0m\u001b[0;34m,\u001b[0m \u001b[0mstatus\u001b[0m\u001b[0;34m,\u001b[0m \u001b[0mreason\u001b[0m \u001b[0;34m=\u001b[0m \u001b[0mself\u001b[0m\u001b[0;34m.\u001b[0m\u001b[0m_read_status\u001b[0m\u001b[0;34m(\u001b[0m\u001b[0;34m)\u001b[0m\u001b[0;34m\u001b[0m\u001b[0;34m\u001b[0m\u001b[0m\n\u001b[0m\u001b[1;32m    321\u001b[0m             \u001b[0;32mif\u001b[0m \u001b[0mstatus\u001b[0m \u001b[0;34m!=\u001b[0m \u001b[0mCONTINUE\u001b[0m\u001b[0;34m:\u001b[0m\u001b[0;34m\u001b[0m\u001b[0;34m\u001b[0m\u001b[0m\n\u001b[1;32m    322\u001b[0m                 \u001b[0;32mbreak\u001b[0m\u001b[0;34m\u001b[0m\u001b[0;34m\u001b[0m\u001b[0m\n",
      "\u001b[0;32m~/anaconda3/lib/python3.9/http/client.py\u001b[0m in \u001b[0;36m_read_status\u001b[0;34m(self)\u001b[0m\n\u001b[1;32m    279\u001b[0m \u001b[0;34m\u001b[0m\u001b[0m\n\u001b[1;32m    280\u001b[0m     \u001b[0;32mdef\u001b[0m \u001b[0m_read_status\u001b[0m\u001b[0;34m(\u001b[0m\u001b[0mself\u001b[0m\u001b[0;34m)\u001b[0m\u001b[0;34m:\u001b[0m\u001b[0;34m\u001b[0m\u001b[0;34m\u001b[0m\u001b[0m\n\u001b[0;32m--> 281\u001b[0;31m         \u001b[0mline\u001b[0m \u001b[0;34m=\u001b[0m \u001b[0mstr\u001b[0m\u001b[0;34m(\u001b[0m\u001b[0mself\u001b[0m\u001b[0;34m.\u001b[0m\u001b[0mfp\u001b[0m\u001b[0;34m.\u001b[0m\u001b[0mreadline\u001b[0m\u001b[0;34m(\u001b[0m\u001b[0m_MAXLINE\u001b[0m \u001b[0;34m+\u001b[0m \u001b[0;36m1\u001b[0m\u001b[0;34m)\u001b[0m\u001b[0;34m,\u001b[0m \u001b[0;34m\"iso-8859-1\"\u001b[0m\u001b[0;34m)\u001b[0m\u001b[0;34m\u001b[0m\u001b[0;34m\u001b[0m\u001b[0m\n\u001b[0m\u001b[1;32m    282\u001b[0m         \u001b[0;32mif\u001b[0m \u001b[0mlen\u001b[0m\u001b[0;34m(\u001b[0m\u001b[0mline\u001b[0m\u001b[0;34m)\u001b[0m \u001b[0;34m>\u001b[0m \u001b[0m_MAXLINE\u001b[0m\u001b[0;34m:\u001b[0m\u001b[0;34m\u001b[0m\u001b[0;34m\u001b[0m\u001b[0m\n\u001b[1;32m    283\u001b[0m             \u001b[0;32mraise\u001b[0m \u001b[0mLineTooLong\u001b[0m\u001b[0;34m(\u001b[0m\u001b[0;34m\"status line\"\u001b[0m\u001b[0;34m)\u001b[0m\u001b[0;34m\u001b[0m\u001b[0;34m\u001b[0m\u001b[0m\n",
      "\u001b[0;32m~/anaconda3/lib/python3.9/socket.py\u001b[0m in \u001b[0;36mreadinto\u001b[0;34m(self, b)\u001b[0m\n\u001b[1;32m    702\u001b[0m         \u001b[0;32mwhile\u001b[0m \u001b[0;32mTrue\u001b[0m\u001b[0;34m:\u001b[0m\u001b[0;34m\u001b[0m\u001b[0;34m\u001b[0m\u001b[0m\n\u001b[1;32m    703\u001b[0m             \u001b[0;32mtry\u001b[0m\u001b[0;34m:\u001b[0m\u001b[0;34m\u001b[0m\u001b[0;34m\u001b[0m\u001b[0m\n\u001b[0;32m--> 704\u001b[0;31m                 \u001b[0;32mreturn\u001b[0m \u001b[0mself\u001b[0m\u001b[0;34m.\u001b[0m\u001b[0m_sock\u001b[0m\u001b[0;34m.\u001b[0m\u001b[0mrecv_into\u001b[0m\u001b[0;34m(\u001b[0m\u001b[0mb\u001b[0m\u001b[0;34m)\u001b[0m\u001b[0;34m\u001b[0m\u001b[0;34m\u001b[0m\u001b[0m\n\u001b[0m\u001b[1;32m    705\u001b[0m             \u001b[0;32mexcept\u001b[0m \u001b[0mtimeout\u001b[0m\u001b[0;34m:\u001b[0m\u001b[0;34m\u001b[0m\u001b[0;34m\u001b[0m\u001b[0m\n\u001b[1;32m    706\u001b[0m                 \u001b[0mself\u001b[0m\u001b[0;34m.\u001b[0m\u001b[0m_timeout_occurred\u001b[0m \u001b[0;34m=\u001b[0m \u001b[0;32mTrue\u001b[0m\u001b[0;34m\u001b[0m\u001b[0;34m\u001b[0m\u001b[0m\n",
      "\u001b[0;31mKeyboardInterrupt\u001b[0m: "
     ]
    }
   ],
   "source": [
    "allCommitSha = [\"066f4cf207359e06d30911a553dedd054aef595c\", \"5c9d8989f968d0ee3a942b411ef7fe121ed94609\", \"12442bd8c7cde6e7c006a6277eeb8e81ad0c2219\", \"3ed1f1a064a10e53adc2ad8c0b46a4b2c148ee21\", \"59e5152722198526c6ffe5361de7d1a6a87275c7\"]\n",
    "allowedCkMetrics = [\"cbo\", \"loc\", \"wmc\"]\n",
    "\n",
    "for sha in allCommitSha:\n",
    "    dataRepo = getAllJoularDataForMethodsHaving30Values(sha)\n",
    "    sortedDataRepo = sortData(dataRepo)\n",
    "    dataRepoWithoutOutliers = removeOutliers(sortedDataRepo)\n",
    "    createViolinJoular(dataRepoWithoutOutliers)\n",
    "    for i in range(5):\n",
    "        fir = make_subplots(rows=1, cols=2)\n",
    "        # JOULAR DATA\n",
    "        joularData = dataRepoWithoutOutliers[i][\"allValues\"]\n",
    "        joularDataFrame = prepareJoularDataFrame(joularData)\n",
    "        figBoxPlot = createBoxplot(joularDataFrame, \"Joular values for \" + methodSignature + \" (\" + className + \")\")\n",
    "\n",
    "        # CK DATA\n",
    "        className = dataRepoWithoutOutliers[i][\"measurableElement\"][\"className\"]\n",
    "        methodSignature = dataRepoWithoutOutliers[i][\"measurableElement\"][\"methodSignature\"]\n",
    "        ckValues = getSeveralCkDataForOneMethod(commitSha=sha, className=className, methodSignature=methodSignature, ckMetrics=allowedCkMetrics)\n",
    "        ckDataFrame = prepareCkDataFrame(ckValues)\n",
    "        figBarChart = createBarChart(ckDataFrame, \"Metric\", \"Value\", \"Ck metrics for \" + methodSignature + \" (\" + className + \")\")\n",
    "\n",
    "        # SUB PLOT\n",
    "        title = \"Method \" + methodSignature + \" of the class \" + className\n",
    "        createSubplot(figBoxPlot, figBarChart, title)\n",
    "\n",
    "    #dataRepoWithoutOutliers = getTheFirstHighestValues(dataRepoWithoutOutliers, 2)\n",
    "    #createViolinJoular(dataRepoWithoutOutliers, \"Class\", \"outliers\")\n"
   ]
  },
  {
   "cell_type": "markdown",
   "id": "135c15c9",
   "metadata": {},
   "source": [
    "# Test "
   ]
  },
  {
   "cell_type": "code",
   "execution_count": 2,
   "id": "b2e76a1d",
   "metadata": {},
   "outputs": [],
   "source": [
    "def getJoularDataFromOneMethodFromOneCommit(commitSha, className, methodSignature):\n",
    "    URL = BASE_URL + \"/joular-entities/by-commit-and-ast-elem/\" + commitSha\n",
    "    PARAMS = {\"className\":className, \"methodSignature\":methodSignature}\n",
    "    r = requests.get(url = URL, params = PARAMS)\n",
    "    return r.json()"
   ]
  },
  {
   "cell_type": "code",
   "execution_count": 3,
   "id": "e31a2951",
   "metadata": {},
   "outputs": [],
   "source": [
    "def getCkDataFromOneCommit(commitSha, astElem, className, methodSignature=None):\n",
    "    URL = BASE_URL + \"/ck-entities/by-commit-and-ast-elem/\" + commitSha\n",
    "    if methodSignature != None:\n",
    "        PARAMS = {\"astElem\": astElem, \"className\":className, \"methodSignature\":methodSignature}\n",
    "    else:\n",
    "        PARAMS = {\"astElem\": astElem, \"className\":className}\n",
    "    r = requests.get(url = URL, params = PARAMS)\n",
    "    return r.json()"
   ]
  },
  {
   "cell_type": "code",
   "execution_count": 4,
   "id": "bddfb070",
   "metadata": {},
   "outputs": [],
   "source": [
    "def createJoularBoxplot(commitSha, className, methodSignature):\n",
    "    data = getJoularDataFromOneMethodFromOneCommit(commitSha, className, methodSignature)\n",
    "    values = [item[\"value\"] for item in data[\"content\"] if item[\"value\"] > 0]\n",
    "    df = pd.DataFrame({\"value\":values})\n",
    "    fig = px.box(df, y=\"value\", title=\"Joular values for \" + methodSignature, points='all')\n",
    "    fig.show()"
   ]
  },
  {
   "cell_type": "code",
   "execution_count": 5,
   "id": "a4900258",
   "metadata": {},
   "outputs": [],
   "source": [
    "def createCkBarChart(commitSha, astElem, className, methodSignature):\n",
    "    NAMES = [\"wmc\", \"cbo\", \"cboModified\", \"loc\", \"fanin\", \"fanout\"]\n",
    "    data = getCkDataFromOneCommit(commitSha, astElem, className, methodSignature)\n",
    "    values = {item[\"name\"]:item[\"value\"] for item in data[\"content\"] if item[\"name\"] in NAMES}\n",
    "    df = pd.DataFrame(list(values.items()), columns=[\"Metric\", \"Value\"])\n",
    "    fig = px.bar(df, x=\"Metric\", y=\"Value\", title=\"Ck metrics for \" + methodSignature)\n",
    "    fig.show()"
   ]
  },
  {
   "cell_type": "code",
   "execution_count": 6,
   "id": "b65d1f00",
   "metadata": {},
   "outputs": [],
   "source": [
    "def createBoxplotAndBarChart(commitSha, astElem, className, methodSignature):\n",
    "    createJoularBoxplot(commitSha, className, methodSignature)\n",
    "    createCkBarChart(commitSha, astElem, className, methodSignature)"
   ]
  },
  {
   "cell_type": "code",
   "execution_count": null,
   "id": "c18fcf08",
   "metadata": {},
   "outputs": [],
   "source": [
    "createBoxplotAndBarChart(\"3ed1f1a064a10e53adc2ad8c0b46a4b2c148ee21\", \"method\", \"org.springframework.boot.web.servlet.server.StaticResourceJars\", \"isResourcesJar/1[java.util.jar.JarFile]\")\n",
    "\n",
    "createBoxplotAndBarChart(\"12442bd8c7cde6e7c006a6277eeb8e81ad0c2219\", \"method\", \"org.hibernate.engine.jdbc.internal.ResultSetReturnImpl\", \"executeUpdate/2[java.sql.PreparedStatement,java.lang.String]\")\n",
    "\n",
    "createBoxplotAndBarChart(\"12442bd8c7cde6e7c006a6277eeb8e81ad0c2219\", \"method\", \"org.hibernate.bytecode.internal.bytebuddy.ByteBuddyState\", \"make/2[TypePool,DynamicType.Builder<?>]\")\n",
    "\n",
    "createBoxplotAndBarChart(\"12442bd8c7cde6e7c006a6277eeb8e81ad0c2219\", \"method\", \"org.hibernate.boot.registry.classloading.internal.AggregatedServiceLoader$ClassPathAndModulePathAggregatedServiceLoader\", \"hasNextIgnoringServiceConfigurationError/1[java.util.Iterator<?>]\")\n",
    "\n",
    "createBoxplotAndBarChart(\"3ed1f1a064a10e53adc2ad8c0b46a4b2c148ee21\", \"method\", \"org.springframework.boot.web.embedded.tomcat.TomcatWebServer\", \"initialize/0\")\n",
    "\n",
    "createBoxplotAndBarChart(\"12442bd8c7cde6e7c006a6277eeb8e81ad0c2219\", \"method\", \"org.hibernate.testing.junit4.FailureExpectedHandler\", \"evaluate/0\")"
   ]
  },
  {
   "cell_type": "code",
   "execution_count": null,
   "id": "052bc054",
   "metadata": {},
   "outputs": [],
   "source": [
    "createBoxplotAndBarChart(\"3ed1f1a064a10e53adc2ad8c0b46a4b2c148ee21\", \"method\", \"org.springframework.boot.testsupport.classpath.ModifiedClassPathClassLoader\", \"loadClass/1[java.lang.String]\")"
   ]
  },
  {
   "cell_type": "code",
   "execution_count": null,
   "id": "83195150",
   "metadata": {},
   "outputs": [],
   "source": [
    "createBoxplotAndBarChart(\"12442bd8c7cde6e7c006a6277eeb8e81ad0c2219\", \"method\", \"org.hibernate.boot.registry.classloading.internal.AggregatedClassLoader\", \"getResources/1[java.lang.String]\")"
   ]
  },
  {
   "cell_type": "markdown",
   "id": "73e26baf",
   "metadata": {},
   "source": [
    "### Data with aberrant negative values"
   ]
  },
  {
   "cell_type": "markdown",
   "id": "18e40d75",
   "metadata": {},
   "source": [
    "The method *verifyCollection* has the value -530894."
   ]
  },
  {
   "cell_type": "code",
   "execution_count": 12,
   "id": "f4ced1b6",
   "metadata": {},
   "outputs": [
    {
     "data": {
      "application/vnd.plotly.v1+json": {
       "config": {
        "plotlyServerURL": "https://plot.ly"
       },
       "data": [
        {
         "alignmentgroup": "True",
         "boxpoints": "all",
         "hovertemplate": "value=%{y}<extra></extra>",
         "legendgroup": "",
         "marker": {
          "color": "#636efa"
         },
         "name": "",
         "notched": false,
         "offsetgroup": "",
         "orientation": "v",
         "showlegend": false,
         "type": "box",
         "x0": " ",
         "xaxis": "x",
         "y": [
          2447.6365,
          2065.3115,
          1326.6776,
          673.3402,
          1856.8226,
          1936.292,
          982.7851,
          1622.643,
          704.3833,
          1021.2117,
          715.8927,
          1556.0546,
          1047.2329,
          1328.5665,
          1090.3383,
          808.716,
          687.1132,
          4138.0137,
          1033.6013,
          1016.9235,
          1786.1046,
          2161.96,
          1025.6064,
          1013.4403,
          1354.6024,
          966.9833,
          1346.163,
          956.9854,
          9.2763
         ],
         "y0": " ",
         "yaxis": "y"
        }
       ],
       "layout": {
        "boxmode": "group",
        "legend": {
         "tracegroupgap": 0
        },
        "template": {
         "data": {
          "bar": [
           {
            "error_x": {
             "color": "#2a3f5f"
            },
            "error_y": {
             "color": "#2a3f5f"
            },
            "marker": {
             "line": {
              "color": "#E5ECF6",
              "width": 0.5
             },
             "pattern": {
              "fillmode": "overlay",
              "size": 10,
              "solidity": 0.2
             }
            },
            "type": "bar"
           }
          ],
          "barpolar": [
           {
            "marker": {
             "line": {
              "color": "#E5ECF6",
              "width": 0.5
             },
             "pattern": {
              "fillmode": "overlay",
              "size": 10,
              "solidity": 0.2
             }
            },
            "type": "barpolar"
           }
          ],
          "carpet": [
           {
            "aaxis": {
             "endlinecolor": "#2a3f5f",
             "gridcolor": "white",
             "linecolor": "white",
             "minorgridcolor": "white",
             "startlinecolor": "#2a3f5f"
            },
            "baxis": {
             "endlinecolor": "#2a3f5f",
             "gridcolor": "white",
             "linecolor": "white",
             "minorgridcolor": "white",
             "startlinecolor": "#2a3f5f"
            },
            "type": "carpet"
           }
          ],
          "choropleth": [
           {
            "colorbar": {
             "outlinewidth": 0,
             "ticks": ""
            },
            "type": "choropleth"
           }
          ],
          "contour": [
           {
            "colorbar": {
             "outlinewidth": 0,
             "ticks": ""
            },
            "colorscale": [
             [
              0,
              "#0d0887"
             ],
             [
              0.1111111111111111,
              "#46039f"
             ],
             [
              0.2222222222222222,
              "#7201a8"
             ],
             [
              0.3333333333333333,
              "#9c179e"
             ],
             [
              0.4444444444444444,
              "#bd3786"
             ],
             [
              0.5555555555555556,
              "#d8576b"
             ],
             [
              0.6666666666666666,
              "#ed7953"
             ],
             [
              0.7777777777777778,
              "#fb9f3a"
             ],
             [
              0.8888888888888888,
              "#fdca26"
             ],
             [
              1,
              "#f0f921"
             ]
            ],
            "type": "contour"
           }
          ],
          "contourcarpet": [
           {
            "colorbar": {
             "outlinewidth": 0,
             "ticks": ""
            },
            "type": "contourcarpet"
           }
          ],
          "heatmap": [
           {
            "colorbar": {
             "outlinewidth": 0,
             "ticks": ""
            },
            "colorscale": [
             [
              0,
              "#0d0887"
             ],
             [
              0.1111111111111111,
              "#46039f"
             ],
             [
              0.2222222222222222,
              "#7201a8"
             ],
             [
              0.3333333333333333,
              "#9c179e"
             ],
             [
              0.4444444444444444,
              "#bd3786"
             ],
             [
              0.5555555555555556,
              "#d8576b"
             ],
             [
              0.6666666666666666,
              "#ed7953"
             ],
             [
              0.7777777777777778,
              "#fb9f3a"
             ],
             [
              0.8888888888888888,
              "#fdca26"
             ],
             [
              1,
              "#f0f921"
             ]
            ],
            "type": "heatmap"
           }
          ],
          "heatmapgl": [
           {
            "colorbar": {
             "outlinewidth": 0,
             "ticks": ""
            },
            "colorscale": [
             [
              0,
              "#0d0887"
             ],
             [
              0.1111111111111111,
              "#46039f"
             ],
             [
              0.2222222222222222,
              "#7201a8"
             ],
             [
              0.3333333333333333,
              "#9c179e"
             ],
             [
              0.4444444444444444,
              "#bd3786"
             ],
             [
              0.5555555555555556,
              "#d8576b"
             ],
             [
              0.6666666666666666,
              "#ed7953"
             ],
             [
              0.7777777777777778,
              "#fb9f3a"
             ],
             [
              0.8888888888888888,
              "#fdca26"
             ],
             [
              1,
              "#f0f921"
             ]
            ],
            "type": "heatmapgl"
           }
          ],
          "histogram": [
           {
            "marker": {
             "pattern": {
              "fillmode": "overlay",
              "size": 10,
              "solidity": 0.2
             }
            },
            "type": "histogram"
           }
          ],
          "histogram2d": [
           {
            "colorbar": {
             "outlinewidth": 0,
             "ticks": ""
            },
            "colorscale": [
             [
              0,
              "#0d0887"
             ],
             [
              0.1111111111111111,
              "#46039f"
             ],
             [
              0.2222222222222222,
              "#7201a8"
             ],
             [
              0.3333333333333333,
              "#9c179e"
             ],
             [
              0.4444444444444444,
              "#bd3786"
             ],
             [
              0.5555555555555556,
              "#d8576b"
             ],
             [
              0.6666666666666666,
              "#ed7953"
             ],
             [
              0.7777777777777778,
              "#fb9f3a"
             ],
             [
              0.8888888888888888,
              "#fdca26"
             ],
             [
              1,
              "#f0f921"
             ]
            ],
            "type": "histogram2d"
           }
          ],
          "histogram2dcontour": [
           {
            "colorbar": {
             "outlinewidth": 0,
             "ticks": ""
            },
            "colorscale": [
             [
              0,
              "#0d0887"
             ],
             [
              0.1111111111111111,
              "#46039f"
             ],
             [
              0.2222222222222222,
              "#7201a8"
             ],
             [
              0.3333333333333333,
              "#9c179e"
             ],
             [
              0.4444444444444444,
              "#bd3786"
             ],
             [
              0.5555555555555556,
              "#d8576b"
             ],
             [
              0.6666666666666666,
              "#ed7953"
             ],
             [
              0.7777777777777778,
              "#fb9f3a"
             ],
             [
              0.8888888888888888,
              "#fdca26"
             ],
             [
              1,
              "#f0f921"
             ]
            ],
            "type": "histogram2dcontour"
           }
          ],
          "mesh3d": [
           {
            "colorbar": {
             "outlinewidth": 0,
             "ticks": ""
            },
            "type": "mesh3d"
           }
          ],
          "parcoords": [
           {
            "line": {
             "colorbar": {
              "outlinewidth": 0,
              "ticks": ""
             }
            },
            "type": "parcoords"
           }
          ],
          "pie": [
           {
            "automargin": true,
            "type": "pie"
           }
          ],
          "scatter": [
           {
            "fillpattern": {
             "fillmode": "overlay",
             "size": 10,
             "solidity": 0.2
            },
            "type": "scatter"
           }
          ],
          "scatter3d": [
           {
            "line": {
             "colorbar": {
              "outlinewidth": 0,
              "ticks": ""
             }
            },
            "marker": {
             "colorbar": {
              "outlinewidth": 0,
              "ticks": ""
             }
            },
            "type": "scatter3d"
           }
          ],
          "scattercarpet": [
           {
            "marker": {
             "colorbar": {
              "outlinewidth": 0,
              "ticks": ""
             }
            },
            "type": "scattercarpet"
           }
          ],
          "scattergeo": [
           {
            "marker": {
             "colorbar": {
              "outlinewidth": 0,
              "ticks": ""
             }
            },
            "type": "scattergeo"
           }
          ],
          "scattergl": [
           {
            "marker": {
             "colorbar": {
              "outlinewidth": 0,
              "ticks": ""
             }
            },
            "type": "scattergl"
           }
          ],
          "scattermapbox": [
           {
            "marker": {
             "colorbar": {
              "outlinewidth": 0,
              "ticks": ""
             }
            },
            "type": "scattermapbox"
           }
          ],
          "scatterpolar": [
           {
            "marker": {
             "colorbar": {
              "outlinewidth": 0,
              "ticks": ""
             }
            },
            "type": "scatterpolar"
           }
          ],
          "scatterpolargl": [
           {
            "marker": {
             "colorbar": {
              "outlinewidth": 0,
              "ticks": ""
             }
            },
            "type": "scatterpolargl"
           }
          ],
          "scatterternary": [
           {
            "marker": {
             "colorbar": {
              "outlinewidth": 0,
              "ticks": ""
             }
            },
            "type": "scatterternary"
           }
          ],
          "surface": [
           {
            "colorbar": {
             "outlinewidth": 0,
             "ticks": ""
            },
            "colorscale": [
             [
              0,
              "#0d0887"
             ],
             [
              0.1111111111111111,
              "#46039f"
             ],
             [
              0.2222222222222222,
              "#7201a8"
             ],
             [
              0.3333333333333333,
              "#9c179e"
             ],
             [
              0.4444444444444444,
              "#bd3786"
             ],
             [
              0.5555555555555556,
              "#d8576b"
             ],
             [
              0.6666666666666666,
              "#ed7953"
             ],
             [
              0.7777777777777778,
              "#fb9f3a"
             ],
             [
              0.8888888888888888,
              "#fdca26"
             ],
             [
              1,
              "#f0f921"
             ]
            ],
            "type": "surface"
           }
          ],
          "table": [
           {
            "cells": {
             "fill": {
              "color": "#EBF0F8"
             },
             "line": {
              "color": "white"
             }
            },
            "header": {
             "fill": {
              "color": "#C8D4E3"
             },
             "line": {
              "color": "white"
             }
            },
            "type": "table"
           }
          ]
         },
         "layout": {
          "annotationdefaults": {
           "arrowcolor": "#2a3f5f",
           "arrowhead": 0,
           "arrowwidth": 1
          },
          "autotypenumbers": "strict",
          "coloraxis": {
           "colorbar": {
            "outlinewidth": 0,
            "ticks": ""
           }
          },
          "colorscale": {
           "diverging": [
            [
             0,
             "#8e0152"
            ],
            [
             0.1,
             "#c51b7d"
            ],
            [
             0.2,
             "#de77ae"
            ],
            [
             0.3,
             "#f1b6da"
            ],
            [
             0.4,
             "#fde0ef"
            ],
            [
             0.5,
             "#f7f7f7"
            ],
            [
             0.6,
             "#e6f5d0"
            ],
            [
             0.7,
             "#b8e186"
            ],
            [
             0.8,
             "#7fbc41"
            ],
            [
             0.9,
             "#4d9221"
            ],
            [
             1,
             "#276419"
            ]
           ],
           "sequential": [
            [
             0,
             "#0d0887"
            ],
            [
             0.1111111111111111,
             "#46039f"
            ],
            [
             0.2222222222222222,
             "#7201a8"
            ],
            [
             0.3333333333333333,
             "#9c179e"
            ],
            [
             0.4444444444444444,
             "#bd3786"
            ],
            [
             0.5555555555555556,
             "#d8576b"
            ],
            [
             0.6666666666666666,
             "#ed7953"
            ],
            [
             0.7777777777777778,
             "#fb9f3a"
            ],
            [
             0.8888888888888888,
             "#fdca26"
            ],
            [
             1,
             "#f0f921"
            ]
           ],
           "sequentialminus": [
            [
             0,
             "#0d0887"
            ],
            [
             0.1111111111111111,
             "#46039f"
            ],
            [
             0.2222222222222222,
             "#7201a8"
            ],
            [
             0.3333333333333333,
             "#9c179e"
            ],
            [
             0.4444444444444444,
             "#bd3786"
            ],
            [
             0.5555555555555556,
             "#d8576b"
            ],
            [
             0.6666666666666666,
             "#ed7953"
            ],
            [
             0.7777777777777778,
             "#fb9f3a"
            ],
            [
             0.8888888888888888,
             "#fdca26"
            ],
            [
             1,
             "#f0f921"
            ]
           ]
          },
          "colorway": [
           "#636efa",
           "#EF553B",
           "#00cc96",
           "#ab63fa",
           "#FFA15A",
           "#19d3f3",
           "#FF6692",
           "#B6E880",
           "#FF97FF",
           "#FECB52"
          ],
          "font": {
           "color": "#2a3f5f"
          },
          "geo": {
           "bgcolor": "white",
           "lakecolor": "white",
           "landcolor": "#E5ECF6",
           "showlakes": true,
           "showland": true,
           "subunitcolor": "white"
          },
          "hoverlabel": {
           "align": "left"
          },
          "hovermode": "closest",
          "mapbox": {
           "style": "light"
          },
          "paper_bgcolor": "white",
          "plot_bgcolor": "#E5ECF6",
          "polar": {
           "angularaxis": {
            "gridcolor": "white",
            "linecolor": "white",
            "ticks": ""
           },
           "bgcolor": "#E5ECF6",
           "radialaxis": {
            "gridcolor": "white",
            "linecolor": "white",
            "ticks": ""
           }
          },
          "scene": {
           "xaxis": {
            "backgroundcolor": "#E5ECF6",
            "gridcolor": "white",
            "gridwidth": 2,
            "linecolor": "white",
            "showbackground": true,
            "ticks": "",
            "zerolinecolor": "white"
           },
           "yaxis": {
            "backgroundcolor": "#E5ECF6",
            "gridcolor": "white",
            "gridwidth": 2,
            "linecolor": "white",
            "showbackground": true,
            "ticks": "",
            "zerolinecolor": "white"
           },
           "zaxis": {
            "backgroundcolor": "#E5ECF6",
            "gridcolor": "white",
            "gridwidth": 2,
            "linecolor": "white",
            "showbackground": true,
            "ticks": "",
            "zerolinecolor": "white"
           }
          },
          "shapedefaults": {
           "line": {
            "color": "#2a3f5f"
           }
          },
          "ternary": {
           "aaxis": {
            "gridcolor": "white",
            "linecolor": "white",
            "ticks": ""
           },
           "baxis": {
            "gridcolor": "white",
            "linecolor": "white",
            "ticks": ""
           },
           "bgcolor": "#E5ECF6",
           "caxis": {
            "gridcolor": "white",
            "linecolor": "white",
            "ticks": ""
           }
          },
          "title": {
           "x": 0.05
          },
          "xaxis": {
           "automargin": true,
           "gridcolor": "white",
           "linecolor": "white",
           "ticks": "",
           "title": {
            "standoff": 15
           },
           "zerolinecolor": "white",
           "zerolinewidth": 2
          },
          "yaxis": {
           "automargin": true,
           "gridcolor": "white",
           "linecolor": "white",
           "ticks": "",
           "title": {
            "standoff": 15
           },
           "zerolinecolor": "white",
           "zerolinewidth": 2
          }
         }
        },
        "title": {
         "text": "Joular values for verifyCollection/3[java.lang.ref.ReferenceQueue<T>,int,int]"
        },
        "xaxis": {
         "anchor": "y",
         "domain": [
          0,
          1
         ]
        },
        "yaxis": {
         "anchor": "x",
         "domain": [
          0,
          1
         ],
         "title": {
          "text": "value"
         }
        }
       }
      }
     },
     "metadata": {},
     "output_type": "display_data"
    },
    {
     "data": {
      "application/vnd.plotly.v1+json": {
       "config": {
        "plotlyServerURL": "https://plot.ly"
       },
       "data": [
        {
         "alignmentgroup": "True",
         "hovertemplate": "Metric=%{x}<br>Value=%{y}<extra></extra>",
         "legendgroup": "",
         "marker": {
          "color": "#636efa",
          "pattern": {
           "shape": ""
          }
         },
         "name": "",
         "offsetgroup": "",
         "orientation": "v",
         "showlegend": false,
         "textposition": "auto",
         "type": "bar",
         "x": [
          "loc",
          "fanout",
          "wmc",
          "cbo",
          "fanin",
          "cboModified"
         ],
         "xaxis": "x",
         "y": [
          15,
          0,
          4,
          1,
          1,
          1
         ],
         "yaxis": "y"
        }
       ],
       "layout": {
        "barmode": "relative",
        "legend": {
         "tracegroupgap": 0
        },
        "template": {
         "data": {
          "bar": [
           {
            "error_x": {
             "color": "#2a3f5f"
            },
            "error_y": {
             "color": "#2a3f5f"
            },
            "marker": {
             "line": {
              "color": "#E5ECF6",
              "width": 0.5
             },
             "pattern": {
              "fillmode": "overlay",
              "size": 10,
              "solidity": 0.2
             }
            },
            "type": "bar"
           }
          ],
          "barpolar": [
           {
            "marker": {
             "line": {
              "color": "#E5ECF6",
              "width": 0.5
             },
             "pattern": {
              "fillmode": "overlay",
              "size": 10,
              "solidity": 0.2
             }
            },
            "type": "barpolar"
           }
          ],
          "carpet": [
           {
            "aaxis": {
             "endlinecolor": "#2a3f5f",
             "gridcolor": "white",
             "linecolor": "white",
             "minorgridcolor": "white",
             "startlinecolor": "#2a3f5f"
            },
            "baxis": {
             "endlinecolor": "#2a3f5f",
             "gridcolor": "white",
             "linecolor": "white",
             "minorgridcolor": "white",
             "startlinecolor": "#2a3f5f"
            },
            "type": "carpet"
           }
          ],
          "choropleth": [
           {
            "colorbar": {
             "outlinewidth": 0,
             "ticks": ""
            },
            "type": "choropleth"
           }
          ],
          "contour": [
           {
            "colorbar": {
             "outlinewidth": 0,
             "ticks": ""
            },
            "colorscale": [
             [
              0,
              "#0d0887"
             ],
             [
              0.1111111111111111,
              "#46039f"
             ],
             [
              0.2222222222222222,
              "#7201a8"
             ],
             [
              0.3333333333333333,
              "#9c179e"
             ],
             [
              0.4444444444444444,
              "#bd3786"
             ],
             [
              0.5555555555555556,
              "#d8576b"
             ],
             [
              0.6666666666666666,
              "#ed7953"
             ],
             [
              0.7777777777777778,
              "#fb9f3a"
             ],
             [
              0.8888888888888888,
              "#fdca26"
             ],
             [
              1,
              "#f0f921"
             ]
            ],
            "type": "contour"
           }
          ],
          "contourcarpet": [
           {
            "colorbar": {
             "outlinewidth": 0,
             "ticks": ""
            },
            "type": "contourcarpet"
           }
          ],
          "heatmap": [
           {
            "colorbar": {
             "outlinewidth": 0,
             "ticks": ""
            },
            "colorscale": [
             [
              0,
              "#0d0887"
             ],
             [
              0.1111111111111111,
              "#46039f"
             ],
             [
              0.2222222222222222,
              "#7201a8"
             ],
             [
              0.3333333333333333,
              "#9c179e"
             ],
             [
              0.4444444444444444,
              "#bd3786"
             ],
             [
              0.5555555555555556,
              "#d8576b"
             ],
             [
              0.6666666666666666,
              "#ed7953"
             ],
             [
              0.7777777777777778,
              "#fb9f3a"
             ],
             [
              0.8888888888888888,
              "#fdca26"
             ],
             [
              1,
              "#f0f921"
             ]
            ],
            "type": "heatmap"
           }
          ],
          "heatmapgl": [
           {
            "colorbar": {
             "outlinewidth": 0,
             "ticks": ""
            },
            "colorscale": [
             [
              0,
              "#0d0887"
             ],
             [
              0.1111111111111111,
              "#46039f"
             ],
             [
              0.2222222222222222,
              "#7201a8"
             ],
             [
              0.3333333333333333,
              "#9c179e"
             ],
             [
              0.4444444444444444,
              "#bd3786"
             ],
             [
              0.5555555555555556,
              "#d8576b"
             ],
             [
              0.6666666666666666,
              "#ed7953"
             ],
             [
              0.7777777777777778,
              "#fb9f3a"
             ],
             [
              0.8888888888888888,
              "#fdca26"
             ],
             [
              1,
              "#f0f921"
             ]
            ],
            "type": "heatmapgl"
           }
          ],
          "histogram": [
           {
            "marker": {
             "pattern": {
              "fillmode": "overlay",
              "size": 10,
              "solidity": 0.2
             }
            },
            "type": "histogram"
           }
          ],
          "histogram2d": [
           {
            "colorbar": {
             "outlinewidth": 0,
             "ticks": ""
            },
            "colorscale": [
             [
              0,
              "#0d0887"
             ],
             [
              0.1111111111111111,
              "#46039f"
             ],
             [
              0.2222222222222222,
              "#7201a8"
             ],
             [
              0.3333333333333333,
              "#9c179e"
             ],
             [
              0.4444444444444444,
              "#bd3786"
             ],
             [
              0.5555555555555556,
              "#d8576b"
             ],
             [
              0.6666666666666666,
              "#ed7953"
             ],
             [
              0.7777777777777778,
              "#fb9f3a"
             ],
             [
              0.8888888888888888,
              "#fdca26"
             ],
             [
              1,
              "#f0f921"
             ]
            ],
            "type": "histogram2d"
           }
          ],
          "histogram2dcontour": [
           {
            "colorbar": {
             "outlinewidth": 0,
             "ticks": ""
            },
            "colorscale": [
             [
              0,
              "#0d0887"
             ],
             [
              0.1111111111111111,
              "#46039f"
             ],
             [
              0.2222222222222222,
              "#7201a8"
             ],
             [
              0.3333333333333333,
              "#9c179e"
             ],
             [
              0.4444444444444444,
              "#bd3786"
             ],
             [
              0.5555555555555556,
              "#d8576b"
             ],
             [
              0.6666666666666666,
              "#ed7953"
             ],
             [
              0.7777777777777778,
              "#fb9f3a"
             ],
             [
              0.8888888888888888,
              "#fdca26"
             ],
             [
              1,
              "#f0f921"
             ]
            ],
            "type": "histogram2dcontour"
           }
          ],
          "mesh3d": [
           {
            "colorbar": {
             "outlinewidth": 0,
             "ticks": ""
            },
            "type": "mesh3d"
           }
          ],
          "parcoords": [
           {
            "line": {
             "colorbar": {
              "outlinewidth": 0,
              "ticks": ""
             }
            },
            "type": "parcoords"
           }
          ],
          "pie": [
           {
            "automargin": true,
            "type": "pie"
           }
          ],
          "scatter": [
           {
            "fillpattern": {
             "fillmode": "overlay",
             "size": 10,
             "solidity": 0.2
            },
            "type": "scatter"
           }
          ],
          "scatter3d": [
           {
            "line": {
             "colorbar": {
              "outlinewidth": 0,
              "ticks": ""
             }
            },
            "marker": {
             "colorbar": {
              "outlinewidth": 0,
              "ticks": ""
             }
            },
            "type": "scatter3d"
           }
          ],
          "scattercarpet": [
           {
            "marker": {
             "colorbar": {
              "outlinewidth": 0,
              "ticks": ""
             }
            },
            "type": "scattercarpet"
           }
          ],
          "scattergeo": [
           {
            "marker": {
             "colorbar": {
              "outlinewidth": 0,
              "ticks": ""
             }
            },
            "type": "scattergeo"
           }
          ],
          "scattergl": [
           {
            "marker": {
             "colorbar": {
              "outlinewidth": 0,
              "ticks": ""
             }
            },
            "type": "scattergl"
           }
          ],
          "scattermapbox": [
           {
            "marker": {
             "colorbar": {
              "outlinewidth": 0,
              "ticks": ""
             }
            },
            "type": "scattermapbox"
           }
          ],
          "scatterpolar": [
           {
            "marker": {
             "colorbar": {
              "outlinewidth": 0,
              "ticks": ""
             }
            },
            "type": "scatterpolar"
           }
          ],
          "scatterpolargl": [
           {
            "marker": {
             "colorbar": {
              "outlinewidth": 0,
              "ticks": ""
             }
            },
            "type": "scatterpolargl"
           }
          ],
          "scatterternary": [
           {
            "marker": {
             "colorbar": {
              "outlinewidth": 0,
              "ticks": ""
             }
            },
            "type": "scatterternary"
           }
          ],
          "surface": [
           {
            "colorbar": {
             "outlinewidth": 0,
             "ticks": ""
            },
            "colorscale": [
             [
              0,
              "#0d0887"
             ],
             [
              0.1111111111111111,
              "#46039f"
             ],
             [
              0.2222222222222222,
              "#7201a8"
             ],
             [
              0.3333333333333333,
              "#9c179e"
             ],
             [
              0.4444444444444444,
              "#bd3786"
             ],
             [
              0.5555555555555556,
              "#d8576b"
             ],
             [
              0.6666666666666666,
              "#ed7953"
             ],
             [
              0.7777777777777778,
              "#fb9f3a"
             ],
             [
              0.8888888888888888,
              "#fdca26"
             ],
             [
              1,
              "#f0f921"
             ]
            ],
            "type": "surface"
           }
          ],
          "table": [
           {
            "cells": {
             "fill": {
              "color": "#EBF0F8"
             },
             "line": {
              "color": "white"
             }
            },
            "header": {
             "fill": {
              "color": "#C8D4E3"
             },
             "line": {
              "color": "white"
             }
            },
            "type": "table"
           }
          ]
         },
         "layout": {
          "annotationdefaults": {
           "arrowcolor": "#2a3f5f",
           "arrowhead": 0,
           "arrowwidth": 1
          },
          "autotypenumbers": "strict",
          "coloraxis": {
           "colorbar": {
            "outlinewidth": 0,
            "ticks": ""
           }
          },
          "colorscale": {
           "diverging": [
            [
             0,
             "#8e0152"
            ],
            [
             0.1,
             "#c51b7d"
            ],
            [
             0.2,
             "#de77ae"
            ],
            [
             0.3,
             "#f1b6da"
            ],
            [
             0.4,
             "#fde0ef"
            ],
            [
             0.5,
             "#f7f7f7"
            ],
            [
             0.6,
             "#e6f5d0"
            ],
            [
             0.7,
             "#b8e186"
            ],
            [
             0.8,
             "#7fbc41"
            ],
            [
             0.9,
             "#4d9221"
            ],
            [
             1,
             "#276419"
            ]
           ],
           "sequential": [
            [
             0,
             "#0d0887"
            ],
            [
             0.1111111111111111,
             "#46039f"
            ],
            [
             0.2222222222222222,
             "#7201a8"
            ],
            [
             0.3333333333333333,
             "#9c179e"
            ],
            [
             0.4444444444444444,
             "#bd3786"
            ],
            [
             0.5555555555555556,
             "#d8576b"
            ],
            [
             0.6666666666666666,
             "#ed7953"
            ],
            [
             0.7777777777777778,
             "#fb9f3a"
            ],
            [
             0.8888888888888888,
             "#fdca26"
            ],
            [
             1,
             "#f0f921"
            ]
           ],
           "sequentialminus": [
            [
             0,
             "#0d0887"
            ],
            [
             0.1111111111111111,
             "#46039f"
            ],
            [
             0.2222222222222222,
             "#7201a8"
            ],
            [
             0.3333333333333333,
             "#9c179e"
            ],
            [
             0.4444444444444444,
             "#bd3786"
            ],
            [
             0.5555555555555556,
             "#d8576b"
            ],
            [
             0.6666666666666666,
             "#ed7953"
            ],
            [
             0.7777777777777778,
             "#fb9f3a"
            ],
            [
             0.8888888888888888,
             "#fdca26"
            ],
            [
             1,
             "#f0f921"
            ]
           ]
          },
          "colorway": [
           "#636efa",
           "#EF553B",
           "#00cc96",
           "#ab63fa",
           "#FFA15A",
           "#19d3f3",
           "#FF6692",
           "#B6E880",
           "#FF97FF",
           "#FECB52"
          ],
          "font": {
           "color": "#2a3f5f"
          },
          "geo": {
           "bgcolor": "white",
           "lakecolor": "white",
           "landcolor": "#E5ECF6",
           "showlakes": true,
           "showland": true,
           "subunitcolor": "white"
          },
          "hoverlabel": {
           "align": "left"
          },
          "hovermode": "closest",
          "mapbox": {
           "style": "light"
          },
          "paper_bgcolor": "white",
          "plot_bgcolor": "#E5ECF6",
          "polar": {
           "angularaxis": {
            "gridcolor": "white",
            "linecolor": "white",
            "ticks": ""
           },
           "bgcolor": "#E5ECF6",
           "radialaxis": {
            "gridcolor": "white",
            "linecolor": "white",
            "ticks": ""
           }
          },
          "scene": {
           "xaxis": {
            "backgroundcolor": "#E5ECF6",
            "gridcolor": "white",
            "gridwidth": 2,
            "linecolor": "white",
            "showbackground": true,
            "ticks": "",
            "zerolinecolor": "white"
           },
           "yaxis": {
            "backgroundcolor": "#E5ECF6",
            "gridcolor": "white",
            "gridwidth": 2,
            "linecolor": "white",
            "showbackground": true,
            "ticks": "",
            "zerolinecolor": "white"
           },
           "zaxis": {
            "backgroundcolor": "#E5ECF6",
            "gridcolor": "white",
            "gridwidth": 2,
            "linecolor": "white",
            "showbackground": true,
            "ticks": "",
            "zerolinecolor": "white"
           }
          },
          "shapedefaults": {
           "line": {
            "color": "#2a3f5f"
           }
          },
          "ternary": {
           "aaxis": {
            "gridcolor": "white",
            "linecolor": "white",
            "ticks": ""
           },
           "baxis": {
            "gridcolor": "white",
            "linecolor": "white",
            "ticks": ""
           },
           "bgcolor": "#E5ECF6",
           "caxis": {
            "gridcolor": "white",
            "linecolor": "white",
            "ticks": ""
           }
          },
          "title": {
           "x": 0.05
          },
          "xaxis": {
           "automargin": true,
           "gridcolor": "white",
           "linecolor": "white",
           "ticks": "",
           "title": {
            "standoff": 15
           },
           "zerolinecolor": "white",
           "zerolinewidth": 2
          },
          "yaxis": {
           "automargin": true,
           "gridcolor": "white",
           "linecolor": "white",
           "ticks": "",
           "title": {
            "standoff": 15
           },
           "zerolinecolor": "white",
           "zerolinewidth": 2
          }
         }
        },
        "title": {
         "text": "Ck metrics for verifyCollection/3[java.lang.ref.ReferenceQueue<T>,int,int]"
        },
        "xaxis": {
         "anchor": "y",
         "domain": [
          0,
          1
         ],
         "title": {
          "text": "Metric"
         }
        },
        "yaxis": {
         "anchor": "x",
         "domain": [
          0,
          1
         ],
         "title": {
          "text": "Value"
         }
        }
       }
      }
     },
     "metadata": {},
     "output_type": "display_data"
    }
   ],
   "source": [
    "createBoxplotAndBarChart(\"12442bd8c7cde6e7c006a6277eeb8e81ad0c2219\", \"method\", \"org.hibernate.orm.test.bootstrap.registry.classloading.PhantomReferenceLeakDetector\", \"verifyCollection/3[java.lang.ref.ReferenceQueue<T>,int,int]\")"
   ]
  },
  {
   "cell_type": "markdown",
   "id": "60b9b7d0",
   "metadata": {},
   "source": [
    "The method *accept* below has the value -217371.5"
   ]
  },
  {
   "cell_type": "code",
   "execution_count": 13,
   "id": "3eb1a997",
   "metadata": {},
   "outputs": [
    {
     "data": {
      "application/vnd.plotly.v1+json": {
       "config": {
        "plotlyServerURL": "https://plot.ly"
       },
       "data": [
        {
         "alignmentgroup": "True",
         "boxpoints": "all",
         "hovertemplate": "value=%{y}<extra></extra>",
         "legendgroup": "",
         "marker": {
          "color": "#636efa"
         },
         "name": "",
         "notched": false,
         "offsetgroup": "",
         "orientation": "v",
         "showlegend": false,
         "type": "box",
         "x0": " ",
         "xaxis": "x",
         "y": [
          593.0794,
          544.7868,
          456.5746,
          524.5118,
          552.79456,
          553.99036,
          598.1884,
          556.4751,
          428.9034,
          285.4964,
          523.9183,
          525.3816,
          527.516,
          446.0553,
          533.80383,
          440.854,
          550.4014,
          640.0129,
          581.1479,
          530.1838,
          465.7963,
          495.8004,
          525.129,
          433.8532,
          759.2195,
          405.2569,
          517.8155,
          493.53738,
          535.6181
         ],
         "y0": " ",
         "yaxis": "y"
        }
       ],
       "layout": {
        "boxmode": "group",
        "legend": {
         "tracegroupgap": 0
        },
        "template": {
         "data": {
          "bar": [
           {
            "error_x": {
             "color": "#2a3f5f"
            },
            "error_y": {
             "color": "#2a3f5f"
            },
            "marker": {
             "line": {
              "color": "#E5ECF6",
              "width": 0.5
             },
             "pattern": {
              "fillmode": "overlay",
              "size": 10,
              "solidity": 0.2
             }
            },
            "type": "bar"
           }
          ],
          "barpolar": [
           {
            "marker": {
             "line": {
              "color": "#E5ECF6",
              "width": 0.5
             },
             "pattern": {
              "fillmode": "overlay",
              "size": 10,
              "solidity": 0.2
             }
            },
            "type": "barpolar"
           }
          ],
          "carpet": [
           {
            "aaxis": {
             "endlinecolor": "#2a3f5f",
             "gridcolor": "white",
             "linecolor": "white",
             "minorgridcolor": "white",
             "startlinecolor": "#2a3f5f"
            },
            "baxis": {
             "endlinecolor": "#2a3f5f",
             "gridcolor": "white",
             "linecolor": "white",
             "minorgridcolor": "white",
             "startlinecolor": "#2a3f5f"
            },
            "type": "carpet"
           }
          ],
          "choropleth": [
           {
            "colorbar": {
             "outlinewidth": 0,
             "ticks": ""
            },
            "type": "choropleth"
           }
          ],
          "contour": [
           {
            "colorbar": {
             "outlinewidth": 0,
             "ticks": ""
            },
            "colorscale": [
             [
              0,
              "#0d0887"
             ],
             [
              0.1111111111111111,
              "#46039f"
             ],
             [
              0.2222222222222222,
              "#7201a8"
             ],
             [
              0.3333333333333333,
              "#9c179e"
             ],
             [
              0.4444444444444444,
              "#bd3786"
             ],
             [
              0.5555555555555556,
              "#d8576b"
             ],
             [
              0.6666666666666666,
              "#ed7953"
             ],
             [
              0.7777777777777778,
              "#fb9f3a"
             ],
             [
              0.8888888888888888,
              "#fdca26"
             ],
             [
              1,
              "#f0f921"
             ]
            ],
            "type": "contour"
           }
          ],
          "contourcarpet": [
           {
            "colorbar": {
             "outlinewidth": 0,
             "ticks": ""
            },
            "type": "contourcarpet"
           }
          ],
          "heatmap": [
           {
            "colorbar": {
             "outlinewidth": 0,
             "ticks": ""
            },
            "colorscale": [
             [
              0,
              "#0d0887"
             ],
             [
              0.1111111111111111,
              "#46039f"
             ],
             [
              0.2222222222222222,
              "#7201a8"
             ],
             [
              0.3333333333333333,
              "#9c179e"
             ],
             [
              0.4444444444444444,
              "#bd3786"
             ],
             [
              0.5555555555555556,
              "#d8576b"
             ],
             [
              0.6666666666666666,
              "#ed7953"
             ],
             [
              0.7777777777777778,
              "#fb9f3a"
             ],
             [
              0.8888888888888888,
              "#fdca26"
             ],
             [
              1,
              "#f0f921"
             ]
            ],
            "type": "heatmap"
           }
          ],
          "heatmapgl": [
           {
            "colorbar": {
             "outlinewidth": 0,
             "ticks": ""
            },
            "colorscale": [
             [
              0,
              "#0d0887"
             ],
             [
              0.1111111111111111,
              "#46039f"
             ],
             [
              0.2222222222222222,
              "#7201a8"
             ],
             [
              0.3333333333333333,
              "#9c179e"
             ],
             [
              0.4444444444444444,
              "#bd3786"
             ],
             [
              0.5555555555555556,
              "#d8576b"
             ],
             [
              0.6666666666666666,
              "#ed7953"
             ],
             [
              0.7777777777777778,
              "#fb9f3a"
             ],
             [
              0.8888888888888888,
              "#fdca26"
             ],
             [
              1,
              "#f0f921"
             ]
            ],
            "type": "heatmapgl"
           }
          ],
          "histogram": [
           {
            "marker": {
             "pattern": {
              "fillmode": "overlay",
              "size": 10,
              "solidity": 0.2
             }
            },
            "type": "histogram"
           }
          ],
          "histogram2d": [
           {
            "colorbar": {
             "outlinewidth": 0,
             "ticks": ""
            },
            "colorscale": [
             [
              0,
              "#0d0887"
             ],
             [
              0.1111111111111111,
              "#46039f"
             ],
             [
              0.2222222222222222,
              "#7201a8"
             ],
             [
              0.3333333333333333,
              "#9c179e"
             ],
             [
              0.4444444444444444,
              "#bd3786"
             ],
             [
              0.5555555555555556,
              "#d8576b"
             ],
             [
              0.6666666666666666,
              "#ed7953"
             ],
             [
              0.7777777777777778,
              "#fb9f3a"
             ],
             [
              0.8888888888888888,
              "#fdca26"
             ],
             [
              1,
              "#f0f921"
             ]
            ],
            "type": "histogram2d"
           }
          ],
          "histogram2dcontour": [
           {
            "colorbar": {
             "outlinewidth": 0,
             "ticks": ""
            },
            "colorscale": [
             [
              0,
              "#0d0887"
             ],
             [
              0.1111111111111111,
              "#46039f"
             ],
             [
              0.2222222222222222,
              "#7201a8"
             ],
             [
              0.3333333333333333,
              "#9c179e"
             ],
             [
              0.4444444444444444,
              "#bd3786"
             ],
             [
              0.5555555555555556,
              "#d8576b"
             ],
             [
              0.6666666666666666,
              "#ed7953"
             ],
             [
              0.7777777777777778,
              "#fb9f3a"
             ],
             [
              0.8888888888888888,
              "#fdca26"
             ],
             [
              1,
              "#f0f921"
             ]
            ],
            "type": "histogram2dcontour"
           }
          ],
          "mesh3d": [
           {
            "colorbar": {
             "outlinewidth": 0,
             "ticks": ""
            },
            "type": "mesh3d"
           }
          ],
          "parcoords": [
           {
            "line": {
             "colorbar": {
              "outlinewidth": 0,
              "ticks": ""
             }
            },
            "type": "parcoords"
           }
          ],
          "pie": [
           {
            "automargin": true,
            "type": "pie"
           }
          ],
          "scatter": [
           {
            "fillpattern": {
             "fillmode": "overlay",
             "size": 10,
             "solidity": 0.2
            },
            "type": "scatter"
           }
          ],
          "scatter3d": [
           {
            "line": {
             "colorbar": {
              "outlinewidth": 0,
              "ticks": ""
             }
            },
            "marker": {
             "colorbar": {
              "outlinewidth": 0,
              "ticks": ""
             }
            },
            "type": "scatter3d"
           }
          ],
          "scattercarpet": [
           {
            "marker": {
             "colorbar": {
              "outlinewidth": 0,
              "ticks": ""
             }
            },
            "type": "scattercarpet"
           }
          ],
          "scattergeo": [
           {
            "marker": {
             "colorbar": {
              "outlinewidth": 0,
              "ticks": ""
             }
            },
            "type": "scattergeo"
           }
          ],
          "scattergl": [
           {
            "marker": {
             "colorbar": {
              "outlinewidth": 0,
              "ticks": ""
             }
            },
            "type": "scattergl"
           }
          ],
          "scattermapbox": [
           {
            "marker": {
             "colorbar": {
              "outlinewidth": 0,
              "ticks": ""
             }
            },
            "type": "scattermapbox"
           }
          ],
          "scatterpolar": [
           {
            "marker": {
             "colorbar": {
              "outlinewidth": 0,
              "ticks": ""
             }
            },
            "type": "scatterpolar"
           }
          ],
          "scatterpolargl": [
           {
            "marker": {
             "colorbar": {
              "outlinewidth": 0,
              "ticks": ""
             }
            },
            "type": "scatterpolargl"
           }
          ],
          "scatterternary": [
           {
            "marker": {
             "colorbar": {
              "outlinewidth": 0,
              "ticks": ""
             }
            },
            "type": "scatterternary"
           }
          ],
          "surface": [
           {
            "colorbar": {
             "outlinewidth": 0,
             "ticks": ""
            },
            "colorscale": [
             [
              0,
              "#0d0887"
             ],
             [
              0.1111111111111111,
              "#46039f"
             ],
             [
              0.2222222222222222,
              "#7201a8"
             ],
             [
              0.3333333333333333,
              "#9c179e"
             ],
             [
              0.4444444444444444,
              "#bd3786"
             ],
             [
              0.5555555555555556,
              "#d8576b"
             ],
             [
              0.6666666666666666,
              "#ed7953"
             ],
             [
              0.7777777777777778,
              "#fb9f3a"
             ],
             [
              0.8888888888888888,
              "#fdca26"
             ],
             [
              1,
              "#f0f921"
             ]
            ],
            "type": "surface"
           }
          ],
          "table": [
           {
            "cells": {
             "fill": {
              "color": "#EBF0F8"
             },
             "line": {
              "color": "white"
             }
            },
            "header": {
             "fill": {
              "color": "#C8D4E3"
             },
             "line": {
              "color": "white"
             }
            },
            "type": "table"
           }
          ]
         },
         "layout": {
          "annotationdefaults": {
           "arrowcolor": "#2a3f5f",
           "arrowhead": 0,
           "arrowwidth": 1
          },
          "autotypenumbers": "strict",
          "coloraxis": {
           "colorbar": {
            "outlinewidth": 0,
            "ticks": ""
           }
          },
          "colorscale": {
           "diverging": [
            [
             0,
             "#8e0152"
            ],
            [
             0.1,
             "#c51b7d"
            ],
            [
             0.2,
             "#de77ae"
            ],
            [
             0.3,
             "#f1b6da"
            ],
            [
             0.4,
             "#fde0ef"
            ],
            [
             0.5,
             "#f7f7f7"
            ],
            [
             0.6,
             "#e6f5d0"
            ],
            [
             0.7,
             "#b8e186"
            ],
            [
             0.8,
             "#7fbc41"
            ],
            [
             0.9,
             "#4d9221"
            ],
            [
             1,
             "#276419"
            ]
           ],
           "sequential": [
            [
             0,
             "#0d0887"
            ],
            [
             0.1111111111111111,
             "#46039f"
            ],
            [
             0.2222222222222222,
             "#7201a8"
            ],
            [
             0.3333333333333333,
             "#9c179e"
            ],
            [
             0.4444444444444444,
             "#bd3786"
            ],
            [
             0.5555555555555556,
             "#d8576b"
            ],
            [
             0.6666666666666666,
             "#ed7953"
            ],
            [
             0.7777777777777778,
             "#fb9f3a"
            ],
            [
             0.8888888888888888,
             "#fdca26"
            ],
            [
             1,
             "#f0f921"
            ]
           ],
           "sequentialminus": [
            [
             0,
             "#0d0887"
            ],
            [
             0.1111111111111111,
             "#46039f"
            ],
            [
             0.2222222222222222,
             "#7201a8"
            ],
            [
             0.3333333333333333,
             "#9c179e"
            ],
            [
             0.4444444444444444,
             "#bd3786"
            ],
            [
             0.5555555555555556,
             "#d8576b"
            ],
            [
             0.6666666666666666,
             "#ed7953"
            ],
            [
             0.7777777777777778,
             "#fb9f3a"
            ],
            [
             0.8888888888888888,
             "#fdca26"
            ],
            [
             1,
             "#f0f921"
            ]
           ]
          },
          "colorway": [
           "#636efa",
           "#EF553B",
           "#00cc96",
           "#ab63fa",
           "#FFA15A",
           "#19d3f3",
           "#FF6692",
           "#B6E880",
           "#FF97FF",
           "#FECB52"
          ],
          "font": {
           "color": "#2a3f5f"
          },
          "geo": {
           "bgcolor": "white",
           "lakecolor": "white",
           "landcolor": "#E5ECF6",
           "showlakes": true,
           "showland": true,
           "subunitcolor": "white"
          },
          "hoverlabel": {
           "align": "left"
          },
          "hovermode": "closest",
          "mapbox": {
           "style": "light"
          },
          "paper_bgcolor": "white",
          "plot_bgcolor": "#E5ECF6",
          "polar": {
           "angularaxis": {
            "gridcolor": "white",
            "linecolor": "white",
            "ticks": ""
           },
           "bgcolor": "#E5ECF6",
           "radialaxis": {
            "gridcolor": "white",
            "linecolor": "white",
            "ticks": ""
           }
          },
          "scene": {
           "xaxis": {
            "backgroundcolor": "#E5ECF6",
            "gridcolor": "white",
            "gridwidth": 2,
            "linecolor": "white",
            "showbackground": true,
            "ticks": "",
            "zerolinecolor": "white"
           },
           "yaxis": {
            "backgroundcolor": "#E5ECF6",
            "gridcolor": "white",
            "gridwidth": 2,
            "linecolor": "white",
            "showbackground": true,
            "ticks": "",
            "zerolinecolor": "white"
           },
           "zaxis": {
            "backgroundcolor": "#E5ECF6",
            "gridcolor": "white",
            "gridwidth": 2,
            "linecolor": "white",
            "showbackground": true,
            "ticks": "",
            "zerolinecolor": "white"
           }
          },
          "shapedefaults": {
           "line": {
            "color": "#2a3f5f"
           }
          },
          "ternary": {
           "aaxis": {
            "gridcolor": "white",
            "linecolor": "white",
            "ticks": ""
           },
           "baxis": {
            "gridcolor": "white",
            "linecolor": "white",
            "ticks": ""
           },
           "bgcolor": "#E5ECF6",
           "caxis": {
            "gridcolor": "white",
            "linecolor": "white",
            "ticks": ""
           }
          },
          "title": {
           "x": 0.05
          },
          "xaxis": {
           "automargin": true,
           "gridcolor": "white",
           "linecolor": "white",
           "ticks": "",
           "title": {
            "standoff": 15
           },
           "zerolinecolor": "white",
           "zerolinewidth": 2
          },
          "yaxis": {
           "automargin": true,
           "gridcolor": "white",
           "linecolor": "white",
           "ticks": "",
           "title": {
            "standoff": 15
           },
           "zerolinecolor": "white",
           "zerolinewidth": 2
          }
         }
        },
        "title": {
         "text": "Joular values for accept/1[java.lang.String]"
        },
        "xaxis": {
         "anchor": "y",
         "domain": [
          0,
          1
         ]
        },
        "yaxis": {
         "anchor": "x",
         "domain": [
          0,
          1
         ],
         "title": {
          "text": "value"
         }
        }
       }
      }
     },
     "metadata": {},
     "output_type": "display_data"
    },
    {
     "data": {
      "application/vnd.plotly.v1+json": {
       "config": {
        "plotlyServerURL": "https://plot.ly"
       },
       "data": [
        {
         "alignmentgroup": "True",
         "hovertemplate": "Metric=%{x}<br>Value=%{y}<extra></extra>",
         "legendgroup": "",
         "marker": {
          "color": "#636efa",
          "pattern": {
           "shape": ""
          }
         },
         "name": "",
         "offsetgroup": "",
         "orientation": "v",
         "showlegend": false,
         "textposition": "auto",
         "type": "bar",
         "x": [
          "loc",
          "fanout",
          "wmc",
          "cbo",
          "fanin",
          "cboModified"
         ],
         "xaxis": "x",
         "y": [
          19,
          5,
          4,
          2,
          0,
          5
         ],
         "yaxis": "y"
        }
       ],
       "layout": {
        "barmode": "relative",
        "legend": {
         "tracegroupgap": 0
        },
        "template": {
         "data": {
          "bar": [
           {
            "error_x": {
             "color": "#2a3f5f"
            },
            "error_y": {
             "color": "#2a3f5f"
            },
            "marker": {
             "line": {
              "color": "#E5ECF6",
              "width": 0.5
             },
             "pattern": {
              "fillmode": "overlay",
              "size": 10,
              "solidity": 0.2
             }
            },
            "type": "bar"
           }
          ],
          "barpolar": [
           {
            "marker": {
             "line": {
              "color": "#E5ECF6",
              "width": 0.5
             },
             "pattern": {
              "fillmode": "overlay",
              "size": 10,
              "solidity": 0.2
             }
            },
            "type": "barpolar"
           }
          ],
          "carpet": [
           {
            "aaxis": {
             "endlinecolor": "#2a3f5f",
             "gridcolor": "white",
             "linecolor": "white",
             "minorgridcolor": "white",
             "startlinecolor": "#2a3f5f"
            },
            "baxis": {
             "endlinecolor": "#2a3f5f",
             "gridcolor": "white",
             "linecolor": "white",
             "minorgridcolor": "white",
             "startlinecolor": "#2a3f5f"
            },
            "type": "carpet"
           }
          ],
          "choropleth": [
           {
            "colorbar": {
             "outlinewidth": 0,
             "ticks": ""
            },
            "type": "choropleth"
           }
          ],
          "contour": [
           {
            "colorbar": {
             "outlinewidth": 0,
             "ticks": ""
            },
            "colorscale": [
             [
              0,
              "#0d0887"
             ],
             [
              0.1111111111111111,
              "#46039f"
             ],
             [
              0.2222222222222222,
              "#7201a8"
             ],
             [
              0.3333333333333333,
              "#9c179e"
             ],
             [
              0.4444444444444444,
              "#bd3786"
             ],
             [
              0.5555555555555556,
              "#d8576b"
             ],
             [
              0.6666666666666666,
              "#ed7953"
             ],
             [
              0.7777777777777778,
              "#fb9f3a"
             ],
             [
              0.8888888888888888,
              "#fdca26"
             ],
             [
              1,
              "#f0f921"
             ]
            ],
            "type": "contour"
           }
          ],
          "contourcarpet": [
           {
            "colorbar": {
             "outlinewidth": 0,
             "ticks": ""
            },
            "type": "contourcarpet"
           }
          ],
          "heatmap": [
           {
            "colorbar": {
             "outlinewidth": 0,
             "ticks": ""
            },
            "colorscale": [
             [
              0,
              "#0d0887"
             ],
             [
              0.1111111111111111,
              "#46039f"
             ],
             [
              0.2222222222222222,
              "#7201a8"
             ],
             [
              0.3333333333333333,
              "#9c179e"
             ],
             [
              0.4444444444444444,
              "#bd3786"
             ],
             [
              0.5555555555555556,
              "#d8576b"
             ],
             [
              0.6666666666666666,
              "#ed7953"
             ],
             [
              0.7777777777777778,
              "#fb9f3a"
             ],
             [
              0.8888888888888888,
              "#fdca26"
             ],
             [
              1,
              "#f0f921"
             ]
            ],
            "type": "heatmap"
           }
          ],
          "heatmapgl": [
           {
            "colorbar": {
             "outlinewidth": 0,
             "ticks": ""
            },
            "colorscale": [
             [
              0,
              "#0d0887"
             ],
             [
              0.1111111111111111,
              "#46039f"
             ],
             [
              0.2222222222222222,
              "#7201a8"
             ],
             [
              0.3333333333333333,
              "#9c179e"
             ],
             [
              0.4444444444444444,
              "#bd3786"
             ],
             [
              0.5555555555555556,
              "#d8576b"
             ],
             [
              0.6666666666666666,
              "#ed7953"
             ],
             [
              0.7777777777777778,
              "#fb9f3a"
             ],
             [
              0.8888888888888888,
              "#fdca26"
             ],
             [
              1,
              "#f0f921"
             ]
            ],
            "type": "heatmapgl"
           }
          ],
          "histogram": [
           {
            "marker": {
             "pattern": {
              "fillmode": "overlay",
              "size": 10,
              "solidity": 0.2
             }
            },
            "type": "histogram"
           }
          ],
          "histogram2d": [
           {
            "colorbar": {
             "outlinewidth": 0,
             "ticks": ""
            },
            "colorscale": [
             [
              0,
              "#0d0887"
             ],
             [
              0.1111111111111111,
              "#46039f"
             ],
             [
              0.2222222222222222,
              "#7201a8"
             ],
             [
              0.3333333333333333,
              "#9c179e"
             ],
             [
              0.4444444444444444,
              "#bd3786"
             ],
             [
              0.5555555555555556,
              "#d8576b"
             ],
             [
              0.6666666666666666,
              "#ed7953"
             ],
             [
              0.7777777777777778,
              "#fb9f3a"
             ],
             [
              0.8888888888888888,
              "#fdca26"
             ],
             [
              1,
              "#f0f921"
             ]
            ],
            "type": "histogram2d"
           }
          ],
          "histogram2dcontour": [
           {
            "colorbar": {
             "outlinewidth": 0,
             "ticks": ""
            },
            "colorscale": [
             [
              0,
              "#0d0887"
             ],
             [
              0.1111111111111111,
              "#46039f"
             ],
             [
              0.2222222222222222,
              "#7201a8"
             ],
             [
              0.3333333333333333,
              "#9c179e"
             ],
             [
              0.4444444444444444,
              "#bd3786"
             ],
             [
              0.5555555555555556,
              "#d8576b"
             ],
             [
              0.6666666666666666,
              "#ed7953"
             ],
             [
              0.7777777777777778,
              "#fb9f3a"
             ],
             [
              0.8888888888888888,
              "#fdca26"
             ],
             [
              1,
              "#f0f921"
             ]
            ],
            "type": "histogram2dcontour"
           }
          ],
          "mesh3d": [
           {
            "colorbar": {
             "outlinewidth": 0,
             "ticks": ""
            },
            "type": "mesh3d"
           }
          ],
          "parcoords": [
           {
            "line": {
             "colorbar": {
              "outlinewidth": 0,
              "ticks": ""
             }
            },
            "type": "parcoords"
           }
          ],
          "pie": [
           {
            "automargin": true,
            "type": "pie"
           }
          ],
          "scatter": [
           {
            "fillpattern": {
             "fillmode": "overlay",
             "size": 10,
             "solidity": 0.2
            },
            "type": "scatter"
           }
          ],
          "scatter3d": [
           {
            "line": {
             "colorbar": {
              "outlinewidth": 0,
              "ticks": ""
             }
            },
            "marker": {
             "colorbar": {
              "outlinewidth": 0,
              "ticks": ""
             }
            },
            "type": "scatter3d"
           }
          ],
          "scattercarpet": [
           {
            "marker": {
             "colorbar": {
              "outlinewidth": 0,
              "ticks": ""
             }
            },
            "type": "scattercarpet"
           }
          ],
          "scattergeo": [
           {
            "marker": {
             "colorbar": {
              "outlinewidth": 0,
              "ticks": ""
             }
            },
            "type": "scattergeo"
           }
          ],
          "scattergl": [
           {
            "marker": {
             "colorbar": {
              "outlinewidth": 0,
              "ticks": ""
             }
            },
            "type": "scattergl"
           }
          ],
          "scattermapbox": [
           {
            "marker": {
             "colorbar": {
              "outlinewidth": 0,
              "ticks": ""
             }
            },
            "type": "scattermapbox"
           }
          ],
          "scatterpolar": [
           {
            "marker": {
             "colorbar": {
              "outlinewidth": 0,
              "ticks": ""
             }
            },
            "type": "scatterpolar"
           }
          ],
          "scatterpolargl": [
           {
            "marker": {
             "colorbar": {
              "outlinewidth": 0,
              "ticks": ""
             }
            },
            "type": "scatterpolargl"
           }
          ],
          "scatterternary": [
           {
            "marker": {
             "colorbar": {
              "outlinewidth": 0,
              "ticks": ""
             }
            },
            "type": "scatterternary"
           }
          ],
          "surface": [
           {
            "colorbar": {
             "outlinewidth": 0,
             "ticks": ""
            },
            "colorscale": [
             [
              0,
              "#0d0887"
             ],
             [
              0.1111111111111111,
              "#46039f"
             ],
             [
              0.2222222222222222,
              "#7201a8"
             ],
             [
              0.3333333333333333,
              "#9c179e"
             ],
             [
              0.4444444444444444,
              "#bd3786"
             ],
             [
              0.5555555555555556,
              "#d8576b"
             ],
             [
              0.6666666666666666,
              "#ed7953"
             ],
             [
              0.7777777777777778,
              "#fb9f3a"
             ],
             [
              0.8888888888888888,
              "#fdca26"
             ],
             [
              1,
              "#f0f921"
             ]
            ],
            "type": "surface"
           }
          ],
          "table": [
           {
            "cells": {
             "fill": {
              "color": "#EBF0F8"
             },
             "line": {
              "color": "white"
             }
            },
            "header": {
             "fill": {
              "color": "#C8D4E3"
             },
             "line": {
              "color": "white"
             }
            },
            "type": "table"
           }
          ]
         },
         "layout": {
          "annotationdefaults": {
           "arrowcolor": "#2a3f5f",
           "arrowhead": 0,
           "arrowwidth": 1
          },
          "autotypenumbers": "strict",
          "coloraxis": {
           "colorbar": {
            "outlinewidth": 0,
            "ticks": ""
           }
          },
          "colorscale": {
           "diverging": [
            [
             0,
             "#8e0152"
            ],
            [
             0.1,
             "#c51b7d"
            ],
            [
             0.2,
             "#de77ae"
            ],
            [
             0.3,
             "#f1b6da"
            ],
            [
             0.4,
             "#fde0ef"
            ],
            [
             0.5,
             "#f7f7f7"
            ],
            [
             0.6,
             "#e6f5d0"
            ],
            [
             0.7,
             "#b8e186"
            ],
            [
             0.8,
             "#7fbc41"
            ],
            [
             0.9,
             "#4d9221"
            ],
            [
             1,
             "#276419"
            ]
           ],
           "sequential": [
            [
             0,
             "#0d0887"
            ],
            [
             0.1111111111111111,
             "#46039f"
            ],
            [
             0.2222222222222222,
             "#7201a8"
            ],
            [
             0.3333333333333333,
             "#9c179e"
            ],
            [
             0.4444444444444444,
             "#bd3786"
            ],
            [
             0.5555555555555556,
             "#d8576b"
            ],
            [
             0.6666666666666666,
             "#ed7953"
            ],
            [
             0.7777777777777778,
             "#fb9f3a"
            ],
            [
             0.8888888888888888,
             "#fdca26"
            ],
            [
             1,
             "#f0f921"
            ]
           ],
           "sequentialminus": [
            [
             0,
             "#0d0887"
            ],
            [
             0.1111111111111111,
             "#46039f"
            ],
            [
             0.2222222222222222,
             "#7201a8"
            ],
            [
             0.3333333333333333,
             "#9c179e"
            ],
            [
             0.4444444444444444,
             "#bd3786"
            ],
            [
             0.5555555555555556,
             "#d8576b"
            ],
            [
             0.6666666666666666,
             "#ed7953"
            ],
            [
             0.7777777777777778,
             "#fb9f3a"
            ],
            [
             0.8888888888888888,
             "#fdca26"
            ],
            [
             1,
             "#f0f921"
            ]
           ]
          },
          "colorway": [
           "#636efa",
           "#EF553B",
           "#00cc96",
           "#ab63fa",
           "#FFA15A",
           "#19d3f3",
           "#FF6692",
           "#B6E880",
           "#FF97FF",
           "#FECB52"
          ],
          "font": {
           "color": "#2a3f5f"
          },
          "geo": {
           "bgcolor": "white",
           "lakecolor": "white",
           "landcolor": "#E5ECF6",
           "showlakes": true,
           "showland": true,
           "subunitcolor": "white"
          },
          "hoverlabel": {
           "align": "left"
          },
          "hovermode": "closest",
          "mapbox": {
           "style": "light"
          },
          "paper_bgcolor": "white",
          "plot_bgcolor": "#E5ECF6",
          "polar": {
           "angularaxis": {
            "gridcolor": "white",
            "linecolor": "white",
            "ticks": ""
           },
           "bgcolor": "#E5ECF6",
           "radialaxis": {
            "gridcolor": "white",
            "linecolor": "white",
            "ticks": ""
           }
          },
          "scene": {
           "xaxis": {
            "backgroundcolor": "#E5ECF6",
            "gridcolor": "white",
            "gridwidth": 2,
            "linecolor": "white",
            "showbackground": true,
            "ticks": "",
            "zerolinecolor": "white"
           },
           "yaxis": {
            "backgroundcolor": "#E5ECF6",
            "gridcolor": "white",
            "gridwidth": 2,
            "linecolor": "white",
            "showbackground": true,
            "ticks": "",
            "zerolinecolor": "white"
           },
           "zaxis": {
            "backgroundcolor": "#E5ECF6",
            "gridcolor": "white",
            "gridwidth": 2,
            "linecolor": "white",
            "showbackground": true,
            "ticks": "",
            "zerolinecolor": "white"
           }
          },
          "shapedefaults": {
           "line": {
            "color": "#2a3f5f"
           }
          },
          "ternary": {
           "aaxis": {
            "gridcolor": "white",
            "linecolor": "white",
            "ticks": ""
           },
           "baxis": {
            "gridcolor": "white",
            "linecolor": "white",
            "ticks": ""
           },
           "bgcolor": "#E5ECF6",
           "caxis": {
            "gridcolor": "white",
            "linecolor": "white",
            "ticks": ""
           }
          },
          "title": {
           "x": 0.05
          },
          "xaxis": {
           "automargin": true,
           "gridcolor": "white",
           "linecolor": "white",
           "ticks": "",
           "title": {
            "standoff": 15
           },
           "zerolinecolor": "white",
           "zerolinewidth": 2
          },
          "yaxis": {
           "automargin": true,
           "gridcolor": "white",
           "linecolor": "white",
           "ticks": "",
           "title": {
            "standoff": 15
           },
           "zerolinecolor": "white",
           "zerolinewidth": 2
          }
         }
        },
        "title": {
         "text": "Ck metrics for accept/1[java.lang.String]"
        },
        "xaxis": {
         "anchor": "y",
         "domain": [
          0,
          1
         ],
         "title": {
          "text": "Metric"
         }
        },
        "yaxis": {
         "anchor": "x",
         "domain": [
          0,
          1
         ],
         "title": {
          "text": "Value"
         }
        }
       }
      }
     },
     "metadata": {},
     "output_type": "display_data"
    }
   ],
   "source": [
    "createBoxplotAndBarChart(\"12442bd8c7cde6e7c006a6277eeb8e81ad0c2219\", \"method\", \"org.hibernate.tool.schema.internal.exec.GenerationTargetToDatabase\", \"accept/1[java.lang.String]\")"
   ]
  }
 ],
 "metadata": {
  "kernelspec": {
   "display_name": "Python 3 (ipykernel)",
   "language": "python",
   "name": "python3"
  },
  "language_info": {
   "codemirror_mode": {
    "name": "ipython",
    "version": 3
   },
   "file_extension": ".py",
   "mimetype": "text/x-python",
   "name": "python",
   "nbconvert_exporter": "python",
   "pygments_lexer": "ipython3",
   "version": "3.9.13"
  }
 },
 "nbformat": 4,
 "nbformat_minor": 5
}
